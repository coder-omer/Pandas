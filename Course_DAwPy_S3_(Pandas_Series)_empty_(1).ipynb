{
  "cells": [
    {
      "cell_type": "markdown",
      "metadata": {
        "id": "view-in-github",
        "colab_type": "text"
      },
      "source": [
        "<a href=\"https://colab.research.google.com/github/coder-omer/Pandas/blob/main/Course_DAwPy_S3_(Pandas_Series)_empty_(1).ipynb\" target=\"_parent\"><img src=\"https://colab.research.google.com/assets/colab-badge.svg\" alt=\"Open In Colab\"/></a>"
      ]
    },
    {
      "cell_type": "markdown",
      "metadata": {
        "id": "MkTCBtBXuPZA"
      },
      "source": [
        "___\n",
        "\n",
        "\n",
        "<p style=\"text-align: center;\"><img src=\"https://docs.google.com/uc?id=1lY0Uj5R04yMY3-ZppPWxqCr5pvBLYPnV\" class=\"img-fluid\" alt=\"Rossum\"></p>\n",
        "\n",
        "___"
      ]
    },
    {
      "cell_type": "markdown",
      "metadata": {
        "id": "9d7dyT2muPZJ"
      },
      "source": [
        "<h1><p style=\"text-align: center;\">Pandas Lesson, Session - 3</p><h1>"
      ]
    },
    {
      "cell_type": "markdown",
      "metadata": {
        "id": "3d3ak8PIUHs_"
      },
      "source": [
        "# Pandas Series"
      ]
    },
    {
      "cell_type": "code",
      "execution_count": null,
      "metadata": {
        "id": "AGsWPFXAUHs_"
      },
      "outputs": [],
      "source": [
        "import numpy as np\n",
        "import pandas as pd"
      ]
    },
    {
      "cell_type": "markdown",
      "metadata": {
        "id": "EKip1p6buPZK"
      },
      "source": [
        "## Creating a Pandas Series"
      ]
    },
    {
      "cell_type": "markdown",
      "metadata": {
        "id": "J3_1MGiPUHtC"
      },
      "source": [
        "pd.Series(data=None, index=None, dtype=None, name=None, copy=False, fastpath=False)\n",
        "\n",
        "One-dimensional ndarray with axis labels (including time series)."
      ]
    },
    {
      "cell_type": "code",
      "execution_count": null,
      "metadata": {
        "id": "8D5Wk5IQUHtC"
      },
      "outputs": [],
      "source": [
        "labels = ['a','b','c']\n",
        "my_list = [10, 20, 30]\n",
        "arr = np.array([10, 20, 30])\n",
        "d = {'a': 10, 'b': 20, 'c': 30}"
      ]
    },
    {
      "cell_type": "markdown",
      "metadata": {
        "id": "luvZ_kEyuPZS"
      },
      "source": [
        "### **Using Lists**"
      ]
    },
    {
      "cell_type": "code",
      "execution_count": null,
      "metadata": {
        "id": "WyIDfZ10UHtE",
        "outputId": "2572b0d0-3c8b-4a1a-a253-7efa05e7dcdf"
      },
      "outputs": [
        {
          "data": {
            "text/plain": [
              "0    a\n",
              "1    b\n",
              "2    c\n",
              "dtype: object"
            ]
          },
          "execution_count": 3,
          "metadata": {},
          "output_type": "execute_result"
        }
      ],
      "source": [
        "pd.Series(labels)"
      ]
    },
    {
      "cell_type": "code",
      "execution_count": null,
      "metadata": {
        "id": "aKS3CbChUHtG",
        "outputId": "5e71a615-5668-43c7-c06f-df57c02b1767"
      },
      "outputs": [
        {
          "data": {
            "text/plain": [
              "0    10\n",
              "1    20\n",
              "2    30\n",
              "dtype: int64"
            ]
          },
          "execution_count": 5,
          "metadata": {},
          "output_type": "execute_result"
        }
      ],
      "source": [
        "pd.Series(my_list)"
      ]
    },
    {
      "cell_type": "code",
      "execution_count": null,
      "metadata": {
        "id": "nahpYQNwUHtH",
        "outputId": "8700a395-2f69-42ff-85c7-ded521005ec4"
      },
      "outputs": [
        {
          "data": {
            "text/plain": [
              "0    10\n",
              "1    20\n",
              "2    30\n",
              "dtype: int64"
            ]
          },
          "execution_count": 6,
          "metadata": {},
          "output_type": "execute_result"
        }
      ],
      "source": [
        "pd.Series([10, 20, 30])"
      ]
    },
    {
      "cell_type": "markdown",
      "metadata": {
        "id": "fZrVeKTQuPZU"
      },
      "source": [
        "### **Using NumPy Arrays**"
      ]
    },
    {
      "cell_type": "code",
      "execution_count": null,
      "metadata": {
        "id": "YYjMCKCFUHtI",
        "outputId": "c5c7543b-7b56-4d25-d3d2-f0b251917249"
      },
      "outputs": [
        {
          "data": {
            "text/plain": [
              "array([10, 20, 30])"
            ]
          },
          "execution_count": 7,
          "metadata": {},
          "output_type": "execute_result"
        }
      ],
      "source": [
        "arr"
      ]
    },
    {
      "cell_type": "code",
      "execution_count": null,
      "metadata": {
        "id": "0m9AuHugUHtI",
        "outputId": "41bef59a-e891-4e60-9a1e-0c101b64a0cb"
      },
      "outputs": [
        {
          "data": {
            "text/plain": [
              "a    10\n",
              "b    20\n",
              "c    30\n",
              "dtype: int32"
            ]
          },
          "execution_count": 9,
          "metadata": {},
          "output_type": "execute_result"
        }
      ],
      "source": [
        "pd.Series(data=arr, index=labels)"
      ]
    },
    {
      "cell_type": "markdown",
      "metadata": {
        "id": "fwWpvqTbuPZV"
      },
      "source": [
        "### **Using Dictionary**"
      ]
    },
    {
      "cell_type": "code",
      "execution_count": null,
      "metadata": {
        "id": "EYIsF7_DUHtJ",
        "outputId": "ba2f354f-453f-4d7a-b148-b1f5db4f0884"
      },
      "outputs": [
        {
          "data": {
            "text/plain": [
              "{'a': 10, 'b': 20, 'c': 30}"
            ]
          },
          "execution_count": 10,
          "metadata": {},
          "output_type": "execute_result"
        }
      ],
      "source": [
        "d"
      ]
    },
    {
      "cell_type": "code",
      "execution_count": null,
      "metadata": {
        "id": "-FeB2wmIUHtK",
        "outputId": "bc0241bc-3d0b-44d8-b309-e3733adf688e"
      },
      "outputs": [
        {
          "data": {
            "text/plain": [
              "a    10\n",
              "b    20\n",
              "c    30\n",
              "dtype: int64"
            ]
          },
          "execution_count": 11,
          "metadata": {},
          "output_type": "execute_result"
        }
      ],
      "source": [
        "pd.Series(d)"
      ]
    },
    {
      "cell_type": "code",
      "execution_count": null,
      "metadata": {
        "id": "qGbVagggUHtK",
        "outputId": "f27d1500-e245-4d93-845a-4ac0d5241455"
      },
      "outputs": [
        {
          "data": {
            "text/plain": [
              "q     NaN\n",
              "c    30.0\n",
              "y     NaN\n",
              "dtype: float64"
            ]
          },
          "execution_count": 12,
          "metadata": {},
          "output_type": "execute_result"
        }
      ],
      "source": [
        "pd.Series(d, index=[\"q\", \"c\", \"y\"])"
      ]
    },
    {
      "cell_type": "markdown",
      "metadata": {
        "id": "RyI7vWDgUHtL"
      },
      "source": [
        "### Using Scalar Value"
      ]
    },
    {
      "cell_type": "code",
      "execution_count": null,
      "metadata": {
        "id": "yCH-I_l_UHtL",
        "outputId": "97cc0a7b-33ca-4c84-faf4-ffc5c5f39db7"
      },
      "outputs": [
        {
          "data": {
            "text/plain": [
              "0    Ahmet\n",
              "dtype: object"
            ]
          },
          "execution_count": 13,
          "metadata": {},
          "output_type": "execute_result"
        }
      ],
      "source": [
        "pd.Series(data=\"Ahmet\")"
      ]
    },
    {
      "cell_type": "code",
      "execution_count": null,
      "metadata": {
        "id": "J99AuieTUHtM",
        "outputId": "46c8e411-6ec4-4407-bd4d-0723dc6484b4"
      },
      "outputs": [
        {
          "data": {
            "text/plain": [
              "1    Ahmet\n",
              "2    Ahmet\n",
              "3    Ahmet\n",
              "4    Ahmet\n",
              "dtype: object"
            ]
          },
          "execution_count": 14,
          "metadata": {},
          "output_type": "execute_result"
        }
      ],
      "source": [
        "pd.Series(data=\"Ahmet\", index=range(1,5))"
      ]
    },
    {
      "cell_type": "markdown",
      "metadata": {
        "id": "zK1CZtLouPZV"
      },
      "source": [
        "### Data in a Series\n",
        "\n",
        "A pandas Series can hold a variety of object types:"
      ]
    },
    {
      "cell_type": "code",
      "execution_count": null,
      "metadata": {
        "id": "8hQHKc4EUHtM",
        "outputId": "8a989be0-3116-4566-b721-360327e6d3d4"
      },
      "outputs": [
        {
          "data": {
            "text/plain": [
              "0     <class 'set'>\n",
              "1    <class 'list'>\n",
              "2    <class 'dict'>\n",
              "dtype: object"
            ]
          },
          "execution_count": 20,
          "metadata": {},
          "output_type": "execute_result"
        }
      ],
      "source": [
        "pd.Series([set, list, dict])"
      ]
    },
    {
      "cell_type": "code",
      "execution_count": null,
      "metadata": {
        "id": "fUh_pC1kUHtN",
        "outputId": "5220ef34-e963-4781-f309-9b90c079d21d"
      },
      "outputs": [
        {
          "data": {
            "text/plain": [
              "{2, 5, 7, 8}"
            ]
          },
          "execution_count": 23,
          "metadata": {},
          "output_type": "execute_result"
        }
      ],
      "source": [
        "pd.Series([set, list, dict])[0]([2,5,7,5,8,2])"
      ]
    },
    {
      "cell_type": "code",
      "execution_count": null,
      "metadata": {
        "id": "JCKtAUyLUHtN",
        "outputId": "f305e720-c4f5-47a6-8c0a-378f125a4222"
      },
      "outputs": [
        {
          "data": {
            "text/plain": [
              "{'sape': 4139, 'guido': 4127, 'jack': 4098}"
            ]
          },
          "execution_count": 39,
          "metadata": {},
          "output_type": "execute_result"
        }
      ],
      "source": [
        "pd.Series([set, list, dict])[2]([('sape', 4139), ('guido', 4127), ('jack', 4098)])"
      ]
    },
    {
      "cell_type": "code",
      "execution_count": null,
      "metadata": {
        "id": "Um2JmAh8UHtO",
        "outputId": "4c033f65-523c-4232-80a6-6e201d3b31dd"
      },
      "outputs": [
        {
          "data": {
            "text/plain": [
              "0      <built-in function sum>\n",
              "1    <built-in function print>\n",
              "2      <built-in function len>\n",
              "dtype: object"
            ]
          },
          "execution_count": 24,
          "metadata": {},
          "output_type": "execute_result"
        }
      ],
      "source": [
        "pd.Series([sum, print, len])"
      ]
    },
    {
      "cell_type": "code",
      "execution_count": null,
      "metadata": {
        "id": "QW49Rox0UHtO",
        "outputId": "88337620-250d-450e-c11d-541f7b35f0da"
      },
      "outputs": [
        {
          "data": {
            "text/plain": [
              "15"
            ]
          },
          "execution_count": 25,
          "metadata": {},
          "output_type": "execute_result"
        }
      ],
      "source": [
        "pd.Series([sum, print, len])[0]([3,5,7])"
      ]
    },
    {
      "cell_type": "code",
      "execution_count": null,
      "metadata": {
        "id": "WpTHtVXMUHtO"
      },
      "outputs": [],
      "source": [
        "mix_data = ['Aziz', 2, True]"
      ]
    },
    {
      "cell_type": "code",
      "execution_count": null,
      "metadata": {
        "id": "H_xu8vmCUHtP",
        "outputId": "aa10031d-3050-49d6-f7f5-55d44ff068d8"
      },
      "outputs": [
        {
          "data": {
            "text/plain": [
              "0    Aziz\n",
              "1       2\n",
              "2    True\n",
              "dtype: object"
            ]
          },
          "execution_count": 28,
          "metadata": {},
          "output_type": "execute_result"
        }
      ],
      "source": [
        "ser = pd.Series(mix_data)\n",
        "ser"
      ]
    },
    {
      "cell_type": "code",
      "execution_count": null,
      "metadata": {
        "id": "b9KgfhINUHtP",
        "outputId": "30d77386-d431-4478-e79e-2ade7e5c4b95"
      },
      "outputs": [
        {
          "data": {
            "text/plain": [
              "dtype('O')"
            ]
          },
          "execution_count": 29,
          "metadata": {},
          "output_type": "execute_result"
        }
      ],
      "source": [
        "ser.dtype"
      ]
    },
    {
      "cell_type": "code",
      "execution_count": null,
      "metadata": {
        "id": "3mSpEK-wUHtP",
        "outputId": "e454f661-2fd6-4997-e5ab-07a66fb950d1"
      },
      "outputs": [
        {
          "data": {
            "text/plain": [
              "pandas.core.series.Series"
            ]
          },
          "execution_count": 30,
          "metadata": {},
          "output_type": "execute_result"
        }
      ],
      "source": [
        "type(ser)"
      ]
    },
    {
      "cell_type": "code",
      "execution_count": null,
      "metadata": {
        "id": "o0Lm1jHkUHtQ",
        "outputId": "2608f662-34ba-4c3e-9032-50c082ddf6ef"
      },
      "outputs": [
        {
          "data": {
            "text/plain": [
              "bool"
            ]
          },
          "execution_count": 33,
          "metadata": {},
          "output_type": "execute_result"
        }
      ],
      "source": [
        "type(ser[2])"
      ]
    },
    {
      "cell_type": "code",
      "execution_count": null,
      "metadata": {
        "id": "STcs_7wgUHtQ",
        "outputId": "2cd11318-b989-438f-b510-8513223cdc2c"
      },
      "outputs": [
        {
          "data": {
            "text/plain": [
              "array(['Aziz', '2', 'True'], dtype='<U4')"
            ]
          },
          "execution_count": 35,
          "metadata": {},
          "output_type": "execute_result"
        }
      ],
      "source": [
        "arr = np.array(mix_data)\n",
        "arr"
      ]
    },
    {
      "cell_type": "code",
      "execution_count": null,
      "metadata": {
        "id": "lJugwe5PUHtQ",
        "outputId": "cd8f2e78-cc71-4b7f-9c68-4e6314d0003a"
      },
      "outputs": [
        {
          "data": {
            "text/plain": [
              "numpy.str_"
            ]
          },
          "execution_count": 38,
          "metadata": {},
          "output_type": "execute_result"
        }
      ],
      "source": [
        "type(arr[2])"
      ]
    },
    {
      "cell_type": "markdown",
      "metadata": {
        "id": "J8eBxuBNuPZM"
      },
      "source": [
        "### Basic Attributes of Series"
      ]
    },
    {
      "cell_type": "code",
      "execution_count": null,
      "metadata": {
        "id": "0ZzhcRXkUHtR",
        "outputId": "4554108f-5cc3-4867-8de3-8d5791c3779b"
      },
      "outputs": [
        {
          "data": {
            "text/plain": [
              "0    18\n",
              "1    66\n",
              "2    19\n",
              "3    69\n",
              "4    48\n",
              "5    20\n",
              "6    78\n",
              "dtype: int32"
            ]
          },
          "execution_count": 40,
          "metadata": {},
          "output_type": "execute_result"
        }
      ],
      "source": [
        "ser = pd.Series(np.random.randint(0,100,7))\n",
        "ser"
      ]
    },
    {
      "cell_type": "code",
      "execution_count": null,
      "metadata": {
        "id": "dE_ziQfKUHtR",
        "outputId": "9a2f9294-3bf5-444b-c75f-5e2f54946a1a"
      },
      "outputs": [
        {
          "data": {
            "text/plain": [
              "dtype('int32')"
            ]
          },
          "execution_count": 41,
          "metadata": {},
          "output_type": "execute_result"
        }
      ],
      "source": [
        "ser.dtype"
      ]
    },
    {
      "cell_type": "code",
      "execution_count": null,
      "metadata": {
        "id": "e66HqoTXUHtR",
        "outputId": "2e3a30c3-4f76-44bf-e456-08bf019bf1f6"
      },
      "outputs": [
        {
          "data": {
            "text/plain": [
              "pandas.core.series.Series"
            ]
          },
          "execution_count": 42,
          "metadata": {},
          "output_type": "execute_result"
        }
      ],
      "source": [
        "type(ser)"
      ]
    },
    {
      "cell_type": "code",
      "execution_count": null,
      "metadata": {
        "id": "ANxaLSK5UHtS",
        "outputId": "75e19b6e-f66c-4082-f5a7-b442f9677708"
      },
      "outputs": [
        {
          "data": {
            "text/plain": [
              "(7,)"
            ]
          },
          "execution_count": 43,
          "metadata": {},
          "output_type": "execute_result"
        }
      ],
      "source": [
        "ser.shape"
      ]
    },
    {
      "cell_type": "code",
      "execution_count": null,
      "metadata": {
        "id": "JaDryR97UHtS",
        "outputId": "c68d40f6-610e-4529-9a34-13e928155845"
      },
      "outputs": [
        {
          "data": {
            "text/plain": [
              "7"
            ]
          },
          "execution_count": 44,
          "metadata": {},
          "output_type": "execute_result"
        }
      ],
      "source": [
        "ser.size"
      ]
    },
    {
      "cell_type": "code",
      "execution_count": null,
      "metadata": {
        "id": "ka-Y8ZD9UHtS",
        "outputId": "6deddb91-56f7-4b36-a8f2-108fe0e689b7"
      },
      "outputs": [
        {
          "data": {
            "text/plain": [
              "7"
            ]
          },
          "execution_count": 45,
          "metadata": {},
          "output_type": "execute_result"
        }
      ],
      "source": [
        "len(ser)"
      ]
    },
    {
      "cell_type": "code",
      "execution_count": null,
      "metadata": {
        "id": "1phPZf1JUHtS",
        "outputId": "c48ad836-c706-4fb0-952f-a2b3a6a48bea"
      },
      "outputs": [
        {
          "data": {
            "text/plain": [
              "1"
            ]
          },
          "execution_count": 46,
          "metadata": {},
          "output_type": "execute_result"
        }
      ],
      "source": [
        "ser.ndim"
      ]
    },
    {
      "cell_type": "code",
      "execution_count": null,
      "metadata": {
        "id": "TzjHm3jJUHtT",
        "outputId": "0331eb85-a575-48a9-973c-f9778c2ca67c"
      },
      "outputs": [
        {
          "data": {
            "text/plain": [
              "RangeIndex(start=0, stop=7, step=1)"
            ]
          },
          "execution_count": 47,
          "metadata": {},
          "output_type": "execute_result"
        }
      ],
      "source": [
        "ser.index"
      ]
    },
    {
      "cell_type": "code",
      "execution_count": null,
      "metadata": {
        "id": "FLa9_9kFUHtT",
        "outputId": "70a3833e-472c-4ec4-a961-f3eee2335dcf"
      },
      "outputs": [
        {
          "data": {
            "text/plain": [
              "[0, 1, 2, 3, 4, 5, 6]"
            ]
          },
          "execution_count": 48,
          "metadata": {},
          "output_type": "execute_result"
        }
      ],
      "source": [
        "list(ser.index)"
      ]
    },
    {
      "cell_type": "code",
      "execution_count": null,
      "metadata": {
        "id": "Ksr-dyEUUHtT",
        "outputId": "61695caf-b8b5-4f84-d6fd-e52747620a09"
      },
      "outputs": [
        {
          "name": "stdout",
          "output_type": "stream",
          "text": [
            "0\n",
            "1\n",
            "2\n",
            "3\n",
            "4\n",
            "5\n",
            "6\n"
          ]
        }
      ],
      "source": [
        "for i in ser.index:\n",
        "    print(i)"
      ]
    },
    {
      "cell_type": "code",
      "execution_count": null,
      "metadata": {
        "id": "QhdQvFE4UHtT",
        "outputId": "e4d17637-da60-4529-e18f-7bed5dddf4a9"
      },
      "outputs": [
        {
          "data": {
            "text/plain": [
              "RangeIndex(start=0, stop=7, step=1)"
            ]
          },
          "execution_count": 54,
          "metadata": {},
          "output_type": "execute_result"
        }
      ],
      "source": [
        "ser.keys()"
      ]
    },
    {
      "cell_type": "code",
      "execution_count": null,
      "metadata": {
        "id": "FRTgOKzfUHtU",
        "outputId": "8bcacd51-86b0-487e-e89f-f99474048fc3"
      },
      "outputs": [
        {
          "data": {
            "text/plain": [
              "array([18, 66, 19, 69, 48, 20, 78])"
            ]
          },
          "execution_count": 55,
          "metadata": {},
          "output_type": "execute_result"
        }
      ],
      "source": [
        "ser.values"
      ]
    },
    {
      "cell_type": "code",
      "execution_count": null,
      "metadata": {
        "id": "iJlq4rQAUHtU",
        "outputId": "1e4d44ba-7ecd-4396-d2e2-fa93dc2cabd7"
      },
      "outputs": [
        {
          "data": {
            "text/plain": [
              "<zip at 0x1d4fd339fc8>"
            ]
          },
          "execution_count": 59,
          "metadata": {},
          "output_type": "execute_result"
        }
      ],
      "source": [
        "ser.items()"
      ]
    },
    {
      "cell_type": "code",
      "execution_count": null,
      "metadata": {
        "id": "mAijjgAdUHtU",
        "outputId": "1326c2ba-8c4f-42e7-d03a-ab04564c9b93"
      },
      "outputs": [
        {
          "data": {
            "text/plain": [
              "[(0, 18), (1, 66), (2, 19), (3, 69), (4, 48), (5, 20), (6, 78)]"
            ]
          },
          "execution_count": 60,
          "metadata": {},
          "output_type": "execute_result"
        }
      ],
      "source": [
        "list(ser.items())"
      ]
    },
    {
      "cell_type": "code",
      "execution_count": null,
      "metadata": {
        "id": "d9xcewVNUHtV",
        "outputId": "93de3af6-978a-44a0-b0a0-bd39a9e50e02"
      },
      "outputs": [
        {
          "name": "stdout",
          "output_type": "stream",
          "text": [
            "index: 0, value: 18\n",
            "index: 1, value: 66\n",
            "index: 2, value: 19\n",
            "index: 3, value: 69\n",
            "index: 4, value: 48\n",
            "index: 5, value: 20\n",
            "index: 6, value: 78\n"
          ]
        }
      ],
      "source": [
        "for index, value in ser.items():\n",
        "    print(f\"index: {index}, value: {value}\")"
      ]
    },
    {
      "cell_type": "code",
      "execution_count": null,
      "metadata": {
        "id": "hG-nPxCPUHtV",
        "outputId": "02f75a44-665b-4f0d-ae80-88ea0878dcf4"
      },
      "outputs": [
        {
          "data": {
            "text/plain": [
              "['c', 'b', 'a', 'e', 'f', 'd', 'g', 'i', 'h', 'j']"
            ]
          },
          "execution_count": 63,
          "metadata": {},
          "output_type": "execute_result"
        }
      ],
      "source": [
        "[i for i in \"cbaefdgihj\"]"
      ]
    },
    {
      "cell_type": "code",
      "execution_count": null,
      "metadata": {
        "id": "gTlJVt5-UHtV",
        "outputId": "7e0b2204-5347-4229-9df8-7e0304b4136e"
      },
      "outputs": [
        {
          "data": {
            "text/plain": [
              "c    20\n",
              "b     8\n",
              "a    15\n",
              "e     2\n",
              "f    22\n",
              "d    24\n",
              "g    24\n",
              "i     3\n",
              "h     6\n",
              "j     3\n",
              "dtype: int32"
            ]
          },
          "execution_count": 62,
          "metadata": {},
          "output_type": "execute_result"
        }
      ],
      "source": [
        "ser = pd.Series(data = np.random.randint(0,25,10), index = [i for i in \"cbaefdgihj\"])\n",
        "ser"
      ]
    },
    {
      "cell_type": "code",
      "execution_count": null,
      "metadata": {
        "id": "0X4oY0UjUHtW",
        "outputId": "40682804-6258-44b5-b0e8-6cb50dde4419"
      },
      "outputs": [
        {
          "data": {
            "text/plain": [
              "c    20\n",
              "b     8\n",
              "a    15\n",
              "e     2\n",
              "f    22\n",
              "dtype: int32"
            ]
          },
          "execution_count": 64,
          "metadata": {},
          "output_type": "execute_result"
        }
      ],
      "source": [
        "ser.head()"
      ]
    },
    {
      "cell_type": "code",
      "execution_count": null,
      "metadata": {
        "id": "iIeeVX2tUHtW",
        "outputId": "f4244a52-4419-4fff-d273-8316ca15ee33"
      },
      "outputs": [
        {
          "data": {
            "text/plain": [
              "d    24\n",
              "g    24\n",
              "i     3\n",
              "h     6\n",
              "j     3\n",
              "dtype: int32"
            ]
          },
          "execution_count": 65,
          "metadata": {},
          "output_type": "execute_result"
        }
      ],
      "source": [
        "ser.tail()"
      ]
    },
    {
      "cell_type": "code",
      "execution_count": null,
      "metadata": {
        "id": "gaslSUAQUHtW",
        "outputId": "a8065779-0889-453f-b031-59d454d5b535"
      },
      "outputs": [
        {
          "data": {
            "text/plain": [
              "a    15\n",
              "f    22\n",
              "h     6\n",
              "dtype: int32"
            ]
          },
          "execution_count": 67,
          "metadata": {},
          "output_type": "execute_result"
        }
      ],
      "source": [
        "ser.sample(3)"
      ]
    },
    {
      "cell_type": "code",
      "execution_count": null,
      "metadata": {
        "id": "Rkrdq6_1UHtW",
        "outputId": "5df32a40-1e5c-4214-9cae-fb4b90795e8a"
      },
      "outputs": [
        {
          "data": {
            "text/plain": [
              "a    15\n",
              "b     8\n",
              "c    20\n",
              "d    24\n",
              "e     2\n",
              "f    22\n",
              "g    24\n",
              "h     6\n",
              "i     3\n",
              "j     3\n",
              "dtype: int32"
            ]
          },
          "execution_count": 69,
          "metadata": {},
          "output_type": "execute_result"
        }
      ],
      "source": [
        "ser.sort_index(ascending=True)"
      ]
    },
    {
      "cell_type": "code",
      "execution_count": null,
      "metadata": {
        "id": "UAdfH9T5UHtX",
        "outputId": "6993d131-a5f4-4ff5-df06-db206f12f2e5"
      },
      "outputs": [
        {
          "data": {
            "text/plain": [
              "d    24\n",
              "g    24\n",
              "f    22\n",
              "c    20\n",
              "a    15\n",
              "b     8\n",
              "h     6\n",
              "i     3\n",
              "j     3\n",
              "e     2\n",
              "dtype: int32"
            ]
          },
          "execution_count": 70,
          "metadata": {},
          "output_type": "execute_result"
        }
      ],
      "source": [
        "ser.sort_values(ascending=False)"
      ]
    },
    {
      "cell_type": "code",
      "execution_count": null,
      "metadata": {
        "id": "zk26w33lUHtX",
        "outputId": "88e4ccd9-13ec-4784-9a88-0decb991d3b1"
      },
      "outputs": [
        {
          "data": {
            "text/plain": [
              "c    20\n",
              "b     8\n",
              "a    15\n",
              "e     2\n",
              "f    22\n",
              "d    24\n",
              "g    24\n",
              "i     3\n",
              "h     6\n",
              "j     3\n",
              "dtype: int32"
            ]
          },
          "execution_count": 71,
          "metadata": {},
          "output_type": "execute_result"
        }
      ],
      "source": [
        "ser"
      ]
    },
    {
      "cell_type": "code",
      "execution_count": null,
      "metadata": {
        "id": "YbWECm6wUHtX",
        "outputId": "04f1f319-4336-425e-9515-38f163c6ff7e"
      },
      "outputs": [
        {
          "data": {
            "text/plain": [
              "c    False\n",
              "b     True\n",
              "a    False\n",
              "e    False\n",
              "f    False\n",
              "d    False\n",
              "g    False\n",
              "i     True\n",
              "h    False\n",
              "j     True\n",
              "dtype: bool"
            ]
          },
          "execution_count": 73,
          "metadata": {},
          "output_type": "execute_result"
        }
      ],
      "source": [
        "ser.isin([3,8])"
      ]
    },
    {
      "cell_type": "code",
      "execution_count": null,
      "metadata": {
        "id": "K66CQDEUUHtX",
        "outputId": "97c2fe38-22d7-46ca-d701-f0ac674d33e7"
      },
      "outputs": [
        {
          "data": {
            "text/plain": [
              "0    c\n",
              "1    l\n",
              "2    a\n",
              "3    r\n",
              "4    u\n",
              "5    s\n",
              "6    w\n",
              "7    a\n",
              "8    y\n",
              "dtype: object"
            ]
          },
          "execution_count": 74,
          "metadata": {},
          "output_type": "execute_result"
        }
      ],
      "source": [
        "pd.Series([i for i in \"clarusway\"])"
      ]
    },
    {
      "cell_type": "markdown",
      "metadata": {
        "id": "LLA4QNehuPZb"
      },
      "source": [
        "## Indexing Pandas Series\n",
        "\n",
        "The key to using a Series is understanding its index. Pandas makes use of these index names or numbers by allowing for fast look up of information.\n",
        "\n",
        "Let's see some examples of how to grab information from a Series. Let us create two sereis, ser1 and ser2:"
      ]
    },
    {
      "cell_type": "code",
      "execution_count": null,
      "metadata": {
        "id": "WH7Z_D_KUHtY"
      },
      "outputs": [],
      "source": [
        "ser1 = pd.Series([1,2,3,4],index = ['USA', 'Germany','USSR', 'Japan'])                      \n",
        "ser2 = pd.Series([1,2,5,4],index = ['USA', 'Germany','Italy', 'Japan'])"
      ]
    },
    {
      "cell_type": "code",
      "execution_count": null,
      "metadata": {
        "id": "O5tdWyBVUHtY",
        "outputId": "ac2b4e94-de98-4f33-bbbd-835f42e7edaf"
      },
      "outputs": [
        {
          "data": {
            "text/plain": [
              "USA        1\n",
              "Germany    2\n",
              "USSR       3\n",
              "Japan      4\n",
              "dtype: int64"
            ]
          },
          "execution_count": 84,
          "metadata": {},
          "output_type": "execute_result"
        }
      ],
      "source": [
        "ser1"
      ]
    },
    {
      "cell_type": "code",
      "execution_count": null,
      "metadata": {
        "id": "2UlZ63urUHtZ",
        "outputId": "4bb30bec-0753-464a-923f-499b5e3e731c"
      },
      "outputs": [
        {
          "data": {
            "text/plain": [
              "USA        1\n",
              "Germany    2\n",
              "Italy      5\n",
              "Japan      4\n",
              "dtype: int64"
            ]
          },
          "execution_count": 85,
          "metadata": {},
          "output_type": "execute_result"
        }
      ],
      "source": [
        "ser2"
      ]
    },
    {
      "cell_type": "code",
      "execution_count": null,
      "metadata": {
        "id": "b4xA_FjIUHtZ",
        "outputId": "9359e1f7-5631-48cf-f76c-e603f5d4ecf9"
      },
      "outputs": [
        {
          "data": {
            "text/plain": [
              "Germany    2\n",
              "Japan      4\n",
              "USA        1\n",
              "USSR       3\n",
              "dtype: int64"
            ]
          },
          "execution_count": 78,
          "metadata": {},
          "output_type": "execute_result"
        }
      ],
      "source": [
        "ser1.sort_index()"
      ]
    },
    {
      "cell_type": "code",
      "execution_count": null,
      "metadata": {
        "id": "h-Ulf6DGUHtZ",
        "outputId": "d90970aa-68e9-4bfc-8507-be6e2f5c52d5"
      },
      "outputs": [
        {
          "data": {
            "text/plain": [
              "USA        1\n",
              "Germany    2\n",
              "Japan      4\n",
              "Italy      5\n",
              "dtype: int64"
            ]
          },
          "execution_count": 86,
          "metadata": {},
          "output_type": "execute_result"
        }
      ],
      "source": [
        "ser2.sort_values()"
      ]
    },
    {
      "cell_type": "code",
      "execution_count": null,
      "metadata": {
        "id": "MTaWSF4lUHtZ",
        "outputId": "72371fea-7f0d-47fa-8ad5-ce646681fd13"
      },
      "outputs": [
        {
          "data": {
            "text/plain": [
              "2"
            ]
          },
          "execution_count": 87,
          "metadata": {},
          "output_type": "execute_result"
        }
      ],
      "source": [
        "ser1[1]"
      ]
    },
    {
      "cell_type": "code",
      "execution_count": null,
      "metadata": {
        "id": "sdA_VI7VUHta",
        "outputId": "de144779-4d22-4afc-95cb-4c27e54d1657"
      },
      "outputs": [
        {
          "data": {
            "text/plain": [
              "2"
            ]
          },
          "execution_count": 88,
          "metadata": {},
          "output_type": "execute_result"
        }
      ],
      "source": [
        "ser1[\"Germany\"]"
      ]
    },
    {
      "cell_type": "code",
      "execution_count": null,
      "metadata": {
        "id": "yakOjljdUHta",
        "outputId": "ab83a9f9-e693-4475-afb1-7a69b20185b8"
      },
      "outputs": [
        {
          "data": {
            "text/plain": [
              "2"
            ]
          },
          "execution_count": 89,
          "metadata": {},
          "output_type": "execute_result"
        }
      ],
      "source": [
        "ser1.Germany"
      ]
    },
    {
      "cell_type": "markdown",
      "metadata": {
        "id": "FuAlZSDAuPZd"
      },
      "source": [
        "Operations are then also done based off of index:"
      ]
    },
    {
      "cell_type": "code",
      "execution_count": null,
      "metadata": {
        "id": "Qu5lh8HpUHta",
        "outputId": "4230cb61-117a-42b6-db22-75fd508e3353"
      },
      "outputs": [
        {
          "data": {
            "text/plain": [
              "Germany    4.0\n",
              "Italy      NaN\n",
              "Japan      8.0\n",
              "USA        2.0\n",
              "USSR       NaN\n",
              "dtype: float64"
            ]
          },
          "execution_count": 91,
          "metadata": {},
          "output_type": "execute_result"
        }
      ],
      "source": [
        "ser1 + ser2"
      ]
    },
    {
      "cell_type": "code",
      "execution_count": null,
      "metadata": {
        "id": "T76-LarjUHtb",
        "outputId": "700caa5f-8125-43dc-96b3-3fca929f659c"
      },
      "outputs": [
        {
          "data": {
            "text/plain": [
              "0    a\n",
              "1    b\n",
              "2    c\n",
              "3    d\n",
              "dtype: object"
            ]
          },
          "execution_count": 92,
          "metadata": {},
          "output_type": "execute_result"
        }
      ],
      "source": [
        "ser3 = pd.Series(data = [\"a\", \"b\", \"c\", \"d\"])\n",
        "ser3"
      ]
    },
    {
      "cell_type": "code",
      "execution_count": null,
      "metadata": {
        "id": "wS1fr40LUHtb",
        "outputId": "3859c48a-6b43-404d-a1c0-324bbcbfab65"
      },
      "outputs": [
        {
          "data": {
            "text/plain": [
              "'a'"
            ]
          },
          "execution_count": 93,
          "metadata": {},
          "output_type": "execute_result"
        }
      ],
      "source": [
        "ser3[0]"
      ]
    },
    {
      "cell_type": "code",
      "execution_count": null,
      "metadata": {
        "id": "Cpvx0XtJUHtb",
        "outputId": "6096c5f4-48b7-4c4b-be74-d3887b866734"
      },
      "outputs": [
        {
          "data": {
            "text/plain": [
              "0    a\n",
              "1    b\n",
              "dtype: object"
            ]
          },
          "execution_count": 94,
          "metadata": {},
          "output_type": "execute_result"
        }
      ],
      "source": [
        "ser3[:2]"
      ]
    },
    {
      "cell_type": "code",
      "execution_count": null,
      "metadata": {
        "id": "3FbJ-aJZUHtb",
        "outputId": "24e120b6-37be-4b2a-91a8-89add919f742"
      },
      "outputs": [
        {
          "data": {
            "text/plain": [
              "3    d\n",
              "2    c\n",
              "1    b\n",
              "0    a\n",
              "dtype: object"
            ]
          },
          "execution_count": 95,
          "metadata": {},
          "output_type": "execute_result"
        }
      ],
      "source": [
        "ser3[::-1]"
      ]
    },
    {
      "cell_type": "markdown",
      "metadata": {
        "id": "eVwKimYvuPZf"
      },
      "source": [
        "### pandas_series[index] | pandas_series[[indices, indices...]]"
      ]
    },
    {
      "cell_type": "code",
      "execution_count": null,
      "metadata": {
        "id": "6g-9EjryUHtc",
        "outputId": "19bf863b-ab16-4324-e525-0004761544eb"
      },
      "outputs": [
        {
          "data": {
            "text/plain": [
              "terry      121\n",
              "micheal    200\n",
              "orion      150\n",
              "jason       99\n",
              "dtype: int64"
            ]
          },
          "execution_count": 96,
          "metadata": {},
          "output_type": "execute_result"
        }
      ],
      "source": [
        "panser = pd.Series(data = [121, 200, 150, 99], index = [\"terry\", \"micheal\", \"orion\", \"jason\"])\n",
        "panser"
      ]
    },
    {
      "cell_type": "code",
      "execution_count": null,
      "metadata": {
        "id": "vjvachfLUHtc",
        "outputId": "1e1d5a8f-d218-4dde-bed5-6e3f13fd9fe6"
      },
      "outputs": [
        {
          "data": {
            "text/plain": [
              "terry    121\n",
              "orion    150\n",
              "dtype: int64"
            ]
          },
          "execution_count": 97,
          "metadata": {},
          "output_type": "execute_result"
        }
      ],
      "source": [
        "panser[[\"terry\", \"orion\"]]"
      ]
    },
    {
      "cell_type": "code",
      "execution_count": null,
      "metadata": {
        "id": "n-MULuf-UHtc",
        "outputId": "e7c66498-a6dd-4514-a923-84a90936aaf5"
      },
      "outputs": [
        {
          "data": {
            "text/plain": [
              "terry      121\n",
              "micheal    200\n",
              "orion      150\n",
              "dtype: int64"
            ]
          },
          "execution_count": 98,
          "metadata": {},
          "output_type": "execute_result"
        }
      ],
      "source": [
        "panser[\"terry\" : \"orion\"]"
      ]
    },
    {
      "cell_type": "code",
      "execution_count": null,
      "metadata": {
        "id": "bnymMp0CUHtd",
        "outputId": "a4cc9f29-a17d-4917-fd3f-1164a848e50a"
      },
      "outputs": [
        {
          "data": {
            "text/plain": [
              "terry      121\n",
              "micheal    200\n",
              "orion      150\n",
              "dtype: int64"
            ]
          },
          "execution_count": 99,
          "metadata": {},
          "output_type": "execute_result"
        }
      ],
      "source": [
        "panser[0:3]"
      ]
    },
    {
      "cell_type": "markdown",
      "metadata": {
        "id": "fVhSe_tfuPZh"
      },
      "source": [
        "### Recap for Several Selecting Attributes and Some New Attributes"
      ]
    },
    {
      "cell_type": "code",
      "execution_count": null,
      "metadata": {
        "id": "FFoKMb3yUHtd",
        "outputId": "e7fd6be7-b00d-4a3a-fc8a-650977745680"
      },
      "outputs": [
        {
          "data": {
            "text/plain": [
              "terry      121\n",
              "micheal    200\n",
              "orion      150\n",
              "jason       99\n",
              "dtype: int64"
            ]
          },
          "execution_count": 100,
          "metadata": {},
          "output_type": "execute_result"
        }
      ],
      "source": [
        "panser"
      ]
    },
    {
      "cell_type": "code",
      "execution_count": null,
      "metadata": {
        "id": "Rr6k87ZZUHtd",
        "outputId": "f3061ac1-6f08-4762-d034-064ce1c685f5"
      },
      "outputs": [
        {
          "data": {
            "text/plain": [
              "Index(['terry', 'micheal', 'orion', 'jason'], dtype='object')"
            ]
          },
          "execution_count": 101,
          "metadata": {},
          "output_type": "execute_result"
        }
      ],
      "source": [
        "panser.keys()"
      ]
    },
    {
      "cell_type": "code",
      "execution_count": null,
      "metadata": {
        "id": "82cOotgEUHte",
        "outputId": "1445137e-10f2-4fa4-eb1f-493040339413"
      },
      "outputs": [
        {
          "data": {
            "text/plain": [
              "Index(['terry', 'micheal', 'orion', 'jason'], dtype='object')"
            ]
          },
          "execution_count": 102,
          "metadata": {},
          "output_type": "execute_result"
        }
      ],
      "source": [
        "panser.index"
      ]
    },
    {
      "cell_type": "code",
      "execution_count": null,
      "metadata": {
        "id": "WQXxSRlOUHte",
        "outputId": "1782fae0-2913-45b8-9f40-6939e620a1ed"
      },
      "outputs": [
        {
          "data": {
            "text/plain": [
              "array([121, 200, 150,  99], dtype=int64)"
            ]
          },
          "execution_count": 103,
          "metadata": {},
          "output_type": "execute_result"
        }
      ],
      "source": [
        "panser.values"
      ]
    },
    {
      "cell_type": "code",
      "execution_count": null,
      "metadata": {
        "id": "76NzuAGEUHte",
        "outputId": "e34b4f46-a9a9-42e8-96bc-af0f5cfb1ab4"
      },
      "outputs": [
        {
          "data": {
            "text/plain": [
              "<zip at 0x1d4fa34aa88>"
            ]
          },
          "execution_count": 113,
          "metadata": {},
          "output_type": "execute_result"
        }
      ],
      "source": [
        "panser.items()"
      ]
    },
    {
      "cell_type": "code",
      "execution_count": null,
      "metadata": {
        "id": "rMlPpwnWUHte",
        "outputId": "5e1eecad-4c62-4afd-f41a-89331a8b8e35"
      },
      "outputs": [
        {
          "name": "stdout",
          "output_type": "stream",
          "text": [
            "terry 121\n",
            "micheal 200\n",
            "orion 150\n",
            "jason 99\n"
          ]
        }
      ],
      "source": [
        "for index, value in panser.items():\n",
        "    print(index, value)"
      ]
    },
    {
      "cell_type": "code",
      "execution_count": null,
      "metadata": {
        "id": "TGRe7VROUHtf",
        "outputId": "3de87161-c756-4131-f927-d92c2e34b77e"
      },
      "outputs": [
        {
          "data": {
            "text/plain": [
              "True"
            ]
          },
          "execution_count": 119,
          "metadata": {},
          "output_type": "execute_result"
        }
      ],
      "source": [
        "\"terry\" in panser"
      ]
    },
    {
      "cell_type": "code",
      "execution_count": null,
      "metadata": {
        "id": "STBCqOn-UHtf",
        "outputId": "30d01a60-190c-4cf3-aafe-0c2525f0bf98"
      },
      "outputs": [
        {
          "data": {
            "text/plain": [
              "False"
            ]
          },
          "execution_count": 116,
          "metadata": {},
          "output_type": "execute_result"
        }
      ],
      "source": [
        "\"bob\" in panser"
      ]
    },
    {
      "cell_type": "code",
      "execution_count": null,
      "metadata": {
        "id": "V3nsyRqcUHtf",
        "outputId": "9c5857c0-5225-45d6-c91b-1fa7cd9c5802"
      },
      "outputs": [
        {
          "data": {
            "text/plain": [
              "True"
            ]
          },
          "execution_count": 117,
          "metadata": {},
          "output_type": "execute_result"
        }
      ],
      "source": [
        "200 in panser.values"
      ]
    },
    {
      "cell_type": "code",
      "execution_count": null,
      "metadata": {
        "id": "pjhJEspxUHtf",
        "outputId": "208962ba-ed52-463f-ba7e-9acbd22ee87a"
      },
      "outputs": [
        {
          "data": {
            "text/plain": [
              "terry      False\n",
              "micheal     True\n",
              "orion       True\n",
              "jason      False\n",
              "dtype: bool"
            ]
          },
          "execution_count": 120,
          "metadata": {},
          "output_type": "execute_result"
        }
      ],
      "source": [
        "panser.isin([200,150])"
      ]
    },
    {
      "cell_type": "code",
      "execution_count": null,
      "metadata": {
        "id": "mv_IJzJVUHtg",
        "outputId": "288226ec-4a6c-4e72-a337-2c2b6d0c6d68"
      },
      "outputs": [
        {
          "data": {
            "text/plain": [
              "terry       90\n",
              "micheal    200\n",
              "orion      150\n",
              "jason       99\n",
              "dtype: int64"
            ]
          },
          "execution_count": 121,
          "metadata": {},
          "output_type": "execute_result"
        }
      ],
      "source": [
        "panser[\"terry\"] = 90\n",
        "panser"
      ]
    },
    {
      "cell_type": "code",
      "execution_count": null,
      "metadata": {
        "id": "AZFptPW_UHtg",
        "outputId": "f2bee4d8-62e3-41dc-afed-57745718d50d"
      },
      "outputs": [
        {
          "data": {
            "text/plain": [
              "micheal    200\n",
              "orion      150\n",
              "dtype: int64"
            ]
          },
          "execution_count": 122,
          "metadata": {},
          "output_type": "execute_result"
        }
      ],
      "source": [
        "panser[panser>100]"
      ]
    },
    {
      "cell_type": "code",
      "execution_count": null,
      "metadata": {
        "id": "Zd1eE_TRUHtg"
      },
      "outputs": [],
      "source": [
        "panser[panser>100] = 175"
      ]
    },
    {
      "cell_type": "code",
      "execution_count": null,
      "metadata": {
        "id": "AAwFqweeUHtg",
        "outputId": "9ec4bd8c-03fa-46de-d66c-19d5acc62c1f"
      },
      "outputs": [
        {
          "data": {
            "text/plain": [
              "terry       90\n",
              "micheal    175\n",
              "orion      175\n",
              "jason       99\n",
              "dtype: int64"
            ]
          },
          "execution_count": 124,
          "metadata": {},
          "output_type": "execute_result"
        }
      ],
      "source": [
        "panser"
      ]
    },
    {
      "cell_type": "code",
      "execution_count": null,
      "metadata": {
        "id": "EVJLAgEuUHth"
      },
      "outputs": [],
      "source": [
        ""
      ]
    }
  ],
  "metadata": {
    "colab": {
      "name": "Course_DAwPy-S3 (Pandas Series)-empty (1).ipynb",
      "provenance": [],
      "include_colab_link": true
    },
    "kernelspec": {
      "display_name": "Python 3",
      "language": "python",
      "name": "python3"
    },
    "language_info": {
      "codemirror_mode": {
        "name": "ipython",
        "version": 3
      },
      "file_extension": ".py",
      "mimetype": "text/x-python",
      "name": "python",
      "nbconvert_exporter": "python",
      "pygments_lexer": "ipython3",
      "version": "3.7.6"
    }
  },
  "nbformat": 4,
  "nbformat_minor": 0
}