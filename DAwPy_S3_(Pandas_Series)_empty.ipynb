{
  "cells": [
    {
      "cell_type": "markdown",
      "metadata": {
        "id": "view-in-github",
        "colab_type": "text"
      },
      "source": [
        "<a href=\"https://colab.research.google.com/github/coder-omer/Pandas/blob/main/DAwPy_S3_(Pandas_Series)_empty.ipynb\" target=\"_parent\"><img src=\"https://colab.research.google.com/assets/colab-badge.svg\" alt=\"Open In Colab\"/></a>"
      ]
    },
    {
      "cell_type": "markdown",
      "metadata": {
        "id": "MkTCBtBXuPZA"
      },
      "source": [
        "___\n",
        "\n",
        "\n",
        "<p style=\"text-align: center;\"><img src=\"https://docs.google.com/uc?id=1lY0Uj5R04yMY3-ZppPWxqCr5pvBLYPnV\" class=\"img-fluid\" alt=\"Rossum\"></p>\n",
        "\n",
        "___"
      ]
    },
    {
      "cell_type": "markdown",
      "metadata": {
        "id": "9d7dyT2muPZJ"
      },
      "source": [
        "<h1><p style=\"text-align: center;\">Pandas Lesson, Session - 3</p><h1>"
      ]
    },
    {
      "cell_type": "markdown",
      "metadata": {
        "id": "X8IvHU6U8n0Y"
      },
      "source": [
        "# Pandas Series"
      ]
    },
    {
      "cell_type": "code",
      "execution_count": null,
      "metadata": {
        "id": "3PfMwQof8n0Z"
      },
      "outputs": [],
      "source": [
        "import numpy as np\n",
        "import pandas as pd"
      ]
    },
    {
      "cell_type": "markdown",
      "metadata": {
        "id": "EKip1p6buPZK"
      },
      "source": [
        "## Creating a Pandas Series"
      ]
    },
    {
      "cell_type": "markdown",
      "metadata": {
        "id": "lWlY6RqH8n0a"
      },
      "source": [
        "pd.Series(data=None, index=None, dtype=None, name=None, copy=False, fastpath=False)\n",
        "\n",
        "One-dimensional ndarray with axis labels (including time series)."
      ]
    },
    {
      "cell_type": "code",
      "execution_count": null,
      "metadata": {
        "id": "NOqCSVgJ8n0a"
      },
      "outputs": [],
      "source": [
        "labels = ['a','b','c']\n",
        "my_list = [10, 20, 30]\n",
        "arr = np.array([10, 20, 30])\n",
        "d = {'a': 10, 'b': 20, 'c': 30}"
      ]
    },
    {
      "cell_type": "markdown",
      "metadata": {
        "id": "luvZ_kEyuPZS"
      },
      "source": [
        "### **Using Lists**"
      ]
    },
    {
      "cell_type": "code",
      "execution_count": null,
      "metadata": {
        "colab": {
          "base_uri": "https://localhost:8080/"
        },
        "id": "6_G-HTxq8n0b",
        "outputId": "08e72044-d1ad-4332-b9b7-608ebbe58a5c"
      },
      "outputs": [
        {
          "output_type": "execute_result",
          "data": {
            "text/plain": [
              "0    a\n",
              "1    b\n",
              "2    c\n",
              "dtype: object"
            ]
          },
          "metadata": {},
          "execution_count": 4
        }
      ],
      "source": [
        "pd.Series(labels)"
      ]
    },
    {
      "cell_type": "code",
      "execution_count": null,
      "metadata": {
        "colab": {
          "base_uri": "https://localhost:8080/"
        },
        "id": "jtOyaSO28n0b",
        "outputId": "daa23c02-85f5-4e0d-9e07-4b1cf6548075"
      },
      "outputs": [
        {
          "output_type": "execute_result",
          "data": {
            "text/plain": [
              "0    10\n",
              "1    20\n",
              "2    30\n",
              "dtype: int64"
            ]
          },
          "metadata": {},
          "execution_count": 5
        }
      ],
      "source": [
        "pd.Series(my_list)"
      ]
    },
    {
      "cell_type": "code",
      "source": [
        "pd.Series([10, 20, 30])"
      ],
      "metadata": {
        "colab": {
          "base_uri": "https://localhost:8080/"
        },
        "id": "YATdrr3WF1yO",
        "outputId": "3f0b4080-f873-4a4c-b736-58aa7085bd54"
      },
      "execution_count": null,
      "outputs": [
        {
          "output_type": "execute_result",
          "data": {
            "text/plain": [
              "0    10\n",
              "1    20\n",
              "2    30\n",
              "dtype: int64"
            ]
          },
          "metadata": {},
          "execution_count": 6
        }
      ]
    },
    {
      "cell_type": "markdown",
      "metadata": {
        "id": "fZrVeKTQuPZU"
      },
      "source": [
        "### **Using NumPy Arrays**"
      ]
    },
    {
      "cell_type": "code",
      "execution_count": null,
      "metadata": {
        "colab": {
          "base_uri": "https://localhost:8080/"
        },
        "id": "384jFZmT8n0c",
        "outputId": "edef69ac-9d4f-410b-da37-7838f5f6ff9c"
      },
      "outputs": [
        {
          "output_type": "execute_result",
          "data": {
            "text/plain": [
              "array([10, 20, 30])"
            ]
          },
          "metadata": {},
          "execution_count": 7
        }
      ],
      "source": [
        "arr"
      ]
    },
    {
      "cell_type": "code",
      "execution_count": null,
      "metadata": {
        "colab": {
          "base_uri": "https://localhost:8080/"
        },
        "id": "_u4x86fd8n0d",
        "outputId": "94902d70-a721-46b9-e4fa-65c5f8c3f9e9"
      },
      "outputs": [
        {
          "output_type": "execute_result",
          "data": {
            "text/plain": [
              "a    10\n",
              "b    20\n",
              "c    30\n",
              "dtype: int64"
            ]
          },
          "metadata": {},
          "execution_count": 8
        }
      ],
      "source": [
        "pd.Series(data=arr, index=labels)"
      ]
    },
    {
      "cell_type": "markdown",
      "metadata": {
        "id": "fwWpvqTbuPZV"
      },
      "source": [
        "### **Using Dictionary**"
      ]
    },
    {
      "cell_type": "code",
      "execution_count": null,
      "metadata": {
        "colab": {
          "base_uri": "https://localhost:8080/"
        },
        "id": "HG50LNC38n0d",
        "outputId": "0f8f21b2-9158-48bd-b36b-54c466d8ebaa"
      },
      "outputs": [
        {
          "output_type": "execute_result",
          "data": {
            "text/plain": [
              "{'a': 10, 'b': 20, 'c': 30}"
            ]
          },
          "metadata": {},
          "execution_count": 9
        }
      ],
      "source": [
        "d"
      ]
    },
    {
      "cell_type": "code",
      "execution_count": null,
      "metadata": {
        "colab": {
          "base_uri": "https://localhost:8080/"
        },
        "id": "tzm7B6RF8n0d",
        "outputId": "49189a45-6258-417a-f44a-6baec77c592b"
      },
      "outputs": [
        {
          "output_type": "execute_result",
          "data": {
            "text/plain": [
              "a    10\n",
              "b    20\n",
              "c    30\n",
              "dtype: int64"
            ]
          },
          "metadata": {},
          "execution_count": 10
        }
      ],
      "source": [
        "pd.Series(d)"
      ]
    },
    {
      "cell_type": "code",
      "execution_count": null,
      "metadata": {
        "colab": {
          "base_uri": "https://localhost:8080/"
        },
        "id": "eZQ7mPlW8n0e",
        "outputId": "14fa6c05-5df4-42f2-e7e7-4643e5383895"
      },
      "outputs": [
        {
          "output_type": "execute_result",
          "data": {
            "text/plain": [
              "q     NaN\n",
              "c    30.0\n",
              "y     NaN\n",
              "dtype: float64"
            ]
          },
          "metadata": {},
          "execution_count": 11
        }
      ],
      "source": [
        "pd.Series(d, index=[\"q\",\"c\",\"y\"])"
      ]
    },
    {
      "cell_type": "code",
      "source": [
        "type(np.nan)"
      ],
      "metadata": {
        "colab": {
          "base_uri": "https://localhost:8080/"
        },
        "id": "YN7rIMTeHfsr",
        "outputId": "5038e0f0-1aba-4988-e40f-0d6b082e9d81"
      },
      "execution_count": null,
      "outputs": [
        {
          "output_type": "execute_result",
          "data": {
            "text/plain": [
              "float"
            ]
          },
          "metadata": {},
          "execution_count": 12
        }
      ]
    },
    {
      "cell_type": "markdown",
      "metadata": {
        "id": "ujG3-LLr8n0e"
      },
      "source": [
        "### Using Scalar Value"
      ]
    },
    {
      "cell_type": "code",
      "execution_count": null,
      "metadata": {
        "colab": {
          "base_uri": "https://localhost:8080/"
        },
        "id": "ZIWx9okA8n0e",
        "outputId": "ea650264-09d5-42a2-d473-a503ffdc51b9"
      },
      "outputs": [
        {
          "output_type": "execute_result",
          "data": {
            "text/plain": [
              "0    Ahmet\n",
              "dtype: object"
            ]
          },
          "metadata": {},
          "execution_count": 13
        }
      ],
      "source": [
        "pd.Series(data=\"Ahmet\")"
      ]
    },
    {
      "cell_type": "code",
      "execution_count": null,
      "metadata": {
        "colab": {
          "base_uri": "https://localhost:8080/"
        },
        "id": "4sW9Wz2p8n0e",
        "outputId": "a9c5397e-eb72-4caa-8a66-7fa75ae75b70"
      },
      "outputs": [
        {
          "output_type": "execute_result",
          "data": {
            "text/plain": [
              "1    Ahmet\n",
              "2    Ahmet\n",
              "3    Ahmet\n",
              "4    Ahmet\n",
              "dtype: object"
            ]
          },
          "metadata": {},
          "execution_count": 14
        }
      ],
      "source": [
        "pd.Series(data=\"Ahmet\", index=range(1,5))"
      ]
    },
    {
      "cell_type": "markdown",
      "metadata": {
        "id": "zK1CZtLouPZV"
      },
      "source": [
        "### Data in a Series\n",
        "\n",
        "A pandas Series can hold a variety of object types:"
      ]
    },
    {
      "cell_type": "markdown",
      "metadata": {
        "id": "1-VxCQpy9kPN"
      },
      "source": [
        "{} or set()"
      ]
    },
    {
      "cell_type": "code",
      "execution_count": null,
      "metadata": {
        "colab": {
          "base_uri": "https://localhost:8080/"
        },
        "id": "EESXcj8g8n0g",
        "outputId": "b433faa9-7c38-4daf-ff93-a0a3884c8a9f"
      },
      "outputs": [
        {
          "output_type": "execute_result",
          "data": {
            "text/plain": [
              "0     <class 'set'>\n",
              "1    <class 'list'>\n",
              "2    <class 'dict'>\n",
              "dtype: object"
            ]
          },
          "metadata": {},
          "execution_count": 25
        }
      ],
      "source": [
        "pd.Series([set,list,dict])"
      ]
    },
    {
      "cell_type": "code",
      "execution_count": null,
      "metadata": {
        "colab": {
          "base_uri": "https://localhost:8080/"
        },
        "id": "9orzkorH8n0g",
        "outputId": "e411f5c5-3c36-4bb3-fb9c-0ff00dac7aa9"
      },
      "outputs": [
        {
          "output_type": "execute_result",
          "data": {
            "text/plain": [
              "{2, 5, 7, 8}"
            ]
          },
          "metadata": {},
          "execution_count": 26
        }
      ],
      "source": [
        "pd.Series([set,list,dict])[0]([2,5,7,5,8,2])"
      ]
    },
    {
      "cell_type": "code",
      "execution_count": null,
      "metadata": {
        "colab": {
          "base_uri": "https://localhost:8080/"
        },
        "id": "FyZgTDOi8n0h",
        "outputId": "82dc1941-966a-4eeb-8760-c8415f934f43"
      },
      "outputs": [
        {
          "output_type": "execute_result",
          "data": {
            "text/plain": [
              "0      <built-in function sum>\n",
              "1    <built-in function print>\n",
              "2      <built-in function len>\n",
              "dtype: object"
            ]
          },
          "metadata": {},
          "execution_count": 29
        }
      ],
      "source": [
        "pd.Series([sum,print,len])"
      ]
    },
    {
      "cell_type": "code",
      "execution_count": null,
      "metadata": {
        "colab": {
          "base_uri": "https://localhost:8080/"
        },
        "id": "_mUZo3oM8n0i",
        "outputId": "6f202b23-ee6c-4539-a25f-141884f76be1"
      },
      "outputs": [
        {
          "output_type": "execute_result",
          "data": {
            "text/plain": [
              "15"
            ]
          },
          "metadata": {},
          "execution_count": 30
        }
      ],
      "source": [
        "pd.Series([sum,print,len])[0]([3,5,7])"
      ]
    },
    {
      "cell_type": "code",
      "execution_count": null,
      "metadata": {
        "id": "nbTFKD_78n0i"
      },
      "outputs": [],
      "source": [
        "mix_data = ['Aziz', 2, True]"
      ]
    },
    {
      "cell_type": "code",
      "source": [
        "ser = pd.Series(mix_data)\n",
        "ser"
      ],
      "metadata": {
        "colab": {
          "base_uri": "https://localhost:8080/"
        },
        "id": "tdbHPdQ2J3km",
        "outputId": "2a3028c1-f0ad-498f-d6cf-655ac0af47ef"
      },
      "execution_count": null,
      "outputs": [
        {
          "output_type": "execute_result",
          "data": {
            "text/plain": [
              "0    Aziz\n",
              "1       2\n",
              "2    True\n",
              "dtype: object"
            ]
          },
          "metadata": {},
          "execution_count": 33
        }
      ]
    },
    {
      "cell_type": "code",
      "source": [
        "ser.dtype"
      ],
      "metadata": {
        "colab": {
          "base_uri": "https://localhost:8080/"
        },
        "id": "e6AsU_yXJ3V7",
        "outputId": "7d80242a-9dc3-4fc4-e955-baa3e1bd75bc"
      },
      "execution_count": null,
      "outputs": [
        {
          "output_type": "execute_result",
          "data": {
            "text/plain": [
              "dtype('O')"
            ]
          },
          "metadata": {},
          "execution_count": 34
        }
      ]
    },
    {
      "cell_type": "code",
      "source": [
        "type(ser)"
      ],
      "metadata": {
        "colab": {
          "base_uri": "https://localhost:8080/"
        },
        "id": "PI_FOaD4KDMn",
        "outputId": "c7d8944f-3e92-4b0b-aa5c-170faabe6a7a"
      },
      "execution_count": null,
      "outputs": [
        {
          "output_type": "execute_result",
          "data": {
            "text/plain": [
              "pandas.core.series.Series"
            ]
          },
          "metadata": {},
          "execution_count": 35
        }
      ]
    },
    {
      "cell_type": "code",
      "source": [
        "type(ser[2])"
      ],
      "metadata": {
        "colab": {
          "base_uri": "https://localhost:8080/"
        },
        "id": "2EAdThBvKITJ",
        "outputId": "bdadbd24-e47e-49ec-8597-a4c30dd4ed7c"
      },
      "execution_count": null,
      "outputs": [
        {
          "output_type": "execute_result",
          "data": {
            "text/plain": [
              "bool"
            ]
          },
          "metadata": {},
          "execution_count": 39
        }
      ]
    },
    {
      "cell_type": "code",
      "source": [
        "arr = np.array(mix_data)\n",
        "arr"
      ],
      "metadata": {
        "colab": {
          "base_uri": "https://localhost:8080/"
        },
        "id": "MjOfV0y1KIPm",
        "outputId": "8d43aa3f-e7ed-4cd9-885d-8b5dbd850e70"
      },
      "execution_count": null,
      "outputs": [
        {
          "output_type": "execute_result",
          "data": {
            "text/plain": [
              "array(['Aziz', '2', 'True'], dtype='<U4')"
            ]
          },
          "metadata": {},
          "execution_count": 41
        }
      ]
    },
    {
      "cell_type": "code",
      "source": [
        "type(arr[2])"
      ],
      "metadata": {
        "colab": {
          "base_uri": "https://localhost:8080/"
        },
        "id": "wLMvNVSLKID8",
        "outputId": "436b5ed5-02d4-4a11-cd1a-2e456ba51b68"
      },
      "execution_count": null,
      "outputs": [
        {
          "output_type": "execute_result",
          "data": {
            "text/plain": [
              "numpy.str_"
            ]
          },
          "metadata": {},
          "execution_count": 46
        }
      ]
    },
    {
      "cell_type": "code",
      "source": [
        ""
      ],
      "metadata": {
        "id": "20XeUB2pOsDT"
      },
      "execution_count": null,
      "outputs": []
    },
    {
      "cell_type": "markdown",
      "metadata": {
        "id": "J8eBxuBNuPZM"
      },
      "source": [
        "### Basic Attributes of Series"
      ]
    },
    {
      "cell_type": "code",
      "execution_count": null,
      "metadata": {
        "id": "QkbXcj3t8n0j"
      },
      "outputs": [],
      "source": [
        "ser = pd.Series(np.random.randint(0,100,7))"
      ]
    },
    {
      "cell_type": "code",
      "execution_count": null,
      "metadata": {
        "colab": {
          "base_uri": "https://localhost:8080/"
        },
        "id": "gnp67LAo8n0j",
        "outputId": "9e19a6c2-68bd-4ad2-c216-ea58e20f5839"
      },
      "outputs": [
        {
          "output_type": "execute_result",
          "data": {
            "text/plain": [
              "0    82\n",
              "1     0\n",
              "2    46\n",
              "3     1\n",
              "4    39\n",
              "5    75\n",
              "6    32\n",
              "dtype: int64"
            ]
          },
          "metadata": {},
          "execution_count": 50
        }
      ],
      "source": [
        "ser"
      ]
    },
    {
      "cell_type": "code",
      "execution_count": null,
      "metadata": {
        "colab": {
          "base_uri": "https://localhost:8080/"
        },
        "id": "FssS_kxV8n0j",
        "outputId": "a8a95386-38e0-4d21-d63d-ef5dcd679101"
      },
      "outputs": [
        {
          "output_type": "execute_result",
          "data": {
            "text/plain": [
              "dtype('int64')"
            ]
          },
          "metadata": {},
          "execution_count": 51
        }
      ],
      "source": [
        "ser.dtype"
      ]
    },
    {
      "cell_type": "code",
      "execution_count": null,
      "metadata": {
        "colab": {
          "base_uri": "https://localhost:8080/"
        },
        "id": "wB5xYk9B8n0k",
        "outputId": "d0f0a34e-b187-448d-80a7-5333e161611c"
      },
      "outputs": [
        {
          "output_type": "execute_result",
          "data": {
            "text/plain": [
              "pandas.core.series.Series"
            ]
          },
          "metadata": {},
          "execution_count": 52
        }
      ],
      "source": [
        "type(ser)"
      ]
    },
    {
      "cell_type": "code",
      "execution_count": null,
      "metadata": {
        "colab": {
          "base_uri": "https://localhost:8080/"
        },
        "id": "tDEbIMS88n0k",
        "outputId": "57a2ac7f-bc02-402a-cb32-8441d72ef675"
      },
      "outputs": [
        {
          "output_type": "execute_result",
          "data": {
            "text/plain": [
              "(7,)"
            ]
          },
          "metadata": {},
          "execution_count": 53
        }
      ],
      "source": [
        "ser.shape"
      ]
    },
    {
      "cell_type": "code",
      "execution_count": null,
      "metadata": {
        "colab": {
          "base_uri": "https://localhost:8080/"
        },
        "id": "mYSSN1Nb8n0k",
        "outputId": "3060fa71-be4f-424b-9c11-1b3fd36de32f"
      },
      "outputs": [
        {
          "output_type": "execute_result",
          "data": {
            "text/plain": [
              "7"
            ]
          },
          "metadata": {},
          "execution_count": 54
        }
      ],
      "source": [
        "ser.size"
      ]
    },
    {
      "cell_type": "code",
      "execution_count": null,
      "metadata": {
        "colab": {
          "base_uri": "https://localhost:8080/"
        },
        "id": "fgMAyApj8n0l",
        "outputId": "27345e97-ce9f-4aae-bcf5-3bf0b74e8691"
      },
      "outputs": [
        {
          "output_type": "execute_result",
          "data": {
            "text/plain": [
              "7"
            ]
          },
          "metadata": {},
          "execution_count": 55
        }
      ],
      "source": [
        "len(ser)"
      ]
    },
    {
      "cell_type": "code",
      "execution_count": null,
      "metadata": {
        "colab": {
          "base_uri": "https://localhost:8080/"
        },
        "id": "bjDebioR8n0l",
        "outputId": "6b91dd20-ed23-4f45-fdbc-cb8dced8fccd"
      },
      "outputs": [
        {
          "output_type": "execute_result",
          "data": {
            "text/plain": [
              "1"
            ]
          },
          "metadata": {},
          "execution_count": 56
        }
      ],
      "source": [
        "ser.ndim"
      ]
    },
    {
      "cell_type": "code",
      "execution_count": null,
      "metadata": {
        "colab": {
          "base_uri": "https://localhost:8080/"
        },
        "id": "aINpeD8y8n0l",
        "outputId": "a9f0d8be-fa6c-4327-87ce-a2922a365d02"
      },
      "outputs": [
        {
          "output_type": "execute_result",
          "data": {
            "text/plain": [
              "RangeIndex(start=0, stop=7, step=1)"
            ]
          },
          "metadata": {},
          "execution_count": 57
        }
      ],
      "source": [
        "ser.index"
      ]
    },
    {
      "cell_type": "code",
      "source": [
        "list(ser.index)"
      ],
      "metadata": {
        "colab": {
          "base_uri": "https://localhost:8080/"
        },
        "id": "DVL7GoOsPxhU",
        "outputId": "a9618ec9-9cf6-416e-bf89-252bbdc9e134"
      },
      "execution_count": null,
      "outputs": [
        {
          "output_type": "execute_result",
          "data": {
            "text/plain": [
              "[0, 1, 2, 3, 4, 5, 6]"
            ]
          },
          "metadata": {},
          "execution_count": 58
        }
      ]
    },
    {
      "cell_type": "code",
      "source": [
        "for i in ser.index:\n",
        "  print(i)"
      ],
      "metadata": {
        "colab": {
          "base_uri": "https://localhost:8080/"
        },
        "id": "ds_N-IWSPxWW",
        "outputId": "d353d219-9567-4679-db62-2614b103f4ee"
      },
      "execution_count": null,
      "outputs": [
        {
          "output_type": "stream",
          "name": "stdout",
          "text": [
            "0\n",
            "1\n",
            "2\n",
            "3\n",
            "4\n",
            "5\n",
            "6\n"
          ]
        }
      ]
    },
    {
      "cell_type": "code",
      "execution_count": null,
      "metadata": {
        "colab": {
          "base_uri": "https://localhost:8080/"
        },
        "id": "dNUJKRhM8n0l",
        "outputId": "be5ec245-873f-47ce-9544-56ae43585436"
      },
      "outputs": [
        {
          "output_type": "execute_result",
          "data": {
            "text/plain": [
              "RangeIndex(start=0, stop=7, step=1)"
            ]
          },
          "metadata": {},
          "execution_count": 60
        }
      ],
      "source": [
        "ser.keys()"
      ]
    },
    {
      "cell_type": "code",
      "source": [
        "ser.values"
      ],
      "metadata": {
        "colab": {
          "base_uri": "https://localhost:8080/"
        },
        "id": "evgnx1QxQTAE",
        "outputId": "ed2eb02f-1966-44a1-d754-c19aba92f7ad"
      },
      "execution_count": null,
      "outputs": [
        {
          "output_type": "execute_result",
          "data": {
            "text/plain": [
              "array([82,  0, 46,  1, 39, 75, 32])"
            ]
          },
          "metadata": {},
          "execution_count": 63
        }
      ]
    },
    {
      "cell_type": "code",
      "source": [
        "ser.keys # kendim lave ettim görmek için"
      ],
      "metadata": {
        "colab": {
          "base_uri": "https://localhost:8080/"
        },
        "id": "loCKYXcNQSof",
        "outputId": "cbef308a-daaa-4249-b6a7-bf60aa1713dd"
      },
      "execution_count": null,
      "outputs": [
        {
          "output_type": "execute_result",
          "data": {
            "text/plain": [
              "<bound method Series.keys of 0    82\n",
              "1     0\n",
              "2    46\n",
              "3     1\n",
              "4    39\n",
              "5    75\n",
              "6    32\n",
              "dtype: int64>"
            ]
          },
          "metadata": {},
          "execution_count": 64
        }
      ]
    },
    {
      "cell_type": "code",
      "source": [
        "ser.items()"
      ],
      "metadata": {
        "colab": {
          "base_uri": "https://localhost:8080/"
        },
        "id": "SzrOj3duQSaz",
        "outputId": "ba1d3739-3ed3-417e-dcc8-2e70103fe48b"
      },
      "execution_count": null,
      "outputs": [
        {
          "output_type": "execute_result",
          "data": {
            "text/plain": [
              "<zip at 0x7fc613a2a820>"
            ]
          },
          "metadata": {},
          "execution_count": 68
        }
      ]
    },
    {
      "cell_type": "code",
      "source": [
        "list(ser.items())"
      ],
      "metadata": {
        "colab": {
          "base_uri": "https://localhost:8080/"
        },
        "id": "Xh5XivS0R-hA",
        "outputId": "22fe0442-f097-4991-fb03-f9dc00ae4d87"
      },
      "execution_count": null,
      "outputs": [
        {
          "output_type": "execute_result",
          "data": {
            "text/plain": [
              "[(0, 82), (1, 0), (2, 46), (3, 1), (4, 39), (5, 75), (6, 32)]"
            ]
          },
          "metadata": {},
          "execution_count": 69
        }
      ]
    },
    {
      "cell_type": "code",
      "source": [
        "for index, value in ser.items():\n",
        "  print(f\"index:{index},value:{value}\")"
      ],
      "metadata": {
        "colab": {
          "base_uri": "https://localhost:8080/"
        },
        "id": "8FpNgcHUSD8M",
        "outputId": "9901ee86-4411-4268-811d-e53d09c12fe7"
      },
      "execution_count": null,
      "outputs": [
        {
          "output_type": "stream",
          "name": "stdout",
          "text": [
            "index:0,value:82\n",
            "index:1,value:0\n",
            "index:2,value:46\n",
            "index:3,value:1\n",
            "index:4,value:39\n",
            "index:5,value:75\n",
            "index:6,value:32\n"
          ]
        }
      ]
    },
    {
      "cell_type": "code",
      "source": [
        "ser = pd.Series(data = np.random.randint(0,25,10), index = [i for i in \"cbaefdgihj\"])"
      ],
      "metadata": {
        "id": "bO_xUYGuSD3z"
      },
      "execution_count": null,
      "outputs": []
    },
    {
      "cell_type": "code",
      "source": [
        "ser"
      ],
      "metadata": {
        "colab": {
          "base_uri": "https://localhost:8080/"
        },
        "id": "z2ebIhDuSDz9",
        "outputId": "3ef93182-744a-425f-981d-7b00679797e5"
      },
      "execution_count": null,
      "outputs": [
        {
          "output_type": "execute_result",
          "data": {
            "text/plain": [
              "c    13\n",
              "b     5\n",
              "a    11\n",
              "e     9\n",
              "f    14\n",
              "d    21\n",
              "g    14\n",
              "i    18\n",
              "h    19\n",
              "j    20\n",
              "dtype: int64"
            ]
          },
          "metadata": {},
          "execution_count": 72
        }
      ]
    },
    {
      "cell_type": "code",
      "source": [
        "ser.head()"
      ],
      "metadata": {
        "colab": {
          "base_uri": "https://localhost:8080/"
        },
        "id": "unoXpZ-MS0tN",
        "outputId": "6cc36d41-81c4-4c87-c312-ce3ce8ba9254"
      },
      "execution_count": null,
      "outputs": [
        {
          "output_type": "execute_result",
          "data": {
            "text/plain": [
              "c    13\n",
              "b     5\n",
              "a    11\n",
              "e     9\n",
              "f    14\n",
              "dtype: int64"
            ]
          },
          "metadata": {},
          "execution_count": 73
        }
      ]
    },
    {
      "cell_type": "code",
      "source": [
        "ser.tail()"
      ],
      "metadata": {
        "colab": {
          "base_uri": "https://localhost:8080/"
        },
        "id": "SiSxrWItS0oF",
        "outputId": "2ac069d7-92a0-47aa-a387-35ad028c77c1"
      },
      "execution_count": null,
      "outputs": [
        {
          "output_type": "execute_result",
          "data": {
            "text/plain": [
              "d    21\n",
              "g    14\n",
              "i    18\n",
              "h    19\n",
              "j    20\n",
              "dtype: int64"
            ]
          },
          "metadata": {},
          "execution_count": 74
        }
      ]
    },
    {
      "cell_type": "code",
      "source": [
        "ser.sample(3)"
      ],
      "metadata": {
        "colab": {
          "base_uri": "https://localhost:8080/"
        },
        "id": "kHFGMUu7TVDV",
        "outputId": "756a9947-f544-47ca-80e1-3df792b17901"
      },
      "execution_count": null,
      "outputs": [
        {
          "output_type": "execute_result",
          "data": {
            "text/plain": [
              "j    20\n",
              "c    13\n",
              "h    19\n",
              "dtype: int64"
            ]
          },
          "metadata": {},
          "execution_count": 75
        }
      ]
    },
    {
      "cell_type": "code",
      "source": [
        "ser.sort_index(ascending=True)"
      ],
      "metadata": {
        "colab": {
          "base_uri": "https://localhost:8080/"
        },
        "id": "4tKcmGbYTU71",
        "outputId": "8844922c-914f-4e50-ca68-2ac3b579322c"
      },
      "execution_count": null,
      "outputs": [
        {
          "output_type": "execute_result",
          "data": {
            "text/plain": [
              "a    11\n",
              "b     5\n",
              "c    13\n",
              "d    21\n",
              "e     9\n",
              "f    14\n",
              "g    14\n",
              "h    19\n",
              "i    18\n",
              "j    20\n",
              "dtype: int64"
            ]
          },
          "metadata": {},
          "execution_count": 76
        }
      ]
    },
    {
      "cell_type": "code",
      "source": [
        "ser.sort_values(ascending=False)"
      ],
      "metadata": {
        "colab": {
          "base_uri": "https://localhost:8080/"
        },
        "id": "N2CyO8-TSDs7",
        "outputId": "6bcb727d-835e-495d-b778-0733927476ea"
      },
      "execution_count": null,
      "outputs": [
        {
          "output_type": "execute_result",
          "data": {
            "text/plain": [
              "d    21\n",
              "j    20\n",
              "h    19\n",
              "i    18\n",
              "g    14\n",
              "f    14\n",
              "c    13\n",
              "a    11\n",
              "e     9\n",
              "b     5\n",
              "dtype: int64"
            ]
          },
          "metadata": {},
          "execution_count": 77
        }
      ]
    },
    {
      "cell_type": "code",
      "source": [
        "ser"
      ],
      "metadata": {
        "colab": {
          "base_uri": "https://localhost:8080/"
        },
        "id": "6aAaH5phT0PF",
        "outputId": "5394c778-cb38-4bd3-a6b7-5036c22b078b"
      },
      "execution_count": null,
      "outputs": [
        {
          "output_type": "execute_result",
          "data": {
            "text/plain": [
              "c    13\n",
              "b     5\n",
              "a    11\n",
              "e     9\n",
              "f    14\n",
              "d    21\n",
              "g    14\n",
              "i    18\n",
              "h    19\n",
              "j    20\n",
              "dtype: int64"
            ]
          },
          "metadata": {},
          "execution_count": 79
        }
      ]
    },
    {
      "cell_type": "code",
      "source": [
        "ser.isin([19,9])"
      ],
      "metadata": {
        "colab": {
          "base_uri": "https://localhost:8080/"
        },
        "id": "Y8ULVafgT0Lc",
        "outputId": "7ee53981-4f42-4cbd-b3ac-edb84f93035d"
      },
      "execution_count": null,
      "outputs": [
        {
          "output_type": "execute_result",
          "data": {
            "text/plain": [
              "c    False\n",
              "b    False\n",
              "a    False\n",
              "e     True\n",
              "f    False\n",
              "d    False\n",
              "g    False\n",
              "i    False\n",
              "h     True\n",
              "j    False\n",
              "dtype: bool"
            ]
          },
          "metadata": {},
          "execution_count": 82
        }
      ]
    },
    {
      "cell_type": "code",
      "source": [
        "pd.Series([i for i in \"clarusway\"])"
      ],
      "metadata": {
        "colab": {
          "base_uri": "https://localhost:8080/"
        },
        "id": "7glbn9irT0He",
        "outputId": "1e4d93c5-dd72-41aa-b759-07d8c46d5ac5"
      },
      "execution_count": null,
      "outputs": [
        {
          "output_type": "execute_result",
          "data": {
            "text/plain": [
              "0    c\n",
              "1    l\n",
              "2    a\n",
              "3    r\n",
              "4    u\n",
              "5    s\n",
              "6    w\n",
              "7    a\n",
              "8    y\n",
              "dtype: object"
            ]
          },
          "metadata": {},
          "execution_count": 83
        }
      ]
    },
    {
      "cell_type": "code",
      "source": [
        ""
      ],
      "metadata": {
        "id": "PPct69Y1T0Ae"
      },
      "execution_count": null,
      "outputs": []
    },
    {
      "cell_type": "markdown",
      "metadata": {
        "id": "LLA4QNehuPZb"
      },
      "source": [
        "## Indexing Pandas Series\n",
        "\n",
        "The key to using a Series is understanding its index. Pandas makes use of these index names or numbers by allowing for fast look up of information.\n",
        "\n",
        "Let's see some examples of how to grab information from a Series. Let us create two sereis, ser1 and ser2:"
      ]
    },
    {
      "cell_type": "code",
      "execution_count": null,
      "metadata": {
        "id": "7BdClI0M8n0m"
      },
      "outputs": [],
      "source": [
        "ser1 = pd.Series([1,2,3,4],index = ['USA', 'Germany','USSR', 'Japan'])\n",
        "ser2 = pd.Series([1,2,5,4],index = ['USA', 'Germany','Italy', 'Japan'])"
      ]
    },
    {
      "cell_type": "code",
      "execution_count": null,
      "metadata": {
        "colab": {
          "base_uri": "https://localhost:8080/"
        },
        "id": "LxT_rihg8n0m",
        "outputId": "bf88497f-1ac3-4f38-c882-2b00bc9d02c0"
      },
      "outputs": [
        {
          "output_type": "execute_result",
          "data": {
            "text/plain": [
              "USA        1\n",
              "Germany    2\n",
              "USSR       3\n",
              "Japan      4\n",
              "dtype: int64"
            ]
          },
          "metadata": {},
          "execution_count": 85
        }
      ],
      "source": [
        "ser1"
      ]
    },
    {
      "cell_type": "code",
      "execution_count": null,
      "metadata": {
        "colab": {
          "base_uri": "https://localhost:8080/"
        },
        "id": "H-zapOBK8n0m",
        "outputId": "09392598-6f0d-48b9-a774-b1123f464120"
      },
      "outputs": [
        {
          "output_type": "execute_result",
          "data": {
            "text/plain": [
              "USA        1\n",
              "Germany    2\n",
              "Italy      5\n",
              "Japan      4\n",
              "dtype: int64"
            ]
          },
          "metadata": {},
          "execution_count": 86
        }
      ],
      "source": [
        "ser2"
      ]
    },
    {
      "cell_type": "code",
      "execution_count": null,
      "metadata": {
        "colab": {
          "base_uri": "https://localhost:8080/"
        },
        "id": "HIXvjBbk8n0m",
        "outputId": "936d8497-5e47-4875-a754-e575f3659b6f"
      },
      "outputs": [
        {
          "output_type": "execute_result",
          "data": {
            "text/plain": [
              "Germany    2\n",
              "Japan      4\n",
              "USA        1\n",
              "USSR       3\n",
              "dtype: int64"
            ]
          },
          "metadata": {},
          "execution_count": 89
        }
      ],
      "source": [
        "ser1.sort_index()"
      ]
    },
    {
      "cell_type": "code",
      "execution_count": null,
      "metadata": {
        "colab": {
          "base_uri": "https://localhost:8080/"
        },
        "id": "1nh0sNMf8n0m",
        "outputId": "b0832b63-fdd5-4cc5-efe9-70c4b055acc7"
      },
      "outputs": [
        {
          "output_type": "execute_result",
          "data": {
            "text/plain": [
              "USA        1\n",
              "Germany    2\n",
              "Japan      4\n",
              "Italy      5\n",
              "dtype: int64"
            ]
          },
          "metadata": {},
          "execution_count": 90
        }
      ],
      "source": [
        "ser2.sort_values()"
      ]
    },
    {
      "cell_type": "code",
      "execution_count": null,
      "metadata": {
        "colab": {
          "base_uri": "https://localhost:8080/"
        },
        "id": "v3ID1sO18n0m",
        "outputId": "bdc0377b-3fd6-4e4c-eaa7-bd3382814a34"
      },
      "outputs": [
        {
          "output_type": "execute_result",
          "data": {
            "text/plain": [
              "2"
            ]
          },
          "metadata": {},
          "execution_count": 91
        }
      ],
      "source": [
        "ser1[1]"
      ]
    },
    {
      "cell_type": "code",
      "execution_count": null,
      "metadata": {
        "colab": {
          "base_uri": "https://localhost:8080/"
        },
        "id": "xlEt0A9-8n0n",
        "outputId": "ed63fdc6-4499-4276-b596-bd5a4b524d0d"
      },
      "outputs": [
        {
          "output_type": "execute_result",
          "data": {
            "text/plain": [
              "2"
            ]
          },
          "metadata": {},
          "execution_count": 92
        }
      ],
      "source": [
        "ser1[\"Germany\"]"
      ]
    },
    {
      "cell_type": "code",
      "execution_count": null,
      "metadata": {
        "colab": {
          "base_uri": "https://localhost:8080/"
        },
        "id": "dqgasYs18n0n",
        "outputId": "58962bec-b0a3-4011-861f-252ab47e5e86"
      },
      "outputs": [
        {
          "output_type": "execute_result",
          "data": {
            "text/plain": [
              "2"
            ]
          },
          "metadata": {},
          "execution_count": 93
        }
      ],
      "source": [
        "ser1.Germany"
      ]
    },
    {
      "cell_type": "code",
      "source": [
        "ser1 + ser2   # nan lar olduğu için float. sadece eşleşen indexleri topladı"
      ],
      "metadata": {
        "colab": {
          "base_uri": "https://localhost:8080/"
        },
        "id": "fg8lvDeuWnfg",
        "outputId": "508fb2d6-3cb9-4309-c54b-a4647a1a03ba"
      },
      "execution_count": null,
      "outputs": [
        {
          "output_type": "execute_result",
          "data": {
            "text/plain": [
              "Germany    4.0\n",
              "Italy      NaN\n",
              "Japan      8.0\n",
              "USA        2.0\n",
              "USSR       NaN\n",
              "dtype: float64"
            ]
          },
          "metadata": {},
          "execution_count": 94
        }
      ]
    },
    {
      "cell_type": "code",
      "source": [
        "ser3 = pd.Series(data = [\"a\", \"b\", \"c\", \"d\"])\n",
        "ser3"
      ],
      "metadata": {
        "colab": {
          "base_uri": "https://localhost:8080/"
        },
        "id": "o1hTqoDXWnbo",
        "outputId": "fe509cbd-1a2f-458b-f707-7724dc223204"
      },
      "execution_count": null,
      "outputs": [
        {
          "output_type": "execute_result",
          "data": {
            "text/plain": [
              "0    a\n",
              "1    b\n",
              "2    c\n",
              "3    d\n",
              "dtype: object"
            ]
          },
          "metadata": {},
          "execution_count": 95
        }
      ]
    },
    {
      "cell_type": "code",
      "source": [
        "ser3[0]"
      ],
      "metadata": {
        "colab": {
          "base_uri": "https://localhost:8080/",
          "height": 35
        },
        "id": "DvKyqpD8WnSU",
        "outputId": "921cb0f3-09c7-4cdf-d812-97345eacb894"
      },
      "execution_count": null,
      "outputs": [
        {
          "output_type": "execute_result",
          "data": {
            "application/vnd.google.colaboratory.intrinsic+json": {
              "type": "string"
            },
            "text/plain": [
              "'a'"
            ]
          },
          "metadata": {},
          "execution_count": 96
        }
      ]
    },
    {
      "cell_type": "code",
      "source": [
        "ser3[:2]"
      ],
      "metadata": {
        "colab": {
          "base_uri": "https://localhost:8080/"
        },
        "id": "zcWImVAZWnON",
        "outputId": "e6862c27-3636-444a-8714-a045b0a7c13d"
      },
      "execution_count": null,
      "outputs": [
        {
          "output_type": "execute_result",
          "data": {
            "text/plain": [
              "0    a\n",
              "1    b\n",
              "dtype: object"
            ]
          },
          "metadata": {},
          "execution_count": 97
        }
      ]
    },
    {
      "cell_type": "code",
      "source": [
        "ser3[::-1]"
      ],
      "metadata": {
        "colab": {
          "base_uri": "https://localhost:8080/"
        },
        "id": "Vf6j8ZxeXkRD",
        "outputId": "7101c0b6-4ef1-4cb3-9ad7-dbcc04f02214"
      },
      "execution_count": null,
      "outputs": [
        {
          "output_type": "execute_result",
          "data": {
            "text/plain": [
              "3    d\n",
              "2    c\n",
              "1    b\n",
              "0    a\n",
              "dtype: object"
            ]
          },
          "metadata": {},
          "execution_count": 98
        }
      ]
    },
    {
      "cell_type": "code",
      "source": [
        ""
      ],
      "metadata": {
        "id": "Ok_XiaUBXjIB"
      },
      "execution_count": null,
      "outputs": []
    },
    {
      "cell_type": "code",
      "source": [
        ""
      ],
      "metadata": {
        "id": "Okf4uI9XXjET"
      },
      "execution_count": null,
      "outputs": []
    },
    {
      "cell_type": "markdown",
      "metadata": {
        "id": "FuAlZSDAuPZd"
      },
      "source": [
        "Operations are then also done based off of index:"
      ]
    },
    {
      "cell_type": "code",
      "execution_count": null,
      "metadata": {
        "id": "J3hnO1pe8n0n"
      },
      "outputs": [],
      "source": [
        ""
      ]
    },
    {
      "cell_type": "code",
      "execution_count": null,
      "metadata": {
        "id": "7JaUGAUP8n0n"
      },
      "outputs": [],
      "source": [
        ""
      ]
    },
    {
      "cell_type": "code",
      "execution_count": null,
      "metadata": {
        "id": "btD2mVrp8n0n"
      },
      "outputs": [],
      "source": [
        ""
      ]
    },
    {
      "cell_type": "code",
      "execution_count": null,
      "metadata": {
        "id": "F7UAUwyK8n0o"
      },
      "outputs": [],
      "source": [
        ""
      ]
    },
    {
      "cell_type": "code",
      "execution_count": null,
      "metadata": {
        "id": "5G0NPYo48n0o"
      },
      "outputs": [],
      "source": [
        ""
      ]
    },
    {
      "cell_type": "code",
      "execution_count": null,
      "metadata": {
        "id": "gNs_4oJk8n0o"
      },
      "outputs": [],
      "source": [
        ""
      ]
    },
    {
      "cell_type": "markdown",
      "metadata": {
        "id": "eVwKimYvuPZf"
      },
      "source": [
        "### pandas_series[index] | pandas_series[[indices, indices...]]"
      ]
    },
    {
      "cell_type": "code",
      "execution_count": null,
      "metadata": {
        "colab": {
          "base_uri": "https://localhost:8080/"
        },
        "id": "XTTUw6uq8n0o",
        "outputId": "c7f6f677-039f-451f-eaa5-9a6ae4a72ca1"
      },
      "outputs": [
        {
          "output_type": "execute_result",
          "data": {
            "text/plain": [
              "terry      121\n",
              "micheal    200\n",
              "orion      150\n",
              "jason       99\n",
              "dtype: int64"
            ]
          },
          "metadata": {},
          "execution_count": 99
        }
      ],
      "source": [
        "panser = pd.Series(data = [121, 200, 150, 99], index = [\"terry\", \"micheal\", \"orion\", \"jason\"])\n",
        "panser"
      ]
    },
    {
      "cell_type": "code",
      "execution_count": null,
      "metadata": {
        "colab": {
          "base_uri": "https://localhost:8080/"
        },
        "id": "ZRqncPsg8n0p",
        "outputId": "3e0cbeae-d772-4bcc-ef6d-e859a5bc1fa8"
      },
      "outputs": [
        {
          "output_type": "execute_result",
          "data": {
            "text/plain": [
              "terry    121\n",
              "orion    150\n",
              "dtype: int64"
            ]
          },
          "metadata": {},
          "execution_count": 100
        }
      ],
      "source": [
        "panser[[\"terry\", \"orion\"]]"
      ]
    },
    {
      "cell_type": "code",
      "execution_count": null,
      "metadata": {
        "colab": {
          "base_uri": "https://localhost:8080/"
        },
        "id": "skFqweq18n0p",
        "outputId": "61dae3e6-7797-4dd3-c5db-8512c2e15f46"
      },
      "outputs": [
        {
          "output_type": "execute_result",
          "data": {
            "text/plain": [
              "terry      121\n",
              "micheal    200\n",
              "orion      150\n",
              "dtype: int64"
            ]
          },
          "metadata": {},
          "execution_count": 101
        }
      ],
      "source": [
        "panser[\"terry\" : \"orion\"]"
      ]
    },
    {
      "cell_type": "code",
      "execution_count": null,
      "metadata": {
        "colab": {
          "base_uri": "https://localhost:8080/"
        },
        "id": "Y3urSbyx8n0p",
        "outputId": "9d304c9b-4275-46e4-fa9d-8a7dec32745e"
      },
      "outputs": [
        {
          "output_type": "execute_result",
          "data": {
            "text/plain": [
              "terry      121\n",
              "micheal    200\n",
              "orion      150\n",
              "dtype: int64"
            ]
          },
          "metadata": {},
          "execution_count": 102
        }
      ],
      "source": [
        "panser[0:3]"
      ]
    },
    {
      "cell_type": "code",
      "execution_count": null,
      "metadata": {
        "id": "QQ1tk3lQ8n0p"
      },
      "outputs": [],
      "source": [
        ""
      ]
    },
    {
      "cell_type": "code",
      "execution_count": null,
      "metadata": {
        "id": "MgMD4L--8n0p"
      },
      "outputs": [],
      "source": [
        ""
      ]
    },
    {
      "cell_type": "markdown",
      "metadata": {
        "id": "fVhSe_tfuPZh"
      },
      "source": [
        "### Recap for Several Selecting Attributes"
      ]
    },
    {
      "cell_type": "code",
      "execution_count": null,
      "metadata": {
        "colab": {
          "base_uri": "https://localhost:8080/"
        },
        "id": "CDHOWDh38n0q",
        "outputId": "4d0ca33d-9d8b-440a-b99f-69703a369669"
      },
      "outputs": [
        {
          "output_type": "execute_result",
          "data": {
            "text/plain": [
              "terry      121\n",
              "micheal    200\n",
              "orion      150\n",
              "jason       99\n",
              "dtype: int64"
            ]
          },
          "metadata": {},
          "execution_count": 103
        }
      ],
      "source": [
        "panser"
      ]
    },
    {
      "cell_type": "code",
      "execution_count": null,
      "metadata": {
        "colab": {
          "base_uri": "https://localhost:8080/"
        },
        "id": "CezDkrNm8n0q",
        "outputId": "f8a3588c-2779-4a92-95d4-dbf697e235a2"
      },
      "outputs": [
        {
          "output_type": "execute_result",
          "data": {
            "text/plain": [
              "Index(['terry', 'micheal', 'orion', 'jason'], dtype='object')"
            ]
          },
          "metadata": {},
          "execution_count": 104
        }
      ],
      "source": [
        "panser.keys()"
      ]
    },
    {
      "cell_type": "code",
      "source": [
        "panser.index"
      ],
      "metadata": {
        "colab": {
          "base_uri": "https://localhost:8080/"
        },
        "id": "FwHUWpq-cqqL",
        "outputId": "7a7e94ba-f1bf-4820-aaed-67f780c4dcdd"
      },
      "execution_count": null,
      "outputs": [
        {
          "output_type": "execute_result",
          "data": {
            "text/plain": [
              "Index(['terry', 'micheal', 'orion', 'jason'], dtype='object')"
            ]
          },
          "metadata": {},
          "execution_count": 105
        }
      ]
    },
    {
      "cell_type": "code",
      "execution_count": null,
      "metadata": {
        "colab": {
          "base_uri": "https://localhost:8080/"
        },
        "id": "XmASjTVN8n0q",
        "outputId": "d6a3b8b7-b405-476c-93b3-35f417ec33a7"
      },
      "outputs": [
        {
          "output_type": "execute_result",
          "data": {
            "text/plain": [
              "array([121, 200, 150,  99])"
            ]
          },
          "metadata": {},
          "execution_count": 106
        }
      ],
      "source": [
        "panser.values"
      ]
    },
    {
      "cell_type": "code",
      "execution_count": null,
      "metadata": {
        "colab": {
          "base_uri": "https://localhost:8080/"
        },
        "id": "sGnw9cQu8n0q",
        "outputId": "97e209fa-f8c0-4d47-be57-4b4b7878ea5b"
      },
      "outputs": [
        {
          "output_type": "execute_result",
          "data": {
            "text/plain": [
              "<zip at 0x7fc612947050>"
            ]
          },
          "metadata": {},
          "execution_count": 107
        }
      ],
      "source": [
        "panser.items()"
      ]
    },
    {
      "cell_type": "code",
      "source": [
        "panser.item # kendim denedim"
      ],
      "metadata": {
        "colab": {
          "base_uri": "https://localhost:8080/"
        },
        "id": "uVP-g8k0dEN1",
        "outputId": "57f62122-7d03-4999-9fc5-0a61998122cc"
      },
      "execution_count": null,
      "outputs": [
        {
          "output_type": "execute_result",
          "data": {
            "text/plain": [
              "<bound method IndexOpsMixin.item of terry      121\n",
              "micheal    200\n",
              "orion      150\n",
              "jason       99\n",
              "dtype: int64>"
            ]
          },
          "metadata": {},
          "execution_count": 111
        }
      ]
    },
    {
      "cell_type": "code",
      "execution_count": null,
      "metadata": {
        "colab": {
          "base_uri": "https://localhost:8080/"
        },
        "id": "UoOO7OTN8n0q",
        "outputId": "20c69ace-f70f-4bf7-a9f4-f8910d08ec2b"
      },
      "outputs": [
        {
          "output_type": "stream",
          "name": "stdout",
          "text": [
            "terry 121\n",
            "micheal 200\n",
            "orion 150\n",
            "jason 99\n"
          ]
        }
      ],
      "source": [
        "for index, value in panser.items():\n",
        "  print(index, value)"
      ]
    },
    {
      "cell_type": "code",
      "execution_count": null,
      "metadata": {
        "colab": {
          "base_uri": "https://localhost:8080/"
        },
        "id": "TX553wiY8n0q",
        "outputId": "10cd716f-8bca-47b1-f258-cbe08947cc29"
      },
      "outputs": [
        {
          "output_type": "execute_result",
          "data": {
            "text/plain": [
              "True"
            ]
          },
          "metadata": {},
          "execution_count": 117
        }
      ],
      "source": [
        "\"terry\" in panser"
      ]
    },
    {
      "cell_type": "code",
      "execution_count": null,
      "metadata": {
        "colab": {
          "base_uri": "https://localhost:8080/"
        },
        "id": "M3C7gFi08n0r",
        "outputId": "1b0ca4c5-45a7-48b1-f03a-05650b3b895d"
      },
      "outputs": [
        {
          "output_type": "execute_result",
          "data": {
            "text/plain": [
              "False"
            ]
          },
          "metadata": {},
          "execution_count": 113
        }
      ],
      "source": [
        "\"bob\" in panser"
      ]
    },
    {
      "cell_type": "code",
      "execution_count": null,
      "metadata": {
        "colab": {
          "base_uri": "https://localhost:8080/"
        },
        "id": "lAwUzrJ48n0r",
        "outputId": "181f2e56-c003-4d28-fab1-ae405701c2a6"
      },
      "outputs": [
        {
          "output_type": "execute_result",
          "data": {
            "text/plain": [
              "True"
            ]
          },
          "metadata": {},
          "execution_count": 114
        }
      ],
      "source": [
        "200 in panser.values"
      ]
    },
    {
      "cell_type": "code",
      "execution_count": null,
      "metadata": {
        "colab": {
          "base_uri": "https://localhost:8080/"
        },
        "id": "Kz9QP0k48n0r",
        "outputId": "db62d2fe-ac3a-499b-aa60-d64df735b5d7"
      },
      "outputs": [
        {
          "output_type": "execute_result",
          "data": {
            "text/plain": [
              "terry      False\n",
              "micheal     True\n",
              "orion       True\n",
              "jason      False\n",
              "dtype: bool"
            ]
          },
          "metadata": {},
          "execution_count": 115
        }
      ],
      "source": [
        "panser.isin([200,150])"
      ]
    },
    {
      "cell_type": "code",
      "execution_count": null,
      "metadata": {
        "colab": {
          "base_uri": "https://localhost:8080/"
        },
        "id": "b2fHN-X48n0r",
        "outputId": "1dd4097c-b584-4819-c604-0e45176128a5"
      },
      "outputs": [
        {
          "output_type": "execute_result",
          "data": {
            "text/plain": [
              "terry       90\n",
              "micheal    200\n",
              "orion      150\n",
              "jason       99\n",
              "dtype: int64"
            ]
          },
          "metadata": {},
          "execution_count": 118
        }
      ],
      "source": [
        "panser[\"terry\"] = 90\n",
        "panser"
      ]
    },
    {
      "cell_type": "code",
      "source": [
        "panser[panser>100]"
      ],
      "metadata": {
        "colab": {
          "base_uri": "https://localhost:8080/"
        },
        "id": "83wQLgcRe47j",
        "outputId": "9ea9783d-0b88-4c0f-d0f8-12411516d42f"
      },
      "execution_count": null,
      "outputs": [
        {
          "output_type": "execute_result",
          "data": {
            "text/plain": [
              "micheal    200\n",
              "orion      150\n",
              "dtype: int64"
            ]
          },
          "metadata": {},
          "execution_count": 119
        }
      ]
    },
    {
      "cell_type": "code",
      "source": [
        "panser"
      ],
      "metadata": {
        "colab": {
          "base_uri": "https://localhost:8080/"
        },
        "id": "sxXGTHp0e43Z",
        "outputId": "a3130742-e088-4177-fa2b-40b099cf3336"
      },
      "execution_count": null,
      "outputs": [
        {
          "output_type": "execute_result",
          "data": {
            "text/plain": [
              "terry       90\n",
              "micheal    200\n",
              "orion      150\n",
              "jason       99\n",
              "dtype: int64"
            ]
          },
          "metadata": {},
          "execution_count": 120
        }
      ]
    },
    {
      "cell_type": "code",
      "source": [
        ""
      ],
      "metadata": {
        "id": "7w5MiGBCe4y4"
      },
      "execution_count": null,
      "outputs": []
    }
  ],
  "metadata": {
    "colab": {
      "name": "DAwPy-S3 (Pandas Series)-empty.ipynb",
      "provenance": [],
      "include_colab_link": true
    },
    "kernelspec": {
      "display_name": "Python 3",
      "language": "python",
      "name": "python3"
    },
    "language_info": {
      "codemirror_mode": {
        "name": "ipython",
        "version": 3
      },
      "file_extension": ".py",
      "mimetype": "text/x-python",
      "name": "python",
      "nbconvert_exporter": "python",
      "pygments_lexer": "ipython3",
      "version": "3.7.6"
    }
  },
  "nbformat": 4,
  "nbformat_minor": 0
}