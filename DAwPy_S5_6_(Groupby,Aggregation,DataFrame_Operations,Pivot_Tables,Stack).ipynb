{
  "cells": [
    {
      "cell_type": "markdown",
      "metadata": {
        "id": "view-in-github",
        "colab_type": "text"
      },
      "source": [
        "<a href=\"https://colab.research.google.com/github/coder-omer/Pandas/blob/main/DAwPy_S5_6_(Groupby%2CAggregation%2CDataFrame_Operations%2CPivot_Tables%2CStack).ipynb\" target=\"_parent\"><img src=\"https://colab.research.google.com/assets/colab-badge.svg\" alt=\"Open In Colab\"/></a>"
      ]
    },
    {
      "cell_type": "markdown",
      "metadata": {
        "id": "hwXN7av6QhlX"
      },
      "source": [
        "\n",
        "<p style=\"text-align: center;\"><img src=\"https://docs.google.com/uc?id=1lY0Uj5R04yMY3-ZppPWxqCr5pvBLYPnV\" class=\"img-fluid\" alt=\"CLRSWY\"></p>\n",
        "\n",
        "___"
      ]
    },
    {
      "cell_type": "markdown",
      "metadata": {
        "id": "m_8BzUhnQhld"
      },
      "source": [
        "<h1><p style=\"text-align: center;\">Pandas Lesson, Session - 5</p><h1>"
      ]
    },
    {
      "cell_type": "markdown",
      "metadata": {
        "id": "m-P4HnRXQhle"
      },
      "source": [
        "# Basic aggregation methods:\n",
        "\n",
        "* ``count()``\n",
        "* ``mean()``\n",
        "* ``median()``\n",
        "* ``min()``\n",
        "* ``max()``\n",
        "* ``std()``\n",
        "* ``var()``\n",
        "* ``sum()``\n",
        "* ``idxmin()``\n",
        "* ``idxmax()``\n",
        "* ``corr()``"
      ]
    },
    {
      "cell_type": "code",
      "execution_count": null,
      "metadata": {
        "id": "9fK0LEmHQhle"
      },
      "outputs": [],
      "source": [
        "import numpy as np\n",
        "import pandas as pd\n",
        "import seaborn as sns"
      ]
    },
    {
      "cell_type": "code",
      "execution_count": null,
      "metadata": {
        "id": "8xxVpWT84wYW",
        "outputId": "25f6f707-d650-4cea-8df9-65cdaac1f7b8"
      },
      "outputs": [
        {
          "data": {
            "text/html": [
              "<div>\n",
              "<style scoped>\n",
              "    .dataframe tbody tr th:only-of-type {\n",
              "        vertical-align: middle;\n",
              "    }\n",
              "\n",
              "    .dataframe tbody tr th {\n",
              "        vertical-align: top;\n",
              "    }\n",
              "\n",
              "    .dataframe thead th {\n",
              "        text-align: right;\n",
              "    }\n",
              "</style>\n",
              "<table border=\"1\" class=\"dataframe\">\n",
              "  <thead>\n",
              "    <tr style=\"text-align: right;\">\n",
              "      <th></th>\n",
              "      <th>x1</th>\n",
              "      <th>x2</th>\n",
              "      <th>x3</th>\n",
              "      <th>x4</th>\n",
              "      <th>x5</th>\n",
              "    </tr>\n",
              "  </thead>\n",
              "  <tbody>\n",
              "    <tr>\n",
              "      <th>0</th>\n",
              "      <td>51</td>\n",
              "      <td>92</td>\n",
              "      <td>14</td>\n",
              "      <td>71</td>\n",
              "      <td>60</td>\n",
              "    </tr>\n",
              "    <tr>\n",
              "      <th>1</th>\n",
              "      <td>20</td>\n",
              "      <td>82</td>\n",
              "      <td>86</td>\n",
              "      <td>74</td>\n",
              "      <td>74</td>\n",
              "    </tr>\n",
              "    <tr>\n",
              "      <th>2</th>\n",
              "      <td>87</td>\n",
              "      <td>99</td>\n",
              "      <td>23</td>\n",
              "      <td>2</td>\n",
              "      <td>21</td>\n",
              "    </tr>\n",
              "    <tr>\n",
              "      <th>3</th>\n",
              "      <td>52</td>\n",
              "      <td>1</td>\n",
              "      <td>87</td>\n",
              "      <td>29</td>\n",
              "      <td>37</td>\n",
              "    </tr>\n",
              "    <tr>\n",
              "      <th>4</th>\n",
              "      <td>1</td>\n",
              "      <td>63</td>\n",
              "      <td>59</td>\n",
              "      <td>20</td>\n",
              "      <td>32</td>\n",
              "    </tr>\n",
              "    <tr>\n",
              "      <th>5</th>\n",
              "      <td>75</td>\n",
              "      <td>57</td>\n",
              "      <td>21</td>\n",
              "      <td>88</td>\n",
              "      <td>48</td>\n",
              "    </tr>\n",
              "    <tr>\n",
              "      <th>6</th>\n",
              "      <td>90</td>\n",
              "      <td>58</td>\n",
              "      <td>41</td>\n",
              "      <td>91</td>\n",
              "      <td>59</td>\n",
              "    </tr>\n",
              "  </tbody>\n",
              "</table>\n",
              "</div>"
            ],
            "text/plain": [
              "   x1  x2  x3  x4  x5\n",
              "0  51  92  14  71  60\n",
              "1  20  82  86  74  74\n",
              "2  87  99  23   2  21\n",
              "3  52   1  87  29  37\n",
              "4   1  63  59  20  32\n",
              "5  75  57  21  88  48\n",
              "6  90  58  41  91  59"
            ]
          },
          "execution_count": 2,
          "metadata": {},
          "output_type": "execute_result"
        }
      ],
      "source": [
        "np.random.seed(42)\n",
        "df = pd.DataFrame(np.random.randint(0,100,size=(7,5)),\n",
        "                  columns=[\"x1\",\"x2\",\"x3\",\"x4\",\"x5\"])\n",
        "df"
      ]
    },
    {
      "cell_type": "code",
      "execution_count": null,
      "metadata": {
        "id": "UzoiKIcR4wYY",
        "outputId": "13dca369-37a1-4e4c-e6d7-c6ba95104074"
      },
      "outputs": [
        {
          "data": {
            "text/plain": [
              "x1    7\n",
              "x2    7\n",
              "x3    7\n",
              "x4    7\n",
              "x5    7\n",
              "dtype: int64"
            ]
          },
          "execution_count": 3,
          "metadata": {},
          "output_type": "execute_result"
        }
      ],
      "source": [
        "df.count()"
      ]
    },
    {
      "cell_type": "code",
      "execution_count": null,
      "metadata": {
        "id": "w9iRlLFt4wYZ",
        "outputId": "3ec7eedc-f266-4dca-8e98-8173b6c3394d"
      },
      "outputs": [
        {
          "data": {
            "text/plain": [
              "7"
            ]
          },
          "execution_count": 4,
          "metadata": {},
          "output_type": "execute_result"
        }
      ],
      "source": [
        "df.x1.count()"
      ]
    },
    {
      "cell_type": "code",
      "execution_count": null,
      "metadata": {
        "id": "vpLDP3jo4wYa",
        "outputId": "a01ea1d3-4bec-4468-ac78-f4f034a8b947"
      },
      "outputs": [
        {
          "data": {
            "text/plain": [
              "x1    53.714286\n",
              "x2    64.571429\n",
              "x3    47.285714\n",
              "x4    53.571429\n",
              "x5    47.285714\n",
              "dtype: float64"
            ]
          },
          "execution_count": 5,
          "metadata": {},
          "output_type": "execute_result"
        }
      ],
      "source": [
        "df.mean()"
      ]
    },
    {
      "cell_type": "code",
      "execution_count": null,
      "metadata": {
        "id": "9GYm48L_4wYb",
        "outputId": "38a388d7-07b8-40d0-d572-c762df98b194"
      },
      "outputs": [
        {
          "data": {
            "text/plain": [
              "64.57142857142857"
            ]
          },
          "execution_count": 6,
          "metadata": {},
          "output_type": "execute_result"
        }
      ],
      "source": [
        "df.x2.mean()"
      ]
    },
    {
      "cell_type": "code",
      "execution_count": null,
      "metadata": {
        "id": "TZIzhqlL4wYc",
        "outputId": "dbd72b2a-0503-4b5a-c50a-782888320e91"
      },
      "outputs": [
        {
          "data": {
            "text/plain": [
              "x1    52.0\n",
              "x2    63.0\n",
              "x3    41.0\n",
              "x4    71.0\n",
              "x5    48.0\n",
              "dtype: float64"
            ]
          },
          "execution_count": 7,
          "metadata": {},
          "output_type": "execute_result"
        }
      ],
      "source": [
        "df.median()"
      ]
    },
    {
      "cell_type": "code",
      "execution_count": null,
      "metadata": {
        "id": "X5My6Dj-4wYd",
        "outputId": "a0a9a08a-6693-4c66-dfe7-7630f562586e"
      },
      "outputs": [
        {
          "data": {
            "text/plain": [
              "41.0"
            ]
          },
          "execution_count": 8,
          "metadata": {},
          "output_type": "execute_result"
        }
      ],
      "source": [
        "df.x3.median()"
      ]
    },
    {
      "cell_type": "code",
      "execution_count": null,
      "metadata": {
        "id": "KeXTsfXC4wYd",
        "outputId": "8ad19781-2a38-41c4-a834-4d78f86fa212"
      },
      "outputs": [
        {
          "data": {
            "text/plain": [
              "x1     1\n",
              "x2     1\n",
              "x3    14\n",
              "x4     2\n",
              "x5    21\n",
              "dtype: int32"
            ]
          },
          "execution_count": 9,
          "metadata": {},
          "output_type": "execute_result"
        }
      ],
      "source": [
        "df.min()"
      ]
    },
    {
      "cell_type": "code",
      "execution_count": null,
      "metadata": {
        "id": "VyyvYq8B4wYe",
        "outputId": "3a311708-ebe8-4458-fb01-06d3ad1148eb"
      },
      "outputs": [
        {
          "data": {
            "text/plain": [
              "2"
            ]
          },
          "execution_count": 10,
          "metadata": {},
          "output_type": "execute_result"
        }
      ],
      "source": [
        "df.x4.min()"
      ]
    },
    {
      "cell_type": "code",
      "execution_count": null,
      "metadata": {
        "id": "C545onL24wYf",
        "outputId": "fa19dac2-24df-4ae6-d565-ba50b6529271"
      },
      "outputs": [
        {
          "data": {
            "text/plain": [
              "x1    4\n",
              "x2    3\n",
              "x3    0\n",
              "x4    2\n",
              "x5    2\n",
              "dtype: int64"
            ]
          },
          "execution_count": 11,
          "metadata": {},
          "output_type": "execute_result"
        }
      ],
      "source": [
        "df.idxmin()\n",
        "#df.argmin() # it gives an error"
      ]
    },
    {
      "cell_type": "code",
      "execution_count": null,
      "metadata": {
        "id": "l0O38oZv4wYf",
        "outputId": "923e9b7f-e1f6-4a79-cee0-08bd2c68b941"
      },
      "outputs": [
        {
          "data": {
            "text/plain": [
              "2"
            ]
          },
          "execution_count": 12,
          "metadata": {},
          "output_type": "execute_result"
        }
      ],
      "source": [
        "df.x5.idxmin()\n",
        "#df.x5.argmin()"
      ]
    },
    {
      "cell_type": "code",
      "execution_count": null,
      "metadata": {
        "id": "EYgOXiTf4wYg",
        "outputId": "841636c8-f83a-4431-e15f-a9481613b204"
      },
      "outputs": [
        {
          "data": {
            "text/plain": [
              "x1    33.673502\n",
              "x2    32.623392\n",
              "x3    30.663302\n",
              "x4    35.818325\n",
              "x5    18.454577\n",
              "dtype: float64"
            ]
          },
          "execution_count": 13,
          "metadata": {},
          "output_type": "execute_result"
        }
      ],
      "source": [
        "df.std()"
      ]
    },
    {
      "cell_type": "code",
      "execution_count": null,
      "metadata": {
        "id": "lfxSyZxo4wYg",
        "outputId": "3b43f092-645f-441a-ee2b-cad9510c5b0b"
      },
      "outputs": [
        {
          "data": {
            "text/plain": [
              "x1    33.673502\n",
              "x2    32.623392\n",
              "dtype: float64"
            ]
          },
          "execution_count": 14,
          "metadata": {},
          "output_type": "execute_result"
        }
      ],
      "source": [
        "df[[\"x1\", \"x2\"]].std()"
      ]
    },
    {
      "cell_type": "code",
      "execution_count": null,
      "metadata": {
        "id": "8yFDr0fB4wYh",
        "outputId": "80f876f9-ee12-4d5d-89cd-207a0a3573ab"
      },
      "outputs": [
        {
          "data": {
            "text/plain": [
              "x1    1133.904762\n",
              "x2    1064.285714\n",
              "x3     940.238095\n",
              "x4    1282.952381\n",
              "x5     340.571429\n",
              "dtype: float64"
            ]
          },
          "execution_count": 15,
          "metadata": {},
          "output_type": "execute_result"
        }
      ],
      "source": [
        "df.var()"
      ]
    },
    {
      "cell_type": "code",
      "execution_count": null,
      "metadata": {
        "id": "nYp4eMjj4wYh",
        "outputId": "28e53ac5-91fe-407f-b000-ad1fd0591300"
      },
      "outputs": [
        {
          "data": {
            "text/plain": [
              "x1    1133.904762\n",
              "x2    1064.285714\n",
              "dtype: float64"
            ]
          },
          "execution_count": 16,
          "metadata": {},
          "output_type": "execute_result"
        }
      ],
      "source": [
        "df[[\"x1\", \"x2\"]].var()"
      ]
    },
    {
      "cell_type": "code",
      "execution_count": null,
      "metadata": {
        "id": "0exKk4Te4wYi",
        "outputId": "4762289f-8ea2-4b9b-b629-65a89f799ed1"
      },
      "outputs": [
        {
          "data": {
            "text/plain": [
              "x1    376\n",
              "x2    452\n",
              "x3    331\n",
              "x4    375\n",
              "x5    331\n",
              "dtype: int64"
            ]
          },
          "execution_count": 17,
          "metadata": {},
          "output_type": "execute_result"
        }
      ],
      "source": [
        "df.sum(axis=0)"
      ]
    },
    {
      "cell_type": "code",
      "execution_count": null,
      "metadata": {
        "id": "kcUcetm24wYi",
        "outputId": "76a15af6-9a42-45ba-8fe2-97f51ba4aef4"
      },
      "outputs": [
        {
          "data": {
            "text/plain": [
              "0    288\n",
              "1    336\n",
              "2    232\n",
              "3    206\n",
              "4    175\n",
              "5    289\n",
              "6    339\n",
              "dtype: int64"
            ]
          },
          "execution_count": 18,
          "metadata": {},
          "output_type": "execute_result"
        }
      ],
      "source": [
        "df.sum(axis=1)"
      ]
    },
    {
      "cell_type": "code",
      "execution_count": null,
      "metadata": {
        "id": "f1PkZlGC4wYj",
        "outputId": "813deadc-4664-4cc4-bb3a-940d41783b07"
      },
      "outputs": [
        {
          "data": {
            "text/plain": [
              "376"
            ]
          },
          "execution_count": 19,
          "metadata": {},
          "output_type": "execute_result"
        }
      ],
      "source": [
        "df.x1.sum()"
      ]
    },
    {
      "cell_type": "code",
      "execution_count": null,
      "metadata": {
        "id": "9d0ngrBo5N03",
        "outputId": "eab7de88-f22b-4a1c-9ad0-579cf2a78750"
      },
      "outputs": [
        {
          "data": {
            "text/html": [
              "<div>\n",
              "<style scoped>\n",
              "    .dataframe tbody tr th:only-of-type {\n",
              "        vertical-align: middle;\n",
              "    }\n",
              "\n",
              "    .dataframe tbody tr th {\n",
              "        vertical-align: top;\n",
              "    }\n",
              "\n",
              "    .dataframe thead th {\n",
              "        text-align: right;\n",
              "    }\n",
              "</style>\n",
              "<table border=\"1\" class=\"dataframe\">\n",
              "  <thead>\n",
              "    <tr style=\"text-align: right;\">\n",
              "      <th></th>\n",
              "      <th>x1</th>\n",
              "      <th>x2</th>\n",
              "      <th>x3</th>\n",
              "      <th>x4</th>\n",
              "      <th>x5</th>\n",
              "    </tr>\n",
              "  </thead>\n",
              "  <tbody>\n",
              "    <tr>\n",
              "      <th>count</th>\n",
              "      <td>7.000000</td>\n",
              "      <td>7.000000</td>\n",
              "      <td>7.000000</td>\n",
              "      <td>7.000000</td>\n",
              "      <td>7.000000</td>\n",
              "    </tr>\n",
              "    <tr>\n",
              "      <th>mean</th>\n",
              "      <td>53.714286</td>\n",
              "      <td>64.571429</td>\n",
              "      <td>47.285714</td>\n",
              "      <td>53.571429</td>\n",
              "      <td>47.285714</td>\n",
              "    </tr>\n",
              "    <tr>\n",
              "      <th>std</th>\n",
              "      <td>33.673502</td>\n",
              "      <td>32.623392</td>\n",
              "      <td>30.663302</td>\n",
              "      <td>35.818325</td>\n",
              "      <td>18.454577</td>\n",
              "    </tr>\n",
              "    <tr>\n",
              "      <th>min</th>\n",
              "      <td>1.000000</td>\n",
              "      <td>1.000000</td>\n",
              "      <td>14.000000</td>\n",
              "      <td>2.000000</td>\n",
              "      <td>21.000000</td>\n",
              "    </tr>\n",
              "    <tr>\n",
              "      <th>25%</th>\n",
              "      <td>35.500000</td>\n",
              "      <td>57.500000</td>\n",
              "      <td>22.000000</td>\n",
              "      <td>24.500000</td>\n",
              "      <td>34.500000</td>\n",
              "    </tr>\n",
              "    <tr>\n",
              "      <th>50%</th>\n",
              "      <td>52.000000</td>\n",
              "      <td>63.000000</td>\n",
              "      <td>41.000000</td>\n",
              "      <td>71.000000</td>\n",
              "      <td>48.000000</td>\n",
              "    </tr>\n",
              "    <tr>\n",
              "      <th>75%</th>\n",
              "      <td>81.000000</td>\n",
              "      <td>87.000000</td>\n",
              "      <td>72.500000</td>\n",
              "      <td>81.000000</td>\n",
              "      <td>59.500000</td>\n",
              "    </tr>\n",
              "    <tr>\n",
              "      <th>max</th>\n",
              "      <td>90.000000</td>\n",
              "      <td>99.000000</td>\n",
              "      <td>87.000000</td>\n",
              "      <td>91.000000</td>\n",
              "      <td>74.000000</td>\n",
              "    </tr>\n",
              "  </tbody>\n",
              "</table>\n",
              "</div>"
            ],
            "text/plain": [
              "              x1         x2         x3         x4         x5\n",
              "count   7.000000   7.000000   7.000000   7.000000   7.000000\n",
              "mean   53.714286  64.571429  47.285714  53.571429  47.285714\n",
              "std    33.673502  32.623392  30.663302  35.818325  18.454577\n",
              "min     1.000000   1.000000  14.000000   2.000000  21.000000\n",
              "25%    35.500000  57.500000  22.000000  24.500000  34.500000\n",
              "50%    52.000000  63.000000  41.000000  71.000000  48.000000\n",
              "75%    81.000000  87.000000  72.500000  81.000000  59.500000\n",
              "max    90.000000  99.000000  87.000000  91.000000  74.000000"
            ]
          },
          "execution_count": 20,
          "metadata": {},
          "output_type": "execute_result"
        }
      ],
      "source": [
        "df.describe()"
      ]
    },
    {
      "cell_type": "code",
      "execution_count": null,
      "metadata": {
        "id": "UL8uJOO6Qhlk",
        "outputId": "6c7b56eb-0d7c-4fbe-e0ab-849639addca0"
      },
      "outputs": [
        {
          "data": {
            "text/html": [
              "<div>\n",
              "<style scoped>\n",
              "    .dataframe tbody tr th:only-of-type {\n",
              "        vertical-align: middle;\n",
              "    }\n",
              "\n",
              "    .dataframe tbody tr th {\n",
              "        vertical-align: top;\n",
              "    }\n",
              "\n",
              "    .dataframe thead th {\n",
              "        text-align: right;\n",
              "    }\n",
              "</style>\n",
              "<table border=\"1\" class=\"dataframe\">\n",
              "  <thead>\n",
              "    <tr style=\"text-align: right;\">\n",
              "      <th></th>\n",
              "      <th>count</th>\n",
              "      <th>mean</th>\n",
              "      <th>std</th>\n",
              "      <th>min</th>\n",
              "      <th>25%</th>\n",
              "      <th>50%</th>\n",
              "      <th>75%</th>\n",
              "      <th>max</th>\n",
              "    </tr>\n",
              "  </thead>\n",
              "  <tbody>\n",
              "    <tr>\n",
              "      <th>x1</th>\n",
              "      <td>7.0</td>\n",
              "      <td>53.714286</td>\n",
              "      <td>33.673502</td>\n",
              "      <td>1.0</td>\n",
              "      <td>35.5</td>\n",
              "      <td>52.0</td>\n",
              "      <td>81.0</td>\n",
              "      <td>90.0</td>\n",
              "    </tr>\n",
              "    <tr>\n",
              "      <th>x2</th>\n",
              "      <td>7.0</td>\n",
              "      <td>64.571429</td>\n",
              "      <td>32.623392</td>\n",
              "      <td>1.0</td>\n",
              "      <td>57.5</td>\n",
              "      <td>63.0</td>\n",
              "      <td>87.0</td>\n",
              "      <td>99.0</td>\n",
              "    </tr>\n",
              "    <tr>\n",
              "      <th>x3</th>\n",
              "      <td>7.0</td>\n",
              "      <td>47.285714</td>\n",
              "      <td>30.663302</td>\n",
              "      <td>14.0</td>\n",
              "      <td>22.0</td>\n",
              "      <td>41.0</td>\n",
              "      <td>72.5</td>\n",
              "      <td>87.0</td>\n",
              "    </tr>\n",
              "    <tr>\n",
              "      <th>x4</th>\n",
              "      <td>7.0</td>\n",
              "      <td>53.571429</td>\n",
              "      <td>35.818325</td>\n",
              "      <td>2.0</td>\n",
              "      <td>24.5</td>\n",
              "      <td>71.0</td>\n",
              "      <td>81.0</td>\n",
              "      <td>91.0</td>\n",
              "    </tr>\n",
              "    <tr>\n",
              "      <th>x5</th>\n",
              "      <td>7.0</td>\n",
              "      <td>47.285714</td>\n",
              "      <td>18.454577</td>\n",
              "      <td>21.0</td>\n",
              "      <td>34.5</td>\n",
              "      <td>48.0</td>\n",
              "      <td>59.5</td>\n",
              "      <td>74.0</td>\n",
              "    </tr>\n",
              "  </tbody>\n",
              "</table>\n",
              "</div>"
            ],
            "text/plain": [
              "    count       mean        std   min   25%   50%   75%   max\n",
              "x1    7.0  53.714286  33.673502   1.0  35.5  52.0  81.0  90.0\n",
              "x2    7.0  64.571429  32.623392   1.0  57.5  63.0  87.0  99.0\n",
              "x3    7.0  47.285714  30.663302  14.0  22.0  41.0  72.5  87.0\n",
              "x4    7.0  53.571429  35.818325   2.0  24.5  71.0  81.0  91.0\n",
              "x5    7.0  47.285714  18.454577  21.0  34.5  48.0  59.5  74.0"
            ]
          },
          "execution_count": 21,
          "metadata": {},
          "output_type": "execute_result"
        }
      ],
      "source": [
        "df.describe().T"
      ]
    },
    {
      "cell_type": "markdown",
      "metadata": {
        "collapsed": true,
        "id": "oK6Sr7bqQhle"
      },
      "source": [
        "# Groupby  & Aggregation\n",
        "\n",
        "## DataFrame.groupby()\n",
        "\n",
        "- The **groupby** method allows you to group rows of data together and call aggregate functions"
      ]
    },
    {
      "cell_type": "code",
      "execution_count": null,
      "metadata": {
        "colab": {
          "base_uri": "https://localhost:8080/",
          "height": 204
        },
        "id": "iv4o2TVWQhlf",
        "outputId": "8d0325a4-88b3-413f-ea87-84d0b4e345da"
      },
      "outputs": [
        {
          "data": {
            "text/html": [
              "<div>\n",
              "<style scoped>\n",
              "    .dataframe tbody tr th:only-of-type {\n",
              "        vertical-align: middle;\n",
              "    }\n",
              "\n",
              "    .dataframe tbody tr th {\n",
              "        vertical-align: top;\n",
              "    }\n",
              "\n",
              "    .dataframe thead th {\n",
              "        text-align: right;\n",
              "    }\n",
              "</style>\n",
              "<table border=\"1\" class=\"dataframe\">\n",
              "  <thead>\n",
              "    <tr style=\"text-align: right;\">\n",
              "      <th></th>\n",
              "      <th>sepal_length</th>\n",
              "      <th>sepal_width</th>\n",
              "      <th>petal_length</th>\n",
              "      <th>petal_width</th>\n",
              "      <th>species</th>\n",
              "    </tr>\n",
              "  </thead>\n",
              "  <tbody>\n",
              "    <tr>\n",
              "      <th>0</th>\n",
              "      <td>5.1</td>\n",
              "      <td>3.5</td>\n",
              "      <td>1.4</td>\n",
              "      <td>0.2</td>\n",
              "      <td>setosa</td>\n",
              "    </tr>\n",
              "    <tr>\n",
              "      <th>1</th>\n",
              "      <td>4.9</td>\n",
              "      <td>3.0</td>\n",
              "      <td>1.4</td>\n",
              "      <td>0.2</td>\n",
              "      <td>setosa</td>\n",
              "    </tr>\n",
              "    <tr>\n",
              "      <th>2</th>\n",
              "      <td>4.7</td>\n",
              "      <td>3.2</td>\n",
              "      <td>1.3</td>\n",
              "      <td>0.2</td>\n",
              "      <td>setosa</td>\n",
              "    </tr>\n",
              "    <tr>\n",
              "      <th>3</th>\n",
              "      <td>4.6</td>\n",
              "      <td>3.1</td>\n",
              "      <td>1.5</td>\n",
              "      <td>0.2</td>\n",
              "      <td>setosa</td>\n",
              "    </tr>\n",
              "    <tr>\n",
              "      <th>4</th>\n",
              "      <td>5.0</td>\n",
              "      <td>3.6</td>\n",
              "      <td>1.4</td>\n",
              "      <td>0.2</td>\n",
              "      <td>setosa</td>\n",
              "    </tr>\n",
              "    <tr>\n",
              "      <th>...</th>\n",
              "      <td>...</td>\n",
              "      <td>...</td>\n",
              "      <td>...</td>\n",
              "      <td>...</td>\n",
              "      <td>...</td>\n",
              "    </tr>\n",
              "    <tr>\n",
              "      <th>145</th>\n",
              "      <td>6.7</td>\n",
              "      <td>3.0</td>\n",
              "      <td>5.2</td>\n",
              "      <td>2.3</td>\n",
              "      <td>virginica</td>\n",
              "    </tr>\n",
              "    <tr>\n",
              "      <th>146</th>\n",
              "      <td>6.3</td>\n",
              "      <td>2.5</td>\n",
              "      <td>5.0</td>\n",
              "      <td>1.9</td>\n",
              "      <td>virginica</td>\n",
              "    </tr>\n",
              "    <tr>\n",
              "      <th>147</th>\n",
              "      <td>6.5</td>\n",
              "      <td>3.0</td>\n",
              "      <td>5.2</td>\n",
              "      <td>2.0</td>\n",
              "      <td>virginica</td>\n",
              "    </tr>\n",
              "    <tr>\n",
              "      <th>148</th>\n",
              "      <td>6.2</td>\n",
              "      <td>3.4</td>\n",
              "      <td>5.4</td>\n",
              "      <td>2.3</td>\n",
              "      <td>virginica</td>\n",
              "    </tr>\n",
              "    <tr>\n",
              "      <th>149</th>\n",
              "      <td>5.9</td>\n",
              "      <td>3.0</td>\n",
              "      <td>5.1</td>\n",
              "      <td>1.8</td>\n",
              "      <td>virginica</td>\n",
              "    </tr>\n",
              "  </tbody>\n",
              "</table>\n",
              "<p>150 rows × 5 columns</p>\n",
              "</div>"
            ],
            "text/plain": [
              "     sepal_length  sepal_width  petal_length  petal_width    species\n",
              "0             5.1          3.5           1.4          0.2     setosa\n",
              "1             4.9          3.0           1.4          0.2     setosa\n",
              "2             4.7          3.2           1.3          0.2     setosa\n",
              "3             4.6          3.1           1.5          0.2     setosa\n",
              "4             5.0          3.6           1.4          0.2     setosa\n",
              "..            ...          ...           ...          ...        ...\n",
              "145           6.7          3.0           5.2          2.3  virginica\n",
              "146           6.3          2.5           5.0          1.9  virginica\n",
              "147           6.5          3.0           5.2          2.0  virginica\n",
              "148           6.2          3.4           5.4          2.3  virginica\n",
              "149           5.9          3.0           5.1          1.8  virginica\n",
              "\n",
              "[150 rows x 5 columns]"
            ]
          },
          "execution_count": 22,
          "metadata": {},
          "output_type": "execute_result"
        }
      ],
      "source": [
        "df=sns.load_dataset('iris')\n",
        "df"
      ]
    },
    {
      "cell_type": "code",
      "execution_count": null,
      "metadata": {
        "id": "wd9v1fE5Qhlm",
        "outputId": "0d57a04d-6185-4260-f951-ae7925f601f7"
      },
      "outputs": [
        {
          "data": {
            "text/plain": [
              "<pandas.core.groupby.generic.DataFrameGroupBy object at 0x000002509AA11448>"
            ]
          },
          "execution_count": 23,
          "metadata": {},
          "output_type": "execute_result"
        }
      ],
      "source": [
        "df.groupby('species')"
      ]
    },
    {
      "cell_type": "code",
      "execution_count": null,
      "metadata": {
        "id": "iPoJyMr2Qhlm",
        "outputId": "721265ba-43ca-41b1-f820-d3fc9ac40c34",
        "scrolled": true
      },
      "outputs": [
        {
          "data": {
            "text/html": [
              "<div>\n",
              "<style scoped>\n",
              "    .dataframe tbody tr th:only-of-type {\n",
              "        vertical-align: middle;\n",
              "    }\n",
              "\n",
              "    .dataframe tbody tr th {\n",
              "        vertical-align: top;\n",
              "    }\n",
              "\n",
              "    .dataframe thead th {\n",
              "        text-align: right;\n",
              "    }\n",
              "</style>\n",
              "<table border=\"1\" class=\"dataframe\">\n",
              "  <thead>\n",
              "    <tr style=\"text-align: right;\">\n",
              "      <th></th>\n",
              "      <th>sepal_length</th>\n",
              "      <th>sepal_width</th>\n",
              "      <th>petal_length</th>\n",
              "      <th>petal_width</th>\n",
              "    </tr>\n",
              "    <tr>\n",
              "      <th>species</th>\n",
              "      <th></th>\n",
              "      <th></th>\n",
              "      <th></th>\n",
              "      <th></th>\n",
              "    </tr>\n",
              "  </thead>\n",
              "  <tbody>\n",
              "    <tr>\n",
              "      <th>setosa</th>\n",
              "      <td>5.006</td>\n",
              "      <td>3.428</td>\n",
              "      <td>1.462</td>\n",
              "      <td>0.246</td>\n",
              "    </tr>\n",
              "    <tr>\n",
              "      <th>versicolor</th>\n",
              "      <td>5.936</td>\n",
              "      <td>2.770</td>\n",
              "      <td>4.260</td>\n",
              "      <td>1.326</td>\n",
              "    </tr>\n",
              "    <tr>\n",
              "      <th>virginica</th>\n",
              "      <td>6.588</td>\n",
              "      <td>2.974</td>\n",
              "      <td>5.552</td>\n",
              "      <td>2.026</td>\n",
              "    </tr>\n",
              "  </tbody>\n",
              "</table>\n",
              "</div>"
            ],
            "text/plain": [
              "            sepal_length  sepal_width  petal_length  petal_width\n",
              "species                                                         \n",
              "setosa             5.006        3.428         1.462        0.246\n",
              "versicolor         5.936        2.770         4.260        1.326\n",
              "virginica          6.588        2.974         5.552        2.026"
            ]
          },
          "execution_count": 24,
          "metadata": {},
          "output_type": "execute_result"
        }
      ],
      "source": [
        "df.groupby(\"species\").mean()"
      ]
    },
    {
      "cell_type": "code",
      "execution_count": null,
      "metadata": {
        "id": "iBg6d-V1Qhln",
        "outputId": "536b3c98-9fff-4e5e-f0a0-9e099df2d261"
      },
      "outputs": [
        {
          "data": {
            "text/html": [
              "<div>\n",
              "<style scoped>\n",
              "    .dataframe tbody tr th:only-of-type {\n",
              "        vertical-align: middle;\n",
              "    }\n",
              "\n",
              "    .dataframe tbody tr th {\n",
              "        vertical-align: top;\n",
              "    }\n",
              "\n",
              "    .dataframe thead tr th {\n",
              "        text-align: left;\n",
              "    }\n",
              "\n",
              "    .dataframe thead tr:last-of-type th {\n",
              "        text-align: right;\n",
              "    }\n",
              "</style>\n",
              "<table border=\"1\" class=\"dataframe\">\n",
              "  <thead>\n",
              "    <tr>\n",
              "      <th></th>\n",
              "      <th colspan=\"8\" halign=\"left\">sepal_length</th>\n",
              "      <th colspan=\"2\" halign=\"left\">sepal_width</th>\n",
              "      <th>...</th>\n",
              "      <th colspan=\"2\" halign=\"left\">petal_length</th>\n",
              "      <th colspan=\"8\" halign=\"left\">petal_width</th>\n",
              "    </tr>\n",
              "    <tr>\n",
              "      <th></th>\n",
              "      <th>count</th>\n",
              "      <th>mean</th>\n",
              "      <th>std</th>\n",
              "      <th>min</th>\n",
              "      <th>25%</th>\n",
              "      <th>50%</th>\n",
              "      <th>75%</th>\n",
              "      <th>max</th>\n",
              "      <th>count</th>\n",
              "      <th>mean</th>\n",
              "      <th>...</th>\n",
              "      <th>75%</th>\n",
              "      <th>max</th>\n",
              "      <th>count</th>\n",
              "      <th>mean</th>\n",
              "      <th>std</th>\n",
              "      <th>min</th>\n",
              "      <th>25%</th>\n",
              "      <th>50%</th>\n",
              "      <th>75%</th>\n",
              "      <th>max</th>\n",
              "    </tr>\n",
              "    <tr>\n",
              "      <th>species</th>\n",
              "      <th></th>\n",
              "      <th></th>\n",
              "      <th></th>\n",
              "      <th></th>\n",
              "      <th></th>\n",
              "      <th></th>\n",
              "      <th></th>\n",
              "      <th></th>\n",
              "      <th></th>\n",
              "      <th></th>\n",
              "      <th></th>\n",
              "      <th></th>\n",
              "      <th></th>\n",
              "      <th></th>\n",
              "      <th></th>\n",
              "      <th></th>\n",
              "      <th></th>\n",
              "      <th></th>\n",
              "      <th></th>\n",
              "      <th></th>\n",
              "      <th></th>\n",
              "    </tr>\n",
              "  </thead>\n",
              "  <tbody>\n",
              "    <tr>\n",
              "      <th>setosa</th>\n",
              "      <td>50.0</td>\n",
              "      <td>5.006</td>\n",
              "      <td>0.352490</td>\n",
              "      <td>4.3</td>\n",
              "      <td>4.800</td>\n",
              "      <td>5.0</td>\n",
              "      <td>5.2</td>\n",
              "      <td>5.8</td>\n",
              "      <td>50.0</td>\n",
              "      <td>3.428</td>\n",
              "      <td>...</td>\n",
              "      <td>1.575</td>\n",
              "      <td>1.9</td>\n",
              "      <td>50.0</td>\n",
              "      <td>0.246</td>\n",
              "      <td>0.105386</td>\n",
              "      <td>0.1</td>\n",
              "      <td>0.2</td>\n",
              "      <td>0.2</td>\n",
              "      <td>0.3</td>\n",
              "      <td>0.6</td>\n",
              "    </tr>\n",
              "    <tr>\n",
              "      <th>versicolor</th>\n",
              "      <td>50.0</td>\n",
              "      <td>5.936</td>\n",
              "      <td>0.516171</td>\n",
              "      <td>4.9</td>\n",
              "      <td>5.600</td>\n",
              "      <td>5.9</td>\n",
              "      <td>6.3</td>\n",
              "      <td>7.0</td>\n",
              "      <td>50.0</td>\n",
              "      <td>2.770</td>\n",
              "      <td>...</td>\n",
              "      <td>4.600</td>\n",
              "      <td>5.1</td>\n",
              "      <td>50.0</td>\n",
              "      <td>1.326</td>\n",
              "      <td>0.197753</td>\n",
              "      <td>1.0</td>\n",
              "      <td>1.2</td>\n",
              "      <td>1.3</td>\n",
              "      <td>1.5</td>\n",
              "      <td>1.8</td>\n",
              "    </tr>\n",
              "    <tr>\n",
              "      <th>virginica</th>\n",
              "      <td>50.0</td>\n",
              "      <td>6.588</td>\n",
              "      <td>0.635880</td>\n",
              "      <td>4.9</td>\n",
              "      <td>6.225</td>\n",
              "      <td>6.5</td>\n",
              "      <td>6.9</td>\n",
              "      <td>7.9</td>\n",
              "      <td>50.0</td>\n",
              "      <td>2.974</td>\n",
              "      <td>...</td>\n",
              "      <td>5.875</td>\n",
              "      <td>6.9</td>\n",
              "      <td>50.0</td>\n",
              "      <td>2.026</td>\n",
              "      <td>0.274650</td>\n",
              "      <td>1.4</td>\n",
              "      <td>1.8</td>\n",
              "      <td>2.0</td>\n",
              "      <td>2.3</td>\n",
              "      <td>2.5</td>\n",
              "    </tr>\n",
              "  </tbody>\n",
              "</table>\n",
              "<p>3 rows × 32 columns</p>\n",
              "</div>"
            ],
            "text/plain": [
              "           sepal_length                                              \\\n",
              "                  count   mean       std  min    25%  50%  75%  max   \n",
              "species                                                               \n",
              "setosa             50.0  5.006  0.352490  4.3  4.800  5.0  5.2  5.8   \n",
              "versicolor         50.0  5.936  0.516171  4.9  5.600  5.9  6.3  7.0   \n",
              "virginica          50.0  6.588  0.635880  4.9  6.225  6.5  6.9  7.9   \n",
              "\n",
              "           sepal_width         ... petal_length      petal_width         \\\n",
              "                 count   mean  ...          75%  max       count   mean   \n",
              "species                        ...                                        \n",
              "setosa            50.0  3.428  ...        1.575  1.9        50.0  0.246   \n",
              "versicolor        50.0  2.770  ...        4.600  5.1        50.0  1.326   \n",
              "virginica         50.0  2.974  ...        5.875  6.9        50.0  2.026   \n",
              "\n",
              "                                               \n",
              "                 std  min  25%  50%  75%  max  \n",
              "species                                        \n",
              "setosa      0.105386  0.1  0.2  0.2  0.3  0.6  \n",
              "versicolor  0.197753  1.0  1.2  1.3  1.5  1.8  \n",
              "virginica   0.274650  1.4  1.8  2.0  2.3  2.5  \n",
              "\n",
              "[3 rows x 32 columns]"
            ]
          },
          "execution_count": 25,
          "metadata": {},
          "output_type": "execute_result"
        }
      ],
      "source": [
        "df.groupby(\"species\").describe()"
      ]
    },
    {
      "cell_type": "code",
      "execution_count": null,
      "metadata": {
        "id": "8WJuZ2Lj4wYm",
        "outputId": "eee36e44-1fc4-4c49-e013-631722ac0acf"
      },
      "outputs": [
        {
          "data": {
            "text/html": [
              "<div>\n",
              "<style scoped>\n",
              "    .dataframe tbody tr th:only-of-type {\n",
              "        vertical-align: middle;\n",
              "    }\n",
              "\n",
              "    .dataframe tbody tr th {\n",
              "        vertical-align: top;\n",
              "    }\n",
              "\n",
              "    .dataframe thead th {\n",
              "        text-align: right;\n",
              "    }\n",
              "</style>\n",
              "<table border=\"1\" class=\"dataframe\">\n",
              "  <thead>\n",
              "    <tr style=\"text-align: right;\">\n",
              "      <th></th>\n",
              "      <th>species</th>\n",
              "      <th>setosa</th>\n",
              "      <th>versicolor</th>\n",
              "      <th>virginica</th>\n",
              "    </tr>\n",
              "  </thead>\n",
              "  <tbody>\n",
              "    <tr>\n",
              "      <th rowspan=\"8\" valign=\"top\">sepal_length</th>\n",
              "      <th>count</th>\n",
              "      <td>50.000000</td>\n",
              "      <td>50.000000</td>\n",
              "      <td>50.000000</td>\n",
              "    </tr>\n",
              "    <tr>\n",
              "      <th>mean</th>\n",
              "      <td>5.006000</td>\n",
              "      <td>5.936000</td>\n",
              "      <td>6.588000</td>\n",
              "    </tr>\n",
              "    <tr>\n",
              "      <th>std</th>\n",
              "      <td>0.352490</td>\n",
              "      <td>0.516171</td>\n",
              "      <td>0.635880</td>\n",
              "    </tr>\n",
              "    <tr>\n",
              "      <th>min</th>\n",
              "      <td>4.300000</td>\n",
              "      <td>4.900000</td>\n",
              "      <td>4.900000</td>\n",
              "    </tr>\n",
              "    <tr>\n",
              "      <th>25%</th>\n",
              "      <td>4.800000</td>\n",
              "      <td>5.600000</td>\n",
              "      <td>6.225000</td>\n",
              "    </tr>\n",
              "    <tr>\n",
              "      <th>50%</th>\n",
              "      <td>5.000000</td>\n",
              "      <td>5.900000</td>\n",
              "      <td>6.500000</td>\n",
              "    </tr>\n",
              "    <tr>\n",
              "      <th>75%</th>\n",
              "      <td>5.200000</td>\n",
              "      <td>6.300000</td>\n",
              "      <td>6.900000</td>\n",
              "    </tr>\n",
              "    <tr>\n",
              "      <th>max</th>\n",
              "      <td>5.800000</td>\n",
              "      <td>7.000000</td>\n",
              "      <td>7.900000</td>\n",
              "    </tr>\n",
              "    <tr>\n",
              "      <th rowspan=\"8\" valign=\"top\">sepal_width</th>\n",
              "      <th>count</th>\n",
              "      <td>50.000000</td>\n",
              "      <td>50.000000</td>\n",
              "      <td>50.000000</td>\n",
              "    </tr>\n",
              "    <tr>\n",
              "      <th>mean</th>\n",
              "      <td>3.428000</td>\n",
              "      <td>2.770000</td>\n",
              "      <td>2.974000</td>\n",
              "    </tr>\n",
              "    <tr>\n",
              "      <th>std</th>\n",
              "      <td>0.379064</td>\n",
              "      <td>0.313798</td>\n",
              "      <td>0.322497</td>\n",
              "    </tr>\n",
              "    <tr>\n",
              "      <th>min</th>\n",
              "      <td>2.300000</td>\n",
              "      <td>2.000000</td>\n",
              "      <td>2.200000</td>\n",
              "    </tr>\n",
              "    <tr>\n",
              "      <th>25%</th>\n",
              "      <td>3.200000</td>\n",
              "      <td>2.525000</td>\n",
              "      <td>2.800000</td>\n",
              "    </tr>\n",
              "    <tr>\n",
              "      <th>50%</th>\n",
              "      <td>3.400000</td>\n",
              "      <td>2.800000</td>\n",
              "      <td>3.000000</td>\n",
              "    </tr>\n",
              "    <tr>\n",
              "      <th>75%</th>\n",
              "      <td>3.675000</td>\n",
              "      <td>3.000000</td>\n",
              "      <td>3.175000</td>\n",
              "    </tr>\n",
              "    <tr>\n",
              "      <th>max</th>\n",
              "      <td>4.400000</td>\n",
              "      <td>3.400000</td>\n",
              "      <td>3.800000</td>\n",
              "    </tr>\n",
              "    <tr>\n",
              "      <th rowspan=\"8\" valign=\"top\">petal_length</th>\n",
              "      <th>count</th>\n",
              "      <td>50.000000</td>\n",
              "      <td>50.000000</td>\n",
              "      <td>50.000000</td>\n",
              "    </tr>\n",
              "    <tr>\n",
              "      <th>mean</th>\n",
              "      <td>1.462000</td>\n",
              "      <td>4.260000</td>\n",
              "      <td>5.552000</td>\n",
              "    </tr>\n",
              "    <tr>\n",
              "      <th>std</th>\n",
              "      <td>0.173664</td>\n",
              "      <td>0.469911</td>\n",
              "      <td>0.551895</td>\n",
              "    </tr>\n",
              "    <tr>\n",
              "      <th>min</th>\n",
              "      <td>1.000000</td>\n",
              "      <td>3.000000</td>\n",
              "      <td>4.500000</td>\n",
              "    </tr>\n",
              "    <tr>\n",
              "      <th>25%</th>\n",
              "      <td>1.400000</td>\n",
              "      <td>4.000000</td>\n",
              "      <td>5.100000</td>\n",
              "    </tr>\n",
              "    <tr>\n",
              "      <th>50%</th>\n",
              "      <td>1.500000</td>\n",
              "      <td>4.350000</td>\n",
              "      <td>5.550000</td>\n",
              "    </tr>\n",
              "    <tr>\n",
              "      <th>75%</th>\n",
              "      <td>1.575000</td>\n",
              "      <td>4.600000</td>\n",
              "      <td>5.875000</td>\n",
              "    </tr>\n",
              "    <tr>\n",
              "      <th>max</th>\n",
              "      <td>1.900000</td>\n",
              "      <td>5.100000</td>\n",
              "      <td>6.900000</td>\n",
              "    </tr>\n",
              "    <tr>\n",
              "      <th rowspan=\"8\" valign=\"top\">petal_width</th>\n",
              "      <th>count</th>\n",
              "      <td>50.000000</td>\n",
              "      <td>50.000000</td>\n",
              "      <td>50.000000</td>\n",
              "    </tr>\n",
              "    <tr>\n",
              "      <th>mean</th>\n",
              "      <td>0.246000</td>\n",
              "      <td>1.326000</td>\n",
              "      <td>2.026000</td>\n",
              "    </tr>\n",
              "    <tr>\n",
              "      <th>std</th>\n",
              "      <td>0.105386</td>\n",
              "      <td>0.197753</td>\n",
              "      <td>0.274650</td>\n",
              "    </tr>\n",
              "    <tr>\n",
              "      <th>min</th>\n",
              "      <td>0.100000</td>\n",
              "      <td>1.000000</td>\n",
              "      <td>1.400000</td>\n",
              "    </tr>\n",
              "    <tr>\n",
              "      <th>25%</th>\n",
              "      <td>0.200000</td>\n",
              "      <td>1.200000</td>\n",
              "      <td>1.800000</td>\n",
              "    </tr>\n",
              "    <tr>\n",
              "      <th>50%</th>\n",
              "      <td>0.200000</td>\n",
              "      <td>1.300000</td>\n",
              "      <td>2.000000</td>\n",
              "    </tr>\n",
              "    <tr>\n",
              "      <th>75%</th>\n",
              "      <td>0.300000</td>\n",
              "      <td>1.500000</td>\n",
              "      <td>2.300000</td>\n",
              "    </tr>\n",
              "    <tr>\n",
              "      <th>max</th>\n",
              "      <td>0.600000</td>\n",
              "      <td>1.800000</td>\n",
              "      <td>2.500000</td>\n",
              "    </tr>\n",
              "  </tbody>\n",
              "</table>\n",
              "</div>"
            ],
            "text/plain": [
              "species                setosa  versicolor  virginica\n",
              "sepal_length count  50.000000   50.000000  50.000000\n",
              "             mean    5.006000    5.936000   6.588000\n",
              "             std     0.352490    0.516171   0.635880\n",
              "             min     4.300000    4.900000   4.900000\n",
              "             25%     4.800000    5.600000   6.225000\n",
              "             50%     5.000000    5.900000   6.500000\n",
              "             75%     5.200000    6.300000   6.900000\n",
              "             max     5.800000    7.000000   7.900000\n",
              "sepal_width  count  50.000000   50.000000  50.000000\n",
              "             mean    3.428000    2.770000   2.974000\n",
              "             std     0.379064    0.313798   0.322497\n",
              "             min     2.300000    2.000000   2.200000\n",
              "             25%     3.200000    2.525000   2.800000\n",
              "             50%     3.400000    2.800000   3.000000\n",
              "             75%     3.675000    3.000000   3.175000\n",
              "             max     4.400000    3.400000   3.800000\n",
              "petal_length count  50.000000   50.000000  50.000000\n",
              "             mean    1.462000    4.260000   5.552000\n",
              "             std     0.173664    0.469911   0.551895\n",
              "             min     1.000000    3.000000   4.500000\n",
              "             25%     1.400000    4.000000   5.100000\n",
              "             50%     1.500000    4.350000   5.550000\n",
              "             75%     1.575000    4.600000   5.875000\n",
              "             max     1.900000    5.100000   6.900000\n",
              "petal_width  count  50.000000   50.000000  50.000000\n",
              "             mean    0.246000    1.326000   2.026000\n",
              "             std     0.105386    0.197753   0.274650\n",
              "             min     0.100000    1.000000   1.400000\n",
              "             25%     0.200000    1.200000   1.800000\n",
              "             50%     0.200000    1.300000   2.000000\n",
              "             75%     0.300000    1.500000   2.300000\n",
              "             max     0.600000    1.800000   2.500000"
            ]
          },
          "execution_count": 26,
          "metadata": {},
          "output_type": "execute_result"
        }
      ],
      "source": [
        "df.groupby(\"species\").describe().T"
      ]
    },
    {
      "cell_type": "code",
      "execution_count": null,
      "metadata": {
        "id": "bb5cC956Qhln",
        "outputId": "55762cee-488f-48ef-d442-0ac3be966d5b"
      },
      "outputs": [
        {
          "data": {
            "text/plain": [
              "species\n",
              "setosa        250.3\n",
              "versicolor    296.8\n",
              "virginica     329.4\n",
              "Name: sepal_length, dtype: float64"
            ]
          },
          "execution_count": 27,
          "metadata": {},
          "output_type": "execute_result"
        }
      ],
      "source": [
        "df.groupby('species')['sepal_length'].sum()"
      ]
    },
    {
      "cell_type": "code",
      "execution_count": null,
      "metadata": {
        "id": "M-HEirV74wYn",
        "outputId": "7b7c380c-80df-40a2-c651-0f7b9da5c4e0"
      },
      "outputs": [
        {
          "data": {
            "text/html": [
              "<div>\n",
              "<style scoped>\n",
              "    .dataframe tbody tr th:only-of-type {\n",
              "        vertical-align: middle;\n",
              "    }\n",
              "\n",
              "    .dataframe tbody tr th {\n",
              "        vertical-align: top;\n",
              "    }\n",
              "\n",
              "    .dataframe thead th {\n",
              "        text-align: right;\n",
              "    }\n",
              "</style>\n",
              "<table border=\"1\" class=\"dataframe\">\n",
              "  <thead>\n",
              "    <tr style=\"text-align: right;\">\n",
              "      <th></th>\n",
              "      <th>sepal_length</th>\n",
              "    </tr>\n",
              "    <tr>\n",
              "      <th>species</th>\n",
              "      <th></th>\n",
              "    </tr>\n",
              "  </thead>\n",
              "  <tbody>\n",
              "    <tr>\n",
              "      <th>setosa</th>\n",
              "      <td>250.3</td>\n",
              "    </tr>\n",
              "    <tr>\n",
              "      <th>versicolor</th>\n",
              "      <td>296.8</td>\n",
              "    </tr>\n",
              "    <tr>\n",
              "      <th>virginica</th>\n",
              "      <td>329.4</td>\n",
              "    </tr>\n",
              "  </tbody>\n",
              "</table>\n",
              "</div>"
            ],
            "text/plain": [
              "            sepal_length\n",
              "species                 \n",
              "setosa             250.3\n",
              "versicolor         296.8\n",
              "virginica          329.4"
            ]
          },
          "execution_count": 28,
          "metadata": {},
          "output_type": "execute_result"
        }
      ],
      "source": [
        "df.groupby('species')[['sepal_length']].sum()"
      ]
    },
    {
      "cell_type": "code",
      "execution_count": null,
      "metadata": {
        "id": "1yEs7LAp4wYn",
        "outputId": "51554d17-8c38-40ed-bab0-a51145364dbe"
      },
      "outputs": [
        {
          "data": {
            "text/html": [
              "<div>\n",
              "<style scoped>\n",
              "    .dataframe tbody tr th:only-of-type {\n",
              "        vertical-align: middle;\n",
              "    }\n",
              "\n",
              "    .dataframe tbody tr th {\n",
              "        vertical-align: top;\n",
              "    }\n",
              "\n",
              "    .dataframe thead th {\n",
              "        text-align: right;\n",
              "    }\n",
              "</style>\n",
              "<table border=\"1\" class=\"dataframe\">\n",
              "  <thead>\n",
              "    <tr style=\"text-align: right;\">\n",
              "      <th></th>\n",
              "      <th>sepal_length</th>\n",
              "      <th>sepal_width</th>\n",
              "    </tr>\n",
              "    <tr>\n",
              "      <th>species</th>\n",
              "      <th></th>\n",
              "      <th></th>\n",
              "    </tr>\n",
              "  </thead>\n",
              "  <tbody>\n",
              "    <tr>\n",
              "      <th>setosa</th>\n",
              "      <td>250.3</td>\n",
              "      <td>171.4</td>\n",
              "    </tr>\n",
              "    <tr>\n",
              "      <th>versicolor</th>\n",
              "      <td>296.8</td>\n",
              "      <td>138.5</td>\n",
              "    </tr>\n",
              "    <tr>\n",
              "      <th>virginica</th>\n",
              "      <td>329.4</td>\n",
              "      <td>148.7</td>\n",
              "    </tr>\n",
              "  </tbody>\n",
              "</table>\n",
              "</div>"
            ],
            "text/plain": [
              "            sepal_length  sepal_width\n",
              "species                              \n",
              "setosa             250.3        171.4\n",
              "versicolor         296.8        138.5\n",
              "virginica          329.4        148.7"
            ]
          },
          "execution_count": 29,
          "metadata": {},
          "output_type": "execute_result"
        }
      ],
      "source": [
        "df.groupby('species')[['sepal_length', \"sepal_width\"]].sum()"
      ]
    },
    {
      "cell_type": "code",
      "execution_count": null,
      "metadata": {
        "id": "Dh_9hF51Qhlo"
      },
      "outputs": [],
      "source": [
        "data = {'Company':['GOOG', 'GOOG', 'MSFT', 'MSFT', 'GOOG', 'MSFT', 'GOOG', 'MSFT'],\n",
        "        'Department':['HR', 'IT', 'IT', 'HR', 'HR', 'IT', 'IT', 'HR'],\n",
        "        'Person':['Sam', 'Charlie', 'Amy', 'Vanessa', 'Carl', 'Sarah', 'Tom', 'Terry'],\n",
        "        'Age':[30, 28, 35, 40, 42, 25, 32, 48],\n",
        "        'Sales':[200, 120, 340, 124, 243, 350, 180, 220]}"
      ]
    },
    {
      "cell_type": "code",
      "execution_count": null,
      "metadata": {
        "id": "hFkiMs2yQhlo",
        "outputId": "1f9e015a-869a-440c-b51c-50459fc54520"
      },
      "outputs": [
        {
          "data": {
            "text/html": [
              "<div>\n",
              "<style scoped>\n",
              "    .dataframe tbody tr th:only-of-type {\n",
              "        vertical-align: middle;\n",
              "    }\n",
              "\n",
              "    .dataframe tbody tr th {\n",
              "        vertical-align: top;\n",
              "    }\n",
              "\n",
              "    .dataframe thead th {\n",
              "        text-align: right;\n",
              "    }\n",
              "</style>\n",
              "<table border=\"1\" class=\"dataframe\">\n",
              "  <thead>\n",
              "    <tr style=\"text-align: right;\">\n",
              "      <th></th>\n",
              "      <th>Company</th>\n",
              "      <th>Department</th>\n",
              "      <th>Person</th>\n",
              "      <th>Age</th>\n",
              "      <th>Sales</th>\n",
              "    </tr>\n",
              "  </thead>\n",
              "  <tbody>\n",
              "    <tr>\n",
              "      <th>0</th>\n",
              "      <td>GOOG</td>\n",
              "      <td>HR</td>\n",
              "      <td>Sam</td>\n",
              "      <td>30</td>\n",
              "      <td>200</td>\n",
              "    </tr>\n",
              "    <tr>\n",
              "      <th>1</th>\n",
              "      <td>GOOG</td>\n",
              "      <td>IT</td>\n",
              "      <td>Charlie</td>\n",
              "      <td>28</td>\n",
              "      <td>120</td>\n",
              "    </tr>\n",
              "    <tr>\n",
              "      <th>2</th>\n",
              "      <td>MSFT</td>\n",
              "      <td>IT</td>\n",
              "      <td>Amy</td>\n",
              "      <td>35</td>\n",
              "      <td>340</td>\n",
              "    </tr>\n",
              "    <tr>\n",
              "      <th>3</th>\n",
              "      <td>MSFT</td>\n",
              "      <td>HR</td>\n",
              "      <td>Vanessa</td>\n",
              "      <td>40</td>\n",
              "      <td>124</td>\n",
              "    </tr>\n",
              "    <tr>\n",
              "      <th>4</th>\n",
              "      <td>GOOG</td>\n",
              "      <td>HR</td>\n",
              "      <td>Carl</td>\n",
              "      <td>42</td>\n",
              "      <td>243</td>\n",
              "    </tr>\n",
              "    <tr>\n",
              "      <th>5</th>\n",
              "      <td>MSFT</td>\n",
              "      <td>IT</td>\n",
              "      <td>Sarah</td>\n",
              "      <td>25</td>\n",
              "      <td>350</td>\n",
              "    </tr>\n",
              "    <tr>\n",
              "      <th>6</th>\n",
              "      <td>GOOG</td>\n",
              "      <td>IT</td>\n",
              "      <td>Tom</td>\n",
              "      <td>32</td>\n",
              "      <td>180</td>\n",
              "    </tr>\n",
              "    <tr>\n",
              "      <th>7</th>\n",
              "      <td>MSFT</td>\n",
              "      <td>HR</td>\n",
              "      <td>Terry</td>\n",
              "      <td>48</td>\n",
              "      <td>220</td>\n",
              "    </tr>\n",
              "  </tbody>\n",
              "</table>\n",
              "</div>"
            ],
            "text/plain": [
              "  Company Department   Person  Age  Sales\n",
              "0    GOOG         HR      Sam   30    200\n",
              "1    GOOG         IT  Charlie   28    120\n",
              "2    MSFT         IT      Amy   35    340\n",
              "3    MSFT         HR  Vanessa   40    124\n",
              "4    GOOG         HR     Carl   42    243\n",
              "5    MSFT         IT    Sarah   25    350\n",
              "6    GOOG         IT      Tom   32    180\n",
              "7    MSFT         HR    Terry   48    220"
            ]
          },
          "execution_count": 31,
          "metadata": {},
          "output_type": "execute_result"
        }
      ],
      "source": [
        "df1 = pd.DataFrame(data)\n",
        "df1"
      ]
    },
    {
      "cell_type": "code",
      "execution_count": null,
      "metadata": {
        "id": "-OmENzMC4wYo",
        "outputId": "80801b51-380c-4676-ff6a-5fb1d3b13294"
      },
      "outputs": [
        {
          "data": {
            "text/html": [
              "<div>\n",
              "<style scoped>\n",
              "    .dataframe tbody tr th:only-of-type {\n",
              "        vertical-align: middle;\n",
              "    }\n",
              "\n",
              "    .dataframe tbody tr th {\n",
              "        vertical-align: top;\n",
              "    }\n",
              "\n",
              "    .dataframe thead th {\n",
              "        text-align: right;\n",
              "    }\n",
              "</style>\n",
              "<table border=\"1\" class=\"dataframe\">\n",
              "  <thead>\n",
              "    <tr style=\"text-align: right;\">\n",
              "      <th></th>\n",
              "      <th>Age</th>\n",
              "      <th>Sales</th>\n",
              "    </tr>\n",
              "    <tr>\n",
              "      <th>Company</th>\n",
              "      <th></th>\n",
              "      <th></th>\n",
              "    </tr>\n",
              "  </thead>\n",
              "  <tbody>\n",
              "    <tr>\n",
              "      <th>GOOG</th>\n",
              "      <td>33.0</td>\n",
              "      <td>185.75</td>\n",
              "    </tr>\n",
              "    <tr>\n",
              "      <th>MSFT</th>\n",
              "      <td>37.0</td>\n",
              "      <td>258.50</td>\n",
              "    </tr>\n",
              "  </tbody>\n",
              "</table>\n",
              "</div>"
            ],
            "text/plain": [
              "          Age   Sales\n",
              "Company              \n",
              "GOOG     33.0  185.75\n",
              "MSFT     37.0  258.50"
            ]
          },
          "execution_count": 32,
          "metadata": {},
          "output_type": "execute_result"
        }
      ],
      "source": [
        "df1.groupby('Company').mean()"
      ]
    },
    {
      "cell_type": "code",
      "execution_count": null,
      "metadata": {
        "id": "n-TvOpVY4wYp",
        "outputId": "43934922-97e8-4cc2-e079-da69397456f7"
      },
      "outputs": [
        {
          "data": {
            "text/plain": [
              "Company\n",
              "GOOG    185.75\n",
              "MSFT    258.50\n",
              "Name: Sales, dtype: float64"
            ]
          },
          "execution_count": 33,
          "metadata": {},
          "output_type": "execute_result"
        }
      ],
      "source": [
        "df1.groupby('Company')[\"Sales\"].mean()"
      ]
    },
    {
      "cell_type": "code",
      "execution_count": null,
      "metadata": {
        "id": "iNu8Hc6R4wYp",
        "outputId": "61139a39-f291-4d4d-af88-2ccb1c791856"
      },
      "outputs": [
        {
          "data": {
            "text/html": [
              "<div>\n",
              "<style scoped>\n",
              "    .dataframe tbody tr th:only-of-type {\n",
              "        vertical-align: middle;\n",
              "    }\n",
              "\n",
              "    .dataframe tbody tr th {\n",
              "        vertical-align: top;\n",
              "    }\n",
              "\n",
              "    .dataframe thead th {\n",
              "        text-align: right;\n",
              "    }\n",
              "</style>\n",
              "<table border=\"1\" class=\"dataframe\">\n",
              "  <thead>\n",
              "    <tr style=\"text-align: right;\">\n",
              "      <th></th>\n",
              "      <th>Sales</th>\n",
              "    </tr>\n",
              "    <tr>\n",
              "      <th>Company</th>\n",
              "      <th></th>\n",
              "    </tr>\n",
              "  </thead>\n",
              "  <tbody>\n",
              "    <tr>\n",
              "      <th>GOOG</th>\n",
              "      <td>185.75</td>\n",
              "    </tr>\n",
              "    <tr>\n",
              "      <th>MSFT</th>\n",
              "      <td>258.50</td>\n",
              "    </tr>\n",
              "  </tbody>\n",
              "</table>\n",
              "</div>"
            ],
            "text/plain": [
              "          Sales\n",
              "Company        \n",
              "GOOG     185.75\n",
              "MSFT     258.50"
            ]
          },
          "execution_count": 34,
          "metadata": {},
          "output_type": "execute_result"
        }
      ],
      "source": [
        "df1.groupby('Company')[[\"Sales\"]].mean()"
      ]
    },
    {
      "cell_type": "code",
      "execution_count": null,
      "metadata": {
        "id": "NcIAdp2W4wYp",
        "outputId": "5b1ca7aa-909d-4825-f2b2-0dc75ed07d2b"
      },
      "outputs": [
        {
          "data": {
            "text/html": [
              "<div>\n",
              "<style scoped>\n",
              "    .dataframe tbody tr th:only-of-type {\n",
              "        vertical-align: middle;\n",
              "    }\n",
              "\n",
              "    .dataframe tbody tr th {\n",
              "        vertical-align: top;\n",
              "    }\n",
              "\n",
              "    .dataframe thead th {\n",
              "        text-align: right;\n",
              "    }\n",
              "</style>\n",
              "<table border=\"1\" class=\"dataframe\">\n",
              "  <thead>\n",
              "    <tr style=\"text-align: right;\">\n",
              "      <th></th>\n",
              "      <th></th>\n",
              "      <th>Age</th>\n",
              "      <th>Sales</th>\n",
              "    </tr>\n",
              "    <tr>\n",
              "      <th>Company</th>\n",
              "      <th>Department</th>\n",
              "      <th></th>\n",
              "      <th></th>\n",
              "    </tr>\n",
              "  </thead>\n",
              "  <tbody>\n",
              "    <tr>\n",
              "      <th rowspan=\"2\" valign=\"top\">GOOG</th>\n",
              "      <th>HR</th>\n",
              "      <td>36.0</td>\n",
              "      <td>221.5</td>\n",
              "    </tr>\n",
              "    <tr>\n",
              "      <th>IT</th>\n",
              "      <td>30.0</td>\n",
              "      <td>150.0</td>\n",
              "    </tr>\n",
              "    <tr>\n",
              "      <th rowspan=\"2\" valign=\"top\">MSFT</th>\n",
              "      <th>HR</th>\n",
              "      <td>44.0</td>\n",
              "      <td>172.0</td>\n",
              "    </tr>\n",
              "    <tr>\n",
              "      <th>IT</th>\n",
              "      <td>30.0</td>\n",
              "      <td>345.0</td>\n",
              "    </tr>\n",
              "  </tbody>\n",
              "</table>\n",
              "</div>"
            ],
            "text/plain": [
              "                     Age  Sales\n",
              "Company Department             \n",
              "GOOG    HR          36.0  221.5\n",
              "        IT          30.0  150.0\n",
              "MSFT    HR          44.0  172.0\n",
              "        IT          30.0  345.0"
            ]
          },
          "execution_count": 35,
          "metadata": {},
          "output_type": "execute_result"
        }
      ],
      "source": [
        "df1.groupby(['Company', \"Department\"]).mean()"
      ]
    },
    {
      "cell_type": "code",
      "execution_count": null,
      "metadata": {
        "id": "EcGVJVjX4wYq",
        "outputId": "6a54f8bf-413e-4151-c3af-062722fa221f"
      },
      "outputs": [
        {
          "data": {
            "text/html": [
              "<div>\n",
              "<style scoped>\n",
              "    .dataframe tbody tr th:only-of-type {\n",
              "        vertical-align: middle;\n",
              "    }\n",
              "\n",
              "    .dataframe tbody tr th {\n",
              "        vertical-align: top;\n",
              "    }\n",
              "\n",
              "    .dataframe thead th {\n",
              "        text-align: right;\n",
              "    }\n",
              "</style>\n",
              "<table border=\"1\" class=\"dataframe\">\n",
              "  <thead>\n",
              "    <tr style=\"text-align: right;\">\n",
              "      <th></th>\n",
              "      <th></th>\n",
              "      <th>Sales</th>\n",
              "    </tr>\n",
              "    <tr>\n",
              "      <th>Company</th>\n",
              "      <th>Department</th>\n",
              "      <th></th>\n",
              "    </tr>\n",
              "  </thead>\n",
              "  <tbody>\n",
              "    <tr>\n",
              "      <th rowspan=\"2\" valign=\"top\">GOOG</th>\n",
              "      <th>HR</th>\n",
              "      <td>221.5</td>\n",
              "    </tr>\n",
              "    <tr>\n",
              "      <th>IT</th>\n",
              "      <td>150.0</td>\n",
              "    </tr>\n",
              "    <tr>\n",
              "      <th rowspan=\"2\" valign=\"top\">MSFT</th>\n",
              "      <th>HR</th>\n",
              "      <td>172.0</td>\n",
              "    </tr>\n",
              "    <tr>\n",
              "      <th>IT</th>\n",
              "      <td>345.0</td>\n",
              "    </tr>\n",
              "  </tbody>\n",
              "</table>\n",
              "</div>"
            ],
            "text/plain": [
              "                    Sales\n",
              "Company Department       \n",
              "GOOG    HR          221.5\n",
              "        IT          150.0\n",
              "MSFT    HR          172.0\n",
              "        IT          345.0"
            ]
          },
          "execution_count": 36,
          "metadata": {},
          "output_type": "execute_result"
        }
      ],
      "source": [
        "df1.groupby(['Company', \"Department\"])[[\"Sales\"]].mean()"
      ]
    },
    {
      "cell_type": "code",
      "execution_count": null,
      "metadata": {
        "id": "ON7SgdZiQhlr",
        "outputId": "e79be85c-b30a-4474-f8e1-f524bde967bd"
      },
      "outputs": [
        {
          "data": {
            "text/html": [
              "<div>\n",
              "<style scoped>\n",
              "    .dataframe tbody tr th:only-of-type {\n",
              "        vertical-align: middle;\n",
              "    }\n",
              "\n",
              "    .dataframe tbody tr th {\n",
              "        vertical-align: top;\n",
              "    }\n",
              "\n",
              "    .dataframe thead tr th {\n",
              "        text-align: left;\n",
              "    }\n",
              "\n",
              "    .dataframe thead tr:last-of-type th {\n",
              "        text-align: right;\n",
              "    }\n",
              "</style>\n",
              "<table border=\"1\" class=\"dataframe\">\n",
              "  <thead>\n",
              "    <tr>\n",
              "      <th></th>\n",
              "      <th></th>\n",
              "      <th colspan=\"8\" halign=\"left\">Sales</th>\n",
              "    </tr>\n",
              "    <tr>\n",
              "      <th></th>\n",
              "      <th></th>\n",
              "      <th>count</th>\n",
              "      <th>mean</th>\n",
              "      <th>std</th>\n",
              "      <th>min</th>\n",
              "      <th>25%</th>\n",
              "      <th>50%</th>\n",
              "      <th>75%</th>\n",
              "      <th>max</th>\n",
              "    </tr>\n",
              "    <tr>\n",
              "      <th>Company</th>\n",
              "      <th>Department</th>\n",
              "      <th></th>\n",
              "      <th></th>\n",
              "      <th></th>\n",
              "      <th></th>\n",
              "      <th></th>\n",
              "      <th></th>\n",
              "      <th></th>\n",
              "      <th></th>\n",
              "    </tr>\n",
              "  </thead>\n",
              "  <tbody>\n",
              "    <tr>\n",
              "      <th rowspan=\"2\" valign=\"top\">GOOG</th>\n",
              "      <th>HR</th>\n",
              "      <td>2.0</td>\n",
              "      <td>221.5</td>\n",
              "      <td>30.405592</td>\n",
              "      <td>200.0</td>\n",
              "      <td>210.75</td>\n",
              "      <td>221.5</td>\n",
              "      <td>232.25</td>\n",
              "      <td>243.0</td>\n",
              "    </tr>\n",
              "    <tr>\n",
              "      <th>IT</th>\n",
              "      <td>2.0</td>\n",
              "      <td>150.0</td>\n",
              "      <td>42.426407</td>\n",
              "      <td>120.0</td>\n",
              "      <td>135.00</td>\n",
              "      <td>150.0</td>\n",
              "      <td>165.00</td>\n",
              "      <td>180.0</td>\n",
              "    </tr>\n",
              "    <tr>\n",
              "      <th rowspan=\"2\" valign=\"top\">MSFT</th>\n",
              "      <th>HR</th>\n",
              "      <td>2.0</td>\n",
              "      <td>172.0</td>\n",
              "      <td>67.882251</td>\n",
              "      <td>124.0</td>\n",
              "      <td>148.00</td>\n",
              "      <td>172.0</td>\n",
              "      <td>196.00</td>\n",
              "      <td>220.0</td>\n",
              "    </tr>\n",
              "    <tr>\n",
              "      <th>IT</th>\n",
              "      <td>2.0</td>\n",
              "      <td>345.0</td>\n",
              "      <td>7.071068</td>\n",
              "      <td>340.0</td>\n",
              "      <td>342.50</td>\n",
              "      <td>345.0</td>\n",
              "      <td>347.50</td>\n",
              "      <td>350.0</td>\n",
              "    </tr>\n",
              "  </tbody>\n",
              "</table>\n",
              "</div>"
            ],
            "text/plain": [
              "                   Sales                                                  \\\n",
              "                   count   mean        std    min     25%    50%     75%   \n",
              "Company Department                                                         \n",
              "GOOG    HR           2.0  221.5  30.405592  200.0  210.75  221.5  232.25   \n",
              "        IT           2.0  150.0  42.426407  120.0  135.00  150.0  165.00   \n",
              "MSFT    HR           2.0  172.0  67.882251  124.0  148.00  172.0  196.00   \n",
              "        IT           2.0  345.0   7.071068  340.0  342.50  345.0  347.50   \n",
              "\n",
              "                           \n",
              "                      max  \n",
              "Company Department         \n",
              "GOOG    HR          243.0  \n",
              "        IT          180.0  \n",
              "MSFT    HR          220.0  \n",
              "        IT          350.0  "
            ]
          },
          "execution_count": 37,
          "metadata": {},
          "output_type": "execute_result"
        }
      ],
      "source": [
        "df1.groupby(['Company', \"Department\"])[[\"Sales\"]].describe()"
      ]
    },
    {
      "cell_type": "markdown",
      "metadata": {
        "id": "s-H7MS-eQhlr"
      },
      "source": [
        "You can save this object as a new variable:"
      ]
    },
    {
      "cell_type": "code",
      "execution_count": null,
      "metadata": {
        "id": "i3IX_bKa4wYr",
        "outputId": "a4604d9a-8921-428e-c99b-5ee10c404bd8"
      },
      "outputs": [
        {
          "data": {
            "text/plain": [
              "<pandas.core.groupby.generic.DataFrameGroupBy object at 0x000002509AAA8E48>"
            ]
          },
          "execution_count": 38,
          "metadata": {},
          "output_type": "execute_result"
        }
      ],
      "source": [
        "df1.groupby('Company')"
      ]
    },
    {
      "cell_type": "code",
      "execution_count": null,
      "metadata": {
        "id": "oFTBl4-wQhls"
      },
      "outputs": [],
      "source": [
        "by_comp=df1.groupby('Company')"
      ]
    },
    {
      "cell_type": "markdown",
      "metadata": {
        "id": "hYvQaMRUQhls"
      },
      "source": [
        "And then call aggregate methods off the object:"
      ]
    },
    {
      "cell_type": "code",
      "execution_count": null,
      "metadata": {
        "id": "QYlIQXDWQhls",
        "outputId": "48850b6c-5d8b-4e64-e818-2460b44fa73c"
      },
      "outputs": [
        {
          "data": {
            "text/html": [
              "<div>\n",
              "<style scoped>\n",
              "    .dataframe tbody tr th:only-of-type {\n",
              "        vertical-align: middle;\n",
              "    }\n",
              "\n",
              "    .dataframe tbody tr th {\n",
              "        vertical-align: top;\n",
              "    }\n",
              "\n",
              "    .dataframe thead th {\n",
              "        text-align: right;\n",
              "    }\n",
              "</style>\n",
              "<table border=\"1\" class=\"dataframe\">\n",
              "  <thead>\n",
              "    <tr style=\"text-align: right;\">\n",
              "      <th></th>\n",
              "      <th>Age</th>\n",
              "      <th>Sales</th>\n",
              "    </tr>\n",
              "    <tr>\n",
              "      <th>Company</th>\n",
              "      <th></th>\n",
              "      <th></th>\n",
              "    </tr>\n",
              "  </thead>\n",
              "  <tbody>\n",
              "    <tr>\n",
              "      <th>GOOG</th>\n",
              "      <td>33.0</td>\n",
              "      <td>185.75</td>\n",
              "    </tr>\n",
              "    <tr>\n",
              "      <th>MSFT</th>\n",
              "      <td>37.0</td>\n",
              "      <td>258.50</td>\n",
              "    </tr>\n",
              "  </tbody>\n",
              "</table>\n",
              "</div>"
            ],
            "text/plain": [
              "          Age   Sales\n",
              "Company              \n",
              "GOOG     33.0  185.75\n",
              "MSFT     37.0  258.50"
            ]
          },
          "execution_count": 40,
          "metadata": {},
          "output_type": "execute_result"
        }
      ],
      "source": [
        "by_comp.mean()"
      ]
    },
    {
      "cell_type": "markdown",
      "metadata": {
        "id": "-bDVxh-c4wYr"
      },
      "source": [
        "# DataFrame/Series Operations"
      ]
    },
    {
      "cell_type": "markdown",
      "metadata": {
        "id": "F32Bfl4oQhl1"
      },
      "source": [
        "- ### `.aggregate()/agg()`\n",
        "- ### `.filter()`\n",
        "- ### `.transform()`\n",
        "- ### `.apply()`\n",
        "- ### `.applymap()`\n",
        "- ### `.map()`\n",
        "- ### `.pivot() & .pivot_table()`\n",
        "- ### `.stack() & .unstack()`"
      ]
    },
    {
      "cell_type": "markdown",
      "metadata": {
        "id": "iGHzZ1-5Qhl1"
      },
      "source": [
        "## ``.aggregate()/agg()``"
      ]
    },
    {
      "cell_type": "markdown",
      "metadata": {
        "id": "iZmX4O2E4wYs"
      },
      "source": [
        "### DataFrame.agg()"
      ]
    },
    {
      "cell_type": "code",
      "execution_count": null,
      "metadata": {
        "id": "LxJEFpYOQhl1",
        "outputId": "dcbf09c4-3a53-426d-ebd7-ff9a28bd4f74"
      },
      "outputs": [
        {
          "data": {
            "text/html": [
              "<div>\n",
              "<style scoped>\n",
              "    .dataframe tbody tr th:only-of-type {\n",
              "        vertical-align: middle;\n",
              "    }\n",
              "\n",
              "    .dataframe tbody tr th {\n",
              "        vertical-align: top;\n",
              "    }\n",
              "\n",
              "    .dataframe thead th {\n",
              "        text-align: right;\n",
              "    }\n",
              "</style>\n",
              "<table border=\"1\" class=\"dataframe\">\n",
              "  <thead>\n",
              "    <tr style=\"text-align: right;\">\n",
              "      <th></th>\n",
              "      <th>groups</th>\n",
              "      <th>var1</th>\n",
              "      <th>var2</th>\n",
              "    </tr>\n",
              "  </thead>\n",
              "  <tbody>\n",
              "    <tr>\n",
              "      <th>0</th>\n",
              "      <td>A</td>\n",
              "      <td>10</td>\n",
              "      <td>100</td>\n",
              "    </tr>\n",
              "    <tr>\n",
              "      <th>1</th>\n",
              "      <td>B</td>\n",
              "      <td>23</td>\n",
              "      <td>253</td>\n",
              "    </tr>\n",
              "    <tr>\n",
              "      <th>2</th>\n",
              "      <td>C</td>\n",
              "      <td>33</td>\n",
              "      <td>333</td>\n",
              "    </tr>\n",
              "    <tr>\n",
              "      <th>3</th>\n",
              "      <td>A</td>\n",
              "      <td>22</td>\n",
              "      <td>262</td>\n",
              "    </tr>\n",
              "    <tr>\n",
              "      <th>4</th>\n",
              "      <td>B</td>\n",
              "      <td>11</td>\n",
              "      <td>111</td>\n",
              "    </tr>\n",
              "    <tr>\n",
              "      <th>5</th>\n",
              "      <td>C</td>\n",
              "      <td>99</td>\n",
              "      <td>969</td>\n",
              "    </tr>\n",
              "    <tr>\n",
              "      <th>6</th>\n",
              "      <td>A</td>\n",
              "      <td>76</td>\n",
              "      <td>405</td>\n",
              "    </tr>\n",
              "    <tr>\n",
              "      <th>7</th>\n",
              "      <td>B</td>\n",
              "      <td>84</td>\n",
              "      <td>578</td>\n",
              "    </tr>\n",
              "    <tr>\n",
              "      <th>8</th>\n",
              "      <td>C</td>\n",
              "      <td>45</td>\n",
              "      <td>760</td>\n",
              "    </tr>\n",
              "  </tbody>\n",
              "</table>\n",
              "</div>"
            ],
            "text/plain": [
              "  groups  var1  var2\n",
              "0      A    10   100\n",
              "1      B    23   253\n",
              "2      C    33   333\n",
              "3      A    22   262\n",
              "4      B    11   111\n",
              "5      C    99   969\n",
              "6      A    76   405\n",
              "7      B    84   578\n",
              "8      C    45   760"
            ]
          },
          "execution_count": 41,
          "metadata": {},
          "output_type": "execute_result"
        }
      ],
      "source": [
        "df2 = pd.DataFrame({'groups': ['A', 'B', 'C', 'A', 'B', 'C', 'A', 'B', 'C'],\n",
        "                   'var1': [10, 23, 33, 22, 11, 99, 76, 84, 45],\n",
        "                   'var2': [100, 253, 333, 262, 111, 969, 405, 578, 760]})\n",
        "df2"
      ]
    },
    {
      "cell_type": "code",
      "execution_count": null,
      "metadata": {
        "id": "h_PwBLwu4wYt",
        "outputId": "1848d83e-e12b-4088-b236-740496ccef59"
      },
      "outputs": [
        {
          "data": {
            "text/html": [
              "<div>\n",
              "<style scoped>\n",
              "    .dataframe tbody tr th:only-of-type {\n",
              "        vertical-align: middle;\n",
              "    }\n",
              "\n",
              "    .dataframe tbody tr th {\n",
              "        vertical-align: top;\n",
              "    }\n",
              "\n",
              "    .dataframe thead th {\n",
              "        text-align: right;\n",
              "    }\n",
              "</style>\n",
              "<table border=\"1\" class=\"dataframe\">\n",
              "  <thead>\n",
              "    <tr style=\"text-align: right;\">\n",
              "      <th></th>\n",
              "      <th>groups</th>\n",
              "      <th>var1</th>\n",
              "      <th>var2</th>\n",
              "    </tr>\n",
              "  </thead>\n",
              "  <tbody>\n",
              "    <tr>\n",
              "      <th>sum</th>\n",
              "      <td>ABCABCABC</td>\n",
              "      <td>403</td>\n",
              "      <td>3771</td>\n",
              "    </tr>\n",
              "    <tr>\n",
              "      <th>min</th>\n",
              "      <td>A</td>\n",
              "      <td>10</td>\n",
              "      <td>100</td>\n",
              "    </tr>\n",
              "  </tbody>\n",
              "</table>\n",
              "</div>"
            ],
            "text/plain": [
              "        groups  var1  var2\n",
              "sum  ABCABCABC   403  3771\n",
              "min          A    10   100"
            ]
          },
          "execution_count": 42,
          "metadata": {},
          "output_type": "execute_result"
        }
      ],
      "source": [
        "df2.agg([sum, min])"
      ]
    },
    {
      "cell_type": "code",
      "execution_count": null,
      "metadata": {
        "id": "_b7PkGxu4wYt",
        "outputId": "4973ab54-1823-4d9d-9b42-279912c10b1f"
      },
      "outputs": [
        {
          "data": {
            "text/html": [
              "<div>\n",
              "<style scoped>\n",
              "    .dataframe tbody tr th:only-of-type {\n",
              "        vertical-align: middle;\n",
              "    }\n",
              "\n",
              "    .dataframe tbody tr th {\n",
              "        vertical-align: top;\n",
              "    }\n",
              "\n",
              "    .dataframe thead th {\n",
              "        text-align: right;\n",
              "    }\n",
              "</style>\n",
              "<table border=\"1\" class=\"dataframe\">\n",
              "  <thead>\n",
              "    <tr style=\"text-align: right;\">\n",
              "      <th></th>\n",
              "      <th>var1</th>\n",
              "      <th>var2</th>\n",
              "    </tr>\n",
              "  </thead>\n",
              "  <tbody>\n",
              "    <tr>\n",
              "      <th>sum</th>\n",
              "      <td>403</td>\n",
              "      <td>3771</td>\n",
              "    </tr>\n",
              "    <tr>\n",
              "      <th>min</th>\n",
              "      <td>10</td>\n",
              "      <td>100</td>\n",
              "    </tr>\n",
              "  </tbody>\n",
              "</table>\n",
              "</div>"
            ],
            "text/plain": [
              "     var1  var2\n",
              "sum   403  3771\n",
              "min    10   100"
            ]
          },
          "execution_count": 43,
          "metadata": {},
          "output_type": "execute_result"
        }
      ],
      "source": [
        "df2[[\"var1\", \"var2\"]].agg([sum, min])"
      ]
    },
    {
      "cell_type": "code",
      "execution_count": null,
      "metadata": {
        "id": "vXND5CJ14wYt",
        "outputId": "8257d75d-2b44-441e-abab-24cab1d4a6fb"
      },
      "outputs": [
        {
          "data": {
            "text/plain": [
              "var1    403\n",
              "var2    100\n",
              "dtype: int64"
            ]
          },
          "execution_count": 44,
          "metadata": {},
          "output_type": "execute_result"
        }
      ],
      "source": [
        "df2.agg({\"var1\":sum, \"var2\":min})"
      ]
    },
    {
      "cell_type": "code",
      "execution_count": null,
      "metadata": {
        "id": "qz3SYsGb4wYu",
        "outputId": "8fb21737-b9ee-4cbf-e1b7-8e0eba713201"
      },
      "outputs": [
        {
          "data": {
            "text/html": [
              "<div>\n",
              "<style scoped>\n",
              "    .dataframe tbody tr th:only-of-type {\n",
              "        vertical-align: middle;\n",
              "    }\n",
              "\n",
              "    .dataframe tbody tr th {\n",
              "        vertical-align: top;\n",
              "    }\n",
              "\n",
              "    .dataframe thead th {\n",
              "        text-align: right;\n",
              "    }\n",
              "</style>\n",
              "<table border=\"1\" class=\"dataframe\">\n",
              "  <thead>\n",
              "    <tr style=\"text-align: right;\">\n",
              "      <th></th>\n",
              "      <th>var1</th>\n",
              "      <th>var2</th>\n",
              "    </tr>\n",
              "  </thead>\n",
              "  <tbody>\n",
              "    <tr>\n",
              "      <th>sum</th>\n",
              "      <td>403.0</td>\n",
              "      <td>NaN</td>\n",
              "    </tr>\n",
              "    <tr>\n",
              "      <th>min</th>\n",
              "      <td>NaN</td>\n",
              "      <td>100.0</td>\n",
              "    </tr>\n",
              "  </tbody>\n",
              "</table>\n",
              "</div>"
            ],
            "text/plain": [
              "      var1   var2\n",
              "sum  403.0    NaN\n",
              "min    NaN  100.0"
            ]
          },
          "execution_count": 45,
          "metadata": {},
          "output_type": "execute_result"
        }
      ],
      "source": [
        "df2.agg({\"var1\":[sum], \"var2\":[min]})"
      ]
    },
    {
      "cell_type": "code",
      "execution_count": null,
      "metadata": {
        "id": "NUHEz1Lk4wYu",
        "outputId": "f8b29a8d-06c1-4825-f12c-9c2758b64e07"
      },
      "outputs": [
        {
          "data": {
            "text/html": [
              "<div>\n",
              "<style scoped>\n",
              "    .dataframe tbody tr th:only-of-type {\n",
              "        vertical-align: middle;\n",
              "    }\n",
              "\n",
              "    .dataframe tbody tr th {\n",
              "        vertical-align: top;\n",
              "    }\n",
              "\n",
              "    .dataframe thead th {\n",
              "        text-align: right;\n",
              "    }\n",
              "</style>\n",
              "<table border=\"1\" class=\"dataframe\">\n",
              "  <thead>\n",
              "    <tr style=\"text-align: right;\">\n",
              "      <th></th>\n",
              "      <th>var1</th>\n",
              "      <th>var2</th>\n",
              "    </tr>\n",
              "  </thead>\n",
              "  <tbody>\n",
              "    <tr>\n",
              "      <th>sum</th>\n",
              "      <td>403.000000</td>\n",
              "      <td>NaN</td>\n",
              "    </tr>\n",
              "    <tr>\n",
              "      <th>mean</th>\n",
              "      <td>44.777778</td>\n",
              "      <td>NaN</td>\n",
              "    </tr>\n",
              "    <tr>\n",
              "      <th>min</th>\n",
              "      <td>NaN</td>\n",
              "      <td>100.0</td>\n",
              "    </tr>\n",
              "    <tr>\n",
              "      <th>max</th>\n",
              "      <td>NaN</td>\n",
              "      <td>969.0</td>\n",
              "    </tr>\n",
              "  </tbody>\n",
              "</table>\n",
              "</div>"
            ],
            "text/plain": [
              "            var1   var2\n",
              "sum   403.000000    NaN\n",
              "mean   44.777778    NaN\n",
              "min          NaN  100.0\n",
              "max          NaN  969.0"
            ]
          },
          "execution_count": 46,
          "metadata": {},
          "output_type": "execute_result"
        }
      ],
      "source": [
        "df2.agg({\"var1\":[sum, np.mean], \"var2\":[min, max]})"
      ]
    },
    {
      "cell_type": "markdown",
      "metadata": {
        "id": "TQY72Z-v4wYu"
      },
      "source": [
        "### DataFrame.groupby().agg()"
      ]
    },
    {
      "cell_type": "code",
      "execution_count": null,
      "metadata": {
        "id": "7V7_IGw2Qhl1",
        "outputId": "6ffa77f4-15cd-4ea1-ed9b-0156b0493bdd"
      },
      "outputs": [
        {
          "data": {
            "text/html": [
              "<div>\n",
              "<style scoped>\n",
              "    .dataframe tbody tr th:only-of-type {\n",
              "        vertical-align: middle;\n",
              "    }\n",
              "\n",
              "    .dataframe tbody tr th {\n",
              "        vertical-align: top;\n",
              "    }\n",
              "\n",
              "    .dataframe thead tr th {\n",
              "        text-align: left;\n",
              "    }\n",
              "\n",
              "    .dataframe thead tr:last-of-type th {\n",
              "        text-align: right;\n",
              "    }\n",
              "</style>\n",
              "<table border=\"1\" class=\"dataframe\">\n",
              "  <thead>\n",
              "    <tr>\n",
              "      <th></th>\n",
              "      <th colspan=\"3\" halign=\"left\">var1</th>\n",
              "      <th colspan=\"3\" halign=\"left\">var2</th>\n",
              "    </tr>\n",
              "    <tr>\n",
              "      <th></th>\n",
              "      <th>amin</th>\n",
              "      <th>median</th>\n",
              "      <th>amax</th>\n",
              "      <th>amin</th>\n",
              "      <th>median</th>\n",
              "      <th>amax</th>\n",
              "    </tr>\n",
              "    <tr>\n",
              "      <th>groups</th>\n",
              "      <th></th>\n",
              "      <th></th>\n",
              "      <th></th>\n",
              "      <th></th>\n",
              "      <th></th>\n",
              "      <th></th>\n",
              "    </tr>\n",
              "  </thead>\n",
              "  <tbody>\n",
              "    <tr>\n",
              "      <th>A</th>\n",
              "      <td>10</td>\n",
              "      <td>22</td>\n",
              "      <td>76</td>\n",
              "      <td>100</td>\n",
              "      <td>262</td>\n",
              "      <td>405</td>\n",
              "    </tr>\n",
              "    <tr>\n",
              "      <th>B</th>\n",
              "      <td>11</td>\n",
              "      <td>23</td>\n",
              "      <td>84</td>\n",
              "      <td>111</td>\n",
              "      <td>253</td>\n",
              "      <td>578</td>\n",
              "    </tr>\n",
              "    <tr>\n",
              "      <th>C</th>\n",
              "      <td>33</td>\n",
              "      <td>45</td>\n",
              "      <td>99</td>\n",
              "      <td>333</td>\n",
              "      <td>760</td>\n",
              "      <td>969</td>\n",
              "    </tr>\n",
              "  </tbody>\n",
              "</table>\n",
              "</div>"
            ],
            "text/plain": [
              "       var1             var2            \n",
              "       amin median amax amin median amax\n",
              "groups                                  \n",
              "A        10     22   76  100    262  405\n",
              "B        11     23   84  111    253  578\n",
              "C        33     45   99  333    760  969"
            ]
          },
          "execution_count": 47,
          "metadata": {},
          "output_type": "execute_result"
        }
      ],
      "source": [
        "df2.groupby('groups').aggregate([np.min,np.median,np.max])"
      ]
    },
    {
      "cell_type": "code",
      "execution_count": null,
      "metadata": {
        "id": "DuDH2AmiQhl1",
        "outputId": "3216ecd4-abeb-43ae-8966-bbc3591fc5f1"
      },
      "outputs": [
        {
          "data": {
            "text/html": [
              "<div>\n",
              "<style scoped>\n",
              "    .dataframe tbody tr th:only-of-type {\n",
              "        vertical-align: middle;\n",
              "    }\n",
              "\n",
              "    .dataframe tbody tr th {\n",
              "        vertical-align: top;\n",
              "    }\n",
              "\n",
              "    .dataframe thead tr th {\n",
              "        text-align: left;\n",
              "    }\n",
              "\n",
              "    .dataframe thead tr:last-of-type th {\n",
              "        text-align: right;\n",
              "    }\n",
              "</style>\n",
              "<table border=\"1\" class=\"dataframe\">\n",
              "  <thead>\n",
              "    <tr>\n",
              "      <th></th>\n",
              "      <th colspan=\"3\" halign=\"left\">var1</th>\n",
              "      <th colspan=\"3\" halign=\"left\">var2</th>\n",
              "    </tr>\n",
              "    <tr>\n",
              "      <th></th>\n",
              "      <th>amin</th>\n",
              "      <th>median</th>\n",
              "      <th>max</th>\n",
              "      <th>amin</th>\n",
              "      <th>median</th>\n",
              "      <th>max</th>\n",
              "    </tr>\n",
              "    <tr>\n",
              "      <th>groups</th>\n",
              "      <th></th>\n",
              "      <th></th>\n",
              "      <th></th>\n",
              "      <th></th>\n",
              "      <th></th>\n",
              "      <th></th>\n",
              "    </tr>\n",
              "  </thead>\n",
              "  <tbody>\n",
              "    <tr>\n",
              "      <th>A</th>\n",
              "      <td>10</td>\n",
              "      <td>22</td>\n",
              "      <td>76</td>\n",
              "      <td>100</td>\n",
              "      <td>262</td>\n",
              "      <td>405</td>\n",
              "    </tr>\n",
              "    <tr>\n",
              "      <th>B</th>\n",
              "      <td>11</td>\n",
              "      <td>23</td>\n",
              "      <td>84</td>\n",
              "      <td>111</td>\n",
              "      <td>253</td>\n",
              "      <td>578</td>\n",
              "    </tr>\n",
              "    <tr>\n",
              "      <th>C</th>\n",
              "      <td>33</td>\n",
              "      <td>45</td>\n",
              "      <td>99</td>\n",
              "      <td>333</td>\n",
              "      <td>760</td>\n",
              "      <td>969</td>\n",
              "    </tr>\n",
              "  </tbody>\n",
              "</table>\n",
              "</div>"
            ],
            "text/plain": [
              "       var1            var2            \n",
              "       amin median max amin median  max\n",
              "groups                                 \n",
              "A        10     22  76  100    262  405\n",
              "B        11     23  84  111    253  578\n",
              "C        33     45  99  333    760  969"
            ]
          },
          "execution_count": 48,
          "metadata": {},
          "output_type": "execute_result"
        }
      ],
      "source": [
        "df2.groupby('groups').agg([np.min,\"median\",max])"
      ]
    },
    {
      "cell_type": "code",
      "execution_count": null,
      "metadata": {
        "id": "Og1leRPvQhl1",
        "outputId": "16303967-180a-4a03-cf23-8a1bf357f7e7"
      },
      "outputs": [
        {
          "data": {
            "text/html": [
              "<div>\n",
              "<style scoped>\n",
              "    .dataframe tbody tr th:only-of-type {\n",
              "        vertical-align: middle;\n",
              "    }\n",
              "\n",
              "    .dataframe tbody tr th {\n",
              "        vertical-align: top;\n",
              "    }\n",
              "\n",
              "    .dataframe thead tr th {\n",
              "        text-align: left;\n",
              "    }\n",
              "\n",
              "    .dataframe thead tr:last-of-type th {\n",
              "        text-align: right;\n",
              "    }\n",
              "</style>\n",
              "<table border=\"1\" class=\"dataframe\">\n",
              "  <thead>\n",
              "    <tr>\n",
              "      <th></th>\n",
              "      <th colspan=\"2\" halign=\"left\">var1</th>\n",
              "      <th>var2</th>\n",
              "    </tr>\n",
              "    <tr>\n",
              "      <th></th>\n",
              "      <th>min</th>\n",
              "      <th>max</th>\n",
              "      <th>median</th>\n",
              "    </tr>\n",
              "    <tr>\n",
              "      <th>groups</th>\n",
              "      <th></th>\n",
              "      <th></th>\n",
              "      <th></th>\n",
              "    </tr>\n",
              "  </thead>\n",
              "  <tbody>\n",
              "    <tr>\n",
              "      <th>A</th>\n",
              "      <td>10</td>\n",
              "      <td>76</td>\n",
              "      <td>262</td>\n",
              "    </tr>\n",
              "    <tr>\n",
              "      <th>B</th>\n",
              "      <td>11</td>\n",
              "      <td>84</td>\n",
              "      <td>253</td>\n",
              "    </tr>\n",
              "    <tr>\n",
              "      <th>C</th>\n",
              "      <td>33</td>\n",
              "      <td>99</td>\n",
              "      <td>760</td>\n",
              "    </tr>\n",
              "  </tbody>\n",
              "</table>\n",
              "</div>"
            ],
            "text/plain": [
              "       var1       var2\n",
              "        min max median\n",
              "groups                \n",
              "A        10  76    262\n",
              "B        11  84    253\n",
              "C        33  99    760"
            ]
          },
          "execution_count": 49,
          "metadata": {},
          "output_type": "execute_result"
        }
      ],
      "source": [
        "df2.groupby('groups').agg({'var1':[min,'max'], 'var2':'median'})"
      ]
    },
    {
      "cell_type": "markdown",
      "metadata": {
        "id": "41pA7VmKQhl2"
      },
      "source": [
        "## .filter()\n",
        "\n",
        "https://pandas.pydata.org/docs/reference/api/pandas.DataFrame.filter.html\n",
        "\n",
        "https://www.sharpsightlabs.com/blog/pandas-filter/"
      ]
    },
    {
      "cell_type": "markdown",
      "metadata": {
        "id": "PmPOR_c94wYw"
      },
      "source": [
        "### DataFrame.filter()"
      ]
    },
    {
      "cell_type": "markdown",
      "metadata": {
        "id": "3vAn2hhQ4wYw"
      },
      "source": [
        "- DataFrame.filter(items=None, like=None, regex=None, axis=None)\n",
        "- Subset the dataframe rows or columns according to the specified index labels.\n",
        "- Note that this routine does not filter a dataframe on its contents. The filter is applied to the labels of the index."
      ]
    },
    {
      "cell_type": "code",
      "execution_count": null,
      "metadata": {
        "id": "hdaXmNQsQhl2",
        "outputId": "e9bd947a-8261-4918-cfbd-9b5d2f784382",
        "scrolled": false
      },
      "outputs": [
        {
          "data": {
            "text/html": [
              "<div>\n",
              "<style scoped>\n",
              "    .dataframe tbody tr th:only-of-type {\n",
              "        vertical-align: middle;\n",
              "    }\n",
              "\n",
              "    .dataframe tbody tr th {\n",
              "        vertical-align: top;\n",
              "    }\n",
              "\n",
              "    .dataframe thead th {\n",
              "        text-align: right;\n",
              "    }\n",
              "</style>\n",
              "<table border=\"1\" class=\"dataframe\">\n",
              "  <thead>\n",
              "    <tr style=\"text-align: right;\">\n",
              "      <th></th>\n",
              "      <th>groups</th>\n",
              "      <th>var1</th>\n",
              "      <th>var2</th>\n",
              "    </tr>\n",
              "  </thead>\n",
              "  <tbody>\n",
              "    <tr>\n",
              "      <th>0</th>\n",
              "      <td>A</td>\n",
              "      <td>10</td>\n",
              "      <td>100</td>\n",
              "    </tr>\n",
              "    <tr>\n",
              "      <th>1</th>\n",
              "      <td>B</td>\n",
              "      <td>23</td>\n",
              "      <td>253</td>\n",
              "    </tr>\n",
              "    <tr>\n",
              "      <th>2</th>\n",
              "      <td>C</td>\n",
              "      <td>33</td>\n",
              "      <td>333</td>\n",
              "    </tr>\n",
              "    <tr>\n",
              "      <th>3</th>\n",
              "      <td>A</td>\n",
              "      <td>22</td>\n",
              "      <td>262</td>\n",
              "    </tr>\n",
              "    <tr>\n",
              "      <th>4</th>\n",
              "      <td>B</td>\n",
              "      <td>11</td>\n",
              "      <td>111</td>\n",
              "    </tr>\n",
              "    <tr>\n",
              "      <th>5</th>\n",
              "      <td>C</td>\n",
              "      <td>99</td>\n",
              "      <td>969</td>\n",
              "    </tr>\n",
              "    <tr>\n",
              "      <th>6</th>\n",
              "      <td>A</td>\n",
              "      <td>76</td>\n",
              "      <td>405</td>\n",
              "    </tr>\n",
              "    <tr>\n",
              "      <th>7</th>\n",
              "      <td>B</td>\n",
              "      <td>84</td>\n",
              "      <td>578</td>\n",
              "    </tr>\n",
              "    <tr>\n",
              "      <th>8</th>\n",
              "      <td>C</td>\n",
              "      <td>45</td>\n",
              "      <td>760</td>\n",
              "    </tr>\n",
              "  </tbody>\n",
              "</table>\n",
              "</div>"
            ],
            "text/plain": [
              "  groups  var1  var2\n",
              "0      A    10   100\n",
              "1      B    23   253\n",
              "2      C    33   333\n",
              "3      A    22   262\n",
              "4      B    11   111\n",
              "5      C    99   969\n",
              "6      A    76   405\n",
              "7      B    84   578\n",
              "8      C    45   760"
            ]
          },
          "execution_count": 50,
          "metadata": {},
          "output_type": "execute_result"
        }
      ],
      "source": [
        "df2"
      ]
    },
    {
      "cell_type": "code",
      "execution_count": null,
      "metadata": {
        "id": "tFM4KWBn4wYw",
        "outputId": "43b38b49-479f-4548-cc54-e3c8c246d859"
      },
      "outputs": [
        {
          "data": {
            "text/html": [
              "<div>\n",
              "<style scoped>\n",
              "    .dataframe tbody tr th:only-of-type {\n",
              "        vertical-align: middle;\n",
              "    }\n",
              "\n",
              "    .dataframe tbody tr th {\n",
              "        vertical-align: top;\n",
              "    }\n",
              "\n",
              "    .dataframe thead th {\n",
              "        text-align: right;\n",
              "    }\n",
              "</style>\n",
              "<table border=\"1\" class=\"dataframe\">\n",
              "  <thead>\n",
              "    <tr style=\"text-align: right;\">\n",
              "      <th></th>\n",
              "      <th>groups</th>\n",
              "      <th>var1</th>\n",
              "    </tr>\n",
              "  </thead>\n",
              "  <tbody>\n",
              "    <tr>\n",
              "      <th>0</th>\n",
              "      <td>A</td>\n",
              "      <td>10</td>\n",
              "    </tr>\n",
              "    <tr>\n",
              "      <th>1</th>\n",
              "      <td>B</td>\n",
              "      <td>23</td>\n",
              "    </tr>\n",
              "    <tr>\n",
              "      <th>2</th>\n",
              "      <td>C</td>\n",
              "      <td>33</td>\n",
              "    </tr>\n",
              "    <tr>\n",
              "      <th>3</th>\n",
              "      <td>A</td>\n",
              "      <td>22</td>\n",
              "    </tr>\n",
              "    <tr>\n",
              "      <th>4</th>\n",
              "      <td>B</td>\n",
              "      <td>11</td>\n",
              "    </tr>\n",
              "    <tr>\n",
              "      <th>5</th>\n",
              "      <td>C</td>\n",
              "      <td>99</td>\n",
              "    </tr>\n",
              "    <tr>\n",
              "      <th>6</th>\n",
              "      <td>A</td>\n",
              "      <td>76</td>\n",
              "    </tr>\n",
              "    <tr>\n",
              "      <th>7</th>\n",
              "      <td>B</td>\n",
              "      <td>84</td>\n",
              "    </tr>\n",
              "    <tr>\n",
              "      <th>8</th>\n",
              "      <td>C</td>\n",
              "      <td>45</td>\n",
              "    </tr>\n",
              "  </tbody>\n",
              "</table>\n",
              "</div>"
            ],
            "text/plain": [
              "  groups  var1\n",
              "0      A    10\n",
              "1      B    23\n",
              "2      C    33\n",
              "3      A    22\n",
              "4      B    11\n",
              "5      C    99\n",
              "6      A    76\n",
              "7      B    84\n",
              "8      C    45"
            ]
          },
          "execution_count": 51,
          "metadata": {},
          "output_type": "execute_result"
        }
      ],
      "source": [
        "df2.filter([\"groups\", \"var1\"])\n",
        "#df2[[\"groups\", \"var1\"]]"
      ]
    },
    {
      "cell_type": "code",
      "execution_count": null,
      "metadata": {
        "id": "AohwDa-n4wYx",
        "outputId": "82dbd571-7a9e-4b52-8f47-17fcd7bf4889"
      },
      "outputs": [
        {
          "data": {
            "text/html": [
              "<div>\n",
              "<style scoped>\n",
              "    .dataframe tbody tr th:only-of-type {\n",
              "        vertical-align: middle;\n",
              "    }\n",
              "\n",
              "    .dataframe tbody tr th {\n",
              "        vertical-align: top;\n",
              "    }\n",
              "\n",
              "    .dataframe thead th {\n",
              "        text-align: right;\n",
              "    }\n",
              "</style>\n",
              "<table border=\"1\" class=\"dataframe\">\n",
              "  <thead>\n",
              "    <tr style=\"text-align: right;\">\n",
              "      <th></th>\n",
              "      <th>var1</th>\n",
              "      <th>var2</th>\n",
              "    </tr>\n",
              "  </thead>\n",
              "  <tbody>\n",
              "    <tr>\n",
              "      <th>0</th>\n",
              "      <td>10</td>\n",
              "      <td>100</td>\n",
              "    </tr>\n",
              "    <tr>\n",
              "      <th>1</th>\n",
              "      <td>23</td>\n",
              "      <td>253</td>\n",
              "    </tr>\n",
              "    <tr>\n",
              "      <th>2</th>\n",
              "      <td>33</td>\n",
              "      <td>333</td>\n",
              "    </tr>\n",
              "    <tr>\n",
              "      <th>3</th>\n",
              "      <td>22</td>\n",
              "      <td>262</td>\n",
              "    </tr>\n",
              "    <tr>\n",
              "      <th>4</th>\n",
              "      <td>11</td>\n",
              "      <td>111</td>\n",
              "    </tr>\n",
              "    <tr>\n",
              "      <th>5</th>\n",
              "      <td>99</td>\n",
              "      <td>969</td>\n",
              "    </tr>\n",
              "    <tr>\n",
              "      <th>6</th>\n",
              "      <td>76</td>\n",
              "      <td>405</td>\n",
              "    </tr>\n",
              "    <tr>\n",
              "      <th>7</th>\n",
              "      <td>84</td>\n",
              "      <td>578</td>\n",
              "    </tr>\n",
              "    <tr>\n",
              "      <th>8</th>\n",
              "      <td>45</td>\n",
              "      <td>760</td>\n",
              "    </tr>\n",
              "  </tbody>\n",
              "</table>\n",
              "</div>"
            ],
            "text/plain": [
              "   var1  var2\n",
              "0    10   100\n",
              "1    23   253\n",
              "2    33   333\n",
              "3    22   262\n",
              "4    11   111\n",
              "5    99   969\n",
              "6    76   405\n",
              "7    84   578\n",
              "8    45   760"
            ]
          },
          "execution_count": 52,
          "metadata": {},
          "output_type": "execute_result"
        }
      ],
      "source": [
        "df2.filter(regex = \"^var\", axis=1)"
      ]
    },
    {
      "cell_type": "code",
      "execution_count": null,
      "metadata": {
        "id": "k9hrNaqZ4wYx",
        "outputId": "ebe2abce-c498-48c6-b59b-573e2a5ba127"
      },
      "outputs": [
        {
          "data": {
            "text/html": [
              "<div>\n",
              "<style scoped>\n",
              "    .dataframe tbody tr th:only-of-type {\n",
              "        vertical-align: middle;\n",
              "    }\n",
              "\n",
              "    .dataframe tbody tr th {\n",
              "        vertical-align: top;\n",
              "    }\n",
              "\n",
              "    .dataframe thead th {\n",
              "        text-align: right;\n",
              "    }\n",
              "</style>\n",
              "<table border=\"1\" class=\"dataframe\">\n",
              "  <thead>\n",
              "    <tr style=\"text-align: right;\">\n",
              "      <th></th>\n",
              "      <th>var1</th>\n",
              "      <th>var2</th>\n",
              "    </tr>\n",
              "  </thead>\n",
              "  <tbody>\n",
              "    <tr>\n",
              "      <th>0</th>\n",
              "      <td>10</td>\n",
              "      <td>100</td>\n",
              "    </tr>\n",
              "    <tr>\n",
              "      <th>1</th>\n",
              "      <td>23</td>\n",
              "      <td>253</td>\n",
              "    </tr>\n",
              "    <tr>\n",
              "      <th>2</th>\n",
              "      <td>33</td>\n",
              "      <td>333</td>\n",
              "    </tr>\n",
              "    <tr>\n",
              "      <th>3</th>\n",
              "      <td>22</td>\n",
              "      <td>262</td>\n",
              "    </tr>\n",
              "    <tr>\n",
              "      <th>4</th>\n",
              "      <td>11</td>\n",
              "      <td>111</td>\n",
              "    </tr>\n",
              "    <tr>\n",
              "      <th>5</th>\n",
              "      <td>99</td>\n",
              "      <td>969</td>\n",
              "    </tr>\n",
              "    <tr>\n",
              "      <th>6</th>\n",
              "      <td>76</td>\n",
              "      <td>405</td>\n",
              "    </tr>\n",
              "    <tr>\n",
              "      <th>7</th>\n",
              "      <td>84</td>\n",
              "      <td>578</td>\n",
              "    </tr>\n",
              "    <tr>\n",
              "      <th>8</th>\n",
              "      <td>45</td>\n",
              "      <td>760</td>\n",
              "    </tr>\n",
              "  </tbody>\n",
              "</table>\n",
              "</div>"
            ],
            "text/plain": [
              "   var1  var2\n",
              "0    10   100\n",
              "1    23   253\n",
              "2    33   333\n",
              "3    22   262\n",
              "4    11   111\n",
              "5    99   969\n",
              "6    76   405\n",
              "7    84   578\n",
              "8    45   760"
            ]
          },
          "execution_count": 53,
          "metadata": {},
          "output_type": "execute_result"
        }
      ],
      "source": [
        "# The ‘like‘ parameter enables you to identify items that contain a certain string.\n",
        "\n",
        "df2.filter(like=\"var\", axis=1)"
      ]
    },
    {
      "cell_type": "code",
      "execution_count": null,
      "metadata": {
        "id": "8b3VvH_g4wYx",
        "outputId": "b46ea8eb-88a4-4272-9cfa-7f94bb70fe2d"
      },
      "outputs": [
        {
          "data": {
            "text/html": [
              "<div>\n",
              "<style scoped>\n",
              "    .dataframe tbody tr th:only-of-type {\n",
              "        vertical-align: middle;\n",
              "    }\n",
              "\n",
              "    .dataframe tbody tr th {\n",
              "        vertical-align: top;\n",
              "    }\n",
              "\n",
              "    .dataframe thead th {\n",
              "        text-align: right;\n",
              "    }\n",
              "</style>\n",
              "<table border=\"1\" class=\"dataframe\">\n",
              "  <thead>\n",
              "    <tr style=\"text-align: right;\">\n",
              "      <th></th>\n",
              "      <th>groups</th>\n",
              "      <th>var1</th>\n",
              "      <th>var2</th>\n",
              "    </tr>\n",
              "  </thead>\n",
              "  <tbody>\n",
              "    <tr>\n",
              "      <th>1</th>\n",
              "      <td>B</td>\n",
              "      <td>23</td>\n",
              "      <td>253</td>\n",
              "    </tr>\n",
              "  </tbody>\n",
              "</table>\n",
              "</div>"
            ],
            "text/plain": [
              "  groups  var1  var2\n",
              "1      B    23   253"
            ]
          },
          "execution_count": 54,
          "metadata": {},
          "output_type": "execute_result"
        }
      ],
      "source": [
        "df2.filter(like=\"1\", axis=0)"
      ]
    },
    {
      "cell_type": "markdown",
      "metadata": {
        "id": "KJpKTyn04wYy"
      },
      "source": [
        "### DataFrame.groupby().filter()"
      ]
    },
    {
      "cell_type": "markdown",
      "metadata": {
        "id": "S7cII_p14wYy"
      },
      "source": [
        "- DataFrameGroupBy.filter(func, dropna=True, *args, **kwargs)\n",
        "- Return a copy of a DataFrame excluding filtered elements.\n",
        "- Elements from groups are filtered if they do not satisfy the boolean criterion specified by func."
      ]
    },
    {
      "cell_type": "code",
      "execution_count": null,
      "metadata": {
        "id": "dqwAguQeQhl2",
        "outputId": "0e4d3d9d-7773-4b84-c93f-e91d3bb30d9e"
      },
      "outputs": [
        {
          "data": {
            "text/plain": [
              "array(['A', 'B', 'C'], dtype=object)"
            ]
          },
          "execution_count": 55,
          "metadata": {},
          "output_type": "execute_result"
        }
      ],
      "source": [
        "df2.groups.unique()"
      ]
    },
    {
      "cell_type": "code",
      "execution_count": null,
      "metadata": {
        "id": "AcpIhhl9Qhl2",
        "outputId": "1b5cffc6-61b5-421c-ecf9-101dfa293ac9"
      },
      "outputs": [
        {
          "data": {
            "text/html": [
              "<div>\n",
              "<style scoped>\n",
              "    .dataframe tbody tr th:only-of-type {\n",
              "        vertical-align: middle;\n",
              "    }\n",
              "\n",
              "    .dataframe tbody tr th {\n",
              "        vertical-align: top;\n",
              "    }\n",
              "\n",
              "    .dataframe thead th {\n",
              "        text-align: right;\n",
              "    }\n",
              "</style>\n",
              "<table border=\"1\" class=\"dataframe\">\n",
              "  <thead>\n",
              "    <tr style=\"text-align: right;\">\n",
              "      <th></th>\n",
              "      <th>var1</th>\n",
              "      <th>var2</th>\n",
              "    </tr>\n",
              "    <tr>\n",
              "      <th>groups</th>\n",
              "      <th></th>\n",
              "      <th></th>\n",
              "    </tr>\n",
              "  </thead>\n",
              "  <tbody>\n",
              "    <tr>\n",
              "      <th>A</th>\n",
              "      <td>36.000000</td>\n",
              "      <td>255.666667</td>\n",
              "    </tr>\n",
              "    <tr>\n",
              "      <th>B</th>\n",
              "      <td>39.333333</td>\n",
              "      <td>314.000000</td>\n",
              "    </tr>\n",
              "    <tr>\n",
              "      <th>C</th>\n",
              "      <td>59.000000</td>\n",
              "      <td>687.333333</td>\n",
              "    </tr>\n",
              "  </tbody>\n",
              "</table>\n",
              "</div>"
            ],
            "text/plain": [
              "             var1        var2\n",
              "groups                       \n",
              "A       36.000000  255.666667\n",
              "B       39.333333  314.000000\n",
              "C       59.000000  687.333333"
            ]
          },
          "execution_count": 56,
          "metadata": {},
          "output_type": "execute_result"
        }
      ],
      "source": [
        "df2.groupby(\"groups\").mean()"
      ]
    },
    {
      "cell_type": "code",
      "execution_count": null,
      "metadata": {
        "id": "oLZ2mMufQhl2"
      },
      "outputs": [],
      "source": [
        "def filter_func(x):\n",
        "    return x[\"var1\"].mean() > 39"
      ]
    },
    {
      "cell_type": "code",
      "execution_count": null,
      "metadata": {
        "id": "LscnllRPQhl2",
        "outputId": "cb476930-8957-4661-94f5-f526704b4563"
      },
      "outputs": [
        {
          "data": {
            "text/html": [
              "<div>\n",
              "<style scoped>\n",
              "    .dataframe tbody tr th:only-of-type {\n",
              "        vertical-align: middle;\n",
              "    }\n",
              "\n",
              "    .dataframe tbody tr th {\n",
              "        vertical-align: top;\n",
              "    }\n",
              "\n",
              "    .dataframe thead th {\n",
              "        text-align: right;\n",
              "    }\n",
              "</style>\n",
              "<table border=\"1\" class=\"dataframe\">\n",
              "  <thead>\n",
              "    <tr style=\"text-align: right;\">\n",
              "      <th></th>\n",
              "      <th>groups</th>\n",
              "      <th>var1</th>\n",
              "      <th>var2</th>\n",
              "    </tr>\n",
              "  </thead>\n",
              "  <tbody>\n",
              "    <tr>\n",
              "      <th>1</th>\n",
              "      <td>B</td>\n",
              "      <td>23</td>\n",
              "      <td>253</td>\n",
              "    </tr>\n",
              "    <tr>\n",
              "      <th>2</th>\n",
              "      <td>C</td>\n",
              "      <td>33</td>\n",
              "      <td>333</td>\n",
              "    </tr>\n",
              "    <tr>\n",
              "      <th>4</th>\n",
              "      <td>B</td>\n",
              "      <td>11</td>\n",
              "      <td>111</td>\n",
              "    </tr>\n",
              "    <tr>\n",
              "      <th>5</th>\n",
              "      <td>C</td>\n",
              "      <td>99</td>\n",
              "      <td>969</td>\n",
              "    </tr>\n",
              "    <tr>\n",
              "      <th>7</th>\n",
              "      <td>B</td>\n",
              "      <td>84</td>\n",
              "      <td>578</td>\n",
              "    </tr>\n",
              "    <tr>\n",
              "      <th>8</th>\n",
              "      <td>C</td>\n",
              "      <td>45</td>\n",
              "      <td>760</td>\n",
              "    </tr>\n",
              "  </tbody>\n",
              "</table>\n",
              "</div>"
            ],
            "text/plain": [
              "  groups  var1  var2\n",
              "1      B    23   253\n",
              "2      C    33   333\n",
              "4      B    11   111\n",
              "5      C    99   969\n",
              "7      B    84   578\n",
              "8      C    45   760"
            ]
          },
          "execution_count": 58,
          "metadata": {},
          "output_type": "execute_result"
        }
      ],
      "source": [
        "# returns the rows that meet the condition, as a DataFrame\n",
        "df2.groupby('groups').filter(filter_func)"
      ]
    },
    {
      "cell_type": "code",
      "execution_count": null,
      "metadata": {
        "id": "3YftwOqlQhl2",
        "outputId": "902c975d-ec10-4898-bb56-2c1a44f9e53e"
      },
      "outputs": [
        {
          "data": {
            "text/html": [
              "<div>\n",
              "<style scoped>\n",
              "    .dataframe tbody tr th:only-of-type {\n",
              "        vertical-align: middle;\n",
              "    }\n",
              "\n",
              "    .dataframe tbody tr th {\n",
              "        vertical-align: top;\n",
              "    }\n",
              "\n",
              "    .dataframe thead th {\n",
              "        text-align: right;\n",
              "    }\n",
              "</style>\n",
              "<table border=\"1\" class=\"dataframe\">\n",
              "  <thead>\n",
              "    <tr style=\"text-align: right;\">\n",
              "      <th></th>\n",
              "      <th>var1</th>\n",
              "      <th>var2</th>\n",
              "    </tr>\n",
              "    <tr>\n",
              "      <th>groups</th>\n",
              "      <th></th>\n",
              "      <th></th>\n",
              "    </tr>\n",
              "  </thead>\n",
              "  <tbody>\n",
              "    <tr>\n",
              "      <th>A</th>\n",
              "      <td>108</td>\n",
              "      <td>767</td>\n",
              "    </tr>\n",
              "    <tr>\n",
              "      <th>B</th>\n",
              "      <td>118</td>\n",
              "      <td>942</td>\n",
              "    </tr>\n",
              "    <tr>\n",
              "      <th>C</th>\n",
              "      <td>177</td>\n",
              "      <td>2062</td>\n",
              "    </tr>\n",
              "  </tbody>\n",
              "</table>\n",
              "</div>"
            ],
            "text/plain": [
              "        var1  var2\n",
              "groups            \n",
              "A        108   767\n",
              "B        118   942\n",
              "C        177  2062"
            ]
          },
          "execution_count": 59,
          "metadata": {},
          "output_type": "execute_result"
        }
      ],
      "source": [
        "df2.groupby(\"groups\").sum()"
      ]
    },
    {
      "cell_type": "code",
      "execution_count": null,
      "metadata": {
        "id": "2a7cL2l9Qhl3",
        "outputId": "f415e9f0-bd34-4e02-b67e-78cfacc3a965"
      },
      "outputs": [
        {
          "data": {
            "text/html": [
              "<div>\n",
              "<style scoped>\n",
              "    .dataframe tbody tr th:only-of-type {\n",
              "        vertical-align: middle;\n",
              "    }\n",
              "\n",
              "    .dataframe tbody tr th {\n",
              "        vertical-align: top;\n",
              "    }\n",
              "\n",
              "    .dataframe thead th {\n",
              "        text-align: right;\n",
              "    }\n",
              "</style>\n",
              "<table border=\"1\" class=\"dataframe\">\n",
              "  <thead>\n",
              "    <tr style=\"text-align: right;\">\n",
              "      <th></th>\n",
              "      <th>groups</th>\n",
              "      <th>var1</th>\n",
              "      <th>var2</th>\n",
              "    </tr>\n",
              "  </thead>\n",
              "  <tbody>\n",
              "    <tr>\n",
              "      <th>0</th>\n",
              "      <td>A</td>\n",
              "      <td>10</td>\n",
              "      <td>100</td>\n",
              "    </tr>\n",
              "    <tr>\n",
              "      <th>3</th>\n",
              "      <td>A</td>\n",
              "      <td>22</td>\n",
              "      <td>262</td>\n",
              "    </tr>\n",
              "    <tr>\n",
              "      <th>6</th>\n",
              "      <td>A</td>\n",
              "      <td>76</td>\n",
              "      <td>405</td>\n",
              "    </tr>\n",
              "  </tbody>\n",
              "</table>\n",
              "</div>"
            ],
            "text/plain": [
              "  groups  var1  var2\n",
              "0      A    10   100\n",
              "3      A    22   262\n",
              "6      A    76   405"
            ]
          },
          "execution_count": 60,
          "metadata": {},
          "output_type": "execute_result"
        }
      ],
      "source": [
        "df2.groupby('groups').filter(lambda x : x['var2'].sum()<800)"
      ]
    },
    {
      "cell_type": "markdown",
      "metadata": {
        "id": "HsGwIIY9Qhl3"
      },
      "source": [
        "## .transform()\n",
        "\n",
        "- Python’s **Transform** function returns a self-produced dataframe with transformed values after applying the function specified in its parameter.\n",
        "- This dataframe has the same length as the passed dataframe.\n",
        "\n",
        "https://pandas.pydata.org/docs/reference/api/pandas.DataFrame.transform.html\n",
        "\n",
        "https://www.analyticsvidhya.com/blog/2020/03/understanding-transform-function-python/"
      ]
    },
    {
      "cell_type": "markdown",
      "metadata": {
        "id": "twU8fuxF4wY0"
      },
      "source": [
        "### DataFrame.transform()"
      ]
    },
    {
      "cell_type": "markdown",
      "metadata": {
        "id": "vbzSJUub4wY0"
      },
      "source": [
        "- DataFrame.transform(func, axis=0, *args, **kwargs)\n",
        "- Call func on self producing a DataFrame with the same axis shape as self."
      ]
    },
    {
      "cell_type": "code",
      "execution_count": null,
      "metadata": {
        "id": "FUNS5aKu4wY1",
        "outputId": "7c3a1b49-72ab-4479-be3e-861601dcf2db"
      },
      "outputs": [
        {
          "data": {
            "text/html": [
              "<div>\n",
              "<style scoped>\n",
              "    .dataframe tbody tr th:only-of-type {\n",
              "        vertical-align: middle;\n",
              "    }\n",
              "\n",
              "    .dataframe tbody tr th {\n",
              "        vertical-align: top;\n",
              "    }\n",
              "\n",
              "    .dataframe thead th {\n",
              "        text-align: right;\n",
              "    }\n",
              "</style>\n",
              "<table border=\"1\" class=\"dataframe\">\n",
              "  <thead>\n",
              "    <tr style=\"text-align: right;\">\n",
              "      <th></th>\n",
              "      <th>var1</th>\n",
              "      <th>var2</th>\n",
              "    </tr>\n",
              "  </thead>\n",
              "  <tbody>\n",
              "    <tr>\n",
              "      <th>0</th>\n",
              "      <td>10</td>\n",
              "      <td>100</td>\n",
              "    </tr>\n",
              "    <tr>\n",
              "      <th>1</th>\n",
              "      <td>23</td>\n",
              "      <td>253</td>\n",
              "    </tr>\n",
              "    <tr>\n",
              "      <th>2</th>\n",
              "      <td>33</td>\n",
              "      <td>333</td>\n",
              "    </tr>\n",
              "    <tr>\n",
              "      <th>3</th>\n",
              "      <td>22</td>\n",
              "      <td>262</td>\n",
              "    </tr>\n",
              "    <tr>\n",
              "      <th>4</th>\n",
              "      <td>11</td>\n",
              "      <td>111</td>\n",
              "    </tr>\n",
              "    <tr>\n",
              "      <th>5</th>\n",
              "      <td>99</td>\n",
              "      <td>969</td>\n",
              "    </tr>\n",
              "    <tr>\n",
              "      <th>6</th>\n",
              "      <td>76</td>\n",
              "      <td>405</td>\n",
              "    </tr>\n",
              "    <tr>\n",
              "      <th>7</th>\n",
              "      <td>84</td>\n",
              "      <td>578</td>\n",
              "    </tr>\n",
              "    <tr>\n",
              "      <th>8</th>\n",
              "      <td>45</td>\n",
              "      <td>760</td>\n",
              "    </tr>\n",
              "  </tbody>\n",
              "</table>\n",
              "</div>"
            ],
            "text/plain": [
              "   var1  var2\n",
              "0    10   100\n",
              "1    23   253\n",
              "2    33   333\n",
              "3    22   262\n",
              "4    11   111\n",
              "5    99   969\n",
              "6    76   405\n",
              "7    84   578\n",
              "8    45   760"
            ]
          },
          "execution_count": 61,
          "metadata": {},
          "output_type": "execute_result"
        }
      ],
      "source": [
        "df_num = df2.iloc[:,1:3]\n",
        "df_num"
      ]
    },
    {
      "cell_type": "code",
      "execution_count": null,
      "metadata": {
        "id": "jHfufXQtQhl3",
        "outputId": "4504607a-7e9b-4a1c-a008-0169f7979b5a"
      },
      "outputs": [
        {
          "data": {
            "text/html": [
              "<div>\n",
              "<style scoped>\n",
              "    .dataframe tbody tr th:only-of-type {\n",
              "        vertical-align: middle;\n",
              "    }\n",
              "\n",
              "    .dataframe tbody tr th {\n",
              "        vertical-align: top;\n",
              "    }\n",
              "\n",
              "    .dataframe thead th {\n",
              "        text-align: right;\n",
              "    }\n",
              "</style>\n",
              "<table border=\"1\" class=\"dataframe\">\n",
              "  <thead>\n",
              "    <tr style=\"text-align: right;\">\n",
              "      <th></th>\n",
              "      <th>var1</th>\n",
              "      <th>var2</th>\n",
              "    </tr>\n",
              "  </thead>\n",
              "  <tbody>\n",
              "    <tr>\n",
              "      <th>0</th>\n",
              "      <td>20</td>\n",
              "      <td>110</td>\n",
              "    </tr>\n",
              "    <tr>\n",
              "      <th>1</th>\n",
              "      <td>33</td>\n",
              "      <td>263</td>\n",
              "    </tr>\n",
              "    <tr>\n",
              "      <th>2</th>\n",
              "      <td>43</td>\n",
              "      <td>343</td>\n",
              "    </tr>\n",
              "    <tr>\n",
              "      <th>3</th>\n",
              "      <td>32</td>\n",
              "      <td>272</td>\n",
              "    </tr>\n",
              "    <tr>\n",
              "      <th>4</th>\n",
              "      <td>21</td>\n",
              "      <td>121</td>\n",
              "    </tr>\n",
              "    <tr>\n",
              "      <th>5</th>\n",
              "      <td>109</td>\n",
              "      <td>979</td>\n",
              "    </tr>\n",
              "    <tr>\n",
              "      <th>6</th>\n",
              "      <td>86</td>\n",
              "      <td>415</td>\n",
              "    </tr>\n",
              "    <tr>\n",
              "      <th>7</th>\n",
              "      <td>94</td>\n",
              "      <td>588</td>\n",
              "    </tr>\n",
              "    <tr>\n",
              "      <th>8</th>\n",
              "      <td>55</td>\n",
              "      <td>770</td>\n",
              "    </tr>\n",
              "  </tbody>\n",
              "</table>\n",
              "</div>"
            ],
            "text/plain": [
              "   var1  var2\n",
              "0    20   110\n",
              "1    33   263\n",
              "2    43   343\n",
              "3    32   272\n",
              "4    21   121\n",
              "5   109   979\n",
              "6    86   415\n",
              "7    94   588\n",
              "8    55   770"
            ]
          },
          "execution_count": 62,
          "metadata": {},
          "output_type": "execute_result"
        }
      ],
      "source": [
        "df_num.transform(lambda x : x+10)\n",
        "#df_num+10"
      ]
    },
    {
      "cell_type": "code",
      "execution_count": null,
      "metadata": {
        "id": "MrnX6lPe4wY1",
        "outputId": "081cfecd-c93a-4d63-ea86-69c2b255f0f7"
      },
      "outputs": [
        {
          "data": {
            "text/html": [
              "<div>\n",
              "<style scoped>\n",
              "    .dataframe tbody tr th:only-of-type {\n",
              "        vertical-align: middle;\n",
              "    }\n",
              "\n",
              "    .dataframe tbody tr th {\n",
              "        vertical-align: top;\n",
              "    }\n",
              "\n",
              "    .dataframe thead th {\n",
              "        text-align: right;\n",
              "    }\n",
              "</style>\n",
              "<table border=\"1\" class=\"dataframe\">\n",
              "  <thead>\n",
              "    <tr style=\"text-align: right;\">\n",
              "      <th></th>\n",
              "      <th>var1</th>\n",
              "      <th>var2</th>\n",
              "    </tr>\n",
              "  </thead>\n",
              "  <tbody>\n",
              "    <tr>\n",
              "      <th>0</th>\n",
              "      <td>-1.040605</td>\n",
              "      <td>-1.078044</td>\n",
              "    </tr>\n",
              "    <tr>\n",
              "      <th>1</th>\n",
              "      <td>-0.651625</td>\n",
              "      <td>-0.560989</td>\n",
              "    </tr>\n",
              "    <tr>\n",
              "      <th>2</th>\n",
              "      <td>-0.352409</td>\n",
              "      <td>-0.290633</td>\n",
              "    </tr>\n",
              "    <tr>\n",
              "      <th>3</th>\n",
              "      <td>-0.681547</td>\n",
              "      <td>-0.530573</td>\n",
              "    </tr>\n",
              "    <tr>\n",
              "      <th>4</th>\n",
              "      <td>-1.010684</td>\n",
              "      <td>-1.040870</td>\n",
              "    </tr>\n",
              "    <tr>\n",
              "      <th>5</th>\n",
              "      <td>1.622413</td>\n",
              "      <td>1.858697</td>\n",
              "    </tr>\n",
              "    <tr>\n",
              "      <th>6</th>\n",
              "      <td>0.934218</td>\n",
              "      <td>-0.047312</td>\n",
              "    </tr>\n",
              "    <tr>\n",
              "      <th>7</th>\n",
              "      <td>1.173590</td>\n",
              "      <td>0.537332</td>\n",
              "    </tr>\n",
              "    <tr>\n",
              "      <th>8</th>\n",
              "      <td>0.006649</td>\n",
              "      <td>1.152392</td>\n",
              "    </tr>\n",
              "  </tbody>\n",
              "</table>\n",
              "</div>"
            ],
            "text/plain": [
              "       var1      var2\n",
              "0 -1.040605 -1.078044\n",
              "1 -0.651625 -0.560989\n",
              "2 -0.352409 -0.290633\n",
              "3 -0.681547 -0.530573\n",
              "4 -1.010684 -1.040870\n",
              "5  1.622413  1.858697\n",
              "6  0.934218 -0.047312\n",
              "7  1.173590  0.537332\n",
              "8  0.006649  1.152392"
            ]
          },
          "execution_count": 63,
          "metadata": {},
          "output_type": "execute_result"
        }
      ],
      "source": [
        "# returns A DataFrame that must have the same length as self. Standardization(mean 0 std 1) Normalization (0-1)\n",
        "df_num.transform(lambda x : (x-x.mean())/x.std())\n",
        "#(df_num-df_num.mean())/df_num.std()"
      ]
    },
    {
      "cell_type": "code",
      "execution_count": null,
      "metadata": {
        "id": "qetuyMAh4wY2",
        "outputId": "6b46cec2-4738-4cbf-8c1f-99606a177fe7"
      },
      "outputs": [
        {
          "data": {
            "text/plain": [
              "0   -1.040605\n",
              "1   -0.651625\n",
              "2   -0.352409\n",
              "3   -0.681547\n",
              "4   -1.010684\n",
              "5    1.622413\n",
              "6    0.934218\n",
              "7    1.173590\n",
              "8    0.006649\n",
              "Name: var1, dtype: float64"
            ]
          },
          "execution_count": 64,
          "metadata": {},
          "output_type": "execute_result"
        }
      ],
      "source": [
        "df_num.var1.transform(lambda x : (x-x.mean())/x.std())"
      ]
    },
    {
      "cell_type": "code",
      "execution_count": null,
      "metadata": {
        "id": "NetAKcJs4wY2",
        "outputId": "20b70535-88fd-44f8-fc71-fa41dbe3c38e"
      },
      "outputs": [
        {
          "data": {
            "text/plain": [
              "0    3.162278\n",
              "1    4.795832\n",
              "2    5.744563\n",
              "3    4.690416\n",
              "4    3.316625\n",
              "5    9.949874\n",
              "6    8.717798\n",
              "7    9.165151\n",
              "8    6.708204\n",
              "Name: var1, dtype: float64"
            ]
          },
          "execution_count": 65,
          "metadata": {},
          "output_type": "execute_result"
        }
      ],
      "source": [
        "df_num.var1.transform(np.sqrt)"
      ]
    },
    {
      "cell_type": "code",
      "execution_count": null,
      "metadata": {
        "id": "tvbRLV5L4wY2",
        "outputId": "b7b01cd1-e82b-4855-e2eb-eaf15cc0edf7"
      },
      "outputs": [
        {
          "data": {
            "text/html": [
              "<div>\n",
              "<style scoped>\n",
              "    .dataframe tbody tr th:only-of-type {\n",
              "        vertical-align: middle;\n",
              "    }\n",
              "\n",
              "    .dataframe tbody tr th {\n",
              "        vertical-align: top;\n",
              "    }\n",
              "\n",
              "    .dataframe thead th {\n",
              "        text-align: right;\n",
              "    }\n",
              "</style>\n",
              "<table border=\"1\" class=\"dataframe\">\n",
              "  <thead>\n",
              "    <tr style=\"text-align: right;\">\n",
              "      <th></th>\n",
              "      <th>sqrt</th>\n",
              "      <th>exp</th>\n",
              "    </tr>\n",
              "  </thead>\n",
              "  <tbody>\n",
              "    <tr>\n",
              "      <th>0</th>\n",
              "      <td>3.162278</td>\n",
              "      <td>2.202647e+04</td>\n",
              "    </tr>\n",
              "    <tr>\n",
              "      <th>1</th>\n",
              "      <td>4.795832</td>\n",
              "      <td>9.744803e+09</td>\n",
              "    </tr>\n",
              "    <tr>\n",
              "      <th>2</th>\n",
              "      <td>5.744563</td>\n",
              "      <td>2.146436e+14</td>\n",
              "    </tr>\n",
              "    <tr>\n",
              "      <th>3</th>\n",
              "      <td>4.690416</td>\n",
              "      <td>3.584913e+09</td>\n",
              "    </tr>\n",
              "    <tr>\n",
              "      <th>4</th>\n",
              "      <td>3.316625</td>\n",
              "      <td>5.987414e+04</td>\n",
              "    </tr>\n",
              "    <tr>\n",
              "      <th>5</th>\n",
              "      <td>9.949874</td>\n",
              "      <td>9.889030e+42</td>\n",
              "    </tr>\n",
              "    <tr>\n",
              "      <th>6</th>\n",
              "      <td>8.717798</td>\n",
              "      <td>1.014800e+33</td>\n",
              "    </tr>\n",
              "    <tr>\n",
              "      <th>7</th>\n",
              "      <td>9.165151</td>\n",
              "      <td>3.025077e+36</td>\n",
              "    </tr>\n",
              "    <tr>\n",
              "      <th>8</th>\n",
              "      <td>6.708204</td>\n",
              "      <td>3.493427e+19</td>\n",
              "    </tr>\n",
              "  </tbody>\n",
              "</table>\n",
              "</div>"
            ],
            "text/plain": [
              "       sqrt           exp\n",
              "0  3.162278  2.202647e+04\n",
              "1  4.795832  9.744803e+09\n",
              "2  5.744563  2.146436e+14\n",
              "3  4.690416  3.584913e+09\n",
              "4  3.316625  5.987414e+04\n",
              "5  9.949874  9.889030e+42\n",
              "6  8.717798  1.014800e+33\n",
              "7  9.165151  3.025077e+36\n",
              "8  6.708204  3.493427e+19"
            ]
          },
          "execution_count": 66,
          "metadata": {},
          "output_type": "execute_result"
        }
      ],
      "source": [
        "df_num.var1.transform([np.sqrt, np.exp])"
      ]
    },
    {
      "cell_type": "markdown",
      "metadata": {
        "id": "uq6CN11r4wY2"
      },
      "source": [
        "### DataFrame.groupby().transform()"
      ]
    },
    {
      "cell_type": "markdown",
      "metadata": {
        "id": "UO9fvyp64wY3"
      },
      "source": [
        "- DataFrameGroupBy.transform(func, *args, engine=None, engine_kwargs=None, **kwargs)\n",
        "- Call function producing a like-indexed DataFrame on each group and return a DataFrame having the same indexes as the original object filled with the transformed values."
      ]
    },
    {
      "cell_type": "code",
      "execution_count": null,
      "metadata": {
        "id": "9m6LCNW84wY3",
        "outputId": "33784e63-bd8a-494c-d55d-41e63ff0b46b"
      },
      "outputs": [
        {
          "data": {
            "text/plain": [
              "groups\n",
              "A    36.000000\n",
              "B    39.333333\n",
              "C    59.000000\n",
              "Name: var1, dtype: float64"
            ]
          },
          "execution_count": 67,
          "metadata": {},
          "output_type": "execute_result"
        }
      ],
      "source": [
        "df2.groupby(\"groups\")[\"var1\"].mean()"
      ]
    },
    {
      "cell_type": "code",
      "execution_count": null,
      "metadata": {
        "id": "2OVp4nwD4wY3",
        "outputId": "a401225e-1e82-423d-a02e-b6d3783193f3"
      },
      "outputs": [
        {
          "data": {
            "text/plain": [
              "0    36.000000\n",
              "1    39.333333\n",
              "2    59.000000\n",
              "3    36.000000\n",
              "4    39.333333\n",
              "5    59.000000\n",
              "6    36.000000\n",
              "7    39.333333\n",
              "8    59.000000\n",
              "Name: var1, dtype: float64"
            ]
          },
          "execution_count": 68,
          "metadata": {},
          "output_type": "execute_result"
        }
      ],
      "source": [
        "df2.groupby(\"groups\")[\"var1\"].transform(\"mean\")"
      ]
    },
    {
      "cell_type": "code",
      "execution_count": null,
      "metadata": {
        "id": "j-x_2Ixl4wY3",
        "outputId": "353c0612-b844-423d-9694-65c5c892bf3b"
      },
      "outputs": [
        {
          "data": {
            "text/html": [
              "<div>\n",
              "<style scoped>\n",
              "    .dataframe tbody tr th:only-of-type {\n",
              "        vertical-align: middle;\n",
              "    }\n",
              "\n",
              "    .dataframe tbody tr th {\n",
              "        vertical-align: top;\n",
              "    }\n",
              "\n",
              "    .dataframe thead th {\n",
              "        text-align: right;\n",
              "    }\n",
              "</style>\n",
              "<table border=\"1\" class=\"dataframe\">\n",
              "  <thead>\n",
              "    <tr style=\"text-align: right;\">\n",
              "      <th></th>\n",
              "      <th>groups</th>\n",
              "      <th>var1</th>\n",
              "      <th>var2</th>\n",
              "      <th>var1_mean_transform</th>\n",
              "    </tr>\n",
              "  </thead>\n",
              "  <tbody>\n",
              "    <tr>\n",
              "      <th>0</th>\n",
              "      <td>A</td>\n",
              "      <td>10</td>\n",
              "      <td>100</td>\n",
              "      <td>36.000000</td>\n",
              "    </tr>\n",
              "    <tr>\n",
              "      <th>1</th>\n",
              "      <td>B</td>\n",
              "      <td>23</td>\n",
              "      <td>253</td>\n",
              "      <td>39.333333</td>\n",
              "    </tr>\n",
              "    <tr>\n",
              "      <th>2</th>\n",
              "      <td>C</td>\n",
              "      <td>33</td>\n",
              "      <td>333</td>\n",
              "      <td>59.000000</td>\n",
              "    </tr>\n",
              "    <tr>\n",
              "      <th>3</th>\n",
              "      <td>A</td>\n",
              "      <td>22</td>\n",
              "      <td>262</td>\n",
              "      <td>36.000000</td>\n",
              "    </tr>\n",
              "    <tr>\n",
              "      <th>4</th>\n",
              "      <td>B</td>\n",
              "      <td>11</td>\n",
              "      <td>111</td>\n",
              "      <td>39.333333</td>\n",
              "    </tr>\n",
              "    <tr>\n",
              "      <th>5</th>\n",
              "      <td>C</td>\n",
              "      <td>99</td>\n",
              "      <td>969</td>\n",
              "      <td>59.000000</td>\n",
              "    </tr>\n",
              "    <tr>\n",
              "      <th>6</th>\n",
              "      <td>A</td>\n",
              "      <td>76</td>\n",
              "      <td>405</td>\n",
              "      <td>36.000000</td>\n",
              "    </tr>\n",
              "    <tr>\n",
              "      <th>7</th>\n",
              "      <td>B</td>\n",
              "      <td>84</td>\n",
              "      <td>578</td>\n",
              "      <td>39.333333</td>\n",
              "    </tr>\n",
              "    <tr>\n",
              "      <th>8</th>\n",
              "      <td>C</td>\n",
              "      <td>45</td>\n",
              "      <td>760</td>\n",
              "      <td>59.000000</td>\n",
              "    </tr>\n",
              "  </tbody>\n",
              "</table>\n",
              "</div>"
            ],
            "text/plain": [
              "  groups  var1  var2  var1_mean_transform\n",
              "0      A    10   100            36.000000\n",
              "1      B    23   253            39.333333\n",
              "2      C    33   333            59.000000\n",
              "3      A    22   262            36.000000\n",
              "4      B    11   111            39.333333\n",
              "5      C    99   969            59.000000\n",
              "6      A    76   405            36.000000\n",
              "7      B    84   578            39.333333\n",
              "8      C    45   760            59.000000"
            ]
          },
          "execution_count": 69,
          "metadata": {},
          "output_type": "execute_result"
        }
      ],
      "source": [
        "df2[\"var1_mean_transform\"] = df2.groupby(\"groups\")[\"var1\"].transform(\"mean\")\n",
        "df2"
      ]
    },
    {
      "cell_type": "code",
      "execution_count": null,
      "metadata": {
        "id": "dU9ZzrIg4wY4",
        "outputId": "9b5988c2-c9c7-49ea-be9e-120030c90a17"
      },
      "outputs": [
        {
          "data": {
            "text/html": [
              "<div>\n",
              "<style scoped>\n",
              "    .dataframe tbody tr th:only-of-type {\n",
              "        vertical-align: middle;\n",
              "    }\n",
              "\n",
              "    .dataframe tbody tr th {\n",
              "        vertical-align: top;\n",
              "    }\n",
              "\n",
              "    .dataframe thead th {\n",
              "        text-align: right;\n",
              "    }\n",
              "</style>\n",
              "<table border=\"1\" class=\"dataframe\">\n",
              "  <thead>\n",
              "    <tr style=\"text-align: right;\">\n",
              "      <th></th>\n",
              "      <th>groups</th>\n",
              "      <th>var1</th>\n",
              "      <th>var2</th>\n",
              "      <th>var1_mean_transform</th>\n",
              "      <th>var2_median_transform</th>\n",
              "    </tr>\n",
              "  </thead>\n",
              "  <tbody>\n",
              "    <tr>\n",
              "      <th>0</th>\n",
              "      <td>A</td>\n",
              "      <td>10</td>\n",
              "      <td>100</td>\n",
              "      <td>36.000000</td>\n",
              "      <td>262</td>\n",
              "    </tr>\n",
              "    <tr>\n",
              "      <th>1</th>\n",
              "      <td>B</td>\n",
              "      <td>23</td>\n",
              "      <td>253</td>\n",
              "      <td>39.333333</td>\n",
              "      <td>253</td>\n",
              "    </tr>\n",
              "    <tr>\n",
              "      <th>2</th>\n",
              "      <td>C</td>\n",
              "      <td>33</td>\n",
              "      <td>333</td>\n",
              "      <td>59.000000</td>\n",
              "      <td>760</td>\n",
              "    </tr>\n",
              "    <tr>\n",
              "      <th>3</th>\n",
              "      <td>A</td>\n",
              "      <td>22</td>\n",
              "      <td>262</td>\n",
              "      <td>36.000000</td>\n",
              "      <td>262</td>\n",
              "    </tr>\n",
              "    <tr>\n",
              "      <th>4</th>\n",
              "      <td>B</td>\n",
              "      <td>11</td>\n",
              "      <td>111</td>\n",
              "      <td>39.333333</td>\n",
              "      <td>253</td>\n",
              "    </tr>\n",
              "    <tr>\n",
              "      <th>5</th>\n",
              "      <td>C</td>\n",
              "      <td>99</td>\n",
              "      <td>969</td>\n",
              "      <td>59.000000</td>\n",
              "      <td>760</td>\n",
              "    </tr>\n",
              "    <tr>\n",
              "      <th>6</th>\n",
              "      <td>A</td>\n",
              "      <td>76</td>\n",
              "      <td>405</td>\n",
              "      <td>36.000000</td>\n",
              "      <td>262</td>\n",
              "    </tr>\n",
              "    <tr>\n",
              "      <th>7</th>\n",
              "      <td>B</td>\n",
              "      <td>84</td>\n",
              "      <td>578</td>\n",
              "      <td>39.333333</td>\n",
              "      <td>253</td>\n",
              "    </tr>\n",
              "    <tr>\n",
              "      <th>8</th>\n",
              "      <td>C</td>\n",
              "      <td>45</td>\n",
              "      <td>760</td>\n",
              "      <td>59.000000</td>\n",
              "      <td>760</td>\n",
              "    </tr>\n",
              "  </tbody>\n",
              "</table>\n",
              "</div>"
            ],
            "text/plain": [
              "  groups  var1  var2  var1_mean_transform  var2_median_transform\n",
              "0      A    10   100            36.000000                    262\n",
              "1      B    23   253            39.333333                    253\n",
              "2      C    33   333            59.000000                    760\n",
              "3      A    22   262            36.000000                    262\n",
              "4      B    11   111            39.333333                    253\n",
              "5      C    99   969            59.000000                    760\n",
              "6      A    76   405            36.000000                    262\n",
              "7      B    84   578            39.333333                    253\n",
              "8      C    45   760            59.000000                    760"
            ]
          },
          "execution_count": 70,
          "metadata": {},
          "output_type": "execute_result"
        }
      ],
      "source": [
        "df2[\"var2_median_transform\"] = df2.groupby(\"groups\")[\"var2\"].transform(\"median\")\n",
        "df2"
      ]
    },
    {
      "cell_type": "markdown",
      "metadata": {
        "id": "GXNsDqOC4wY4"
      },
      "source": [
        "<h1><p style=\"text-align: center;\">Pandas Lesson, Session - 6</p><h1>"
      ]
    },
    {
      "cell_type": "markdown",
      "metadata": {
        "id": "my3PW9M8Qhl4"
      },
      "source": [
        "## .apply()"
      ]
    },
    {
      "cell_type": "markdown",
      "metadata": {
        "id": "4Oq1hycb4wY4"
      },
      "source": [
        "### Series.apply() - df[\"col\"].apply()"
      ]
    },
    {
      "cell_type": "markdown",
      "metadata": {
        "id": "2m-16Qmq4wY5"
      },
      "source": [
        "- Series.apply(func, convert_dtype=True, args=(), **kwargs)\n",
        "- Invoke function on values of Series.\n",
        "- Can be ufunc (a NumPy function that applies to the entire Series) or a Python function that only works on single values."
      ]
    },
    {
      "cell_type": "code",
      "execution_count": null,
      "metadata": {
        "id": "R85G-1d7Qhl5",
        "outputId": "3205bf5b-3c1c-4038-d7f9-6b45b330c57f"
      },
      "outputs": [
        {
          "data": {
            "text/html": [
              "<div>\n",
              "<style scoped>\n",
              "    .dataframe tbody tr th:only-of-type {\n",
              "        vertical-align: middle;\n",
              "    }\n",
              "\n",
              "    .dataframe tbody tr th {\n",
              "        vertical-align: top;\n",
              "    }\n",
              "\n",
              "    .dataframe thead th {\n",
              "        text-align: right;\n",
              "    }\n",
              "</style>\n",
              "<table border=\"1\" class=\"dataframe\">\n",
              "  <thead>\n",
              "    <tr style=\"text-align: right;\">\n",
              "      <th></th>\n",
              "      <th>col1</th>\n",
              "      <th>col2</th>\n",
              "      <th>col3</th>\n",
              "    </tr>\n",
              "  </thead>\n",
              "  <tbody>\n",
              "    <tr>\n",
              "      <th>0</th>\n",
              "      <td>1</td>\n",
              "      <td>444</td>\n",
              "      <td>abc</td>\n",
              "    </tr>\n",
              "    <tr>\n",
              "      <th>1</th>\n",
              "      <td>2</td>\n",
              "      <td>555</td>\n",
              "      <td>def</td>\n",
              "    </tr>\n",
              "    <tr>\n",
              "      <th>2</th>\n",
              "      <td>3</td>\n",
              "      <td>666</td>\n",
              "      <td>ghi</td>\n",
              "    </tr>\n",
              "    <tr>\n",
              "      <th>3</th>\n",
              "      <td>4</td>\n",
              "      <td>444</td>\n",
              "      <td>xyz</td>\n",
              "    </tr>\n",
              "  </tbody>\n",
              "</table>\n",
              "</div>"
            ],
            "text/plain": [
              "   col1  col2 col3\n",
              "0     1   444  abc\n",
              "1     2   555  def\n",
              "2     3   666  ghi\n",
              "3     4   444  xyz"
            ]
          },
          "execution_count": 71,
          "metadata": {},
          "output_type": "execute_result"
        }
      ],
      "source": [
        "df3 = pd.DataFrame({'col1':[1,2,3,4],'col2':[444,555,666,444],'col3':['abc','def','ghi','xyz']})\n",
        "\n",
        "df3"
      ]
    },
    {
      "cell_type": "code",
      "execution_count": null,
      "metadata": {
        "id": "6KAjgCrKQhl6"
      },
      "outputs": [],
      "source": [
        "def squared(x):\n",
        "    return x**2"
      ]
    },
    {
      "cell_type": "code",
      "execution_count": null,
      "metadata": {
        "id": "uI9RB-lDQhl6",
        "outputId": "c3c99fa2-1df8-4f8e-ac7b-1ffb42c1b23b"
      },
      "outputs": [
        {
          "data": {
            "text/plain": [
              "0     1\n",
              "1     4\n",
              "2     9\n",
              "3    16\n",
              "Name: col1, dtype: int64"
            ]
          },
          "execution_count": 73,
          "metadata": {},
          "output_type": "execute_result"
        }
      ],
      "source": [
        "df3['col1'].apply(squared)"
      ]
    },
    {
      "cell_type": "code",
      "execution_count": null,
      "metadata": {
        "id": "Z2I6ulyaQhl6",
        "outputId": "046e49b3-75b6-4da2-8b9c-27be0d559ad6",
        "scrolled": false
      },
      "outputs": [
        {
          "data": {
            "text/plain": [
              "0    6.095825\n",
              "1    6.318968\n",
              "2    6.501290\n",
              "3    6.095825\n",
              "Name: col2, dtype: float64"
            ]
          },
          "execution_count": 74,
          "metadata": {},
          "output_type": "execute_result"
        }
      ],
      "source": [
        "df3['col2'].apply(np.log)"
      ]
    },
    {
      "cell_type": "code",
      "execution_count": null,
      "metadata": {
        "id": "J887PzCH4wY6",
        "outputId": "6d923b23-c0b7-4415-c720-b0cd1a6120ce"
      },
      "outputs": [
        {
          "data": {
            "text/plain": [
              "0    3\n",
              "1    3\n",
              "2    3\n",
              "3    3\n",
              "Name: col3, dtype: int64"
            ]
          },
          "execution_count": 75,
          "metadata": {},
          "output_type": "execute_result"
        }
      ],
      "source": [
        "df3['col3'].apply(len)"
      ]
    },
    {
      "cell_type": "code",
      "execution_count": null,
      "metadata": {
        "id": "zLdPS0Hb4wY6",
        "outputId": "23bed9f7-b869-4e1f-c452-14a658b8d13a"
      },
      "outputs": [
        {
          "data": {
            "text/plain": [
              "0    aaa\n",
              "1    ddd\n",
              "2    ggg\n",
              "3    xxx\n",
              "Name: col3, dtype: object"
            ]
          },
          "execution_count": 76,
          "metadata": {},
          "output_type": "execute_result"
        }
      ],
      "source": [
        "df3['col3'].apply(lambda x: x[0] * 3)"
      ]
    },
    {
      "cell_type": "code",
      "execution_count": null,
      "metadata": {
        "id": "eSg0H1LP4wY6",
        "outputId": "6d39767a-6bb4-4d8e-e2b7-322cf67fa19c"
      },
      "outputs": [
        {
          "data": {
            "text/plain": [
              "0    high\n",
              "1     low\n",
              "2     low\n",
              "3    high\n",
              "Name: col2, dtype: object"
            ]
          },
          "execution_count": 77,
          "metadata": {},
          "output_type": "execute_result"
        }
      ],
      "source": [
        "df3['col2'].apply(lambda x: \"low\" if x > 500 else \"high\")"
      ]
    },
    {
      "cell_type": "markdown",
      "metadata": {
        "id": "nPBay2gy4wY7"
      },
      "source": [
        "### DataFrame.apply()"
      ]
    },
    {
      "cell_type": "markdown",
      "metadata": {
        "id": "OYI-Vlu04wY7"
      },
      "source": [
        "- DataFrame.apply(func, axis=0, raw=False, result_type=None, args=(), **kwargs)\n",
        "- Apply a function along an axis of the DataFrame."
      ]
    },
    {
      "cell_type": "code",
      "execution_count": null,
      "metadata": {
        "id": "9oJVBQ-bQhl4",
        "outputId": "3cc5e461-fb9f-4401-f4c2-4bbb028748a0"
      },
      "outputs": [
        {
          "data": {
            "text/html": [
              "<div>\n",
              "<style scoped>\n",
              "    .dataframe tbody tr th:only-of-type {\n",
              "        vertical-align: middle;\n",
              "    }\n",
              "\n",
              "    .dataframe tbody tr th {\n",
              "        vertical-align: top;\n",
              "    }\n",
              "\n",
              "    .dataframe thead th {\n",
              "        text-align: right;\n",
              "    }\n",
              "</style>\n",
              "<table border=\"1\" class=\"dataframe\">\n",
              "  <thead>\n",
              "    <tr style=\"text-align: right;\">\n",
              "      <th></th>\n",
              "      <th>groups</th>\n",
              "      <th>var1</th>\n",
              "      <th>var2</th>\n",
              "      <th>var1_mean_transform</th>\n",
              "      <th>var2_median_transform</th>\n",
              "    </tr>\n",
              "  </thead>\n",
              "  <tbody>\n",
              "    <tr>\n",
              "      <th>0</th>\n",
              "      <td>A</td>\n",
              "      <td>10</td>\n",
              "      <td>100</td>\n",
              "      <td>36.000000</td>\n",
              "      <td>262</td>\n",
              "    </tr>\n",
              "    <tr>\n",
              "      <th>1</th>\n",
              "      <td>B</td>\n",
              "      <td>23</td>\n",
              "      <td>253</td>\n",
              "      <td>39.333333</td>\n",
              "      <td>253</td>\n",
              "    </tr>\n",
              "    <tr>\n",
              "      <th>2</th>\n",
              "      <td>C</td>\n",
              "      <td>33</td>\n",
              "      <td>333</td>\n",
              "      <td>59.000000</td>\n",
              "      <td>760</td>\n",
              "    </tr>\n",
              "    <tr>\n",
              "      <th>3</th>\n",
              "      <td>A</td>\n",
              "      <td>22</td>\n",
              "      <td>262</td>\n",
              "      <td>36.000000</td>\n",
              "      <td>262</td>\n",
              "    </tr>\n",
              "    <tr>\n",
              "      <th>4</th>\n",
              "      <td>B</td>\n",
              "      <td>11</td>\n",
              "      <td>111</td>\n",
              "      <td>39.333333</td>\n",
              "      <td>253</td>\n",
              "    </tr>\n",
              "    <tr>\n",
              "      <th>5</th>\n",
              "      <td>C</td>\n",
              "      <td>99</td>\n",
              "      <td>969</td>\n",
              "      <td>59.000000</td>\n",
              "      <td>760</td>\n",
              "    </tr>\n",
              "    <tr>\n",
              "      <th>6</th>\n",
              "      <td>A</td>\n",
              "      <td>76</td>\n",
              "      <td>405</td>\n",
              "      <td>36.000000</td>\n",
              "      <td>262</td>\n",
              "    </tr>\n",
              "    <tr>\n",
              "      <th>7</th>\n",
              "      <td>B</td>\n",
              "      <td>84</td>\n",
              "      <td>578</td>\n",
              "      <td>39.333333</td>\n",
              "      <td>253</td>\n",
              "    </tr>\n",
              "    <tr>\n",
              "      <th>8</th>\n",
              "      <td>C</td>\n",
              "      <td>45</td>\n",
              "      <td>760</td>\n",
              "      <td>59.000000</td>\n",
              "      <td>760</td>\n",
              "    </tr>\n",
              "  </tbody>\n",
              "</table>\n",
              "</div>"
            ],
            "text/plain": [
              "  groups  var1  var2  var1_mean_transform  var2_median_transform\n",
              "0      A    10   100            36.000000                    262\n",
              "1      B    23   253            39.333333                    253\n",
              "2      C    33   333            59.000000                    760\n",
              "3      A    22   262            36.000000                    262\n",
              "4      B    11   111            39.333333                    253\n",
              "5      C    99   969            59.000000                    760\n",
              "6      A    76   405            36.000000                    262\n",
              "7      B    84   578            39.333333                    253\n",
              "8      C    45   760            59.000000                    760"
            ]
          },
          "execution_count": 78,
          "metadata": {},
          "output_type": "execute_result"
        }
      ],
      "source": [
        "df2"
      ]
    },
    {
      "cell_type": "code",
      "execution_count": null,
      "metadata": {
        "id": "g2JY4UBu4wY7",
        "outputId": "0524b2b4-ec29-4b78-a4f2-29c2113e2697"
      },
      "outputs": [
        {
          "data": {
            "text/html": [
              "<div>\n",
              "<style scoped>\n",
              "    .dataframe tbody tr th:only-of-type {\n",
              "        vertical-align: middle;\n",
              "    }\n",
              "\n",
              "    .dataframe tbody tr th {\n",
              "        vertical-align: top;\n",
              "    }\n",
              "\n",
              "    .dataframe thead th {\n",
              "        text-align: right;\n",
              "    }\n",
              "</style>\n",
              "<table border=\"1\" class=\"dataframe\">\n",
              "  <thead>\n",
              "    <tr style=\"text-align: right;\">\n",
              "      <th></th>\n",
              "      <th>groups</th>\n",
              "      <th>var1</th>\n",
              "      <th>var2</th>\n",
              "    </tr>\n",
              "  </thead>\n",
              "  <tbody>\n",
              "    <tr>\n",
              "      <th>0</th>\n",
              "      <td>A</td>\n",
              "      <td>10</td>\n",
              "      <td>100</td>\n",
              "    </tr>\n",
              "    <tr>\n",
              "      <th>1</th>\n",
              "      <td>B</td>\n",
              "      <td>23</td>\n",
              "      <td>253</td>\n",
              "    </tr>\n",
              "    <tr>\n",
              "      <th>2</th>\n",
              "      <td>C</td>\n",
              "      <td>33</td>\n",
              "      <td>333</td>\n",
              "    </tr>\n",
              "    <tr>\n",
              "      <th>3</th>\n",
              "      <td>A</td>\n",
              "      <td>22</td>\n",
              "      <td>262</td>\n",
              "    </tr>\n",
              "    <tr>\n",
              "      <th>4</th>\n",
              "      <td>B</td>\n",
              "      <td>11</td>\n",
              "      <td>111</td>\n",
              "    </tr>\n",
              "    <tr>\n",
              "      <th>5</th>\n",
              "      <td>C</td>\n",
              "      <td>99</td>\n",
              "      <td>969</td>\n",
              "    </tr>\n",
              "    <tr>\n",
              "      <th>6</th>\n",
              "      <td>A</td>\n",
              "      <td>76</td>\n",
              "      <td>405</td>\n",
              "    </tr>\n",
              "    <tr>\n",
              "      <th>7</th>\n",
              "      <td>B</td>\n",
              "      <td>84</td>\n",
              "      <td>578</td>\n",
              "    </tr>\n",
              "    <tr>\n",
              "      <th>8</th>\n",
              "      <td>C</td>\n",
              "      <td>45</td>\n",
              "      <td>760</td>\n",
              "    </tr>\n",
              "  </tbody>\n",
              "</table>\n",
              "</div>"
            ],
            "text/plain": [
              "  groups  var1  var2\n",
              "0      A    10   100\n",
              "1      B    23   253\n",
              "2      C    33   333\n",
              "3      A    22   262\n",
              "4      B    11   111\n",
              "5      C    99   969\n",
              "6      A    76   405\n",
              "7      B    84   578\n",
              "8      C    45   760"
            ]
          },
          "execution_count": 79,
          "metadata": {},
          "output_type": "execute_result"
        }
      ],
      "source": [
        "df2.drop([\"var1_mean_transform\", \"var2_median_transform\"], axis=1, inplace=True)\n",
        "df2"
      ]
    },
    {
      "cell_type": "code",
      "execution_count": null,
      "metadata": {
        "id": "MvHv9liJQhl4",
        "outputId": "a91af5f2-c0fe-4736-80cc-31eafc694ab7"
      },
      "outputs": [
        {
          "data": {
            "text/plain": [
              "groups    ABCABCABC\n",
              "var1            403\n",
              "var2           3771\n",
              "dtype: object"
            ]
          },
          "execution_count": 80,
          "metadata": {},
          "output_type": "execute_result"
        }
      ],
      "source": [
        "df2.apply(np.sum)"
      ]
    },
    {
      "cell_type": "code",
      "execution_count": null,
      "metadata": {
        "id": "w8C60gNYQhl5"
      },
      "outputs": [],
      "source": [
        "# It gives an error due to the non-numeric column : \"groups\"\n",
        "\n",
        "# df2.apply(np.sum, axis=1)"
      ]
    },
    {
      "cell_type": "code",
      "execution_count": null,
      "metadata": {
        "id": "-9PIYXXk4wY8",
        "outputId": "f01ba5a2-380a-4776-83e7-f730d7a2a9bb"
      },
      "outputs": [
        {
          "data": {
            "text/html": [
              "<div>\n",
              "<style scoped>\n",
              "    .dataframe tbody tr th:only-of-type {\n",
              "        vertical-align: middle;\n",
              "    }\n",
              "\n",
              "    .dataframe tbody tr th {\n",
              "        vertical-align: top;\n",
              "    }\n",
              "\n",
              "    .dataframe thead th {\n",
              "        text-align: right;\n",
              "    }\n",
              "</style>\n",
              "<table border=\"1\" class=\"dataframe\">\n",
              "  <thead>\n",
              "    <tr style=\"text-align: right;\">\n",
              "      <th></th>\n",
              "      <th>var1</th>\n",
              "      <th>var2</th>\n",
              "    </tr>\n",
              "  </thead>\n",
              "  <tbody>\n",
              "    <tr>\n",
              "      <th>0</th>\n",
              "      <td>10</td>\n",
              "      <td>100</td>\n",
              "    </tr>\n",
              "    <tr>\n",
              "      <th>1</th>\n",
              "      <td>23</td>\n",
              "      <td>253</td>\n",
              "    </tr>\n",
              "    <tr>\n",
              "      <th>2</th>\n",
              "      <td>33</td>\n",
              "      <td>333</td>\n",
              "    </tr>\n",
              "    <tr>\n",
              "      <th>3</th>\n",
              "      <td>22</td>\n",
              "      <td>262</td>\n",
              "    </tr>\n",
              "    <tr>\n",
              "      <th>4</th>\n",
              "      <td>11</td>\n",
              "      <td>111</td>\n",
              "    </tr>\n",
              "    <tr>\n",
              "      <th>5</th>\n",
              "      <td>99</td>\n",
              "      <td>969</td>\n",
              "    </tr>\n",
              "    <tr>\n",
              "      <th>6</th>\n",
              "      <td>76</td>\n",
              "      <td>405</td>\n",
              "    </tr>\n",
              "    <tr>\n",
              "      <th>7</th>\n",
              "      <td>84</td>\n",
              "      <td>578</td>\n",
              "    </tr>\n",
              "    <tr>\n",
              "      <th>8</th>\n",
              "      <td>45</td>\n",
              "      <td>760</td>\n",
              "    </tr>\n",
              "  </tbody>\n",
              "</table>\n",
              "</div>"
            ],
            "text/plain": [
              "   var1  var2\n",
              "0    10   100\n",
              "1    23   253\n",
              "2    33   333\n",
              "3    22   262\n",
              "4    11   111\n",
              "5    99   969\n",
              "6    76   405\n",
              "7    84   578\n",
              "8    45   760"
            ]
          },
          "execution_count": 82,
          "metadata": {},
          "output_type": "execute_result"
        }
      ],
      "source": [
        "df_num"
      ]
    },
    {
      "cell_type": "code",
      "execution_count": null,
      "metadata": {
        "id": "ns9MAMRPQhl5",
        "outputId": "c2c27cdc-c617-4f35-d705-79386254d3ed"
      },
      "outputs": [
        {
          "data": {
            "text/plain": [
              "var1     403\n",
              "var2    3771\n",
              "dtype: int64"
            ]
          },
          "execution_count": 83,
          "metadata": {},
          "output_type": "execute_result"
        }
      ],
      "source": [
        "df_num.apply(np.sum)\n",
        "#df_num.sum()"
      ]
    },
    {
      "cell_type": "code",
      "execution_count": null,
      "metadata": {
        "id": "EHQXV7JUQhl5",
        "outputId": "fe31b066-7fa3-4184-d152-7b9adc612c84"
      },
      "outputs": [
        {
          "data": {
            "text/plain": [
              "0     110\n",
              "1     276\n",
              "2     366\n",
              "3     284\n",
              "4     122\n",
              "5    1068\n",
              "6     481\n",
              "7     662\n",
              "8     805\n",
              "dtype: int64"
            ]
          },
          "execution_count": 84,
          "metadata": {},
          "output_type": "execute_result"
        }
      ],
      "source": [
        "df_num.apply(np.sum, axis=1)\n",
        "#df_num.sum(axis=1)"
      ]
    },
    {
      "cell_type": "code",
      "execution_count": null,
      "metadata": {
        "id": "_c7C28ZB4wY9",
        "outputId": "4a51cc82-9fc5-4225-d3e9-a4d7a1e0a014"
      },
      "outputs": [
        {
          "data": {
            "text/html": [
              "<div>\n",
              "<style scoped>\n",
              "    .dataframe tbody tr th:only-of-type {\n",
              "        vertical-align: middle;\n",
              "    }\n",
              "\n",
              "    .dataframe tbody tr th {\n",
              "        vertical-align: top;\n",
              "    }\n",
              "\n",
              "    .dataframe thead th {\n",
              "        text-align: right;\n",
              "    }\n",
              "</style>\n",
              "<table border=\"1\" class=\"dataframe\">\n",
              "  <thead>\n",
              "    <tr style=\"text-align: right;\">\n",
              "      <th></th>\n",
              "      <th>var1</th>\n",
              "      <th>var2</th>\n",
              "    </tr>\n",
              "  </thead>\n",
              "  <tbody>\n",
              "    <tr>\n",
              "      <th>0</th>\n",
              "      <td>20</td>\n",
              "      <td>110</td>\n",
              "    </tr>\n",
              "    <tr>\n",
              "      <th>1</th>\n",
              "      <td>33</td>\n",
              "      <td>263</td>\n",
              "    </tr>\n",
              "    <tr>\n",
              "      <th>2</th>\n",
              "      <td>43</td>\n",
              "      <td>343</td>\n",
              "    </tr>\n",
              "    <tr>\n",
              "      <th>3</th>\n",
              "      <td>32</td>\n",
              "      <td>272</td>\n",
              "    </tr>\n",
              "    <tr>\n",
              "      <th>4</th>\n",
              "      <td>21</td>\n",
              "      <td>121</td>\n",
              "    </tr>\n",
              "    <tr>\n",
              "      <th>5</th>\n",
              "      <td>109</td>\n",
              "      <td>979</td>\n",
              "    </tr>\n",
              "    <tr>\n",
              "      <th>6</th>\n",
              "      <td>86</td>\n",
              "      <td>415</td>\n",
              "    </tr>\n",
              "    <tr>\n",
              "      <th>7</th>\n",
              "      <td>94</td>\n",
              "      <td>588</td>\n",
              "    </tr>\n",
              "    <tr>\n",
              "      <th>8</th>\n",
              "      <td>55</td>\n",
              "      <td>770</td>\n",
              "    </tr>\n",
              "  </tbody>\n",
              "</table>\n",
              "</div>"
            ],
            "text/plain": [
              "   var1  var2\n",
              "0    20   110\n",
              "1    33   263\n",
              "2    43   343\n",
              "3    32   272\n",
              "4    21   121\n",
              "5   109   979\n",
              "6    86   415\n",
              "7    94   588\n",
              "8    55   770"
            ]
          },
          "execution_count": 85,
          "metadata": {},
          "output_type": "execute_result"
        }
      ],
      "source": [
        "df_num.apply(lambda x : x + 10)"
      ]
    },
    {
      "cell_type": "code",
      "execution_count": null,
      "metadata": {
        "id": "BlS-qQIZQhl5",
        "outputId": "5945107d-5b20-4962-d678-3392fb46ad79"
      },
      "outputs": [
        {
          "data": {
            "text/html": [
              "<div>\n",
              "<style scoped>\n",
              "    .dataframe tbody tr th:only-of-type {\n",
              "        vertical-align: middle;\n",
              "    }\n",
              "\n",
              "    .dataframe tbody tr th {\n",
              "        vertical-align: top;\n",
              "    }\n",
              "\n",
              "    .dataframe thead th {\n",
              "        text-align: right;\n",
              "    }\n",
              "</style>\n",
              "<table border=\"1\" class=\"dataframe\">\n",
              "  <thead>\n",
              "    <tr style=\"text-align: right;\">\n",
              "      <th></th>\n",
              "      <th>var1</th>\n",
              "      <th>var2</th>\n",
              "    </tr>\n",
              "    <tr>\n",
              "      <th>groups</th>\n",
              "      <th></th>\n",
              "      <th></th>\n",
              "    </tr>\n",
              "  </thead>\n",
              "  <tbody>\n",
              "    <tr>\n",
              "      <th>A</th>\n",
              "      <td>36.000000</td>\n",
              "      <td>255.666667</td>\n",
              "    </tr>\n",
              "    <tr>\n",
              "      <th>B</th>\n",
              "      <td>39.333333</td>\n",
              "      <td>314.000000</td>\n",
              "    </tr>\n",
              "    <tr>\n",
              "      <th>C</th>\n",
              "      <td>59.000000</td>\n",
              "      <td>687.333333</td>\n",
              "    </tr>\n",
              "  </tbody>\n",
              "</table>\n",
              "</div>"
            ],
            "text/plain": [
              "             var1        var2\n",
              "groups                       \n",
              "A       36.000000  255.666667\n",
              "B       39.333333  314.000000\n",
              "C       59.000000  687.333333"
            ]
          },
          "execution_count": 86,
          "metadata": {},
          "output_type": "execute_result"
        }
      ],
      "source": [
        "df2.groupby('groups').apply(np.mean)"
      ]
    },
    {
      "cell_type": "code",
      "execution_count": null,
      "metadata": {
        "id": "Pj-jkk4UQhl5",
        "outputId": "0ea7aa38-a6b6-4955-fdca-7228e2527fae"
      },
      "outputs": [
        {
          "data": {
            "text/html": [
              "<div>\n",
              "<style scoped>\n",
              "    .dataframe tbody tr th:only-of-type {\n",
              "        vertical-align: middle;\n",
              "    }\n",
              "\n",
              "    .dataframe tbody tr th {\n",
              "        vertical-align: top;\n",
              "    }\n",
              "\n",
              "    .dataframe thead th {\n",
              "        text-align: right;\n",
              "    }\n",
              "</style>\n",
              "<table border=\"1\" class=\"dataframe\">\n",
              "  <thead>\n",
              "    <tr style=\"text-align: right;\">\n",
              "      <th></th>\n",
              "      <th>var1</th>\n",
              "      <th>var2</th>\n",
              "    </tr>\n",
              "    <tr>\n",
              "      <th>groups</th>\n",
              "      <th></th>\n",
              "      <th></th>\n",
              "    </tr>\n",
              "  </thead>\n",
              "  <tbody>\n",
              "    <tr>\n",
              "      <th>A</th>\n",
              "      <td>36.000000</td>\n",
              "      <td>255.666667</td>\n",
              "    </tr>\n",
              "    <tr>\n",
              "      <th>B</th>\n",
              "      <td>39.333333</td>\n",
              "      <td>314.000000</td>\n",
              "    </tr>\n",
              "    <tr>\n",
              "      <th>C</th>\n",
              "      <td>59.000000</td>\n",
              "      <td>687.333333</td>\n",
              "    </tr>\n",
              "  </tbody>\n",
              "</table>\n",
              "</div>"
            ],
            "text/plain": [
              "             var1        var2\n",
              "groups                       \n",
              "A       36.000000  255.666667\n",
              "B       39.333333  314.000000\n",
              "C       59.000000  687.333333"
            ]
          },
          "execution_count": 87,
          "metadata": {},
          "output_type": "execute_result"
        }
      ],
      "source": [
        "df2.groupby(\"groups\").mean()"
      ]
    },
    {
      "cell_type": "markdown",
      "metadata": {
        "id": "-n3X4LrP4wY-"
      },
      "source": [
        "### DataFrame.applymap()"
      ]
    },
    {
      "cell_type": "markdown",
      "metadata": {
        "id": "LL6DJkl94wY-"
      },
      "source": [
        "- DataFrame.applymap(func, na_action=None, **kwargs)\n",
        "- Apply a function to a Dataframe elementwise.\n",
        "- This method applies a function that accepts and returns a scalar to every element of a DataFrame."
      ]
    },
    {
      "cell_type": "code",
      "execution_count": null,
      "metadata": {
        "id": "7Is1qu7_5N1M",
        "outputId": "8a550d10-8dbf-4ce4-e380-3a3e4c3414fe"
      },
      "outputs": [
        {
          "data": {
            "text/html": [
              "<div>\n",
              "<style scoped>\n",
              "    .dataframe tbody tr th:only-of-type {\n",
              "        vertical-align: middle;\n",
              "    }\n",
              "\n",
              "    .dataframe tbody tr th {\n",
              "        vertical-align: top;\n",
              "    }\n",
              "\n",
              "    .dataframe thead th {\n",
              "        text-align: right;\n",
              "    }\n",
              "</style>\n",
              "<table border=\"1\" class=\"dataframe\">\n",
              "  <thead>\n",
              "    <tr style=\"text-align: right;\">\n",
              "      <th></th>\n",
              "      <th>var1</th>\n",
              "      <th>var2</th>\n",
              "    </tr>\n",
              "  </thead>\n",
              "  <tbody>\n",
              "    <tr>\n",
              "      <th>0</th>\n",
              "      <td>10</td>\n",
              "      <td>100</td>\n",
              "    </tr>\n",
              "    <tr>\n",
              "      <th>1</th>\n",
              "      <td>23</td>\n",
              "      <td>253</td>\n",
              "    </tr>\n",
              "    <tr>\n",
              "      <th>2</th>\n",
              "      <td>33</td>\n",
              "      <td>333</td>\n",
              "    </tr>\n",
              "    <tr>\n",
              "      <th>3</th>\n",
              "      <td>22</td>\n",
              "      <td>262</td>\n",
              "    </tr>\n",
              "    <tr>\n",
              "      <th>4</th>\n",
              "      <td>11</td>\n",
              "      <td>111</td>\n",
              "    </tr>\n",
              "    <tr>\n",
              "      <th>5</th>\n",
              "      <td>99</td>\n",
              "      <td>969</td>\n",
              "    </tr>\n",
              "    <tr>\n",
              "      <th>6</th>\n",
              "      <td>76</td>\n",
              "      <td>405</td>\n",
              "    </tr>\n",
              "    <tr>\n",
              "      <th>7</th>\n",
              "      <td>84</td>\n",
              "      <td>578</td>\n",
              "    </tr>\n",
              "    <tr>\n",
              "      <th>8</th>\n",
              "      <td>45</td>\n",
              "      <td>760</td>\n",
              "    </tr>\n",
              "  </tbody>\n",
              "</table>\n",
              "</div>"
            ],
            "text/plain": [
              "   var1  var2\n",
              "0    10   100\n",
              "1    23   253\n",
              "2    33   333\n",
              "3    22   262\n",
              "4    11   111\n",
              "5    99   969\n",
              "6    76   405\n",
              "7    84   578\n",
              "8    45   760"
            ]
          },
          "execution_count": 88,
          "metadata": {},
          "output_type": "execute_result"
        }
      ],
      "source": [
        "df_num"
      ]
    },
    {
      "cell_type": "code",
      "execution_count": null,
      "metadata": {
        "id": "WoSs5ZC_5N1M",
        "outputId": "de10ec83-ca95-495c-e3c5-800c5680eddd"
      },
      "outputs": [
        {
          "data": {
            "text/html": [
              "<div>\n",
              "<style scoped>\n",
              "    .dataframe tbody tr th:only-of-type {\n",
              "        vertical-align: middle;\n",
              "    }\n",
              "\n",
              "    .dataframe tbody tr th {\n",
              "        vertical-align: top;\n",
              "    }\n",
              "\n",
              "    .dataframe thead th {\n",
              "        text-align: right;\n",
              "    }\n",
              "</style>\n",
              "<table border=\"1\" class=\"dataframe\">\n",
              "  <thead>\n",
              "    <tr style=\"text-align: right;\">\n",
              "      <th></th>\n",
              "      <th>var1</th>\n",
              "      <th>var2</th>\n",
              "    </tr>\n",
              "  </thead>\n",
              "  <tbody>\n",
              "    <tr>\n",
              "      <th>0</th>\n",
              "      <td>50</td>\n",
              "      <td>500</td>\n",
              "    </tr>\n",
              "    <tr>\n",
              "      <th>1</th>\n",
              "      <td>115</td>\n",
              "      <td>1265</td>\n",
              "    </tr>\n",
              "    <tr>\n",
              "      <th>2</th>\n",
              "      <td>165</td>\n",
              "      <td>1665</td>\n",
              "    </tr>\n",
              "    <tr>\n",
              "      <th>3</th>\n",
              "      <td>110</td>\n",
              "      <td>1310</td>\n",
              "    </tr>\n",
              "    <tr>\n",
              "      <th>4</th>\n",
              "      <td>55</td>\n",
              "      <td>555</td>\n",
              "    </tr>\n",
              "    <tr>\n",
              "      <th>5</th>\n",
              "      <td>495</td>\n",
              "      <td>4845</td>\n",
              "    </tr>\n",
              "    <tr>\n",
              "      <th>6</th>\n",
              "      <td>380</td>\n",
              "      <td>2025</td>\n",
              "    </tr>\n",
              "    <tr>\n",
              "      <th>7</th>\n",
              "      <td>420</td>\n",
              "      <td>2890</td>\n",
              "    </tr>\n",
              "    <tr>\n",
              "      <th>8</th>\n",
              "      <td>225</td>\n",
              "      <td>3800</td>\n",
              "    </tr>\n",
              "  </tbody>\n",
              "</table>\n",
              "</div>"
            ],
            "text/plain": [
              "   var1  var2\n",
              "0    50   500\n",
              "1   115  1265\n",
              "2   165  1665\n",
              "3   110  1310\n",
              "4    55   555\n",
              "5   495  4845\n",
              "6   380  2025\n",
              "7   420  2890\n",
              "8   225  3800"
            ]
          },
          "execution_count": 89,
          "metadata": {},
          "output_type": "execute_result"
        }
      ],
      "source": [
        "df_num.applymap(lambda x:x*5)\n",
        "#df_num.apply(lambda x: x*5)\n",
        "#df_num*5"
      ]
    },
    {
      "cell_type": "code",
      "execution_count": null,
      "metadata": {
        "id": "PYji05N24wY_",
        "outputId": "5320c88f-af98-4afb-8156-e3dd9912ff40"
      },
      "outputs": [
        {
          "data": {
            "text/html": [
              "<div>\n",
              "<style scoped>\n",
              "    .dataframe tbody tr th:only-of-type {\n",
              "        vertical-align: middle;\n",
              "    }\n",
              "\n",
              "    .dataframe tbody tr th {\n",
              "        vertical-align: top;\n",
              "    }\n",
              "\n",
              "    .dataframe thead th {\n",
              "        text-align: right;\n",
              "    }\n",
              "</style>\n",
              "<table border=\"1\" class=\"dataframe\">\n",
              "  <thead>\n",
              "    <tr style=\"text-align: right;\">\n",
              "      <th></th>\n",
              "      <th>var1</th>\n",
              "      <th>var2</th>\n",
              "    </tr>\n",
              "  </thead>\n",
              "  <tbody>\n",
              "    <tr>\n",
              "      <th>0</th>\n",
              "      <td>2</td>\n",
              "      <td>3</td>\n",
              "    </tr>\n",
              "    <tr>\n",
              "      <th>1</th>\n",
              "      <td>3</td>\n",
              "      <td>4</td>\n",
              "    </tr>\n",
              "    <tr>\n",
              "      <th>2</th>\n",
              "      <td>3</td>\n",
              "      <td>4</td>\n",
              "    </tr>\n",
              "    <tr>\n",
              "      <th>3</th>\n",
              "      <td>3</td>\n",
              "      <td>4</td>\n",
              "    </tr>\n",
              "    <tr>\n",
              "      <th>4</th>\n",
              "      <td>2</td>\n",
              "      <td>3</td>\n",
              "    </tr>\n",
              "    <tr>\n",
              "      <th>5</th>\n",
              "      <td>3</td>\n",
              "      <td>4</td>\n",
              "    </tr>\n",
              "    <tr>\n",
              "      <th>6</th>\n",
              "      <td>3</td>\n",
              "      <td>4</td>\n",
              "    </tr>\n",
              "    <tr>\n",
              "      <th>7</th>\n",
              "      <td>3</td>\n",
              "      <td>4</td>\n",
              "    </tr>\n",
              "    <tr>\n",
              "      <th>8</th>\n",
              "      <td>3</td>\n",
              "      <td>4</td>\n",
              "    </tr>\n",
              "  </tbody>\n",
              "</table>\n",
              "</div>"
            ],
            "text/plain": [
              "   var1  var2\n",
              "0     2     3\n",
              "1     3     4\n",
              "2     3     4\n",
              "3     3     4\n",
              "4     2     3\n",
              "5     3     4\n",
              "6     3     4\n",
              "7     3     4\n",
              "8     3     4"
            ]
          },
          "execution_count": 90,
          "metadata": {},
          "output_type": "execute_result"
        }
      ],
      "source": [
        "df_num.applymap(lambda x: len(str(x*5)))"
      ]
    },
    {
      "cell_type": "code",
      "execution_count": null,
      "metadata": {
        "id": "d3nJt6Yx4wY_",
        "outputId": "6255218c-46db-4e1f-8488-aa0f05388716"
      },
      "outputs": [
        {
          "data": {
            "text/plain": [
              "var1    105\n",
              "var2    114\n",
              "dtype: int64"
            ]
          },
          "execution_count": 91,
          "metadata": {},
          "output_type": "execute_result"
        }
      ],
      "source": [
        "df_num.apply(lambda x: len(str(x*5)))"
      ]
    },
    {
      "cell_type": "markdown",
      "metadata": {
        "id": "5Xd4t8s74wY_"
      },
      "source": [
        "- **applymap()** is only available in DataFrame and used for element-wise operation across the whole DataFrame. It has been optimized and some cases work **much faster than apply()**\n",
        "\n",
        "- **applymap()** method only works on a pandas dataframe where function is applied on every element individually. **apply()** method can be applied both to series and dataframes where function can be applied both series and individual elements based on the type of function provided."
      ]
    },
    {
      "cell_type": "markdown",
      "metadata": {
        "id": "JpHi8ez84wZA"
      },
      "source": [
        "## .map()\n",
        "### Series.map() - df[\"col\"].map()"
      ]
    },
    {
      "cell_type": "raw",
      "metadata": {
        "id": "kuQ15Mal4wZA"
      },
      "source": [
        "Series.map(arg, na_action=None)\n",
        "\n",
        "Map values of Series according to an input mapping or function.\n",
        "\n",
        "Used for substituting each value in a Series with another value, that may be derived from a function, a dict or a Series."
      ]
    },
    {
      "cell_type": "markdown",
      "metadata": {
        "id": "TdQf8R6K4wZA"
      },
      "source": [
        "- Python's **map()** is a built-in function that allows you to process and transform all the items in an iterable without using an explicit for loop, a technique commonly known as mapping.\n",
        "- **map()** is useful when you need to apply a transformation function to each item in an iterable and transform them into a new iterable.\n",
        "\n",
        "https://realpython.com/python-map-function/#:~:text=Python's%20map()%20is%20a,them%20into%20a%20new%20iterable.\n",
        "\n",
        "- The **map()** function is used to map values of Series according to input correspondence. Used for substituting each value in a Series with another value, that may be derived from a function, a dict or a Series.\n",
        "- **map()** accepts a dict or a Series. Values that are not found in the dict are converted to NaN, unless the dict has a default value.\n",
        "\n",
        "https://www.w3resource.com/pandas/series/series-map.php"
      ]
    },
    {
      "cell_type": "code",
      "execution_count": null,
      "metadata": {
        "id": "wnWCtq4v4wZB",
        "outputId": "c2e91706-fd8e-4a5b-aa4b-cebd7a914d6b"
      },
      "outputs": [
        {
          "data": {
            "text/html": [
              "<div>\n",
              "<style scoped>\n",
              "    .dataframe tbody tr th:only-of-type {\n",
              "        vertical-align: middle;\n",
              "    }\n",
              "\n",
              "    .dataframe tbody tr th {\n",
              "        vertical-align: top;\n",
              "    }\n",
              "\n",
              "    .dataframe thead th {\n",
              "        text-align: right;\n",
              "    }\n",
              "</style>\n",
              "<table border=\"1\" class=\"dataframe\">\n",
              "  <thead>\n",
              "    <tr style=\"text-align: right;\">\n",
              "      <th></th>\n",
              "      <th>col1</th>\n",
              "      <th>col2</th>\n",
              "      <th>col3</th>\n",
              "    </tr>\n",
              "  </thead>\n",
              "  <tbody>\n",
              "    <tr>\n",
              "      <th>0</th>\n",
              "      <td>1</td>\n",
              "      <td>444</td>\n",
              "      <td>abc</td>\n",
              "    </tr>\n",
              "    <tr>\n",
              "      <th>1</th>\n",
              "      <td>2</td>\n",
              "      <td>555</td>\n",
              "      <td>def</td>\n",
              "    </tr>\n",
              "    <tr>\n",
              "      <th>2</th>\n",
              "      <td>3</td>\n",
              "      <td>666</td>\n",
              "      <td>ghi</td>\n",
              "    </tr>\n",
              "    <tr>\n",
              "      <th>3</th>\n",
              "      <td>4</td>\n",
              "      <td>444</td>\n",
              "      <td>xyz</td>\n",
              "    </tr>\n",
              "  </tbody>\n",
              "</table>\n",
              "</div>"
            ],
            "text/plain": [
              "   col1  col2 col3\n",
              "0     1   444  abc\n",
              "1     2   555  def\n",
              "2     3   666  ghi\n",
              "3     4   444  xyz"
            ]
          },
          "execution_count": 92,
          "metadata": {},
          "output_type": "execute_result"
        }
      ],
      "source": [
        "df3"
      ]
    },
    {
      "cell_type": "code",
      "execution_count": null,
      "metadata": {
        "id": "F_JLpHzO5N1M",
        "outputId": "85c9c516-e40a-4c8f-c794-6d0bd1b93a43"
      },
      "outputs": [
        {
          "data": {
            "text/plain": [
              "0      A\n",
              "1      B\n",
              "2    NaN\n",
              "3    NaN\n",
              "Name: col1, dtype: object"
            ]
          },
          "execution_count": 93,
          "metadata": {},
          "output_type": "execute_result"
        }
      ],
      "source": [
        "df3.col1.map({1:\"A\", 2:\"B\"})"
      ]
    },
    {
      "cell_type": "code",
      "execution_count": null,
      "metadata": {
        "id": "dy4ufPEN4wZB",
        "outputId": "41c05eb4-42ed-4fe8-d289-c18da12d711e"
      },
      "outputs": [
        {
          "data": {
            "text/plain": [
              "0    fox\n",
              "1    cow\n",
              "2    NaN\n",
              "3    dog\n",
              "dtype: object"
            ]
          },
          "execution_count": 94,
          "metadata": {},
          "output_type": "execute_result"
        }
      ],
      "source": [
        "s = pd.Series(['fox', 'cow', np.nan, 'dog'])\n",
        "s"
      ]
    },
    {
      "cell_type": "code",
      "execution_count": null,
      "metadata": {
        "id": "Gif1y63S4wZC",
        "outputId": "24cb349a-23fb-493f-b9fb-bfd2add4d820"
      },
      "outputs": [
        {
          "data": {
            "text/plain": [
              "0    I am a fox\n",
              "1    I am a cow\n",
              "2    I am a nan\n",
              "3    I am a dog\n",
              "dtype: object"
            ]
          },
          "execution_count": 95,
          "metadata": {},
          "output_type": "execute_result"
        }
      ],
      "source": [
        "s.map('I am a {}'.format)"
      ]
    },
    {
      "cell_type": "code",
      "execution_count": null,
      "metadata": {
        "id": "0cxxSUzf4wZC",
        "outputId": "c3ff2760-8335-4b40-911c-f882a9421331"
      },
      "outputs": [
        {
          "data": {
            "text/plain": [
              "0    I am a fox\n",
              "1    I am a cow\n",
              "2           NaN\n",
              "3    I am a dog\n",
              "dtype: object"
            ]
          },
          "execution_count": 96,
          "metadata": {},
          "output_type": "execute_result"
        }
      ],
      "source": [
        "s.map('I am a {}'.format, na_action='ignore')"
      ]
    },
    {
      "cell_type": "markdown",
      "metadata": {
        "id": "4gRl1QgZ4wZD"
      },
      "source": [
        "- **apply()** is used to apply a function along an axis of the DataFrame or on values of Series.\n",
        "- **applymap()** is used to apply a function to a DataFrame elementwise.\n",
        "- **map()** is used to substitute each value in a Series with another value.\n",
        "\n",
        "https://towardsdatascience.com/introduction-to-pandas-apply-applymap-and-map-5d3e044e93ff#:~:text=apply()%20is%20used%20to,a%20Series%20with%20another%20value.\n",
        "\n",
        "https://stackoverflow.com/questions/19798153/difference-between-map-applymap-and-apply-methods-in-pandas"
      ]
    },
    {
      "cell_type": "markdown",
      "metadata": {
        "id": "quC-THAlQhl6"
      },
      "source": [
        "## df.transform() vs df.apply()\n",
        "\n",
        "**Similarties**\n",
        "- Both apply() and transform() can be used to manipulate the entire DataFrame.\n",
        "- Both apply() and transform() support lambda expression.\n",
        "- Both apply() and transform() can be used for manipulating a single column."
      ]
    },
    {
      "cell_type": "code",
      "execution_count": null,
      "metadata": {
        "id": "5HoytdJW4wZE",
        "outputId": "3b16ff35-3f89-45aa-d831-ec649a398f7e"
      },
      "outputs": [
        {
          "data": {
            "text/html": [
              "<div>\n",
              "<style scoped>\n",
              "    .dataframe tbody tr th:only-of-type {\n",
              "        vertical-align: middle;\n",
              "    }\n",
              "\n",
              "    .dataframe tbody tr th {\n",
              "        vertical-align: top;\n",
              "    }\n",
              "\n",
              "    .dataframe thead th {\n",
              "        text-align: right;\n",
              "    }\n",
              "</style>\n",
              "<table border=\"1\" class=\"dataframe\">\n",
              "  <thead>\n",
              "    <tr style=\"text-align: right;\">\n",
              "      <th></th>\n",
              "      <th>A</th>\n",
              "      <th>B</th>\n",
              "    </tr>\n",
              "  </thead>\n",
              "  <tbody>\n",
              "    <tr>\n",
              "      <th>0</th>\n",
              "      <td>1</td>\n",
              "      <td>10</td>\n",
              "    </tr>\n",
              "    <tr>\n",
              "      <th>1</th>\n",
              "      <td>2</td>\n",
              "      <td>20</td>\n",
              "    </tr>\n",
              "    <tr>\n",
              "      <th>2</th>\n",
              "      <td>3</td>\n",
              "      <td>30</td>\n",
              "    </tr>\n",
              "  </tbody>\n",
              "</table>\n",
              "</div>"
            ],
            "text/plain": [
              "   A   B\n",
              "0  1  10\n",
              "1  2  20\n",
              "2  3  30"
            ]
          },
          "execution_count": 97,
          "metadata": {},
          "output_type": "execute_result"
        }
      ],
      "source": [
        "df5 = pd.DataFrame({'A': [1,2,3], 'B': [10,20,30] })\n",
        "df5"
      ]
    },
    {
      "cell_type": "code",
      "execution_count": null,
      "metadata": {
        "id": "efipwBPz4wZE",
        "outputId": "a69428f9-0997-47d3-b706-cbaa09babd9c"
      },
      "outputs": [
        {
          "data": {
            "text/html": [
              "<div>\n",
              "<style scoped>\n",
              "    .dataframe tbody tr th:only-of-type {\n",
              "        vertical-align: middle;\n",
              "    }\n",
              "\n",
              "    .dataframe tbody tr th {\n",
              "        vertical-align: top;\n",
              "    }\n",
              "\n",
              "    .dataframe thead th {\n",
              "        text-align: right;\n",
              "    }\n",
              "</style>\n",
              "<table border=\"1\" class=\"dataframe\">\n",
              "  <thead>\n",
              "    <tr style=\"text-align: right;\">\n",
              "      <th></th>\n",
              "      <th>A</th>\n",
              "      <th>B</th>\n",
              "    </tr>\n",
              "  </thead>\n",
              "  <tbody>\n",
              "    <tr>\n",
              "      <th>0</th>\n",
              "      <td>11</td>\n",
              "      <td>20</td>\n",
              "    </tr>\n",
              "    <tr>\n",
              "      <th>1</th>\n",
              "      <td>12</td>\n",
              "      <td>30</td>\n",
              "    </tr>\n",
              "    <tr>\n",
              "      <th>2</th>\n",
              "      <td>13</td>\n",
              "      <td>40</td>\n",
              "    </tr>\n",
              "  </tbody>\n",
              "</table>\n",
              "</div>"
            ],
            "text/plain": [
              "    A   B\n",
              "0  11  20\n",
              "1  12  30\n",
              "2  13  40"
            ]
          },
          "execution_count": 98,
          "metadata": {},
          "output_type": "execute_result"
        }
      ],
      "source": [
        "df5.apply(lambda x: x+10)"
      ]
    },
    {
      "cell_type": "code",
      "execution_count": null,
      "metadata": {
        "id": "ulTEMNbx4wZE",
        "outputId": "24a90e0e-370c-4b08-8c9e-0bcd53502c8c"
      },
      "outputs": [
        {
          "data": {
            "text/html": [
              "<div>\n",
              "<style scoped>\n",
              "    .dataframe tbody tr th:only-of-type {\n",
              "        vertical-align: middle;\n",
              "    }\n",
              "\n",
              "    .dataframe tbody tr th {\n",
              "        vertical-align: top;\n",
              "    }\n",
              "\n",
              "    .dataframe thead th {\n",
              "        text-align: right;\n",
              "    }\n",
              "</style>\n",
              "<table border=\"1\" class=\"dataframe\">\n",
              "  <thead>\n",
              "    <tr style=\"text-align: right;\">\n",
              "      <th></th>\n",
              "      <th>A</th>\n",
              "      <th>B</th>\n",
              "    </tr>\n",
              "  </thead>\n",
              "  <tbody>\n",
              "    <tr>\n",
              "      <th>0</th>\n",
              "      <td>11</td>\n",
              "      <td>20</td>\n",
              "    </tr>\n",
              "    <tr>\n",
              "      <th>1</th>\n",
              "      <td>12</td>\n",
              "      <td>30</td>\n",
              "    </tr>\n",
              "    <tr>\n",
              "      <th>2</th>\n",
              "      <td>13</td>\n",
              "      <td>40</td>\n",
              "    </tr>\n",
              "  </tbody>\n",
              "</table>\n",
              "</div>"
            ],
            "text/plain": [
              "    A   B\n",
              "0  11  20\n",
              "1  12  30\n",
              "2  13  40"
            ]
          },
          "execution_count": 99,
          "metadata": {},
          "output_type": "execute_result"
        }
      ],
      "source": [
        "df5.transform(lambda x: x+10)"
      ]
    },
    {
      "cell_type": "code",
      "execution_count": null,
      "metadata": {
        "id": "xbRUwlMe4wZF",
        "outputId": "2c1cad75-85c6-4943-836f-684316f532a3"
      },
      "outputs": [
        {
          "data": {
            "text/html": [
              "<div>\n",
              "<style scoped>\n",
              "    .dataframe tbody tr th:only-of-type {\n",
              "        vertical-align: middle;\n",
              "    }\n",
              "\n",
              "    .dataframe tbody tr th {\n",
              "        vertical-align: top;\n",
              "    }\n",
              "\n",
              "    .dataframe thead th {\n",
              "        text-align: right;\n",
              "    }\n",
              "</style>\n",
              "<table border=\"1\" class=\"dataframe\">\n",
              "  <thead>\n",
              "    <tr style=\"text-align: right;\">\n",
              "      <th></th>\n",
              "      <th>A</th>\n",
              "      <th>B</th>\n",
              "      <th>B_ap</th>\n",
              "      <th>B_tr</th>\n",
              "    </tr>\n",
              "  </thead>\n",
              "  <tbody>\n",
              "    <tr>\n",
              "      <th>0</th>\n",
              "      <td>1</td>\n",
              "      <td>10</td>\n",
              "      <td>20</td>\n",
              "      <td>20</td>\n",
              "    </tr>\n",
              "    <tr>\n",
              "      <th>1</th>\n",
              "      <td>2</td>\n",
              "      <td>20</td>\n",
              "      <td>30</td>\n",
              "      <td>30</td>\n",
              "    </tr>\n",
              "    <tr>\n",
              "      <th>2</th>\n",
              "      <td>3</td>\n",
              "      <td>30</td>\n",
              "      <td>40</td>\n",
              "      <td>40</td>\n",
              "    </tr>\n",
              "  </tbody>\n",
              "</table>\n",
              "</div>"
            ],
            "text/plain": [
              "   A   B  B_ap  B_tr\n",
              "0  1  10    20    20\n",
              "1  2  20    30    30\n",
              "2  3  30    40    40"
            ]
          },
          "execution_count": 100,
          "metadata": {},
          "output_type": "execute_result"
        }
      ],
      "source": [
        "df5['B_ap'] = df5['B'].apply(lambda x: x+10)\n",
        "df5['B_tr'] = df5['B'].transform(lambda x: x+10)\n",
        "df5"
      ]
    },
    {
      "cell_type": "markdown",
      "metadata": {
        "id": "PhCIevNU4wZF"
      },
      "source": [
        "### Differences between .apply() and .transform() when manupulating data\n",
        "- **transform()** works with function, a string function, a list of functions, and a dict. However, **apply()** is only allowed with function.\n",
        "- **transform()** cannot produce aggregated results.\n",
        "- **apply()** works with multiple Series at a time. But, **transform()** is only allowed to work with a single Series at a time."
      ]
    },
    {
      "cell_type": "code",
      "execution_count": null,
      "metadata": {
        "id": "qWndZ4_g4wZF",
        "outputId": "3724385f-d832-4dbc-b700-c6514a8a39e7"
      },
      "outputs": [
        {
          "data": {
            "text/html": [
              "<div>\n",
              "<style scoped>\n",
              "    .dataframe tbody tr th:only-of-type {\n",
              "        vertical-align: middle;\n",
              "    }\n",
              "\n",
              "    .dataframe tbody tr th {\n",
              "        vertical-align: top;\n",
              "    }\n",
              "\n",
              "    .dataframe thead th {\n",
              "        text-align: right;\n",
              "    }\n",
              "</style>\n",
              "<table border=\"1\" class=\"dataframe\">\n",
              "  <thead>\n",
              "    <tr style=\"text-align: right;\">\n",
              "      <th></th>\n",
              "      <th>A</th>\n",
              "      <th>B</th>\n",
              "    </tr>\n",
              "  </thead>\n",
              "  <tbody>\n",
              "    <tr>\n",
              "      <th>0</th>\n",
              "      <td>1</td>\n",
              "      <td>10</td>\n",
              "    </tr>\n",
              "    <tr>\n",
              "      <th>1</th>\n",
              "      <td>2</td>\n",
              "      <td>20</td>\n",
              "    </tr>\n",
              "    <tr>\n",
              "      <th>2</th>\n",
              "      <td>3</td>\n",
              "      <td>30</td>\n",
              "    </tr>\n",
              "  </tbody>\n",
              "</table>\n",
              "</div>"
            ],
            "text/plain": [
              "   A   B\n",
              "0  1  10\n",
              "1  2  20\n",
              "2  3  30"
            ]
          },
          "execution_count": 101,
          "metadata": {},
          "output_type": "execute_result"
        }
      ],
      "source": [
        "df5 = df5[[\"A\",\"B\"]]\n",
        "df5"
      ]
    },
    {
      "cell_type": "code",
      "execution_count": null,
      "metadata": {
        "id": "HL-Pl1wh4wZG",
        "outputId": "cef7f224-c787-4941-e1ef-2ed3e40bd3a7"
      },
      "outputs": [
        {
          "data": {
            "text/html": [
              "<div>\n",
              "<style scoped>\n",
              "    .dataframe tbody tr th:only-of-type {\n",
              "        vertical-align: middle;\n",
              "    }\n",
              "\n",
              "    .dataframe tbody tr th {\n",
              "        vertical-align: top;\n",
              "    }\n",
              "\n",
              "    .dataframe thead th {\n",
              "        text-align: right;\n",
              "    }\n",
              "</style>\n",
              "<table border=\"1\" class=\"dataframe\">\n",
              "  <thead>\n",
              "    <tr style=\"text-align: right;\">\n",
              "      <th></th>\n",
              "      <th>A</th>\n",
              "      <th>B</th>\n",
              "    </tr>\n",
              "  </thead>\n",
              "  <tbody>\n",
              "    <tr>\n",
              "      <th>0</th>\n",
              "      <td>1.000000</td>\n",
              "      <td>3.162278</td>\n",
              "    </tr>\n",
              "    <tr>\n",
              "      <th>1</th>\n",
              "      <td>1.414214</td>\n",
              "      <td>4.472136</td>\n",
              "    </tr>\n",
              "    <tr>\n",
              "      <th>2</th>\n",
              "      <td>1.732051</td>\n",
              "      <td>5.477226</td>\n",
              "    </tr>\n",
              "  </tbody>\n",
              "</table>\n",
              "</div>"
            ],
            "text/plain": [
              "          A         B\n",
              "0  1.000000  3.162278\n",
              "1  1.414214  4.472136\n",
              "2  1.732051  5.477226"
            ]
          },
          "execution_count": 102,
          "metadata": {},
          "output_type": "execute_result"
        }
      ],
      "source": [
        "df5.transform('sqrt')\n",
        "#df5.apply('sqrt') # gives an error"
      ]
    },
    {
      "cell_type": "code",
      "execution_count": null,
      "metadata": {
        "id": "oM19eQiA4wZG",
        "outputId": "d7f035f9-7674-49aa-b1f0-815c1491974e"
      },
      "outputs": [
        {
          "data": {
            "text/html": [
              "<div>\n",
              "<style scoped>\n",
              "    .dataframe tbody tr th:only-of-type {\n",
              "        vertical-align: middle;\n",
              "    }\n",
              "\n",
              "    .dataframe tbody tr th {\n",
              "        vertical-align: top;\n",
              "    }\n",
              "\n",
              "    .dataframe thead th {\n",
              "        text-align: right;\n",
              "    }\n",
              "</style>\n",
              "<table border=\"1\" class=\"dataframe\">\n",
              "  <thead>\n",
              "    <tr style=\"text-align: right;\">\n",
              "      <th></th>\n",
              "      <th>A</th>\n",
              "      <th>B</th>\n",
              "    </tr>\n",
              "  </thead>\n",
              "  <tbody>\n",
              "    <tr>\n",
              "      <th>0</th>\n",
              "      <td>1.000000</td>\n",
              "      <td>3.162278</td>\n",
              "    </tr>\n",
              "    <tr>\n",
              "      <th>1</th>\n",
              "      <td>1.414214</td>\n",
              "      <td>4.472136</td>\n",
              "    </tr>\n",
              "    <tr>\n",
              "      <th>2</th>\n",
              "      <td>1.732051</td>\n",
              "      <td>5.477226</td>\n",
              "    </tr>\n",
              "  </tbody>\n",
              "</table>\n",
              "</div>"
            ],
            "text/plain": [
              "          A         B\n",
              "0  1.000000  3.162278\n",
              "1  1.414214  4.472136\n",
              "2  1.732051  5.477226"
            ]
          },
          "execution_count": 103,
          "metadata": {},
          "output_type": "execute_result"
        }
      ],
      "source": [
        "df5.transform(np.sqrt)\n",
        "#df5.apply(np.sqrt)"
      ]
    },
    {
      "cell_type": "code",
      "execution_count": null,
      "metadata": {
        "id": "vrTxF_Ut4wZH",
        "outputId": "2374e577-bc8e-44ea-8155-a5ae3f744dbb"
      },
      "outputs": [
        {
          "data": {
            "text/html": [
              "<div>\n",
              "<style scoped>\n",
              "    .dataframe tbody tr th:only-of-type {\n",
              "        vertical-align: middle;\n",
              "    }\n",
              "\n",
              "    .dataframe tbody tr th {\n",
              "        vertical-align: top;\n",
              "    }\n",
              "\n",
              "    .dataframe thead tr th {\n",
              "        text-align: left;\n",
              "    }\n",
              "</style>\n",
              "<table border=\"1\" class=\"dataframe\">\n",
              "  <thead>\n",
              "    <tr>\n",
              "      <th></th>\n",
              "      <th colspan=\"2\" halign=\"left\">A</th>\n",
              "      <th colspan=\"2\" halign=\"left\">B</th>\n",
              "    </tr>\n",
              "    <tr>\n",
              "      <th></th>\n",
              "      <th>sqrt</th>\n",
              "      <th>exp</th>\n",
              "      <th>sqrt</th>\n",
              "      <th>exp</th>\n",
              "    </tr>\n",
              "  </thead>\n",
              "  <tbody>\n",
              "    <tr>\n",
              "      <th>0</th>\n",
              "      <td>1.000000</td>\n",
              "      <td>2.718282</td>\n",
              "      <td>3.162278</td>\n",
              "      <td>2.202647e+04</td>\n",
              "    </tr>\n",
              "    <tr>\n",
              "      <th>1</th>\n",
              "      <td>1.414214</td>\n",
              "      <td>7.389056</td>\n",
              "      <td>4.472136</td>\n",
              "      <td>4.851652e+08</td>\n",
              "    </tr>\n",
              "    <tr>\n",
              "      <th>2</th>\n",
              "      <td>1.732051</td>\n",
              "      <td>20.085537</td>\n",
              "      <td>5.477226</td>\n",
              "      <td>1.068647e+13</td>\n",
              "    </tr>\n",
              "  </tbody>\n",
              "</table>\n",
              "</div>"
            ],
            "text/plain": [
              "          A                    B              \n",
              "       sqrt        exp      sqrt           exp\n",
              "0  1.000000   2.718282  3.162278  2.202647e+04\n",
              "1  1.414214   7.389056  4.472136  4.851652e+08\n",
              "2  1.732051  20.085537  5.477226  1.068647e+13"
            ]
          },
          "execution_count": 104,
          "metadata": {},
          "output_type": "execute_result"
        }
      ],
      "source": [
        "df5.transform([np.sqrt, np.exp])\n",
        "#df5.apply([np.sqrt, np.exp])"
      ]
    },
    {
      "cell_type": "code",
      "execution_count": null,
      "metadata": {
        "id": "gvheWxac4wZH",
        "outputId": "fab6f62c-6678-46d0-fe35-a33bdbdb1fb9"
      },
      "outputs": [
        {
          "data": {
            "text/html": [
              "<div>\n",
              "<style scoped>\n",
              "    .dataframe tbody tr th:only-of-type {\n",
              "        vertical-align: middle;\n",
              "    }\n",
              "\n",
              "    .dataframe tbody tr th {\n",
              "        vertical-align: top;\n",
              "    }\n",
              "\n",
              "    .dataframe thead th {\n",
              "        text-align: right;\n",
              "    }\n",
              "</style>\n",
              "<table border=\"1\" class=\"dataframe\">\n",
              "  <thead>\n",
              "    <tr style=\"text-align: right;\">\n",
              "      <th></th>\n",
              "      <th>A</th>\n",
              "      <th>B</th>\n",
              "    </tr>\n",
              "  </thead>\n",
              "  <tbody>\n",
              "    <tr>\n",
              "      <th>0</th>\n",
              "      <td>1.000000</td>\n",
              "      <td>2.202647e+04</td>\n",
              "    </tr>\n",
              "    <tr>\n",
              "      <th>1</th>\n",
              "      <td>1.414214</td>\n",
              "      <td>4.851652e+08</td>\n",
              "    </tr>\n",
              "    <tr>\n",
              "      <th>2</th>\n",
              "      <td>1.732051</td>\n",
              "      <td>1.068647e+13</td>\n",
              "    </tr>\n",
              "  </tbody>\n",
              "</table>\n",
              "</div>"
            ],
            "text/plain": [
              "          A             B\n",
              "0  1.000000  2.202647e+04\n",
              "1  1.414214  4.851652e+08\n",
              "2  1.732051  1.068647e+13"
            ]
          },
          "execution_count": 105,
          "metadata": {},
          "output_type": "execute_result"
        }
      ],
      "source": [
        "df5.transform({'A': np.sqrt, 'B': np.exp})\n",
        "#df5.apply({'A': np.sqrt, 'B': np.exp})"
      ]
    },
    {
      "cell_type": "code",
      "execution_count": null,
      "metadata": {
        "id": "z_JIJ3-u4wZI",
        "outputId": "39e2eacf-b00d-41da-9814-a1a0bd0fe24c"
      },
      "outputs": [
        {
          "data": {
            "text/plain": [
              "A     6\n",
              "B    60\n",
              "dtype: int64"
            ]
          },
          "execution_count": 106,
          "metadata": {},
          "output_type": "execute_result"
        }
      ],
      "source": [
        "df5.apply(lambda x: x.sum())\n",
        "# df5.transform(lambda x:x.sum()) # gives an error"
      ]
    },
    {
      "cell_type": "code",
      "execution_count": null,
      "metadata": {
        "id": "FKbGwHdR4wZI",
        "outputId": "8bdc151e-3155-43da-a0b3-4506b16b11c3"
      },
      "outputs": [
        {
          "data": {
            "text/plain": [
              "0     9\n",
              "1    18\n",
              "2    27\n",
              "dtype: int64"
            ]
          },
          "execution_count": 107,
          "metadata": {},
          "output_type": "execute_result"
        }
      ],
      "source": [
        "df5.apply(lambda x: x[\"B\"]-x[\"A\"], axis=1)\n",
        "# df5.transform(lambda x: x[\"B\"]-x[\"A\"], axis=1) # gives an error"
      ]
    },
    {
      "cell_type": "markdown",
      "metadata": {
        "id": "ZnH6jVXA4wZI"
      },
      "source": [
        "### Differences Between .apply() and .transform() when using them in conjunction with groupby()\n",
        "- **transform()** returns a DataFrame that has the same length as the input\n",
        "- **apply()** works with multiple Series at a time. But, **transform()** is only allowed to work with a single Series at a time."
      ]
    },
    {
      "cell_type": "code",
      "execution_count": null,
      "metadata": {
        "id": "xgI0hNqu4wZJ",
        "outputId": "8aac44bd-85ff-4663-e045-e07602a6414b"
      },
      "outputs": [
        {
          "data": {
            "text/html": [
              "<div>\n",
              "<style scoped>\n",
              "    .dataframe tbody tr th:only-of-type {\n",
              "        vertical-align: middle;\n",
              "    }\n",
              "\n",
              "    .dataframe tbody tr th {\n",
              "        vertical-align: top;\n",
              "    }\n",
              "\n",
              "    .dataframe thead th {\n",
              "        text-align: right;\n",
              "    }\n",
              "</style>\n",
              "<table border=\"1\" class=\"dataframe\">\n",
              "  <thead>\n",
              "    <tr style=\"text-align: right;\">\n",
              "      <th></th>\n",
              "      <th>key</th>\n",
              "      <th>A</th>\n",
              "      <th>B</th>\n",
              "    </tr>\n",
              "  </thead>\n",
              "  <tbody>\n",
              "    <tr>\n",
              "      <th>0</th>\n",
              "      <td>a</td>\n",
              "      <td>0</td>\n",
              "      <td>1</td>\n",
              "    </tr>\n",
              "    <tr>\n",
              "      <th>1</th>\n",
              "      <td>b</td>\n",
              "      <td>1</td>\n",
              "      <td>2</td>\n",
              "    </tr>\n",
              "    <tr>\n",
              "      <th>2</th>\n",
              "      <td>c</td>\n",
              "      <td>2</td>\n",
              "      <td>3</td>\n",
              "    </tr>\n",
              "    <tr>\n",
              "      <th>3</th>\n",
              "      <td>a</td>\n",
              "      <td>3</td>\n",
              "      <td>1</td>\n",
              "    </tr>\n",
              "    <tr>\n",
              "      <th>4</th>\n",
              "      <td>b</td>\n",
              "      <td>4</td>\n",
              "      <td>2</td>\n",
              "    </tr>\n",
              "    <tr>\n",
              "      <th>5</th>\n",
              "      <td>c</td>\n",
              "      <td>5</td>\n",
              "      <td>3</td>\n",
              "    </tr>\n",
              "    <tr>\n",
              "      <th>6</th>\n",
              "      <td>a</td>\n",
              "      <td>6</td>\n",
              "      <td>1</td>\n",
              "    </tr>\n",
              "    <tr>\n",
              "      <th>7</th>\n",
              "      <td>b</td>\n",
              "      <td>7</td>\n",
              "      <td>2</td>\n",
              "    </tr>\n",
              "    <tr>\n",
              "      <th>8</th>\n",
              "      <td>c</td>\n",
              "      <td>8</td>\n",
              "      <td>3</td>\n",
              "    </tr>\n",
              "  </tbody>\n",
              "</table>\n",
              "</div>"
            ],
            "text/plain": [
              "  key  A  B\n",
              "0   a  0  1\n",
              "1   b  1  2\n",
              "2   c  2  3\n",
              "3   a  3  1\n",
              "4   b  4  2\n",
              "5   c  5  3\n",
              "6   a  6  1\n",
              "7   b  7  2\n",
              "8   c  8  3"
            ]
          },
          "execution_count": 108,
          "metadata": {},
          "output_type": "execute_result"
        }
      ],
      "source": [
        "df6 = pd.DataFrame({'key': ['a','b','c'] * 3,\n",
        "                    'A': np.arange(9),\n",
        "                    'B': [1,2,3] * 3})\n",
        "df6"
      ]
    },
    {
      "cell_type": "code",
      "execution_count": null,
      "metadata": {
        "id": "MDDqqQMk4wZJ",
        "outputId": "24dc380d-fea4-4d9c-cf59-fd6bd88a7986"
      },
      "outputs": [
        {
          "data": {
            "text/plain": [
              "key\n",
              "a     9\n",
              "b    12\n",
              "c    15\n",
              "Name: A, dtype: int32"
            ]
          },
          "execution_count": 109,
          "metadata": {},
          "output_type": "execute_result"
        }
      ],
      "source": [
        "df6.groupby('key')['A'].sum()"
      ]
    },
    {
      "cell_type": "code",
      "execution_count": null,
      "metadata": {
        "id": "liJz7Lul4wZJ",
        "outputId": "46ea0c26-970c-44e4-ec8a-917224b9fce8"
      },
      "outputs": [
        {
          "data": {
            "text/plain": [
              "key\n",
              "a     9\n",
              "b    12\n",
              "c    15\n",
              "Name: A, dtype: int64"
            ]
          },
          "execution_count": 110,
          "metadata": {},
          "output_type": "execute_result"
        }
      ],
      "source": [
        "df6.groupby('key')['A'].apply(lambda x: x.sum())"
      ]
    },
    {
      "cell_type": "code",
      "execution_count": null,
      "metadata": {
        "id": "_eqsHYHN4wZJ",
        "outputId": "0f803de6-0eea-43d5-86f1-abce897ec221"
      },
      "outputs": [
        {
          "data": {
            "text/plain": [
              "0     9\n",
              "1    12\n",
              "2    15\n",
              "3     9\n",
              "4    12\n",
              "5    15\n",
              "6     9\n",
              "7    12\n",
              "8    15\n",
              "Name: A, dtype: int32"
            ]
          },
          "execution_count": 111,
          "metadata": {},
          "output_type": "execute_result"
        }
      ],
      "source": [
        "df6.groupby('key')['A'].transform(lambda x: x.sum())"
      ]
    },
    {
      "cell_type": "code",
      "execution_count": null,
      "metadata": {
        "id": "6KkQFA1P4wZK",
        "outputId": "e30be991-779d-4535-ec0b-ecb6086068f2"
      },
      "outputs": [
        {
          "data": {
            "text/plain": [
              "key   \n",
              "a    0    1\n",
              "     3   -2\n",
              "     6   -5\n",
              "b    1    1\n",
              "     4   -2\n",
              "     7   -5\n",
              "c    2    1\n",
              "     5   -2\n",
              "     8   -5\n",
              "dtype: int64"
            ]
          },
          "execution_count": 112,
          "metadata": {},
          "output_type": "execute_result"
        }
      ],
      "source": [
        "df6.groupby('key').apply(lambda x: x[\"B\"]-x[\"A\"])\n",
        "# df6.groupby('key').transform(lambda x: x[\"B\"]-x[\"A\"]) # gives an error"
      ]
    },
    {
      "cell_type": "markdown",
      "metadata": {
        "id": "q6VWRSKWQhl7"
      },
      "source": [
        "# pivot() vs pivot_table()"
      ]
    },
    {
      "cell_type": "markdown",
      "metadata": {
        "id": "QPEk6d3_4wZK"
      },
      "source": [
        "**pivot_table**\n",
        "- pandas.pivot_table(data, values=None, index=None, columns=None, aggfunc='mean', fill_value=None, margins=False, dropna=True, margins_name='All', observed=False, sort=True).\n",
        "- Create a spreadsheet-style pivot table as a DataFrame.\n",
        "- The levels in the pivot table will be stored in MultiIndex objects (hierarchical indexes) on the index and columns of the result DataFrame.\n",
        "\n",
        "**pivot**\n",
        "- DataFrame.pivot(index=None, columns=None, values=None).\n",
        "- Return reshaped DataFrame organized by given index / column values.\n",
        "- Reshape data (produce a “pivot” table) based on column values. Uses unique values from specified index / columns to form axes of the resulting DataFrame.\n",
        "- This function does not support data aggregation, multiple values will result in a MultiIndex in the columns.\n",
        "\n",
        "**Differences**\n",
        "- **Pivot_table** is a generalization of pivot that can handle duplicate values for one pivoted index/column pair.\n",
        "- **Pivot_table** will only allow numeric types as \"values=\", whereas **pivot** will take string types as \"values=\"."
      ]
    },
    {
      "cell_type": "code",
      "execution_count": null,
      "metadata": {
        "colab": {
          "base_uri": "https://localhost:8080/",
          "height": 238
        },
        "id": "wI_gBfByQhl9",
        "outputId": "9600d34d-6627-4539-9ba9-1db33c54f5b7"
      },
      "outputs": [
        {
          "data": {
            "text/html": [
              "<div>\n",
              "<style scoped>\n",
              "    .dataframe tbody tr th:only-of-type {\n",
              "        vertical-align: middle;\n",
              "    }\n",
              "\n",
              "    .dataframe tbody tr th {\n",
              "        vertical-align: top;\n",
              "    }\n",
              "\n",
              "    .dataframe thead th {\n",
              "        text-align: right;\n",
              "    }\n",
              "</style>\n",
              "<table border=\"1\" class=\"dataframe\">\n",
              "  <thead>\n",
              "    <tr style=\"text-align: right;\">\n",
              "      <th></th>\n",
              "      <th>gender</th>\n",
              "      <th>sport</th>\n",
              "      <th>status</th>\n",
              "      <th>age</th>\n",
              "      <th>height</th>\n",
              "      <th>weight</th>\n",
              "    </tr>\n",
              "  </thead>\n",
              "  <tbody>\n",
              "    <tr>\n",
              "      <th>0</th>\n",
              "      <td>male</td>\n",
              "      <td>tennis</td>\n",
              "      <td>professional</td>\n",
              "      <td>20</td>\n",
              "      <td>185</td>\n",
              "      <td>83</td>\n",
              "    </tr>\n",
              "    <tr>\n",
              "      <th>1</th>\n",
              "      <td>female</td>\n",
              "      <td>tennis</td>\n",
              "      <td>professional</td>\n",
              "      <td>24</td>\n",
              "      <td>172</td>\n",
              "      <td>58</td>\n",
              "    </tr>\n",
              "    <tr>\n",
              "      <th>2</th>\n",
              "      <td>female</td>\n",
              "      <td>basketball</td>\n",
              "      <td>professional</td>\n",
              "      <td>26</td>\n",
              "      <td>175</td>\n",
              "      <td>62</td>\n",
              "    </tr>\n",
              "    <tr>\n",
              "      <th>3</th>\n",
              "      <td>male</td>\n",
              "      <td>football</td>\n",
              "      <td>amateur</td>\n",
              "      <td>23</td>\n",
              "      <td>178</td>\n",
              "      <td>80</td>\n",
              "    </tr>\n",
              "    <tr>\n",
              "      <th>4</th>\n",
              "      <td>female</td>\n",
              "      <td>voleyball</td>\n",
              "      <td>amateur</td>\n",
              "      <td>22</td>\n",
              "      <td>182</td>\n",
              "      <td>65</td>\n",
              "    </tr>\n",
              "    <tr>\n",
              "      <th>5</th>\n",
              "      <td>male</td>\n",
              "      <td>basketball</td>\n",
              "      <td>amateur</td>\n",
              "      <td>21</td>\n",
              "      <td>196</td>\n",
              "      <td>90</td>\n",
              "    </tr>\n",
              "  </tbody>\n",
              "</table>\n",
              "</div>"
            ],
            "text/plain": [
              "   gender       sport        status  age  height  weight\n",
              "0    male      tennis  professional   20     185      83\n",
              "1  female      tennis  professional   24     172      58\n",
              "2  female  basketball  professional   26     175      62\n",
              "3    male    football       amateur   23     178      80\n",
              "4  female   voleyball       amateur   22     182      65\n",
              "5    male  basketball       amateur   21     196      90"
            ]
          },
          "execution_count": 113,
          "metadata": {},
          "output_type": "execute_result"
        }
      ],
      "source": [
        "data = {'gender':['male', 'female', 'female', 'male', 'female', 'male'],\n",
        "        'sport':['tennis', 'tennis', 'basketball', 'football', 'voleyball', 'basketball'],\n",
        "        'status':[\"professional\",\"professional\",\"professional\",\"amateur\",\"amateur\",\"amateur\"],\n",
        "        'age':[20, 24, 26, 23, 22, 21],\n",
        "        'height':[185, 172, 175, 178, 182, 196],\n",
        "        'weight':[83, 58, 62, 80, 65, 90]}\n",
        "\n",
        "df7 = pd.DataFrame(data)\n",
        "\n",
        "df7"
      ]
    },
    {
      "cell_type": "code",
      "execution_count": null,
      "metadata": {
        "id": "mg6Xe5ev4wZL",
        "outputId": "95ef02b3-1f6b-42e7-c33c-fdc25a00beaa"
      },
      "outputs": [
        {
          "data": {
            "text/html": [
              "<div>\n",
              "<style scoped>\n",
              "    .dataframe tbody tr th:only-of-type {\n",
              "        vertical-align: middle;\n",
              "    }\n",
              "\n",
              "    .dataframe tbody tr th {\n",
              "        vertical-align: top;\n",
              "    }\n",
              "\n",
              "    .dataframe thead tr th {\n",
              "        text-align: left;\n",
              "    }\n",
              "\n",
              "    .dataframe thead tr:last-of-type th {\n",
              "        text-align: right;\n",
              "    }\n",
              "</style>\n",
              "<table border=\"1\" class=\"dataframe\">\n",
              "  <thead>\n",
              "    <tr>\n",
              "      <th></th>\n",
              "      <th colspan=\"4\" halign=\"left\">age</th>\n",
              "    </tr>\n",
              "    <tr>\n",
              "      <th>sport</th>\n",
              "      <th>basketball</th>\n",
              "      <th>football</th>\n",
              "      <th>tennis</th>\n",
              "      <th>voleyball</th>\n",
              "    </tr>\n",
              "    <tr>\n",
              "      <th>gender</th>\n",
              "      <th></th>\n",
              "      <th></th>\n",
              "      <th></th>\n",
              "      <th></th>\n",
              "    </tr>\n",
              "  </thead>\n",
              "  <tbody>\n",
              "    <tr>\n",
              "      <th>female</th>\n",
              "      <td>26.0</td>\n",
              "      <td>NaN</td>\n",
              "      <td>24.0</td>\n",
              "      <td>22.0</td>\n",
              "    </tr>\n",
              "    <tr>\n",
              "      <th>male</th>\n",
              "      <td>21.0</td>\n",
              "      <td>23.0</td>\n",
              "      <td>20.0</td>\n",
              "      <td>NaN</td>\n",
              "    </tr>\n",
              "  </tbody>\n",
              "</table>\n",
              "</div>"
            ],
            "text/plain": [
              "              age                          \n",
              "sport  basketball football tennis voleyball\n",
              "gender                                     \n",
              "female       26.0      NaN   24.0      22.0\n",
              "male         21.0     23.0   20.0       NaN"
            ]
          },
          "execution_count": 114,
          "metadata": {},
          "output_type": "execute_result"
        }
      ],
      "source": [
        "df7.pivot_table(index='gender',\n",
        "                columns='sport',\n",
        "                values=['age'],\n",
        "                aggfunc='mean')"
      ]
    },
    {
      "cell_type": "code",
      "execution_count": null,
      "metadata": {
        "id": "rXdfbI_x4wZL",
        "outputId": "caa0e28a-d19a-47a3-c52e-89ad3f06452f"
      },
      "outputs": [
        {
          "data": {
            "text/html": [
              "<div>\n",
              "<style scoped>\n",
              "    .dataframe tbody tr th:only-of-type {\n",
              "        vertical-align: middle;\n",
              "    }\n",
              "\n",
              "    .dataframe tbody tr th {\n",
              "        vertical-align: top;\n",
              "    }\n",
              "\n",
              "    .dataframe thead tr th {\n",
              "        text-align: left;\n",
              "    }\n",
              "\n",
              "    .dataframe thead tr:last-of-type th {\n",
              "        text-align: right;\n",
              "    }\n",
              "</style>\n",
              "<table border=\"1\" class=\"dataframe\">\n",
              "  <thead>\n",
              "    <tr>\n",
              "      <th></th>\n",
              "      <th colspan=\"4\" halign=\"left\">age</th>\n",
              "      <th colspan=\"4\" halign=\"left\">height</th>\n",
              "      <th colspan=\"4\" halign=\"left\">weight</th>\n",
              "    </tr>\n",
              "    <tr>\n",
              "      <th>sport</th>\n",
              "      <th>basketball</th>\n",
              "      <th>football</th>\n",
              "      <th>tennis</th>\n",
              "      <th>voleyball</th>\n",
              "      <th>basketball</th>\n",
              "      <th>football</th>\n",
              "      <th>tennis</th>\n",
              "      <th>voleyball</th>\n",
              "      <th>basketball</th>\n",
              "      <th>football</th>\n",
              "      <th>tennis</th>\n",
              "      <th>voleyball</th>\n",
              "    </tr>\n",
              "    <tr>\n",
              "      <th>gender</th>\n",
              "      <th></th>\n",
              "      <th></th>\n",
              "      <th></th>\n",
              "      <th></th>\n",
              "      <th></th>\n",
              "      <th></th>\n",
              "      <th></th>\n",
              "      <th></th>\n",
              "      <th></th>\n",
              "      <th></th>\n",
              "      <th></th>\n",
              "      <th></th>\n",
              "    </tr>\n",
              "  </thead>\n",
              "  <tbody>\n",
              "    <tr>\n",
              "      <th>female</th>\n",
              "      <td>26.0</td>\n",
              "      <td>NaN</td>\n",
              "      <td>24.0</td>\n",
              "      <td>22.0</td>\n",
              "      <td>175.0</td>\n",
              "      <td>NaN</td>\n",
              "      <td>172.0</td>\n",
              "      <td>182.0</td>\n",
              "      <td>62.0</td>\n",
              "      <td>NaN</td>\n",
              "      <td>58.0</td>\n",
              "      <td>65.0</td>\n",
              "    </tr>\n",
              "    <tr>\n",
              "      <th>male</th>\n",
              "      <td>21.0</td>\n",
              "      <td>23.0</td>\n",
              "      <td>20.0</td>\n",
              "      <td>NaN</td>\n",
              "      <td>196.0</td>\n",
              "      <td>178.0</td>\n",
              "      <td>185.0</td>\n",
              "      <td>NaN</td>\n",
              "      <td>90.0</td>\n",
              "      <td>80.0</td>\n",
              "      <td>83.0</td>\n",
              "      <td>NaN</td>\n",
              "    </tr>\n",
              "  </tbody>\n",
              "</table>\n",
              "</div>"
            ],
            "text/plain": [
              "              age                               height                  \\\n",
              "sport  basketball football tennis voleyball basketball football tennis   \n",
              "gender                                                                   \n",
              "female       26.0      NaN   24.0      22.0      175.0      NaN  172.0   \n",
              "male         21.0     23.0   20.0       NaN      196.0    178.0  185.0   \n",
              "\n",
              "                     weight                            \n",
              "sport  voleyball basketball football tennis voleyball  \n",
              "gender                                                 \n",
              "female     182.0       62.0      NaN   58.0      65.0  \n",
              "male         NaN       90.0     80.0   83.0       NaN  "
            ]
          },
          "execution_count": 115,
          "metadata": {},
          "output_type": "execute_result"
        }
      ],
      "source": [
        "df7.pivot_table(index='gender',\n",
        "                columns='sport',\n",
        "                values=['age','height','weight'],\n",
        "                aggfunc='mean')"
      ]
    },
    {
      "cell_type": "code",
      "execution_count": null,
      "metadata": {
        "id": "fk0DhSBo4wZL",
        "outputId": "9d286417-fbf9-4bf1-fe82-3487d8acce0c"
      },
      "outputs": [
        {
          "data": {
            "text/html": [
              "<div>\n",
              "<style scoped>\n",
              "    .dataframe tbody tr th:only-of-type {\n",
              "        vertical-align: middle;\n",
              "    }\n",
              "\n",
              "    .dataframe tbody tr th {\n",
              "        vertical-align: top;\n",
              "    }\n",
              "\n",
              "    .dataframe thead tr th {\n",
              "        text-align: left;\n",
              "    }\n",
              "\n",
              "    .dataframe thead tr:last-of-type th {\n",
              "        text-align: right;\n",
              "    }\n",
              "</style>\n",
              "<table border=\"1\" class=\"dataframe\">\n",
              "  <thead>\n",
              "    <tr>\n",
              "      <th></th>\n",
              "      <th colspan=\"4\" halign=\"left\">age</th>\n",
              "      <th colspan=\"4\" halign=\"left\">height</th>\n",
              "      <th colspan=\"4\" halign=\"left\">weight</th>\n",
              "    </tr>\n",
              "    <tr>\n",
              "      <th>sport</th>\n",
              "      <th>basketball</th>\n",
              "      <th>football</th>\n",
              "      <th>tennis</th>\n",
              "      <th>voleyball</th>\n",
              "      <th>basketball</th>\n",
              "      <th>football</th>\n",
              "      <th>tennis</th>\n",
              "      <th>voleyball</th>\n",
              "      <th>basketball</th>\n",
              "      <th>football</th>\n",
              "      <th>tennis</th>\n",
              "      <th>voleyball</th>\n",
              "    </tr>\n",
              "    <tr>\n",
              "      <th>gender</th>\n",
              "      <th></th>\n",
              "      <th></th>\n",
              "      <th></th>\n",
              "      <th></th>\n",
              "      <th></th>\n",
              "      <th></th>\n",
              "      <th></th>\n",
              "      <th></th>\n",
              "      <th></th>\n",
              "      <th></th>\n",
              "      <th></th>\n",
              "      <th></th>\n",
              "    </tr>\n",
              "  </thead>\n",
              "  <tbody>\n",
              "    <tr>\n",
              "      <th>female</th>\n",
              "      <td>26.0</td>\n",
              "      <td>NaN</td>\n",
              "      <td>24.0</td>\n",
              "      <td>22.0</td>\n",
              "      <td>175.0</td>\n",
              "      <td>NaN</td>\n",
              "      <td>172.0</td>\n",
              "      <td>182.0</td>\n",
              "      <td>62.0</td>\n",
              "      <td>NaN</td>\n",
              "      <td>58.0</td>\n",
              "      <td>65.0</td>\n",
              "    </tr>\n",
              "    <tr>\n",
              "      <th>male</th>\n",
              "      <td>21.0</td>\n",
              "      <td>23.0</td>\n",
              "      <td>20.0</td>\n",
              "      <td>NaN</td>\n",
              "      <td>196.0</td>\n",
              "      <td>178.0</td>\n",
              "      <td>185.0</td>\n",
              "      <td>NaN</td>\n",
              "      <td>90.0</td>\n",
              "      <td>80.0</td>\n",
              "      <td>83.0</td>\n",
              "      <td>NaN</td>\n",
              "    </tr>\n",
              "  </tbody>\n",
              "</table>\n",
              "</div>"
            ],
            "text/plain": [
              "              age                               height                  \\\n",
              "sport  basketball football tennis voleyball basketball football tennis   \n",
              "gender                                                                   \n",
              "female       26.0      NaN   24.0      22.0      175.0      NaN  172.0   \n",
              "male         21.0     23.0   20.0       NaN      196.0    178.0  185.0   \n",
              "\n",
              "                     weight                            \n",
              "sport  voleyball basketball football tennis voleyball  \n",
              "gender                                                 \n",
              "female     182.0       62.0      NaN   58.0      65.0  \n",
              "male         NaN       90.0     80.0   83.0       NaN  "
            ]
          },
          "execution_count": 116,
          "metadata": {},
          "output_type": "execute_result"
        }
      ],
      "source": [
        "df7.pivot(index='gender',\n",
        "          columns='sport',\n",
        "          values=['age','height','weight'])"
      ]
    },
    {
      "cell_type": "code",
      "execution_count": null,
      "metadata": {
        "id": "fmUB9i_14wZL",
        "outputId": "1ae6f838-c8a5-4f8b-863b-e3203dd5e0ad"
      },
      "outputs": [
        {
          "data": {
            "text/html": [
              "<div>\n",
              "<style scoped>\n",
              "    .dataframe tbody tr th:only-of-type {\n",
              "        vertical-align: middle;\n",
              "    }\n",
              "\n",
              "    .dataframe tbody tr th {\n",
              "        vertical-align: top;\n",
              "    }\n",
              "\n",
              "    .dataframe thead th {\n",
              "        text-align: right;\n",
              "    }\n",
              "</style>\n",
              "<table border=\"1\" class=\"dataframe\">\n",
              "  <thead>\n",
              "    <tr style=\"text-align: right;\">\n",
              "      <th>sport</th>\n",
              "      <th>basketball</th>\n",
              "      <th>football</th>\n",
              "      <th>tennis</th>\n",
              "      <th>voleyball</th>\n",
              "    </tr>\n",
              "    <tr>\n",
              "      <th>gender</th>\n",
              "      <th></th>\n",
              "      <th></th>\n",
              "      <th></th>\n",
              "      <th></th>\n",
              "    </tr>\n",
              "  </thead>\n",
              "  <tbody>\n",
              "    <tr>\n",
              "      <th>female</th>\n",
              "      <td>professional</td>\n",
              "      <td>NaN</td>\n",
              "      <td>professional</td>\n",
              "      <td>amateur</td>\n",
              "    </tr>\n",
              "    <tr>\n",
              "      <th>male</th>\n",
              "      <td>amateur</td>\n",
              "      <td>amateur</td>\n",
              "      <td>professional</td>\n",
              "      <td>NaN</td>\n",
              "    </tr>\n",
              "  </tbody>\n",
              "</table>\n",
              "</div>"
            ],
            "text/plain": [
              "sport     basketball football        tennis voleyball\n",
              "gender                                               \n",
              "female  professional      NaN  professional   amateur\n",
              "male         amateur  amateur  professional       NaN"
            ]
          },
          "execution_count": 117,
          "metadata": {},
          "output_type": "execute_result"
        }
      ],
      "source": [
        "df7.pivot(index='gender',\n",
        "          columns='sport',\n",
        "          values='status')"
      ]
    },
    {
      "cell_type": "code",
      "execution_count": null,
      "metadata": {
        "id": "rpdVKz_L4wZM"
      },
      "outputs": [],
      "source": [
        "#gives an error because no numeric types to aggregate\n",
        "#df7.pivot_table(index='gender',\n",
        "#                columns='sport',\n",
        "#                values='status')"
      ]
    },
    {
      "cell_type": "code",
      "execution_count": null,
      "metadata": {
        "scrolled": true,
        "id": "At51I8Kx4wZM",
        "outputId": "18ebedbe-8003-4592-c44f-ca24059e721f"
      },
      "outputs": [
        {
          "data": {
            "text/html": [
              "<div>\n",
              "<style scoped>\n",
              "    .dataframe tbody tr th:only-of-type {\n",
              "        vertical-align: middle;\n",
              "    }\n",
              "\n",
              "    .dataframe tbody tr th {\n",
              "        vertical-align: top;\n",
              "    }\n",
              "\n",
              "    .dataframe thead th {\n",
              "        text-align: right;\n",
              "    }\n",
              "</style>\n",
              "<table border=\"1\" class=\"dataframe\">\n",
              "  <thead>\n",
              "    <tr style=\"text-align: right;\">\n",
              "      <th></th>\n",
              "      <th>gender</th>\n",
              "      <th>sport</th>\n",
              "      <th>status</th>\n",
              "      <th>age</th>\n",
              "      <th>height</th>\n",
              "      <th>weight</th>\n",
              "    </tr>\n",
              "  </thead>\n",
              "  <tbody>\n",
              "    <tr>\n",
              "      <th>0</th>\n",
              "      <td>male</td>\n",
              "      <td>tennis</td>\n",
              "      <td>professional</td>\n",
              "      <td>20</td>\n",
              "      <td>185</td>\n",
              "      <td>83</td>\n",
              "    </tr>\n",
              "    <tr>\n",
              "      <th>1</th>\n",
              "      <td>female</td>\n",
              "      <td>tennis</td>\n",
              "      <td>professional</td>\n",
              "      <td>24</td>\n",
              "      <td>172</td>\n",
              "      <td>58</td>\n",
              "    </tr>\n",
              "    <tr>\n",
              "      <th>2</th>\n",
              "      <td>female</td>\n",
              "      <td>basketball</td>\n",
              "      <td>professional</td>\n",
              "      <td>26</td>\n",
              "      <td>175</td>\n",
              "      <td>62</td>\n",
              "    </tr>\n",
              "    <tr>\n",
              "      <th>3</th>\n",
              "      <td>male</td>\n",
              "      <td>football</td>\n",
              "      <td>amateur</td>\n",
              "      <td>23</td>\n",
              "      <td>178</td>\n",
              "      <td>80</td>\n",
              "    </tr>\n",
              "    <tr>\n",
              "      <th>4</th>\n",
              "      <td>female</td>\n",
              "      <td>voleyball</td>\n",
              "      <td>amateur</td>\n",
              "      <td>22</td>\n",
              "      <td>182</td>\n",
              "      <td>65</td>\n",
              "    </tr>\n",
              "    <tr>\n",
              "      <th>5</th>\n",
              "      <td>male</td>\n",
              "      <td>basketball</td>\n",
              "      <td>amateur</td>\n",
              "      <td>21</td>\n",
              "      <td>196</td>\n",
              "      <td>90</td>\n",
              "    </tr>\n",
              "  </tbody>\n",
              "</table>\n",
              "</div>"
            ],
            "text/plain": [
              "   gender       sport        status  age  height  weight\n",
              "0    male      tennis  professional   20     185      83\n",
              "1  female      tennis  professional   24     172      58\n",
              "2  female  basketball  professional   26     175      62\n",
              "3    male    football       amateur   23     178      80\n",
              "4  female   voleyball       amateur   22     182      65\n",
              "5    male  basketball       amateur   21     196      90"
            ]
          },
          "execution_count": 119,
          "metadata": {},
          "output_type": "execute_result"
        }
      ],
      "source": [
        "df7"
      ]
    },
    {
      "cell_type": "code",
      "execution_count": null,
      "metadata": {
        "scrolled": false,
        "id": "O07qKyLE4wZM",
        "outputId": "362f4a23-c05b-47b7-db2f-7f67ebbc1e7b"
      },
      "outputs": [
        {
          "data": {
            "text/html": [
              "<div>\n",
              "<style scoped>\n",
              "    .dataframe tbody tr th:only-of-type {\n",
              "        vertical-align: middle;\n",
              "    }\n",
              "\n",
              "    .dataframe tbody tr th {\n",
              "        vertical-align: top;\n",
              "    }\n",
              "\n",
              "    .dataframe thead th {\n",
              "        text-align: right;\n",
              "    }\n",
              "</style>\n",
              "<table border=\"1\" class=\"dataframe\">\n",
              "  <thead>\n",
              "    <tr style=\"text-align: right;\">\n",
              "      <th></th>\n",
              "      <th>gender</th>\n",
              "      <th>sport</th>\n",
              "      <th>status</th>\n",
              "      <th>age</th>\n",
              "      <th>height</th>\n",
              "      <th>weight</th>\n",
              "    </tr>\n",
              "  </thead>\n",
              "  <tbody>\n",
              "    <tr>\n",
              "      <th>0</th>\n",
              "      <td>male</td>\n",
              "      <td>tennis</td>\n",
              "      <td>professional</td>\n",
              "      <td>20</td>\n",
              "      <td>185</td>\n",
              "      <td>83</td>\n",
              "    </tr>\n",
              "    <tr>\n",
              "      <th>1</th>\n",
              "      <td>female</td>\n",
              "      <td>tennis</td>\n",
              "      <td>professional</td>\n",
              "      <td>24</td>\n",
              "      <td>172</td>\n",
              "      <td>58</td>\n",
              "    </tr>\n",
              "    <tr>\n",
              "      <th>2</th>\n",
              "      <td>female</td>\n",
              "      <td>tennis</td>\n",
              "      <td>professional</td>\n",
              "      <td>26</td>\n",
              "      <td>175</td>\n",
              "      <td>62</td>\n",
              "    </tr>\n",
              "    <tr>\n",
              "      <th>3</th>\n",
              "      <td>male</td>\n",
              "      <td>football</td>\n",
              "      <td>amateur</td>\n",
              "      <td>23</td>\n",
              "      <td>178</td>\n",
              "      <td>80</td>\n",
              "    </tr>\n",
              "    <tr>\n",
              "      <th>4</th>\n",
              "      <td>female</td>\n",
              "      <td>voleyball</td>\n",
              "      <td>amateur</td>\n",
              "      <td>22</td>\n",
              "      <td>182</td>\n",
              "      <td>65</td>\n",
              "    </tr>\n",
              "    <tr>\n",
              "      <th>5</th>\n",
              "      <td>male</td>\n",
              "      <td>basketball</td>\n",
              "      <td>amateur</td>\n",
              "      <td>21</td>\n",
              "      <td>196</td>\n",
              "      <td>90</td>\n",
              "    </tr>\n",
              "  </tbody>\n",
              "</table>\n",
              "</div>"
            ],
            "text/plain": [
              "   gender       sport        status  age  height  weight\n",
              "0    male      tennis  professional   20     185      83\n",
              "1  female      tennis  professional   24     172      58\n",
              "2  female      tennis  professional   26     175      62\n",
              "3    male    football       amateur   23     178      80\n",
              "4  female   voleyball       amateur   22     182      65\n",
              "5    male  basketball       amateur   21     196      90"
            ]
          },
          "execution_count": 120,
          "metadata": {},
          "output_type": "execute_result"
        }
      ],
      "source": [
        "df7.loc[2,\"sport\"] = \"tennis\"\n",
        "df7"
      ]
    },
    {
      "cell_type": "code",
      "execution_count": null,
      "metadata": {
        "id": "cM5F0xA-4wZM",
        "outputId": "264ef4fa-9adc-4c52-c13e-4053a37a3959"
      },
      "outputs": [
        {
          "data": {
            "text/html": [
              "<div>\n",
              "<style scoped>\n",
              "    .dataframe tbody tr th:only-of-type {\n",
              "        vertical-align: middle;\n",
              "    }\n",
              "\n",
              "    .dataframe tbody tr th {\n",
              "        vertical-align: top;\n",
              "    }\n",
              "\n",
              "    .dataframe thead tr th {\n",
              "        text-align: left;\n",
              "    }\n",
              "\n",
              "    .dataframe thead tr:last-of-type th {\n",
              "        text-align: right;\n",
              "    }\n",
              "</style>\n",
              "<table border=\"1\" class=\"dataframe\">\n",
              "  <thead>\n",
              "    <tr>\n",
              "      <th></th>\n",
              "      <th colspan=\"4\" halign=\"left\">age</th>\n",
              "      <th colspan=\"4\" halign=\"left\">height</th>\n",
              "      <th colspan=\"4\" halign=\"left\">weight</th>\n",
              "    </tr>\n",
              "    <tr>\n",
              "      <th>sport</th>\n",
              "      <th>basketball</th>\n",
              "      <th>football</th>\n",
              "      <th>tennis</th>\n",
              "      <th>voleyball</th>\n",
              "      <th>basketball</th>\n",
              "      <th>football</th>\n",
              "      <th>tennis</th>\n",
              "      <th>voleyball</th>\n",
              "      <th>basketball</th>\n",
              "      <th>football</th>\n",
              "      <th>tennis</th>\n",
              "      <th>voleyball</th>\n",
              "    </tr>\n",
              "    <tr>\n",
              "      <th>gender</th>\n",
              "      <th></th>\n",
              "      <th></th>\n",
              "      <th></th>\n",
              "      <th></th>\n",
              "      <th></th>\n",
              "      <th></th>\n",
              "      <th></th>\n",
              "      <th></th>\n",
              "      <th></th>\n",
              "      <th></th>\n",
              "      <th></th>\n",
              "      <th></th>\n",
              "    </tr>\n",
              "  </thead>\n",
              "  <tbody>\n",
              "    <tr>\n",
              "      <th>female</th>\n",
              "      <td>NaN</td>\n",
              "      <td>NaN</td>\n",
              "      <td>25.0</td>\n",
              "      <td>22.0</td>\n",
              "      <td>NaN</td>\n",
              "      <td>NaN</td>\n",
              "      <td>173.5</td>\n",
              "      <td>182.0</td>\n",
              "      <td>NaN</td>\n",
              "      <td>NaN</td>\n",
              "      <td>60.0</td>\n",
              "      <td>65.0</td>\n",
              "    </tr>\n",
              "    <tr>\n",
              "      <th>male</th>\n",
              "      <td>21.0</td>\n",
              "      <td>23.0</td>\n",
              "      <td>20.0</td>\n",
              "      <td>NaN</td>\n",
              "      <td>196.0</td>\n",
              "      <td>178.0</td>\n",
              "      <td>185.0</td>\n",
              "      <td>NaN</td>\n",
              "      <td>90.0</td>\n",
              "      <td>80.0</td>\n",
              "      <td>83.0</td>\n",
              "      <td>NaN</td>\n",
              "    </tr>\n",
              "  </tbody>\n",
              "</table>\n",
              "</div>"
            ],
            "text/plain": [
              "              age                               height                  \\\n",
              "sport  basketball football tennis voleyball basketball football tennis   \n",
              "gender                                                                   \n",
              "female        NaN      NaN   25.0      22.0        NaN      NaN  173.5   \n",
              "male         21.0     23.0   20.0       NaN      196.0    178.0  185.0   \n",
              "\n",
              "                     weight                            \n",
              "sport  voleyball basketball football tennis voleyball  \n",
              "gender                                                 \n",
              "female     182.0        NaN      NaN   60.0      65.0  \n",
              "male         NaN       90.0     80.0   83.0       NaN  "
            ]
          },
          "execution_count": 121,
          "metadata": {},
          "output_type": "execute_result"
        }
      ],
      "source": [
        "df7.pivot_table(index='gender',\n",
        "                columns='sport',\n",
        "                values=['age','height','weight'],\n",
        "                aggfunc='mean')"
      ]
    },
    {
      "cell_type": "code",
      "execution_count": null,
      "metadata": {
        "id": "-7ZcuHNv4wZN"
      },
      "outputs": [],
      "source": [
        "#gives an error because of the dublicate values\n",
        "#df7.pivot(index='gender',\n",
        "#          columns='sport',\n",
        "#          values=['age','height','weight'])"
      ]
    },
    {
      "cell_type": "code",
      "execution_count": null,
      "metadata": {
        "scrolled": true,
        "id": "eOnjx8dX4wZN",
        "outputId": "bf97da72-ebe7-4db4-fadb-3f5a3e1a388d"
      },
      "outputs": [
        {
          "data": {
            "text/html": [
              "<div>\n",
              "<style scoped>\n",
              "    .dataframe tbody tr th:only-of-type {\n",
              "        vertical-align: middle;\n",
              "    }\n",
              "\n",
              "    .dataframe tbody tr th {\n",
              "        vertical-align: top;\n",
              "    }\n",
              "\n",
              "    .dataframe thead tr th {\n",
              "        text-align: left;\n",
              "    }\n",
              "</style>\n",
              "<table border=\"1\" class=\"dataframe\">\n",
              "  <thead>\n",
              "    <tr>\n",
              "      <th></th>\n",
              "      <th colspan=\"4\" halign=\"left\">age</th>\n",
              "      <th colspan=\"4\" halign=\"left\">height</th>\n",
              "      <th colspan=\"4\" halign=\"left\">weight</th>\n",
              "    </tr>\n",
              "    <tr>\n",
              "      <th>sport</th>\n",
              "      <th>basketball</th>\n",
              "      <th>football</th>\n",
              "      <th>tennis</th>\n",
              "      <th>voleyball</th>\n",
              "      <th>basketball</th>\n",
              "      <th>football</th>\n",
              "      <th>tennis</th>\n",
              "      <th>voleyball</th>\n",
              "      <th>basketball</th>\n",
              "      <th>football</th>\n",
              "      <th>tennis</th>\n",
              "      <th>voleyball</th>\n",
              "    </tr>\n",
              "  </thead>\n",
              "  <tbody>\n",
              "    <tr>\n",
              "      <th>0</th>\n",
              "      <td>NaN</td>\n",
              "      <td>NaN</td>\n",
              "      <td>20.0</td>\n",
              "      <td>NaN</td>\n",
              "      <td>NaN</td>\n",
              "      <td>NaN</td>\n",
              "      <td>185.0</td>\n",
              "      <td>NaN</td>\n",
              "      <td>NaN</td>\n",
              "      <td>NaN</td>\n",
              "      <td>83.0</td>\n",
              "      <td>NaN</td>\n",
              "    </tr>\n",
              "    <tr>\n",
              "      <th>1</th>\n",
              "      <td>NaN</td>\n",
              "      <td>NaN</td>\n",
              "      <td>24.0</td>\n",
              "      <td>NaN</td>\n",
              "      <td>NaN</td>\n",
              "      <td>NaN</td>\n",
              "      <td>172.0</td>\n",
              "      <td>NaN</td>\n",
              "      <td>NaN</td>\n",
              "      <td>NaN</td>\n",
              "      <td>58.0</td>\n",
              "      <td>NaN</td>\n",
              "    </tr>\n",
              "    <tr>\n",
              "      <th>2</th>\n",
              "      <td>NaN</td>\n",
              "      <td>NaN</td>\n",
              "      <td>26.0</td>\n",
              "      <td>NaN</td>\n",
              "      <td>NaN</td>\n",
              "      <td>NaN</td>\n",
              "      <td>175.0</td>\n",
              "      <td>NaN</td>\n",
              "      <td>NaN</td>\n",
              "      <td>NaN</td>\n",
              "      <td>62.0</td>\n",
              "      <td>NaN</td>\n",
              "    </tr>\n",
              "    <tr>\n",
              "      <th>3</th>\n",
              "      <td>NaN</td>\n",
              "      <td>23.0</td>\n",
              "      <td>NaN</td>\n",
              "      <td>NaN</td>\n",
              "      <td>NaN</td>\n",
              "      <td>178.0</td>\n",
              "      <td>NaN</td>\n",
              "      <td>NaN</td>\n",
              "      <td>NaN</td>\n",
              "      <td>80.0</td>\n",
              "      <td>NaN</td>\n",
              "      <td>NaN</td>\n",
              "    </tr>\n",
              "    <tr>\n",
              "      <th>4</th>\n",
              "      <td>NaN</td>\n",
              "      <td>NaN</td>\n",
              "      <td>NaN</td>\n",
              "      <td>22.0</td>\n",
              "      <td>NaN</td>\n",
              "      <td>NaN</td>\n",
              "      <td>NaN</td>\n",
              "      <td>182.0</td>\n",
              "      <td>NaN</td>\n",
              "      <td>NaN</td>\n",
              "      <td>NaN</td>\n",
              "      <td>65.0</td>\n",
              "    </tr>\n",
              "    <tr>\n",
              "      <th>5</th>\n",
              "      <td>21.0</td>\n",
              "      <td>NaN</td>\n",
              "      <td>NaN</td>\n",
              "      <td>NaN</td>\n",
              "      <td>196.0</td>\n",
              "      <td>NaN</td>\n",
              "      <td>NaN</td>\n",
              "      <td>NaN</td>\n",
              "      <td>90.0</td>\n",
              "      <td>NaN</td>\n",
              "      <td>NaN</td>\n",
              "      <td>NaN</td>\n",
              "    </tr>\n",
              "  </tbody>\n",
              "</table>\n",
              "</div>"
            ],
            "text/plain": [
              "             age                               height                  \\\n",
              "sport basketball football tennis voleyball basketball football tennis   \n",
              "0            NaN      NaN   20.0       NaN        NaN      NaN  185.0   \n",
              "1            NaN      NaN   24.0       NaN        NaN      NaN  172.0   \n",
              "2            NaN      NaN   26.0       NaN        NaN      NaN  175.0   \n",
              "3            NaN     23.0    NaN       NaN        NaN    178.0    NaN   \n",
              "4            NaN      NaN    NaN      22.0        NaN      NaN    NaN   \n",
              "5           21.0      NaN    NaN       NaN      196.0      NaN    NaN   \n",
              "\n",
              "                    weight                            \n",
              "sport voleyball basketball football tennis voleyball  \n",
              "0           NaN        NaN      NaN   83.0       NaN  \n",
              "1           NaN        NaN      NaN   58.0       NaN  \n",
              "2           NaN        NaN      NaN   62.0       NaN  \n",
              "3           NaN        NaN     80.0    NaN       NaN  \n",
              "4         182.0        NaN      NaN    NaN      65.0  \n",
              "5           NaN       90.0      NaN    NaN       NaN  "
            ]
          },
          "execution_count": 123,
          "metadata": {},
          "output_type": "execute_result"
        }
      ],
      "source": [
        "df7.pivot(columns='sport',\n",
        "          values=['age','height','weight'])"
      ]
    },
    {
      "cell_type": "code",
      "execution_count": null,
      "metadata": {
        "id": "_R-Pa4sL4wZN",
        "outputId": "f6f8030b-3b89-40fd-e912-df4fe231980c"
      },
      "outputs": [
        {
          "data": {
            "text/html": [
              "<div>\n",
              "<style scoped>\n",
              "    .dataframe tbody tr th:only-of-type {\n",
              "        vertical-align: middle;\n",
              "    }\n",
              "\n",
              "    .dataframe tbody tr th {\n",
              "        vertical-align: top;\n",
              "    }\n",
              "\n",
              "    .dataframe thead th {\n",
              "        text-align: right;\n",
              "    }\n",
              "</style>\n",
              "<table border=\"1\" class=\"dataframe\">\n",
              "  <thead>\n",
              "    <tr style=\"text-align: right;\">\n",
              "      <th></th>\n",
              "      <th></th>\n",
              "      <th>age</th>\n",
              "      <th>height</th>\n",
              "      <th>weight</th>\n",
              "    </tr>\n",
              "    <tr>\n",
              "      <th>gender</th>\n",
              "      <th>sport</th>\n",
              "      <th></th>\n",
              "      <th></th>\n",
              "      <th></th>\n",
              "    </tr>\n",
              "  </thead>\n",
              "  <tbody>\n",
              "    <tr>\n",
              "      <th rowspan=\"2\" valign=\"top\">female</th>\n",
              "      <th>tennis</th>\n",
              "      <td>25</td>\n",
              "      <td>173.5</td>\n",
              "      <td>60</td>\n",
              "    </tr>\n",
              "    <tr>\n",
              "      <th>voleyball</th>\n",
              "      <td>22</td>\n",
              "      <td>182.0</td>\n",
              "      <td>65</td>\n",
              "    </tr>\n",
              "    <tr>\n",
              "      <th rowspan=\"3\" valign=\"top\">male</th>\n",
              "      <th>basketball</th>\n",
              "      <td>21</td>\n",
              "      <td>196.0</td>\n",
              "      <td>90</td>\n",
              "    </tr>\n",
              "    <tr>\n",
              "      <th>football</th>\n",
              "      <td>23</td>\n",
              "      <td>178.0</td>\n",
              "      <td>80</td>\n",
              "    </tr>\n",
              "    <tr>\n",
              "      <th>tennis</th>\n",
              "      <td>20</td>\n",
              "      <td>185.0</td>\n",
              "      <td>83</td>\n",
              "    </tr>\n",
              "  </tbody>\n",
              "</table>\n",
              "</div>"
            ],
            "text/plain": [
              "                   age  height  weight\n",
              "gender sport                          \n",
              "female tennis       25   173.5      60\n",
              "       voleyball    22   182.0      65\n",
              "male   basketball   21   196.0      90\n",
              "       football     23   178.0      80\n",
              "       tennis       20   185.0      83"
            ]
          },
          "execution_count": 124,
          "metadata": {},
          "output_type": "execute_result"
        }
      ],
      "source": [
        "df7.pivot_table(index=['gender', 'sport'],\n",
        "                values=['age','height','weight'],\n",
        "                aggfunc='mean')"
      ]
    },
    {
      "cell_type": "code",
      "execution_count": null,
      "metadata": {
        "id": "z2Vs4Hit4wZO"
      },
      "outputs": [],
      "source": [
        "#gives an error because of the lack of \"columns\" parameter\n",
        "#df7.pivot(index=['gender', 'sport'],\n",
        "#          values=['age','height','weight'])"
      ]
    },
    {
      "cell_type": "code",
      "execution_count": null,
      "metadata": {
        "id": "nnboTgmG4wZO",
        "outputId": "6e2ee770-6210-4a6a-ed18-a70caa21c705"
      },
      "outputs": [
        {
          "data": {
            "text/html": [
              "<div>\n",
              "<style scoped>\n",
              "    .dataframe tbody tr th:only-of-type {\n",
              "        vertical-align: middle;\n",
              "    }\n",
              "\n",
              "    .dataframe tbody tr th {\n",
              "        vertical-align: top;\n",
              "    }\n",
              "\n",
              "    .dataframe thead th {\n",
              "        text-align: right;\n",
              "    }\n",
              "</style>\n",
              "<table border=\"1\" class=\"dataframe\">\n",
              "  <thead>\n",
              "    <tr style=\"text-align: right;\">\n",
              "      <th></th>\n",
              "      <th></th>\n",
              "      <th>age</th>\n",
              "      <th>height</th>\n",
              "      <th>weight</th>\n",
              "    </tr>\n",
              "    <tr>\n",
              "      <th>gender</th>\n",
              "      <th>sport</th>\n",
              "      <th></th>\n",
              "      <th></th>\n",
              "      <th></th>\n",
              "    </tr>\n",
              "  </thead>\n",
              "  <tbody>\n",
              "    <tr>\n",
              "      <th rowspan=\"2\" valign=\"top\">female</th>\n",
              "      <th>tennis</th>\n",
              "      <td>25.0</td>\n",
              "      <td>173.5</td>\n",
              "      <td>60.0</td>\n",
              "    </tr>\n",
              "    <tr>\n",
              "      <th>voleyball</th>\n",
              "      <td>22.0</td>\n",
              "      <td>182.0</td>\n",
              "      <td>65.0</td>\n",
              "    </tr>\n",
              "    <tr>\n",
              "      <th rowspan=\"3\" valign=\"top\">male</th>\n",
              "      <th>basketball</th>\n",
              "      <td>21.0</td>\n",
              "      <td>196.0</td>\n",
              "      <td>90.0</td>\n",
              "    </tr>\n",
              "    <tr>\n",
              "      <th>football</th>\n",
              "      <td>23.0</td>\n",
              "      <td>178.0</td>\n",
              "      <td>80.0</td>\n",
              "    </tr>\n",
              "    <tr>\n",
              "      <th>tennis</th>\n",
              "      <td>20.0</td>\n",
              "      <td>185.0</td>\n",
              "      <td>83.0</td>\n",
              "    </tr>\n",
              "  </tbody>\n",
              "</table>\n",
              "</div>"
            ],
            "text/plain": [
              "                    age  height  weight\n",
              "gender sport                           \n",
              "female tennis      25.0   173.5    60.0\n",
              "       voleyball   22.0   182.0    65.0\n",
              "male   basketball  21.0   196.0    90.0\n",
              "       football    23.0   178.0    80.0\n",
              "       tennis      20.0   185.0    83.0"
            ]
          },
          "execution_count": 126,
          "metadata": {},
          "output_type": "execute_result"
        }
      ],
      "source": [
        "df7.groupby([\"gender\",\"sport\"]).mean()"
      ]
    },
    {
      "cell_type": "code",
      "execution_count": null,
      "metadata": {
        "id": "woLccO0M4wZO",
        "outputId": "ec3f6934-1a84-44c2-a299-246566f32755"
      },
      "outputs": [
        {
          "data": {
            "text/html": [
              "<div>\n",
              "<style scoped>\n",
              "    .dataframe tbody tr th:only-of-type {\n",
              "        vertical-align: middle;\n",
              "    }\n",
              "\n",
              "    .dataframe tbody tr th {\n",
              "        vertical-align: top;\n",
              "    }\n",
              "\n",
              "    .dataframe thead tr th {\n",
              "        text-align: left;\n",
              "    }\n",
              "\n",
              "    .dataframe thead tr:last-of-type th {\n",
              "        text-align: right;\n",
              "    }\n",
              "</style>\n",
              "<table border=\"1\" class=\"dataframe\">\n",
              "  <thead>\n",
              "    <tr>\n",
              "      <th></th>\n",
              "      <th></th>\n",
              "      <th colspan=\"2\" halign=\"left\">age</th>\n",
              "      <th colspan=\"2\" halign=\"left\">height</th>\n",
              "      <th colspan=\"2\" halign=\"left\">weight</th>\n",
              "    </tr>\n",
              "    <tr>\n",
              "      <th></th>\n",
              "      <th>status</th>\n",
              "      <th>amateur</th>\n",
              "      <th>professional</th>\n",
              "      <th>amateur</th>\n",
              "      <th>professional</th>\n",
              "      <th>amateur</th>\n",
              "      <th>professional</th>\n",
              "    </tr>\n",
              "    <tr>\n",
              "      <th>gender</th>\n",
              "      <th>sport</th>\n",
              "      <th></th>\n",
              "      <th></th>\n",
              "      <th></th>\n",
              "      <th></th>\n",
              "      <th></th>\n",
              "      <th></th>\n",
              "    </tr>\n",
              "  </thead>\n",
              "  <tbody>\n",
              "    <tr>\n",
              "      <th rowspan=\"2\" valign=\"top\">female</th>\n",
              "      <th>tennis</th>\n",
              "      <td>NaN</td>\n",
              "      <td>25.0</td>\n",
              "      <td>NaN</td>\n",
              "      <td>173.5</td>\n",
              "      <td>NaN</td>\n",
              "      <td>60.0</td>\n",
              "    </tr>\n",
              "    <tr>\n",
              "      <th>voleyball</th>\n",
              "      <td>22.0</td>\n",
              "      <td>NaN</td>\n",
              "      <td>182.0</td>\n",
              "      <td>NaN</td>\n",
              "      <td>65.0</td>\n",
              "      <td>NaN</td>\n",
              "    </tr>\n",
              "    <tr>\n",
              "      <th rowspan=\"3\" valign=\"top\">male</th>\n",
              "      <th>basketball</th>\n",
              "      <td>21.0</td>\n",
              "      <td>NaN</td>\n",
              "      <td>196.0</td>\n",
              "      <td>NaN</td>\n",
              "      <td>90.0</td>\n",
              "      <td>NaN</td>\n",
              "    </tr>\n",
              "    <tr>\n",
              "      <th>football</th>\n",
              "      <td>23.0</td>\n",
              "      <td>NaN</td>\n",
              "      <td>178.0</td>\n",
              "      <td>NaN</td>\n",
              "      <td>80.0</td>\n",
              "      <td>NaN</td>\n",
              "    </tr>\n",
              "    <tr>\n",
              "      <th>tennis</th>\n",
              "      <td>NaN</td>\n",
              "      <td>20.0</td>\n",
              "      <td>NaN</td>\n",
              "      <td>185.0</td>\n",
              "      <td>NaN</td>\n",
              "      <td>83.0</td>\n",
              "    </tr>\n",
              "  </tbody>\n",
              "</table>\n",
              "</div>"
            ],
            "text/plain": [
              "                      age               height               weight  \\\n",
              "status            amateur professional amateur professional amateur   \n",
              "gender sport                                                          \n",
              "female tennis         NaN         25.0     NaN        173.5     NaN   \n",
              "       voleyball     22.0          NaN   182.0          NaN    65.0   \n",
              "male   basketball    21.0          NaN   196.0          NaN    90.0   \n",
              "       football      23.0          NaN   178.0          NaN    80.0   \n",
              "       tennis         NaN         20.0     NaN        185.0     NaN   \n",
              "\n",
              "                                \n",
              "status            professional  \n",
              "gender sport                    \n",
              "female tennis             60.0  \n",
              "       voleyball           NaN  \n",
              "male   basketball          NaN  \n",
              "       football            NaN  \n",
              "       tennis             83.0  "
            ]
          },
          "execution_count": 127,
          "metadata": {},
          "output_type": "execute_result"
        }
      ],
      "source": [
        "df7.pivot_table(index=['gender', 'sport'],\n",
        "                columns = \"status\",\n",
        "                values=['age','height','weight'],\n",
        "                aggfunc='mean')"
      ]
    },
    {
      "cell_type": "code",
      "execution_count": null,
      "metadata": {
        "id": "UXf85snE4wZO"
      },
      "outputs": [],
      "source": [
        "#gives an error because of the dublicate values\n",
        "#df7.pivot(index=['gender', 'sport'],\n",
        "#          columns = \"status\",\n",
        "#          values=['age','height','weight'])"
      ]
    },
    {
      "cell_type": "code",
      "execution_count": null,
      "metadata": {
        "id": "doQWzbr94wZP",
        "outputId": "515c5167-4bbd-42ec-c6ed-75d725df30ef"
      },
      "outputs": [
        {
          "data": {
            "text/html": [
              "<div>\n",
              "<style scoped>\n",
              "    .dataframe tbody tr th:only-of-type {\n",
              "        vertical-align: middle;\n",
              "    }\n",
              "\n",
              "    .dataframe tbody tr th {\n",
              "        vertical-align: top;\n",
              "    }\n",
              "\n",
              "    .dataframe thead tr th {\n",
              "        text-align: left;\n",
              "    }\n",
              "</style>\n",
              "<table border=\"1\" class=\"dataframe\">\n",
              "  <thead>\n",
              "    <tr>\n",
              "      <th></th>\n",
              "      <th colspan=\"2\" halign=\"left\">age</th>\n",
              "      <th colspan=\"2\" halign=\"left\">height</th>\n",
              "      <th colspan=\"2\" halign=\"left\">weight</th>\n",
              "    </tr>\n",
              "    <tr>\n",
              "      <th>status</th>\n",
              "      <th>amateur</th>\n",
              "      <th>professional</th>\n",
              "      <th>amateur</th>\n",
              "      <th>professional</th>\n",
              "      <th>amateur</th>\n",
              "      <th>professional</th>\n",
              "    </tr>\n",
              "  </thead>\n",
              "  <tbody>\n",
              "    <tr>\n",
              "      <th>0</th>\n",
              "      <td>NaN</td>\n",
              "      <td>20.0</td>\n",
              "      <td>NaN</td>\n",
              "      <td>185.0</td>\n",
              "      <td>NaN</td>\n",
              "      <td>83.0</td>\n",
              "    </tr>\n",
              "    <tr>\n",
              "      <th>1</th>\n",
              "      <td>NaN</td>\n",
              "      <td>24.0</td>\n",
              "      <td>NaN</td>\n",
              "      <td>172.0</td>\n",
              "      <td>NaN</td>\n",
              "      <td>58.0</td>\n",
              "    </tr>\n",
              "    <tr>\n",
              "      <th>2</th>\n",
              "      <td>NaN</td>\n",
              "      <td>26.0</td>\n",
              "      <td>NaN</td>\n",
              "      <td>175.0</td>\n",
              "      <td>NaN</td>\n",
              "      <td>62.0</td>\n",
              "    </tr>\n",
              "    <tr>\n",
              "      <th>3</th>\n",
              "      <td>23.0</td>\n",
              "      <td>NaN</td>\n",
              "      <td>178.0</td>\n",
              "      <td>NaN</td>\n",
              "      <td>80.0</td>\n",
              "      <td>NaN</td>\n",
              "    </tr>\n",
              "    <tr>\n",
              "      <th>4</th>\n",
              "      <td>22.0</td>\n",
              "      <td>NaN</td>\n",
              "      <td>182.0</td>\n",
              "      <td>NaN</td>\n",
              "      <td>65.0</td>\n",
              "      <td>NaN</td>\n",
              "    </tr>\n",
              "    <tr>\n",
              "      <th>5</th>\n",
              "      <td>21.0</td>\n",
              "      <td>NaN</td>\n",
              "      <td>196.0</td>\n",
              "      <td>NaN</td>\n",
              "      <td>90.0</td>\n",
              "      <td>NaN</td>\n",
              "    </tr>\n",
              "  </tbody>\n",
              "</table>\n",
              "</div>"
            ],
            "text/plain": [
              "           age               height               weight             \n",
              "status amateur professional amateur professional amateur professional\n",
              "0          NaN         20.0     NaN        185.0     NaN         83.0\n",
              "1          NaN         24.0     NaN        172.0     NaN         58.0\n",
              "2          NaN         26.0     NaN        175.0     NaN         62.0\n",
              "3         23.0          NaN   178.0          NaN    80.0          NaN\n",
              "4         22.0          NaN   182.0          NaN    65.0          NaN\n",
              "5         21.0          NaN   196.0          NaN    90.0          NaN"
            ]
          },
          "execution_count": 129,
          "metadata": {},
          "output_type": "execute_result"
        }
      ],
      "source": [
        "df7.pivot(columns = \"status\",\n",
        "          values=['age','height','weight'])"
      ]
    },
    {
      "cell_type": "markdown",
      "metadata": {
        "id": "tcxUnq3b4wZP"
      },
      "source": [
        "# .stack() & .unstack()"
      ]
    },
    {
      "cell_type": "markdown",
      "metadata": {
        "id": "CRhlWqic4wZP"
      },
      "source": [
        "**stack()**\n",
        "- DataFrame.stack(level=- 1, dropna=True)\n",
        "- Stack the prescribed level(s) from columns to index.\n",
        "- Return a reshaped DataFrame or Series having a multi-level index with one or more new inner-most levels compared to the current DataFrame.\n",
        "- The new inner-most levels are created by pivoting the columns of the current dataframe:\n",
        "    - if the columns have a single level, the output is a Series;\n",
        "    - if the columns have multiple levels, the new index level(s) is (are) taken from the prescribed level(s) and the output is a DataFrame."
      ]
    },
    {
      "cell_type": "code",
      "execution_count": null,
      "metadata": {
        "id": "jSPuOSo74wZP",
        "outputId": "8187db35-5fa7-4ceb-80e4-6f1eb6fbba79"
      },
      "outputs": [
        {
          "data": {
            "text/html": [
              "<div>\n",
              "<style scoped>\n",
              "    .dataframe tbody tr th:only-of-type {\n",
              "        vertical-align: middle;\n",
              "    }\n",
              "\n",
              "    .dataframe tbody tr th {\n",
              "        vertical-align: top;\n",
              "    }\n",
              "\n",
              "    .dataframe thead th {\n",
              "        text-align: right;\n",
              "    }\n",
              "</style>\n",
              "<table border=\"1\" class=\"dataframe\">\n",
              "  <thead>\n",
              "    <tr style=\"text-align: right;\">\n",
              "      <th></th>\n",
              "      <th>gender</th>\n",
              "      <th>sport</th>\n",
              "      <th>status</th>\n",
              "      <th>age</th>\n",
              "      <th>height</th>\n",
              "      <th>weight</th>\n",
              "    </tr>\n",
              "  </thead>\n",
              "  <tbody>\n",
              "    <tr>\n",
              "      <th>0</th>\n",
              "      <td>male</td>\n",
              "      <td>tennis</td>\n",
              "      <td>professional</td>\n",
              "      <td>20</td>\n",
              "      <td>185</td>\n",
              "      <td>83</td>\n",
              "    </tr>\n",
              "    <tr>\n",
              "      <th>1</th>\n",
              "      <td>female</td>\n",
              "      <td>tennis</td>\n",
              "      <td>professional</td>\n",
              "      <td>24</td>\n",
              "      <td>172</td>\n",
              "      <td>58</td>\n",
              "    </tr>\n",
              "    <tr>\n",
              "      <th>2</th>\n",
              "      <td>female</td>\n",
              "      <td>tennis</td>\n",
              "      <td>professional</td>\n",
              "      <td>26</td>\n",
              "      <td>175</td>\n",
              "      <td>62</td>\n",
              "    </tr>\n",
              "    <tr>\n",
              "      <th>3</th>\n",
              "      <td>male</td>\n",
              "      <td>football</td>\n",
              "      <td>amateur</td>\n",
              "      <td>23</td>\n",
              "      <td>178</td>\n",
              "      <td>80</td>\n",
              "    </tr>\n",
              "    <tr>\n",
              "      <th>4</th>\n",
              "      <td>female</td>\n",
              "      <td>voleyball</td>\n",
              "      <td>amateur</td>\n",
              "      <td>22</td>\n",
              "      <td>182</td>\n",
              "      <td>65</td>\n",
              "    </tr>\n",
              "    <tr>\n",
              "      <th>5</th>\n",
              "      <td>male</td>\n",
              "      <td>basketball</td>\n",
              "      <td>amateur</td>\n",
              "      <td>21</td>\n",
              "      <td>196</td>\n",
              "      <td>90</td>\n",
              "    </tr>\n",
              "  </tbody>\n",
              "</table>\n",
              "</div>"
            ],
            "text/plain": [
              "   gender       sport        status  age  height  weight\n",
              "0    male      tennis  professional   20     185      83\n",
              "1  female      tennis  professional   24     172      58\n",
              "2  female      tennis  professional   26     175      62\n",
              "3    male    football       amateur   23     178      80\n",
              "4  female   voleyball       amateur   22     182      65\n",
              "5    male  basketball       amateur   21     196      90"
            ]
          },
          "execution_count": 130,
          "metadata": {},
          "output_type": "execute_result"
        }
      ],
      "source": [
        "df7"
      ]
    },
    {
      "cell_type": "code",
      "execution_count": null,
      "metadata": {
        "id": "VctPuxIw4wZP",
        "outputId": "7fd0440c-7018-4dfa-ec73-b49c2b887160"
      },
      "outputs": [
        {
          "data": {
            "text/html": [
              "<div>\n",
              "<style scoped>\n",
              "    .dataframe tbody tr th:only-of-type {\n",
              "        vertical-align: middle;\n",
              "    }\n",
              "\n",
              "    .dataframe tbody tr th {\n",
              "        vertical-align: top;\n",
              "    }\n",
              "\n",
              "    .dataframe thead th {\n",
              "        text-align: right;\n",
              "    }\n",
              "</style>\n",
              "<table border=\"1\" class=\"dataframe\">\n",
              "  <thead>\n",
              "    <tr style=\"text-align: right;\">\n",
              "      <th></th>\n",
              "      <th>gender</th>\n",
              "      <th>sport</th>\n",
              "      <th>status</th>\n",
              "      <th>age</th>\n",
              "      <th>height</th>\n",
              "      <th>weight</th>\n",
              "      <th>level</th>\n",
              "    </tr>\n",
              "  </thead>\n",
              "  <tbody>\n",
              "    <tr>\n",
              "      <th>0</th>\n",
              "      <td>male</td>\n",
              "      <td>tennis</td>\n",
              "      <td>professional</td>\n",
              "      <td>20</td>\n",
              "      <td>185</td>\n",
              "      <td>83</td>\n",
              "      <td>high</td>\n",
              "    </tr>\n",
              "    <tr>\n",
              "      <th>1</th>\n",
              "      <td>female</td>\n",
              "      <td>tennis</td>\n",
              "      <td>professional</td>\n",
              "      <td>24</td>\n",
              "      <td>172</td>\n",
              "      <td>58</td>\n",
              "      <td>high</td>\n",
              "    </tr>\n",
              "    <tr>\n",
              "      <th>2</th>\n",
              "      <td>female</td>\n",
              "      <td>tennis</td>\n",
              "      <td>professional</td>\n",
              "      <td>26</td>\n",
              "      <td>175</td>\n",
              "      <td>62</td>\n",
              "      <td>low</td>\n",
              "    </tr>\n",
              "    <tr>\n",
              "      <th>3</th>\n",
              "      <td>male</td>\n",
              "      <td>football</td>\n",
              "      <td>amateur</td>\n",
              "      <td>23</td>\n",
              "      <td>178</td>\n",
              "      <td>80</td>\n",
              "      <td>high</td>\n",
              "    </tr>\n",
              "    <tr>\n",
              "      <th>4</th>\n",
              "      <td>female</td>\n",
              "      <td>voleyball</td>\n",
              "      <td>amateur</td>\n",
              "      <td>22</td>\n",
              "      <td>182</td>\n",
              "      <td>65</td>\n",
              "      <td>low</td>\n",
              "    </tr>\n",
              "    <tr>\n",
              "      <th>5</th>\n",
              "      <td>male</td>\n",
              "      <td>basketball</td>\n",
              "      <td>amateur</td>\n",
              "      <td>21</td>\n",
              "      <td>196</td>\n",
              "      <td>90</td>\n",
              "      <td>low</td>\n",
              "    </tr>\n",
              "  </tbody>\n",
              "</table>\n",
              "</div>"
            ],
            "text/plain": [
              "   gender       sport        status  age  height  weight level\n",
              "0    male      tennis  professional   20     185      83  high\n",
              "1  female      tennis  professional   24     172      58  high\n",
              "2  female      tennis  professional   26     175      62   low\n",
              "3    male    football       amateur   23     178      80  high\n",
              "4  female   voleyball       amateur   22     182      65   low\n",
              "5    male  basketball       amateur   21     196      90   low"
            ]
          },
          "execution_count": 131,
          "metadata": {},
          "output_type": "execute_result"
        }
      ],
      "source": [
        "df7[\"level\"] = [\"high\", \"high\", \"low\", \"high\", \"low\", \"low\"]\n",
        "df7"
      ]
    },
    {
      "cell_type": "code",
      "execution_count": null,
      "metadata": {
        "id": "J-dk__sn4wZQ",
        "outputId": "eb282412-3e79-4785-faa1-01e1cb1b8450"
      },
      "outputs": [
        {
          "data": {
            "text/html": [
              "<div>\n",
              "<style scoped>\n",
              "    .dataframe tbody tr th:only-of-type {\n",
              "        vertical-align: middle;\n",
              "    }\n",
              "\n",
              "    .dataframe tbody tr th {\n",
              "        vertical-align: top;\n",
              "    }\n",
              "\n",
              "    .dataframe thead tr th {\n",
              "        text-align: left;\n",
              "    }\n",
              "\n",
              "    .dataframe thead tr:last-of-type th {\n",
              "        text-align: right;\n",
              "    }\n",
              "</style>\n",
              "<table border=\"1\" class=\"dataframe\">\n",
              "  <thead>\n",
              "    <tr>\n",
              "      <th></th>\n",
              "      <th></th>\n",
              "      <th colspan=\"4\" halign=\"left\">age</th>\n",
              "      <th colspan=\"4\" halign=\"left\">height</th>\n",
              "      <th colspan=\"4\" halign=\"left\">weight</th>\n",
              "    </tr>\n",
              "    <tr>\n",
              "      <th></th>\n",
              "      <th>status</th>\n",
              "      <th colspan=\"2\" halign=\"left\">amateur</th>\n",
              "      <th colspan=\"2\" halign=\"left\">professional</th>\n",
              "      <th colspan=\"2\" halign=\"left\">amateur</th>\n",
              "      <th colspan=\"2\" halign=\"left\">professional</th>\n",
              "      <th colspan=\"2\" halign=\"left\">amateur</th>\n",
              "      <th colspan=\"2\" halign=\"left\">professional</th>\n",
              "    </tr>\n",
              "    <tr>\n",
              "      <th></th>\n",
              "      <th>level</th>\n",
              "      <th>high</th>\n",
              "      <th>low</th>\n",
              "      <th>high</th>\n",
              "      <th>low</th>\n",
              "      <th>high</th>\n",
              "      <th>low</th>\n",
              "      <th>high</th>\n",
              "      <th>low</th>\n",
              "      <th>high</th>\n",
              "      <th>low</th>\n",
              "      <th>high</th>\n",
              "      <th>low</th>\n",
              "    </tr>\n",
              "    <tr>\n",
              "      <th>gender</th>\n",
              "      <th>sport</th>\n",
              "      <th></th>\n",
              "      <th></th>\n",
              "      <th></th>\n",
              "      <th></th>\n",
              "      <th></th>\n",
              "      <th></th>\n",
              "      <th></th>\n",
              "      <th></th>\n",
              "      <th></th>\n",
              "      <th></th>\n",
              "      <th></th>\n",
              "      <th></th>\n",
              "    </tr>\n",
              "  </thead>\n",
              "  <tbody>\n",
              "    <tr>\n",
              "      <th rowspan=\"2\" valign=\"top\">female</th>\n",
              "      <th>tennis</th>\n",
              "      <td>NaN</td>\n",
              "      <td>NaN</td>\n",
              "      <td>24.0</td>\n",
              "      <td>26.0</td>\n",
              "      <td>NaN</td>\n",
              "      <td>NaN</td>\n",
              "      <td>172.0</td>\n",
              "      <td>175.0</td>\n",
              "      <td>NaN</td>\n",
              "      <td>NaN</td>\n",
              "      <td>58.0</td>\n",
              "      <td>62.0</td>\n",
              "    </tr>\n",
              "    <tr>\n",
              "      <th>voleyball</th>\n",
              "      <td>NaN</td>\n",
              "      <td>22.0</td>\n",
              "      <td>NaN</td>\n",
              "      <td>NaN</td>\n",
              "      <td>NaN</td>\n",
              "      <td>182.0</td>\n",
              "      <td>NaN</td>\n",
              "      <td>NaN</td>\n",
              "      <td>NaN</td>\n",
              "      <td>65.0</td>\n",
              "      <td>NaN</td>\n",
              "      <td>NaN</td>\n",
              "    </tr>\n",
              "    <tr>\n",
              "      <th rowspan=\"3\" valign=\"top\">male</th>\n",
              "      <th>basketball</th>\n",
              "      <td>NaN</td>\n",
              "      <td>21.0</td>\n",
              "      <td>NaN</td>\n",
              "      <td>NaN</td>\n",
              "      <td>NaN</td>\n",
              "      <td>196.0</td>\n",
              "      <td>NaN</td>\n",
              "      <td>NaN</td>\n",
              "      <td>NaN</td>\n",
              "      <td>90.0</td>\n",
              "      <td>NaN</td>\n",
              "      <td>NaN</td>\n",
              "    </tr>\n",
              "    <tr>\n",
              "      <th>football</th>\n",
              "      <td>23.0</td>\n",
              "      <td>NaN</td>\n",
              "      <td>NaN</td>\n",
              "      <td>NaN</td>\n",
              "      <td>178.0</td>\n",
              "      <td>NaN</td>\n",
              "      <td>NaN</td>\n",
              "      <td>NaN</td>\n",
              "      <td>80.0</td>\n",
              "      <td>NaN</td>\n",
              "      <td>NaN</td>\n",
              "      <td>NaN</td>\n",
              "    </tr>\n",
              "    <tr>\n",
              "      <th>tennis</th>\n",
              "      <td>NaN</td>\n",
              "      <td>NaN</td>\n",
              "      <td>20.0</td>\n",
              "      <td>NaN</td>\n",
              "      <td>NaN</td>\n",
              "      <td>NaN</td>\n",
              "      <td>185.0</td>\n",
              "      <td>NaN</td>\n",
              "      <td>NaN</td>\n",
              "      <td>NaN</td>\n",
              "      <td>83.0</td>\n",
              "      <td>NaN</td>\n",
              "    </tr>\n",
              "  </tbody>\n",
              "</table>\n",
              "</div>"
            ],
            "text/plain": [
              "                      age                           height         \\\n",
              "status            amateur       professional       amateur          \n",
              "level                high   low         high   low    high    low   \n",
              "gender sport                                                        \n",
              "female tennis         NaN   NaN         24.0  26.0     NaN    NaN   \n",
              "       voleyball      NaN  22.0          NaN   NaN     NaN  182.0   \n",
              "male   basketball     NaN  21.0          NaN   NaN     NaN  196.0   \n",
              "       football      23.0   NaN          NaN   NaN   178.0    NaN   \n",
              "       tennis         NaN   NaN         20.0   NaN     NaN    NaN   \n",
              "\n",
              "                                       weight                           \n",
              "status            professional        amateur       professional        \n",
              "level                     high    low    high   low         high   low  \n",
              "gender sport                                                            \n",
              "female tennis            172.0  175.0     NaN   NaN         58.0  62.0  \n",
              "       voleyball           NaN    NaN     NaN  65.0          NaN   NaN  \n",
              "male   basketball          NaN    NaN     NaN  90.0          NaN   NaN  \n",
              "       football            NaN    NaN    80.0   NaN          NaN   NaN  \n",
              "       tennis            185.0    NaN     NaN   NaN         83.0   NaN  "
            ]
          },
          "execution_count": 132,
          "metadata": {},
          "output_type": "execute_result"
        }
      ],
      "source": [
        "df8 = df7.pivot_table(index=['gender','sport'],\n",
        "                columns=[\"status\",\"level\"], \n",
        "                values=['age','height','weight'],\n",
        "                aggfunc='mean')\n",
        "df8"
      ]
    },
    {
      "cell_type": "code",
      "execution_count": null,
      "metadata": {
        "id": "wumyIwMD4wZQ",
        "outputId": "7cbfc8ac-bfa8-4784-db34-0208e5820d69"
      },
      "outputs": [
        {
          "data": {
            "text/html": [
              "<div>\n",
              "<style scoped>\n",
              "    .dataframe tbody tr th:only-of-type {\n",
              "        vertical-align: middle;\n",
              "    }\n",
              "\n",
              "    .dataframe tbody tr th {\n",
              "        vertical-align: top;\n",
              "    }\n",
              "\n",
              "    .dataframe thead tr th {\n",
              "        text-align: left;\n",
              "    }\n",
              "\n",
              "    .dataframe thead tr:last-of-type th {\n",
              "        text-align: right;\n",
              "    }\n",
              "</style>\n",
              "<table border=\"1\" class=\"dataframe\">\n",
              "  <thead>\n",
              "    <tr>\n",
              "      <th></th>\n",
              "      <th></th>\n",
              "      <th></th>\n",
              "      <th colspan=\"2\" halign=\"left\">age</th>\n",
              "      <th colspan=\"2\" halign=\"left\">height</th>\n",
              "      <th colspan=\"2\" halign=\"left\">weight</th>\n",
              "    </tr>\n",
              "    <tr>\n",
              "      <th></th>\n",
              "      <th></th>\n",
              "      <th>status</th>\n",
              "      <th>amateur</th>\n",
              "      <th>professional</th>\n",
              "      <th>amateur</th>\n",
              "      <th>professional</th>\n",
              "      <th>amateur</th>\n",
              "      <th>professional</th>\n",
              "    </tr>\n",
              "    <tr>\n",
              "      <th>gender</th>\n",
              "      <th>sport</th>\n",
              "      <th>level</th>\n",
              "      <th></th>\n",
              "      <th></th>\n",
              "      <th></th>\n",
              "      <th></th>\n",
              "      <th></th>\n",
              "      <th></th>\n",
              "    </tr>\n",
              "  </thead>\n",
              "  <tbody>\n",
              "    <tr>\n",
              "      <th rowspan=\"3\" valign=\"top\">female</th>\n",
              "      <th rowspan=\"2\" valign=\"top\">tennis</th>\n",
              "      <th>high</th>\n",
              "      <td>NaN</td>\n",
              "      <td>24.0</td>\n",
              "      <td>NaN</td>\n",
              "      <td>172.0</td>\n",
              "      <td>NaN</td>\n",
              "      <td>58.0</td>\n",
              "    </tr>\n",
              "    <tr>\n",
              "      <th>low</th>\n",
              "      <td>NaN</td>\n",
              "      <td>26.0</td>\n",
              "      <td>NaN</td>\n",
              "      <td>175.0</td>\n",
              "      <td>NaN</td>\n",
              "      <td>62.0</td>\n",
              "    </tr>\n",
              "    <tr>\n",
              "      <th>voleyball</th>\n",
              "      <th>low</th>\n",
              "      <td>22.0</td>\n",
              "      <td>NaN</td>\n",
              "      <td>182.0</td>\n",
              "      <td>NaN</td>\n",
              "      <td>65.0</td>\n",
              "      <td>NaN</td>\n",
              "    </tr>\n",
              "    <tr>\n",
              "      <th rowspan=\"3\" valign=\"top\">male</th>\n",
              "      <th>basketball</th>\n",
              "      <th>low</th>\n",
              "      <td>21.0</td>\n",
              "      <td>NaN</td>\n",
              "      <td>196.0</td>\n",
              "      <td>NaN</td>\n",
              "      <td>90.0</td>\n",
              "      <td>NaN</td>\n",
              "    </tr>\n",
              "    <tr>\n",
              "      <th>football</th>\n",
              "      <th>high</th>\n",
              "      <td>23.0</td>\n",
              "      <td>NaN</td>\n",
              "      <td>178.0</td>\n",
              "      <td>NaN</td>\n",
              "      <td>80.0</td>\n",
              "      <td>NaN</td>\n",
              "    </tr>\n",
              "    <tr>\n",
              "      <th>tennis</th>\n",
              "      <th>high</th>\n",
              "      <td>NaN</td>\n",
              "      <td>20.0</td>\n",
              "      <td>NaN</td>\n",
              "      <td>185.0</td>\n",
              "      <td>NaN</td>\n",
              "      <td>83.0</td>\n",
              "    </tr>\n",
              "  </tbody>\n",
              "</table>\n",
              "</div>"
            ],
            "text/plain": [
              "                            age               height               weight  \\\n",
              "status                  amateur professional amateur professional amateur   \n",
              "gender sport      level                                                     \n",
              "female tennis     high      NaN         24.0     NaN        172.0     NaN   \n",
              "                  low       NaN         26.0     NaN        175.0     NaN   \n",
              "       voleyball  low      22.0          NaN   182.0          NaN    65.0   \n",
              "male   basketball low      21.0          NaN   196.0          NaN    90.0   \n",
              "       football   high     23.0          NaN   178.0          NaN    80.0   \n",
              "       tennis     high      NaN         20.0     NaN        185.0     NaN   \n",
              "\n",
              "                                      \n",
              "status                  professional  \n",
              "gender sport      level               \n",
              "female tennis     high          58.0  \n",
              "                  low           62.0  \n",
              "       voleyball  low            NaN  \n",
              "male   basketball low            NaN  \n",
              "       football   high           NaN  \n",
              "       tennis     high          83.0  "
            ]
          },
          "execution_count": 133,
          "metadata": {},
          "output_type": "execute_result"
        }
      ],
      "source": [
        "df8.stack()"
      ]
    },
    {
      "cell_type": "code",
      "execution_count": null,
      "metadata": {
        "id": "zs9rXFfg4wZQ",
        "outputId": "1b14a725-9691-4ee1-dd9a-e3f01f6f027c"
      },
      "outputs": [
        {
          "data": {
            "text/html": [
              "<div>\n",
              "<style scoped>\n",
              "    .dataframe tbody tr th:only-of-type {\n",
              "        vertical-align: middle;\n",
              "    }\n",
              "\n",
              "    .dataframe tbody tr th {\n",
              "        vertical-align: top;\n",
              "    }\n",
              "\n",
              "    .dataframe thead tr th {\n",
              "        text-align: left;\n",
              "    }\n",
              "\n",
              "    .dataframe thead tr:last-of-type th {\n",
              "        text-align: right;\n",
              "    }\n",
              "</style>\n",
              "<table border=\"1\" class=\"dataframe\">\n",
              "  <thead>\n",
              "    <tr>\n",
              "      <th></th>\n",
              "      <th></th>\n",
              "      <th></th>\n",
              "      <th colspan=\"2\" halign=\"left\">age</th>\n",
              "      <th colspan=\"2\" halign=\"left\">height</th>\n",
              "      <th colspan=\"2\" halign=\"left\">weight</th>\n",
              "    </tr>\n",
              "    <tr>\n",
              "      <th></th>\n",
              "      <th></th>\n",
              "      <th>level</th>\n",
              "      <th>high</th>\n",
              "      <th>low</th>\n",
              "      <th>high</th>\n",
              "      <th>low</th>\n",
              "      <th>high</th>\n",
              "      <th>low</th>\n",
              "    </tr>\n",
              "    <tr>\n",
              "      <th>gender</th>\n",
              "      <th>sport</th>\n",
              "      <th>status</th>\n",
              "      <th></th>\n",
              "      <th></th>\n",
              "      <th></th>\n",
              "      <th></th>\n",
              "      <th></th>\n",
              "      <th></th>\n",
              "    </tr>\n",
              "  </thead>\n",
              "  <tbody>\n",
              "    <tr>\n",
              "      <th rowspan=\"2\" valign=\"top\">female</th>\n",
              "      <th>tennis</th>\n",
              "      <th>professional</th>\n",
              "      <td>24.0</td>\n",
              "      <td>26.0</td>\n",
              "      <td>172.0</td>\n",
              "      <td>175.0</td>\n",
              "      <td>58.0</td>\n",
              "      <td>62.0</td>\n",
              "    </tr>\n",
              "    <tr>\n",
              "      <th>voleyball</th>\n",
              "      <th>amateur</th>\n",
              "      <td>NaN</td>\n",
              "      <td>22.0</td>\n",
              "      <td>NaN</td>\n",
              "      <td>182.0</td>\n",
              "      <td>NaN</td>\n",
              "      <td>65.0</td>\n",
              "    </tr>\n",
              "    <tr>\n",
              "      <th rowspan=\"3\" valign=\"top\">male</th>\n",
              "      <th>basketball</th>\n",
              "      <th>amateur</th>\n",
              "      <td>NaN</td>\n",
              "      <td>21.0</td>\n",
              "      <td>NaN</td>\n",
              "      <td>196.0</td>\n",
              "      <td>NaN</td>\n",
              "      <td>90.0</td>\n",
              "    </tr>\n",
              "    <tr>\n",
              "      <th>football</th>\n",
              "      <th>amateur</th>\n",
              "      <td>23.0</td>\n",
              "      <td>NaN</td>\n",
              "      <td>178.0</td>\n",
              "      <td>NaN</td>\n",
              "      <td>80.0</td>\n",
              "      <td>NaN</td>\n",
              "    </tr>\n",
              "    <tr>\n",
              "      <th>tennis</th>\n",
              "      <th>professional</th>\n",
              "      <td>20.0</td>\n",
              "      <td>NaN</td>\n",
              "      <td>185.0</td>\n",
              "      <td>NaN</td>\n",
              "      <td>83.0</td>\n",
              "      <td>NaN</td>\n",
              "    </tr>\n",
              "  </tbody>\n",
              "</table>\n",
              "</div>"
            ],
            "text/plain": [
              "                                 age       height        weight      \n",
              "level                           high   low   high    low   high   low\n",
              "gender sport      status                                             \n",
              "female tennis     professional  24.0  26.0  172.0  175.0   58.0  62.0\n",
              "       voleyball  amateur        NaN  22.0    NaN  182.0    NaN  65.0\n",
              "male   basketball amateur        NaN  21.0    NaN  196.0    NaN  90.0\n",
              "       football   amateur       23.0   NaN  178.0    NaN   80.0   NaN\n",
              "       tennis     professional  20.0   NaN  185.0    NaN   83.0   NaN"
            ]
          },
          "execution_count": 134,
          "metadata": {},
          "output_type": "execute_result"
        }
      ],
      "source": [
        "# try \"-1,-2,0,1,2\" as level parameter\n",
        "df8.stack(level=-2)"
      ]
    },
    {
      "cell_type": "code",
      "execution_count": null,
      "metadata": {
        "id": "pHw1pmuV4wZR",
        "outputId": "81cf5d82-1061-4b41-cfa2-a4f5bb400a13"
      },
      "outputs": [
        {
          "data": {
            "text/html": [
              "<div>\n",
              "<style scoped>\n",
              "    .dataframe tbody tr th:only-of-type {\n",
              "        vertical-align: middle;\n",
              "    }\n",
              "\n",
              "    .dataframe tbody tr th {\n",
              "        vertical-align: top;\n",
              "    }\n",
              "\n",
              "    .dataframe thead tr th {\n",
              "        text-align: left;\n",
              "    }\n",
              "\n",
              "    .dataframe thead tr:last-of-type th {\n",
              "        text-align: right;\n",
              "    }\n",
              "</style>\n",
              "<table border=\"1\" class=\"dataframe\">\n",
              "  <thead>\n",
              "    <tr>\n",
              "      <th></th>\n",
              "      <th></th>\n",
              "      <th></th>\n",
              "      <th colspan=\"2\" halign=\"left\">age</th>\n",
              "      <th colspan=\"2\" halign=\"left\">height</th>\n",
              "      <th colspan=\"2\" halign=\"left\">weight</th>\n",
              "    </tr>\n",
              "    <tr>\n",
              "      <th></th>\n",
              "      <th></th>\n",
              "      <th>status</th>\n",
              "      <th>amateur</th>\n",
              "      <th>professional</th>\n",
              "      <th>amateur</th>\n",
              "      <th>professional</th>\n",
              "      <th>amateur</th>\n",
              "      <th>professional</th>\n",
              "    </tr>\n",
              "    <tr>\n",
              "      <th>gender</th>\n",
              "      <th>sport</th>\n",
              "      <th>level</th>\n",
              "      <th></th>\n",
              "      <th></th>\n",
              "      <th></th>\n",
              "      <th></th>\n",
              "      <th></th>\n",
              "      <th></th>\n",
              "    </tr>\n",
              "  </thead>\n",
              "  <tbody>\n",
              "    <tr>\n",
              "      <th rowspan=\"4\" valign=\"top\">female</th>\n",
              "      <th rowspan=\"2\" valign=\"top\">tennis</th>\n",
              "      <th>high</th>\n",
              "      <td>NaN</td>\n",
              "      <td>24.0</td>\n",
              "      <td>NaN</td>\n",
              "      <td>172.0</td>\n",
              "      <td>NaN</td>\n",
              "      <td>58.0</td>\n",
              "    </tr>\n",
              "    <tr>\n",
              "      <th>low</th>\n",
              "      <td>NaN</td>\n",
              "      <td>26.0</td>\n",
              "      <td>NaN</td>\n",
              "      <td>175.0</td>\n",
              "      <td>NaN</td>\n",
              "      <td>62.0</td>\n",
              "    </tr>\n",
              "    <tr>\n",
              "      <th rowspan=\"2\" valign=\"top\">voleyball</th>\n",
              "      <th>high</th>\n",
              "      <td>NaN</td>\n",
              "      <td>NaN</td>\n",
              "      <td>NaN</td>\n",
              "      <td>NaN</td>\n",
              "      <td>NaN</td>\n",
              "      <td>NaN</td>\n",
              "    </tr>\n",
              "    <tr>\n",
              "      <th>low</th>\n",
              "      <td>22.0</td>\n",
              "      <td>NaN</td>\n",
              "      <td>182.0</td>\n",
              "      <td>NaN</td>\n",
              "      <td>65.0</td>\n",
              "      <td>NaN</td>\n",
              "    </tr>\n",
              "    <tr>\n",
              "      <th rowspan=\"6\" valign=\"top\">male</th>\n",
              "      <th rowspan=\"2\" valign=\"top\">basketball</th>\n",
              "      <th>high</th>\n",
              "      <td>NaN</td>\n",
              "      <td>NaN</td>\n",
              "      <td>NaN</td>\n",
              "      <td>NaN</td>\n",
              "      <td>NaN</td>\n",
              "      <td>NaN</td>\n",
              "    </tr>\n",
              "    <tr>\n",
              "      <th>low</th>\n",
              "      <td>21.0</td>\n",
              "      <td>NaN</td>\n",
              "      <td>196.0</td>\n",
              "      <td>NaN</td>\n",
              "      <td>90.0</td>\n",
              "      <td>NaN</td>\n",
              "    </tr>\n",
              "    <tr>\n",
              "      <th rowspan=\"2\" valign=\"top\">football</th>\n",
              "      <th>high</th>\n",
              "      <td>23.0</td>\n",
              "      <td>NaN</td>\n",
              "      <td>178.0</td>\n",
              "      <td>NaN</td>\n",
              "      <td>80.0</td>\n",
              "      <td>NaN</td>\n",
              "    </tr>\n",
              "    <tr>\n",
              "      <th>low</th>\n",
              "      <td>NaN</td>\n",
              "      <td>NaN</td>\n",
              "      <td>NaN</td>\n",
              "      <td>NaN</td>\n",
              "      <td>NaN</td>\n",
              "      <td>NaN</td>\n",
              "    </tr>\n",
              "    <tr>\n",
              "      <th rowspan=\"2\" valign=\"top\">tennis</th>\n",
              "      <th>high</th>\n",
              "      <td>NaN</td>\n",
              "      <td>20.0</td>\n",
              "      <td>NaN</td>\n",
              "      <td>185.0</td>\n",
              "      <td>NaN</td>\n",
              "      <td>83.0</td>\n",
              "    </tr>\n",
              "    <tr>\n",
              "      <th>low</th>\n",
              "      <td>NaN</td>\n",
              "      <td>NaN</td>\n",
              "      <td>NaN</td>\n",
              "      <td>NaN</td>\n",
              "      <td>NaN</td>\n",
              "      <td>NaN</td>\n",
              "    </tr>\n",
              "  </tbody>\n",
              "</table>\n",
              "</div>"
            ],
            "text/plain": [
              "                            age               height               weight  \\\n",
              "status                  amateur professional amateur professional amateur   \n",
              "gender sport      level                                                     \n",
              "female tennis     high      NaN         24.0     NaN        172.0     NaN   \n",
              "                  low       NaN         26.0     NaN        175.0     NaN   \n",
              "       voleyball  high      NaN          NaN     NaN          NaN     NaN   \n",
              "                  low      22.0          NaN   182.0          NaN    65.0   \n",
              "male   basketball high      NaN          NaN     NaN          NaN     NaN   \n",
              "                  low      21.0          NaN   196.0          NaN    90.0   \n",
              "       football   high     23.0          NaN   178.0          NaN    80.0   \n",
              "                  low       NaN          NaN     NaN          NaN     NaN   \n",
              "       tennis     high      NaN         20.0     NaN        185.0     NaN   \n",
              "                  low       NaN          NaN     NaN          NaN     NaN   \n",
              "\n",
              "                                      \n",
              "status                  professional  \n",
              "gender sport      level               \n",
              "female tennis     high          58.0  \n",
              "                  low           62.0  \n",
              "       voleyball  high           NaN  \n",
              "                  low            NaN  \n",
              "male   basketball high           NaN  \n",
              "                  low            NaN  \n",
              "       football   high           NaN  \n",
              "                  low            NaN  \n",
              "       tennis     high          83.0  \n",
              "                  low            NaN  "
            ]
          },
          "execution_count": 135,
          "metadata": {},
          "output_type": "execute_result"
        }
      ],
      "source": [
        "df8.stack(level=-1, dropna=False)"
      ]
    },
    {
      "cell_type": "code",
      "execution_count": null,
      "metadata": {
        "id": "32XW25ir4wZR",
        "outputId": "392b4017-c7fa-46a4-9262-ed934f9a17d5"
      },
      "outputs": [
        {
          "data": {
            "text/html": [
              "<div>\n",
              "<style scoped>\n",
              "    .dataframe tbody tr th:only-of-type {\n",
              "        vertical-align: middle;\n",
              "    }\n",
              "\n",
              "    .dataframe tbody tr th {\n",
              "        vertical-align: top;\n",
              "    }\n",
              "\n",
              "    .dataframe thead th {\n",
              "        text-align: right;\n",
              "    }\n",
              "</style>\n",
              "<table border=\"1\" class=\"dataframe\">\n",
              "  <thead>\n",
              "    <tr style=\"text-align: right;\">\n",
              "      <th></th>\n",
              "      <th></th>\n",
              "      <th></th>\n",
              "      <th></th>\n",
              "      <th>age</th>\n",
              "      <th>height</th>\n",
              "      <th>weight</th>\n",
              "    </tr>\n",
              "    <tr>\n",
              "      <th>gender</th>\n",
              "      <th>sport</th>\n",
              "      <th>level</th>\n",
              "      <th>status</th>\n",
              "      <th></th>\n",
              "      <th></th>\n",
              "      <th></th>\n",
              "    </tr>\n",
              "  </thead>\n",
              "  <tbody>\n",
              "    <tr>\n",
              "      <th rowspan=\"3\" valign=\"top\">female</th>\n",
              "      <th rowspan=\"2\" valign=\"top\">tennis</th>\n",
              "      <th>high</th>\n",
              "      <th>professional</th>\n",
              "      <td>24.0</td>\n",
              "      <td>172.0</td>\n",
              "      <td>58.0</td>\n",
              "    </tr>\n",
              "    <tr>\n",
              "      <th>low</th>\n",
              "      <th>professional</th>\n",
              "      <td>26.0</td>\n",
              "      <td>175.0</td>\n",
              "      <td>62.0</td>\n",
              "    </tr>\n",
              "    <tr>\n",
              "      <th>voleyball</th>\n",
              "      <th>low</th>\n",
              "      <th>amateur</th>\n",
              "      <td>22.0</td>\n",
              "      <td>182.0</td>\n",
              "      <td>65.0</td>\n",
              "    </tr>\n",
              "    <tr>\n",
              "      <th rowspan=\"3\" valign=\"top\">male</th>\n",
              "      <th>basketball</th>\n",
              "      <th>low</th>\n",
              "      <th>amateur</th>\n",
              "      <td>21.0</td>\n",
              "      <td>196.0</td>\n",
              "      <td>90.0</td>\n",
              "    </tr>\n",
              "    <tr>\n",
              "      <th>football</th>\n",
              "      <th>high</th>\n",
              "      <th>amateur</th>\n",
              "      <td>23.0</td>\n",
              "      <td>178.0</td>\n",
              "      <td>80.0</td>\n",
              "    </tr>\n",
              "    <tr>\n",
              "      <th>tennis</th>\n",
              "      <th>high</th>\n",
              "      <th>professional</th>\n",
              "      <td>20.0</td>\n",
              "      <td>185.0</td>\n",
              "      <td>83.0</td>\n",
              "    </tr>\n",
              "  </tbody>\n",
              "</table>\n",
              "</div>"
            ],
            "text/plain": [
              "                                       age  height  weight\n",
              "gender sport      level status                            \n",
              "female tennis     high  professional  24.0   172.0    58.0\n",
              "                  low   professional  26.0   175.0    62.0\n",
              "       voleyball  low   amateur       22.0   182.0    65.0\n",
              "male   basketball low   amateur       21.0   196.0    90.0\n",
              "       football   high  amateur       23.0   178.0    80.0\n",
              "       tennis     high  professional  20.0   185.0    83.0"
            ]
          },
          "execution_count": 136,
          "metadata": {},
          "output_type": "execute_result"
        }
      ],
      "source": [
        "df8.stack().stack()"
      ]
    },
    {
      "cell_type": "code",
      "execution_count": null,
      "metadata": {
        "id": "8hHKEOiI4wZR",
        "outputId": "c00993a7-352b-4155-95ab-832eaaf52d47"
      },
      "outputs": [
        {
          "data": {
            "text/plain": [
              "gender  sport       level  status              \n",
              "female  tennis      high   professional  age        24.0\n",
              "                                         height    172.0\n",
              "                                         weight     58.0\n",
              "                    low    professional  age        26.0\n",
              "                                         height    175.0\n",
              "                                         weight     62.0\n",
              "        voleyball   low    amateur       age        22.0\n",
              "                                         height    182.0\n",
              "                                         weight     65.0\n",
              "male    basketball  low    amateur       age        21.0\n",
              "                                         height    196.0\n",
              "                                         weight     90.0\n",
              "        football    high   amateur       age        23.0\n",
              "                                         height    178.0\n",
              "                                         weight     80.0\n",
              "        tennis      high   professional  age        20.0\n",
              "                                         height    185.0\n",
              "                                         weight     83.0\n",
              "dtype: float64"
            ]
          },
          "execution_count": 137,
          "metadata": {},
          "output_type": "execute_result"
        }
      ],
      "source": [
        "df8.stack().stack().stack()"
      ]
    },
    {
      "cell_type": "markdown",
      "metadata": {
        "id": "2HQb8JjT4wZR"
      },
      "source": [
        "**unstack()**\n",
        "- DataFrame.unstack(level=- 1, fill_value=None)\n",
        "- Pivot a level of the (necessarily hierarchical) index labels.\n",
        "- Returns a DataFrame having a new level of column labels whose inner-most level consists of the pivoted index labels.\n",
        "- If the index is not a MultiIndex, the output will be a Series."
      ]
    },
    {
      "cell_type": "code",
      "execution_count": null,
      "metadata": {
        "id": "pAFg9diD4wZR",
        "outputId": "01081320-75f7-4298-a4c2-1565591e97de"
      },
      "outputs": [
        {
          "data": {
            "text/html": [
              "<div>\n",
              "<style scoped>\n",
              "    .dataframe tbody tr th:only-of-type {\n",
              "        vertical-align: middle;\n",
              "    }\n",
              "\n",
              "    .dataframe tbody tr th {\n",
              "        vertical-align: top;\n",
              "    }\n",
              "\n",
              "    .dataframe thead tr th {\n",
              "        text-align: left;\n",
              "    }\n",
              "\n",
              "    .dataframe thead tr:last-of-type th {\n",
              "        text-align: right;\n",
              "    }\n",
              "</style>\n",
              "<table border=\"1\" class=\"dataframe\">\n",
              "  <thead>\n",
              "    <tr>\n",
              "      <th></th>\n",
              "      <th></th>\n",
              "      <th colspan=\"4\" halign=\"left\">age</th>\n",
              "      <th colspan=\"4\" halign=\"left\">height</th>\n",
              "      <th colspan=\"4\" halign=\"left\">weight</th>\n",
              "    </tr>\n",
              "    <tr>\n",
              "      <th></th>\n",
              "      <th>status</th>\n",
              "      <th colspan=\"2\" halign=\"left\">amateur</th>\n",
              "      <th colspan=\"2\" halign=\"left\">professional</th>\n",
              "      <th colspan=\"2\" halign=\"left\">amateur</th>\n",
              "      <th colspan=\"2\" halign=\"left\">professional</th>\n",
              "      <th colspan=\"2\" halign=\"left\">amateur</th>\n",
              "      <th colspan=\"2\" halign=\"left\">professional</th>\n",
              "    </tr>\n",
              "    <tr>\n",
              "      <th></th>\n",
              "      <th>level</th>\n",
              "      <th>high</th>\n",
              "      <th>low</th>\n",
              "      <th>high</th>\n",
              "      <th>low</th>\n",
              "      <th>high</th>\n",
              "      <th>low</th>\n",
              "      <th>high</th>\n",
              "      <th>low</th>\n",
              "      <th>high</th>\n",
              "      <th>low</th>\n",
              "      <th>high</th>\n",
              "      <th>low</th>\n",
              "    </tr>\n",
              "    <tr>\n",
              "      <th>gender</th>\n",
              "      <th>sport</th>\n",
              "      <th></th>\n",
              "      <th></th>\n",
              "      <th></th>\n",
              "      <th></th>\n",
              "      <th></th>\n",
              "      <th></th>\n",
              "      <th></th>\n",
              "      <th></th>\n",
              "      <th></th>\n",
              "      <th></th>\n",
              "      <th></th>\n",
              "      <th></th>\n",
              "    </tr>\n",
              "  </thead>\n",
              "  <tbody>\n",
              "    <tr>\n",
              "      <th rowspan=\"2\" valign=\"top\">female</th>\n",
              "      <th>tennis</th>\n",
              "      <td>NaN</td>\n",
              "      <td>NaN</td>\n",
              "      <td>24.0</td>\n",
              "      <td>26.0</td>\n",
              "      <td>NaN</td>\n",
              "      <td>NaN</td>\n",
              "      <td>172.0</td>\n",
              "      <td>175.0</td>\n",
              "      <td>NaN</td>\n",
              "      <td>NaN</td>\n",
              "      <td>58.0</td>\n",
              "      <td>62.0</td>\n",
              "    </tr>\n",
              "    <tr>\n",
              "      <th>voleyball</th>\n",
              "      <td>NaN</td>\n",
              "      <td>22.0</td>\n",
              "      <td>NaN</td>\n",
              "      <td>NaN</td>\n",
              "      <td>NaN</td>\n",
              "      <td>182.0</td>\n",
              "      <td>NaN</td>\n",
              "      <td>NaN</td>\n",
              "      <td>NaN</td>\n",
              "      <td>65.0</td>\n",
              "      <td>NaN</td>\n",
              "      <td>NaN</td>\n",
              "    </tr>\n",
              "    <tr>\n",
              "      <th rowspan=\"3\" valign=\"top\">male</th>\n",
              "      <th>basketball</th>\n",
              "      <td>NaN</td>\n",
              "      <td>21.0</td>\n",
              "      <td>NaN</td>\n",
              "      <td>NaN</td>\n",
              "      <td>NaN</td>\n",
              "      <td>196.0</td>\n",
              "      <td>NaN</td>\n",
              "      <td>NaN</td>\n",
              "      <td>NaN</td>\n",
              "      <td>90.0</td>\n",
              "      <td>NaN</td>\n",
              "      <td>NaN</td>\n",
              "    </tr>\n",
              "    <tr>\n",
              "      <th>football</th>\n",
              "      <td>23.0</td>\n",
              "      <td>NaN</td>\n",
              "      <td>NaN</td>\n",
              "      <td>NaN</td>\n",
              "      <td>178.0</td>\n",
              "      <td>NaN</td>\n",
              "      <td>NaN</td>\n",
              "      <td>NaN</td>\n",
              "      <td>80.0</td>\n",
              "      <td>NaN</td>\n",
              "      <td>NaN</td>\n",
              "      <td>NaN</td>\n",
              "    </tr>\n",
              "    <tr>\n",
              "      <th>tennis</th>\n",
              "      <td>NaN</td>\n",
              "      <td>NaN</td>\n",
              "      <td>20.0</td>\n",
              "      <td>NaN</td>\n",
              "      <td>NaN</td>\n",
              "      <td>NaN</td>\n",
              "      <td>185.0</td>\n",
              "      <td>NaN</td>\n",
              "      <td>NaN</td>\n",
              "      <td>NaN</td>\n",
              "      <td>83.0</td>\n",
              "      <td>NaN</td>\n",
              "    </tr>\n",
              "  </tbody>\n",
              "</table>\n",
              "</div>"
            ],
            "text/plain": [
              "                      age                           height         \\\n",
              "status            amateur       professional       amateur          \n",
              "level                high   low         high   low    high    low   \n",
              "gender sport                                                        \n",
              "female tennis         NaN   NaN         24.0  26.0     NaN    NaN   \n",
              "       voleyball      NaN  22.0          NaN   NaN     NaN  182.0   \n",
              "male   basketball     NaN  21.0          NaN   NaN     NaN  196.0   \n",
              "       football      23.0   NaN          NaN   NaN   178.0    NaN   \n",
              "       tennis         NaN   NaN         20.0   NaN     NaN    NaN   \n",
              "\n",
              "                                       weight                           \n",
              "status            professional        amateur       professional        \n",
              "level                     high    low    high   low         high   low  \n",
              "gender sport                                                            \n",
              "female tennis            172.0  175.0     NaN   NaN         58.0  62.0  \n",
              "       voleyball           NaN    NaN     NaN  65.0          NaN   NaN  \n",
              "male   basketball          NaN    NaN     NaN  90.0          NaN   NaN  \n",
              "       football            NaN    NaN    80.0   NaN          NaN   NaN  \n",
              "       tennis            185.0    NaN     NaN   NaN         83.0   NaN  "
            ]
          },
          "execution_count": 138,
          "metadata": {},
          "output_type": "execute_result"
        }
      ],
      "source": [
        "df8"
      ]
    },
    {
      "cell_type": "code",
      "execution_count": null,
      "metadata": {
        "id": "RV6mHOih4wZS",
        "outputId": "1d3c77e4-16ec-4866-aafb-597aa203a920"
      },
      "outputs": [
        {
          "data": {
            "text/html": [
              "<div>\n",
              "<style scoped>\n",
              "    .dataframe tbody tr th:only-of-type {\n",
              "        vertical-align: middle;\n",
              "    }\n",
              "\n",
              "    .dataframe tbody tr th {\n",
              "        vertical-align: top;\n",
              "    }\n",
              "\n",
              "    .dataframe thead tr th {\n",
              "        text-align: left;\n",
              "    }\n",
              "\n",
              "    .dataframe thead tr:last-of-type th {\n",
              "        text-align: right;\n",
              "    }\n",
              "</style>\n",
              "<table border=\"1\" class=\"dataframe\">\n",
              "  <thead>\n",
              "    <tr>\n",
              "      <th></th>\n",
              "      <th colspan=\"10\" halign=\"left\">age</th>\n",
              "      <th>...</th>\n",
              "      <th colspan=\"10\" halign=\"left\">weight</th>\n",
              "    </tr>\n",
              "    <tr>\n",
              "      <th>status</th>\n",
              "      <th colspan=\"8\" halign=\"left\">amateur</th>\n",
              "      <th colspan=\"2\" halign=\"left\">professional</th>\n",
              "      <th>...</th>\n",
              "      <th colspan=\"2\" halign=\"left\">amateur</th>\n",
              "      <th colspan=\"8\" halign=\"left\">professional</th>\n",
              "    </tr>\n",
              "    <tr>\n",
              "      <th>level</th>\n",
              "      <th colspan=\"4\" halign=\"left\">high</th>\n",
              "      <th colspan=\"4\" halign=\"left\">low</th>\n",
              "      <th colspan=\"2\" halign=\"left\">high</th>\n",
              "      <th>...</th>\n",
              "      <th colspan=\"2\" halign=\"left\">low</th>\n",
              "      <th colspan=\"4\" halign=\"left\">high</th>\n",
              "      <th colspan=\"4\" halign=\"left\">low</th>\n",
              "    </tr>\n",
              "    <tr>\n",
              "      <th>sport</th>\n",
              "      <th>basketball</th>\n",
              "      <th>football</th>\n",
              "      <th>tennis</th>\n",
              "      <th>voleyball</th>\n",
              "      <th>basketball</th>\n",
              "      <th>football</th>\n",
              "      <th>tennis</th>\n",
              "      <th>voleyball</th>\n",
              "      <th>basketball</th>\n",
              "      <th>football</th>\n",
              "      <th>...</th>\n",
              "      <th>tennis</th>\n",
              "      <th>voleyball</th>\n",
              "      <th>basketball</th>\n",
              "      <th>football</th>\n",
              "      <th>tennis</th>\n",
              "      <th>voleyball</th>\n",
              "      <th>basketball</th>\n",
              "      <th>football</th>\n",
              "      <th>tennis</th>\n",
              "      <th>voleyball</th>\n",
              "    </tr>\n",
              "    <tr>\n",
              "      <th>gender</th>\n",
              "      <th></th>\n",
              "      <th></th>\n",
              "      <th></th>\n",
              "      <th></th>\n",
              "      <th></th>\n",
              "      <th></th>\n",
              "      <th></th>\n",
              "      <th></th>\n",
              "      <th></th>\n",
              "      <th></th>\n",
              "      <th></th>\n",
              "      <th></th>\n",
              "      <th></th>\n",
              "      <th></th>\n",
              "      <th></th>\n",
              "      <th></th>\n",
              "      <th></th>\n",
              "      <th></th>\n",
              "      <th></th>\n",
              "      <th></th>\n",
              "      <th></th>\n",
              "    </tr>\n",
              "  </thead>\n",
              "  <tbody>\n",
              "    <tr>\n",
              "      <th>female</th>\n",
              "      <td>NaN</td>\n",
              "      <td>NaN</td>\n",
              "      <td>NaN</td>\n",
              "      <td>NaN</td>\n",
              "      <td>NaN</td>\n",
              "      <td>NaN</td>\n",
              "      <td>NaN</td>\n",
              "      <td>22.0</td>\n",
              "      <td>NaN</td>\n",
              "      <td>NaN</td>\n",
              "      <td>...</td>\n",
              "      <td>NaN</td>\n",
              "      <td>65.0</td>\n",
              "      <td>NaN</td>\n",
              "      <td>NaN</td>\n",
              "      <td>58.0</td>\n",
              "      <td>NaN</td>\n",
              "      <td>NaN</td>\n",
              "      <td>NaN</td>\n",
              "      <td>62.0</td>\n",
              "      <td>NaN</td>\n",
              "    </tr>\n",
              "    <tr>\n",
              "      <th>male</th>\n",
              "      <td>NaN</td>\n",
              "      <td>23.0</td>\n",
              "      <td>NaN</td>\n",
              "      <td>NaN</td>\n",
              "      <td>21.0</td>\n",
              "      <td>NaN</td>\n",
              "      <td>NaN</td>\n",
              "      <td>NaN</td>\n",
              "      <td>NaN</td>\n",
              "      <td>NaN</td>\n",
              "      <td>...</td>\n",
              "      <td>NaN</td>\n",
              "      <td>NaN</td>\n",
              "      <td>NaN</td>\n",
              "      <td>NaN</td>\n",
              "      <td>83.0</td>\n",
              "      <td>NaN</td>\n",
              "      <td>NaN</td>\n",
              "      <td>NaN</td>\n",
              "      <td>NaN</td>\n",
              "      <td>NaN</td>\n",
              "    </tr>\n",
              "  </tbody>\n",
              "</table>\n",
              "<p>2 rows × 48 columns</p>\n",
              "</div>"
            ],
            "text/plain": [
              "              age                                                       \\\n",
              "status    amateur                                                        \n",
              "level        high                                  low                   \n",
              "sport  basketball football tennis voleyball basketball football tennis   \n",
              "gender                                                                   \n",
              "female        NaN      NaN    NaN       NaN        NaN      NaN    NaN   \n",
              "male          NaN     23.0    NaN       NaN       21.0      NaN    NaN   \n",
              "\n",
              "                                        ...  weight                         \\\n",
              "status           professional           ... amateur           professional   \n",
              "level                    high           ...     low                   high   \n",
              "sport  voleyball   basketball football  ...  tennis voleyball   basketball   \n",
              "gender                                  ...                                  \n",
              "female      22.0          NaN      NaN  ...     NaN      65.0          NaN   \n",
              "male         NaN          NaN      NaN  ...     NaN       NaN          NaN   \n",
              "\n",
              "                                                                       \n",
              "status                                                                 \n",
              "level                                   low                            \n",
              "sport  football tennis voleyball basketball football tennis voleyball  \n",
              "gender                                                                 \n",
              "female      NaN   58.0       NaN        NaN      NaN   62.0       NaN  \n",
              "male        NaN   83.0       NaN        NaN      NaN    NaN       NaN  \n",
              "\n",
              "[2 rows x 48 columns]"
            ]
          },
          "execution_count": 139,
          "metadata": {},
          "output_type": "execute_result"
        }
      ],
      "source": [
        "df8.unstack()"
      ]
    },
    {
      "cell_type": "code",
      "execution_count": null,
      "metadata": {
        "id": "Hsnx6F5s4wZS",
        "outputId": "d30d2c7f-3b3b-49a2-fd29-f248b86b1648"
      },
      "outputs": [
        {
          "data": {
            "text/html": [
              "<div>\n",
              "<style scoped>\n",
              "    .dataframe tbody tr th:only-of-type {\n",
              "        vertical-align: middle;\n",
              "    }\n",
              "\n",
              "    .dataframe tbody tr th {\n",
              "        vertical-align: top;\n",
              "    }\n",
              "\n",
              "    .dataframe thead tr th {\n",
              "        text-align: left;\n",
              "    }\n",
              "\n",
              "    .dataframe thead tr:last-of-type th {\n",
              "        text-align: right;\n",
              "    }\n",
              "</style>\n",
              "<table border=\"1\" class=\"dataframe\">\n",
              "  <thead>\n",
              "    <tr>\n",
              "      <th></th>\n",
              "      <th colspan=\"10\" halign=\"left\">age</th>\n",
              "      <th>...</th>\n",
              "      <th colspan=\"10\" halign=\"left\">weight</th>\n",
              "    </tr>\n",
              "    <tr>\n",
              "      <th>status</th>\n",
              "      <th colspan=\"8\" halign=\"left\">amateur</th>\n",
              "      <th colspan=\"2\" halign=\"left\">professional</th>\n",
              "      <th>...</th>\n",
              "      <th colspan=\"2\" halign=\"left\">amateur</th>\n",
              "      <th colspan=\"8\" halign=\"left\">professional</th>\n",
              "    </tr>\n",
              "    <tr>\n",
              "      <th>level</th>\n",
              "      <th colspan=\"4\" halign=\"left\">high</th>\n",
              "      <th colspan=\"4\" halign=\"left\">low</th>\n",
              "      <th colspan=\"2\" halign=\"left\">high</th>\n",
              "      <th>...</th>\n",
              "      <th colspan=\"2\" halign=\"left\">low</th>\n",
              "      <th colspan=\"4\" halign=\"left\">high</th>\n",
              "      <th colspan=\"4\" halign=\"left\">low</th>\n",
              "    </tr>\n",
              "    <tr>\n",
              "      <th>sport</th>\n",
              "      <th>basketball</th>\n",
              "      <th>football</th>\n",
              "      <th>tennis</th>\n",
              "      <th>voleyball</th>\n",
              "      <th>basketball</th>\n",
              "      <th>football</th>\n",
              "      <th>tennis</th>\n",
              "      <th>voleyball</th>\n",
              "      <th>basketball</th>\n",
              "      <th>football</th>\n",
              "      <th>...</th>\n",
              "      <th>tennis</th>\n",
              "      <th>voleyball</th>\n",
              "      <th>basketball</th>\n",
              "      <th>football</th>\n",
              "      <th>tennis</th>\n",
              "      <th>voleyball</th>\n",
              "      <th>basketball</th>\n",
              "      <th>football</th>\n",
              "      <th>tennis</th>\n",
              "      <th>voleyball</th>\n",
              "    </tr>\n",
              "    <tr>\n",
              "      <th>gender</th>\n",
              "      <th></th>\n",
              "      <th></th>\n",
              "      <th></th>\n",
              "      <th></th>\n",
              "      <th></th>\n",
              "      <th></th>\n",
              "      <th></th>\n",
              "      <th></th>\n",
              "      <th></th>\n",
              "      <th></th>\n",
              "      <th></th>\n",
              "      <th></th>\n",
              "      <th></th>\n",
              "      <th></th>\n",
              "      <th></th>\n",
              "      <th></th>\n",
              "      <th></th>\n",
              "      <th></th>\n",
              "      <th></th>\n",
              "      <th></th>\n",
              "      <th></th>\n",
              "    </tr>\n",
              "  </thead>\n",
              "  <tbody>\n",
              "    <tr>\n",
              "      <th>female</th>\n",
              "      <td>NaN</td>\n",
              "      <td>NaN</td>\n",
              "      <td>NaN</td>\n",
              "      <td>NaN</td>\n",
              "      <td>NaN</td>\n",
              "      <td>NaN</td>\n",
              "      <td>NaN</td>\n",
              "      <td>22.0</td>\n",
              "      <td>NaN</td>\n",
              "      <td>NaN</td>\n",
              "      <td>...</td>\n",
              "      <td>NaN</td>\n",
              "      <td>65.0</td>\n",
              "      <td>NaN</td>\n",
              "      <td>NaN</td>\n",
              "      <td>58.0</td>\n",
              "      <td>NaN</td>\n",
              "      <td>NaN</td>\n",
              "      <td>NaN</td>\n",
              "      <td>62.0</td>\n",
              "      <td>NaN</td>\n",
              "    </tr>\n",
              "    <tr>\n",
              "      <th>male</th>\n",
              "      <td>NaN</td>\n",
              "      <td>23.0</td>\n",
              "      <td>NaN</td>\n",
              "      <td>NaN</td>\n",
              "      <td>21.0</td>\n",
              "      <td>NaN</td>\n",
              "      <td>NaN</td>\n",
              "      <td>NaN</td>\n",
              "      <td>NaN</td>\n",
              "      <td>NaN</td>\n",
              "      <td>...</td>\n",
              "      <td>NaN</td>\n",
              "      <td>NaN</td>\n",
              "      <td>NaN</td>\n",
              "      <td>NaN</td>\n",
              "      <td>83.0</td>\n",
              "      <td>NaN</td>\n",
              "      <td>NaN</td>\n",
              "      <td>NaN</td>\n",
              "      <td>NaN</td>\n",
              "      <td>NaN</td>\n",
              "    </tr>\n",
              "  </tbody>\n",
              "</table>\n",
              "<p>2 rows × 48 columns</p>\n",
              "</div>"
            ],
            "text/plain": [
              "              age                                                       \\\n",
              "status    amateur                                                        \n",
              "level        high                                  low                   \n",
              "sport  basketball football tennis voleyball basketball football tennis   \n",
              "gender                                                                   \n",
              "female        NaN      NaN    NaN       NaN        NaN      NaN    NaN   \n",
              "male          NaN     23.0    NaN       NaN       21.0      NaN    NaN   \n",
              "\n",
              "                                        ...  weight                         \\\n",
              "status           professional           ... amateur           professional   \n",
              "level                    high           ...     low                   high   \n",
              "sport  voleyball   basketball football  ...  tennis voleyball   basketball   \n",
              "gender                                  ...                                  \n",
              "female      22.0          NaN      NaN  ...     NaN      65.0          NaN   \n",
              "male         NaN          NaN      NaN  ...     NaN       NaN          NaN   \n",
              "\n",
              "                                                                       \n",
              "status                                                                 \n",
              "level                                   low                            \n",
              "sport  football tennis voleyball basketball football tennis voleyball  \n",
              "gender                                                                 \n",
              "female      NaN   58.0       NaN        NaN      NaN   62.0       NaN  \n",
              "male        NaN   83.0       NaN        NaN      NaN    NaN       NaN  \n",
              "\n",
              "[2 rows x 48 columns]"
            ]
          },
          "execution_count": 140,
          "metadata": {},
          "output_type": "execute_result"
        }
      ],
      "source": [
        "# try \"-1,0,1\" as level parameter\n",
        "df8.unstack(level=-1)"
      ]
    },
    {
      "cell_type": "code",
      "execution_count": null,
      "metadata": {
        "scrolled": true,
        "id": "C7P55ohc4wZS",
        "outputId": "e45e9c79-7011-45c9-fa20-0706a8b1004d"
      },
      "outputs": [
        {
          "data": {
            "text/html": [
              "<div>\n",
              "<style scoped>\n",
              "    .dataframe tbody tr th:only-of-type {\n",
              "        vertical-align: middle;\n",
              "    }\n",
              "\n",
              "    .dataframe tbody tr th {\n",
              "        vertical-align: top;\n",
              "    }\n",
              "\n",
              "    .dataframe thead tr th {\n",
              "        text-align: left;\n",
              "    }\n",
              "\n",
              "    .dataframe thead tr:last-of-type th {\n",
              "        text-align: right;\n",
              "    }\n",
              "</style>\n",
              "<table border=\"1\" class=\"dataframe\">\n",
              "  <thead>\n",
              "    <tr>\n",
              "      <th></th>\n",
              "      <th colspan=\"10\" halign=\"left\">age</th>\n",
              "      <th>...</th>\n",
              "      <th colspan=\"10\" halign=\"left\">weight</th>\n",
              "    </tr>\n",
              "    <tr>\n",
              "      <th>status</th>\n",
              "      <th colspan=\"8\" halign=\"left\">amateur</th>\n",
              "      <th colspan=\"2\" halign=\"left\">professional</th>\n",
              "      <th>...</th>\n",
              "      <th colspan=\"2\" halign=\"left\">amateur</th>\n",
              "      <th colspan=\"8\" halign=\"left\">professional</th>\n",
              "    </tr>\n",
              "    <tr>\n",
              "      <th>level</th>\n",
              "      <th colspan=\"4\" halign=\"left\">high</th>\n",
              "      <th colspan=\"4\" halign=\"left\">low</th>\n",
              "      <th colspan=\"2\" halign=\"left\">high</th>\n",
              "      <th>...</th>\n",
              "      <th colspan=\"2\" halign=\"left\">low</th>\n",
              "      <th colspan=\"4\" halign=\"left\">high</th>\n",
              "      <th colspan=\"4\" halign=\"left\">low</th>\n",
              "    </tr>\n",
              "    <tr>\n",
              "      <th>sport</th>\n",
              "      <th>basketball</th>\n",
              "      <th>football</th>\n",
              "      <th>tennis</th>\n",
              "      <th>voleyball</th>\n",
              "      <th>basketball</th>\n",
              "      <th>football</th>\n",
              "      <th>tennis</th>\n",
              "      <th>voleyball</th>\n",
              "      <th>basketball</th>\n",
              "      <th>football</th>\n",
              "      <th>...</th>\n",
              "      <th>tennis</th>\n",
              "      <th>voleyball</th>\n",
              "      <th>basketball</th>\n",
              "      <th>football</th>\n",
              "      <th>tennis</th>\n",
              "      <th>voleyball</th>\n",
              "      <th>basketball</th>\n",
              "      <th>football</th>\n",
              "      <th>tennis</th>\n",
              "      <th>voleyball</th>\n",
              "    </tr>\n",
              "    <tr>\n",
              "      <th>gender</th>\n",
              "      <th></th>\n",
              "      <th></th>\n",
              "      <th></th>\n",
              "      <th></th>\n",
              "      <th></th>\n",
              "      <th></th>\n",
              "      <th></th>\n",
              "      <th></th>\n",
              "      <th></th>\n",
              "      <th></th>\n",
              "      <th></th>\n",
              "      <th></th>\n",
              "      <th></th>\n",
              "      <th></th>\n",
              "      <th></th>\n",
              "      <th></th>\n",
              "      <th></th>\n",
              "      <th></th>\n",
              "      <th></th>\n",
              "      <th></th>\n",
              "      <th></th>\n",
              "    </tr>\n",
              "  </thead>\n",
              "  <tbody>\n",
              "    <tr>\n",
              "      <th>female</th>\n",
              "      <td>-</td>\n",
              "      <td>-</td>\n",
              "      <td>NaN</td>\n",
              "      <td>NaN</td>\n",
              "      <td>-</td>\n",
              "      <td>-</td>\n",
              "      <td>NaN</td>\n",
              "      <td>22.0</td>\n",
              "      <td>-</td>\n",
              "      <td>-</td>\n",
              "      <td>...</td>\n",
              "      <td>NaN</td>\n",
              "      <td>65.0</td>\n",
              "      <td>-</td>\n",
              "      <td>-</td>\n",
              "      <td>58.0</td>\n",
              "      <td>NaN</td>\n",
              "      <td>-</td>\n",
              "      <td>-</td>\n",
              "      <td>62.0</td>\n",
              "      <td>NaN</td>\n",
              "    </tr>\n",
              "    <tr>\n",
              "      <th>male</th>\n",
              "      <td>NaN</td>\n",
              "      <td>23.0</td>\n",
              "      <td>NaN</td>\n",
              "      <td>-</td>\n",
              "      <td>21.0</td>\n",
              "      <td>NaN</td>\n",
              "      <td>NaN</td>\n",
              "      <td>-</td>\n",
              "      <td>NaN</td>\n",
              "      <td>NaN</td>\n",
              "      <td>...</td>\n",
              "      <td>NaN</td>\n",
              "      <td>-</td>\n",
              "      <td>NaN</td>\n",
              "      <td>NaN</td>\n",
              "      <td>83.0</td>\n",
              "      <td>-</td>\n",
              "      <td>NaN</td>\n",
              "      <td>NaN</td>\n",
              "      <td>NaN</td>\n",
              "      <td>-</td>\n",
              "    </tr>\n",
              "  </tbody>\n",
              "</table>\n",
              "<p>2 rows × 48 columns</p>\n",
              "</div>"
            ],
            "text/plain": [
              "              age                                                       \\\n",
              "status    amateur                                                        \n",
              "level        high                                  low                   \n",
              "sport  basketball football tennis voleyball basketball football tennis   \n",
              "gender                                                                   \n",
              "female          -        -    NaN       NaN          -        -    NaN   \n",
              "male          NaN     23.0    NaN         -       21.0      NaN    NaN   \n",
              "\n",
              "                                        ...  weight                         \\\n",
              "status           professional           ... amateur           professional   \n",
              "level                    high           ...     low                   high   \n",
              "sport  voleyball   basketball football  ...  tennis voleyball   basketball   \n",
              "gender                                  ...                                  \n",
              "female      22.0            -        -  ...     NaN      65.0            -   \n",
              "male           -          NaN      NaN  ...     NaN         -          NaN   \n",
              "\n",
              "                                                                       \n",
              "status                                                                 \n",
              "level                                   low                            \n",
              "sport  football tennis voleyball basketball football tennis voleyball  \n",
              "gender                                                                 \n",
              "female        -   58.0       NaN          -        -   62.0       NaN  \n",
              "male        NaN   83.0         -        NaN      NaN    NaN         -  \n",
              "\n",
              "[2 rows x 48 columns]"
            ]
          },
          "execution_count": 141,
          "metadata": {},
          "output_type": "execute_result"
        }
      ],
      "source": [
        "df8.unstack(level=-1, fill_value=\"-\")"
      ]
    },
    {
      "cell_type": "code",
      "execution_count": null,
      "metadata": {
        "id": "obEW53sY4wZS",
        "outputId": "51498503-64ed-4c88-b576-0cd15cbaf12d"
      },
      "outputs": [
        {
          "data": {
            "text/plain": [
              "        status        level  sport       gender\n",
              "age     amateur       high   basketball  female     NaN\n",
              "                                         male       NaN\n",
              "                             football    female     NaN\n",
              "                                         male      23.0\n",
              "                             tennis      female     NaN\n",
              "                                                   ... \n",
              "weight  professional  low    football    male       NaN\n",
              "                             tennis      female    62.0\n",
              "                                         male       NaN\n",
              "                             voleyball   female     NaN\n",
              "                                         male       NaN\n",
              "Length: 96, dtype: float64"
            ]
          },
          "execution_count": 142,
          "metadata": {},
          "output_type": "execute_result"
        }
      ],
      "source": [
        "df8.unstack().unstack()"
      ]
    },
    {
      "cell_type": "code",
      "execution_count": null,
      "metadata": {
        "id": "_kMNrTaF4wZT",
        "outputId": "b3effa65-6d38-44fb-ded1-adfc6be0e5dd"
      },
      "outputs": [
        {
          "data": {
            "text/html": [
              "<div>\n",
              "<style scoped>\n",
              "    .dataframe tbody tr th:only-of-type {\n",
              "        vertical-align: middle;\n",
              "    }\n",
              "\n",
              "    .dataframe tbody tr th {\n",
              "        vertical-align: top;\n",
              "    }\n",
              "\n",
              "    .dataframe thead th {\n",
              "        text-align: right;\n",
              "    }\n",
              "</style>\n",
              "<table border=\"1\" class=\"dataframe\">\n",
              "  <thead>\n",
              "    <tr style=\"text-align: right;\">\n",
              "      <th></th>\n",
              "      <th></th>\n",
              "      <th></th>\n",
              "      <th></th>\n",
              "      <th></th>\n",
              "      <th>0</th>\n",
              "    </tr>\n",
              "    <tr>\n",
              "      <th></th>\n",
              "      <th>status</th>\n",
              "      <th>level</th>\n",
              "      <th>sport</th>\n",
              "      <th>gender</th>\n",
              "      <th></th>\n",
              "    </tr>\n",
              "  </thead>\n",
              "  <tbody>\n",
              "    <tr>\n",
              "      <th rowspan=\"5\" valign=\"top\">age</th>\n",
              "      <th rowspan=\"5\" valign=\"top\">amateur</th>\n",
              "      <th rowspan=\"5\" valign=\"top\">high</th>\n",
              "      <th rowspan=\"2\" valign=\"top\">basketball</th>\n",
              "      <th>female</th>\n",
              "      <td>NaN</td>\n",
              "    </tr>\n",
              "    <tr>\n",
              "      <th>male</th>\n",
              "      <td>NaN</td>\n",
              "    </tr>\n",
              "    <tr>\n",
              "      <th rowspan=\"2\" valign=\"top\">football</th>\n",
              "      <th>female</th>\n",
              "      <td>NaN</td>\n",
              "    </tr>\n",
              "    <tr>\n",
              "      <th>male</th>\n",
              "      <td>23.0</td>\n",
              "    </tr>\n",
              "    <tr>\n",
              "      <th>tennis</th>\n",
              "      <th>female</th>\n",
              "      <td>NaN</td>\n",
              "    </tr>\n",
              "    <tr>\n",
              "      <th>...</th>\n",
              "      <th>...</th>\n",
              "      <th>...</th>\n",
              "      <th>...</th>\n",
              "      <th>...</th>\n",
              "      <td>...</td>\n",
              "    </tr>\n",
              "    <tr>\n",
              "      <th rowspan=\"5\" valign=\"top\">weight</th>\n",
              "      <th rowspan=\"5\" valign=\"top\">professional</th>\n",
              "      <th rowspan=\"5\" valign=\"top\">low</th>\n",
              "      <th>football</th>\n",
              "      <th>male</th>\n",
              "      <td>NaN</td>\n",
              "    </tr>\n",
              "    <tr>\n",
              "      <th rowspan=\"2\" valign=\"top\">tennis</th>\n",
              "      <th>female</th>\n",
              "      <td>62.0</td>\n",
              "    </tr>\n",
              "    <tr>\n",
              "      <th>male</th>\n",
              "      <td>NaN</td>\n",
              "    </tr>\n",
              "    <tr>\n",
              "      <th rowspan=\"2\" valign=\"top\">voleyball</th>\n",
              "      <th>female</th>\n",
              "      <td>NaN</td>\n",
              "    </tr>\n",
              "    <tr>\n",
              "      <th>male</th>\n",
              "      <td>NaN</td>\n",
              "    </tr>\n",
              "  </tbody>\n",
              "</table>\n",
              "<p>96 rows × 1 columns</p>\n",
              "</div>"
            ],
            "text/plain": [
              "                                                0\n",
              "       status       level sport      gender      \n",
              "age    amateur      high  basketball female   NaN\n",
              "                                     male     NaN\n",
              "                          football   female   NaN\n",
              "                                     male    23.0\n",
              "                          tennis     female   NaN\n",
              "...                                           ...\n",
              "weight professional low   football   male     NaN\n",
              "                          tennis     female  62.0\n",
              "                                     male     NaN\n",
              "                          voleyball  female   NaN\n",
              "                                     male     NaN\n",
              "\n",
              "[96 rows x 1 columns]"
            ]
          },
          "execution_count": 143,
          "metadata": {},
          "output_type": "execute_result"
        }
      ],
      "source": [
        "pd.DataFrame(df8.unstack().unstack())"
      ]
    },
    {
      "cell_type": "code",
      "execution_count": null,
      "metadata": {
        "id": "9bul_mmp4wZT"
      },
      "outputs": [],
      "source": [
        ""
      ]
    }
  ],
  "metadata": {
    "colab": {
      "name": "DAwPy-S5-6 (Groupby,Aggregation,DataFrame_Operations,Pivot_Tables,Stack).ipynb",
      "provenance": [],
      "include_colab_link": true
    },
    "kernelspec": {
      "display_name": "Python 3",
      "language": "python",
      "name": "python3"
    },
    "language_info": {
      "codemirror_mode": {
        "name": "ipython",
        "version": 3
      },
      "file_extension": ".py",
      "mimetype": "text/x-python",
      "name": "python",
      "nbconvert_exporter": "python",
      "pygments_lexer": "ipython3",
      "version": "3.7.6"
    }
  },
  "nbformat": 4,
  "nbformat_minor": 0
}