{
  "cells": [
    {
      "cell_type": "markdown",
      "metadata": {
        "id": "view-in-github",
        "colab_type": "text"
      },
      "source": [
        "<a href=\"https://colab.research.google.com/github/coder-omer/Pandas/blob/main/DAwPy_S5_6_(Groupby%2CAggregation%2CDataFrame_Operations%2CPivot_Tables%2CStack).ipynb\" target=\"_parent\"><img src=\"https://colab.research.google.com/assets/colab-badge.svg\" alt=\"Open In Colab\"/></a>"
      ]
    },
    {
      "cell_type": "markdown",
      "metadata": {
        "id": "hwXN7av6QhlX"
      },
      "source": [
        "\n",
        "<p style=\"text-align: center;\"><img src=\"https://docs.google.com/uc?id=1lY0Uj5R04yMY3-ZppPWxqCr5pvBLYPnV\" class=\"img-fluid\" alt=\"CLRSWY\"></p>\n",
        "\n",
        "___"
      ]
    },
    {
      "cell_type": "markdown",
      "metadata": {
        "id": "m_8BzUhnQhld"
      },
      "source": [
        "<h1><p style=\"text-align: center;\">Pandas Lesson, Session - 5</p><h1>"
      ]
    },
    {
      "cell_type": "markdown",
      "metadata": {
        "id": "m-P4HnRXQhle"
      },
      "source": [
        "# Basic aggregation methods:\n",
        "\n",
        "* ``count()``\n",
        "* ``mean()``\n",
        "* ``median()``\n",
        "* ``min()``\n",
        "* ``max()``\n",
        "* ``std()``\n",
        "* ``var()``\n",
        "* ``sum()``\n",
        "* ``idxmin()``\n",
        "* ``idxmax()``\n",
        "* ``corr()``"
      ]
    },
    {
      "cell_type": "code",
      "execution_count": null,
      "metadata": {
        "id": "9fK0LEmHQhle"
      },
      "outputs": [],
      "source": [
        "import numpy as np\n",
        "import pandas as pd\n",
        "import seaborn as sns"
      ]
    },
    {
      "cell_type": "code",
      "execution_count": null,
      "metadata": {
        "id": "w8MrZhFAYOPW",
        "outputId": "223afd6f-ab51-4ca3-a61a-e98b95a7258e"
      },
      "outputs": [
        {
          "data": {
            "text/html": [
              "<div>\n",
              "<style scoped>\n",
              "    .dataframe tbody tr th:only-of-type {\n",
              "        vertical-align: middle;\n",
              "    }\n",
              "\n",
              "    .dataframe tbody tr th {\n",
              "        vertical-align: top;\n",
              "    }\n",
              "\n",
              "    .dataframe thead th {\n",
              "        text-align: right;\n",
              "    }\n",
              "</style>\n",
              "<table border=\"1\" class=\"dataframe\">\n",
              "  <thead>\n",
              "    <tr style=\"text-align: right;\">\n",
              "      <th></th>\n",
              "      <th>x1</th>\n",
              "      <th>x2</th>\n",
              "      <th>x3</th>\n",
              "      <th>x4</th>\n",
              "      <th>x5</th>\n",
              "    </tr>\n",
              "  </thead>\n",
              "  <tbody>\n",
              "    <tr>\n",
              "      <th>0</th>\n",
              "      <td>51</td>\n",
              "      <td>92</td>\n",
              "      <td>14</td>\n",
              "      <td>71</td>\n",
              "      <td>60</td>\n",
              "    </tr>\n",
              "    <tr>\n",
              "      <th>1</th>\n",
              "      <td>20</td>\n",
              "      <td>82</td>\n",
              "      <td>86</td>\n",
              "      <td>74</td>\n",
              "      <td>74</td>\n",
              "    </tr>\n",
              "    <tr>\n",
              "      <th>2</th>\n",
              "      <td>87</td>\n",
              "      <td>99</td>\n",
              "      <td>23</td>\n",
              "      <td>2</td>\n",
              "      <td>21</td>\n",
              "    </tr>\n",
              "    <tr>\n",
              "      <th>3</th>\n",
              "      <td>52</td>\n",
              "      <td>1</td>\n",
              "      <td>87</td>\n",
              "      <td>29</td>\n",
              "      <td>37</td>\n",
              "    </tr>\n",
              "    <tr>\n",
              "      <th>4</th>\n",
              "      <td>1</td>\n",
              "      <td>63</td>\n",
              "      <td>59</td>\n",
              "      <td>20</td>\n",
              "      <td>32</td>\n",
              "    </tr>\n",
              "    <tr>\n",
              "      <th>5</th>\n",
              "      <td>75</td>\n",
              "      <td>57</td>\n",
              "      <td>21</td>\n",
              "      <td>88</td>\n",
              "      <td>48</td>\n",
              "    </tr>\n",
              "    <tr>\n",
              "      <th>6</th>\n",
              "      <td>90</td>\n",
              "      <td>58</td>\n",
              "      <td>41</td>\n",
              "      <td>91</td>\n",
              "      <td>59</td>\n",
              "    </tr>\n",
              "  </tbody>\n",
              "</table>\n",
              "</div>"
            ],
            "text/plain": [
              "   x1  x2  x3  x4  x5\n",
              "0  51  92  14  71  60\n",
              "1  20  82  86  74  74\n",
              "2  87  99  23   2  21\n",
              "3  52   1  87  29  37\n",
              "4   1  63  59  20  32\n",
              "5  75  57  21  88  48\n",
              "6  90  58  41  91  59"
            ]
          },
          "execution_count": 2,
          "metadata": {},
          "output_type": "execute_result"
        }
      ],
      "source": [
        "np.random.seed(42)\n",
        "df = pd.DataFrame(np.random.randint(0,100,size=(7,5)),\n",
        "                  columns=[\"x1\",\"x2\",\"x3\",\"x4\",\"x5\"])\n",
        "df"
      ]
    },
    {
      "cell_type": "code",
      "execution_count": null,
      "metadata": {
        "id": "2dVNQZDeYOPX",
        "outputId": "6e85c1ab-ed3c-487d-a738-e1032e8974ea"
      },
      "outputs": [
        {
          "data": {
            "text/plain": [
              "x1    7\n",
              "x2    7\n",
              "x3    7\n",
              "x4    7\n",
              "x5    7\n",
              "dtype: int64"
            ]
          },
          "execution_count": 3,
          "metadata": {},
          "output_type": "execute_result"
        }
      ],
      "source": [
        "df.count()"
      ]
    },
    {
      "cell_type": "code",
      "execution_count": null,
      "metadata": {
        "id": "sUPHr_ERYOPY",
        "outputId": "960c9825-c7cc-482b-fdc4-7b6c0d4ac19f"
      },
      "outputs": [
        {
          "data": {
            "text/plain": [
              "7"
            ]
          },
          "execution_count": 4,
          "metadata": {},
          "output_type": "execute_result"
        }
      ],
      "source": [
        "df.x1.count()"
      ]
    },
    {
      "cell_type": "code",
      "execution_count": null,
      "metadata": {
        "id": "pCTAk0WeYOPZ",
        "outputId": "8ca5d275-5014-4538-c3bd-3fb7d225af82"
      },
      "outputs": [
        {
          "data": {
            "text/plain": [
              "x1    53.714286\n",
              "x2    64.571429\n",
              "x3    47.285714\n",
              "x4    53.571429\n",
              "x5    47.285714\n",
              "dtype: float64"
            ]
          },
          "execution_count": 5,
          "metadata": {},
          "output_type": "execute_result"
        }
      ],
      "source": [
        "df.mean()"
      ]
    },
    {
      "cell_type": "code",
      "execution_count": null,
      "metadata": {
        "id": "l0PFgT9_YOPa",
        "outputId": "6e312d24-79cd-4a84-ef22-c8c48c648b72"
      },
      "outputs": [
        {
          "data": {
            "text/plain": [
              "64.57142857142857"
            ]
          },
          "execution_count": 6,
          "metadata": {},
          "output_type": "execute_result"
        }
      ],
      "source": [
        "df.x2.mean()"
      ]
    },
    {
      "cell_type": "code",
      "execution_count": null,
      "metadata": {
        "id": "TwzRAHt6YOPb",
        "outputId": "be21d34d-47ae-45f2-efa5-6d481583a577"
      },
      "outputs": [
        {
          "data": {
            "text/plain": [
              "x1    52.0\n",
              "x2    63.0\n",
              "x3    41.0\n",
              "x4    71.0\n",
              "x5    48.0\n",
              "dtype: float64"
            ]
          },
          "execution_count": 7,
          "metadata": {},
          "output_type": "execute_result"
        }
      ],
      "source": [
        "df.median()"
      ]
    },
    {
      "cell_type": "code",
      "execution_count": null,
      "metadata": {
        "id": "TSdFn2_DYOPd",
        "outputId": "e9f1ed4d-5331-461c-f3e7-20bfbe8fd291"
      },
      "outputs": [
        {
          "data": {
            "text/plain": [
              "41.0"
            ]
          },
          "execution_count": 8,
          "metadata": {},
          "output_type": "execute_result"
        }
      ],
      "source": [
        "df.x3.median()"
      ]
    },
    {
      "cell_type": "code",
      "execution_count": null,
      "metadata": {
        "id": "Bg_atX9UYOPg",
        "outputId": "76b6a580-7041-4b47-c69d-eb681be17aec"
      },
      "outputs": [
        {
          "data": {
            "text/plain": [
              "x1     1\n",
              "x2     1\n",
              "x3    14\n",
              "x4     2\n",
              "x5    21\n",
              "dtype: int32"
            ]
          },
          "execution_count": 9,
          "metadata": {},
          "output_type": "execute_result"
        }
      ],
      "source": [
        "df.min()"
      ]
    },
    {
      "cell_type": "code",
      "execution_count": null,
      "metadata": {
        "id": "ItRItsrZYOPj",
        "outputId": "5e76cda5-6d6a-4c2b-e571-6b8c044811a1"
      },
      "outputs": [
        {
          "data": {
            "text/plain": [
              "2"
            ]
          },
          "execution_count": 10,
          "metadata": {},
          "output_type": "execute_result"
        }
      ],
      "source": [
        "df.x4.min()"
      ]
    },
    {
      "cell_type": "code",
      "execution_count": null,
      "metadata": {
        "id": "P-RH-c9WYOPk",
        "outputId": "ab9b9976-3fda-4ea6-d478-be78353f9dff"
      },
      "outputs": [
        {
          "data": {
            "text/plain": [
              "x1    4\n",
              "x2    3\n",
              "x3    0\n",
              "x4    2\n",
              "x5    2\n",
              "dtype: int64"
            ]
          },
          "execution_count": 11,
          "metadata": {},
          "output_type": "execute_result"
        }
      ],
      "source": [
        "df.idxmin()\n",
        "#df.argmin() # it gives an error"
      ]
    },
    {
      "cell_type": "code",
      "execution_count": null,
      "metadata": {
        "id": "20-Qj21EYOPk",
        "outputId": "4fff2ccc-57d6-48ac-eb14-97f3aca9caec"
      },
      "outputs": [
        {
          "data": {
            "text/plain": [
              "2"
            ]
          },
          "execution_count": 12,
          "metadata": {},
          "output_type": "execute_result"
        }
      ],
      "source": [
        "df.x5.idxmin()\n",
        "#df.x5.argmin()"
      ]
    },
    {
      "cell_type": "code",
      "execution_count": null,
      "metadata": {
        "id": "MaoEF-38YOPl",
        "outputId": "11012b28-b2e3-41a2-a679-a15403a2cb75"
      },
      "outputs": [
        {
          "data": {
            "text/plain": [
              "x1    33.673502\n",
              "x2    32.623392\n",
              "x3    30.663302\n",
              "x4    35.818325\n",
              "x5    18.454577\n",
              "dtype: float64"
            ]
          },
          "execution_count": 13,
          "metadata": {},
          "output_type": "execute_result"
        }
      ],
      "source": [
        "df.std()"
      ]
    },
    {
      "cell_type": "code",
      "execution_count": null,
      "metadata": {
        "id": "gZAAnRVHYOPl",
        "outputId": "0c555774-d5a6-4458-8b13-34b4c09f5618"
      },
      "outputs": [
        {
          "data": {
            "text/plain": [
              "x1    33.673502\n",
              "x2    32.623392\n",
              "dtype: float64"
            ]
          },
          "execution_count": 14,
          "metadata": {},
          "output_type": "execute_result"
        }
      ],
      "source": [
        "df[[\"x1\", \"x2\"]].std()"
      ]
    },
    {
      "cell_type": "code",
      "execution_count": null,
      "metadata": {
        "id": "ps2qPCqCYOPm",
        "outputId": "20de9a79-bf11-467f-c4bc-1a18cfa1f4f7"
      },
      "outputs": [
        {
          "data": {
            "text/plain": [
              "x1    1133.904762\n",
              "x2    1064.285714\n",
              "x3     940.238095\n",
              "x4    1282.952381\n",
              "x5     340.571429\n",
              "dtype: float64"
            ]
          },
          "execution_count": 15,
          "metadata": {},
          "output_type": "execute_result"
        }
      ],
      "source": [
        "df.var()"
      ]
    },
    {
      "cell_type": "code",
      "execution_count": null,
      "metadata": {
        "id": "G8AI4YnWYOPm",
        "outputId": "097ba32e-d335-4631-8609-efca0d7f66a6"
      },
      "outputs": [
        {
          "data": {
            "text/plain": [
              "x1    1133.904762\n",
              "x2    1064.285714\n",
              "dtype: float64"
            ]
          },
          "execution_count": 16,
          "metadata": {},
          "output_type": "execute_result"
        }
      ],
      "source": [
        "df[[\"x1\", \"x2\"]].var()"
      ]
    },
    {
      "cell_type": "code",
      "execution_count": null,
      "metadata": {
        "id": "YymCTW8oYOPn",
        "outputId": "c64ee972-1277-4f3d-8d54-2add41ccb1e6"
      },
      "outputs": [
        {
          "data": {
            "text/plain": [
              "x1    376\n",
              "x2    452\n",
              "x3    331\n",
              "x4    375\n",
              "x5    331\n",
              "dtype: int64"
            ]
          },
          "execution_count": 17,
          "metadata": {},
          "output_type": "execute_result"
        }
      ],
      "source": [
        "df.sum(axis=0)"
      ]
    },
    {
      "cell_type": "code",
      "execution_count": null,
      "metadata": {
        "id": "AAtN67TtYOPn",
        "outputId": "24a712c9-487f-41aa-f63c-c4e43b849c9a"
      },
      "outputs": [
        {
          "data": {
            "text/plain": [
              "0    288\n",
              "1    336\n",
              "2    232\n",
              "3    206\n",
              "4    175\n",
              "5    289\n",
              "6    339\n",
              "dtype: int64"
            ]
          },
          "execution_count": 18,
          "metadata": {},
          "output_type": "execute_result"
        }
      ],
      "source": [
        "df.sum(axis=1)"
      ]
    },
    {
      "cell_type": "code",
      "execution_count": null,
      "metadata": {
        "id": "0LgmwqQUYOPn",
        "outputId": "0ee4c6df-904d-4225-ef0a-39a8621db61a"
      },
      "outputs": [
        {
          "data": {
            "text/plain": [
              "376"
            ]
          },
          "execution_count": 19,
          "metadata": {},
          "output_type": "execute_result"
        }
      ],
      "source": [
        "df.x1.sum()"
      ]
    },
    {
      "cell_type": "code",
      "execution_count": null,
      "metadata": {
        "id": "9d0ngrBo5N03",
        "outputId": "eab7de88-f22b-4a1c-9ad0-579cf2a78750"
      },
      "outputs": [
        {
          "data": {
            "text/html": [
              "<div>\n",
              "<style scoped>\n",
              "    .dataframe tbody tr th:only-of-type {\n",
              "        vertical-align: middle;\n",
              "    }\n",
              "\n",
              "    .dataframe tbody tr th {\n",
              "        vertical-align: top;\n",
              "    }\n",
              "\n",
              "    .dataframe thead th {\n",
              "        text-align: right;\n",
              "    }\n",
              "</style>\n",
              "<table border=\"1\" class=\"dataframe\">\n",
              "  <thead>\n",
              "    <tr style=\"text-align: right;\">\n",
              "      <th></th>\n",
              "      <th>x1</th>\n",
              "      <th>x2</th>\n",
              "      <th>x3</th>\n",
              "      <th>x4</th>\n",
              "      <th>x5</th>\n",
              "    </tr>\n",
              "  </thead>\n",
              "  <tbody>\n",
              "    <tr>\n",
              "      <th>count</th>\n",
              "      <td>7.000000</td>\n",
              "      <td>7.000000</td>\n",
              "      <td>7.000000</td>\n",
              "      <td>7.000000</td>\n",
              "      <td>7.000000</td>\n",
              "    </tr>\n",
              "    <tr>\n",
              "      <th>mean</th>\n",
              "      <td>53.714286</td>\n",
              "      <td>64.571429</td>\n",
              "      <td>47.285714</td>\n",
              "      <td>53.571429</td>\n",
              "      <td>47.285714</td>\n",
              "    </tr>\n",
              "    <tr>\n",
              "      <th>std</th>\n",
              "      <td>33.673502</td>\n",
              "      <td>32.623392</td>\n",
              "      <td>30.663302</td>\n",
              "      <td>35.818325</td>\n",
              "      <td>18.454577</td>\n",
              "    </tr>\n",
              "    <tr>\n",
              "      <th>min</th>\n",
              "      <td>1.000000</td>\n",
              "      <td>1.000000</td>\n",
              "      <td>14.000000</td>\n",
              "      <td>2.000000</td>\n",
              "      <td>21.000000</td>\n",
              "    </tr>\n",
              "    <tr>\n",
              "      <th>25%</th>\n",
              "      <td>35.500000</td>\n",
              "      <td>57.500000</td>\n",
              "      <td>22.000000</td>\n",
              "      <td>24.500000</td>\n",
              "      <td>34.500000</td>\n",
              "    </tr>\n",
              "    <tr>\n",
              "      <th>50%</th>\n",
              "      <td>52.000000</td>\n",
              "      <td>63.000000</td>\n",
              "      <td>41.000000</td>\n",
              "      <td>71.000000</td>\n",
              "      <td>48.000000</td>\n",
              "    </tr>\n",
              "    <tr>\n",
              "      <th>75%</th>\n",
              "      <td>81.000000</td>\n",
              "      <td>87.000000</td>\n",
              "      <td>72.500000</td>\n",
              "      <td>81.000000</td>\n",
              "      <td>59.500000</td>\n",
              "    </tr>\n",
              "    <tr>\n",
              "      <th>max</th>\n",
              "      <td>90.000000</td>\n",
              "      <td>99.000000</td>\n",
              "      <td>87.000000</td>\n",
              "      <td>91.000000</td>\n",
              "      <td>74.000000</td>\n",
              "    </tr>\n",
              "  </tbody>\n",
              "</table>\n",
              "</div>"
            ],
            "text/plain": [
              "              x1         x2         x3         x4         x5\n",
              "count   7.000000   7.000000   7.000000   7.000000   7.000000\n",
              "mean   53.714286  64.571429  47.285714  53.571429  47.285714\n",
              "std    33.673502  32.623392  30.663302  35.818325  18.454577\n",
              "min     1.000000   1.000000  14.000000   2.000000  21.000000\n",
              "25%    35.500000  57.500000  22.000000  24.500000  34.500000\n",
              "50%    52.000000  63.000000  41.000000  71.000000  48.000000\n",
              "75%    81.000000  87.000000  72.500000  81.000000  59.500000\n",
              "max    90.000000  99.000000  87.000000  91.000000  74.000000"
            ]
          },
          "execution_count": 20,
          "metadata": {},
          "output_type": "execute_result"
        }
      ],
      "source": [
        "df.describe()"
      ]
    },
    {
      "cell_type": "code",
      "execution_count": null,
      "metadata": {
        "id": "UL8uJOO6Qhlk",
        "outputId": "6c7b56eb-0d7c-4fbe-e0ab-849639addca0"
      },
      "outputs": [
        {
          "data": {
            "text/html": [
              "<div>\n",
              "<style scoped>\n",
              "    .dataframe tbody tr th:only-of-type {\n",
              "        vertical-align: middle;\n",
              "    }\n",
              "\n",
              "    .dataframe tbody tr th {\n",
              "        vertical-align: top;\n",
              "    }\n",
              "\n",
              "    .dataframe thead th {\n",
              "        text-align: right;\n",
              "    }\n",
              "</style>\n",
              "<table border=\"1\" class=\"dataframe\">\n",
              "  <thead>\n",
              "    <tr style=\"text-align: right;\">\n",
              "      <th></th>\n",
              "      <th>count</th>\n",
              "      <th>mean</th>\n",
              "      <th>std</th>\n",
              "      <th>min</th>\n",
              "      <th>25%</th>\n",
              "      <th>50%</th>\n",
              "      <th>75%</th>\n",
              "      <th>max</th>\n",
              "    </tr>\n",
              "  </thead>\n",
              "  <tbody>\n",
              "    <tr>\n",
              "      <th>x1</th>\n",
              "      <td>7.0</td>\n",
              "      <td>53.714286</td>\n",
              "      <td>33.673502</td>\n",
              "      <td>1.0</td>\n",
              "      <td>35.5</td>\n",
              "      <td>52.0</td>\n",
              "      <td>81.0</td>\n",
              "      <td>90.0</td>\n",
              "    </tr>\n",
              "    <tr>\n",
              "      <th>x2</th>\n",
              "      <td>7.0</td>\n",
              "      <td>64.571429</td>\n",
              "      <td>32.623392</td>\n",
              "      <td>1.0</td>\n",
              "      <td>57.5</td>\n",
              "      <td>63.0</td>\n",
              "      <td>87.0</td>\n",
              "      <td>99.0</td>\n",
              "    </tr>\n",
              "    <tr>\n",
              "      <th>x3</th>\n",
              "      <td>7.0</td>\n",
              "      <td>47.285714</td>\n",
              "      <td>30.663302</td>\n",
              "      <td>14.0</td>\n",
              "      <td>22.0</td>\n",
              "      <td>41.0</td>\n",
              "      <td>72.5</td>\n",
              "      <td>87.0</td>\n",
              "    </tr>\n",
              "    <tr>\n",
              "      <th>x4</th>\n",
              "      <td>7.0</td>\n",
              "      <td>53.571429</td>\n",
              "      <td>35.818325</td>\n",
              "      <td>2.0</td>\n",
              "      <td>24.5</td>\n",
              "      <td>71.0</td>\n",
              "      <td>81.0</td>\n",
              "      <td>91.0</td>\n",
              "    </tr>\n",
              "    <tr>\n",
              "      <th>x5</th>\n",
              "      <td>7.0</td>\n",
              "      <td>47.285714</td>\n",
              "      <td>18.454577</td>\n",
              "      <td>21.0</td>\n",
              "      <td>34.5</td>\n",
              "      <td>48.0</td>\n",
              "      <td>59.5</td>\n",
              "      <td>74.0</td>\n",
              "    </tr>\n",
              "  </tbody>\n",
              "</table>\n",
              "</div>"
            ],
            "text/plain": [
              "    count       mean        std   min   25%   50%   75%   max\n",
              "x1    7.0  53.714286  33.673502   1.0  35.5  52.0  81.0  90.0\n",
              "x2    7.0  64.571429  32.623392   1.0  57.5  63.0  87.0  99.0\n",
              "x3    7.0  47.285714  30.663302  14.0  22.0  41.0  72.5  87.0\n",
              "x4    7.0  53.571429  35.818325   2.0  24.5  71.0  81.0  91.0\n",
              "x5    7.0  47.285714  18.454577  21.0  34.5  48.0  59.5  74.0"
            ]
          },
          "execution_count": 21,
          "metadata": {},
          "output_type": "execute_result"
        }
      ],
      "source": [
        "df.describe().T"
      ]
    },
    {
      "cell_type": "markdown",
      "metadata": {
        "collapsed": true,
        "id": "oK6Sr7bqQhle"
      },
      "source": [
        "# Groupby  & Aggregation\n",
        "\n",
        "## DataFrame.groupby()\n",
        "\n",
        "- The **groupby** method allows you to group rows of data together and call aggregate functions"
      ]
    },
    {
      "cell_type": "code",
      "execution_count": null,
      "metadata": {
        "colab": {
          "base_uri": "https://localhost:8080/",
          "height": 204
        },
        "id": "iv4o2TVWQhlf",
        "outputId": "8d0325a4-88b3-413f-ea87-84d0b4e345da"
      },
      "outputs": [
        {
          "data": {
            "text/html": [
              "<div>\n",
              "<style scoped>\n",
              "    .dataframe tbody tr th:only-of-type {\n",
              "        vertical-align: middle;\n",
              "    }\n",
              "\n",
              "    .dataframe tbody tr th {\n",
              "        vertical-align: top;\n",
              "    }\n",
              "\n",
              "    .dataframe thead th {\n",
              "        text-align: right;\n",
              "    }\n",
              "</style>\n",
              "<table border=\"1\" class=\"dataframe\">\n",
              "  <thead>\n",
              "    <tr style=\"text-align: right;\">\n",
              "      <th></th>\n",
              "      <th>sepal_length</th>\n",
              "      <th>sepal_width</th>\n",
              "      <th>petal_length</th>\n",
              "      <th>petal_width</th>\n",
              "      <th>species</th>\n",
              "    </tr>\n",
              "  </thead>\n",
              "  <tbody>\n",
              "    <tr>\n",
              "      <th>0</th>\n",
              "      <td>5.1</td>\n",
              "      <td>3.5</td>\n",
              "      <td>1.4</td>\n",
              "      <td>0.2</td>\n",
              "      <td>setosa</td>\n",
              "    </tr>\n",
              "    <tr>\n",
              "      <th>1</th>\n",
              "      <td>4.9</td>\n",
              "      <td>3.0</td>\n",
              "      <td>1.4</td>\n",
              "      <td>0.2</td>\n",
              "      <td>setosa</td>\n",
              "    </tr>\n",
              "    <tr>\n",
              "      <th>2</th>\n",
              "      <td>4.7</td>\n",
              "      <td>3.2</td>\n",
              "      <td>1.3</td>\n",
              "      <td>0.2</td>\n",
              "      <td>setosa</td>\n",
              "    </tr>\n",
              "    <tr>\n",
              "      <th>3</th>\n",
              "      <td>4.6</td>\n",
              "      <td>3.1</td>\n",
              "      <td>1.5</td>\n",
              "      <td>0.2</td>\n",
              "      <td>setosa</td>\n",
              "    </tr>\n",
              "    <tr>\n",
              "      <th>4</th>\n",
              "      <td>5.0</td>\n",
              "      <td>3.6</td>\n",
              "      <td>1.4</td>\n",
              "      <td>0.2</td>\n",
              "      <td>setosa</td>\n",
              "    </tr>\n",
              "    <tr>\n",
              "      <th>...</th>\n",
              "      <td>...</td>\n",
              "      <td>...</td>\n",
              "      <td>...</td>\n",
              "      <td>...</td>\n",
              "      <td>...</td>\n",
              "    </tr>\n",
              "    <tr>\n",
              "      <th>145</th>\n",
              "      <td>6.7</td>\n",
              "      <td>3.0</td>\n",
              "      <td>5.2</td>\n",
              "      <td>2.3</td>\n",
              "      <td>virginica</td>\n",
              "    </tr>\n",
              "    <tr>\n",
              "      <th>146</th>\n",
              "      <td>6.3</td>\n",
              "      <td>2.5</td>\n",
              "      <td>5.0</td>\n",
              "      <td>1.9</td>\n",
              "      <td>virginica</td>\n",
              "    </tr>\n",
              "    <tr>\n",
              "      <th>147</th>\n",
              "      <td>6.5</td>\n",
              "      <td>3.0</td>\n",
              "      <td>5.2</td>\n",
              "      <td>2.0</td>\n",
              "      <td>virginica</td>\n",
              "    </tr>\n",
              "    <tr>\n",
              "      <th>148</th>\n",
              "      <td>6.2</td>\n",
              "      <td>3.4</td>\n",
              "      <td>5.4</td>\n",
              "      <td>2.3</td>\n",
              "      <td>virginica</td>\n",
              "    </tr>\n",
              "    <tr>\n",
              "      <th>149</th>\n",
              "      <td>5.9</td>\n",
              "      <td>3.0</td>\n",
              "      <td>5.1</td>\n",
              "      <td>1.8</td>\n",
              "      <td>virginica</td>\n",
              "    </tr>\n",
              "  </tbody>\n",
              "</table>\n",
              "<p>150 rows × 5 columns</p>\n",
              "</div>"
            ],
            "text/plain": [
              "     sepal_length  sepal_width  petal_length  petal_width    species\n",
              "0             5.1          3.5           1.4          0.2     setosa\n",
              "1             4.9          3.0           1.4          0.2     setosa\n",
              "2             4.7          3.2           1.3          0.2     setosa\n",
              "3             4.6          3.1           1.5          0.2     setosa\n",
              "4             5.0          3.6           1.4          0.2     setosa\n",
              "..            ...          ...           ...          ...        ...\n",
              "145           6.7          3.0           5.2          2.3  virginica\n",
              "146           6.3          2.5           5.0          1.9  virginica\n",
              "147           6.5          3.0           5.2          2.0  virginica\n",
              "148           6.2          3.4           5.4          2.3  virginica\n",
              "149           5.9          3.0           5.1          1.8  virginica\n",
              "\n",
              "[150 rows x 5 columns]"
            ]
          },
          "execution_count": 22,
          "metadata": {},
          "output_type": "execute_result"
        }
      ],
      "source": [
        "df=sns.load_dataset('iris')\n",
        "df"
      ]
    },
    {
      "cell_type": "code",
      "execution_count": null,
      "metadata": {
        "id": "wd9v1fE5Qhlm",
        "outputId": "0d57a04d-6185-4260-f951-ae7925f601f7"
      },
      "outputs": [
        {
          "data": {
            "text/plain": [
              "<pandas.core.groupby.generic.DataFrameGroupBy object at 0x000002509AA11448>"
            ]
          },
          "execution_count": 23,
          "metadata": {},
          "output_type": "execute_result"
        }
      ],
      "source": [
        "df.groupby('species')"
      ]
    },
    {
      "cell_type": "code",
      "execution_count": null,
      "metadata": {
        "id": "iPoJyMr2Qhlm",
        "outputId": "721265ba-43ca-41b1-f820-d3fc9ac40c34",
        "scrolled": true
      },
      "outputs": [
        {
          "data": {
            "text/html": [
              "<div>\n",
              "<style scoped>\n",
              "    .dataframe tbody tr th:only-of-type {\n",
              "        vertical-align: middle;\n",
              "    }\n",
              "\n",
              "    .dataframe tbody tr th {\n",
              "        vertical-align: top;\n",
              "    }\n",
              "\n",
              "    .dataframe thead th {\n",
              "        text-align: right;\n",
              "    }\n",
              "</style>\n",
              "<table border=\"1\" class=\"dataframe\">\n",
              "  <thead>\n",
              "    <tr style=\"text-align: right;\">\n",
              "      <th></th>\n",
              "      <th>sepal_length</th>\n",
              "      <th>sepal_width</th>\n",
              "      <th>petal_length</th>\n",
              "      <th>petal_width</th>\n",
              "    </tr>\n",
              "    <tr>\n",
              "      <th>species</th>\n",
              "      <th></th>\n",
              "      <th></th>\n",
              "      <th></th>\n",
              "      <th></th>\n",
              "    </tr>\n",
              "  </thead>\n",
              "  <tbody>\n",
              "    <tr>\n",
              "      <th>setosa</th>\n",
              "      <td>5.006</td>\n",
              "      <td>3.428</td>\n",
              "      <td>1.462</td>\n",
              "      <td>0.246</td>\n",
              "    </tr>\n",
              "    <tr>\n",
              "      <th>versicolor</th>\n",
              "      <td>5.936</td>\n",
              "      <td>2.770</td>\n",
              "      <td>4.260</td>\n",
              "      <td>1.326</td>\n",
              "    </tr>\n",
              "    <tr>\n",
              "      <th>virginica</th>\n",
              "      <td>6.588</td>\n",
              "      <td>2.974</td>\n",
              "      <td>5.552</td>\n",
              "      <td>2.026</td>\n",
              "    </tr>\n",
              "  </tbody>\n",
              "</table>\n",
              "</div>"
            ],
            "text/plain": [
              "            sepal_length  sepal_width  petal_length  petal_width\n",
              "species                                                         \n",
              "setosa             5.006        3.428         1.462        0.246\n",
              "versicolor         5.936        2.770         4.260        1.326\n",
              "virginica          6.588        2.974         5.552        2.026"
            ]
          },
          "execution_count": 24,
          "metadata": {},
          "output_type": "execute_result"
        }
      ],
      "source": [
        "df.groupby(\"species\").mean()"
      ]
    },
    {
      "cell_type": "code",
      "execution_count": null,
      "metadata": {
        "id": "iBg6d-V1Qhln",
        "outputId": "536b3c98-9fff-4e5e-f0a0-9e099df2d261"
      },
      "outputs": [
        {
          "data": {
            "text/html": [
              "<div>\n",
              "<style scoped>\n",
              "    .dataframe tbody tr th:only-of-type {\n",
              "        vertical-align: middle;\n",
              "    }\n",
              "\n",
              "    .dataframe tbody tr th {\n",
              "        vertical-align: top;\n",
              "    }\n",
              "\n",
              "    .dataframe thead tr th {\n",
              "        text-align: left;\n",
              "    }\n",
              "\n",
              "    .dataframe thead tr:last-of-type th {\n",
              "        text-align: right;\n",
              "    }\n",
              "</style>\n",
              "<table border=\"1\" class=\"dataframe\">\n",
              "  <thead>\n",
              "    <tr>\n",
              "      <th></th>\n",
              "      <th colspan=\"8\" halign=\"left\">sepal_length</th>\n",
              "      <th colspan=\"2\" halign=\"left\">sepal_width</th>\n",
              "      <th>...</th>\n",
              "      <th colspan=\"2\" halign=\"left\">petal_length</th>\n",
              "      <th colspan=\"8\" halign=\"left\">petal_width</th>\n",
              "    </tr>\n",
              "    <tr>\n",
              "      <th></th>\n",
              "      <th>count</th>\n",
              "      <th>mean</th>\n",
              "      <th>std</th>\n",
              "      <th>min</th>\n",
              "      <th>25%</th>\n",
              "      <th>50%</th>\n",
              "      <th>75%</th>\n",
              "      <th>max</th>\n",
              "      <th>count</th>\n",
              "      <th>mean</th>\n",
              "      <th>...</th>\n",
              "      <th>75%</th>\n",
              "      <th>max</th>\n",
              "      <th>count</th>\n",
              "      <th>mean</th>\n",
              "      <th>std</th>\n",
              "      <th>min</th>\n",
              "      <th>25%</th>\n",
              "      <th>50%</th>\n",
              "      <th>75%</th>\n",
              "      <th>max</th>\n",
              "    </tr>\n",
              "    <tr>\n",
              "      <th>species</th>\n",
              "      <th></th>\n",
              "      <th></th>\n",
              "      <th></th>\n",
              "      <th></th>\n",
              "      <th></th>\n",
              "      <th></th>\n",
              "      <th></th>\n",
              "      <th></th>\n",
              "      <th></th>\n",
              "      <th></th>\n",
              "      <th></th>\n",
              "      <th></th>\n",
              "      <th></th>\n",
              "      <th></th>\n",
              "      <th></th>\n",
              "      <th></th>\n",
              "      <th></th>\n",
              "      <th></th>\n",
              "      <th></th>\n",
              "      <th></th>\n",
              "      <th></th>\n",
              "    </tr>\n",
              "  </thead>\n",
              "  <tbody>\n",
              "    <tr>\n",
              "      <th>setosa</th>\n",
              "      <td>50.0</td>\n",
              "      <td>5.006</td>\n",
              "      <td>0.352490</td>\n",
              "      <td>4.3</td>\n",
              "      <td>4.800</td>\n",
              "      <td>5.0</td>\n",
              "      <td>5.2</td>\n",
              "      <td>5.8</td>\n",
              "      <td>50.0</td>\n",
              "      <td>3.428</td>\n",
              "      <td>...</td>\n",
              "      <td>1.575</td>\n",
              "      <td>1.9</td>\n",
              "      <td>50.0</td>\n",
              "      <td>0.246</td>\n",
              "      <td>0.105386</td>\n",
              "      <td>0.1</td>\n",
              "      <td>0.2</td>\n",
              "      <td>0.2</td>\n",
              "      <td>0.3</td>\n",
              "      <td>0.6</td>\n",
              "    </tr>\n",
              "    <tr>\n",
              "      <th>versicolor</th>\n",
              "      <td>50.0</td>\n",
              "      <td>5.936</td>\n",
              "      <td>0.516171</td>\n",
              "      <td>4.9</td>\n",
              "      <td>5.600</td>\n",
              "      <td>5.9</td>\n",
              "      <td>6.3</td>\n",
              "      <td>7.0</td>\n",
              "      <td>50.0</td>\n",
              "      <td>2.770</td>\n",
              "      <td>...</td>\n",
              "      <td>4.600</td>\n",
              "      <td>5.1</td>\n",
              "      <td>50.0</td>\n",
              "      <td>1.326</td>\n",
              "      <td>0.197753</td>\n",
              "      <td>1.0</td>\n",
              "      <td>1.2</td>\n",
              "      <td>1.3</td>\n",
              "      <td>1.5</td>\n",
              "      <td>1.8</td>\n",
              "    </tr>\n",
              "    <tr>\n",
              "      <th>virginica</th>\n",
              "      <td>50.0</td>\n",
              "      <td>6.588</td>\n",
              "      <td>0.635880</td>\n",
              "      <td>4.9</td>\n",
              "      <td>6.225</td>\n",
              "      <td>6.5</td>\n",
              "      <td>6.9</td>\n",
              "      <td>7.9</td>\n",
              "      <td>50.0</td>\n",
              "      <td>2.974</td>\n",
              "      <td>...</td>\n",
              "      <td>5.875</td>\n",
              "      <td>6.9</td>\n",
              "      <td>50.0</td>\n",
              "      <td>2.026</td>\n",
              "      <td>0.274650</td>\n",
              "      <td>1.4</td>\n",
              "      <td>1.8</td>\n",
              "      <td>2.0</td>\n",
              "      <td>2.3</td>\n",
              "      <td>2.5</td>\n",
              "    </tr>\n",
              "  </tbody>\n",
              "</table>\n",
              "<p>3 rows × 32 columns</p>\n",
              "</div>"
            ],
            "text/plain": [
              "           sepal_length                                              \\\n",
              "                  count   mean       std  min    25%  50%  75%  max   \n",
              "species                                                               \n",
              "setosa             50.0  5.006  0.352490  4.3  4.800  5.0  5.2  5.8   \n",
              "versicolor         50.0  5.936  0.516171  4.9  5.600  5.9  6.3  7.0   \n",
              "virginica          50.0  6.588  0.635880  4.9  6.225  6.5  6.9  7.9   \n",
              "\n",
              "           sepal_width         ... petal_length      petal_width         \\\n",
              "                 count   mean  ...          75%  max       count   mean   \n",
              "species                        ...                                        \n",
              "setosa            50.0  3.428  ...        1.575  1.9        50.0  0.246   \n",
              "versicolor        50.0  2.770  ...        4.600  5.1        50.0  1.326   \n",
              "virginica         50.0  2.974  ...        5.875  6.9        50.0  2.026   \n",
              "\n",
              "                                               \n",
              "                 std  min  25%  50%  75%  max  \n",
              "species                                        \n",
              "setosa      0.105386  0.1  0.2  0.2  0.3  0.6  \n",
              "versicolor  0.197753  1.0  1.2  1.3  1.5  1.8  \n",
              "virginica   0.274650  1.4  1.8  2.0  2.3  2.5  \n",
              "\n",
              "[3 rows x 32 columns]"
            ]
          },
          "execution_count": 25,
          "metadata": {},
          "output_type": "execute_result"
        }
      ],
      "source": [
        "df.groupby(\"species\").describe()"
      ]
    },
    {
      "cell_type": "code",
      "execution_count": null,
      "metadata": {
        "id": "Dt1PEVqhYOPr",
        "outputId": "a0fa1d06-f369-43d3-8c65-63dbbfcaf696"
      },
      "outputs": [
        {
          "data": {
            "text/html": [
              "<div>\n",
              "<style scoped>\n",
              "    .dataframe tbody tr th:only-of-type {\n",
              "        vertical-align: middle;\n",
              "    }\n",
              "\n",
              "    .dataframe tbody tr th {\n",
              "        vertical-align: top;\n",
              "    }\n",
              "\n",
              "    .dataframe thead th {\n",
              "        text-align: right;\n",
              "    }\n",
              "</style>\n",
              "<table border=\"1\" class=\"dataframe\">\n",
              "  <thead>\n",
              "    <tr style=\"text-align: right;\">\n",
              "      <th></th>\n",
              "      <th>species</th>\n",
              "      <th>setosa</th>\n",
              "      <th>versicolor</th>\n",
              "      <th>virginica</th>\n",
              "    </tr>\n",
              "  </thead>\n",
              "  <tbody>\n",
              "    <tr>\n",
              "      <th rowspan=\"8\" valign=\"top\">sepal_length</th>\n",
              "      <th>count</th>\n",
              "      <td>50.000000</td>\n",
              "      <td>50.000000</td>\n",
              "      <td>50.000000</td>\n",
              "    </tr>\n",
              "    <tr>\n",
              "      <th>mean</th>\n",
              "      <td>5.006000</td>\n",
              "      <td>5.936000</td>\n",
              "      <td>6.588000</td>\n",
              "    </tr>\n",
              "    <tr>\n",
              "      <th>std</th>\n",
              "      <td>0.352490</td>\n",
              "      <td>0.516171</td>\n",
              "      <td>0.635880</td>\n",
              "    </tr>\n",
              "    <tr>\n",
              "      <th>min</th>\n",
              "      <td>4.300000</td>\n",
              "      <td>4.900000</td>\n",
              "      <td>4.900000</td>\n",
              "    </tr>\n",
              "    <tr>\n",
              "      <th>25%</th>\n",
              "      <td>4.800000</td>\n",
              "      <td>5.600000</td>\n",
              "      <td>6.225000</td>\n",
              "    </tr>\n",
              "    <tr>\n",
              "      <th>50%</th>\n",
              "      <td>5.000000</td>\n",
              "      <td>5.900000</td>\n",
              "      <td>6.500000</td>\n",
              "    </tr>\n",
              "    <tr>\n",
              "      <th>75%</th>\n",
              "      <td>5.200000</td>\n",
              "      <td>6.300000</td>\n",
              "      <td>6.900000</td>\n",
              "    </tr>\n",
              "    <tr>\n",
              "      <th>max</th>\n",
              "      <td>5.800000</td>\n",
              "      <td>7.000000</td>\n",
              "      <td>7.900000</td>\n",
              "    </tr>\n",
              "    <tr>\n",
              "      <th rowspan=\"8\" valign=\"top\">sepal_width</th>\n",
              "      <th>count</th>\n",
              "      <td>50.000000</td>\n",
              "      <td>50.000000</td>\n",
              "      <td>50.000000</td>\n",
              "    </tr>\n",
              "    <tr>\n",
              "      <th>mean</th>\n",
              "      <td>3.428000</td>\n",
              "      <td>2.770000</td>\n",
              "      <td>2.974000</td>\n",
              "    </tr>\n",
              "    <tr>\n",
              "      <th>std</th>\n",
              "      <td>0.379064</td>\n",
              "      <td>0.313798</td>\n",
              "      <td>0.322497</td>\n",
              "    </tr>\n",
              "    <tr>\n",
              "      <th>min</th>\n",
              "      <td>2.300000</td>\n",
              "      <td>2.000000</td>\n",
              "      <td>2.200000</td>\n",
              "    </tr>\n",
              "    <tr>\n",
              "      <th>25%</th>\n",
              "      <td>3.200000</td>\n",
              "      <td>2.525000</td>\n",
              "      <td>2.800000</td>\n",
              "    </tr>\n",
              "    <tr>\n",
              "      <th>50%</th>\n",
              "      <td>3.400000</td>\n",
              "      <td>2.800000</td>\n",
              "      <td>3.000000</td>\n",
              "    </tr>\n",
              "    <tr>\n",
              "      <th>75%</th>\n",
              "      <td>3.675000</td>\n",
              "      <td>3.000000</td>\n",
              "      <td>3.175000</td>\n",
              "    </tr>\n",
              "    <tr>\n",
              "      <th>max</th>\n",
              "      <td>4.400000</td>\n",
              "      <td>3.400000</td>\n",
              "      <td>3.800000</td>\n",
              "    </tr>\n",
              "    <tr>\n",
              "      <th rowspan=\"8\" valign=\"top\">petal_length</th>\n",
              "      <th>count</th>\n",
              "      <td>50.000000</td>\n",
              "      <td>50.000000</td>\n",
              "      <td>50.000000</td>\n",
              "    </tr>\n",
              "    <tr>\n",
              "      <th>mean</th>\n",
              "      <td>1.462000</td>\n",
              "      <td>4.260000</td>\n",
              "      <td>5.552000</td>\n",
              "    </tr>\n",
              "    <tr>\n",
              "      <th>std</th>\n",
              "      <td>0.173664</td>\n",
              "      <td>0.469911</td>\n",
              "      <td>0.551895</td>\n",
              "    </tr>\n",
              "    <tr>\n",
              "      <th>min</th>\n",
              "      <td>1.000000</td>\n",
              "      <td>3.000000</td>\n",
              "      <td>4.500000</td>\n",
              "    </tr>\n",
              "    <tr>\n",
              "      <th>25%</th>\n",
              "      <td>1.400000</td>\n",
              "      <td>4.000000</td>\n",
              "      <td>5.100000</td>\n",
              "    </tr>\n",
              "    <tr>\n",
              "      <th>50%</th>\n",
              "      <td>1.500000</td>\n",
              "      <td>4.350000</td>\n",
              "      <td>5.550000</td>\n",
              "    </tr>\n",
              "    <tr>\n",
              "      <th>75%</th>\n",
              "      <td>1.575000</td>\n",
              "      <td>4.600000</td>\n",
              "      <td>5.875000</td>\n",
              "    </tr>\n",
              "    <tr>\n",
              "      <th>max</th>\n",
              "      <td>1.900000</td>\n",
              "      <td>5.100000</td>\n",
              "      <td>6.900000</td>\n",
              "    </tr>\n",
              "    <tr>\n",
              "      <th rowspan=\"8\" valign=\"top\">petal_width</th>\n",
              "      <th>count</th>\n",
              "      <td>50.000000</td>\n",
              "      <td>50.000000</td>\n",
              "      <td>50.000000</td>\n",
              "    </tr>\n",
              "    <tr>\n",
              "      <th>mean</th>\n",
              "      <td>0.246000</td>\n",
              "      <td>1.326000</td>\n",
              "      <td>2.026000</td>\n",
              "    </tr>\n",
              "    <tr>\n",
              "      <th>std</th>\n",
              "      <td>0.105386</td>\n",
              "      <td>0.197753</td>\n",
              "      <td>0.274650</td>\n",
              "    </tr>\n",
              "    <tr>\n",
              "      <th>min</th>\n",
              "      <td>0.100000</td>\n",
              "      <td>1.000000</td>\n",
              "      <td>1.400000</td>\n",
              "    </tr>\n",
              "    <tr>\n",
              "      <th>25%</th>\n",
              "      <td>0.200000</td>\n",
              "      <td>1.200000</td>\n",
              "      <td>1.800000</td>\n",
              "    </tr>\n",
              "    <tr>\n",
              "      <th>50%</th>\n",
              "      <td>0.200000</td>\n",
              "      <td>1.300000</td>\n",
              "      <td>2.000000</td>\n",
              "    </tr>\n",
              "    <tr>\n",
              "      <th>75%</th>\n",
              "      <td>0.300000</td>\n",
              "      <td>1.500000</td>\n",
              "      <td>2.300000</td>\n",
              "    </tr>\n",
              "    <tr>\n",
              "      <th>max</th>\n",
              "      <td>0.600000</td>\n",
              "      <td>1.800000</td>\n",
              "      <td>2.500000</td>\n",
              "    </tr>\n",
              "  </tbody>\n",
              "</table>\n",
              "</div>"
            ],
            "text/plain": [
              "species                setosa  versicolor  virginica\n",
              "sepal_length count  50.000000   50.000000  50.000000\n",
              "             mean    5.006000    5.936000   6.588000\n",
              "             std     0.352490    0.516171   0.635880\n",
              "             min     4.300000    4.900000   4.900000\n",
              "             25%     4.800000    5.600000   6.225000\n",
              "             50%     5.000000    5.900000   6.500000\n",
              "             75%     5.200000    6.300000   6.900000\n",
              "             max     5.800000    7.000000   7.900000\n",
              "sepal_width  count  50.000000   50.000000  50.000000\n",
              "             mean    3.428000    2.770000   2.974000\n",
              "             std     0.379064    0.313798   0.322497\n",
              "             min     2.300000    2.000000   2.200000\n",
              "             25%     3.200000    2.525000   2.800000\n",
              "             50%     3.400000    2.800000   3.000000\n",
              "             75%     3.675000    3.000000   3.175000\n",
              "             max     4.400000    3.400000   3.800000\n",
              "petal_length count  50.000000   50.000000  50.000000\n",
              "             mean    1.462000    4.260000   5.552000\n",
              "             std     0.173664    0.469911   0.551895\n",
              "             min     1.000000    3.000000   4.500000\n",
              "             25%     1.400000    4.000000   5.100000\n",
              "             50%     1.500000    4.350000   5.550000\n",
              "             75%     1.575000    4.600000   5.875000\n",
              "             max     1.900000    5.100000   6.900000\n",
              "petal_width  count  50.000000   50.000000  50.000000\n",
              "             mean    0.246000    1.326000   2.026000\n",
              "             std     0.105386    0.197753   0.274650\n",
              "             min     0.100000    1.000000   1.400000\n",
              "             25%     0.200000    1.200000   1.800000\n",
              "             50%     0.200000    1.300000   2.000000\n",
              "             75%     0.300000    1.500000   2.300000\n",
              "             max     0.600000    1.800000   2.500000"
            ]
          },
          "execution_count": 26,
          "metadata": {},
          "output_type": "execute_result"
        }
      ],
      "source": [
        "df.groupby(\"species\").describe().T"
      ]
    },
    {
      "cell_type": "code",
      "execution_count": null,
      "metadata": {
        "id": "bb5cC956Qhln",
        "outputId": "55762cee-488f-48ef-d442-0ac3be966d5b"
      },
      "outputs": [
        {
          "data": {
            "text/plain": [
              "species\n",
              "setosa        250.3\n",
              "versicolor    296.8\n",
              "virginica     329.4\n",
              "Name: sepal_length, dtype: float64"
            ]
          },
          "execution_count": 27,
          "metadata": {},
          "output_type": "execute_result"
        }
      ],
      "source": [
        "df.groupby('species')['sepal_length'].sum()"
      ]
    },
    {
      "cell_type": "code",
      "execution_count": null,
      "metadata": {
        "id": "dzh1GqfiYOPr",
        "outputId": "dfe63fa0-df1f-4466-eadb-82a7c526bdf5"
      },
      "outputs": [
        {
          "data": {
            "text/html": [
              "<div>\n",
              "<style scoped>\n",
              "    .dataframe tbody tr th:only-of-type {\n",
              "        vertical-align: middle;\n",
              "    }\n",
              "\n",
              "    .dataframe tbody tr th {\n",
              "        vertical-align: top;\n",
              "    }\n",
              "\n",
              "    .dataframe thead th {\n",
              "        text-align: right;\n",
              "    }\n",
              "</style>\n",
              "<table border=\"1\" class=\"dataframe\">\n",
              "  <thead>\n",
              "    <tr style=\"text-align: right;\">\n",
              "      <th></th>\n",
              "      <th>sepal_length</th>\n",
              "    </tr>\n",
              "    <tr>\n",
              "      <th>species</th>\n",
              "      <th></th>\n",
              "    </tr>\n",
              "  </thead>\n",
              "  <tbody>\n",
              "    <tr>\n",
              "      <th>setosa</th>\n",
              "      <td>250.3</td>\n",
              "    </tr>\n",
              "    <tr>\n",
              "      <th>versicolor</th>\n",
              "      <td>296.8</td>\n",
              "    </tr>\n",
              "    <tr>\n",
              "      <th>virginica</th>\n",
              "      <td>329.4</td>\n",
              "    </tr>\n",
              "  </tbody>\n",
              "</table>\n",
              "</div>"
            ],
            "text/plain": [
              "            sepal_length\n",
              "species                 \n",
              "setosa             250.3\n",
              "versicolor         296.8\n",
              "virginica          329.4"
            ]
          },
          "execution_count": 28,
          "metadata": {},
          "output_type": "execute_result"
        }
      ],
      "source": [
        "df.groupby('species')[['sepal_length']].sum()"
      ]
    },
    {
      "cell_type": "code",
      "execution_count": null,
      "metadata": {
        "id": "a5yx6CwlYOPr",
        "outputId": "ef30686f-0c51-4058-e710-ab8fb57bcc2a"
      },
      "outputs": [
        {
          "data": {
            "text/html": [
              "<div>\n",
              "<style scoped>\n",
              "    .dataframe tbody tr th:only-of-type {\n",
              "        vertical-align: middle;\n",
              "    }\n",
              "\n",
              "    .dataframe tbody tr th {\n",
              "        vertical-align: top;\n",
              "    }\n",
              "\n",
              "    .dataframe thead th {\n",
              "        text-align: right;\n",
              "    }\n",
              "</style>\n",
              "<table border=\"1\" class=\"dataframe\">\n",
              "  <thead>\n",
              "    <tr style=\"text-align: right;\">\n",
              "      <th></th>\n",
              "      <th>sepal_length</th>\n",
              "      <th>sepal_width</th>\n",
              "    </tr>\n",
              "    <tr>\n",
              "      <th>species</th>\n",
              "      <th></th>\n",
              "      <th></th>\n",
              "    </tr>\n",
              "  </thead>\n",
              "  <tbody>\n",
              "    <tr>\n",
              "      <th>setosa</th>\n",
              "      <td>250.3</td>\n",
              "      <td>171.4</td>\n",
              "    </tr>\n",
              "    <tr>\n",
              "      <th>versicolor</th>\n",
              "      <td>296.8</td>\n",
              "      <td>138.5</td>\n",
              "    </tr>\n",
              "    <tr>\n",
              "      <th>virginica</th>\n",
              "      <td>329.4</td>\n",
              "      <td>148.7</td>\n",
              "    </tr>\n",
              "  </tbody>\n",
              "</table>\n",
              "</div>"
            ],
            "text/plain": [
              "            sepal_length  sepal_width\n",
              "species                              \n",
              "setosa             250.3        171.4\n",
              "versicolor         296.8        138.5\n",
              "virginica          329.4        148.7"
            ]
          },
          "execution_count": 29,
          "metadata": {},
          "output_type": "execute_result"
        }
      ],
      "source": [
        "df.groupby('species')[['sepal_length', \"sepal_width\"]].sum()"
      ]
    },
    {
      "cell_type": "code",
      "execution_count": null,
      "metadata": {
        "id": "Dh_9hF51Qhlo"
      },
      "outputs": [],
      "source": [
        "data = {'Company':['GOOG', 'GOOG', 'MSFT', 'MSFT', 'GOOG', 'MSFT', 'GOOG', 'MSFT'],\n",
        "        'Department':['HR', 'IT', 'IT', 'HR', 'HR', 'IT', 'IT', 'HR'],\n",
        "        'Person':['Sam', 'Charlie', 'Amy', 'Vanessa', 'Carl', 'Sarah', 'Tom', 'Terry'],\n",
        "        'Age':[30, 28, 35, 40, 42, 25, 32, 48],\n",
        "        'Sales':[200, 120, 340, 124, 243, 350, 180, 220]}"
      ]
    },
    {
      "cell_type": "code",
      "execution_count": null,
      "metadata": {
        "id": "hFkiMs2yQhlo",
        "outputId": "29e70cbb-c127-4dd1-ba76-f3be81dfa15f"
      },
      "outputs": [
        {
          "data": {
            "text/html": [
              "<div>\n",
              "<style scoped>\n",
              "    .dataframe tbody tr th:only-of-type {\n",
              "        vertical-align: middle;\n",
              "    }\n",
              "\n",
              "    .dataframe tbody tr th {\n",
              "        vertical-align: top;\n",
              "    }\n",
              "\n",
              "    .dataframe thead th {\n",
              "        text-align: right;\n",
              "    }\n",
              "</style>\n",
              "<table border=\"1\" class=\"dataframe\">\n",
              "  <thead>\n",
              "    <tr style=\"text-align: right;\">\n",
              "      <th></th>\n",
              "      <th>Company</th>\n",
              "      <th>Department</th>\n",
              "      <th>Person</th>\n",
              "      <th>Age</th>\n",
              "      <th>Sales</th>\n",
              "    </tr>\n",
              "  </thead>\n",
              "  <tbody>\n",
              "    <tr>\n",
              "      <th>0</th>\n",
              "      <td>GOOG</td>\n",
              "      <td>HR</td>\n",
              "      <td>Sam</td>\n",
              "      <td>30</td>\n",
              "      <td>200</td>\n",
              "    </tr>\n",
              "    <tr>\n",
              "      <th>1</th>\n",
              "      <td>GOOG</td>\n",
              "      <td>IT</td>\n",
              "      <td>Charlie</td>\n",
              "      <td>28</td>\n",
              "      <td>120</td>\n",
              "    </tr>\n",
              "    <tr>\n",
              "      <th>2</th>\n",
              "      <td>MSFT</td>\n",
              "      <td>IT</td>\n",
              "      <td>Amy</td>\n",
              "      <td>35</td>\n",
              "      <td>340</td>\n",
              "    </tr>\n",
              "    <tr>\n",
              "      <th>3</th>\n",
              "      <td>MSFT</td>\n",
              "      <td>HR</td>\n",
              "      <td>Vanessa</td>\n",
              "      <td>40</td>\n",
              "      <td>124</td>\n",
              "    </tr>\n",
              "    <tr>\n",
              "      <th>4</th>\n",
              "      <td>GOOG</td>\n",
              "      <td>HR</td>\n",
              "      <td>Carl</td>\n",
              "      <td>42</td>\n",
              "      <td>243</td>\n",
              "    </tr>\n",
              "    <tr>\n",
              "      <th>5</th>\n",
              "      <td>MSFT</td>\n",
              "      <td>IT</td>\n",
              "      <td>Sarah</td>\n",
              "      <td>25</td>\n",
              "      <td>350</td>\n",
              "    </tr>\n",
              "    <tr>\n",
              "      <th>6</th>\n",
              "      <td>GOOG</td>\n",
              "      <td>IT</td>\n",
              "      <td>Tom</td>\n",
              "      <td>32</td>\n",
              "      <td>180</td>\n",
              "    </tr>\n",
              "    <tr>\n",
              "      <th>7</th>\n",
              "      <td>MSFT</td>\n",
              "      <td>HR</td>\n",
              "      <td>Terry</td>\n",
              "      <td>48</td>\n",
              "      <td>220</td>\n",
              "    </tr>\n",
              "  </tbody>\n",
              "</table>\n",
              "</div>"
            ],
            "text/plain": [
              "  Company Department   Person  Age  Sales\n",
              "0    GOOG         HR      Sam   30    200\n",
              "1    GOOG         IT  Charlie   28    120\n",
              "2    MSFT         IT      Amy   35    340\n",
              "3    MSFT         HR  Vanessa   40    124\n",
              "4    GOOG         HR     Carl   42    243\n",
              "5    MSFT         IT    Sarah   25    350\n",
              "6    GOOG         IT      Tom   32    180\n",
              "7    MSFT         HR    Terry   48    220"
            ]
          },
          "execution_count": 31,
          "metadata": {},
          "output_type": "execute_result"
        }
      ],
      "source": [
        "df1 = pd.DataFrame(data)\n",
        "df1"
      ]
    },
    {
      "cell_type": "code",
      "execution_count": null,
      "metadata": {
        "id": "cihZklIyYOPt",
        "outputId": "5f960688-d208-4e6f-d1ec-fbad52a058c9"
      },
      "outputs": [
        {
          "data": {
            "text/html": [
              "<div>\n",
              "<style scoped>\n",
              "    .dataframe tbody tr th:only-of-type {\n",
              "        vertical-align: middle;\n",
              "    }\n",
              "\n",
              "    .dataframe tbody tr th {\n",
              "        vertical-align: top;\n",
              "    }\n",
              "\n",
              "    .dataframe thead th {\n",
              "        text-align: right;\n",
              "    }\n",
              "</style>\n",
              "<table border=\"1\" class=\"dataframe\">\n",
              "  <thead>\n",
              "    <tr style=\"text-align: right;\">\n",
              "      <th></th>\n",
              "      <th>Age</th>\n",
              "      <th>Sales</th>\n",
              "    </tr>\n",
              "    <tr>\n",
              "      <th>Company</th>\n",
              "      <th></th>\n",
              "      <th></th>\n",
              "    </tr>\n",
              "  </thead>\n",
              "  <tbody>\n",
              "    <tr>\n",
              "      <th>GOOG</th>\n",
              "      <td>33.0</td>\n",
              "      <td>185.75</td>\n",
              "    </tr>\n",
              "    <tr>\n",
              "      <th>MSFT</th>\n",
              "      <td>37.0</td>\n",
              "      <td>258.50</td>\n",
              "    </tr>\n",
              "  </tbody>\n",
              "</table>\n",
              "</div>"
            ],
            "text/plain": [
              "          Age   Sales\n",
              "Company              \n",
              "GOOG     33.0  185.75\n",
              "MSFT     37.0  258.50"
            ]
          },
          "execution_count": 32,
          "metadata": {},
          "output_type": "execute_result"
        }
      ],
      "source": [
        "df1.groupby('Company').mean()"
      ]
    },
    {
      "cell_type": "code",
      "execution_count": null,
      "metadata": {
        "id": "C24fcvOjYOPt",
        "outputId": "476d5377-4a3a-429a-d2b5-52522aa0cc7d"
      },
      "outputs": [
        {
          "data": {
            "text/plain": [
              "Company\n",
              "GOOG    185.75\n",
              "MSFT    258.50\n",
              "Name: Sales, dtype: float64"
            ]
          },
          "execution_count": 33,
          "metadata": {},
          "output_type": "execute_result"
        }
      ],
      "source": [
        "df1.groupby('Company')[\"Sales\"].mean()"
      ]
    },
    {
      "cell_type": "code",
      "execution_count": null,
      "metadata": {
        "id": "JUcoOHKGYOPt",
        "outputId": "cd338cbb-07a6-4889-a49b-88cbeb745863"
      },
      "outputs": [
        {
          "data": {
            "text/html": [
              "<div>\n",
              "<style scoped>\n",
              "    .dataframe tbody tr th:only-of-type {\n",
              "        vertical-align: middle;\n",
              "    }\n",
              "\n",
              "    .dataframe tbody tr th {\n",
              "        vertical-align: top;\n",
              "    }\n",
              "\n",
              "    .dataframe thead th {\n",
              "        text-align: right;\n",
              "    }\n",
              "</style>\n",
              "<table border=\"1\" class=\"dataframe\">\n",
              "  <thead>\n",
              "    <tr style=\"text-align: right;\">\n",
              "      <th></th>\n",
              "      <th>Sales</th>\n",
              "    </tr>\n",
              "    <tr>\n",
              "      <th>Company</th>\n",
              "      <th></th>\n",
              "    </tr>\n",
              "  </thead>\n",
              "  <tbody>\n",
              "    <tr>\n",
              "      <th>GOOG</th>\n",
              "      <td>185.75</td>\n",
              "    </tr>\n",
              "    <tr>\n",
              "      <th>MSFT</th>\n",
              "      <td>258.50</td>\n",
              "    </tr>\n",
              "  </tbody>\n",
              "</table>\n",
              "</div>"
            ],
            "text/plain": [
              "          Sales\n",
              "Company        \n",
              "GOOG     185.75\n",
              "MSFT     258.50"
            ]
          },
          "execution_count": 34,
          "metadata": {},
          "output_type": "execute_result"
        }
      ],
      "source": [
        "df1.groupby('Company')[[\"Sales\"]].mean()"
      ]
    },
    {
      "cell_type": "code",
      "execution_count": null,
      "metadata": {
        "id": "OTNYnKtEYOPu",
        "outputId": "319bf189-80b8-48b2-abd0-633fa354cfab"
      },
      "outputs": [
        {
          "data": {
            "text/html": [
              "<div>\n",
              "<style scoped>\n",
              "    .dataframe tbody tr th:only-of-type {\n",
              "        vertical-align: middle;\n",
              "    }\n",
              "\n",
              "    .dataframe tbody tr th {\n",
              "        vertical-align: top;\n",
              "    }\n",
              "\n",
              "    .dataframe thead th {\n",
              "        text-align: right;\n",
              "    }\n",
              "</style>\n",
              "<table border=\"1\" class=\"dataframe\">\n",
              "  <thead>\n",
              "    <tr style=\"text-align: right;\">\n",
              "      <th></th>\n",
              "      <th></th>\n",
              "      <th>Age</th>\n",
              "      <th>Sales</th>\n",
              "    </tr>\n",
              "    <tr>\n",
              "      <th>Company</th>\n",
              "      <th>Department</th>\n",
              "      <th></th>\n",
              "      <th></th>\n",
              "    </tr>\n",
              "  </thead>\n",
              "  <tbody>\n",
              "    <tr>\n",
              "      <th rowspan=\"2\" valign=\"top\">GOOG</th>\n",
              "      <th>HR</th>\n",
              "      <td>36.0</td>\n",
              "      <td>221.5</td>\n",
              "    </tr>\n",
              "    <tr>\n",
              "      <th>IT</th>\n",
              "      <td>30.0</td>\n",
              "      <td>150.0</td>\n",
              "    </tr>\n",
              "    <tr>\n",
              "      <th rowspan=\"2\" valign=\"top\">MSFT</th>\n",
              "      <th>HR</th>\n",
              "      <td>44.0</td>\n",
              "      <td>172.0</td>\n",
              "    </tr>\n",
              "    <tr>\n",
              "      <th>IT</th>\n",
              "      <td>30.0</td>\n",
              "      <td>345.0</td>\n",
              "    </tr>\n",
              "  </tbody>\n",
              "</table>\n",
              "</div>"
            ],
            "text/plain": [
              "                     Age  Sales\n",
              "Company Department             \n",
              "GOOG    HR          36.0  221.5\n",
              "        IT          30.0  150.0\n",
              "MSFT    HR          44.0  172.0\n",
              "        IT          30.0  345.0"
            ]
          },
          "execution_count": 35,
          "metadata": {},
          "output_type": "execute_result"
        }
      ],
      "source": [
        "df1.groupby(['Company', \"Department\"]).mean()"
      ]
    },
    {
      "cell_type": "code",
      "execution_count": null,
      "metadata": {
        "id": "gK3LFPJRYOPu",
        "outputId": "84a052dc-ffc7-47a9-cbcd-a54f23b11070"
      },
      "outputs": [
        {
          "data": {
            "text/html": [
              "<div>\n",
              "<style scoped>\n",
              "    .dataframe tbody tr th:only-of-type {\n",
              "        vertical-align: middle;\n",
              "    }\n",
              "\n",
              "    .dataframe tbody tr th {\n",
              "        vertical-align: top;\n",
              "    }\n",
              "\n",
              "    .dataframe thead th {\n",
              "        text-align: right;\n",
              "    }\n",
              "</style>\n",
              "<table border=\"1\" class=\"dataframe\">\n",
              "  <thead>\n",
              "    <tr style=\"text-align: right;\">\n",
              "      <th></th>\n",
              "      <th></th>\n",
              "      <th>Sales</th>\n",
              "    </tr>\n",
              "    <tr>\n",
              "      <th>Company</th>\n",
              "      <th>Department</th>\n",
              "      <th></th>\n",
              "    </tr>\n",
              "  </thead>\n",
              "  <tbody>\n",
              "    <tr>\n",
              "      <th rowspan=\"2\" valign=\"top\">GOOG</th>\n",
              "      <th>HR</th>\n",
              "      <td>221.5</td>\n",
              "    </tr>\n",
              "    <tr>\n",
              "      <th>IT</th>\n",
              "      <td>150.0</td>\n",
              "    </tr>\n",
              "    <tr>\n",
              "      <th rowspan=\"2\" valign=\"top\">MSFT</th>\n",
              "      <th>HR</th>\n",
              "      <td>172.0</td>\n",
              "    </tr>\n",
              "    <tr>\n",
              "      <th>IT</th>\n",
              "      <td>345.0</td>\n",
              "    </tr>\n",
              "  </tbody>\n",
              "</table>\n",
              "</div>"
            ],
            "text/plain": [
              "                    Sales\n",
              "Company Department       \n",
              "GOOG    HR          221.5\n",
              "        IT          150.0\n",
              "MSFT    HR          172.0\n",
              "        IT          345.0"
            ]
          },
          "execution_count": 36,
          "metadata": {},
          "output_type": "execute_result"
        }
      ],
      "source": [
        "df1.groupby(['Company', \"Department\"])[[\"Sales\"]].mean()"
      ]
    },
    {
      "cell_type": "code",
      "execution_count": null,
      "metadata": {
        "id": "ON7SgdZiQhlr",
        "outputId": "e79be85c-b30a-4474-f8e1-f524bde967bd"
      },
      "outputs": [
        {
          "data": {
            "text/html": [
              "<div>\n",
              "<style scoped>\n",
              "    .dataframe tbody tr th:only-of-type {\n",
              "        vertical-align: middle;\n",
              "    }\n",
              "\n",
              "    .dataframe tbody tr th {\n",
              "        vertical-align: top;\n",
              "    }\n",
              "\n",
              "    .dataframe thead tr th {\n",
              "        text-align: left;\n",
              "    }\n",
              "\n",
              "    .dataframe thead tr:last-of-type th {\n",
              "        text-align: right;\n",
              "    }\n",
              "</style>\n",
              "<table border=\"1\" class=\"dataframe\">\n",
              "  <thead>\n",
              "    <tr>\n",
              "      <th></th>\n",
              "      <th></th>\n",
              "      <th colspan=\"8\" halign=\"left\">Sales</th>\n",
              "    </tr>\n",
              "    <tr>\n",
              "      <th></th>\n",
              "      <th></th>\n",
              "      <th>count</th>\n",
              "      <th>mean</th>\n",
              "      <th>std</th>\n",
              "      <th>min</th>\n",
              "      <th>25%</th>\n",
              "      <th>50%</th>\n",
              "      <th>75%</th>\n",
              "      <th>max</th>\n",
              "    </tr>\n",
              "    <tr>\n",
              "      <th>Company</th>\n",
              "      <th>Department</th>\n",
              "      <th></th>\n",
              "      <th></th>\n",
              "      <th></th>\n",
              "      <th></th>\n",
              "      <th></th>\n",
              "      <th></th>\n",
              "      <th></th>\n",
              "      <th></th>\n",
              "    </tr>\n",
              "  </thead>\n",
              "  <tbody>\n",
              "    <tr>\n",
              "      <th rowspan=\"2\" valign=\"top\">GOOG</th>\n",
              "      <th>HR</th>\n",
              "      <td>2.0</td>\n",
              "      <td>221.5</td>\n",
              "      <td>30.405592</td>\n",
              "      <td>200.0</td>\n",
              "      <td>210.75</td>\n",
              "      <td>221.5</td>\n",
              "      <td>232.25</td>\n",
              "      <td>243.0</td>\n",
              "    </tr>\n",
              "    <tr>\n",
              "      <th>IT</th>\n",
              "      <td>2.0</td>\n",
              "      <td>150.0</td>\n",
              "      <td>42.426407</td>\n",
              "      <td>120.0</td>\n",
              "      <td>135.00</td>\n",
              "      <td>150.0</td>\n",
              "      <td>165.00</td>\n",
              "      <td>180.0</td>\n",
              "    </tr>\n",
              "    <tr>\n",
              "      <th rowspan=\"2\" valign=\"top\">MSFT</th>\n",
              "      <th>HR</th>\n",
              "      <td>2.0</td>\n",
              "      <td>172.0</td>\n",
              "      <td>67.882251</td>\n",
              "      <td>124.0</td>\n",
              "      <td>148.00</td>\n",
              "      <td>172.0</td>\n",
              "      <td>196.00</td>\n",
              "      <td>220.0</td>\n",
              "    </tr>\n",
              "    <tr>\n",
              "      <th>IT</th>\n",
              "      <td>2.0</td>\n",
              "      <td>345.0</td>\n",
              "      <td>7.071068</td>\n",
              "      <td>340.0</td>\n",
              "      <td>342.50</td>\n",
              "      <td>345.0</td>\n",
              "      <td>347.50</td>\n",
              "      <td>350.0</td>\n",
              "    </tr>\n",
              "  </tbody>\n",
              "</table>\n",
              "</div>"
            ],
            "text/plain": [
              "                   Sales                                                  \\\n",
              "                   count   mean        std    min     25%    50%     75%   \n",
              "Company Department                                                         \n",
              "GOOG    HR           2.0  221.5  30.405592  200.0  210.75  221.5  232.25   \n",
              "        IT           2.0  150.0  42.426407  120.0  135.00  150.0  165.00   \n",
              "MSFT    HR           2.0  172.0  67.882251  124.0  148.00  172.0  196.00   \n",
              "        IT           2.0  345.0   7.071068  340.0  342.50  345.0  347.50   \n",
              "\n",
              "                           \n",
              "                      max  \n",
              "Company Department         \n",
              "GOOG    HR          243.0  \n",
              "        IT          180.0  \n",
              "MSFT    HR          220.0  \n",
              "        IT          350.0  "
            ]
          },
          "execution_count": 37,
          "metadata": {},
          "output_type": "execute_result"
        }
      ],
      "source": [
        "df1.groupby(['Company', \"Department\"])[[\"Sales\"]].describe()"
      ]
    },
    {
      "cell_type": "markdown",
      "metadata": {
        "id": "s-H7MS-eQhlr"
      },
      "source": [
        "You can save this object as a new variable:"
      ]
    },
    {
      "cell_type": "code",
      "execution_count": null,
      "metadata": {
        "id": "wvpG1fHwYOPv",
        "outputId": "e89a2cc9-7e6c-43f0-e23c-a86ee6dccb6b"
      },
      "outputs": [
        {
          "data": {
            "text/plain": [
              "<pandas.core.groupby.generic.DataFrameGroupBy object at 0x000002509AAA8E48>"
            ]
          },
          "execution_count": 38,
          "metadata": {},
          "output_type": "execute_result"
        }
      ],
      "source": [
        "df1.groupby('Company')"
      ]
    },
    {
      "cell_type": "code",
      "execution_count": null,
      "metadata": {
        "id": "oFTBl4-wQhls"
      },
      "outputs": [],
      "source": [
        "by_comp=df1.groupby('Company')"
      ]
    },
    {
      "cell_type": "markdown",
      "metadata": {
        "id": "hYvQaMRUQhls"
      },
      "source": [
        "And then call aggregate methods off the object:"
      ]
    },
    {
      "cell_type": "code",
      "execution_count": null,
      "metadata": {
        "id": "QYlIQXDWQhls",
        "outputId": "48850b6c-5d8b-4e64-e818-2460b44fa73c"
      },
      "outputs": [
        {
          "data": {
            "text/html": [
              "<div>\n",
              "<style scoped>\n",
              "    .dataframe tbody tr th:only-of-type {\n",
              "        vertical-align: middle;\n",
              "    }\n",
              "\n",
              "    .dataframe tbody tr th {\n",
              "        vertical-align: top;\n",
              "    }\n",
              "\n",
              "    .dataframe thead th {\n",
              "        text-align: right;\n",
              "    }\n",
              "</style>\n",
              "<table border=\"1\" class=\"dataframe\">\n",
              "  <thead>\n",
              "    <tr style=\"text-align: right;\">\n",
              "      <th></th>\n",
              "      <th>Age</th>\n",
              "      <th>Sales</th>\n",
              "    </tr>\n",
              "    <tr>\n",
              "      <th>Company</th>\n",
              "      <th></th>\n",
              "      <th></th>\n",
              "    </tr>\n",
              "  </thead>\n",
              "  <tbody>\n",
              "    <tr>\n",
              "      <th>GOOG</th>\n",
              "      <td>33.0</td>\n",
              "      <td>185.75</td>\n",
              "    </tr>\n",
              "    <tr>\n",
              "      <th>MSFT</th>\n",
              "      <td>37.0</td>\n",
              "      <td>258.50</td>\n",
              "    </tr>\n",
              "  </tbody>\n",
              "</table>\n",
              "</div>"
            ],
            "text/plain": [
              "          Age   Sales\n",
              "Company              \n",
              "GOOG     33.0  185.75\n",
              "MSFT     37.0  258.50"
            ]
          },
          "execution_count": 40,
          "metadata": {},
          "output_type": "execute_result"
        }
      ],
      "source": [
        "by_comp.mean()"
      ]
    },
    {
      "cell_type": "markdown",
      "metadata": {
        "id": "UMtgrPovYOPw"
      },
      "source": [
        "# DataFrame/Series Operations"
      ]
    },
    {
      "cell_type": "markdown",
      "metadata": {
        "id": "F32Bfl4oQhl1"
      },
      "source": [
        "- ### `.aggregate()/agg()`\n",
        "- ### `.filter()`\n",
        "- ### `.transform()`\n",
        "- ### `.apply()`\n",
        "- ### `.applymap()`\n",
        "- ### `.map()`\n",
        "- ### `.pivot() & .pivot_table()`\n",
        "- ### `.stack() & .unstack()`"
      ]
    },
    {
      "cell_type": "markdown",
      "metadata": {
        "id": "iGHzZ1-5Qhl1"
      },
      "source": [
        "## ``.aggregate()/agg()``"
      ]
    },
    {
      "cell_type": "markdown",
      "metadata": {
        "id": "2c_daoZSYOPx"
      },
      "source": [
        "### DataFrame.agg()"
      ]
    },
    {
      "cell_type": "code",
      "execution_count": null,
      "metadata": {
        "id": "LxJEFpYOQhl1",
        "outputId": "dcbf09c4-3a53-426d-ebd7-ff9a28bd4f74"
      },
      "outputs": [
        {
          "data": {
            "text/html": [
              "<div>\n",
              "<style scoped>\n",
              "    .dataframe tbody tr th:only-of-type {\n",
              "        vertical-align: middle;\n",
              "    }\n",
              "\n",
              "    .dataframe tbody tr th {\n",
              "        vertical-align: top;\n",
              "    }\n",
              "\n",
              "    .dataframe thead th {\n",
              "        text-align: right;\n",
              "    }\n",
              "</style>\n",
              "<table border=\"1\" class=\"dataframe\">\n",
              "  <thead>\n",
              "    <tr style=\"text-align: right;\">\n",
              "      <th></th>\n",
              "      <th>groups</th>\n",
              "      <th>var1</th>\n",
              "      <th>var2</th>\n",
              "    </tr>\n",
              "  </thead>\n",
              "  <tbody>\n",
              "    <tr>\n",
              "      <th>0</th>\n",
              "      <td>A</td>\n",
              "      <td>10</td>\n",
              "      <td>100</td>\n",
              "    </tr>\n",
              "    <tr>\n",
              "      <th>1</th>\n",
              "      <td>B</td>\n",
              "      <td>23</td>\n",
              "      <td>253</td>\n",
              "    </tr>\n",
              "    <tr>\n",
              "      <th>2</th>\n",
              "      <td>C</td>\n",
              "      <td>33</td>\n",
              "      <td>333</td>\n",
              "    </tr>\n",
              "    <tr>\n",
              "      <th>3</th>\n",
              "      <td>A</td>\n",
              "      <td>22</td>\n",
              "      <td>262</td>\n",
              "    </tr>\n",
              "    <tr>\n",
              "      <th>4</th>\n",
              "      <td>B</td>\n",
              "      <td>11</td>\n",
              "      <td>111</td>\n",
              "    </tr>\n",
              "    <tr>\n",
              "      <th>5</th>\n",
              "      <td>C</td>\n",
              "      <td>99</td>\n",
              "      <td>969</td>\n",
              "    </tr>\n",
              "    <tr>\n",
              "      <th>6</th>\n",
              "      <td>A</td>\n",
              "      <td>76</td>\n",
              "      <td>405</td>\n",
              "    </tr>\n",
              "    <tr>\n",
              "      <th>7</th>\n",
              "      <td>B</td>\n",
              "      <td>84</td>\n",
              "      <td>578</td>\n",
              "    </tr>\n",
              "    <tr>\n",
              "      <th>8</th>\n",
              "      <td>C</td>\n",
              "      <td>45</td>\n",
              "      <td>760</td>\n",
              "    </tr>\n",
              "  </tbody>\n",
              "</table>\n",
              "</div>"
            ],
            "text/plain": [
              "  groups  var1  var2\n",
              "0      A    10   100\n",
              "1      B    23   253\n",
              "2      C    33   333\n",
              "3      A    22   262\n",
              "4      B    11   111\n",
              "5      C    99   969\n",
              "6      A    76   405\n",
              "7      B    84   578\n",
              "8      C    45   760"
            ]
          },
          "execution_count": 41,
          "metadata": {},
          "output_type": "execute_result"
        }
      ],
      "source": [
        "df2 = pd.DataFrame({'groups': ['A', 'B', 'C', 'A', 'B', 'C', 'A', 'B', 'C'],\n",
        "                   'var1': [10, 23, 33, 22, 11, 99, 76, 84, 45],\n",
        "                   'var2': [100, 253, 333, 262, 111, 969, 405, 578, 760]})\n",
        "df2"
      ]
    },
    {
      "cell_type": "code",
      "execution_count": null,
      "metadata": {
        "id": "vwWhUOSlYOPy",
        "outputId": "287bc964-7bcb-4c7f-9e62-82e31101e771"
      },
      "outputs": [
        {
          "data": {
            "text/html": [
              "<div>\n",
              "<style scoped>\n",
              "    .dataframe tbody tr th:only-of-type {\n",
              "        vertical-align: middle;\n",
              "    }\n",
              "\n",
              "    .dataframe tbody tr th {\n",
              "        vertical-align: top;\n",
              "    }\n",
              "\n",
              "    .dataframe thead th {\n",
              "        text-align: right;\n",
              "    }\n",
              "</style>\n",
              "<table border=\"1\" class=\"dataframe\">\n",
              "  <thead>\n",
              "    <tr style=\"text-align: right;\">\n",
              "      <th></th>\n",
              "      <th>groups</th>\n",
              "      <th>var1</th>\n",
              "      <th>var2</th>\n",
              "    </tr>\n",
              "  </thead>\n",
              "  <tbody>\n",
              "    <tr>\n",
              "      <th>sum</th>\n",
              "      <td>ABCABCABC</td>\n",
              "      <td>403</td>\n",
              "      <td>3771</td>\n",
              "    </tr>\n",
              "    <tr>\n",
              "      <th>min</th>\n",
              "      <td>A</td>\n",
              "      <td>10</td>\n",
              "      <td>100</td>\n",
              "    </tr>\n",
              "  </tbody>\n",
              "</table>\n",
              "</div>"
            ],
            "text/plain": [
              "        groups  var1  var2\n",
              "sum  ABCABCABC   403  3771\n",
              "min          A    10   100"
            ]
          },
          "execution_count": 42,
          "metadata": {},
          "output_type": "execute_result"
        }
      ],
      "source": [
        "df2.agg([sum, min])"
      ]
    },
    {
      "cell_type": "code",
      "execution_count": null,
      "metadata": {
        "id": "ZJT1b1atYOPy",
        "outputId": "e5cb7515-e0c6-4754-ce7b-22ee660b2a77"
      },
      "outputs": [
        {
          "data": {
            "text/html": [
              "<div>\n",
              "<style scoped>\n",
              "    .dataframe tbody tr th:only-of-type {\n",
              "        vertical-align: middle;\n",
              "    }\n",
              "\n",
              "    .dataframe tbody tr th {\n",
              "        vertical-align: top;\n",
              "    }\n",
              "\n",
              "    .dataframe thead th {\n",
              "        text-align: right;\n",
              "    }\n",
              "</style>\n",
              "<table border=\"1\" class=\"dataframe\">\n",
              "  <thead>\n",
              "    <tr style=\"text-align: right;\">\n",
              "      <th></th>\n",
              "      <th>var1</th>\n",
              "      <th>var2</th>\n",
              "    </tr>\n",
              "  </thead>\n",
              "  <tbody>\n",
              "    <tr>\n",
              "      <th>sum</th>\n",
              "      <td>403</td>\n",
              "      <td>3771</td>\n",
              "    </tr>\n",
              "    <tr>\n",
              "      <th>min</th>\n",
              "      <td>10</td>\n",
              "      <td>100</td>\n",
              "    </tr>\n",
              "  </tbody>\n",
              "</table>\n",
              "</div>"
            ],
            "text/plain": [
              "     var1  var2\n",
              "sum   403  3771\n",
              "min    10   100"
            ]
          },
          "execution_count": 43,
          "metadata": {},
          "output_type": "execute_result"
        }
      ],
      "source": [
        "df2[[\"var1\", \"var2\"]].agg([sum, min])"
      ]
    },
    {
      "cell_type": "code",
      "execution_count": null,
      "metadata": {
        "id": "awk395f3YOPy",
        "outputId": "85743884-be64-40ca-bc74-2d3080e62086"
      },
      "outputs": [
        {
          "data": {
            "text/plain": [
              "var1    403\n",
              "var2    100\n",
              "dtype: int64"
            ]
          },
          "execution_count": 44,
          "metadata": {},
          "output_type": "execute_result"
        }
      ],
      "source": [
        "df2.agg({\"var1\":sum, \"var2\":min})"
      ]
    },
    {
      "cell_type": "code",
      "execution_count": null,
      "metadata": {
        "id": "JrLGT8BzYOPz",
        "outputId": "95744570-9eed-4dd6-ccdc-c3e48e7bc9fe"
      },
      "outputs": [
        {
          "data": {
            "text/html": [
              "<div>\n",
              "<style scoped>\n",
              "    .dataframe tbody tr th:only-of-type {\n",
              "        vertical-align: middle;\n",
              "    }\n",
              "\n",
              "    .dataframe tbody tr th {\n",
              "        vertical-align: top;\n",
              "    }\n",
              "\n",
              "    .dataframe thead th {\n",
              "        text-align: right;\n",
              "    }\n",
              "</style>\n",
              "<table border=\"1\" class=\"dataframe\">\n",
              "  <thead>\n",
              "    <tr style=\"text-align: right;\">\n",
              "      <th></th>\n",
              "      <th>var1</th>\n",
              "      <th>var2</th>\n",
              "    </tr>\n",
              "  </thead>\n",
              "  <tbody>\n",
              "    <tr>\n",
              "      <th>sum</th>\n",
              "      <td>403.0</td>\n",
              "      <td>NaN</td>\n",
              "    </tr>\n",
              "    <tr>\n",
              "      <th>min</th>\n",
              "      <td>NaN</td>\n",
              "      <td>100.0</td>\n",
              "    </tr>\n",
              "  </tbody>\n",
              "</table>\n",
              "</div>"
            ],
            "text/plain": [
              "      var1   var2\n",
              "sum  403.0    NaN\n",
              "min    NaN  100.0"
            ]
          },
          "execution_count": 45,
          "metadata": {},
          "output_type": "execute_result"
        }
      ],
      "source": [
        "df2.agg({\"var1\":[sum], \"var2\":[min]})"
      ]
    },
    {
      "cell_type": "code",
      "execution_count": null,
      "metadata": {
        "id": "p8lMA1ipYOPz",
        "outputId": "7f718610-cbd7-4fe1-94fe-66138bac8f34"
      },
      "outputs": [
        {
          "data": {
            "text/html": [
              "<div>\n",
              "<style scoped>\n",
              "    .dataframe tbody tr th:only-of-type {\n",
              "        vertical-align: middle;\n",
              "    }\n",
              "\n",
              "    .dataframe tbody tr th {\n",
              "        vertical-align: top;\n",
              "    }\n",
              "\n",
              "    .dataframe thead th {\n",
              "        text-align: right;\n",
              "    }\n",
              "</style>\n",
              "<table border=\"1\" class=\"dataframe\">\n",
              "  <thead>\n",
              "    <tr style=\"text-align: right;\">\n",
              "      <th></th>\n",
              "      <th>var1</th>\n",
              "      <th>var2</th>\n",
              "    </tr>\n",
              "  </thead>\n",
              "  <tbody>\n",
              "    <tr>\n",
              "      <th>sum</th>\n",
              "      <td>403.000000</td>\n",
              "      <td>NaN</td>\n",
              "    </tr>\n",
              "    <tr>\n",
              "      <th>mean</th>\n",
              "      <td>44.777778</td>\n",
              "      <td>NaN</td>\n",
              "    </tr>\n",
              "    <tr>\n",
              "      <th>min</th>\n",
              "      <td>NaN</td>\n",
              "      <td>100.0</td>\n",
              "    </tr>\n",
              "    <tr>\n",
              "      <th>max</th>\n",
              "      <td>NaN</td>\n",
              "      <td>969.0</td>\n",
              "    </tr>\n",
              "  </tbody>\n",
              "</table>\n",
              "</div>"
            ],
            "text/plain": [
              "            var1   var2\n",
              "sum   403.000000    NaN\n",
              "mean   44.777778    NaN\n",
              "min          NaN  100.0\n",
              "max          NaN  969.0"
            ]
          },
          "execution_count": 46,
          "metadata": {},
          "output_type": "execute_result"
        }
      ],
      "source": [
        "df2.agg({\"var1\":[sum, np.mean], \"var2\":[min, max]})"
      ]
    },
    {
      "cell_type": "markdown",
      "metadata": {
        "id": "je6kXzA_YOPz"
      },
      "source": [
        "### DataFrame.groupby().agg()"
      ]
    },
    {
      "cell_type": "code",
      "execution_count": null,
      "metadata": {
        "id": "7V7_IGw2Qhl1",
        "outputId": "6ffa77f4-15cd-4ea1-ed9b-0156b0493bdd"
      },
      "outputs": [
        {
          "data": {
            "text/html": [
              "<div>\n",
              "<style scoped>\n",
              "    .dataframe tbody tr th:only-of-type {\n",
              "        vertical-align: middle;\n",
              "    }\n",
              "\n",
              "    .dataframe tbody tr th {\n",
              "        vertical-align: top;\n",
              "    }\n",
              "\n",
              "    .dataframe thead tr th {\n",
              "        text-align: left;\n",
              "    }\n",
              "\n",
              "    .dataframe thead tr:last-of-type th {\n",
              "        text-align: right;\n",
              "    }\n",
              "</style>\n",
              "<table border=\"1\" class=\"dataframe\">\n",
              "  <thead>\n",
              "    <tr>\n",
              "      <th></th>\n",
              "      <th colspan=\"3\" halign=\"left\">var1</th>\n",
              "      <th colspan=\"3\" halign=\"left\">var2</th>\n",
              "    </tr>\n",
              "    <tr>\n",
              "      <th></th>\n",
              "      <th>amin</th>\n",
              "      <th>median</th>\n",
              "      <th>amax</th>\n",
              "      <th>amin</th>\n",
              "      <th>median</th>\n",
              "      <th>amax</th>\n",
              "    </tr>\n",
              "    <tr>\n",
              "      <th>groups</th>\n",
              "      <th></th>\n",
              "      <th></th>\n",
              "      <th></th>\n",
              "      <th></th>\n",
              "      <th></th>\n",
              "      <th></th>\n",
              "    </tr>\n",
              "  </thead>\n",
              "  <tbody>\n",
              "    <tr>\n",
              "      <th>A</th>\n",
              "      <td>10</td>\n",
              "      <td>22</td>\n",
              "      <td>76</td>\n",
              "      <td>100</td>\n",
              "      <td>262</td>\n",
              "      <td>405</td>\n",
              "    </tr>\n",
              "    <tr>\n",
              "      <th>B</th>\n",
              "      <td>11</td>\n",
              "      <td>23</td>\n",
              "      <td>84</td>\n",
              "      <td>111</td>\n",
              "      <td>253</td>\n",
              "      <td>578</td>\n",
              "    </tr>\n",
              "    <tr>\n",
              "      <th>C</th>\n",
              "      <td>33</td>\n",
              "      <td>45</td>\n",
              "      <td>99</td>\n",
              "      <td>333</td>\n",
              "      <td>760</td>\n",
              "      <td>969</td>\n",
              "    </tr>\n",
              "  </tbody>\n",
              "</table>\n",
              "</div>"
            ],
            "text/plain": [
              "       var1             var2            \n",
              "       amin median amax amin median amax\n",
              "groups                                  \n",
              "A        10     22   76  100    262  405\n",
              "B        11     23   84  111    253  578\n",
              "C        33     45   99  333    760  969"
            ]
          },
          "execution_count": 47,
          "metadata": {},
          "output_type": "execute_result"
        }
      ],
      "source": [
        "df2.groupby('groups').aggregate([np.min,np.median,np.max])"
      ]
    },
    {
      "cell_type": "code",
      "execution_count": null,
      "metadata": {
        "id": "DuDH2AmiQhl1",
        "outputId": "3216ecd4-abeb-43ae-8966-bbc3591fc5f1"
      },
      "outputs": [
        {
          "data": {
            "text/html": [
              "<div>\n",
              "<style scoped>\n",
              "    .dataframe tbody tr th:only-of-type {\n",
              "        vertical-align: middle;\n",
              "    }\n",
              "\n",
              "    .dataframe tbody tr th {\n",
              "        vertical-align: top;\n",
              "    }\n",
              "\n",
              "    .dataframe thead tr th {\n",
              "        text-align: left;\n",
              "    }\n",
              "\n",
              "    .dataframe thead tr:last-of-type th {\n",
              "        text-align: right;\n",
              "    }\n",
              "</style>\n",
              "<table border=\"1\" class=\"dataframe\">\n",
              "  <thead>\n",
              "    <tr>\n",
              "      <th></th>\n",
              "      <th colspan=\"3\" halign=\"left\">var1</th>\n",
              "      <th colspan=\"3\" halign=\"left\">var2</th>\n",
              "    </tr>\n",
              "    <tr>\n",
              "      <th></th>\n",
              "      <th>amin</th>\n",
              "      <th>median</th>\n",
              "      <th>max</th>\n",
              "      <th>amin</th>\n",
              "      <th>median</th>\n",
              "      <th>max</th>\n",
              "    </tr>\n",
              "    <tr>\n",
              "      <th>groups</th>\n",
              "      <th></th>\n",
              "      <th></th>\n",
              "      <th></th>\n",
              "      <th></th>\n",
              "      <th></th>\n",
              "      <th></th>\n",
              "    </tr>\n",
              "  </thead>\n",
              "  <tbody>\n",
              "    <tr>\n",
              "      <th>A</th>\n",
              "      <td>10</td>\n",
              "      <td>22</td>\n",
              "      <td>76</td>\n",
              "      <td>100</td>\n",
              "      <td>262</td>\n",
              "      <td>405</td>\n",
              "    </tr>\n",
              "    <tr>\n",
              "      <th>B</th>\n",
              "      <td>11</td>\n",
              "      <td>23</td>\n",
              "      <td>84</td>\n",
              "      <td>111</td>\n",
              "      <td>253</td>\n",
              "      <td>578</td>\n",
              "    </tr>\n",
              "    <tr>\n",
              "      <th>C</th>\n",
              "      <td>33</td>\n",
              "      <td>45</td>\n",
              "      <td>99</td>\n",
              "      <td>333</td>\n",
              "      <td>760</td>\n",
              "      <td>969</td>\n",
              "    </tr>\n",
              "  </tbody>\n",
              "</table>\n",
              "</div>"
            ],
            "text/plain": [
              "       var1            var2            \n",
              "       amin median max amin median  max\n",
              "groups                                 \n",
              "A        10     22  76  100    262  405\n",
              "B        11     23  84  111    253  578\n",
              "C        33     45  99  333    760  969"
            ]
          },
          "execution_count": 48,
          "metadata": {},
          "output_type": "execute_result"
        }
      ],
      "source": [
        "df2.groupby('groups').agg([np.min,\"median\",max])"
      ]
    },
    {
      "cell_type": "code",
      "execution_count": null,
      "metadata": {
        "id": "Og1leRPvQhl1",
        "outputId": "16303967-180a-4a03-cf23-8a1bf357f7e7"
      },
      "outputs": [
        {
          "data": {
            "text/html": [
              "<div>\n",
              "<style scoped>\n",
              "    .dataframe tbody tr th:only-of-type {\n",
              "        vertical-align: middle;\n",
              "    }\n",
              "\n",
              "    .dataframe tbody tr th {\n",
              "        vertical-align: top;\n",
              "    }\n",
              "\n",
              "    .dataframe thead tr th {\n",
              "        text-align: left;\n",
              "    }\n",
              "\n",
              "    .dataframe thead tr:last-of-type th {\n",
              "        text-align: right;\n",
              "    }\n",
              "</style>\n",
              "<table border=\"1\" class=\"dataframe\">\n",
              "  <thead>\n",
              "    <tr>\n",
              "      <th></th>\n",
              "      <th colspan=\"2\" halign=\"left\">var1</th>\n",
              "      <th>var2</th>\n",
              "    </tr>\n",
              "    <tr>\n",
              "      <th></th>\n",
              "      <th>min</th>\n",
              "      <th>max</th>\n",
              "      <th>median</th>\n",
              "    </tr>\n",
              "    <tr>\n",
              "      <th>groups</th>\n",
              "      <th></th>\n",
              "      <th></th>\n",
              "      <th></th>\n",
              "    </tr>\n",
              "  </thead>\n",
              "  <tbody>\n",
              "    <tr>\n",
              "      <th>A</th>\n",
              "      <td>10</td>\n",
              "      <td>76</td>\n",
              "      <td>262</td>\n",
              "    </tr>\n",
              "    <tr>\n",
              "      <th>B</th>\n",
              "      <td>11</td>\n",
              "      <td>84</td>\n",
              "      <td>253</td>\n",
              "    </tr>\n",
              "    <tr>\n",
              "      <th>C</th>\n",
              "      <td>33</td>\n",
              "      <td>99</td>\n",
              "      <td>760</td>\n",
              "    </tr>\n",
              "  </tbody>\n",
              "</table>\n",
              "</div>"
            ],
            "text/plain": [
              "       var1       var2\n",
              "        min max median\n",
              "groups                \n",
              "A        10  76    262\n",
              "B        11  84    253\n",
              "C        33  99    760"
            ]
          },
          "execution_count": 49,
          "metadata": {},
          "output_type": "execute_result"
        }
      ],
      "source": [
        "df2.groupby('groups').agg({'var1':[min,'max'], 'var2':'median'})"
      ]
    },
    {
      "cell_type": "markdown",
      "metadata": {
        "id": "41pA7VmKQhl2"
      },
      "source": [
        "## .filter()\n",
        "\n",
        "https://pandas.pydata.org/docs/reference/api/pandas.DataFrame.filter.html\n",
        "\n",
        "https://www.sharpsightlabs.com/blog/pandas-filter/"
      ]
    },
    {
      "cell_type": "markdown",
      "metadata": {
        "id": "0nyM7XA0YOP1"
      },
      "source": [
        "### DataFrame.filter()"
      ]
    },
    {
      "cell_type": "markdown",
      "metadata": {
        "id": "YEIsQtluYOP1"
      },
      "source": [
        "- DataFrame.filter(items=None, like=None, regex=None, axis=None)\n",
        "- Subset the dataframe rows or columns according to the specified index labels.\n",
        "- Note that this routine does not filter a dataframe on its contents. The filter is applied to the labels of the index."
      ]
    },
    {
      "cell_type": "code",
      "execution_count": null,
      "metadata": {
        "id": "hdaXmNQsQhl2",
        "outputId": "e9bd947a-8261-4918-cfbd-9b5d2f784382",
        "scrolled": false
      },
      "outputs": [
        {
          "data": {
            "text/html": [
              "<div>\n",
              "<style scoped>\n",
              "    .dataframe tbody tr th:only-of-type {\n",
              "        vertical-align: middle;\n",
              "    }\n",
              "\n",
              "    .dataframe tbody tr th {\n",
              "        vertical-align: top;\n",
              "    }\n",
              "\n",
              "    .dataframe thead th {\n",
              "        text-align: right;\n",
              "    }\n",
              "</style>\n",
              "<table border=\"1\" class=\"dataframe\">\n",
              "  <thead>\n",
              "    <tr style=\"text-align: right;\">\n",
              "      <th></th>\n",
              "      <th>groups</th>\n",
              "      <th>var1</th>\n",
              "      <th>var2</th>\n",
              "    </tr>\n",
              "  </thead>\n",
              "  <tbody>\n",
              "    <tr>\n",
              "      <th>0</th>\n",
              "      <td>A</td>\n",
              "      <td>10</td>\n",
              "      <td>100</td>\n",
              "    </tr>\n",
              "    <tr>\n",
              "      <th>1</th>\n",
              "      <td>B</td>\n",
              "      <td>23</td>\n",
              "      <td>253</td>\n",
              "    </tr>\n",
              "    <tr>\n",
              "      <th>2</th>\n",
              "      <td>C</td>\n",
              "      <td>33</td>\n",
              "      <td>333</td>\n",
              "    </tr>\n",
              "    <tr>\n",
              "      <th>3</th>\n",
              "      <td>A</td>\n",
              "      <td>22</td>\n",
              "      <td>262</td>\n",
              "    </tr>\n",
              "    <tr>\n",
              "      <th>4</th>\n",
              "      <td>B</td>\n",
              "      <td>11</td>\n",
              "      <td>111</td>\n",
              "    </tr>\n",
              "    <tr>\n",
              "      <th>5</th>\n",
              "      <td>C</td>\n",
              "      <td>99</td>\n",
              "      <td>969</td>\n",
              "    </tr>\n",
              "    <tr>\n",
              "      <th>6</th>\n",
              "      <td>A</td>\n",
              "      <td>76</td>\n",
              "      <td>405</td>\n",
              "    </tr>\n",
              "    <tr>\n",
              "      <th>7</th>\n",
              "      <td>B</td>\n",
              "      <td>84</td>\n",
              "      <td>578</td>\n",
              "    </tr>\n",
              "    <tr>\n",
              "      <th>8</th>\n",
              "      <td>C</td>\n",
              "      <td>45</td>\n",
              "      <td>760</td>\n",
              "    </tr>\n",
              "  </tbody>\n",
              "</table>\n",
              "</div>"
            ],
            "text/plain": [
              "  groups  var1  var2\n",
              "0      A    10   100\n",
              "1      B    23   253\n",
              "2      C    33   333\n",
              "3      A    22   262\n",
              "4      B    11   111\n",
              "5      C    99   969\n",
              "6      A    76   405\n",
              "7      B    84   578\n",
              "8      C    45   760"
            ]
          },
          "execution_count": 50,
          "metadata": {},
          "output_type": "execute_result"
        }
      ],
      "source": [
        "df2"
      ]
    },
    {
      "cell_type": "code",
      "execution_count": null,
      "metadata": {
        "id": "I9FvDbpHYOP1",
        "outputId": "d79be2b8-861c-482b-f449-9e26ce075bdd"
      },
      "outputs": [
        {
          "data": {
            "text/html": [
              "<div>\n",
              "<style scoped>\n",
              "    .dataframe tbody tr th:only-of-type {\n",
              "        vertical-align: middle;\n",
              "    }\n",
              "\n",
              "    .dataframe tbody tr th {\n",
              "        vertical-align: top;\n",
              "    }\n",
              "\n",
              "    .dataframe thead th {\n",
              "        text-align: right;\n",
              "    }\n",
              "</style>\n",
              "<table border=\"1\" class=\"dataframe\">\n",
              "  <thead>\n",
              "    <tr style=\"text-align: right;\">\n",
              "      <th></th>\n",
              "      <th>groups</th>\n",
              "      <th>var1</th>\n",
              "    </tr>\n",
              "  </thead>\n",
              "  <tbody>\n",
              "    <tr>\n",
              "      <th>0</th>\n",
              "      <td>A</td>\n",
              "      <td>10</td>\n",
              "    </tr>\n",
              "    <tr>\n",
              "      <th>1</th>\n",
              "      <td>B</td>\n",
              "      <td>23</td>\n",
              "    </tr>\n",
              "    <tr>\n",
              "      <th>2</th>\n",
              "      <td>C</td>\n",
              "      <td>33</td>\n",
              "    </tr>\n",
              "    <tr>\n",
              "      <th>3</th>\n",
              "      <td>A</td>\n",
              "      <td>22</td>\n",
              "    </tr>\n",
              "    <tr>\n",
              "      <th>4</th>\n",
              "      <td>B</td>\n",
              "      <td>11</td>\n",
              "    </tr>\n",
              "    <tr>\n",
              "      <th>5</th>\n",
              "      <td>C</td>\n",
              "      <td>99</td>\n",
              "    </tr>\n",
              "    <tr>\n",
              "      <th>6</th>\n",
              "      <td>A</td>\n",
              "      <td>76</td>\n",
              "    </tr>\n",
              "    <tr>\n",
              "      <th>7</th>\n",
              "      <td>B</td>\n",
              "      <td>84</td>\n",
              "    </tr>\n",
              "    <tr>\n",
              "      <th>8</th>\n",
              "      <td>C</td>\n",
              "      <td>45</td>\n",
              "    </tr>\n",
              "  </tbody>\n",
              "</table>\n",
              "</div>"
            ],
            "text/plain": [
              "  groups  var1\n",
              "0      A    10\n",
              "1      B    23\n",
              "2      C    33\n",
              "3      A    22\n",
              "4      B    11\n",
              "5      C    99\n",
              "6      A    76\n",
              "7      B    84\n",
              "8      C    45"
            ]
          },
          "execution_count": 51,
          "metadata": {},
          "output_type": "execute_result"
        }
      ],
      "source": [
        "df2.filter([\"groups\", \"var1\"])\n",
        "#df2[[\"groups\", \"var1\"]]"
      ]
    },
    {
      "cell_type": "code",
      "execution_count": null,
      "metadata": {
        "id": "A6CJBzTOYOP2",
        "outputId": "33e4a423-0f26-44a5-e930-f2c92a6fe768"
      },
      "outputs": [
        {
          "data": {
            "text/html": [
              "<div>\n",
              "<style scoped>\n",
              "    .dataframe tbody tr th:only-of-type {\n",
              "        vertical-align: middle;\n",
              "    }\n",
              "\n",
              "    .dataframe tbody tr th {\n",
              "        vertical-align: top;\n",
              "    }\n",
              "\n",
              "    .dataframe thead th {\n",
              "        text-align: right;\n",
              "    }\n",
              "</style>\n",
              "<table border=\"1\" class=\"dataframe\">\n",
              "  <thead>\n",
              "    <tr style=\"text-align: right;\">\n",
              "      <th></th>\n",
              "      <th>var1</th>\n",
              "      <th>var2</th>\n",
              "    </tr>\n",
              "  </thead>\n",
              "  <tbody>\n",
              "    <tr>\n",
              "      <th>0</th>\n",
              "      <td>10</td>\n",
              "      <td>100</td>\n",
              "    </tr>\n",
              "    <tr>\n",
              "      <th>1</th>\n",
              "      <td>23</td>\n",
              "      <td>253</td>\n",
              "    </tr>\n",
              "    <tr>\n",
              "      <th>2</th>\n",
              "      <td>33</td>\n",
              "      <td>333</td>\n",
              "    </tr>\n",
              "    <tr>\n",
              "      <th>3</th>\n",
              "      <td>22</td>\n",
              "      <td>262</td>\n",
              "    </tr>\n",
              "    <tr>\n",
              "      <th>4</th>\n",
              "      <td>11</td>\n",
              "      <td>111</td>\n",
              "    </tr>\n",
              "    <tr>\n",
              "      <th>5</th>\n",
              "      <td>99</td>\n",
              "      <td>969</td>\n",
              "    </tr>\n",
              "    <tr>\n",
              "      <th>6</th>\n",
              "      <td>76</td>\n",
              "      <td>405</td>\n",
              "    </tr>\n",
              "    <tr>\n",
              "      <th>7</th>\n",
              "      <td>84</td>\n",
              "      <td>578</td>\n",
              "    </tr>\n",
              "    <tr>\n",
              "      <th>8</th>\n",
              "      <td>45</td>\n",
              "      <td>760</td>\n",
              "    </tr>\n",
              "  </tbody>\n",
              "</table>\n",
              "</div>"
            ],
            "text/plain": [
              "   var1  var2\n",
              "0    10   100\n",
              "1    23   253\n",
              "2    33   333\n",
              "3    22   262\n",
              "4    11   111\n",
              "5    99   969\n",
              "6    76   405\n",
              "7    84   578\n",
              "8    45   760"
            ]
          },
          "execution_count": 52,
          "metadata": {},
          "output_type": "execute_result"
        }
      ],
      "source": [
        "df2.filter(regex = \"^var\", axis=1)"
      ]
    },
    {
      "cell_type": "code",
      "execution_count": null,
      "metadata": {
        "id": "RXqCSI-mYOP2",
        "outputId": "76c58f49-6bb2-4644-9def-7ba297c56191"
      },
      "outputs": [
        {
          "data": {
            "text/html": [
              "<div>\n",
              "<style scoped>\n",
              "    .dataframe tbody tr th:only-of-type {\n",
              "        vertical-align: middle;\n",
              "    }\n",
              "\n",
              "    .dataframe tbody tr th {\n",
              "        vertical-align: top;\n",
              "    }\n",
              "\n",
              "    .dataframe thead th {\n",
              "        text-align: right;\n",
              "    }\n",
              "</style>\n",
              "<table border=\"1\" class=\"dataframe\">\n",
              "  <thead>\n",
              "    <tr style=\"text-align: right;\">\n",
              "      <th></th>\n",
              "      <th>var1</th>\n",
              "      <th>var2</th>\n",
              "    </tr>\n",
              "  </thead>\n",
              "  <tbody>\n",
              "    <tr>\n",
              "      <th>0</th>\n",
              "      <td>10</td>\n",
              "      <td>100</td>\n",
              "    </tr>\n",
              "    <tr>\n",
              "      <th>1</th>\n",
              "      <td>23</td>\n",
              "      <td>253</td>\n",
              "    </tr>\n",
              "    <tr>\n",
              "      <th>2</th>\n",
              "      <td>33</td>\n",
              "      <td>333</td>\n",
              "    </tr>\n",
              "    <tr>\n",
              "      <th>3</th>\n",
              "      <td>22</td>\n",
              "      <td>262</td>\n",
              "    </tr>\n",
              "    <tr>\n",
              "      <th>4</th>\n",
              "      <td>11</td>\n",
              "      <td>111</td>\n",
              "    </tr>\n",
              "    <tr>\n",
              "      <th>5</th>\n",
              "      <td>99</td>\n",
              "      <td>969</td>\n",
              "    </tr>\n",
              "    <tr>\n",
              "      <th>6</th>\n",
              "      <td>76</td>\n",
              "      <td>405</td>\n",
              "    </tr>\n",
              "    <tr>\n",
              "      <th>7</th>\n",
              "      <td>84</td>\n",
              "      <td>578</td>\n",
              "    </tr>\n",
              "    <tr>\n",
              "      <th>8</th>\n",
              "      <td>45</td>\n",
              "      <td>760</td>\n",
              "    </tr>\n",
              "  </tbody>\n",
              "</table>\n",
              "</div>"
            ],
            "text/plain": [
              "   var1  var2\n",
              "0    10   100\n",
              "1    23   253\n",
              "2    33   333\n",
              "3    22   262\n",
              "4    11   111\n",
              "5    99   969\n",
              "6    76   405\n",
              "7    84   578\n",
              "8    45   760"
            ]
          },
          "execution_count": 53,
          "metadata": {},
          "output_type": "execute_result"
        }
      ],
      "source": [
        "# The ‘like‘ parameter enables you to identify items that contain a certain string.\n",
        "\n",
        "df2.filter(like=\"var\", axis=1)"
      ]
    },
    {
      "cell_type": "code",
      "execution_count": null,
      "metadata": {
        "id": "lRsLoDklYOP2",
        "outputId": "4eabc99b-cf37-4ca0-d21c-88c94aecf5a8"
      },
      "outputs": [
        {
          "data": {
            "text/html": [
              "<div>\n",
              "<style scoped>\n",
              "    .dataframe tbody tr th:only-of-type {\n",
              "        vertical-align: middle;\n",
              "    }\n",
              "\n",
              "    .dataframe tbody tr th {\n",
              "        vertical-align: top;\n",
              "    }\n",
              "\n",
              "    .dataframe thead th {\n",
              "        text-align: right;\n",
              "    }\n",
              "</style>\n",
              "<table border=\"1\" class=\"dataframe\">\n",
              "  <thead>\n",
              "    <tr style=\"text-align: right;\">\n",
              "      <th></th>\n",
              "      <th>groups</th>\n",
              "      <th>var1</th>\n",
              "      <th>var2</th>\n",
              "    </tr>\n",
              "  </thead>\n",
              "  <tbody>\n",
              "    <tr>\n",
              "      <th>1</th>\n",
              "      <td>B</td>\n",
              "      <td>23</td>\n",
              "      <td>253</td>\n",
              "    </tr>\n",
              "  </tbody>\n",
              "</table>\n",
              "</div>"
            ],
            "text/plain": [
              "  groups  var1  var2\n",
              "1      B    23   253"
            ]
          },
          "execution_count": 54,
          "metadata": {},
          "output_type": "execute_result"
        }
      ],
      "source": [
        "df2.filter(like=\"1\", axis=0)"
      ]
    },
    {
      "cell_type": "markdown",
      "metadata": {
        "id": "KZet9G7HYOP3"
      },
      "source": [
        "### DataFrame.groupby().filter()"
      ]
    },
    {
      "cell_type": "markdown",
      "metadata": {
        "id": "ZYy9aGTBYOP3"
      },
      "source": [
        "- DataFrameGroupBy.filter(func, dropna=True, *args, **kwargs)\n",
        "- Return a copy of a DataFrame excluding filtered elements.\n",
        "- Elements from groups are filtered if they do not satisfy the boolean criterion specified by func."
      ]
    },
    {
      "cell_type": "code",
      "execution_count": null,
      "metadata": {
        "id": "dqwAguQeQhl2",
        "outputId": "0e4d3d9d-7773-4b84-c93f-e91d3bb30d9e"
      },
      "outputs": [
        {
          "data": {
            "text/plain": [
              "array(['A', 'B', 'C'], dtype=object)"
            ]
          },
          "execution_count": 55,
          "metadata": {},
          "output_type": "execute_result"
        }
      ],
      "source": [
        "df2.groups.unique()"
      ]
    },
    {
      "cell_type": "code",
      "execution_count": null,
      "metadata": {
        "id": "AcpIhhl9Qhl2",
        "outputId": "1b5cffc6-61b5-421c-ecf9-101dfa293ac9"
      },
      "outputs": [
        {
          "data": {
            "text/html": [
              "<div>\n",
              "<style scoped>\n",
              "    .dataframe tbody tr th:only-of-type {\n",
              "        vertical-align: middle;\n",
              "    }\n",
              "\n",
              "    .dataframe tbody tr th {\n",
              "        vertical-align: top;\n",
              "    }\n",
              "\n",
              "    .dataframe thead th {\n",
              "        text-align: right;\n",
              "    }\n",
              "</style>\n",
              "<table border=\"1\" class=\"dataframe\">\n",
              "  <thead>\n",
              "    <tr style=\"text-align: right;\">\n",
              "      <th></th>\n",
              "      <th>var1</th>\n",
              "      <th>var2</th>\n",
              "    </tr>\n",
              "    <tr>\n",
              "      <th>groups</th>\n",
              "      <th></th>\n",
              "      <th></th>\n",
              "    </tr>\n",
              "  </thead>\n",
              "  <tbody>\n",
              "    <tr>\n",
              "      <th>A</th>\n",
              "      <td>36.000000</td>\n",
              "      <td>255.666667</td>\n",
              "    </tr>\n",
              "    <tr>\n",
              "      <th>B</th>\n",
              "      <td>39.333333</td>\n",
              "      <td>314.000000</td>\n",
              "    </tr>\n",
              "    <tr>\n",
              "      <th>C</th>\n",
              "      <td>59.000000</td>\n",
              "      <td>687.333333</td>\n",
              "    </tr>\n",
              "  </tbody>\n",
              "</table>\n",
              "</div>"
            ],
            "text/plain": [
              "             var1        var2\n",
              "groups                       \n",
              "A       36.000000  255.666667\n",
              "B       39.333333  314.000000\n",
              "C       59.000000  687.333333"
            ]
          },
          "execution_count": 56,
          "metadata": {},
          "output_type": "execute_result"
        }
      ],
      "source": [
        "df2.groupby(\"groups\").mean()"
      ]
    },
    {
      "cell_type": "code",
      "execution_count": null,
      "metadata": {
        "id": "oLZ2mMufQhl2"
      },
      "outputs": [],
      "source": [
        "def filter_func(x):\n",
        "    return x[\"var1\"].mean() > 39"
      ]
    },
    {
      "cell_type": "code",
      "execution_count": null,
      "metadata": {
        "id": "LscnllRPQhl2",
        "outputId": "cb476930-8957-4661-94f5-f526704b4563"
      },
      "outputs": [
        {
          "data": {
            "text/html": [
              "<div>\n",
              "<style scoped>\n",
              "    .dataframe tbody tr th:only-of-type {\n",
              "        vertical-align: middle;\n",
              "    }\n",
              "\n",
              "    .dataframe tbody tr th {\n",
              "        vertical-align: top;\n",
              "    }\n",
              "\n",
              "    .dataframe thead th {\n",
              "        text-align: right;\n",
              "    }\n",
              "</style>\n",
              "<table border=\"1\" class=\"dataframe\">\n",
              "  <thead>\n",
              "    <tr style=\"text-align: right;\">\n",
              "      <th></th>\n",
              "      <th>groups</th>\n",
              "      <th>var1</th>\n",
              "      <th>var2</th>\n",
              "    </tr>\n",
              "  </thead>\n",
              "  <tbody>\n",
              "    <tr>\n",
              "      <th>1</th>\n",
              "      <td>B</td>\n",
              "      <td>23</td>\n",
              "      <td>253</td>\n",
              "    </tr>\n",
              "    <tr>\n",
              "      <th>2</th>\n",
              "      <td>C</td>\n",
              "      <td>33</td>\n",
              "      <td>333</td>\n",
              "    </tr>\n",
              "    <tr>\n",
              "      <th>4</th>\n",
              "      <td>B</td>\n",
              "      <td>11</td>\n",
              "      <td>111</td>\n",
              "    </tr>\n",
              "    <tr>\n",
              "      <th>5</th>\n",
              "      <td>C</td>\n",
              "      <td>99</td>\n",
              "      <td>969</td>\n",
              "    </tr>\n",
              "    <tr>\n",
              "      <th>7</th>\n",
              "      <td>B</td>\n",
              "      <td>84</td>\n",
              "      <td>578</td>\n",
              "    </tr>\n",
              "    <tr>\n",
              "      <th>8</th>\n",
              "      <td>C</td>\n",
              "      <td>45</td>\n",
              "      <td>760</td>\n",
              "    </tr>\n",
              "  </tbody>\n",
              "</table>\n",
              "</div>"
            ],
            "text/plain": [
              "  groups  var1  var2\n",
              "1      B    23   253\n",
              "2      C    33   333\n",
              "4      B    11   111\n",
              "5      C    99   969\n",
              "7      B    84   578\n",
              "8      C    45   760"
            ]
          },
          "execution_count": 58,
          "metadata": {},
          "output_type": "execute_result"
        }
      ],
      "source": [
        "# returns the rows that meet the condition, as a DataFrame\n",
        "df2.groupby('groups').filter(filter_func)"
      ]
    },
    {
      "cell_type": "code",
      "execution_count": null,
      "metadata": {
        "id": "3YftwOqlQhl2",
        "outputId": "902c975d-ec10-4898-bb56-2c1a44f9e53e"
      },
      "outputs": [
        {
          "data": {
            "text/html": [
              "<div>\n",
              "<style scoped>\n",
              "    .dataframe tbody tr th:only-of-type {\n",
              "        vertical-align: middle;\n",
              "    }\n",
              "\n",
              "    .dataframe tbody tr th {\n",
              "        vertical-align: top;\n",
              "    }\n",
              "\n",
              "    .dataframe thead th {\n",
              "        text-align: right;\n",
              "    }\n",
              "</style>\n",
              "<table border=\"1\" class=\"dataframe\">\n",
              "  <thead>\n",
              "    <tr style=\"text-align: right;\">\n",
              "      <th></th>\n",
              "      <th>var1</th>\n",
              "      <th>var2</th>\n",
              "    </tr>\n",
              "    <tr>\n",
              "      <th>groups</th>\n",
              "      <th></th>\n",
              "      <th></th>\n",
              "    </tr>\n",
              "  </thead>\n",
              "  <tbody>\n",
              "    <tr>\n",
              "      <th>A</th>\n",
              "      <td>108</td>\n",
              "      <td>767</td>\n",
              "    </tr>\n",
              "    <tr>\n",
              "      <th>B</th>\n",
              "      <td>118</td>\n",
              "      <td>942</td>\n",
              "    </tr>\n",
              "    <tr>\n",
              "      <th>C</th>\n",
              "      <td>177</td>\n",
              "      <td>2062</td>\n",
              "    </tr>\n",
              "  </tbody>\n",
              "</table>\n",
              "</div>"
            ],
            "text/plain": [
              "        var1  var2\n",
              "groups            \n",
              "A        108   767\n",
              "B        118   942\n",
              "C        177  2062"
            ]
          },
          "execution_count": 59,
          "metadata": {},
          "output_type": "execute_result"
        }
      ],
      "source": [
        "df2.groupby(\"groups\").sum()"
      ]
    },
    {
      "cell_type": "code",
      "execution_count": null,
      "metadata": {
        "id": "2a7cL2l9Qhl3",
        "outputId": "f415e9f0-bd34-4e02-b67e-78cfacc3a965"
      },
      "outputs": [
        {
          "data": {
            "text/html": [
              "<div>\n",
              "<style scoped>\n",
              "    .dataframe tbody tr th:only-of-type {\n",
              "        vertical-align: middle;\n",
              "    }\n",
              "\n",
              "    .dataframe tbody tr th {\n",
              "        vertical-align: top;\n",
              "    }\n",
              "\n",
              "    .dataframe thead th {\n",
              "        text-align: right;\n",
              "    }\n",
              "</style>\n",
              "<table border=\"1\" class=\"dataframe\">\n",
              "  <thead>\n",
              "    <tr style=\"text-align: right;\">\n",
              "      <th></th>\n",
              "      <th>groups</th>\n",
              "      <th>var1</th>\n",
              "      <th>var2</th>\n",
              "    </tr>\n",
              "  </thead>\n",
              "  <tbody>\n",
              "    <tr>\n",
              "      <th>0</th>\n",
              "      <td>A</td>\n",
              "      <td>10</td>\n",
              "      <td>100</td>\n",
              "    </tr>\n",
              "    <tr>\n",
              "      <th>3</th>\n",
              "      <td>A</td>\n",
              "      <td>22</td>\n",
              "      <td>262</td>\n",
              "    </tr>\n",
              "    <tr>\n",
              "      <th>6</th>\n",
              "      <td>A</td>\n",
              "      <td>76</td>\n",
              "      <td>405</td>\n",
              "    </tr>\n",
              "  </tbody>\n",
              "</table>\n",
              "</div>"
            ],
            "text/plain": [
              "  groups  var1  var2\n",
              "0      A    10   100\n",
              "3      A    22   262\n",
              "6      A    76   405"
            ]
          },
          "execution_count": 60,
          "metadata": {},
          "output_type": "execute_result"
        }
      ],
      "source": [
        "df2.groupby('groups').filter(lambda x : x['var2'].sum()<800)"
      ]
    },
    {
      "cell_type": "markdown",
      "metadata": {
        "id": "HsGwIIY9Qhl3"
      },
      "source": [
        "## .transform()\n",
        "\n",
        "- Python’s **Transform** function returns a self-produced dataframe with transformed values after applying the function specified in its parameter.\n",
        "- This dataframe has the same length as the passed dataframe.\n",
        "\n",
        "https://pandas.pydata.org/docs/reference/api/pandas.DataFrame.transform.html\n",
        "\n",
        "https://www.analyticsvidhya.com/blog/2020/03/understanding-transform-function-python/"
      ]
    },
    {
      "cell_type": "markdown",
      "metadata": {
        "id": "_T0PX4QIYOP5"
      },
      "source": [
        "### DataFrame.transform()"
      ]
    },
    {
      "cell_type": "markdown",
      "metadata": {
        "id": "eCIzqmrkYOP6"
      },
      "source": [
        "- DataFrame.transform(func, axis=0, *args, **kwargs)\n",
        "- Call func on self producing a DataFrame with the same axis shape as self."
      ]
    },
    {
      "cell_type": "code",
      "execution_count": null,
      "metadata": {
        "id": "wkfuzihQYOP6",
        "outputId": "83001ffe-5f7a-48ae-d9fb-f8f35d8dd64e"
      },
      "outputs": [
        {
          "data": {
            "text/html": [
              "<div>\n",
              "<style scoped>\n",
              "    .dataframe tbody tr th:only-of-type {\n",
              "        vertical-align: middle;\n",
              "    }\n",
              "\n",
              "    .dataframe tbody tr th {\n",
              "        vertical-align: top;\n",
              "    }\n",
              "\n",
              "    .dataframe thead th {\n",
              "        text-align: right;\n",
              "    }\n",
              "</style>\n",
              "<table border=\"1\" class=\"dataframe\">\n",
              "  <thead>\n",
              "    <tr style=\"text-align: right;\">\n",
              "      <th></th>\n",
              "      <th>var1</th>\n",
              "      <th>var2</th>\n",
              "    </tr>\n",
              "  </thead>\n",
              "  <tbody>\n",
              "    <tr>\n",
              "      <th>0</th>\n",
              "      <td>10</td>\n",
              "      <td>100</td>\n",
              "    </tr>\n",
              "    <tr>\n",
              "      <th>1</th>\n",
              "      <td>23</td>\n",
              "      <td>253</td>\n",
              "    </tr>\n",
              "    <tr>\n",
              "      <th>2</th>\n",
              "      <td>33</td>\n",
              "      <td>333</td>\n",
              "    </tr>\n",
              "    <tr>\n",
              "      <th>3</th>\n",
              "      <td>22</td>\n",
              "      <td>262</td>\n",
              "    </tr>\n",
              "    <tr>\n",
              "      <th>4</th>\n",
              "      <td>11</td>\n",
              "      <td>111</td>\n",
              "    </tr>\n",
              "    <tr>\n",
              "      <th>5</th>\n",
              "      <td>99</td>\n",
              "      <td>969</td>\n",
              "    </tr>\n",
              "    <tr>\n",
              "      <th>6</th>\n",
              "      <td>76</td>\n",
              "      <td>405</td>\n",
              "    </tr>\n",
              "    <tr>\n",
              "      <th>7</th>\n",
              "      <td>84</td>\n",
              "      <td>578</td>\n",
              "    </tr>\n",
              "    <tr>\n",
              "      <th>8</th>\n",
              "      <td>45</td>\n",
              "      <td>760</td>\n",
              "    </tr>\n",
              "  </tbody>\n",
              "</table>\n",
              "</div>"
            ],
            "text/plain": [
              "   var1  var2\n",
              "0    10   100\n",
              "1    23   253\n",
              "2    33   333\n",
              "3    22   262\n",
              "4    11   111\n",
              "5    99   969\n",
              "6    76   405\n",
              "7    84   578\n",
              "8    45   760"
            ]
          },
          "execution_count": 61,
          "metadata": {},
          "output_type": "execute_result"
        }
      ],
      "source": [
        "df_num = df2.iloc[:,1:3]\n",
        "df_num"
      ]
    },
    {
      "cell_type": "code",
      "execution_count": null,
      "metadata": {
        "id": "jHfufXQtQhl3",
        "outputId": "4504607a-7e9b-4a1c-a008-0169f7979b5a"
      },
      "outputs": [
        {
          "data": {
            "text/html": [
              "<div>\n",
              "<style scoped>\n",
              "    .dataframe tbody tr th:only-of-type {\n",
              "        vertical-align: middle;\n",
              "    }\n",
              "\n",
              "    .dataframe tbody tr th {\n",
              "        vertical-align: top;\n",
              "    }\n",
              "\n",
              "    .dataframe thead th {\n",
              "        text-align: right;\n",
              "    }\n",
              "</style>\n",
              "<table border=\"1\" class=\"dataframe\">\n",
              "  <thead>\n",
              "    <tr style=\"text-align: right;\">\n",
              "      <th></th>\n",
              "      <th>var1</th>\n",
              "      <th>var2</th>\n",
              "    </tr>\n",
              "  </thead>\n",
              "  <tbody>\n",
              "    <tr>\n",
              "      <th>0</th>\n",
              "      <td>20</td>\n",
              "      <td>110</td>\n",
              "    </tr>\n",
              "    <tr>\n",
              "      <th>1</th>\n",
              "      <td>33</td>\n",
              "      <td>263</td>\n",
              "    </tr>\n",
              "    <tr>\n",
              "      <th>2</th>\n",
              "      <td>43</td>\n",
              "      <td>343</td>\n",
              "    </tr>\n",
              "    <tr>\n",
              "      <th>3</th>\n",
              "      <td>32</td>\n",
              "      <td>272</td>\n",
              "    </tr>\n",
              "    <tr>\n",
              "      <th>4</th>\n",
              "      <td>21</td>\n",
              "      <td>121</td>\n",
              "    </tr>\n",
              "    <tr>\n",
              "      <th>5</th>\n",
              "      <td>109</td>\n",
              "      <td>979</td>\n",
              "    </tr>\n",
              "    <tr>\n",
              "      <th>6</th>\n",
              "      <td>86</td>\n",
              "      <td>415</td>\n",
              "    </tr>\n",
              "    <tr>\n",
              "      <th>7</th>\n",
              "      <td>94</td>\n",
              "      <td>588</td>\n",
              "    </tr>\n",
              "    <tr>\n",
              "      <th>8</th>\n",
              "      <td>55</td>\n",
              "      <td>770</td>\n",
              "    </tr>\n",
              "  </tbody>\n",
              "</table>\n",
              "</div>"
            ],
            "text/plain": [
              "   var1  var2\n",
              "0    20   110\n",
              "1    33   263\n",
              "2    43   343\n",
              "3    32   272\n",
              "4    21   121\n",
              "5   109   979\n",
              "6    86   415\n",
              "7    94   588\n",
              "8    55   770"
            ]
          },
          "execution_count": 62,
          "metadata": {},
          "output_type": "execute_result"
        }
      ],
      "source": [
        "df_num.transform(lambda x : x+10)\n",
        "#df_num+10"
      ]
    },
    {
      "cell_type": "code",
      "execution_count": null,
      "metadata": {
        "id": "mJxS5qGRYOP7",
        "outputId": "a3f4987e-a267-4c4b-e75d-1e452f6df29b"
      },
      "outputs": [
        {
          "data": {
            "text/html": [
              "<div>\n",
              "<style scoped>\n",
              "    .dataframe tbody tr th:only-of-type {\n",
              "        vertical-align: middle;\n",
              "    }\n",
              "\n",
              "    .dataframe tbody tr th {\n",
              "        vertical-align: top;\n",
              "    }\n",
              "\n",
              "    .dataframe thead th {\n",
              "        text-align: right;\n",
              "    }\n",
              "</style>\n",
              "<table border=\"1\" class=\"dataframe\">\n",
              "  <thead>\n",
              "    <tr style=\"text-align: right;\">\n",
              "      <th></th>\n",
              "      <th>var1</th>\n",
              "      <th>var2</th>\n",
              "    </tr>\n",
              "  </thead>\n",
              "  <tbody>\n",
              "    <tr>\n",
              "      <th>0</th>\n",
              "      <td>-1.040605</td>\n",
              "      <td>-1.078044</td>\n",
              "    </tr>\n",
              "    <tr>\n",
              "      <th>1</th>\n",
              "      <td>-0.651625</td>\n",
              "      <td>-0.560989</td>\n",
              "    </tr>\n",
              "    <tr>\n",
              "      <th>2</th>\n",
              "      <td>-0.352409</td>\n",
              "      <td>-0.290633</td>\n",
              "    </tr>\n",
              "    <tr>\n",
              "      <th>3</th>\n",
              "      <td>-0.681547</td>\n",
              "      <td>-0.530573</td>\n",
              "    </tr>\n",
              "    <tr>\n",
              "      <th>4</th>\n",
              "      <td>-1.010684</td>\n",
              "      <td>-1.040870</td>\n",
              "    </tr>\n",
              "    <tr>\n",
              "      <th>5</th>\n",
              "      <td>1.622413</td>\n",
              "      <td>1.858697</td>\n",
              "    </tr>\n",
              "    <tr>\n",
              "      <th>6</th>\n",
              "      <td>0.934218</td>\n",
              "      <td>-0.047312</td>\n",
              "    </tr>\n",
              "    <tr>\n",
              "      <th>7</th>\n",
              "      <td>1.173590</td>\n",
              "      <td>0.537332</td>\n",
              "    </tr>\n",
              "    <tr>\n",
              "      <th>8</th>\n",
              "      <td>0.006649</td>\n",
              "      <td>1.152392</td>\n",
              "    </tr>\n",
              "  </tbody>\n",
              "</table>\n",
              "</div>"
            ],
            "text/plain": [
              "       var1      var2\n",
              "0 -1.040605 -1.078044\n",
              "1 -0.651625 -0.560989\n",
              "2 -0.352409 -0.290633\n",
              "3 -0.681547 -0.530573\n",
              "4 -1.010684 -1.040870\n",
              "5  1.622413  1.858697\n",
              "6  0.934218 -0.047312\n",
              "7  1.173590  0.537332\n",
              "8  0.006649  1.152392"
            ]
          },
          "execution_count": 63,
          "metadata": {},
          "output_type": "execute_result"
        }
      ],
      "source": [
        "# returns A DataFrame that must have the same length as self. Standardization(mean 0 std 1) Normalization (0-1)\n",
        "df_num.transform(lambda x : (x-x.mean())/x.std())\n",
        "#(df_num-df_num.mean())/df_num.std()"
      ]
    },
    {
      "cell_type": "code",
      "execution_count": null,
      "metadata": {
        "id": "bHMjSFFJYOP7",
        "outputId": "74cd382b-04f9-457b-de15-2e78761c32fa"
      },
      "outputs": [
        {
          "data": {
            "text/plain": [
              "0   -1.040605\n",
              "1   -0.651625\n",
              "2   -0.352409\n",
              "3   -0.681547\n",
              "4   -1.010684\n",
              "5    1.622413\n",
              "6    0.934218\n",
              "7    1.173590\n",
              "8    0.006649\n",
              "Name: var1, dtype: float64"
            ]
          },
          "execution_count": 64,
          "metadata": {},
          "output_type": "execute_result"
        }
      ],
      "source": [
        "df_num.var1.transform(lambda x : (x-x.mean())/x.std())"
      ]
    },
    {
      "cell_type": "code",
      "execution_count": null,
      "metadata": {
        "id": "niOs6JalYOP7",
        "outputId": "ddf824f6-be4b-426c-df9f-5186e6aae38c"
      },
      "outputs": [
        {
          "data": {
            "text/plain": [
              "0    3.162278\n",
              "1    4.795832\n",
              "2    5.744563\n",
              "3    4.690416\n",
              "4    3.316625\n",
              "5    9.949874\n",
              "6    8.717798\n",
              "7    9.165151\n",
              "8    6.708204\n",
              "Name: var1, dtype: float64"
            ]
          },
          "execution_count": 65,
          "metadata": {},
          "output_type": "execute_result"
        }
      ],
      "source": [
        "df_num.var1.transform(np.sqrt)"
      ]
    },
    {
      "cell_type": "code",
      "execution_count": null,
      "metadata": {
        "id": "0ztwralYYOP7",
        "outputId": "62170a8a-9beb-4627-a1ca-bb2144aedd25"
      },
      "outputs": [
        {
          "data": {
            "text/html": [
              "<div>\n",
              "<style scoped>\n",
              "    .dataframe tbody tr th:only-of-type {\n",
              "        vertical-align: middle;\n",
              "    }\n",
              "\n",
              "    .dataframe tbody tr th {\n",
              "        vertical-align: top;\n",
              "    }\n",
              "\n",
              "    .dataframe thead th {\n",
              "        text-align: right;\n",
              "    }\n",
              "</style>\n",
              "<table border=\"1\" class=\"dataframe\">\n",
              "  <thead>\n",
              "    <tr style=\"text-align: right;\">\n",
              "      <th></th>\n",
              "      <th>sqrt</th>\n",
              "      <th>exp</th>\n",
              "    </tr>\n",
              "  </thead>\n",
              "  <tbody>\n",
              "    <tr>\n",
              "      <th>0</th>\n",
              "      <td>3.162278</td>\n",
              "      <td>2.202647e+04</td>\n",
              "    </tr>\n",
              "    <tr>\n",
              "      <th>1</th>\n",
              "      <td>4.795832</td>\n",
              "      <td>9.744803e+09</td>\n",
              "    </tr>\n",
              "    <tr>\n",
              "      <th>2</th>\n",
              "      <td>5.744563</td>\n",
              "      <td>2.146436e+14</td>\n",
              "    </tr>\n",
              "    <tr>\n",
              "      <th>3</th>\n",
              "      <td>4.690416</td>\n",
              "      <td>3.584913e+09</td>\n",
              "    </tr>\n",
              "    <tr>\n",
              "      <th>4</th>\n",
              "      <td>3.316625</td>\n",
              "      <td>5.987414e+04</td>\n",
              "    </tr>\n",
              "    <tr>\n",
              "      <th>5</th>\n",
              "      <td>9.949874</td>\n",
              "      <td>9.889030e+42</td>\n",
              "    </tr>\n",
              "    <tr>\n",
              "      <th>6</th>\n",
              "      <td>8.717798</td>\n",
              "      <td>1.014800e+33</td>\n",
              "    </tr>\n",
              "    <tr>\n",
              "      <th>7</th>\n",
              "      <td>9.165151</td>\n",
              "      <td>3.025077e+36</td>\n",
              "    </tr>\n",
              "    <tr>\n",
              "      <th>8</th>\n",
              "      <td>6.708204</td>\n",
              "      <td>3.493427e+19</td>\n",
              "    </tr>\n",
              "  </tbody>\n",
              "</table>\n",
              "</div>"
            ],
            "text/plain": [
              "       sqrt           exp\n",
              "0  3.162278  2.202647e+04\n",
              "1  4.795832  9.744803e+09\n",
              "2  5.744563  2.146436e+14\n",
              "3  4.690416  3.584913e+09\n",
              "4  3.316625  5.987414e+04\n",
              "5  9.949874  9.889030e+42\n",
              "6  8.717798  1.014800e+33\n",
              "7  9.165151  3.025077e+36\n",
              "8  6.708204  3.493427e+19"
            ]
          },
          "execution_count": 66,
          "metadata": {},
          "output_type": "execute_result"
        }
      ],
      "source": [
        "df_num.var1.transform([np.sqrt, np.exp])"
      ]
    },
    {
      "cell_type": "markdown",
      "metadata": {
        "id": "YEDd-S80YOP8"
      },
      "source": [
        "### DataFrame.groupby().transform()"
      ]
    },
    {
      "cell_type": "markdown",
      "metadata": {
        "id": "QnlWJn5yYOP8"
      },
      "source": [
        "- DataFrameGroupBy.transform(func, *args, engine=None, engine_kwargs=None, **kwargs)\n",
        "- Call function producing a like-indexed DataFrame on each group and return a DataFrame having the same indexes as the original object filled with the transformed values."
      ]
    },
    {
      "cell_type": "code",
      "execution_count": null,
      "metadata": {
        "id": "viCaldafYOP8",
        "outputId": "d96f025b-fb45-4cf2-e1ac-51f81055dc48"
      },
      "outputs": [
        {
          "data": {
            "text/plain": [
              "groups\n",
              "A    36.000000\n",
              "B    39.333333\n",
              "C    59.000000\n",
              "Name: var1, dtype: float64"
            ]
          },
          "execution_count": 67,
          "metadata": {},
          "output_type": "execute_result"
        }
      ],
      "source": [
        "df2.groupby(\"groups\")[\"var1\"].mean()"
      ]
    },
    {
      "cell_type": "code",
      "execution_count": null,
      "metadata": {
        "id": "L-5_Z7-JYOP8",
        "outputId": "d47bb9d1-5f88-4491-9dcd-bbf9b43dc26a"
      },
      "outputs": [
        {
          "data": {
            "text/plain": [
              "0    36.000000\n",
              "1    39.333333\n",
              "2    59.000000\n",
              "3    36.000000\n",
              "4    39.333333\n",
              "5    59.000000\n",
              "6    36.000000\n",
              "7    39.333333\n",
              "8    59.000000\n",
              "Name: var1, dtype: float64"
            ]
          },
          "execution_count": 68,
          "metadata": {},
          "output_type": "execute_result"
        }
      ],
      "source": [
        "df2.groupby(\"groups\")[\"var1\"].transform(\"mean\")"
      ]
    },
    {
      "cell_type": "code",
      "execution_count": null,
      "metadata": {
        "id": "Ile0xxFgYOP9",
        "outputId": "19ad2791-6b3e-4ddf-af9c-ea62bb302661"
      },
      "outputs": [
        {
          "data": {
            "text/html": [
              "<div>\n",
              "<style scoped>\n",
              "    .dataframe tbody tr th:only-of-type {\n",
              "        vertical-align: middle;\n",
              "    }\n",
              "\n",
              "    .dataframe tbody tr th {\n",
              "        vertical-align: top;\n",
              "    }\n",
              "\n",
              "    .dataframe thead th {\n",
              "        text-align: right;\n",
              "    }\n",
              "</style>\n",
              "<table border=\"1\" class=\"dataframe\">\n",
              "  <thead>\n",
              "    <tr style=\"text-align: right;\">\n",
              "      <th></th>\n",
              "      <th>groups</th>\n",
              "      <th>var1</th>\n",
              "      <th>var2</th>\n",
              "      <th>var1_mean_transform</th>\n",
              "    </tr>\n",
              "  </thead>\n",
              "  <tbody>\n",
              "    <tr>\n",
              "      <th>0</th>\n",
              "      <td>A</td>\n",
              "      <td>10</td>\n",
              "      <td>100</td>\n",
              "      <td>36.000000</td>\n",
              "    </tr>\n",
              "    <tr>\n",
              "      <th>1</th>\n",
              "      <td>B</td>\n",
              "      <td>23</td>\n",
              "      <td>253</td>\n",
              "      <td>39.333333</td>\n",
              "    </tr>\n",
              "    <tr>\n",
              "      <th>2</th>\n",
              "      <td>C</td>\n",
              "      <td>33</td>\n",
              "      <td>333</td>\n",
              "      <td>59.000000</td>\n",
              "    </tr>\n",
              "    <tr>\n",
              "      <th>3</th>\n",
              "      <td>A</td>\n",
              "      <td>22</td>\n",
              "      <td>262</td>\n",
              "      <td>36.000000</td>\n",
              "    </tr>\n",
              "    <tr>\n",
              "      <th>4</th>\n",
              "      <td>B</td>\n",
              "      <td>11</td>\n",
              "      <td>111</td>\n",
              "      <td>39.333333</td>\n",
              "    </tr>\n",
              "    <tr>\n",
              "      <th>5</th>\n",
              "      <td>C</td>\n",
              "      <td>99</td>\n",
              "      <td>969</td>\n",
              "      <td>59.000000</td>\n",
              "    </tr>\n",
              "    <tr>\n",
              "      <th>6</th>\n",
              "      <td>A</td>\n",
              "      <td>76</td>\n",
              "      <td>405</td>\n",
              "      <td>36.000000</td>\n",
              "    </tr>\n",
              "    <tr>\n",
              "      <th>7</th>\n",
              "      <td>B</td>\n",
              "      <td>84</td>\n",
              "      <td>578</td>\n",
              "      <td>39.333333</td>\n",
              "    </tr>\n",
              "    <tr>\n",
              "      <th>8</th>\n",
              "      <td>C</td>\n",
              "      <td>45</td>\n",
              "      <td>760</td>\n",
              "      <td>59.000000</td>\n",
              "    </tr>\n",
              "  </tbody>\n",
              "</table>\n",
              "</div>"
            ],
            "text/plain": [
              "  groups  var1  var2  var1_mean_transform\n",
              "0      A    10   100            36.000000\n",
              "1      B    23   253            39.333333\n",
              "2      C    33   333            59.000000\n",
              "3      A    22   262            36.000000\n",
              "4      B    11   111            39.333333\n",
              "5      C    99   969            59.000000\n",
              "6      A    76   405            36.000000\n",
              "7      B    84   578            39.333333\n",
              "8      C    45   760            59.000000"
            ]
          },
          "execution_count": 69,
          "metadata": {},
          "output_type": "execute_result"
        }
      ],
      "source": [
        "df2[\"var1_mean_transform\"] = df2.groupby(\"groups\")[\"var1\"].transform(\"mean\")\n",
        "df2"
      ]
    },
    {
      "cell_type": "code",
      "execution_count": null,
      "metadata": {
        "id": "yqoTY_v4YOP9",
        "outputId": "b36ebe49-3add-4c6d-cf46-a9b4c8b136e1"
      },
      "outputs": [
        {
          "data": {
            "text/html": [
              "<div>\n",
              "<style scoped>\n",
              "    .dataframe tbody tr th:only-of-type {\n",
              "        vertical-align: middle;\n",
              "    }\n",
              "\n",
              "    .dataframe tbody tr th {\n",
              "        vertical-align: top;\n",
              "    }\n",
              "\n",
              "    .dataframe thead th {\n",
              "        text-align: right;\n",
              "    }\n",
              "</style>\n",
              "<table border=\"1\" class=\"dataframe\">\n",
              "  <thead>\n",
              "    <tr style=\"text-align: right;\">\n",
              "      <th></th>\n",
              "      <th>groups</th>\n",
              "      <th>var1</th>\n",
              "      <th>var2</th>\n",
              "      <th>var1_mean_transform</th>\n",
              "      <th>var2_median_transform</th>\n",
              "    </tr>\n",
              "  </thead>\n",
              "  <tbody>\n",
              "    <tr>\n",
              "      <th>0</th>\n",
              "      <td>A</td>\n",
              "      <td>10</td>\n",
              "      <td>100</td>\n",
              "      <td>36.000000</td>\n",
              "      <td>262</td>\n",
              "    </tr>\n",
              "    <tr>\n",
              "      <th>1</th>\n",
              "      <td>B</td>\n",
              "      <td>23</td>\n",
              "      <td>253</td>\n",
              "      <td>39.333333</td>\n",
              "      <td>253</td>\n",
              "    </tr>\n",
              "    <tr>\n",
              "      <th>2</th>\n",
              "      <td>C</td>\n",
              "      <td>33</td>\n",
              "      <td>333</td>\n",
              "      <td>59.000000</td>\n",
              "      <td>760</td>\n",
              "    </tr>\n",
              "    <tr>\n",
              "      <th>3</th>\n",
              "      <td>A</td>\n",
              "      <td>22</td>\n",
              "      <td>262</td>\n",
              "      <td>36.000000</td>\n",
              "      <td>262</td>\n",
              "    </tr>\n",
              "    <tr>\n",
              "      <th>4</th>\n",
              "      <td>B</td>\n",
              "      <td>11</td>\n",
              "      <td>111</td>\n",
              "      <td>39.333333</td>\n",
              "      <td>253</td>\n",
              "    </tr>\n",
              "    <tr>\n",
              "      <th>5</th>\n",
              "      <td>C</td>\n",
              "      <td>99</td>\n",
              "      <td>969</td>\n",
              "      <td>59.000000</td>\n",
              "      <td>760</td>\n",
              "    </tr>\n",
              "    <tr>\n",
              "      <th>6</th>\n",
              "      <td>A</td>\n",
              "      <td>76</td>\n",
              "      <td>405</td>\n",
              "      <td>36.000000</td>\n",
              "      <td>262</td>\n",
              "    </tr>\n",
              "    <tr>\n",
              "      <th>7</th>\n",
              "      <td>B</td>\n",
              "      <td>84</td>\n",
              "      <td>578</td>\n",
              "      <td>39.333333</td>\n",
              "      <td>253</td>\n",
              "    </tr>\n",
              "    <tr>\n",
              "      <th>8</th>\n",
              "      <td>C</td>\n",
              "      <td>45</td>\n",
              "      <td>760</td>\n",
              "      <td>59.000000</td>\n",
              "      <td>760</td>\n",
              "    </tr>\n",
              "  </tbody>\n",
              "</table>\n",
              "</div>"
            ],
            "text/plain": [
              "  groups  var1  var2  var1_mean_transform  var2_median_transform\n",
              "0      A    10   100            36.000000                    262\n",
              "1      B    23   253            39.333333                    253\n",
              "2      C    33   333            59.000000                    760\n",
              "3      A    22   262            36.000000                    262\n",
              "4      B    11   111            39.333333                    253\n",
              "5      C    99   969            59.000000                    760\n",
              "6      A    76   405            36.000000                    262\n",
              "7      B    84   578            39.333333                    253\n",
              "8      C    45   760            59.000000                    760"
            ]
          },
          "execution_count": 70,
          "metadata": {},
          "output_type": "execute_result"
        }
      ],
      "source": [
        "df2[\"var2_median_transform\"] = df2.groupby(\"groups\")[\"var2\"].transform(\"median\")\n",
        "df2"
      ]
    },
    {
      "cell_type": "markdown",
      "metadata": {
        "id": "vEOAlanNYOP9"
      },
      "source": [
        "<h1><p style=\"text-align: center;\">Pandas Lesson, Session - 6</p><h1>"
      ]
    },
    {
      "cell_type": "markdown",
      "metadata": {
        "id": "my3PW9M8Qhl4"
      },
      "source": [
        "## .apply()"
      ]
    },
    {
      "cell_type": "markdown",
      "metadata": {
        "id": "q-_PDZNPYOP-"
      },
      "source": [
        "### Series.apply() - df[\"col\"].apply()"
      ]
    },
    {
      "cell_type": "markdown",
      "metadata": {
        "id": "bp15xsYdYOP-"
      },
      "source": [
        "- Series.apply(func, convert_dtype=True, args=(), **kwargs)\n",
        "- Invoke function on values of Series.\n",
        "- Can be ufunc (a NumPy function that applies to the entire Series) or a Python function that only works on single values."
      ]
    },
    {
      "cell_type": "code",
      "execution_count": null,
      "metadata": {
        "id": "R85G-1d7Qhl5",
        "outputId": "3205bf5b-3c1c-4038-d7f9-6b45b330c57f"
      },
      "outputs": [
        {
          "data": {
            "text/html": [
              "<div>\n",
              "<style scoped>\n",
              "    .dataframe tbody tr th:only-of-type {\n",
              "        vertical-align: middle;\n",
              "    }\n",
              "\n",
              "    .dataframe tbody tr th {\n",
              "        vertical-align: top;\n",
              "    }\n",
              "\n",
              "    .dataframe thead th {\n",
              "        text-align: right;\n",
              "    }\n",
              "</style>\n",
              "<table border=\"1\" class=\"dataframe\">\n",
              "  <thead>\n",
              "    <tr style=\"text-align: right;\">\n",
              "      <th></th>\n",
              "      <th>col1</th>\n",
              "      <th>col2</th>\n",
              "      <th>col3</th>\n",
              "    </tr>\n",
              "  </thead>\n",
              "  <tbody>\n",
              "    <tr>\n",
              "      <th>0</th>\n",
              "      <td>1</td>\n",
              "      <td>444</td>\n",
              "      <td>abc</td>\n",
              "    </tr>\n",
              "    <tr>\n",
              "      <th>1</th>\n",
              "      <td>2</td>\n",
              "      <td>555</td>\n",
              "      <td>def</td>\n",
              "    </tr>\n",
              "    <tr>\n",
              "      <th>2</th>\n",
              "      <td>3</td>\n",
              "      <td>666</td>\n",
              "      <td>ghi</td>\n",
              "    </tr>\n",
              "    <tr>\n",
              "      <th>3</th>\n",
              "      <td>4</td>\n",
              "      <td>444</td>\n",
              "      <td>xyz</td>\n",
              "    </tr>\n",
              "  </tbody>\n",
              "</table>\n",
              "</div>"
            ],
            "text/plain": [
              "   col1  col2 col3\n",
              "0     1   444  abc\n",
              "1     2   555  def\n",
              "2     3   666  ghi\n",
              "3     4   444  xyz"
            ]
          },
          "execution_count": 71,
          "metadata": {},
          "output_type": "execute_result"
        }
      ],
      "source": [
        "df3 = pd.DataFrame({'col1':[1,2,3,4],'col2':[444,555,666,444],'col3':['abc','def','ghi','xyz']})\n",
        "\n",
        "df3"
      ]
    },
    {
      "cell_type": "code",
      "execution_count": null,
      "metadata": {
        "id": "6KAjgCrKQhl6"
      },
      "outputs": [],
      "source": [
        "def squared(x):\n",
        "    return x**2"
      ]
    },
    {
      "cell_type": "code",
      "execution_count": null,
      "metadata": {
        "id": "uI9RB-lDQhl6",
        "outputId": "c3c99fa2-1df8-4f8e-ac7b-1ffb42c1b23b"
      },
      "outputs": [
        {
          "data": {
            "text/plain": [
              "0     1\n",
              "1     4\n",
              "2     9\n",
              "3    16\n",
              "Name: col1, dtype: int64"
            ]
          },
          "execution_count": 73,
          "metadata": {},
          "output_type": "execute_result"
        }
      ],
      "source": [
        "df3['col1'].apply(squared)"
      ]
    },
    {
      "cell_type": "code",
      "execution_count": null,
      "metadata": {
        "id": "Z2I6ulyaQhl6",
        "outputId": "046e49b3-75b6-4da2-8b9c-27be0d559ad6",
        "scrolled": false
      },
      "outputs": [
        {
          "data": {
            "text/plain": [
              "0    6.095825\n",
              "1    6.318968\n",
              "2    6.501290\n",
              "3    6.095825\n",
              "Name: col2, dtype: float64"
            ]
          },
          "execution_count": 74,
          "metadata": {},
          "output_type": "execute_result"
        }
      ],
      "source": [
        "df3['col2'].apply(np.log)"
      ]
    },
    {
      "cell_type": "code",
      "execution_count": null,
      "metadata": {
        "id": "cPAjxmeRYOP_",
        "outputId": "db13170a-ce06-472b-b937-fba84bf9ff23"
      },
      "outputs": [
        {
          "data": {
            "text/plain": [
              "0    3\n",
              "1    3\n",
              "2    3\n",
              "3    3\n",
              "Name: col3, dtype: int64"
            ]
          },
          "execution_count": 75,
          "metadata": {},
          "output_type": "execute_result"
        }
      ],
      "source": [
        "df3['col3'].apply(len)"
      ]
    },
    {
      "cell_type": "code",
      "execution_count": null,
      "metadata": {
        "id": "PjJG3gZhYOQA",
        "outputId": "d21d02d8-3c1b-48c1-c8cf-c298b0a25bee"
      },
      "outputs": [
        {
          "data": {
            "text/plain": [
              "0    aaa\n",
              "1    ddd\n",
              "2    ggg\n",
              "3    xxx\n",
              "Name: col3, dtype: object"
            ]
          },
          "execution_count": 76,
          "metadata": {},
          "output_type": "execute_result"
        }
      ],
      "source": [
        "df3['col3'].apply(lambda x: x[0] * 3)"
      ]
    },
    {
      "cell_type": "code",
      "execution_count": null,
      "metadata": {
        "id": "9fWuMnHdYOQA",
        "outputId": "f916fc15-50be-44fe-df17-83c998ff8145"
      },
      "outputs": [
        {
          "data": {
            "text/plain": [
              "0    high\n",
              "1     low\n",
              "2     low\n",
              "3    high\n",
              "Name: col2, dtype: object"
            ]
          },
          "execution_count": 77,
          "metadata": {},
          "output_type": "execute_result"
        }
      ],
      "source": [
        "df3['col2'].apply(lambda x: \"low\" if x > 500 else \"high\")"
      ]
    },
    {
      "cell_type": "markdown",
      "metadata": {
        "id": "JHQHkXMIYOQA"
      },
      "source": [
        "### DataFrame.apply()"
      ]
    },
    {
      "cell_type": "markdown",
      "metadata": {
        "id": "UrffSpPhYOQB"
      },
      "source": [
        "- DataFrame.apply(func, axis=0, raw=False, result_type=None, args=(), **kwargs)\n",
        "- Apply a function along an axis of the DataFrame."
      ]
    },
    {
      "cell_type": "code",
      "execution_count": null,
      "metadata": {
        "id": "9oJVBQ-bQhl4",
        "outputId": "3cc5e461-fb9f-4401-f4c2-4bbb028748a0"
      },
      "outputs": [
        {
          "data": {
            "text/html": [
              "<div>\n",
              "<style scoped>\n",
              "    .dataframe tbody tr th:only-of-type {\n",
              "        vertical-align: middle;\n",
              "    }\n",
              "\n",
              "    .dataframe tbody tr th {\n",
              "        vertical-align: top;\n",
              "    }\n",
              "\n",
              "    .dataframe thead th {\n",
              "        text-align: right;\n",
              "    }\n",
              "</style>\n",
              "<table border=\"1\" class=\"dataframe\">\n",
              "  <thead>\n",
              "    <tr style=\"text-align: right;\">\n",
              "      <th></th>\n",
              "      <th>groups</th>\n",
              "      <th>var1</th>\n",
              "      <th>var2</th>\n",
              "      <th>var1_mean_transform</th>\n",
              "      <th>var2_median_transform</th>\n",
              "    </tr>\n",
              "  </thead>\n",
              "  <tbody>\n",
              "    <tr>\n",
              "      <th>0</th>\n",
              "      <td>A</td>\n",
              "      <td>10</td>\n",
              "      <td>100</td>\n",
              "      <td>36.000000</td>\n",
              "      <td>262</td>\n",
              "    </tr>\n",
              "    <tr>\n",
              "      <th>1</th>\n",
              "      <td>B</td>\n",
              "      <td>23</td>\n",
              "      <td>253</td>\n",
              "      <td>39.333333</td>\n",
              "      <td>253</td>\n",
              "    </tr>\n",
              "    <tr>\n",
              "      <th>2</th>\n",
              "      <td>C</td>\n",
              "      <td>33</td>\n",
              "      <td>333</td>\n",
              "      <td>59.000000</td>\n",
              "      <td>760</td>\n",
              "    </tr>\n",
              "    <tr>\n",
              "      <th>3</th>\n",
              "      <td>A</td>\n",
              "      <td>22</td>\n",
              "      <td>262</td>\n",
              "      <td>36.000000</td>\n",
              "      <td>262</td>\n",
              "    </tr>\n",
              "    <tr>\n",
              "      <th>4</th>\n",
              "      <td>B</td>\n",
              "      <td>11</td>\n",
              "      <td>111</td>\n",
              "      <td>39.333333</td>\n",
              "      <td>253</td>\n",
              "    </tr>\n",
              "    <tr>\n",
              "      <th>5</th>\n",
              "      <td>C</td>\n",
              "      <td>99</td>\n",
              "      <td>969</td>\n",
              "      <td>59.000000</td>\n",
              "      <td>760</td>\n",
              "    </tr>\n",
              "    <tr>\n",
              "      <th>6</th>\n",
              "      <td>A</td>\n",
              "      <td>76</td>\n",
              "      <td>405</td>\n",
              "      <td>36.000000</td>\n",
              "      <td>262</td>\n",
              "    </tr>\n",
              "    <tr>\n",
              "      <th>7</th>\n",
              "      <td>B</td>\n",
              "      <td>84</td>\n",
              "      <td>578</td>\n",
              "      <td>39.333333</td>\n",
              "      <td>253</td>\n",
              "    </tr>\n",
              "    <tr>\n",
              "      <th>8</th>\n",
              "      <td>C</td>\n",
              "      <td>45</td>\n",
              "      <td>760</td>\n",
              "      <td>59.000000</td>\n",
              "      <td>760</td>\n",
              "    </tr>\n",
              "  </tbody>\n",
              "</table>\n",
              "</div>"
            ],
            "text/plain": [
              "  groups  var1  var2  var1_mean_transform  var2_median_transform\n",
              "0      A    10   100            36.000000                    262\n",
              "1      B    23   253            39.333333                    253\n",
              "2      C    33   333            59.000000                    760\n",
              "3      A    22   262            36.000000                    262\n",
              "4      B    11   111            39.333333                    253\n",
              "5      C    99   969            59.000000                    760\n",
              "6      A    76   405            36.000000                    262\n",
              "7      B    84   578            39.333333                    253\n",
              "8      C    45   760            59.000000                    760"
            ]
          },
          "execution_count": 78,
          "metadata": {},
          "output_type": "execute_result"
        }
      ],
      "source": [
        "df2"
      ]
    },
    {
      "cell_type": "code",
      "execution_count": null,
      "metadata": {
        "id": "HwRV7FhFYOQB",
        "outputId": "beff9971-9929-4ef8-fdc7-fd736fe92ea9"
      },
      "outputs": [
        {
          "data": {
            "text/html": [
              "<div>\n",
              "<style scoped>\n",
              "    .dataframe tbody tr th:only-of-type {\n",
              "        vertical-align: middle;\n",
              "    }\n",
              "\n",
              "    .dataframe tbody tr th {\n",
              "        vertical-align: top;\n",
              "    }\n",
              "\n",
              "    .dataframe thead th {\n",
              "        text-align: right;\n",
              "    }\n",
              "</style>\n",
              "<table border=\"1\" class=\"dataframe\">\n",
              "  <thead>\n",
              "    <tr style=\"text-align: right;\">\n",
              "      <th></th>\n",
              "      <th>groups</th>\n",
              "      <th>var1</th>\n",
              "      <th>var2</th>\n",
              "    </tr>\n",
              "  </thead>\n",
              "  <tbody>\n",
              "    <tr>\n",
              "      <th>0</th>\n",
              "      <td>A</td>\n",
              "      <td>10</td>\n",
              "      <td>100</td>\n",
              "    </tr>\n",
              "    <tr>\n",
              "      <th>1</th>\n",
              "      <td>B</td>\n",
              "      <td>23</td>\n",
              "      <td>253</td>\n",
              "    </tr>\n",
              "    <tr>\n",
              "      <th>2</th>\n",
              "      <td>C</td>\n",
              "      <td>33</td>\n",
              "      <td>333</td>\n",
              "    </tr>\n",
              "    <tr>\n",
              "      <th>3</th>\n",
              "      <td>A</td>\n",
              "      <td>22</td>\n",
              "      <td>262</td>\n",
              "    </tr>\n",
              "    <tr>\n",
              "      <th>4</th>\n",
              "      <td>B</td>\n",
              "      <td>11</td>\n",
              "      <td>111</td>\n",
              "    </tr>\n",
              "    <tr>\n",
              "      <th>5</th>\n",
              "      <td>C</td>\n",
              "      <td>99</td>\n",
              "      <td>969</td>\n",
              "    </tr>\n",
              "    <tr>\n",
              "      <th>6</th>\n",
              "      <td>A</td>\n",
              "      <td>76</td>\n",
              "      <td>405</td>\n",
              "    </tr>\n",
              "    <tr>\n",
              "      <th>7</th>\n",
              "      <td>B</td>\n",
              "      <td>84</td>\n",
              "      <td>578</td>\n",
              "    </tr>\n",
              "    <tr>\n",
              "      <th>8</th>\n",
              "      <td>C</td>\n",
              "      <td>45</td>\n",
              "      <td>760</td>\n",
              "    </tr>\n",
              "  </tbody>\n",
              "</table>\n",
              "</div>"
            ],
            "text/plain": [
              "  groups  var1  var2\n",
              "0      A    10   100\n",
              "1      B    23   253\n",
              "2      C    33   333\n",
              "3      A    22   262\n",
              "4      B    11   111\n",
              "5      C    99   969\n",
              "6      A    76   405\n",
              "7      B    84   578\n",
              "8      C    45   760"
            ]
          },
          "execution_count": 79,
          "metadata": {},
          "output_type": "execute_result"
        }
      ],
      "source": [
        "df2.drop([\"var1_mean_transform\", \"var2_median_transform\"], axis=1, inplace=True)\n",
        "df2"
      ]
    },
    {
      "cell_type": "code",
      "execution_count": null,
      "metadata": {
        "id": "MvHv9liJQhl4",
        "outputId": "a91af5f2-c0fe-4736-80cc-31eafc694ab7"
      },
      "outputs": [
        {
          "data": {
            "text/plain": [
              "groups    ABCABCABC\n",
              "var1            403\n",
              "var2           3771\n",
              "dtype: object"
            ]
          },
          "execution_count": 80,
          "metadata": {},
          "output_type": "execute_result"
        }
      ],
      "source": [
        "df2.apply(np.sum)"
      ]
    },
    {
      "cell_type": "code",
      "execution_count": null,
      "metadata": {
        "id": "w8C60gNYQhl5"
      },
      "outputs": [],
      "source": [
        "# It gives an error due to the non-numeric column : \"groups\"\n",
        "\n",
        "# df2.apply(np.sum, axis=1)"
      ]
    },
    {
      "cell_type": "code",
      "execution_count": null,
      "metadata": {
        "id": "b0eYna7sYOQD",
        "outputId": "e972a662-e592-4bca-8617-43bbbf43ca98"
      },
      "outputs": [
        {
          "data": {
            "text/html": [
              "<div>\n",
              "<style scoped>\n",
              "    .dataframe tbody tr th:only-of-type {\n",
              "        vertical-align: middle;\n",
              "    }\n",
              "\n",
              "    .dataframe tbody tr th {\n",
              "        vertical-align: top;\n",
              "    }\n",
              "\n",
              "    .dataframe thead th {\n",
              "        text-align: right;\n",
              "    }\n",
              "</style>\n",
              "<table border=\"1\" class=\"dataframe\">\n",
              "  <thead>\n",
              "    <tr style=\"text-align: right;\">\n",
              "      <th></th>\n",
              "      <th>var1</th>\n",
              "      <th>var2</th>\n",
              "    </tr>\n",
              "  </thead>\n",
              "  <tbody>\n",
              "    <tr>\n",
              "      <th>0</th>\n",
              "      <td>10</td>\n",
              "      <td>100</td>\n",
              "    </tr>\n",
              "    <tr>\n",
              "      <th>1</th>\n",
              "      <td>23</td>\n",
              "      <td>253</td>\n",
              "    </tr>\n",
              "    <tr>\n",
              "      <th>2</th>\n",
              "      <td>33</td>\n",
              "      <td>333</td>\n",
              "    </tr>\n",
              "    <tr>\n",
              "      <th>3</th>\n",
              "      <td>22</td>\n",
              "      <td>262</td>\n",
              "    </tr>\n",
              "    <tr>\n",
              "      <th>4</th>\n",
              "      <td>11</td>\n",
              "      <td>111</td>\n",
              "    </tr>\n",
              "    <tr>\n",
              "      <th>5</th>\n",
              "      <td>99</td>\n",
              "      <td>969</td>\n",
              "    </tr>\n",
              "    <tr>\n",
              "      <th>6</th>\n",
              "      <td>76</td>\n",
              "      <td>405</td>\n",
              "    </tr>\n",
              "    <tr>\n",
              "      <th>7</th>\n",
              "      <td>84</td>\n",
              "      <td>578</td>\n",
              "    </tr>\n",
              "    <tr>\n",
              "      <th>8</th>\n",
              "      <td>45</td>\n",
              "      <td>760</td>\n",
              "    </tr>\n",
              "  </tbody>\n",
              "</table>\n",
              "</div>"
            ],
            "text/plain": [
              "   var1  var2\n",
              "0    10   100\n",
              "1    23   253\n",
              "2    33   333\n",
              "3    22   262\n",
              "4    11   111\n",
              "5    99   969\n",
              "6    76   405\n",
              "7    84   578\n",
              "8    45   760"
            ]
          },
          "execution_count": 82,
          "metadata": {},
          "output_type": "execute_result"
        }
      ],
      "source": [
        "df_num"
      ]
    },
    {
      "cell_type": "code",
      "execution_count": null,
      "metadata": {
        "id": "ns9MAMRPQhl5",
        "outputId": "c2c27cdc-c617-4f35-d705-79386254d3ed"
      },
      "outputs": [
        {
          "data": {
            "text/plain": [
              "var1     403\n",
              "var2    3771\n",
              "dtype: int64"
            ]
          },
          "execution_count": 83,
          "metadata": {},
          "output_type": "execute_result"
        }
      ],
      "source": [
        "df_num.apply(np.sum)\n",
        "#df_num.sum()"
      ]
    },
    {
      "cell_type": "code",
      "execution_count": null,
      "metadata": {
        "id": "EHQXV7JUQhl5",
        "outputId": "fe31b066-7fa3-4184-d152-7b9adc612c84"
      },
      "outputs": [
        {
          "data": {
            "text/plain": [
              "0     110\n",
              "1     276\n",
              "2     366\n",
              "3     284\n",
              "4     122\n",
              "5    1068\n",
              "6     481\n",
              "7     662\n",
              "8     805\n",
              "dtype: int64"
            ]
          },
          "execution_count": 84,
          "metadata": {},
          "output_type": "execute_result"
        }
      ],
      "source": [
        "df_num.apply(np.sum, axis=1)\n",
        "#df_num.sum(axis=1)"
      ]
    },
    {
      "cell_type": "code",
      "execution_count": null,
      "metadata": {
        "id": "uG1ls8trYOQD",
        "outputId": "d9ef4d56-2537-4383-a5f1-b5d08c5155dc"
      },
      "outputs": [
        {
          "data": {
            "text/html": [
              "<div>\n",
              "<style scoped>\n",
              "    .dataframe tbody tr th:only-of-type {\n",
              "        vertical-align: middle;\n",
              "    }\n",
              "\n",
              "    .dataframe tbody tr th {\n",
              "        vertical-align: top;\n",
              "    }\n",
              "\n",
              "    .dataframe thead th {\n",
              "        text-align: right;\n",
              "    }\n",
              "</style>\n",
              "<table border=\"1\" class=\"dataframe\">\n",
              "  <thead>\n",
              "    <tr style=\"text-align: right;\">\n",
              "      <th></th>\n",
              "      <th>var1</th>\n",
              "      <th>var2</th>\n",
              "    </tr>\n",
              "  </thead>\n",
              "  <tbody>\n",
              "    <tr>\n",
              "      <th>0</th>\n",
              "      <td>20</td>\n",
              "      <td>110</td>\n",
              "    </tr>\n",
              "    <tr>\n",
              "      <th>1</th>\n",
              "      <td>33</td>\n",
              "      <td>263</td>\n",
              "    </tr>\n",
              "    <tr>\n",
              "      <th>2</th>\n",
              "      <td>43</td>\n",
              "      <td>343</td>\n",
              "    </tr>\n",
              "    <tr>\n",
              "      <th>3</th>\n",
              "      <td>32</td>\n",
              "      <td>272</td>\n",
              "    </tr>\n",
              "    <tr>\n",
              "      <th>4</th>\n",
              "      <td>21</td>\n",
              "      <td>121</td>\n",
              "    </tr>\n",
              "    <tr>\n",
              "      <th>5</th>\n",
              "      <td>109</td>\n",
              "      <td>979</td>\n",
              "    </tr>\n",
              "    <tr>\n",
              "      <th>6</th>\n",
              "      <td>86</td>\n",
              "      <td>415</td>\n",
              "    </tr>\n",
              "    <tr>\n",
              "      <th>7</th>\n",
              "      <td>94</td>\n",
              "      <td>588</td>\n",
              "    </tr>\n",
              "    <tr>\n",
              "      <th>8</th>\n",
              "      <td>55</td>\n",
              "      <td>770</td>\n",
              "    </tr>\n",
              "  </tbody>\n",
              "</table>\n",
              "</div>"
            ],
            "text/plain": [
              "   var1  var2\n",
              "0    20   110\n",
              "1    33   263\n",
              "2    43   343\n",
              "3    32   272\n",
              "4    21   121\n",
              "5   109   979\n",
              "6    86   415\n",
              "7    94   588\n",
              "8    55   770"
            ]
          },
          "execution_count": 85,
          "metadata": {},
          "output_type": "execute_result"
        }
      ],
      "source": [
        "df_num.apply(lambda x : x + 10)"
      ]
    },
    {
      "cell_type": "code",
      "execution_count": null,
      "metadata": {
        "id": "BlS-qQIZQhl5",
        "outputId": "5945107d-5b20-4962-d678-3392fb46ad79"
      },
      "outputs": [
        {
          "data": {
            "text/html": [
              "<div>\n",
              "<style scoped>\n",
              "    .dataframe tbody tr th:only-of-type {\n",
              "        vertical-align: middle;\n",
              "    }\n",
              "\n",
              "    .dataframe tbody tr th {\n",
              "        vertical-align: top;\n",
              "    }\n",
              "\n",
              "    .dataframe thead th {\n",
              "        text-align: right;\n",
              "    }\n",
              "</style>\n",
              "<table border=\"1\" class=\"dataframe\">\n",
              "  <thead>\n",
              "    <tr style=\"text-align: right;\">\n",
              "      <th></th>\n",
              "      <th>var1</th>\n",
              "      <th>var2</th>\n",
              "    </tr>\n",
              "    <tr>\n",
              "      <th>groups</th>\n",
              "      <th></th>\n",
              "      <th></th>\n",
              "    </tr>\n",
              "  </thead>\n",
              "  <tbody>\n",
              "    <tr>\n",
              "      <th>A</th>\n",
              "      <td>36.000000</td>\n",
              "      <td>255.666667</td>\n",
              "    </tr>\n",
              "    <tr>\n",
              "      <th>B</th>\n",
              "      <td>39.333333</td>\n",
              "      <td>314.000000</td>\n",
              "    </tr>\n",
              "    <tr>\n",
              "      <th>C</th>\n",
              "      <td>59.000000</td>\n",
              "      <td>687.333333</td>\n",
              "    </tr>\n",
              "  </tbody>\n",
              "</table>\n",
              "</div>"
            ],
            "text/plain": [
              "             var1        var2\n",
              "groups                       \n",
              "A       36.000000  255.666667\n",
              "B       39.333333  314.000000\n",
              "C       59.000000  687.333333"
            ]
          },
          "execution_count": 86,
          "metadata": {},
          "output_type": "execute_result"
        }
      ],
      "source": [
        "df2.groupby('groups').apply(np.mean)"
      ]
    },
    {
      "cell_type": "code",
      "execution_count": null,
      "metadata": {
        "id": "Pj-jkk4UQhl5",
        "outputId": "0ea7aa38-a6b6-4955-fdca-7228e2527fae"
      },
      "outputs": [
        {
          "data": {
            "text/html": [
              "<div>\n",
              "<style scoped>\n",
              "    .dataframe tbody tr th:only-of-type {\n",
              "        vertical-align: middle;\n",
              "    }\n",
              "\n",
              "    .dataframe tbody tr th {\n",
              "        vertical-align: top;\n",
              "    }\n",
              "\n",
              "    .dataframe thead th {\n",
              "        text-align: right;\n",
              "    }\n",
              "</style>\n",
              "<table border=\"1\" class=\"dataframe\">\n",
              "  <thead>\n",
              "    <tr style=\"text-align: right;\">\n",
              "      <th></th>\n",
              "      <th>var1</th>\n",
              "      <th>var2</th>\n",
              "    </tr>\n",
              "    <tr>\n",
              "      <th>groups</th>\n",
              "      <th></th>\n",
              "      <th></th>\n",
              "    </tr>\n",
              "  </thead>\n",
              "  <tbody>\n",
              "    <tr>\n",
              "      <th>A</th>\n",
              "      <td>36.000000</td>\n",
              "      <td>255.666667</td>\n",
              "    </tr>\n",
              "    <tr>\n",
              "      <th>B</th>\n",
              "      <td>39.333333</td>\n",
              "      <td>314.000000</td>\n",
              "    </tr>\n",
              "    <tr>\n",
              "      <th>C</th>\n",
              "      <td>59.000000</td>\n",
              "      <td>687.333333</td>\n",
              "    </tr>\n",
              "  </tbody>\n",
              "</table>\n",
              "</div>"
            ],
            "text/plain": [
              "             var1        var2\n",
              "groups                       \n",
              "A       36.000000  255.666667\n",
              "B       39.333333  314.000000\n",
              "C       59.000000  687.333333"
            ]
          },
          "execution_count": 87,
          "metadata": {},
          "output_type": "execute_result"
        }
      ],
      "source": [
        "df2.groupby(\"groups\").mean()"
      ]
    },
    {
      "cell_type": "markdown",
      "metadata": {
        "id": "Dwy-bcJSYOQE"
      },
      "source": [
        "### DataFrame.applymap()"
      ]
    },
    {
      "cell_type": "markdown",
      "metadata": {
        "id": "ZTq9alcpYOQE"
      },
      "source": [
        "- DataFrame.applymap(func, na_action=None, **kwargs)\n",
        "- Apply a function to a Dataframe elementwise.\n",
        "- This method applies a function that accepts and returns a scalar to every element of a DataFrame."
      ]
    },
    {
      "cell_type": "code",
      "execution_count": null,
      "metadata": {
        "id": "7Is1qu7_5N1M",
        "outputId": "618a5ac1-c5d6-4b00-ff5c-d0f72d8168f3"
      },
      "outputs": [
        {
          "data": {
            "text/html": [
              "<div>\n",
              "<style scoped>\n",
              "    .dataframe tbody tr th:only-of-type {\n",
              "        vertical-align: middle;\n",
              "    }\n",
              "\n",
              "    .dataframe tbody tr th {\n",
              "        vertical-align: top;\n",
              "    }\n",
              "\n",
              "    .dataframe thead th {\n",
              "        text-align: right;\n",
              "    }\n",
              "</style>\n",
              "<table border=\"1\" class=\"dataframe\">\n",
              "  <thead>\n",
              "    <tr style=\"text-align: right;\">\n",
              "      <th></th>\n",
              "      <th>var1</th>\n",
              "      <th>var2</th>\n",
              "    </tr>\n",
              "  </thead>\n",
              "  <tbody>\n",
              "    <tr>\n",
              "      <th>0</th>\n",
              "      <td>10</td>\n",
              "      <td>100</td>\n",
              "    </tr>\n",
              "    <tr>\n",
              "      <th>1</th>\n",
              "      <td>23</td>\n",
              "      <td>253</td>\n",
              "    </tr>\n",
              "    <tr>\n",
              "      <th>2</th>\n",
              "      <td>33</td>\n",
              "      <td>333</td>\n",
              "    </tr>\n",
              "    <tr>\n",
              "      <th>3</th>\n",
              "      <td>22</td>\n",
              "      <td>262</td>\n",
              "    </tr>\n",
              "    <tr>\n",
              "      <th>4</th>\n",
              "      <td>11</td>\n",
              "      <td>111</td>\n",
              "    </tr>\n",
              "    <tr>\n",
              "      <th>5</th>\n",
              "      <td>99</td>\n",
              "      <td>969</td>\n",
              "    </tr>\n",
              "    <tr>\n",
              "      <th>6</th>\n",
              "      <td>76</td>\n",
              "      <td>405</td>\n",
              "    </tr>\n",
              "    <tr>\n",
              "      <th>7</th>\n",
              "      <td>84</td>\n",
              "      <td>578</td>\n",
              "    </tr>\n",
              "    <tr>\n",
              "      <th>8</th>\n",
              "      <td>45</td>\n",
              "      <td>760</td>\n",
              "    </tr>\n",
              "  </tbody>\n",
              "</table>\n",
              "</div>"
            ],
            "text/plain": [
              "   var1  var2\n",
              "0    10   100\n",
              "1    23   253\n",
              "2    33   333\n",
              "3    22   262\n",
              "4    11   111\n",
              "5    99   969\n",
              "6    76   405\n",
              "7    84   578\n",
              "8    45   760"
            ]
          },
          "execution_count": 88,
          "metadata": {},
          "output_type": "execute_result"
        }
      ],
      "source": [
        "df_num"
      ]
    },
    {
      "cell_type": "code",
      "execution_count": null,
      "metadata": {
        "id": "WoSs5ZC_5N1M",
        "outputId": "de10ec83-ca95-495c-e3c5-800c5680eddd"
      },
      "outputs": [
        {
          "data": {
            "text/html": [
              "<div>\n",
              "<style scoped>\n",
              "    .dataframe tbody tr th:only-of-type {\n",
              "        vertical-align: middle;\n",
              "    }\n",
              "\n",
              "    .dataframe tbody tr th {\n",
              "        vertical-align: top;\n",
              "    }\n",
              "\n",
              "    .dataframe thead th {\n",
              "        text-align: right;\n",
              "    }\n",
              "</style>\n",
              "<table border=\"1\" class=\"dataframe\">\n",
              "  <thead>\n",
              "    <tr style=\"text-align: right;\">\n",
              "      <th></th>\n",
              "      <th>var1</th>\n",
              "      <th>var2</th>\n",
              "    </tr>\n",
              "  </thead>\n",
              "  <tbody>\n",
              "    <tr>\n",
              "      <th>0</th>\n",
              "      <td>50</td>\n",
              "      <td>500</td>\n",
              "    </tr>\n",
              "    <tr>\n",
              "      <th>1</th>\n",
              "      <td>115</td>\n",
              "      <td>1265</td>\n",
              "    </tr>\n",
              "    <tr>\n",
              "      <th>2</th>\n",
              "      <td>165</td>\n",
              "      <td>1665</td>\n",
              "    </tr>\n",
              "    <tr>\n",
              "      <th>3</th>\n",
              "      <td>110</td>\n",
              "      <td>1310</td>\n",
              "    </tr>\n",
              "    <tr>\n",
              "      <th>4</th>\n",
              "      <td>55</td>\n",
              "      <td>555</td>\n",
              "    </tr>\n",
              "    <tr>\n",
              "      <th>5</th>\n",
              "      <td>495</td>\n",
              "      <td>4845</td>\n",
              "    </tr>\n",
              "    <tr>\n",
              "      <th>6</th>\n",
              "      <td>380</td>\n",
              "      <td>2025</td>\n",
              "    </tr>\n",
              "    <tr>\n",
              "      <th>7</th>\n",
              "      <td>420</td>\n",
              "      <td>2890</td>\n",
              "    </tr>\n",
              "    <tr>\n",
              "      <th>8</th>\n",
              "      <td>225</td>\n",
              "      <td>3800</td>\n",
              "    </tr>\n",
              "  </tbody>\n",
              "</table>\n",
              "</div>"
            ],
            "text/plain": [
              "   var1  var2\n",
              "0    50   500\n",
              "1   115  1265\n",
              "2   165  1665\n",
              "3   110  1310\n",
              "4    55   555\n",
              "5   495  4845\n",
              "6   380  2025\n",
              "7   420  2890\n",
              "8   225  3800"
            ]
          },
          "execution_count": 89,
          "metadata": {},
          "output_type": "execute_result"
        }
      ],
      "source": [
        "df_num.applymap(lambda x:x*5)\n",
        "#df_num.apply(lambda x: x*5)\n",
        "#df_num*5"
      ]
    },
    {
      "cell_type": "code",
      "execution_count": null,
      "metadata": {
        "id": "q0KCkR6HYOQF",
        "outputId": "fbe01ddd-cdcc-46e1-9ac1-41f535519180"
      },
      "outputs": [
        {
          "data": {
            "text/html": [
              "<div>\n",
              "<style scoped>\n",
              "    .dataframe tbody tr th:only-of-type {\n",
              "        vertical-align: middle;\n",
              "    }\n",
              "\n",
              "    .dataframe tbody tr th {\n",
              "        vertical-align: top;\n",
              "    }\n",
              "\n",
              "    .dataframe thead th {\n",
              "        text-align: right;\n",
              "    }\n",
              "</style>\n",
              "<table border=\"1\" class=\"dataframe\">\n",
              "  <thead>\n",
              "    <tr style=\"text-align: right;\">\n",
              "      <th></th>\n",
              "      <th>var1</th>\n",
              "      <th>var2</th>\n",
              "    </tr>\n",
              "  </thead>\n",
              "  <tbody>\n",
              "    <tr>\n",
              "      <th>0</th>\n",
              "      <td>2</td>\n",
              "      <td>3</td>\n",
              "    </tr>\n",
              "    <tr>\n",
              "      <th>1</th>\n",
              "      <td>3</td>\n",
              "      <td>4</td>\n",
              "    </tr>\n",
              "    <tr>\n",
              "      <th>2</th>\n",
              "      <td>3</td>\n",
              "      <td>4</td>\n",
              "    </tr>\n",
              "    <tr>\n",
              "      <th>3</th>\n",
              "      <td>3</td>\n",
              "      <td>4</td>\n",
              "    </tr>\n",
              "    <tr>\n",
              "      <th>4</th>\n",
              "      <td>2</td>\n",
              "      <td>3</td>\n",
              "    </tr>\n",
              "    <tr>\n",
              "      <th>5</th>\n",
              "      <td>3</td>\n",
              "      <td>4</td>\n",
              "    </tr>\n",
              "    <tr>\n",
              "      <th>6</th>\n",
              "      <td>3</td>\n",
              "      <td>4</td>\n",
              "    </tr>\n",
              "    <tr>\n",
              "      <th>7</th>\n",
              "      <td>3</td>\n",
              "      <td>4</td>\n",
              "    </tr>\n",
              "    <tr>\n",
              "      <th>8</th>\n",
              "      <td>3</td>\n",
              "      <td>4</td>\n",
              "    </tr>\n",
              "  </tbody>\n",
              "</table>\n",
              "</div>"
            ],
            "text/plain": [
              "   var1  var2\n",
              "0     2     3\n",
              "1     3     4\n",
              "2     3     4\n",
              "3     3     4\n",
              "4     2     3\n",
              "5     3     4\n",
              "6     3     4\n",
              "7     3     4\n",
              "8     3     4"
            ]
          },
          "execution_count": 90,
          "metadata": {},
          "output_type": "execute_result"
        }
      ],
      "source": [
        "df_num.applymap(lambda x: len(str(x*5)))"
      ]
    },
    {
      "cell_type": "code",
      "execution_count": null,
      "metadata": {
        "id": "woGljtHeYOQF",
        "outputId": "752b82a0-fdbc-405e-be68-a8a472ecd655"
      },
      "outputs": [
        {
          "data": {
            "text/plain": [
              "var1    105\n",
              "var2    114\n",
              "dtype: int64"
            ]
          },
          "execution_count": 91,
          "metadata": {},
          "output_type": "execute_result"
        }
      ],
      "source": [
        "df_num.apply(lambda x: len(str(x*5)))"
      ]
    },
    {
      "cell_type": "markdown",
      "metadata": {
        "id": "htXt0jTBYOQG"
      },
      "source": [
        "- **applymap()** is only available in DataFrame and used for element-wise operation across the whole DataFrame. It has been optimized and some cases work **much faster than apply()**\n",
        "\n",
        "- **applymap()** method only works on a pandas dataframe where function is applied on every element individually. **apply()** method can be applied both to series and dataframes where function can be applied both series and individual elements based on the type of function provided."
      ]
    },
    {
      "cell_type": "markdown",
      "metadata": {
        "id": "695Oq6wHYOQG"
      },
      "source": [
        "## .map()\n",
        "### Series.map() - df[\"col\"].map()"
      ]
    },
    {
      "cell_type": "raw",
      "metadata": {
        "id": "S8vpreIYYOQG"
      },
      "source": [
        "Series.map(arg, na_action=None)\n",
        "\n",
        "Map values of Series according to an input mapping or function.\n",
        "\n",
        "Used for substituting each value in a Series with another value, that may be derived from a function, a dict or a Series."
      ]
    },
    {
      "cell_type": "markdown",
      "metadata": {
        "id": "6xJvxVybYOQH"
      },
      "source": [
        "- Python's **map()** is a built-in function that allows you to process and transform all the items in an iterable without using an explicit for loop, a technique commonly known as mapping.\n",
        "- **map()** is useful when you need to apply a transformation function to each item in an iterable and transform them into a new iterable.\n",
        "\n",
        "https://realpython.com/python-map-function/#:~:text=Python's%20map()%20is%20a,them%20into%20a%20new%20iterable.\n",
        "\n",
        "- The **map()** function is used to map values of Series according to input correspondence. Used for substituting each value in a Series with another value, that may be derived from a function, a dict or a Series.\n",
        "- **map()** accepts a dict or a Series. Values that are not found in the dict are converted to NaN, unless the dict has a default value.\n",
        "\n",
        "https://www.w3resource.com/pandas/series/series-map.php"
      ]
    },
    {
      "cell_type": "code",
      "execution_count": null,
      "metadata": {
        "id": "H2VcjqziYOQH",
        "outputId": "38147c7b-b797-4add-84a3-403448d9c8b1"
      },
      "outputs": [
        {
          "data": {
            "text/html": [
              "<div>\n",
              "<style scoped>\n",
              "    .dataframe tbody tr th:only-of-type {\n",
              "        vertical-align: middle;\n",
              "    }\n",
              "\n",
              "    .dataframe tbody tr th {\n",
              "        vertical-align: top;\n",
              "    }\n",
              "\n",
              "    .dataframe thead th {\n",
              "        text-align: right;\n",
              "    }\n",
              "</style>\n",
              "<table border=\"1\" class=\"dataframe\">\n",
              "  <thead>\n",
              "    <tr style=\"text-align: right;\">\n",
              "      <th></th>\n",
              "      <th>col1</th>\n",
              "      <th>col2</th>\n",
              "      <th>col3</th>\n",
              "    </tr>\n",
              "  </thead>\n",
              "  <tbody>\n",
              "    <tr>\n",
              "      <th>0</th>\n",
              "      <td>1</td>\n",
              "      <td>444</td>\n",
              "      <td>abc</td>\n",
              "    </tr>\n",
              "    <tr>\n",
              "      <th>1</th>\n",
              "      <td>2</td>\n",
              "      <td>555</td>\n",
              "      <td>def</td>\n",
              "    </tr>\n",
              "    <tr>\n",
              "      <th>2</th>\n",
              "      <td>3</td>\n",
              "      <td>666</td>\n",
              "      <td>ghi</td>\n",
              "    </tr>\n",
              "    <tr>\n",
              "      <th>3</th>\n",
              "      <td>4</td>\n",
              "      <td>444</td>\n",
              "      <td>xyz</td>\n",
              "    </tr>\n",
              "  </tbody>\n",
              "</table>\n",
              "</div>"
            ],
            "text/plain": [
              "   col1  col2 col3\n",
              "0     1   444  abc\n",
              "1     2   555  def\n",
              "2     3   666  ghi\n",
              "3     4   444  xyz"
            ]
          },
          "execution_count": 92,
          "metadata": {},
          "output_type": "execute_result"
        }
      ],
      "source": [
        "df3"
      ]
    },
    {
      "cell_type": "code",
      "execution_count": null,
      "metadata": {
        "id": "F_JLpHzO5N1M",
        "outputId": "85c9c516-e40a-4c8f-c794-6d0bd1b93a43"
      },
      "outputs": [
        {
          "data": {
            "text/plain": [
              "0      A\n",
              "1      B\n",
              "2    NaN\n",
              "3    NaN\n",
              "Name: col1, dtype: object"
            ]
          },
          "execution_count": 93,
          "metadata": {},
          "output_type": "execute_result"
        }
      ],
      "source": [
        "df3.col1.map({1:\"A\", 2:\"B\"})"
      ]
    },
    {
      "cell_type": "code",
      "execution_count": null,
      "metadata": {
        "id": "SnQ1Ib6mYOQI",
        "outputId": "f45909e1-e935-412c-f6ed-b0304f85f632"
      },
      "outputs": [
        {
          "data": {
            "text/plain": [
              "0    fox\n",
              "1    cow\n",
              "2    NaN\n",
              "3    dog\n",
              "dtype: object"
            ]
          },
          "execution_count": 94,
          "metadata": {},
          "output_type": "execute_result"
        }
      ],
      "source": [
        "s = pd.Series(['fox', 'cow', np.nan, 'dog'])\n",
        "s"
      ]
    },
    {
      "cell_type": "code",
      "execution_count": null,
      "metadata": {
        "id": "viDOD4uJYOQI",
        "outputId": "c88bfe3f-d10b-4c1f-e384-ae835c688287"
      },
      "outputs": [
        {
          "data": {
            "text/plain": [
              "0    I am a fox\n",
              "1    I am a cow\n",
              "2    I am a nan\n",
              "3    I am a dog\n",
              "dtype: object"
            ]
          },
          "execution_count": 95,
          "metadata": {},
          "output_type": "execute_result"
        }
      ],
      "source": [
        "s.map('I am a {}'.format)"
      ]
    },
    {
      "cell_type": "code",
      "execution_count": null,
      "metadata": {
        "id": "FEBrmDJbYOQJ",
        "outputId": "5d40f6d5-865e-48c0-8998-a6e95f8ffa94"
      },
      "outputs": [
        {
          "data": {
            "text/plain": [
              "0    I am a fox\n",
              "1    I am a cow\n",
              "2           NaN\n",
              "3    I am a dog\n",
              "dtype: object"
            ]
          },
          "execution_count": 96,
          "metadata": {},
          "output_type": "execute_result"
        }
      ],
      "source": [
        "s.map('I am a {}'.format, na_action='ignore')"
      ]
    },
    {
      "cell_type": "markdown",
      "metadata": {
        "id": "MX0WQnDeYOQJ"
      },
      "source": [
        "- **apply()** is used to apply a function along an axis of the DataFrame or on values of Series.\n",
        "- **applymap()** is used to apply a function to a DataFrame elementwise.\n",
        "- **map()** is used to substitute each value in a Series with another value.\n",
        "\n",
        "https://towardsdatascience.com/introduction-to-pandas-apply-applymap-and-map-5d3e044e93ff#:~:text=apply()%20is%20used%20to,a%20Series%20with%20another%20value.\n",
        "\n",
        "https://stackoverflow.com/questions/19798153/difference-between-map-applymap-and-apply-methods-in-pandas"
      ]
    },
    {
      "cell_type": "markdown",
      "metadata": {
        "id": "quC-THAlQhl6"
      },
      "source": [
        "## df.transform() vs df.apply()\n",
        "\n",
        "**Similarties**\n",
        "- Both apply() and transform() can be used to manipulate the entire DataFrame.\n",
        "- Both apply() and transform() support lambda expression.\n",
        "- Both apply() and transform() can be used for manipulating a single column."
      ]
    },
    {
      "cell_type": "code",
      "execution_count": null,
      "metadata": {
        "id": "e2ZCi4TeYOQK",
        "outputId": "b0bb42d3-100b-4011-d3c5-0c601f2f18e8"
      },
      "outputs": [
        {
          "data": {
            "text/html": [
              "<div>\n",
              "<style scoped>\n",
              "    .dataframe tbody tr th:only-of-type {\n",
              "        vertical-align: middle;\n",
              "    }\n",
              "\n",
              "    .dataframe tbody tr th {\n",
              "        vertical-align: top;\n",
              "    }\n",
              "\n",
              "    .dataframe thead th {\n",
              "        text-align: right;\n",
              "    }\n",
              "</style>\n",
              "<table border=\"1\" class=\"dataframe\">\n",
              "  <thead>\n",
              "    <tr style=\"text-align: right;\">\n",
              "      <th></th>\n",
              "      <th>A</th>\n",
              "      <th>B</th>\n",
              "    </tr>\n",
              "  </thead>\n",
              "  <tbody>\n",
              "    <tr>\n",
              "      <th>0</th>\n",
              "      <td>1</td>\n",
              "      <td>10</td>\n",
              "    </tr>\n",
              "    <tr>\n",
              "      <th>1</th>\n",
              "      <td>2</td>\n",
              "      <td>20</td>\n",
              "    </tr>\n",
              "    <tr>\n",
              "      <th>2</th>\n",
              "      <td>3</td>\n",
              "      <td>30</td>\n",
              "    </tr>\n",
              "  </tbody>\n",
              "</table>\n",
              "</div>"
            ],
            "text/plain": [
              "   A   B\n",
              "0  1  10\n",
              "1  2  20\n",
              "2  3  30"
            ]
          },
          "execution_count": 97,
          "metadata": {},
          "output_type": "execute_result"
        }
      ],
      "source": [
        "df5 = pd.DataFrame({'A': [1,2,3], 'B': [10,20,30] })\n",
        "df5"
      ]
    },
    {
      "cell_type": "code",
      "execution_count": null,
      "metadata": {
        "id": "G22KD2kIYOQL",
        "outputId": "8782bbde-6460-4014-ee9a-0e705f09eab4"
      },
      "outputs": [
        {
          "data": {
            "text/html": [
              "<div>\n",
              "<style scoped>\n",
              "    .dataframe tbody tr th:only-of-type {\n",
              "        vertical-align: middle;\n",
              "    }\n",
              "\n",
              "    .dataframe tbody tr th {\n",
              "        vertical-align: top;\n",
              "    }\n",
              "\n",
              "    .dataframe thead th {\n",
              "        text-align: right;\n",
              "    }\n",
              "</style>\n",
              "<table border=\"1\" class=\"dataframe\">\n",
              "  <thead>\n",
              "    <tr style=\"text-align: right;\">\n",
              "      <th></th>\n",
              "      <th>A</th>\n",
              "      <th>B</th>\n",
              "    </tr>\n",
              "  </thead>\n",
              "  <tbody>\n",
              "    <tr>\n",
              "      <th>0</th>\n",
              "      <td>11</td>\n",
              "      <td>20</td>\n",
              "    </tr>\n",
              "    <tr>\n",
              "      <th>1</th>\n",
              "      <td>12</td>\n",
              "      <td>30</td>\n",
              "    </tr>\n",
              "    <tr>\n",
              "      <th>2</th>\n",
              "      <td>13</td>\n",
              "      <td>40</td>\n",
              "    </tr>\n",
              "  </tbody>\n",
              "</table>\n",
              "</div>"
            ],
            "text/plain": [
              "    A   B\n",
              "0  11  20\n",
              "1  12  30\n",
              "2  13  40"
            ]
          },
          "execution_count": 98,
          "metadata": {},
          "output_type": "execute_result"
        }
      ],
      "source": [
        "df5.apply(lambda x: x+10)"
      ]
    },
    {
      "cell_type": "code",
      "execution_count": null,
      "metadata": {
        "id": "SOcKlFGtYOQL",
        "outputId": "ab7e2ea6-2675-4064-c202-0997cfc113d4"
      },
      "outputs": [
        {
          "data": {
            "text/html": [
              "<div>\n",
              "<style scoped>\n",
              "    .dataframe tbody tr th:only-of-type {\n",
              "        vertical-align: middle;\n",
              "    }\n",
              "\n",
              "    .dataframe tbody tr th {\n",
              "        vertical-align: top;\n",
              "    }\n",
              "\n",
              "    .dataframe thead th {\n",
              "        text-align: right;\n",
              "    }\n",
              "</style>\n",
              "<table border=\"1\" class=\"dataframe\">\n",
              "  <thead>\n",
              "    <tr style=\"text-align: right;\">\n",
              "      <th></th>\n",
              "      <th>A</th>\n",
              "      <th>B</th>\n",
              "    </tr>\n",
              "  </thead>\n",
              "  <tbody>\n",
              "    <tr>\n",
              "      <th>0</th>\n",
              "      <td>11</td>\n",
              "      <td>20</td>\n",
              "    </tr>\n",
              "    <tr>\n",
              "      <th>1</th>\n",
              "      <td>12</td>\n",
              "      <td>30</td>\n",
              "    </tr>\n",
              "    <tr>\n",
              "      <th>2</th>\n",
              "      <td>13</td>\n",
              "      <td>40</td>\n",
              "    </tr>\n",
              "  </tbody>\n",
              "</table>\n",
              "</div>"
            ],
            "text/plain": [
              "    A   B\n",
              "0  11  20\n",
              "1  12  30\n",
              "2  13  40"
            ]
          },
          "execution_count": 99,
          "metadata": {},
          "output_type": "execute_result"
        }
      ],
      "source": [
        "df5.transform(lambda x: x+10)"
      ]
    },
    {
      "cell_type": "code",
      "execution_count": null,
      "metadata": {
        "id": "gHHfGH56YOQL",
        "outputId": "3cf592f4-3fa2-43a5-bd7d-9da0879055e9"
      },
      "outputs": [
        {
          "data": {
            "text/html": [
              "<div>\n",
              "<style scoped>\n",
              "    .dataframe tbody tr th:only-of-type {\n",
              "        vertical-align: middle;\n",
              "    }\n",
              "\n",
              "    .dataframe tbody tr th {\n",
              "        vertical-align: top;\n",
              "    }\n",
              "\n",
              "    .dataframe thead th {\n",
              "        text-align: right;\n",
              "    }\n",
              "</style>\n",
              "<table border=\"1\" class=\"dataframe\">\n",
              "  <thead>\n",
              "    <tr style=\"text-align: right;\">\n",
              "      <th></th>\n",
              "      <th>A</th>\n",
              "      <th>B</th>\n",
              "      <th>B_ap</th>\n",
              "      <th>B_tr</th>\n",
              "    </tr>\n",
              "  </thead>\n",
              "  <tbody>\n",
              "    <tr>\n",
              "      <th>0</th>\n",
              "      <td>1</td>\n",
              "      <td>10</td>\n",
              "      <td>20</td>\n",
              "      <td>20</td>\n",
              "    </tr>\n",
              "    <tr>\n",
              "      <th>1</th>\n",
              "      <td>2</td>\n",
              "      <td>20</td>\n",
              "      <td>30</td>\n",
              "      <td>30</td>\n",
              "    </tr>\n",
              "    <tr>\n",
              "      <th>2</th>\n",
              "      <td>3</td>\n",
              "      <td>30</td>\n",
              "      <td>40</td>\n",
              "      <td>40</td>\n",
              "    </tr>\n",
              "  </tbody>\n",
              "</table>\n",
              "</div>"
            ],
            "text/plain": [
              "   A   B  B_ap  B_tr\n",
              "0  1  10    20    20\n",
              "1  2  20    30    30\n",
              "2  3  30    40    40"
            ]
          },
          "execution_count": 100,
          "metadata": {},
          "output_type": "execute_result"
        }
      ],
      "source": [
        "df5['B_ap'] = df5['B'].apply(lambda x: x+10)\n",
        "df5['B_tr'] = df5['B'].transform(lambda x: x+10)\n",
        "df5"
      ]
    },
    {
      "cell_type": "markdown",
      "metadata": {
        "id": "0p7BB_o4YOQM"
      },
      "source": [
        "### Differences between .apply() and .transform() when manupulating data\n",
        "- **transform()** works with function, a string function, a list of functions, and a dict. However, **apply()** is only allowed with function.\n",
        "- **transform()** cannot produce aggregated results.\n",
        "- **apply()** works with multiple Series at a time. But, **transform()** is only allowed to work with a single Series at a time."
      ]
    },
    {
      "cell_type": "code",
      "execution_count": null,
      "metadata": {
        "id": "NfEH5E0rYOQM",
        "outputId": "4c5cfe29-d99a-414a-c199-59a8ce858e7d"
      },
      "outputs": [
        {
          "data": {
            "text/html": [
              "<div>\n",
              "<style scoped>\n",
              "    .dataframe tbody tr th:only-of-type {\n",
              "        vertical-align: middle;\n",
              "    }\n",
              "\n",
              "    .dataframe tbody tr th {\n",
              "        vertical-align: top;\n",
              "    }\n",
              "\n",
              "    .dataframe thead th {\n",
              "        text-align: right;\n",
              "    }\n",
              "</style>\n",
              "<table border=\"1\" class=\"dataframe\">\n",
              "  <thead>\n",
              "    <tr style=\"text-align: right;\">\n",
              "      <th></th>\n",
              "      <th>A</th>\n",
              "      <th>B</th>\n",
              "    </tr>\n",
              "  </thead>\n",
              "  <tbody>\n",
              "    <tr>\n",
              "      <th>0</th>\n",
              "      <td>1</td>\n",
              "      <td>10</td>\n",
              "    </tr>\n",
              "    <tr>\n",
              "      <th>1</th>\n",
              "      <td>2</td>\n",
              "      <td>20</td>\n",
              "    </tr>\n",
              "    <tr>\n",
              "      <th>2</th>\n",
              "      <td>3</td>\n",
              "      <td>30</td>\n",
              "    </tr>\n",
              "  </tbody>\n",
              "</table>\n",
              "</div>"
            ],
            "text/plain": [
              "   A   B\n",
              "0  1  10\n",
              "1  2  20\n",
              "2  3  30"
            ]
          },
          "execution_count": 101,
          "metadata": {},
          "output_type": "execute_result"
        }
      ],
      "source": [
        "df5 = df5[[\"A\",\"B\"]]\n",
        "df5"
      ]
    },
    {
      "cell_type": "code",
      "execution_count": null,
      "metadata": {
        "id": "1ggp29i6YOQM",
        "outputId": "83d7e003-2fd3-4ff8-c51a-02ca46c8f583"
      },
      "outputs": [
        {
          "data": {
            "text/html": [
              "<div>\n",
              "<style scoped>\n",
              "    .dataframe tbody tr th:only-of-type {\n",
              "        vertical-align: middle;\n",
              "    }\n",
              "\n",
              "    .dataframe tbody tr th {\n",
              "        vertical-align: top;\n",
              "    }\n",
              "\n",
              "    .dataframe thead th {\n",
              "        text-align: right;\n",
              "    }\n",
              "</style>\n",
              "<table border=\"1\" class=\"dataframe\">\n",
              "  <thead>\n",
              "    <tr style=\"text-align: right;\">\n",
              "      <th></th>\n",
              "      <th>A</th>\n",
              "      <th>B</th>\n",
              "    </tr>\n",
              "  </thead>\n",
              "  <tbody>\n",
              "    <tr>\n",
              "      <th>0</th>\n",
              "      <td>1.000000</td>\n",
              "      <td>3.162278</td>\n",
              "    </tr>\n",
              "    <tr>\n",
              "      <th>1</th>\n",
              "      <td>1.414214</td>\n",
              "      <td>4.472136</td>\n",
              "    </tr>\n",
              "    <tr>\n",
              "      <th>2</th>\n",
              "      <td>1.732051</td>\n",
              "      <td>5.477226</td>\n",
              "    </tr>\n",
              "  </tbody>\n",
              "</table>\n",
              "</div>"
            ],
            "text/plain": [
              "          A         B\n",
              "0  1.000000  3.162278\n",
              "1  1.414214  4.472136\n",
              "2  1.732051  5.477226"
            ]
          },
          "execution_count": 102,
          "metadata": {},
          "output_type": "execute_result"
        }
      ],
      "source": [
        "df5.transform('sqrt')\n",
        "#df5.apply('sqrt') # gives an error"
      ]
    },
    {
      "cell_type": "code",
      "execution_count": null,
      "metadata": {
        "id": "gnOFlNZ4YOQN",
        "outputId": "eb7321e4-efbf-4fe0-bae6-5d7feb89aae0"
      },
      "outputs": [
        {
          "data": {
            "text/html": [
              "<div>\n",
              "<style scoped>\n",
              "    .dataframe tbody tr th:only-of-type {\n",
              "        vertical-align: middle;\n",
              "    }\n",
              "\n",
              "    .dataframe tbody tr th {\n",
              "        vertical-align: top;\n",
              "    }\n",
              "\n",
              "    .dataframe thead th {\n",
              "        text-align: right;\n",
              "    }\n",
              "</style>\n",
              "<table border=\"1\" class=\"dataframe\">\n",
              "  <thead>\n",
              "    <tr style=\"text-align: right;\">\n",
              "      <th></th>\n",
              "      <th>A</th>\n",
              "      <th>B</th>\n",
              "    </tr>\n",
              "  </thead>\n",
              "  <tbody>\n",
              "    <tr>\n",
              "      <th>0</th>\n",
              "      <td>1.000000</td>\n",
              "      <td>3.162278</td>\n",
              "    </tr>\n",
              "    <tr>\n",
              "      <th>1</th>\n",
              "      <td>1.414214</td>\n",
              "      <td>4.472136</td>\n",
              "    </tr>\n",
              "    <tr>\n",
              "      <th>2</th>\n",
              "      <td>1.732051</td>\n",
              "      <td>5.477226</td>\n",
              "    </tr>\n",
              "  </tbody>\n",
              "</table>\n",
              "</div>"
            ],
            "text/plain": [
              "          A         B\n",
              "0  1.000000  3.162278\n",
              "1  1.414214  4.472136\n",
              "2  1.732051  5.477226"
            ]
          },
          "execution_count": 103,
          "metadata": {},
          "output_type": "execute_result"
        }
      ],
      "source": [
        "df5.transform(np.sqrt)\n",
        "#df5.apply(np.sqrt)"
      ]
    },
    {
      "cell_type": "code",
      "execution_count": null,
      "metadata": {
        "id": "1l_fwTOSYOQN",
        "outputId": "64da432a-c13e-46fd-d9a8-32c1ce8881ae"
      },
      "outputs": [
        {
          "data": {
            "text/html": [
              "<div>\n",
              "<style scoped>\n",
              "    .dataframe tbody tr th:only-of-type {\n",
              "        vertical-align: middle;\n",
              "    }\n",
              "\n",
              "    .dataframe tbody tr th {\n",
              "        vertical-align: top;\n",
              "    }\n",
              "\n",
              "    .dataframe thead tr th {\n",
              "        text-align: left;\n",
              "    }\n",
              "</style>\n",
              "<table border=\"1\" class=\"dataframe\">\n",
              "  <thead>\n",
              "    <tr>\n",
              "      <th></th>\n",
              "      <th colspan=\"2\" halign=\"left\">A</th>\n",
              "      <th colspan=\"2\" halign=\"left\">B</th>\n",
              "    </tr>\n",
              "    <tr>\n",
              "      <th></th>\n",
              "      <th>sqrt</th>\n",
              "      <th>exp</th>\n",
              "      <th>sqrt</th>\n",
              "      <th>exp</th>\n",
              "    </tr>\n",
              "  </thead>\n",
              "  <tbody>\n",
              "    <tr>\n",
              "      <th>0</th>\n",
              "      <td>1.000000</td>\n",
              "      <td>2.718282</td>\n",
              "      <td>3.162278</td>\n",
              "      <td>2.202647e+04</td>\n",
              "    </tr>\n",
              "    <tr>\n",
              "      <th>1</th>\n",
              "      <td>1.414214</td>\n",
              "      <td>7.389056</td>\n",
              "      <td>4.472136</td>\n",
              "      <td>4.851652e+08</td>\n",
              "    </tr>\n",
              "    <tr>\n",
              "      <th>2</th>\n",
              "      <td>1.732051</td>\n",
              "      <td>20.085537</td>\n",
              "      <td>5.477226</td>\n",
              "      <td>1.068647e+13</td>\n",
              "    </tr>\n",
              "  </tbody>\n",
              "</table>\n",
              "</div>"
            ],
            "text/plain": [
              "          A                    B              \n",
              "       sqrt        exp      sqrt           exp\n",
              "0  1.000000   2.718282  3.162278  2.202647e+04\n",
              "1  1.414214   7.389056  4.472136  4.851652e+08\n",
              "2  1.732051  20.085537  5.477226  1.068647e+13"
            ]
          },
          "execution_count": 104,
          "metadata": {},
          "output_type": "execute_result"
        }
      ],
      "source": [
        "df5.transform([np.sqrt, np.exp])\n",
        "#df5.apply([np.sqrt, np.exp])"
      ]
    },
    {
      "cell_type": "code",
      "execution_count": null,
      "metadata": {
        "id": "0mDfLC1nYOQO",
        "outputId": "69878e17-ca23-44f7-9168-dc91efdfd7db"
      },
      "outputs": [
        {
          "data": {
            "text/html": [
              "<div>\n",
              "<style scoped>\n",
              "    .dataframe tbody tr th:only-of-type {\n",
              "        vertical-align: middle;\n",
              "    }\n",
              "\n",
              "    .dataframe tbody tr th {\n",
              "        vertical-align: top;\n",
              "    }\n",
              "\n",
              "    .dataframe thead th {\n",
              "        text-align: right;\n",
              "    }\n",
              "</style>\n",
              "<table border=\"1\" class=\"dataframe\">\n",
              "  <thead>\n",
              "    <tr style=\"text-align: right;\">\n",
              "      <th></th>\n",
              "      <th>A</th>\n",
              "      <th>B</th>\n",
              "    </tr>\n",
              "  </thead>\n",
              "  <tbody>\n",
              "    <tr>\n",
              "      <th>0</th>\n",
              "      <td>1.000000</td>\n",
              "      <td>2.202647e+04</td>\n",
              "    </tr>\n",
              "    <tr>\n",
              "      <th>1</th>\n",
              "      <td>1.414214</td>\n",
              "      <td>4.851652e+08</td>\n",
              "    </tr>\n",
              "    <tr>\n",
              "      <th>2</th>\n",
              "      <td>1.732051</td>\n",
              "      <td>1.068647e+13</td>\n",
              "    </tr>\n",
              "  </tbody>\n",
              "</table>\n",
              "</div>"
            ],
            "text/plain": [
              "          A             B\n",
              "0  1.000000  2.202647e+04\n",
              "1  1.414214  4.851652e+08\n",
              "2  1.732051  1.068647e+13"
            ]
          },
          "execution_count": 105,
          "metadata": {},
          "output_type": "execute_result"
        }
      ],
      "source": [
        "df5.transform({'A': np.sqrt, 'B': np.exp})\n",
        "#df5.apply({'A': np.sqrt, 'B': np.exp})"
      ]
    },
    {
      "cell_type": "code",
      "execution_count": null,
      "metadata": {
        "id": "nODTqumJYOQP",
        "outputId": "132bf285-abfc-4e82-b017-e979f756e0ba"
      },
      "outputs": [
        {
          "data": {
            "text/plain": [
              "A     6\n",
              "B    60\n",
              "dtype: int64"
            ]
          },
          "execution_count": 106,
          "metadata": {},
          "output_type": "execute_result"
        }
      ],
      "source": [
        "df5.apply(lambda x: x.sum())\n",
        "# df5.transform(lambda x:x.sum()) # gives an error"
      ]
    },
    {
      "cell_type": "code",
      "execution_count": null,
      "metadata": {
        "id": "4H6tmMkoYOQQ",
        "outputId": "8de86ac8-ad8c-4477-9796-10d781339ba2"
      },
      "outputs": [
        {
          "data": {
            "text/plain": [
              "0     9\n",
              "1    18\n",
              "2    27\n",
              "dtype: int64"
            ]
          },
          "execution_count": 107,
          "metadata": {},
          "output_type": "execute_result"
        }
      ],
      "source": [
        "df5.apply(lambda x: x[\"B\"]-x[\"A\"], axis=1)\n",
        "# df5.transform(lambda x: x[\"B\"]-x[\"A\"], axis=1) # gives an error"
      ]
    },
    {
      "cell_type": "markdown",
      "metadata": {
        "id": "8qwaAG-UYOQQ"
      },
      "source": [
        "### Differences Between .apply() and .transform() when using them in conjunction with groupby()\n",
        "- **transform()** returns a DataFrame that has the same length as the input\n",
        "- **apply()** works with multiple Series at a time. But, **transform()** is only allowed to work with a single Series at a time."
      ]
    },
    {
      "cell_type": "code",
      "execution_count": null,
      "metadata": {
        "id": "ITWI3Rf7YOQR",
        "outputId": "49151ff8-8489-4168-cff1-f4914c666c27"
      },
      "outputs": [
        {
          "data": {
            "text/html": [
              "<div>\n",
              "<style scoped>\n",
              "    .dataframe tbody tr th:only-of-type {\n",
              "        vertical-align: middle;\n",
              "    }\n",
              "\n",
              "    .dataframe tbody tr th {\n",
              "        vertical-align: top;\n",
              "    }\n",
              "\n",
              "    .dataframe thead th {\n",
              "        text-align: right;\n",
              "    }\n",
              "</style>\n",
              "<table border=\"1\" class=\"dataframe\">\n",
              "  <thead>\n",
              "    <tr style=\"text-align: right;\">\n",
              "      <th></th>\n",
              "      <th>key</th>\n",
              "      <th>A</th>\n",
              "      <th>B</th>\n",
              "    </tr>\n",
              "  </thead>\n",
              "  <tbody>\n",
              "    <tr>\n",
              "      <th>0</th>\n",
              "      <td>a</td>\n",
              "      <td>0</td>\n",
              "      <td>1</td>\n",
              "    </tr>\n",
              "    <tr>\n",
              "      <th>1</th>\n",
              "      <td>b</td>\n",
              "      <td>1</td>\n",
              "      <td>2</td>\n",
              "    </tr>\n",
              "    <tr>\n",
              "      <th>2</th>\n",
              "      <td>c</td>\n",
              "      <td>2</td>\n",
              "      <td>3</td>\n",
              "    </tr>\n",
              "    <tr>\n",
              "      <th>3</th>\n",
              "      <td>a</td>\n",
              "      <td>3</td>\n",
              "      <td>1</td>\n",
              "    </tr>\n",
              "    <tr>\n",
              "      <th>4</th>\n",
              "      <td>b</td>\n",
              "      <td>4</td>\n",
              "      <td>2</td>\n",
              "    </tr>\n",
              "    <tr>\n",
              "      <th>5</th>\n",
              "      <td>c</td>\n",
              "      <td>5</td>\n",
              "      <td>3</td>\n",
              "    </tr>\n",
              "    <tr>\n",
              "      <th>6</th>\n",
              "      <td>a</td>\n",
              "      <td>6</td>\n",
              "      <td>1</td>\n",
              "    </tr>\n",
              "    <tr>\n",
              "      <th>7</th>\n",
              "      <td>b</td>\n",
              "      <td>7</td>\n",
              "      <td>2</td>\n",
              "    </tr>\n",
              "    <tr>\n",
              "      <th>8</th>\n",
              "      <td>c</td>\n",
              "      <td>8</td>\n",
              "      <td>3</td>\n",
              "    </tr>\n",
              "  </tbody>\n",
              "</table>\n",
              "</div>"
            ],
            "text/plain": [
              "  key  A  B\n",
              "0   a  0  1\n",
              "1   b  1  2\n",
              "2   c  2  3\n",
              "3   a  3  1\n",
              "4   b  4  2\n",
              "5   c  5  3\n",
              "6   a  6  1\n",
              "7   b  7  2\n",
              "8   c  8  3"
            ]
          },
          "execution_count": 108,
          "metadata": {},
          "output_type": "execute_result"
        }
      ],
      "source": [
        "df6 = pd.DataFrame({'key': ['a','b','c'] * 3,\n",
        "                    'A': np.arange(9),\n",
        "                    'B': [1,2,3] * 3})\n",
        "df6"
      ]
    },
    {
      "cell_type": "code",
      "execution_count": null,
      "metadata": {
        "id": "GJ8dmVg2YOQS",
        "outputId": "14c09448-fa35-4418-cb11-795abe428561"
      },
      "outputs": [
        {
          "data": {
            "text/plain": [
              "key\n",
              "a     9\n",
              "b    12\n",
              "c    15\n",
              "Name: A, dtype: int32"
            ]
          },
          "execution_count": 109,
          "metadata": {},
          "output_type": "execute_result"
        }
      ],
      "source": [
        "df6.groupby('key')['A'].sum()"
      ]
    },
    {
      "cell_type": "code",
      "execution_count": null,
      "metadata": {
        "id": "O1i1n04DYOQS",
        "outputId": "9cda973b-11e7-4548-9b87-c159b9407bfa"
      },
      "outputs": [
        {
          "data": {
            "text/plain": [
              "key\n",
              "a     9\n",
              "b    12\n",
              "c    15\n",
              "Name: A, dtype: int64"
            ]
          },
          "execution_count": 110,
          "metadata": {},
          "output_type": "execute_result"
        }
      ],
      "source": [
        "df6.groupby('key')['A'].apply(lambda x: x.sum())"
      ]
    },
    {
      "cell_type": "code",
      "execution_count": null,
      "metadata": {
        "id": "nqaX6c1sYOQT",
        "outputId": "d1028798-f375-4423-afef-545ce48c999e"
      },
      "outputs": [
        {
          "data": {
            "text/plain": [
              "0     9\n",
              "1    12\n",
              "2    15\n",
              "3     9\n",
              "4    12\n",
              "5    15\n",
              "6     9\n",
              "7    12\n",
              "8    15\n",
              "Name: A, dtype: int32"
            ]
          },
          "execution_count": 111,
          "metadata": {},
          "output_type": "execute_result"
        }
      ],
      "source": [
        "df6.groupby('key')['A'].transform(lambda x: x.sum())"
      ]
    },
    {
      "cell_type": "code",
      "execution_count": null,
      "metadata": {
        "id": "sBLs5OstYOQT",
        "outputId": "4b4d73c6-d261-46ab-bc04-e26ed3f14cbf"
      },
      "outputs": [
        {
          "data": {
            "text/plain": [
              "key   \n",
              "a    0    1\n",
              "     3   -2\n",
              "     6   -5\n",
              "b    1    1\n",
              "     4   -2\n",
              "     7   -5\n",
              "c    2    1\n",
              "     5   -2\n",
              "     8   -5\n",
              "dtype: int64"
            ]
          },
          "execution_count": 112,
          "metadata": {},
          "output_type": "execute_result"
        }
      ],
      "source": [
        "df6.groupby('key').apply(lambda x: x[\"B\"]-x[\"A\"])\n",
        "# df6.groupby('key').transform(lambda x: x[\"B\"]-x[\"A\"]) # gives an error"
      ]
    },
    {
      "cell_type": "markdown",
      "metadata": {
        "id": "q6VWRSKWQhl7"
      },
      "source": [
        "# pivot() vs pivot_table()"
      ]
    },
    {
      "cell_type": "markdown",
      "metadata": {
        "id": "cRyt92nvYOQT"
      },
      "source": [
        "**pivot_table**\n",
        "- pandas.pivot_table(data, values=None, index=None, columns=None, aggfunc='mean', fill_value=None, margins=False, dropna=True, margins_name='All', observed=False, sort=True).\n",
        "- Create a spreadsheet-style pivot table as a DataFrame.\n",
        "- The levels in the pivot table will be stored in MultiIndex objects (hierarchical indexes) on the index and columns of the result DataFrame.\n",
        "\n",
        "**pivot**\n",
        "- DataFrame.pivot(index=None, columns=None, values=None).\n",
        "- Return reshaped DataFrame organized by given index / column values.\n",
        "- Reshape data (produce a “pivot” table) based on column values. Uses unique values from specified index / columns to form axes of the resulting DataFrame.\n",
        "- This function does not support data aggregation, multiple values will result in a MultiIndex in the columns.\n",
        "\n",
        "**Differences**\n",
        "- **Pivot_table** is a generalization of pivot that can handle duplicate values for one pivoted index/column pair.\n",
        "- **Pivot_table** will only allow numeric types as \"values=\", whereas **pivot** will take string types as \"values=\"."
      ]
    },
    {
      "cell_type": "code",
      "execution_count": null,
      "metadata": {
        "colab": {
          "base_uri": "https://localhost:8080/",
          "height": 238
        },
        "id": "wI_gBfByQhl9",
        "outputId": "9600d34d-6627-4539-9ba9-1db33c54f5b7"
      },
      "outputs": [
        {
          "data": {
            "text/html": [
              "<div>\n",
              "<style scoped>\n",
              "    .dataframe tbody tr th:only-of-type {\n",
              "        vertical-align: middle;\n",
              "    }\n",
              "\n",
              "    .dataframe tbody tr th {\n",
              "        vertical-align: top;\n",
              "    }\n",
              "\n",
              "    .dataframe thead th {\n",
              "        text-align: right;\n",
              "    }\n",
              "</style>\n",
              "<table border=\"1\" class=\"dataframe\">\n",
              "  <thead>\n",
              "    <tr style=\"text-align: right;\">\n",
              "      <th></th>\n",
              "      <th>gender</th>\n",
              "      <th>sport</th>\n",
              "      <th>status</th>\n",
              "      <th>age</th>\n",
              "      <th>height</th>\n",
              "      <th>weight</th>\n",
              "    </tr>\n",
              "  </thead>\n",
              "  <tbody>\n",
              "    <tr>\n",
              "      <th>0</th>\n",
              "      <td>male</td>\n",
              "      <td>tennis</td>\n",
              "      <td>professional</td>\n",
              "      <td>20</td>\n",
              "      <td>185</td>\n",
              "      <td>83</td>\n",
              "    </tr>\n",
              "    <tr>\n",
              "      <th>1</th>\n",
              "      <td>female</td>\n",
              "      <td>tennis</td>\n",
              "      <td>professional</td>\n",
              "      <td>24</td>\n",
              "      <td>172</td>\n",
              "      <td>58</td>\n",
              "    </tr>\n",
              "    <tr>\n",
              "      <th>2</th>\n",
              "      <td>female</td>\n",
              "      <td>basketball</td>\n",
              "      <td>professional</td>\n",
              "      <td>26</td>\n",
              "      <td>175</td>\n",
              "      <td>62</td>\n",
              "    </tr>\n",
              "    <tr>\n",
              "      <th>3</th>\n",
              "      <td>male</td>\n",
              "      <td>football</td>\n",
              "      <td>amateur</td>\n",
              "      <td>23</td>\n",
              "      <td>178</td>\n",
              "      <td>80</td>\n",
              "    </tr>\n",
              "    <tr>\n",
              "      <th>4</th>\n",
              "      <td>female</td>\n",
              "      <td>voleyball</td>\n",
              "      <td>amateur</td>\n",
              "      <td>22</td>\n",
              "      <td>182</td>\n",
              "      <td>65</td>\n",
              "    </tr>\n",
              "    <tr>\n",
              "      <th>5</th>\n",
              "      <td>male</td>\n",
              "      <td>basketball</td>\n",
              "      <td>amateur</td>\n",
              "      <td>21</td>\n",
              "      <td>196</td>\n",
              "      <td>90</td>\n",
              "    </tr>\n",
              "  </tbody>\n",
              "</table>\n",
              "</div>"
            ],
            "text/plain": [
              "   gender       sport        status  age  height  weight\n",
              "0    male      tennis  professional   20     185      83\n",
              "1  female      tennis  professional   24     172      58\n",
              "2  female  basketball  professional   26     175      62\n",
              "3    male    football       amateur   23     178      80\n",
              "4  female   voleyball       amateur   22     182      65\n",
              "5    male  basketball       amateur   21     196      90"
            ]
          },
          "execution_count": 113,
          "metadata": {},
          "output_type": "execute_result"
        }
      ],
      "source": [
        "data = {'gender':['male', 'female', 'female', 'male', 'female', 'male'],\n",
        "        'sport':['tennis', 'tennis', 'basketball', 'football', 'voleyball', 'basketball'],\n",
        "        'status':[\"professional\",\"professional\",\"professional\",\"amateur\",\"amateur\",\"amateur\"],\n",
        "        'age':[20, 24, 26, 23, 22, 21],\n",
        "        'height':[185, 172, 175, 178, 182, 196],\n",
        "        'weight':[83, 58, 62, 80, 65, 90]}\n",
        "\n",
        "df7 = pd.DataFrame(data)\n",
        "\n",
        "df7"
      ]
    },
    {
      "cell_type": "code",
      "execution_count": null,
      "metadata": {
        "id": "zDjXQxM6YOQU",
        "outputId": "b868a753-9964-4af0-a159-0ecff3b52c80"
      },
      "outputs": [
        {
          "data": {
            "text/html": [
              "<div>\n",
              "<style scoped>\n",
              "    .dataframe tbody tr th:only-of-type {\n",
              "        vertical-align: middle;\n",
              "    }\n",
              "\n",
              "    .dataframe tbody tr th {\n",
              "        vertical-align: top;\n",
              "    }\n",
              "\n",
              "    .dataframe thead tr th {\n",
              "        text-align: left;\n",
              "    }\n",
              "\n",
              "    .dataframe thead tr:last-of-type th {\n",
              "        text-align: right;\n",
              "    }\n",
              "</style>\n",
              "<table border=\"1\" class=\"dataframe\">\n",
              "  <thead>\n",
              "    <tr>\n",
              "      <th></th>\n",
              "      <th colspan=\"4\" halign=\"left\">age</th>\n",
              "    </tr>\n",
              "    <tr>\n",
              "      <th>sport</th>\n",
              "      <th>basketball</th>\n",
              "      <th>football</th>\n",
              "      <th>tennis</th>\n",
              "      <th>voleyball</th>\n",
              "    </tr>\n",
              "    <tr>\n",
              "      <th>gender</th>\n",
              "      <th></th>\n",
              "      <th></th>\n",
              "      <th></th>\n",
              "      <th></th>\n",
              "    </tr>\n",
              "  </thead>\n",
              "  <tbody>\n",
              "    <tr>\n",
              "      <th>female</th>\n",
              "      <td>26.0</td>\n",
              "      <td>NaN</td>\n",
              "      <td>24.0</td>\n",
              "      <td>22.0</td>\n",
              "    </tr>\n",
              "    <tr>\n",
              "      <th>male</th>\n",
              "      <td>21.0</td>\n",
              "      <td>23.0</td>\n",
              "      <td>20.0</td>\n",
              "      <td>NaN</td>\n",
              "    </tr>\n",
              "  </tbody>\n",
              "</table>\n",
              "</div>"
            ],
            "text/plain": [
              "              age                          \n",
              "sport  basketball football tennis voleyball\n",
              "gender                                     \n",
              "female       26.0      NaN   24.0      22.0\n",
              "male         21.0     23.0   20.0       NaN"
            ]
          },
          "execution_count": 114,
          "metadata": {},
          "output_type": "execute_result"
        }
      ],
      "source": [
        "df7.pivot_table(index='gender',\n",
        "                columns='sport',\n",
        "                values=['age'],\n",
        "                aggfunc='mean')"
      ]
    },
    {
      "cell_type": "code",
      "execution_count": null,
      "metadata": {
        "id": "Pfjls8pEYOQU",
        "outputId": "9f69cb21-fad1-455e-c811-fe9b2a6af6ff"
      },
      "outputs": [
        {
          "data": {
            "text/html": [
              "<div>\n",
              "<style scoped>\n",
              "    .dataframe tbody tr th:only-of-type {\n",
              "        vertical-align: middle;\n",
              "    }\n",
              "\n",
              "    .dataframe tbody tr th {\n",
              "        vertical-align: top;\n",
              "    }\n",
              "\n",
              "    .dataframe thead tr th {\n",
              "        text-align: left;\n",
              "    }\n",
              "\n",
              "    .dataframe thead tr:last-of-type th {\n",
              "        text-align: right;\n",
              "    }\n",
              "</style>\n",
              "<table border=\"1\" class=\"dataframe\">\n",
              "  <thead>\n",
              "    <tr>\n",
              "      <th></th>\n",
              "      <th colspan=\"4\" halign=\"left\">age</th>\n",
              "      <th colspan=\"4\" halign=\"left\">height</th>\n",
              "      <th colspan=\"4\" halign=\"left\">weight</th>\n",
              "    </tr>\n",
              "    <tr>\n",
              "      <th>sport</th>\n",
              "      <th>basketball</th>\n",
              "      <th>football</th>\n",
              "      <th>tennis</th>\n",
              "      <th>voleyball</th>\n",
              "      <th>basketball</th>\n",
              "      <th>football</th>\n",
              "      <th>tennis</th>\n",
              "      <th>voleyball</th>\n",
              "      <th>basketball</th>\n",
              "      <th>football</th>\n",
              "      <th>tennis</th>\n",
              "      <th>voleyball</th>\n",
              "    </tr>\n",
              "    <tr>\n",
              "      <th>gender</th>\n",
              "      <th></th>\n",
              "      <th></th>\n",
              "      <th></th>\n",
              "      <th></th>\n",
              "      <th></th>\n",
              "      <th></th>\n",
              "      <th></th>\n",
              "      <th></th>\n",
              "      <th></th>\n",
              "      <th></th>\n",
              "      <th></th>\n",
              "      <th></th>\n",
              "    </tr>\n",
              "  </thead>\n",
              "  <tbody>\n",
              "    <tr>\n",
              "      <th>female</th>\n",
              "      <td>26.0</td>\n",
              "      <td>NaN</td>\n",
              "      <td>24.0</td>\n",
              "      <td>22.0</td>\n",
              "      <td>175.0</td>\n",
              "      <td>NaN</td>\n",
              "      <td>172.0</td>\n",
              "      <td>182.0</td>\n",
              "      <td>62.0</td>\n",
              "      <td>NaN</td>\n",
              "      <td>58.0</td>\n",
              "      <td>65.0</td>\n",
              "    </tr>\n",
              "    <tr>\n",
              "      <th>male</th>\n",
              "      <td>21.0</td>\n",
              "      <td>23.0</td>\n",
              "      <td>20.0</td>\n",
              "      <td>NaN</td>\n",
              "      <td>196.0</td>\n",
              "      <td>178.0</td>\n",
              "      <td>185.0</td>\n",
              "      <td>NaN</td>\n",
              "      <td>90.0</td>\n",
              "      <td>80.0</td>\n",
              "      <td>83.0</td>\n",
              "      <td>NaN</td>\n",
              "    </tr>\n",
              "  </tbody>\n",
              "</table>\n",
              "</div>"
            ],
            "text/plain": [
              "              age                               height                  \\\n",
              "sport  basketball football tennis voleyball basketball football tennis   \n",
              "gender                                                                   \n",
              "female       26.0      NaN   24.0      22.0      175.0      NaN  172.0   \n",
              "male         21.0     23.0   20.0       NaN      196.0    178.0  185.0   \n",
              "\n",
              "                     weight                            \n",
              "sport  voleyball basketball football tennis voleyball  \n",
              "gender                                                 \n",
              "female     182.0       62.0      NaN   58.0      65.0  \n",
              "male         NaN       90.0     80.0   83.0       NaN  "
            ]
          },
          "execution_count": 115,
          "metadata": {},
          "output_type": "execute_result"
        }
      ],
      "source": [
        "df7.pivot_table(index='gender',\n",
        "                columns='sport',\n",
        "                values=['age','height','weight'],\n",
        "                aggfunc='mean')"
      ]
    },
    {
      "cell_type": "code",
      "execution_count": null,
      "metadata": {
        "id": "bpCuoI50YOQV",
        "outputId": "69ff19db-fd99-43be-d0df-6593a6affa4c"
      },
      "outputs": [
        {
          "data": {
            "text/html": [
              "<div>\n",
              "<style scoped>\n",
              "    .dataframe tbody tr th:only-of-type {\n",
              "        vertical-align: middle;\n",
              "    }\n",
              "\n",
              "    .dataframe tbody tr th {\n",
              "        vertical-align: top;\n",
              "    }\n",
              "\n",
              "    .dataframe thead tr th {\n",
              "        text-align: left;\n",
              "    }\n",
              "\n",
              "    .dataframe thead tr:last-of-type th {\n",
              "        text-align: right;\n",
              "    }\n",
              "</style>\n",
              "<table border=\"1\" class=\"dataframe\">\n",
              "  <thead>\n",
              "    <tr>\n",
              "      <th></th>\n",
              "      <th colspan=\"4\" halign=\"left\">age</th>\n",
              "      <th colspan=\"4\" halign=\"left\">height</th>\n",
              "      <th colspan=\"4\" halign=\"left\">weight</th>\n",
              "    </tr>\n",
              "    <tr>\n",
              "      <th>sport</th>\n",
              "      <th>basketball</th>\n",
              "      <th>football</th>\n",
              "      <th>tennis</th>\n",
              "      <th>voleyball</th>\n",
              "      <th>basketball</th>\n",
              "      <th>football</th>\n",
              "      <th>tennis</th>\n",
              "      <th>voleyball</th>\n",
              "      <th>basketball</th>\n",
              "      <th>football</th>\n",
              "      <th>tennis</th>\n",
              "      <th>voleyball</th>\n",
              "    </tr>\n",
              "    <tr>\n",
              "      <th>gender</th>\n",
              "      <th></th>\n",
              "      <th></th>\n",
              "      <th></th>\n",
              "      <th></th>\n",
              "      <th></th>\n",
              "      <th></th>\n",
              "      <th></th>\n",
              "      <th></th>\n",
              "      <th></th>\n",
              "      <th></th>\n",
              "      <th></th>\n",
              "      <th></th>\n",
              "    </tr>\n",
              "  </thead>\n",
              "  <tbody>\n",
              "    <tr>\n",
              "      <th>female</th>\n",
              "      <td>26.0</td>\n",
              "      <td>NaN</td>\n",
              "      <td>24.0</td>\n",
              "      <td>22.0</td>\n",
              "      <td>175.0</td>\n",
              "      <td>NaN</td>\n",
              "      <td>172.0</td>\n",
              "      <td>182.0</td>\n",
              "      <td>62.0</td>\n",
              "      <td>NaN</td>\n",
              "      <td>58.0</td>\n",
              "      <td>65.0</td>\n",
              "    </tr>\n",
              "    <tr>\n",
              "      <th>male</th>\n",
              "      <td>21.0</td>\n",
              "      <td>23.0</td>\n",
              "      <td>20.0</td>\n",
              "      <td>NaN</td>\n",
              "      <td>196.0</td>\n",
              "      <td>178.0</td>\n",
              "      <td>185.0</td>\n",
              "      <td>NaN</td>\n",
              "      <td>90.0</td>\n",
              "      <td>80.0</td>\n",
              "      <td>83.0</td>\n",
              "      <td>NaN</td>\n",
              "    </tr>\n",
              "  </tbody>\n",
              "</table>\n",
              "</div>"
            ],
            "text/plain": [
              "              age                               height                  \\\n",
              "sport  basketball football tennis voleyball basketball football tennis   \n",
              "gender                                                                   \n",
              "female       26.0      NaN   24.0      22.0      175.0      NaN  172.0   \n",
              "male         21.0     23.0   20.0       NaN      196.0    178.0  185.0   \n",
              "\n",
              "                     weight                            \n",
              "sport  voleyball basketball football tennis voleyball  \n",
              "gender                                                 \n",
              "female     182.0       62.0      NaN   58.0      65.0  \n",
              "male         NaN       90.0     80.0   83.0       NaN  "
            ]
          },
          "execution_count": 116,
          "metadata": {},
          "output_type": "execute_result"
        }
      ],
      "source": [
        "df7.pivot(index='gender',\n",
        "          columns='sport',\n",
        "          values=['age','height','weight'])"
      ]
    },
    {
      "cell_type": "code",
      "execution_count": null,
      "metadata": {
        "id": "J13GNCVAYOQV",
        "outputId": "10d76067-b95f-4ec1-8979-2de6896d80ea"
      },
      "outputs": [
        {
          "data": {
            "text/html": [
              "<div>\n",
              "<style scoped>\n",
              "    .dataframe tbody tr th:only-of-type {\n",
              "        vertical-align: middle;\n",
              "    }\n",
              "\n",
              "    .dataframe tbody tr th {\n",
              "        vertical-align: top;\n",
              "    }\n",
              "\n",
              "    .dataframe thead th {\n",
              "        text-align: right;\n",
              "    }\n",
              "</style>\n",
              "<table border=\"1\" class=\"dataframe\">\n",
              "  <thead>\n",
              "    <tr style=\"text-align: right;\">\n",
              "      <th>sport</th>\n",
              "      <th>basketball</th>\n",
              "      <th>football</th>\n",
              "      <th>tennis</th>\n",
              "      <th>voleyball</th>\n",
              "    </tr>\n",
              "    <tr>\n",
              "      <th>gender</th>\n",
              "      <th></th>\n",
              "      <th></th>\n",
              "      <th></th>\n",
              "      <th></th>\n",
              "    </tr>\n",
              "  </thead>\n",
              "  <tbody>\n",
              "    <tr>\n",
              "      <th>female</th>\n",
              "      <td>professional</td>\n",
              "      <td>NaN</td>\n",
              "      <td>professional</td>\n",
              "      <td>amateur</td>\n",
              "    </tr>\n",
              "    <tr>\n",
              "      <th>male</th>\n",
              "      <td>amateur</td>\n",
              "      <td>amateur</td>\n",
              "      <td>professional</td>\n",
              "      <td>NaN</td>\n",
              "    </tr>\n",
              "  </tbody>\n",
              "</table>\n",
              "</div>"
            ],
            "text/plain": [
              "sport     basketball football        tennis voleyball\n",
              "gender                                               \n",
              "female  professional      NaN  professional   amateur\n",
              "male         amateur  amateur  professional       NaN"
            ]
          },
          "execution_count": 117,
          "metadata": {},
          "output_type": "execute_result"
        }
      ],
      "source": [
        "df7.pivot(index='gender',\n",
        "          columns='sport',\n",
        "          values='status')"
      ]
    },
    {
      "cell_type": "code",
      "execution_count": null,
      "metadata": {
        "id": "_dFSaX25YOQV"
      },
      "outputs": [],
      "source": [
        "#gives an error because no numeric types to aggregate\n",
        "#df7.pivot_table(index='gender',\n",
        "#                columns='sport',\n",
        "#                values='status')"
      ]
    },
    {
      "cell_type": "code",
      "execution_count": null,
      "metadata": {
        "scrolled": true,
        "id": "OpHYvn3bYOQV",
        "outputId": "2739e472-dcad-4993-c347-586728b3981e"
      },
      "outputs": [
        {
          "data": {
            "text/html": [
              "<div>\n",
              "<style scoped>\n",
              "    .dataframe tbody tr th:only-of-type {\n",
              "        vertical-align: middle;\n",
              "    }\n",
              "\n",
              "    .dataframe tbody tr th {\n",
              "        vertical-align: top;\n",
              "    }\n",
              "\n",
              "    .dataframe thead th {\n",
              "        text-align: right;\n",
              "    }\n",
              "</style>\n",
              "<table border=\"1\" class=\"dataframe\">\n",
              "  <thead>\n",
              "    <tr style=\"text-align: right;\">\n",
              "      <th></th>\n",
              "      <th>gender</th>\n",
              "      <th>sport</th>\n",
              "      <th>status</th>\n",
              "      <th>age</th>\n",
              "      <th>height</th>\n",
              "      <th>weight</th>\n",
              "    </tr>\n",
              "  </thead>\n",
              "  <tbody>\n",
              "    <tr>\n",
              "      <th>0</th>\n",
              "      <td>male</td>\n",
              "      <td>tennis</td>\n",
              "      <td>professional</td>\n",
              "      <td>20</td>\n",
              "      <td>185</td>\n",
              "      <td>83</td>\n",
              "    </tr>\n",
              "    <tr>\n",
              "      <th>1</th>\n",
              "      <td>female</td>\n",
              "      <td>tennis</td>\n",
              "      <td>professional</td>\n",
              "      <td>24</td>\n",
              "      <td>172</td>\n",
              "      <td>58</td>\n",
              "    </tr>\n",
              "    <tr>\n",
              "      <th>2</th>\n",
              "      <td>female</td>\n",
              "      <td>basketball</td>\n",
              "      <td>professional</td>\n",
              "      <td>26</td>\n",
              "      <td>175</td>\n",
              "      <td>62</td>\n",
              "    </tr>\n",
              "    <tr>\n",
              "      <th>3</th>\n",
              "      <td>male</td>\n",
              "      <td>football</td>\n",
              "      <td>amateur</td>\n",
              "      <td>23</td>\n",
              "      <td>178</td>\n",
              "      <td>80</td>\n",
              "    </tr>\n",
              "    <tr>\n",
              "      <th>4</th>\n",
              "      <td>female</td>\n",
              "      <td>voleyball</td>\n",
              "      <td>amateur</td>\n",
              "      <td>22</td>\n",
              "      <td>182</td>\n",
              "      <td>65</td>\n",
              "    </tr>\n",
              "    <tr>\n",
              "      <th>5</th>\n",
              "      <td>male</td>\n",
              "      <td>basketball</td>\n",
              "      <td>amateur</td>\n",
              "      <td>21</td>\n",
              "      <td>196</td>\n",
              "      <td>90</td>\n",
              "    </tr>\n",
              "  </tbody>\n",
              "</table>\n",
              "</div>"
            ],
            "text/plain": [
              "   gender       sport        status  age  height  weight\n",
              "0    male      tennis  professional   20     185      83\n",
              "1  female      tennis  professional   24     172      58\n",
              "2  female  basketball  professional   26     175      62\n",
              "3    male    football       amateur   23     178      80\n",
              "4  female   voleyball       amateur   22     182      65\n",
              "5    male  basketball       amateur   21     196      90"
            ]
          },
          "execution_count": 119,
          "metadata": {},
          "output_type": "execute_result"
        }
      ],
      "source": [
        "df7"
      ]
    },
    {
      "cell_type": "code",
      "execution_count": null,
      "metadata": {
        "scrolled": false,
        "id": "JJ2NxV_UYOQW",
        "outputId": "88ca3c5b-2011-49f9-c36b-2f3a9f288804"
      },
      "outputs": [
        {
          "data": {
            "text/html": [
              "<div>\n",
              "<style scoped>\n",
              "    .dataframe tbody tr th:only-of-type {\n",
              "        vertical-align: middle;\n",
              "    }\n",
              "\n",
              "    .dataframe tbody tr th {\n",
              "        vertical-align: top;\n",
              "    }\n",
              "\n",
              "    .dataframe thead th {\n",
              "        text-align: right;\n",
              "    }\n",
              "</style>\n",
              "<table border=\"1\" class=\"dataframe\">\n",
              "  <thead>\n",
              "    <tr style=\"text-align: right;\">\n",
              "      <th></th>\n",
              "      <th>gender</th>\n",
              "      <th>sport</th>\n",
              "      <th>status</th>\n",
              "      <th>age</th>\n",
              "      <th>height</th>\n",
              "      <th>weight</th>\n",
              "    </tr>\n",
              "  </thead>\n",
              "  <tbody>\n",
              "    <tr>\n",
              "      <th>0</th>\n",
              "      <td>male</td>\n",
              "      <td>tennis</td>\n",
              "      <td>professional</td>\n",
              "      <td>20</td>\n",
              "      <td>185</td>\n",
              "      <td>83</td>\n",
              "    </tr>\n",
              "    <tr>\n",
              "      <th>1</th>\n",
              "      <td>female</td>\n",
              "      <td>tennis</td>\n",
              "      <td>professional</td>\n",
              "      <td>24</td>\n",
              "      <td>172</td>\n",
              "      <td>58</td>\n",
              "    </tr>\n",
              "    <tr>\n",
              "      <th>2</th>\n",
              "      <td>female</td>\n",
              "      <td>tennis</td>\n",
              "      <td>professional</td>\n",
              "      <td>26</td>\n",
              "      <td>175</td>\n",
              "      <td>62</td>\n",
              "    </tr>\n",
              "    <tr>\n",
              "      <th>3</th>\n",
              "      <td>male</td>\n",
              "      <td>football</td>\n",
              "      <td>amateur</td>\n",
              "      <td>23</td>\n",
              "      <td>178</td>\n",
              "      <td>80</td>\n",
              "    </tr>\n",
              "    <tr>\n",
              "      <th>4</th>\n",
              "      <td>female</td>\n",
              "      <td>voleyball</td>\n",
              "      <td>amateur</td>\n",
              "      <td>22</td>\n",
              "      <td>182</td>\n",
              "      <td>65</td>\n",
              "    </tr>\n",
              "    <tr>\n",
              "      <th>5</th>\n",
              "      <td>male</td>\n",
              "      <td>basketball</td>\n",
              "      <td>amateur</td>\n",
              "      <td>21</td>\n",
              "      <td>196</td>\n",
              "      <td>90</td>\n",
              "    </tr>\n",
              "  </tbody>\n",
              "</table>\n",
              "</div>"
            ],
            "text/plain": [
              "   gender       sport        status  age  height  weight\n",
              "0    male      tennis  professional   20     185      83\n",
              "1  female      tennis  professional   24     172      58\n",
              "2  female      tennis  professional   26     175      62\n",
              "3    male    football       amateur   23     178      80\n",
              "4  female   voleyball       amateur   22     182      65\n",
              "5    male  basketball       amateur   21     196      90"
            ]
          },
          "execution_count": 120,
          "metadata": {},
          "output_type": "execute_result"
        }
      ],
      "source": [
        "df7.loc[2,\"sport\"] = \"tennis\"\n",
        "df7"
      ]
    },
    {
      "cell_type": "code",
      "execution_count": null,
      "metadata": {
        "id": "Y0EWyg1-YOQW",
        "outputId": "b4a7d723-bf46-4d59-8807-ce357c3433a7"
      },
      "outputs": [
        {
          "data": {
            "text/html": [
              "<div>\n",
              "<style scoped>\n",
              "    .dataframe tbody tr th:only-of-type {\n",
              "        vertical-align: middle;\n",
              "    }\n",
              "\n",
              "    .dataframe tbody tr th {\n",
              "        vertical-align: top;\n",
              "    }\n",
              "\n",
              "    .dataframe thead tr th {\n",
              "        text-align: left;\n",
              "    }\n",
              "\n",
              "    .dataframe thead tr:last-of-type th {\n",
              "        text-align: right;\n",
              "    }\n",
              "</style>\n",
              "<table border=\"1\" class=\"dataframe\">\n",
              "  <thead>\n",
              "    <tr>\n",
              "      <th></th>\n",
              "      <th colspan=\"4\" halign=\"left\">age</th>\n",
              "      <th colspan=\"4\" halign=\"left\">height</th>\n",
              "      <th colspan=\"4\" halign=\"left\">weight</th>\n",
              "    </tr>\n",
              "    <tr>\n",
              "      <th>sport</th>\n",
              "      <th>basketball</th>\n",
              "      <th>football</th>\n",
              "      <th>tennis</th>\n",
              "      <th>voleyball</th>\n",
              "      <th>basketball</th>\n",
              "      <th>football</th>\n",
              "      <th>tennis</th>\n",
              "      <th>voleyball</th>\n",
              "      <th>basketball</th>\n",
              "      <th>football</th>\n",
              "      <th>tennis</th>\n",
              "      <th>voleyball</th>\n",
              "    </tr>\n",
              "    <tr>\n",
              "      <th>gender</th>\n",
              "      <th></th>\n",
              "      <th></th>\n",
              "      <th></th>\n",
              "      <th></th>\n",
              "      <th></th>\n",
              "      <th></th>\n",
              "      <th></th>\n",
              "      <th></th>\n",
              "      <th></th>\n",
              "      <th></th>\n",
              "      <th></th>\n",
              "      <th></th>\n",
              "    </tr>\n",
              "  </thead>\n",
              "  <tbody>\n",
              "    <tr>\n",
              "      <th>female</th>\n",
              "      <td>NaN</td>\n",
              "      <td>NaN</td>\n",
              "      <td>25.0</td>\n",
              "      <td>22.0</td>\n",
              "      <td>NaN</td>\n",
              "      <td>NaN</td>\n",
              "      <td>173.5</td>\n",
              "      <td>182.0</td>\n",
              "      <td>NaN</td>\n",
              "      <td>NaN</td>\n",
              "      <td>60.0</td>\n",
              "      <td>65.0</td>\n",
              "    </tr>\n",
              "    <tr>\n",
              "      <th>male</th>\n",
              "      <td>21.0</td>\n",
              "      <td>23.0</td>\n",
              "      <td>20.0</td>\n",
              "      <td>NaN</td>\n",
              "      <td>196.0</td>\n",
              "      <td>178.0</td>\n",
              "      <td>185.0</td>\n",
              "      <td>NaN</td>\n",
              "      <td>90.0</td>\n",
              "      <td>80.0</td>\n",
              "      <td>83.0</td>\n",
              "      <td>NaN</td>\n",
              "    </tr>\n",
              "  </tbody>\n",
              "</table>\n",
              "</div>"
            ],
            "text/plain": [
              "              age                               height                  \\\n",
              "sport  basketball football tennis voleyball basketball football tennis   \n",
              "gender                                                                   \n",
              "female        NaN      NaN   25.0      22.0        NaN      NaN  173.5   \n",
              "male         21.0     23.0   20.0       NaN      196.0    178.0  185.0   \n",
              "\n",
              "                     weight                            \n",
              "sport  voleyball basketball football tennis voleyball  \n",
              "gender                                                 \n",
              "female     182.0        NaN      NaN   60.0      65.0  \n",
              "male         NaN       90.0     80.0   83.0       NaN  "
            ]
          },
          "execution_count": 121,
          "metadata": {},
          "output_type": "execute_result"
        }
      ],
      "source": [
        "df7.pivot_table(index='gender',\n",
        "                columns='sport',\n",
        "                values=['age','height','weight'],\n",
        "                aggfunc='mean')"
      ]
    },
    {
      "cell_type": "code",
      "execution_count": null,
      "metadata": {
        "id": "LI310_3iYOQW"
      },
      "outputs": [],
      "source": [
        "#gives an error because of the dublicate values\n",
        "#df7.pivot(index='gender',\n",
        "#          columns='sport',\n",
        "#          values=['age','height','weight'])"
      ]
    },
    {
      "cell_type": "code",
      "execution_count": null,
      "metadata": {
        "scrolled": true,
        "id": "f1sSVu3pYOQX",
        "outputId": "b719e341-ae4c-4f66-bcbd-a935df418996"
      },
      "outputs": [
        {
          "data": {
            "text/html": [
              "<div>\n",
              "<style scoped>\n",
              "    .dataframe tbody tr th:only-of-type {\n",
              "        vertical-align: middle;\n",
              "    }\n",
              "\n",
              "    .dataframe tbody tr th {\n",
              "        vertical-align: top;\n",
              "    }\n",
              "\n",
              "    .dataframe thead tr th {\n",
              "        text-align: left;\n",
              "    }\n",
              "</style>\n",
              "<table border=\"1\" class=\"dataframe\">\n",
              "  <thead>\n",
              "    <tr>\n",
              "      <th></th>\n",
              "      <th colspan=\"4\" halign=\"left\">age</th>\n",
              "      <th colspan=\"4\" halign=\"left\">height</th>\n",
              "      <th colspan=\"4\" halign=\"left\">weight</th>\n",
              "    </tr>\n",
              "    <tr>\n",
              "      <th>sport</th>\n",
              "      <th>basketball</th>\n",
              "      <th>football</th>\n",
              "      <th>tennis</th>\n",
              "      <th>voleyball</th>\n",
              "      <th>basketball</th>\n",
              "      <th>football</th>\n",
              "      <th>tennis</th>\n",
              "      <th>voleyball</th>\n",
              "      <th>basketball</th>\n",
              "      <th>football</th>\n",
              "      <th>tennis</th>\n",
              "      <th>voleyball</th>\n",
              "    </tr>\n",
              "  </thead>\n",
              "  <tbody>\n",
              "    <tr>\n",
              "      <th>0</th>\n",
              "      <td>NaN</td>\n",
              "      <td>NaN</td>\n",
              "      <td>20.0</td>\n",
              "      <td>NaN</td>\n",
              "      <td>NaN</td>\n",
              "      <td>NaN</td>\n",
              "      <td>185.0</td>\n",
              "      <td>NaN</td>\n",
              "      <td>NaN</td>\n",
              "      <td>NaN</td>\n",
              "      <td>83.0</td>\n",
              "      <td>NaN</td>\n",
              "    </tr>\n",
              "    <tr>\n",
              "      <th>1</th>\n",
              "      <td>NaN</td>\n",
              "      <td>NaN</td>\n",
              "      <td>24.0</td>\n",
              "      <td>NaN</td>\n",
              "      <td>NaN</td>\n",
              "      <td>NaN</td>\n",
              "      <td>172.0</td>\n",
              "      <td>NaN</td>\n",
              "      <td>NaN</td>\n",
              "      <td>NaN</td>\n",
              "      <td>58.0</td>\n",
              "      <td>NaN</td>\n",
              "    </tr>\n",
              "    <tr>\n",
              "      <th>2</th>\n",
              "      <td>NaN</td>\n",
              "      <td>NaN</td>\n",
              "      <td>26.0</td>\n",
              "      <td>NaN</td>\n",
              "      <td>NaN</td>\n",
              "      <td>NaN</td>\n",
              "      <td>175.0</td>\n",
              "      <td>NaN</td>\n",
              "      <td>NaN</td>\n",
              "      <td>NaN</td>\n",
              "      <td>62.0</td>\n",
              "      <td>NaN</td>\n",
              "    </tr>\n",
              "    <tr>\n",
              "      <th>3</th>\n",
              "      <td>NaN</td>\n",
              "      <td>23.0</td>\n",
              "      <td>NaN</td>\n",
              "      <td>NaN</td>\n",
              "      <td>NaN</td>\n",
              "      <td>178.0</td>\n",
              "      <td>NaN</td>\n",
              "      <td>NaN</td>\n",
              "      <td>NaN</td>\n",
              "      <td>80.0</td>\n",
              "      <td>NaN</td>\n",
              "      <td>NaN</td>\n",
              "    </tr>\n",
              "    <tr>\n",
              "      <th>4</th>\n",
              "      <td>NaN</td>\n",
              "      <td>NaN</td>\n",
              "      <td>NaN</td>\n",
              "      <td>22.0</td>\n",
              "      <td>NaN</td>\n",
              "      <td>NaN</td>\n",
              "      <td>NaN</td>\n",
              "      <td>182.0</td>\n",
              "      <td>NaN</td>\n",
              "      <td>NaN</td>\n",
              "      <td>NaN</td>\n",
              "      <td>65.0</td>\n",
              "    </tr>\n",
              "    <tr>\n",
              "      <th>5</th>\n",
              "      <td>21.0</td>\n",
              "      <td>NaN</td>\n",
              "      <td>NaN</td>\n",
              "      <td>NaN</td>\n",
              "      <td>196.0</td>\n",
              "      <td>NaN</td>\n",
              "      <td>NaN</td>\n",
              "      <td>NaN</td>\n",
              "      <td>90.0</td>\n",
              "      <td>NaN</td>\n",
              "      <td>NaN</td>\n",
              "      <td>NaN</td>\n",
              "    </tr>\n",
              "  </tbody>\n",
              "</table>\n",
              "</div>"
            ],
            "text/plain": [
              "             age                               height                  \\\n",
              "sport basketball football tennis voleyball basketball football tennis   \n",
              "0            NaN      NaN   20.0       NaN        NaN      NaN  185.0   \n",
              "1            NaN      NaN   24.0       NaN        NaN      NaN  172.0   \n",
              "2            NaN      NaN   26.0       NaN        NaN      NaN  175.0   \n",
              "3            NaN     23.0    NaN       NaN        NaN    178.0    NaN   \n",
              "4            NaN      NaN    NaN      22.0        NaN      NaN    NaN   \n",
              "5           21.0      NaN    NaN       NaN      196.0      NaN    NaN   \n",
              "\n",
              "                    weight                            \n",
              "sport voleyball basketball football tennis voleyball  \n",
              "0           NaN        NaN      NaN   83.0       NaN  \n",
              "1           NaN        NaN      NaN   58.0       NaN  \n",
              "2           NaN        NaN      NaN   62.0       NaN  \n",
              "3           NaN        NaN     80.0    NaN       NaN  \n",
              "4         182.0        NaN      NaN    NaN      65.0  \n",
              "5           NaN       90.0      NaN    NaN       NaN  "
            ]
          },
          "execution_count": 123,
          "metadata": {},
          "output_type": "execute_result"
        }
      ],
      "source": [
        "df7.pivot(columns='sport',\n",
        "          values=['age','height','weight'])"
      ]
    },
    {
      "cell_type": "code",
      "execution_count": null,
      "metadata": {
        "id": "ZdFNIq2KYOQX",
        "outputId": "6c816473-f48c-462b-b855-237faf8d655b"
      },
      "outputs": [
        {
          "data": {
            "text/html": [
              "<div>\n",
              "<style scoped>\n",
              "    .dataframe tbody tr th:only-of-type {\n",
              "        vertical-align: middle;\n",
              "    }\n",
              "\n",
              "    .dataframe tbody tr th {\n",
              "        vertical-align: top;\n",
              "    }\n",
              "\n",
              "    .dataframe thead th {\n",
              "        text-align: right;\n",
              "    }\n",
              "</style>\n",
              "<table border=\"1\" class=\"dataframe\">\n",
              "  <thead>\n",
              "    <tr style=\"text-align: right;\">\n",
              "      <th></th>\n",
              "      <th></th>\n",
              "      <th>age</th>\n",
              "      <th>height</th>\n",
              "      <th>weight</th>\n",
              "    </tr>\n",
              "    <tr>\n",
              "      <th>gender</th>\n",
              "      <th>sport</th>\n",
              "      <th></th>\n",
              "      <th></th>\n",
              "      <th></th>\n",
              "    </tr>\n",
              "  </thead>\n",
              "  <tbody>\n",
              "    <tr>\n",
              "      <th rowspan=\"2\" valign=\"top\">female</th>\n",
              "      <th>tennis</th>\n",
              "      <td>25</td>\n",
              "      <td>173.5</td>\n",
              "      <td>60</td>\n",
              "    </tr>\n",
              "    <tr>\n",
              "      <th>voleyball</th>\n",
              "      <td>22</td>\n",
              "      <td>182.0</td>\n",
              "      <td>65</td>\n",
              "    </tr>\n",
              "    <tr>\n",
              "      <th rowspan=\"3\" valign=\"top\">male</th>\n",
              "      <th>basketball</th>\n",
              "      <td>21</td>\n",
              "      <td>196.0</td>\n",
              "      <td>90</td>\n",
              "    </tr>\n",
              "    <tr>\n",
              "      <th>football</th>\n",
              "      <td>23</td>\n",
              "      <td>178.0</td>\n",
              "      <td>80</td>\n",
              "    </tr>\n",
              "    <tr>\n",
              "      <th>tennis</th>\n",
              "      <td>20</td>\n",
              "      <td>185.0</td>\n",
              "      <td>83</td>\n",
              "    </tr>\n",
              "  </tbody>\n",
              "</table>\n",
              "</div>"
            ],
            "text/plain": [
              "                   age  height  weight\n",
              "gender sport                          \n",
              "female tennis       25   173.5      60\n",
              "       voleyball    22   182.0      65\n",
              "male   basketball   21   196.0      90\n",
              "       football     23   178.0      80\n",
              "       tennis       20   185.0      83"
            ]
          },
          "execution_count": 124,
          "metadata": {},
          "output_type": "execute_result"
        }
      ],
      "source": [
        "df7.pivot_table(index=['gender', 'sport'],\n",
        "                values=['age','height','weight'],\n",
        "                aggfunc='mean')"
      ]
    },
    {
      "cell_type": "code",
      "execution_count": null,
      "metadata": {
        "id": "E_r5ynowYOQX"
      },
      "outputs": [],
      "source": [
        "#gives an error because of the lack of \"columns\" parameter\n",
        "#df7.pivot(index=['gender', 'sport'],\n",
        "#          values=['age','height','weight'])"
      ]
    },
    {
      "cell_type": "code",
      "execution_count": null,
      "metadata": {
        "id": "lfm6sHUYYOQX",
        "outputId": "55ba8f37-d31e-4e20-98cf-c6eea577cf72"
      },
      "outputs": [
        {
          "data": {
            "text/html": [
              "<div>\n",
              "<style scoped>\n",
              "    .dataframe tbody tr th:only-of-type {\n",
              "        vertical-align: middle;\n",
              "    }\n",
              "\n",
              "    .dataframe tbody tr th {\n",
              "        vertical-align: top;\n",
              "    }\n",
              "\n",
              "    .dataframe thead th {\n",
              "        text-align: right;\n",
              "    }\n",
              "</style>\n",
              "<table border=\"1\" class=\"dataframe\">\n",
              "  <thead>\n",
              "    <tr style=\"text-align: right;\">\n",
              "      <th></th>\n",
              "      <th></th>\n",
              "      <th>age</th>\n",
              "      <th>height</th>\n",
              "      <th>weight</th>\n",
              "    </tr>\n",
              "    <tr>\n",
              "      <th>gender</th>\n",
              "      <th>sport</th>\n",
              "      <th></th>\n",
              "      <th></th>\n",
              "      <th></th>\n",
              "    </tr>\n",
              "  </thead>\n",
              "  <tbody>\n",
              "    <tr>\n",
              "      <th rowspan=\"2\" valign=\"top\">female</th>\n",
              "      <th>tennis</th>\n",
              "      <td>25.0</td>\n",
              "      <td>173.5</td>\n",
              "      <td>60.0</td>\n",
              "    </tr>\n",
              "    <tr>\n",
              "      <th>voleyball</th>\n",
              "      <td>22.0</td>\n",
              "      <td>182.0</td>\n",
              "      <td>65.0</td>\n",
              "    </tr>\n",
              "    <tr>\n",
              "      <th rowspan=\"3\" valign=\"top\">male</th>\n",
              "      <th>basketball</th>\n",
              "      <td>21.0</td>\n",
              "      <td>196.0</td>\n",
              "      <td>90.0</td>\n",
              "    </tr>\n",
              "    <tr>\n",
              "      <th>football</th>\n",
              "      <td>23.0</td>\n",
              "      <td>178.0</td>\n",
              "      <td>80.0</td>\n",
              "    </tr>\n",
              "    <tr>\n",
              "      <th>tennis</th>\n",
              "      <td>20.0</td>\n",
              "      <td>185.0</td>\n",
              "      <td>83.0</td>\n",
              "    </tr>\n",
              "  </tbody>\n",
              "</table>\n",
              "</div>"
            ],
            "text/plain": [
              "                    age  height  weight\n",
              "gender sport                           \n",
              "female tennis      25.0   173.5    60.0\n",
              "       voleyball   22.0   182.0    65.0\n",
              "male   basketball  21.0   196.0    90.0\n",
              "       football    23.0   178.0    80.0\n",
              "       tennis      20.0   185.0    83.0"
            ]
          },
          "execution_count": 126,
          "metadata": {},
          "output_type": "execute_result"
        }
      ],
      "source": [
        "df7.groupby([\"gender\",\"sport\"]).mean()"
      ]
    },
    {
      "cell_type": "code",
      "execution_count": null,
      "metadata": {
        "id": "riaG_y-fYOQY",
        "outputId": "2b4895f4-cd06-4aa4-d63b-3e136beb24af"
      },
      "outputs": [
        {
          "data": {
            "text/html": [
              "<div>\n",
              "<style scoped>\n",
              "    .dataframe tbody tr th:only-of-type {\n",
              "        vertical-align: middle;\n",
              "    }\n",
              "\n",
              "    .dataframe tbody tr th {\n",
              "        vertical-align: top;\n",
              "    }\n",
              "\n",
              "    .dataframe thead tr th {\n",
              "        text-align: left;\n",
              "    }\n",
              "\n",
              "    .dataframe thead tr:last-of-type th {\n",
              "        text-align: right;\n",
              "    }\n",
              "</style>\n",
              "<table border=\"1\" class=\"dataframe\">\n",
              "  <thead>\n",
              "    <tr>\n",
              "      <th></th>\n",
              "      <th></th>\n",
              "      <th colspan=\"2\" halign=\"left\">age</th>\n",
              "      <th colspan=\"2\" halign=\"left\">height</th>\n",
              "      <th colspan=\"2\" halign=\"left\">weight</th>\n",
              "    </tr>\n",
              "    <tr>\n",
              "      <th></th>\n",
              "      <th>status</th>\n",
              "      <th>amateur</th>\n",
              "      <th>professional</th>\n",
              "      <th>amateur</th>\n",
              "      <th>professional</th>\n",
              "      <th>amateur</th>\n",
              "      <th>professional</th>\n",
              "    </tr>\n",
              "    <tr>\n",
              "      <th>gender</th>\n",
              "      <th>sport</th>\n",
              "      <th></th>\n",
              "      <th></th>\n",
              "      <th></th>\n",
              "      <th></th>\n",
              "      <th></th>\n",
              "      <th></th>\n",
              "    </tr>\n",
              "  </thead>\n",
              "  <tbody>\n",
              "    <tr>\n",
              "      <th rowspan=\"2\" valign=\"top\">female</th>\n",
              "      <th>tennis</th>\n",
              "      <td>NaN</td>\n",
              "      <td>25.0</td>\n",
              "      <td>NaN</td>\n",
              "      <td>173.5</td>\n",
              "      <td>NaN</td>\n",
              "      <td>60.0</td>\n",
              "    </tr>\n",
              "    <tr>\n",
              "      <th>voleyball</th>\n",
              "      <td>22.0</td>\n",
              "      <td>NaN</td>\n",
              "      <td>182.0</td>\n",
              "      <td>NaN</td>\n",
              "      <td>65.0</td>\n",
              "      <td>NaN</td>\n",
              "    </tr>\n",
              "    <tr>\n",
              "      <th rowspan=\"3\" valign=\"top\">male</th>\n",
              "      <th>basketball</th>\n",
              "      <td>21.0</td>\n",
              "      <td>NaN</td>\n",
              "      <td>196.0</td>\n",
              "      <td>NaN</td>\n",
              "      <td>90.0</td>\n",
              "      <td>NaN</td>\n",
              "    </tr>\n",
              "    <tr>\n",
              "      <th>football</th>\n",
              "      <td>23.0</td>\n",
              "      <td>NaN</td>\n",
              "      <td>178.0</td>\n",
              "      <td>NaN</td>\n",
              "      <td>80.0</td>\n",
              "      <td>NaN</td>\n",
              "    </tr>\n",
              "    <tr>\n",
              "      <th>tennis</th>\n",
              "      <td>NaN</td>\n",
              "      <td>20.0</td>\n",
              "      <td>NaN</td>\n",
              "      <td>185.0</td>\n",
              "      <td>NaN</td>\n",
              "      <td>83.0</td>\n",
              "    </tr>\n",
              "  </tbody>\n",
              "</table>\n",
              "</div>"
            ],
            "text/plain": [
              "                      age               height               weight  \\\n",
              "status            amateur professional amateur professional amateur   \n",
              "gender sport                                                          \n",
              "female tennis         NaN         25.0     NaN        173.5     NaN   \n",
              "       voleyball     22.0          NaN   182.0          NaN    65.0   \n",
              "male   basketball    21.0          NaN   196.0          NaN    90.0   \n",
              "       football      23.0          NaN   178.0          NaN    80.0   \n",
              "       tennis         NaN         20.0     NaN        185.0     NaN   \n",
              "\n",
              "                                \n",
              "status            professional  \n",
              "gender sport                    \n",
              "female tennis             60.0  \n",
              "       voleyball           NaN  \n",
              "male   basketball          NaN  \n",
              "       football            NaN  \n",
              "       tennis             83.0  "
            ]
          },
          "execution_count": 127,
          "metadata": {},
          "output_type": "execute_result"
        }
      ],
      "source": [
        "df7.pivot_table(index=['gender', 'sport'],\n",
        "                columns = \"status\",\n",
        "                values=['age','height','weight'],\n",
        "                aggfunc='mean')"
      ]
    },
    {
      "cell_type": "code",
      "execution_count": null,
      "metadata": {
        "id": "VIkGQnmzYOQY"
      },
      "outputs": [],
      "source": [
        "#gives an error because of the dublicate values\n",
        "#df7.pivot(index=['gender', 'sport'],\n",
        "#          columns = \"status\",\n",
        "#          values=['age','height','weight'])"
      ]
    },
    {
      "cell_type": "code",
      "execution_count": null,
      "metadata": {
        "id": "zsIPTxr6YOQY",
        "outputId": "e7cadabc-bfed-4781-e569-587224dcf91d"
      },
      "outputs": [
        {
          "data": {
            "text/html": [
              "<div>\n",
              "<style scoped>\n",
              "    .dataframe tbody tr th:only-of-type {\n",
              "        vertical-align: middle;\n",
              "    }\n",
              "\n",
              "    .dataframe tbody tr th {\n",
              "        vertical-align: top;\n",
              "    }\n",
              "\n",
              "    .dataframe thead tr th {\n",
              "        text-align: left;\n",
              "    }\n",
              "</style>\n",
              "<table border=\"1\" class=\"dataframe\">\n",
              "  <thead>\n",
              "    <tr>\n",
              "      <th></th>\n",
              "      <th colspan=\"2\" halign=\"left\">age</th>\n",
              "      <th colspan=\"2\" halign=\"left\">height</th>\n",
              "      <th colspan=\"2\" halign=\"left\">weight</th>\n",
              "    </tr>\n",
              "    <tr>\n",
              "      <th>status</th>\n",
              "      <th>amateur</th>\n",
              "      <th>professional</th>\n",
              "      <th>amateur</th>\n",
              "      <th>professional</th>\n",
              "      <th>amateur</th>\n",
              "      <th>professional</th>\n",
              "    </tr>\n",
              "  </thead>\n",
              "  <tbody>\n",
              "    <tr>\n",
              "      <th>0</th>\n",
              "      <td>NaN</td>\n",
              "      <td>20.0</td>\n",
              "      <td>NaN</td>\n",
              "      <td>185.0</td>\n",
              "      <td>NaN</td>\n",
              "      <td>83.0</td>\n",
              "    </tr>\n",
              "    <tr>\n",
              "      <th>1</th>\n",
              "      <td>NaN</td>\n",
              "      <td>24.0</td>\n",
              "      <td>NaN</td>\n",
              "      <td>172.0</td>\n",
              "      <td>NaN</td>\n",
              "      <td>58.0</td>\n",
              "    </tr>\n",
              "    <tr>\n",
              "      <th>2</th>\n",
              "      <td>NaN</td>\n",
              "      <td>26.0</td>\n",
              "      <td>NaN</td>\n",
              "      <td>175.0</td>\n",
              "      <td>NaN</td>\n",
              "      <td>62.0</td>\n",
              "    </tr>\n",
              "    <tr>\n",
              "      <th>3</th>\n",
              "      <td>23.0</td>\n",
              "      <td>NaN</td>\n",
              "      <td>178.0</td>\n",
              "      <td>NaN</td>\n",
              "      <td>80.0</td>\n",
              "      <td>NaN</td>\n",
              "    </tr>\n",
              "    <tr>\n",
              "      <th>4</th>\n",
              "      <td>22.0</td>\n",
              "      <td>NaN</td>\n",
              "      <td>182.0</td>\n",
              "      <td>NaN</td>\n",
              "      <td>65.0</td>\n",
              "      <td>NaN</td>\n",
              "    </tr>\n",
              "    <tr>\n",
              "      <th>5</th>\n",
              "      <td>21.0</td>\n",
              "      <td>NaN</td>\n",
              "      <td>196.0</td>\n",
              "      <td>NaN</td>\n",
              "      <td>90.0</td>\n",
              "      <td>NaN</td>\n",
              "    </tr>\n",
              "  </tbody>\n",
              "</table>\n",
              "</div>"
            ],
            "text/plain": [
              "           age               height               weight             \n",
              "status amateur professional amateur professional amateur professional\n",
              "0          NaN         20.0     NaN        185.0     NaN         83.0\n",
              "1          NaN         24.0     NaN        172.0     NaN         58.0\n",
              "2          NaN         26.0     NaN        175.0     NaN         62.0\n",
              "3         23.0          NaN   178.0          NaN    80.0          NaN\n",
              "4         22.0          NaN   182.0          NaN    65.0          NaN\n",
              "5         21.0          NaN   196.0          NaN    90.0          NaN"
            ]
          },
          "execution_count": 129,
          "metadata": {},
          "output_type": "execute_result"
        }
      ],
      "source": [
        "df7.pivot(columns = \"status\",\n",
        "          values=['age','height','weight'])"
      ]
    },
    {
      "cell_type": "markdown",
      "metadata": {
        "id": "0KDjua5tYOQZ"
      },
      "source": [
        "# .stack() & .unstack()"
      ]
    },
    {
      "cell_type": "markdown",
      "metadata": {
        "id": "TXAGiZbTYOQZ"
      },
      "source": [
        "**stack()**\n",
        "- DataFrame.stack(level=- 1, dropna=True)\n",
        "- Stack the prescribed level(s) from columns to index.\n",
        "- Return a reshaped DataFrame or Series having a multi-level index with one or more new inner-most levels compared to the current DataFrame.\n",
        "- The new inner-most levels are created by pivoting the columns of the current dataframe:\n",
        "    - if the columns have a single level, the output is a Series;\n",
        "    - if the columns have multiple levels, the new index level(s) is (are) taken from the prescribed level(s) and the output is a DataFrame."
      ]
    },
    {
      "cell_type": "code",
      "execution_count": null,
      "metadata": {
        "id": "sl31zeFIYOQZ",
        "outputId": "7d22b525-50c6-450c-f221-274c46f890d9"
      },
      "outputs": [
        {
          "data": {
            "text/html": [
              "<div>\n",
              "<style scoped>\n",
              "    .dataframe tbody tr th:only-of-type {\n",
              "        vertical-align: middle;\n",
              "    }\n",
              "\n",
              "    .dataframe tbody tr th {\n",
              "        vertical-align: top;\n",
              "    }\n",
              "\n",
              "    .dataframe thead th {\n",
              "        text-align: right;\n",
              "    }\n",
              "</style>\n",
              "<table border=\"1\" class=\"dataframe\">\n",
              "  <thead>\n",
              "    <tr style=\"text-align: right;\">\n",
              "      <th></th>\n",
              "      <th>gender</th>\n",
              "      <th>sport</th>\n",
              "      <th>status</th>\n",
              "      <th>age</th>\n",
              "      <th>height</th>\n",
              "      <th>weight</th>\n",
              "    </tr>\n",
              "  </thead>\n",
              "  <tbody>\n",
              "    <tr>\n",
              "      <th>0</th>\n",
              "      <td>male</td>\n",
              "      <td>tennis</td>\n",
              "      <td>professional</td>\n",
              "      <td>20</td>\n",
              "      <td>185</td>\n",
              "      <td>83</td>\n",
              "    </tr>\n",
              "    <tr>\n",
              "      <th>1</th>\n",
              "      <td>female</td>\n",
              "      <td>tennis</td>\n",
              "      <td>professional</td>\n",
              "      <td>24</td>\n",
              "      <td>172</td>\n",
              "      <td>58</td>\n",
              "    </tr>\n",
              "    <tr>\n",
              "      <th>2</th>\n",
              "      <td>female</td>\n",
              "      <td>tennis</td>\n",
              "      <td>professional</td>\n",
              "      <td>26</td>\n",
              "      <td>175</td>\n",
              "      <td>62</td>\n",
              "    </tr>\n",
              "    <tr>\n",
              "      <th>3</th>\n",
              "      <td>male</td>\n",
              "      <td>football</td>\n",
              "      <td>amateur</td>\n",
              "      <td>23</td>\n",
              "      <td>178</td>\n",
              "      <td>80</td>\n",
              "    </tr>\n",
              "    <tr>\n",
              "      <th>4</th>\n",
              "      <td>female</td>\n",
              "      <td>voleyball</td>\n",
              "      <td>amateur</td>\n",
              "      <td>22</td>\n",
              "      <td>182</td>\n",
              "      <td>65</td>\n",
              "    </tr>\n",
              "    <tr>\n",
              "      <th>5</th>\n",
              "      <td>male</td>\n",
              "      <td>basketball</td>\n",
              "      <td>amateur</td>\n",
              "      <td>21</td>\n",
              "      <td>196</td>\n",
              "      <td>90</td>\n",
              "    </tr>\n",
              "  </tbody>\n",
              "</table>\n",
              "</div>"
            ],
            "text/plain": [
              "   gender       sport        status  age  height  weight\n",
              "0    male      tennis  professional   20     185      83\n",
              "1  female      tennis  professional   24     172      58\n",
              "2  female      tennis  professional   26     175      62\n",
              "3    male    football       amateur   23     178      80\n",
              "4  female   voleyball       amateur   22     182      65\n",
              "5    male  basketball       amateur   21     196      90"
            ]
          },
          "execution_count": 130,
          "metadata": {},
          "output_type": "execute_result"
        }
      ],
      "source": [
        "df7"
      ]
    },
    {
      "cell_type": "code",
      "execution_count": null,
      "metadata": {
        "id": "ZhZdskPwYOQZ",
        "outputId": "bdab02f7-8e18-467d-ec03-442dab0a5e6f"
      },
      "outputs": [
        {
          "data": {
            "text/html": [
              "<div>\n",
              "<style scoped>\n",
              "    .dataframe tbody tr th:only-of-type {\n",
              "        vertical-align: middle;\n",
              "    }\n",
              "\n",
              "    .dataframe tbody tr th {\n",
              "        vertical-align: top;\n",
              "    }\n",
              "\n",
              "    .dataframe thead th {\n",
              "        text-align: right;\n",
              "    }\n",
              "</style>\n",
              "<table border=\"1\" class=\"dataframe\">\n",
              "  <thead>\n",
              "    <tr style=\"text-align: right;\">\n",
              "      <th></th>\n",
              "      <th>gender</th>\n",
              "      <th>sport</th>\n",
              "      <th>status</th>\n",
              "      <th>age</th>\n",
              "      <th>height</th>\n",
              "      <th>weight</th>\n",
              "      <th>level</th>\n",
              "    </tr>\n",
              "  </thead>\n",
              "  <tbody>\n",
              "    <tr>\n",
              "      <th>0</th>\n",
              "      <td>male</td>\n",
              "      <td>tennis</td>\n",
              "      <td>professional</td>\n",
              "      <td>20</td>\n",
              "      <td>185</td>\n",
              "      <td>83</td>\n",
              "      <td>high</td>\n",
              "    </tr>\n",
              "    <tr>\n",
              "      <th>1</th>\n",
              "      <td>female</td>\n",
              "      <td>tennis</td>\n",
              "      <td>professional</td>\n",
              "      <td>24</td>\n",
              "      <td>172</td>\n",
              "      <td>58</td>\n",
              "      <td>high</td>\n",
              "    </tr>\n",
              "    <tr>\n",
              "      <th>2</th>\n",
              "      <td>female</td>\n",
              "      <td>tennis</td>\n",
              "      <td>professional</td>\n",
              "      <td>26</td>\n",
              "      <td>175</td>\n",
              "      <td>62</td>\n",
              "      <td>low</td>\n",
              "    </tr>\n",
              "    <tr>\n",
              "      <th>3</th>\n",
              "      <td>male</td>\n",
              "      <td>football</td>\n",
              "      <td>amateur</td>\n",
              "      <td>23</td>\n",
              "      <td>178</td>\n",
              "      <td>80</td>\n",
              "      <td>high</td>\n",
              "    </tr>\n",
              "    <tr>\n",
              "      <th>4</th>\n",
              "      <td>female</td>\n",
              "      <td>voleyball</td>\n",
              "      <td>amateur</td>\n",
              "      <td>22</td>\n",
              "      <td>182</td>\n",
              "      <td>65</td>\n",
              "      <td>low</td>\n",
              "    </tr>\n",
              "    <tr>\n",
              "      <th>5</th>\n",
              "      <td>male</td>\n",
              "      <td>basketball</td>\n",
              "      <td>amateur</td>\n",
              "      <td>21</td>\n",
              "      <td>196</td>\n",
              "      <td>90</td>\n",
              "      <td>low</td>\n",
              "    </tr>\n",
              "  </tbody>\n",
              "</table>\n",
              "</div>"
            ],
            "text/plain": [
              "   gender       sport        status  age  height  weight level\n",
              "0    male      tennis  professional   20     185      83  high\n",
              "1  female      tennis  professional   24     172      58  high\n",
              "2  female      tennis  professional   26     175      62   low\n",
              "3    male    football       amateur   23     178      80  high\n",
              "4  female   voleyball       amateur   22     182      65   low\n",
              "5    male  basketball       amateur   21     196      90   low"
            ]
          },
          "execution_count": 131,
          "metadata": {},
          "output_type": "execute_result"
        }
      ],
      "source": [
        "df7[\"level\"] = [\"high\", \"high\", \"low\", \"high\", \"low\", \"low\"]\n",
        "df7"
      ]
    },
    {
      "cell_type": "code",
      "execution_count": null,
      "metadata": {
        "id": "p1z8GujpYOQa",
        "outputId": "83fe1a09-d2ff-4c4c-d46d-2298e8c47ff9"
      },
      "outputs": [
        {
          "data": {
            "text/html": [
              "<div>\n",
              "<style scoped>\n",
              "    .dataframe tbody tr th:only-of-type {\n",
              "        vertical-align: middle;\n",
              "    }\n",
              "\n",
              "    .dataframe tbody tr th {\n",
              "        vertical-align: top;\n",
              "    }\n",
              "\n",
              "    .dataframe thead tr th {\n",
              "        text-align: left;\n",
              "    }\n",
              "\n",
              "    .dataframe thead tr:last-of-type th {\n",
              "        text-align: right;\n",
              "    }\n",
              "</style>\n",
              "<table border=\"1\" class=\"dataframe\">\n",
              "  <thead>\n",
              "    <tr>\n",
              "      <th></th>\n",
              "      <th></th>\n",
              "      <th colspan=\"4\" halign=\"left\">age</th>\n",
              "      <th colspan=\"4\" halign=\"left\">height</th>\n",
              "      <th colspan=\"4\" halign=\"left\">weight</th>\n",
              "    </tr>\n",
              "    <tr>\n",
              "      <th></th>\n",
              "      <th>status</th>\n",
              "      <th colspan=\"2\" halign=\"left\">amateur</th>\n",
              "      <th colspan=\"2\" halign=\"left\">professional</th>\n",
              "      <th colspan=\"2\" halign=\"left\">amateur</th>\n",
              "      <th colspan=\"2\" halign=\"left\">professional</th>\n",
              "      <th colspan=\"2\" halign=\"left\">amateur</th>\n",
              "      <th colspan=\"2\" halign=\"left\">professional</th>\n",
              "    </tr>\n",
              "    <tr>\n",
              "      <th></th>\n",
              "      <th>level</th>\n",
              "      <th>high</th>\n",
              "      <th>low</th>\n",
              "      <th>high</th>\n",
              "      <th>low</th>\n",
              "      <th>high</th>\n",
              "      <th>low</th>\n",
              "      <th>high</th>\n",
              "      <th>low</th>\n",
              "      <th>high</th>\n",
              "      <th>low</th>\n",
              "      <th>high</th>\n",
              "      <th>low</th>\n",
              "    </tr>\n",
              "    <tr>\n",
              "      <th>gender</th>\n",
              "      <th>sport</th>\n",
              "      <th></th>\n",
              "      <th></th>\n",
              "      <th></th>\n",
              "      <th></th>\n",
              "      <th></th>\n",
              "      <th></th>\n",
              "      <th></th>\n",
              "      <th></th>\n",
              "      <th></th>\n",
              "      <th></th>\n",
              "      <th></th>\n",
              "      <th></th>\n",
              "    </tr>\n",
              "  </thead>\n",
              "  <tbody>\n",
              "    <tr>\n",
              "      <th rowspan=\"2\" valign=\"top\">female</th>\n",
              "      <th>tennis</th>\n",
              "      <td>NaN</td>\n",
              "      <td>NaN</td>\n",
              "      <td>24.0</td>\n",
              "      <td>26.0</td>\n",
              "      <td>NaN</td>\n",
              "      <td>NaN</td>\n",
              "      <td>172.0</td>\n",
              "      <td>175.0</td>\n",
              "      <td>NaN</td>\n",
              "      <td>NaN</td>\n",
              "      <td>58.0</td>\n",
              "      <td>62.0</td>\n",
              "    </tr>\n",
              "    <tr>\n",
              "      <th>voleyball</th>\n",
              "      <td>NaN</td>\n",
              "      <td>22.0</td>\n",
              "      <td>NaN</td>\n",
              "      <td>NaN</td>\n",
              "      <td>NaN</td>\n",
              "      <td>182.0</td>\n",
              "      <td>NaN</td>\n",
              "      <td>NaN</td>\n",
              "      <td>NaN</td>\n",
              "      <td>65.0</td>\n",
              "      <td>NaN</td>\n",
              "      <td>NaN</td>\n",
              "    </tr>\n",
              "    <tr>\n",
              "      <th rowspan=\"3\" valign=\"top\">male</th>\n",
              "      <th>basketball</th>\n",
              "      <td>NaN</td>\n",
              "      <td>21.0</td>\n",
              "      <td>NaN</td>\n",
              "      <td>NaN</td>\n",
              "      <td>NaN</td>\n",
              "      <td>196.0</td>\n",
              "      <td>NaN</td>\n",
              "      <td>NaN</td>\n",
              "      <td>NaN</td>\n",
              "      <td>90.0</td>\n",
              "      <td>NaN</td>\n",
              "      <td>NaN</td>\n",
              "    </tr>\n",
              "    <tr>\n",
              "      <th>football</th>\n",
              "      <td>23.0</td>\n",
              "      <td>NaN</td>\n",
              "      <td>NaN</td>\n",
              "      <td>NaN</td>\n",
              "      <td>178.0</td>\n",
              "      <td>NaN</td>\n",
              "      <td>NaN</td>\n",
              "      <td>NaN</td>\n",
              "      <td>80.0</td>\n",
              "      <td>NaN</td>\n",
              "      <td>NaN</td>\n",
              "      <td>NaN</td>\n",
              "    </tr>\n",
              "    <tr>\n",
              "      <th>tennis</th>\n",
              "      <td>NaN</td>\n",
              "      <td>NaN</td>\n",
              "      <td>20.0</td>\n",
              "      <td>NaN</td>\n",
              "      <td>NaN</td>\n",
              "      <td>NaN</td>\n",
              "      <td>185.0</td>\n",
              "      <td>NaN</td>\n",
              "      <td>NaN</td>\n",
              "      <td>NaN</td>\n",
              "      <td>83.0</td>\n",
              "      <td>NaN</td>\n",
              "    </tr>\n",
              "  </tbody>\n",
              "</table>\n",
              "</div>"
            ],
            "text/plain": [
              "                      age                           height         \\\n",
              "status            amateur       professional       amateur          \n",
              "level                high   low         high   low    high    low   \n",
              "gender sport                                                        \n",
              "female tennis         NaN   NaN         24.0  26.0     NaN    NaN   \n",
              "       voleyball      NaN  22.0          NaN   NaN     NaN  182.0   \n",
              "male   basketball     NaN  21.0          NaN   NaN     NaN  196.0   \n",
              "       football      23.0   NaN          NaN   NaN   178.0    NaN   \n",
              "       tennis         NaN   NaN         20.0   NaN     NaN    NaN   \n",
              "\n",
              "                                       weight                           \n",
              "status            professional        amateur       professional        \n",
              "level                     high    low    high   low         high   low  \n",
              "gender sport                                                            \n",
              "female tennis            172.0  175.0     NaN   NaN         58.0  62.0  \n",
              "       voleyball           NaN    NaN     NaN  65.0          NaN   NaN  \n",
              "male   basketball          NaN    NaN     NaN  90.0          NaN   NaN  \n",
              "       football            NaN    NaN    80.0   NaN          NaN   NaN  \n",
              "       tennis            185.0    NaN     NaN   NaN         83.0   NaN  "
            ]
          },
          "execution_count": 132,
          "metadata": {},
          "output_type": "execute_result"
        }
      ],
      "source": [
        "df8 = df7.pivot_table(index=['gender','sport'],\n",
        "                columns=[\"status\",\"level\"], \n",
        "                values=['age','height','weight'],\n",
        "                aggfunc='mean')\n",
        "df8"
      ]
    },
    {
      "cell_type": "code",
      "execution_count": null,
      "metadata": {
        "id": "E54-vLiIYOQa",
        "outputId": "9745cb16-7972-4728-d93b-33f792528e13"
      },
      "outputs": [
        {
          "data": {
            "text/html": [
              "<div>\n",
              "<style scoped>\n",
              "    .dataframe tbody tr th:only-of-type {\n",
              "        vertical-align: middle;\n",
              "    }\n",
              "\n",
              "    .dataframe tbody tr th {\n",
              "        vertical-align: top;\n",
              "    }\n",
              "\n",
              "    .dataframe thead tr th {\n",
              "        text-align: left;\n",
              "    }\n",
              "\n",
              "    .dataframe thead tr:last-of-type th {\n",
              "        text-align: right;\n",
              "    }\n",
              "</style>\n",
              "<table border=\"1\" class=\"dataframe\">\n",
              "  <thead>\n",
              "    <tr>\n",
              "      <th></th>\n",
              "      <th></th>\n",
              "      <th></th>\n",
              "      <th colspan=\"2\" halign=\"left\">age</th>\n",
              "      <th colspan=\"2\" halign=\"left\">height</th>\n",
              "      <th colspan=\"2\" halign=\"left\">weight</th>\n",
              "    </tr>\n",
              "    <tr>\n",
              "      <th></th>\n",
              "      <th></th>\n",
              "      <th>status</th>\n",
              "      <th>amateur</th>\n",
              "      <th>professional</th>\n",
              "      <th>amateur</th>\n",
              "      <th>professional</th>\n",
              "      <th>amateur</th>\n",
              "      <th>professional</th>\n",
              "    </tr>\n",
              "    <tr>\n",
              "      <th>gender</th>\n",
              "      <th>sport</th>\n",
              "      <th>level</th>\n",
              "      <th></th>\n",
              "      <th></th>\n",
              "      <th></th>\n",
              "      <th></th>\n",
              "      <th></th>\n",
              "      <th></th>\n",
              "    </tr>\n",
              "  </thead>\n",
              "  <tbody>\n",
              "    <tr>\n",
              "      <th rowspan=\"3\" valign=\"top\">female</th>\n",
              "      <th rowspan=\"2\" valign=\"top\">tennis</th>\n",
              "      <th>high</th>\n",
              "      <td>NaN</td>\n",
              "      <td>24.0</td>\n",
              "      <td>NaN</td>\n",
              "      <td>172.0</td>\n",
              "      <td>NaN</td>\n",
              "      <td>58.0</td>\n",
              "    </tr>\n",
              "    <tr>\n",
              "      <th>low</th>\n",
              "      <td>NaN</td>\n",
              "      <td>26.0</td>\n",
              "      <td>NaN</td>\n",
              "      <td>175.0</td>\n",
              "      <td>NaN</td>\n",
              "      <td>62.0</td>\n",
              "    </tr>\n",
              "    <tr>\n",
              "      <th>voleyball</th>\n",
              "      <th>low</th>\n",
              "      <td>22.0</td>\n",
              "      <td>NaN</td>\n",
              "      <td>182.0</td>\n",
              "      <td>NaN</td>\n",
              "      <td>65.0</td>\n",
              "      <td>NaN</td>\n",
              "    </tr>\n",
              "    <tr>\n",
              "      <th rowspan=\"3\" valign=\"top\">male</th>\n",
              "      <th>basketball</th>\n",
              "      <th>low</th>\n",
              "      <td>21.0</td>\n",
              "      <td>NaN</td>\n",
              "      <td>196.0</td>\n",
              "      <td>NaN</td>\n",
              "      <td>90.0</td>\n",
              "      <td>NaN</td>\n",
              "    </tr>\n",
              "    <tr>\n",
              "      <th>football</th>\n",
              "      <th>high</th>\n",
              "      <td>23.0</td>\n",
              "      <td>NaN</td>\n",
              "      <td>178.0</td>\n",
              "      <td>NaN</td>\n",
              "      <td>80.0</td>\n",
              "      <td>NaN</td>\n",
              "    </tr>\n",
              "    <tr>\n",
              "      <th>tennis</th>\n",
              "      <th>high</th>\n",
              "      <td>NaN</td>\n",
              "      <td>20.0</td>\n",
              "      <td>NaN</td>\n",
              "      <td>185.0</td>\n",
              "      <td>NaN</td>\n",
              "      <td>83.0</td>\n",
              "    </tr>\n",
              "  </tbody>\n",
              "</table>\n",
              "</div>"
            ],
            "text/plain": [
              "                            age               height               weight  \\\n",
              "status                  amateur professional amateur professional amateur   \n",
              "gender sport      level                                                     \n",
              "female tennis     high      NaN         24.0     NaN        172.0     NaN   \n",
              "                  low       NaN         26.0     NaN        175.0     NaN   \n",
              "       voleyball  low      22.0          NaN   182.0          NaN    65.0   \n",
              "male   basketball low      21.0          NaN   196.0          NaN    90.0   \n",
              "       football   high     23.0          NaN   178.0          NaN    80.0   \n",
              "       tennis     high      NaN         20.0     NaN        185.0     NaN   \n",
              "\n",
              "                                      \n",
              "status                  professional  \n",
              "gender sport      level               \n",
              "female tennis     high          58.0  \n",
              "                  low           62.0  \n",
              "       voleyball  low            NaN  \n",
              "male   basketball low            NaN  \n",
              "       football   high           NaN  \n",
              "       tennis     high          83.0  "
            ]
          },
          "execution_count": 133,
          "metadata": {},
          "output_type": "execute_result"
        }
      ],
      "source": [
        "df8.stack()"
      ]
    },
    {
      "cell_type": "code",
      "execution_count": null,
      "metadata": {
        "id": "pJP-ZJIrYOQa",
        "outputId": "46db410a-4ea3-464c-919e-9bc2325f39b5"
      },
      "outputs": [
        {
          "data": {
            "text/html": [
              "<div>\n",
              "<style scoped>\n",
              "    .dataframe tbody tr th:only-of-type {\n",
              "        vertical-align: middle;\n",
              "    }\n",
              "\n",
              "    .dataframe tbody tr th {\n",
              "        vertical-align: top;\n",
              "    }\n",
              "\n",
              "    .dataframe thead tr th {\n",
              "        text-align: left;\n",
              "    }\n",
              "\n",
              "    .dataframe thead tr:last-of-type th {\n",
              "        text-align: right;\n",
              "    }\n",
              "</style>\n",
              "<table border=\"1\" class=\"dataframe\">\n",
              "  <thead>\n",
              "    <tr>\n",
              "      <th></th>\n",
              "      <th></th>\n",
              "      <th></th>\n",
              "      <th colspan=\"2\" halign=\"left\">age</th>\n",
              "      <th colspan=\"2\" halign=\"left\">height</th>\n",
              "      <th colspan=\"2\" halign=\"left\">weight</th>\n",
              "    </tr>\n",
              "    <tr>\n",
              "      <th></th>\n",
              "      <th></th>\n",
              "      <th>level</th>\n",
              "      <th>high</th>\n",
              "      <th>low</th>\n",
              "      <th>high</th>\n",
              "      <th>low</th>\n",
              "      <th>high</th>\n",
              "      <th>low</th>\n",
              "    </tr>\n",
              "    <tr>\n",
              "      <th>gender</th>\n",
              "      <th>sport</th>\n",
              "      <th>status</th>\n",
              "      <th></th>\n",
              "      <th></th>\n",
              "      <th></th>\n",
              "      <th></th>\n",
              "      <th></th>\n",
              "      <th></th>\n",
              "    </tr>\n",
              "  </thead>\n",
              "  <tbody>\n",
              "    <tr>\n",
              "      <th rowspan=\"2\" valign=\"top\">female</th>\n",
              "      <th>tennis</th>\n",
              "      <th>professional</th>\n",
              "      <td>24.0</td>\n",
              "      <td>26.0</td>\n",
              "      <td>172.0</td>\n",
              "      <td>175.0</td>\n",
              "      <td>58.0</td>\n",
              "      <td>62.0</td>\n",
              "    </tr>\n",
              "    <tr>\n",
              "      <th>voleyball</th>\n",
              "      <th>amateur</th>\n",
              "      <td>NaN</td>\n",
              "      <td>22.0</td>\n",
              "      <td>NaN</td>\n",
              "      <td>182.0</td>\n",
              "      <td>NaN</td>\n",
              "      <td>65.0</td>\n",
              "    </tr>\n",
              "    <tr>\n",
              "      <th rowspan=\"3\" valign=\"top\">male</th>\n",
              "      <th>basketball</th>\n",
              "      <th>amateur</th>\n",
              "      <td>NaN</td>\n",
              "      <td>21.0</td>\n",
              "      <td>NaN</td>\n",
              "      <td>196.0</td>\n",
              "      <td>NaN</td>\n",
              "      <td>90.0</td>\n",
              "    </tr>\n",
              "    <tr>\n",
              "      <th>football</th>\n",
              "      <th>amateur</th>\n",
              "      <td>23.0</td>\n",
              "      <td>NaN</td>\n",
              "      <td>178.0</td>\n",
              "      <td>NaN</td>\n",
              "      <td>80.0</td>\n",
              "      <td>NaN</td>\n",
              "    </tr>\n",
              "    <tr>\n",
              "      <th>tennis</th>\n",
              "      <th>professional</th>\n",
              "      <td>20.0</td>\n",
              "      <td>NaN</td>\n",
              "      <td>185.0</td>\n",
              "      <td>NaN</td>\n",
              "      <td>83.0</td>\n",
              "      <td>NaN</td>\n",
              "    </tr>\n",
              "  </tbody>\n",
              "</table>\n",
              "</div>"
            ],
            "text/plain": [
              "                                 age       height        weight      \n",
              "level                           high   low   high    low   high   low\n",
              "gender sport      status                                             \n",
              "female tennis     professional  24.0  26.0  172.0  175.0   58.0  62.0\n",
              "       voleyball  amateur        NaN  22.0    NaN  182.0    NaN  65.0\n",
              "male   basketball amateur        NaN  21.0    NaN  196.0    NaN  90.0\n",
              "       football   amateur       23.0   NaN  178.0    NaN   80.0   NaN\n",
              "       tennis     professional  20.0   NaN  185.0    NaN   83.0   NaN"
            ]
          },
          "execution_count": 134,
          "metadata": {},
          "output_type": "execute_result"
        }
      ],
      "source": [
        "# try \"-1,-2,0,1,2\" as level parameter\n",
        "df8.stack(level=-2)"
      ]
    },
    {
      "cell_type": "code",
      "execution_count": null,
      "metadata": {
        "id": "i-wh2QcWYOQa",
        "outputId": "efc97192-f159-41b7-cf95-2c5d54046425"
      },
      "outputs": [
        {
          "data": {
            "text/html": [
              "<div>\n",
              "<style scoped>\n",
              "    .dataframe tbody tr th:only-of-type {\n",
              "        vertical-align: middle;\n",
              "    }\n",
              "\n",
              "    .dataframe tbody tr th {\n",
              "        vertical-align: top;\n",
              "    }\n",
              "\n",
              "    .dataframe thead tr th {\n",
              "        text-align: left;\n",
              "    }\n",
              "\n",
              "    .dataframe thead tr:last-of-type th {\n",
              "        text-align: right;\n",
              "    }\n",
              "</style>\n",
              "<table border=\"1\" class=\"dataframe\">\n",
              "  <thead>\n",
              "    <tr>\n",
              "      <th></th>\n",
              "      <th></th>\n",
              "      <th></th>\n",
              "      <th colspan=\"2\" halign=\"left\">age</th>\n",
              "      <th colspan=\"2\" halign=\"left\">height</th>\n",
              "      <th colspan=\"2\" halign=\"left\">weight</th>\n",
              "    </tr>\n",
              "    <tr>\n",
              "      <th></th>\n",
              "      <th></th>\n",
              "      <th>status</th>\n",
              "      <th>amateur</th>\n",
              "      <th>professional</th>\n",
              "      <th>amateur</th>\n",
              "      <th>professional</th>\n",
              "      <th>amateur</th>\n",
              "      <th>professional</th>\n",
              "    </tr>\n",
              "    <tr>\n",
              "      <th>gender</th>\n",
              "      <th>sport</th>\n",
              "      <th>level</th>\n",
              "      <th></th>\n",
              "      <th></th>\n",
              "      <th></th>\n",
              "      <th></th>\n",
              "      <th></th>\n",
              "      <th></th>\n",
              "    </tr>\n",
              "  </thead>\n",
              "  <tbody>\n",
              "    <tr>\n",
              "      <th rowspan=\"4\" valign=\"top\">female</th>\n",
              "      <th rowspan=\"2\" valign=\"top\">tennis</th>\n",
              "      <th>high</th>\n",
              "      <td>NaN</td>\n",
              "      <td>24.0</td>\n",
              "      <td>NaN</td>\n",
              "      <td>172.0</td>\n",
              "      <td>NaN</td>\n",
              "      <td>58.0</td>\n",
              "    </tr>\n",
              "    <tr>\n",
              "      <th>low</th>\n",
              "      <td>NaN</td>\n",
              "      <td>26.0</td>\n",
              "      <td>NaN</td>\n",
              "      <td>175.0</td>\n",
              "      <td>NaN</td>\n",
              "      <td>62.0</td>\n",
              "    </tr>\n",
              "    <tr>\n",
              "      <th rowspan=\"2\" valign=\"top\">voleyball</th>\n",
              "      <th>high</th>\n",
              "      <td>NaN</td>\n",
              "      <td>NaN</td>\n",
              "      <td>NaN</td>\n",
              "      <td>NaN</td>\n",
              "      <td>NaN</td>\n",
              "      <td>NaN</td>\n",
              "    </tr>\n",
              "    <tr>\n",
              "      <th>low</th>\n",
              "      <td>22.0</td>\n",
              "      <td>NaN</td>\n",
              "      <td>182.0</td>\n",
              "      <td>NaN</td>\n",
              "      <td>65.0</td>\n",
              "      <td>NaN</td>\n",
              "    </tr>\n",
              "    <tr>\n",
              "      <th rowspan=\"6\" valign=\"top\">male</th>\n",
              "      <th rowspan=\"2\" valign=\"top\">basketball</th>\n",
              "      <th>high</th>\n",
              "      <td>NaN</td>\n",
              "      <td>NaN</td>\n",
              "      <td>NaN</td>\n",
              "      <td>NaN</td>\n",
              "      <td>NaN</td>\n",
              "      <td>NaN</td>\n",
              "    </tr>\n",
              "    <tr>\n",
              "      <th>low</th>\n",
              "      <td>21.0</td>\n",
              "      <td>NaN</td>\n",
              "      <td>196.0</td>\n",
              "      <td>NaN</td>\n",
              "      <td>90.0</td>\n",
              "      <td>NaN</td>\n",
              "    </tr>\n",
              "    <tr>\n",
              "      <th rowspan=\"2\" valign=\"top\">football</th>\n",
              "      <th>high</th>\n",
              "      <td>23.0</td>\n",
              "      <td>NaN</td>\n",
              "      <td>178.0</td>\n",
              "      <td>NaN</td>\n",
              "      <td>80.0</td>\n",
              "      <td>NaN</td>\n",
              "    </tr>\n",
              "    <tr>\n",
              "      <th>low</th>\n",
              "      <td>NaN</td>\n",
              "      <td>NaN</td>\n",
              "      <td>NaN</td>\n",
              "      <td>NaN</td>\n",
              "      <td>NaN</td>\n",
              "      <td>NaN</td>\n",
              "    </tr>\n",
              "    <tr>\n",
              "      <th rowspan=\"2\" valign=\"top\">tennis</th>\n",
              "      <th>high</th>\n",
              "      <td>NaN</td>\n",
              "      <td>20.0</td>\n",
              "      <td>NaN</td>\n",
              "      <td>185.0</td>\n",
              "      <td>NaN</td>\n",
              "      <td>83.0</td>\n",
              "    </tr>\n",
              "    <tr>\n",
              "      <th>low</th>\n",
              "      <td>NaN</td>\n",
              "      <td>NaN</td>\n",
              "      <td>NaN</td>\n",
              "      <td>NaN</td>\n",
              "      <td>NaN</td>\n",
              "      <td>NaN</td>\n",
              "    </tr>\n",
              "  </tbody>\n",
              "</table>\n",
              "</div>"
            ],
            "text/plain": [
              "                            age               height               weight  \\\n",
              "status                  amateur professional amateur professional amateur   \n",
              "gender sport      level                                                     \n",
              "female tennis     high      NaN         24.0     NaN        172.0     NaN   \n",
              "                  low       NaN         26.0     NaN        175.0     NaN   \n",
              "       voleyball  high      NaN          NaN     NaN          NaN     NaN   \n",
              "                  low      22.0          NaN   182.0          NaN    65.0   \n",
              "male   basketball high      NaN          NaN     NaN          NaN     NaN   \n",
              "                  low      21.0          NaN   196.0          NaN    90.0   \n",
              "       football   high     23.0          NaN   178.0          NaN    80.0   \n",
              "                  low       NaN          NaN     NaN          NaN     NaN   \n",
              "       tennis     high      NaN         20.0     NaN        185.0     NaN   \n",
              "                  low       NaN          NaN     NaN          NaN     NaN   \n",
              "\n",
              "                                      \n",
              "status                  professional  \n",
              "gender sport      level               \n",
              "female tennis     high          58.0  \n",
              "                  low           62.0  \n",
              "       voleyball  high           NaN  \n",
              "                  low            NaN  \n",
              "male   basketball high           NaN  \n",
              "                  low            NaN  \n",
              "       football   high           NaN  \n",
              "                  low            NaN  \n",
              "       tennis     high          83.0  \n",
              "                  low            NaN  "
            ]
          },
          "execution_count": 135,
          "metadata": {},
          "output_type": "execute_result"
        }
      ],
      "source": [
        "df8.stack(level=-1, dropna=False)"
      ]
    },
    {
      "cell_type": "code",
      "execution_count": null,
      "metadata": {
        "id": "OO5-v05uYOQb",
        "outputId": "bcb31d27-64de-40d9-e25e-44879a530c88"
      },
      "outputs": [
        {
          "data": {
            "text/html": [
              "<div>\n",
              "<style scoped>\n",
              "    .dataframe tbody tr th:only-of-type {\n",
              "        vertical-align: middle;\n",
              "    }\n",
              "\n",
              "    .dataframe tbody tr th {\n",
              "        vertical-align: top;\n",
              "    }\n",
              "\n",
              "    .dataframe thead th {\n",
              "        text-align: right;\n",
              "    }\n",
              "</style>\n",
              "<table border=\"1\" class=\"dataframe\">\n",
              "  <thead>\n",
              "    <tr style=\"text-align: right;\">\n",
              "      <th></th>\n",
              "      <th></th>\n",
              "      <th></th>\n",
              "      <th></th>\n",
              "      <th>age</th>\n",
              "      <th>height</th>\n",
              "      <th>weight</th>\n",
              "    </tr>\n",
              "    <tr>\n",
              "      <th>gender</th>\n",
              "      <th>sport</th>\n",
              "      <th>level</th>\n",
              "      <th>status</th>\n",
              "      <th></th>\n",
              "      <th></th>\n",
              "      <th></th>\n",
              "    </tr>\n",
              "  </thead>\n",
              "  <tbody>\n",
              "    <tr>\n",
              "      <th rowspan=\"3\" valign=\"top\">female</th>\n",
              "      <th rowspan=\"2\" valign=\"top\">tennis</th>\n",
              "      <th>high</th>\n",
              "      <th>professional</th>\n",
              "      <td>24.0</td>\n",
              "      <td>172.0</td>\n",
              "      <td>58.0</td>\n",
              "    </tr>\n",
              "    <tr>\n",
              "      <th>low</th>\n",
              "      <th>professional</th>\n",
              "      <td>26.0</td>\n",
              "      <td>175.0</td>\n",
              "      <td>62.0</td>\n",
              "    </tr>\n",
              "    <tr>\n",
              "      <th>voleyball</th>\n",
              "      <th>low</th>\n",
              "      <th>amateur</th>\n",
              "      <td>22.0</td>\n",
              "      <td>182.0</td>\n",
              "      <td>65.0</td>\n",
              "    </tr>\n",
              "    <tr>\n",
              "      <th rowspan=\"3\" valign=\"top\">male</th>\n",
              "      <th>basketball</th>\n",
              "      <th>low</th>\n",
              "      <th>amateur</th>\n",
              "      <td>21.0</td>\n",
              "      <td>196.0</td>\n",
              "      <td>90.0</td>\n",
              "    </tr>\n",
              "    <tr>\n",
              "      <th>football</th>\n",
              "      <th>high</th>\n",
              "      <th>amateur</th>\n",
              "      <td>23.0</td>\n",
              "      <td>178.0</td>\n",
              "      <td>80.0</td>\n",
              "    </tr>\n",
              "    <tr>\n",
              "      <th>tennis</th>\n",
              "      <th>high</th>\n",
              "      <th>professional</th>\n",
              "      <td>20.0</td>\n",
              "      <td>185.0</td>\n",
              "      <td>83.0</td>\n",
              "    </tr>\n",
              "  </tbody>\n",
              "</table>\n",
              "</div>"
            ],
            "text/plain": [
              "                                       age  height  weight\n",
              "gender sport      level status                            \n",
              "female tennis     high  professional  24.0   172.0    58.0\n",
              "                  low   professional  26.0   175.0    62.0\n",
              "       voleyball  low   amateur       22.0   182.0    65.0\n",
              "male   basketball low   amateur       21.0   196.0    90.0\n",
              "       football   high  amateur       23.0   178.0    80.0\n",
              "       tennis     high  professional  20.0   185.0    83.0"
            ]
          },
          "execution_count": 136,
          "metadata": {},
          "output_type": "execute_result"
        }
      ],
      "source": [
        "df8.stack().stack()"
      ]
    },
    {
      "cell_type": "code",
      "execution_count": null,
      "metadata": {
        "id": "nbYfm1NoYOQb",
        "outputId": "cfa4901e-1342-4724-8209-b82a9b826544"
      },
      "outputs": [
        {
          "data": {
            "text/plain": [
              "gender  sport       level  status              \n",
              "female  tennis      high   professional  age        24.0\n",
              "                                         height    172.0\n",
              "                                         weight     58.0\n",
              "                    low    professional  age        26.0\n",
              "                                         height    175.0\n",
              "                                         weight     62.0\n",
              "        voleyball   low    amateur       age        22.0\n",
              "                                         height    182.0\n",
              "                                         weight     65.0\n",
              "male    basketball  low    amateur       age        21.0\n",
              "                                         height    196.0\n",
              "                                         weight     90.0\n",
              "        football    high   amateur       age        23.0\n",
              "                                         height    178.0\n",
              "                                         weight     80.0\n",
              "        tennis      high   professional  age        20.0\n",
              "                                         height    185.0\n",
              "                                         weight     83.0\n",
              "dtype: float64"
            ]
          },
          "execution_count": 137,
          "metadata": {},
          "output_type": "execute_result"
        }
      ],
      "source": [
        "df8.stack().stack().stack()"
      ]
    },
    {
      "cell_type": "markdown",
      "metadata": {
        "id": "GOZI5ZpuYOQb"
      },
      "source": [
        "**unstack()**\n",
        "- DataFrame.unstack(level=- 1, fill_value=None)\n",
        "- Pivot a level of the (necessarily hierarchical) index labels.\n",
        "- Returns a DataFrame having a new level of column labels whose inner-most level consists of the pivoted index labels.\n",
        "- If the index is not a MultiIndex, the output will be a Series."
      ]
    },
    {
      "cell_type": "code",
      "execution_count": null,
      "metadata": {
        "id": "0Mq6CspzYOQb",
        "outputId": "5b4b3824-a528-4b5b-e222-8196cfded0a1"
      },
      "outputs": [
        {
          "data": {
            "text/html": [
              "<div>\n",
              "<style scoped>\n",
              "    .dataframe tbody tr th:only-of-type {\n",
              "        vertical-align: middle;\n",
              "    }\n",
              "\n",
              "    .dataframe tbody tr th {\n",
              "        vertical-align: top;\n",
              "    }\n",
              "\n",
              "    .dataframe thead tr th {\n",
              "        text-align: left;\n",
              "    }\n",
              "\n",
              "    .dataframe thead tr:last-of-type th {\n",
              "        text-align: right;\n",
              "    }\n",
              "</style>\n",
              "<table border=\"1\" class=\"dataframe\">\n",
              "  <thead>\n",
              "    <tr>\n",
              "      <th></th>\n",
              "      <th></th>\n",
              "      <th colspan=\"4\" halign=\"left\">age</th>\n",
              "      <th colspan=\"4\" halign=\"left\">height</th>\n",
              "      <th colspan=\"4\" halign=\"left\">weight</th>\n",
              "    </tr>\n",
              "    <tr>\n",
              "      <th></th>\n",
              "      <th>status</th>\n",
              "      <th colspan=\"2\" halign=\"left\">amateur</th>\n",
              "      <th colspan=\"2\" halign=\"left\">professional</th>\n",
              "      <th colspan=\"2\" halign=\"left\">amateur</th>\n",
              "      <th colspan=\"2\" halign=\"left\">professional</th>\n",
              "      <th colspan=\"2\" halign=\"left\">amateur</th>\n",
              "      <th colspan=\"2\" halign=\"left\">professional</th>\n",
              "    </tr>\n",
              "    <tr>\n",
              "      <th></th>\n",
              "      <th>level</th>\n",
              "      <th>high</th>\n",
              "      <th>low</th>\n",
              "      <th>high</th>\n",
              "      <th>low</th>\n",
              "      <th>high</th>\n",
              "      <th>low</th>\n",
              "      <th>high</th>\n",
              "      <th>low</th>\n",
              "      <th>high</th>\n",
              "      <th>low</th>\n",
              "      <th>high</th>\n",
              "      <th>low</th>\n",
              "    </tr>\n",
              "    <tr>\n",
              "      <th>gender</th>\n",
              "      <th>sport</th>\n",
              "      <th></th>\n",
              "      <th></th>\n",
              "      <th></th>\n",
              "      <th></th>\n",
              "      <th></th>\n",
              "      <th></th>\n",
              "      <th></th>\n",
              "      <th></th>\n",
              "      <th></th>\n",
              "      <th></th>\n",
              "      <th></th>\n",
              "      <th></th>\n",
              "    </tr>\n",
              "  </thead>\n",
              "  <tbody>\n",
              "    <tr>\n",
              "      <th rowspan=\"2\" valign=\"top\">female</th>\n",
              "      <th>tennis</th>\n",
              "      <td>NaN</td>\n",
              "      <td>NaN</td>\n",
              "      <td>24.0</td>\n",
              "      <td>26.0</td>\n",
              "      <td>NaN</td>\n",
              "      <td>NaN</td>\n",
              "      <td>172.0</td>\n",
              "      <td>175.0</td>\n",
              "      <td>NaN</td>\n",
              "      <td>NaN</td>\n",
              "      <td>58.0</td>\n",
              "      <td>62.0</td>\n",
              "    </tr>\n",
              "    <tr>\n",
              "      <th>voleyball</th>\n",
              "      <td>NaN</td>\n",
              "      <td>22.0</td>\n",
              "      <td>NaN</td>\n",
              "      <td>NaN</td>\n",
              "      <td>NaN</td>\n",
              "      <td>182.0</td>\n",
              "      <td>NaN</td>\n",
              "      <td>NaN</td>\n",
              "      <td>NaN</td>\n",
              "      <td>65.0</td>\n",
              "      <td>NaN</td>\n",
              "      <td>NaN</td>\n",
              "    </tr>\n",
              "    <tr>\n",
              "      <th rowspan=\"3\" valign=\"top\">male</th>\n",
              "      <th>basketball</th>\n",
              "      <td>NaN</td>\n",
              "      <td>21.0</td>\n",
              "      <td>NaN</td>\n",
              "      <td>NaN</td>\n",
              "      <td>NaN</td>\n",
              "      <td>196.0</td>\n",
              "      <td>NaN</td>\n",
              "      <td>NaN</td>\n",
              "      <td>NaN</td>\n",
              "      <td>90.0</td>\n",
              "      <td>NaN</td>\n",
              "      <td>NaN</td>\n",
              "    </tr>\n",
              "    <tr>\n",
              "      <th>football</th>\n",
              "      <td>23.0</td>\n",
              "      <td>NaN</td>\n",
              "      <td>NaN</td>\n",
              "      <td>NaN</td>\n",
              "      <td>178.0</td>\n",
              "      <td>NaN</td>\n",
              "      <td>NaN</td>\n",
              "      <td>NaN</td>\n",
              "      <td>80.0</td>\n",
              "      <td>NaN</td>\n",
              "      <td>NaN</td>\n",
              "      <td>NaN</td>\n",
              "    </tr>\n",
              "    <tr>\n",
              "      <th>tennis</th>\n",
              "      <td>NaN</td>\n",
              "      <td>NaN</td>\n",
              "      <td>20.0</td>\n",
              "      <td>NaN</td>\n",
              "      <td>NaN</td>\n",
              "      <td>NaN</td>\n",
              "      <td>185.0</td>\n",
              "      <td>NaN</td>\n",
              "      <td>NaN</td>\n",
              "      <td>NaN</td>\n",
              "      <td>83.0</td>\n",
              "      <td>NaN</td>\n",
              "    </tr>\n",
              "  </tbody>\n",
              "</table>\n",
              "</div>"
            ],
            "text/plain": [
              "                      age                           height         \\\n",
              "status            amateur       professional       amateur          \n",
              "level                high   low         high   low    high    low   \n",
              "gender sport                                                        \n",
              "female tennis         NaN   NaN         24.0  26.0     NaN    NaN   \n",
              "       voleyball      NaN  22.0          NaN   NaN     NaN  182.0   \n",
              "male   basketball     NaN  21.0          NaN   NaN     NaN  196.0   \n",
              "       football      23.0   NaN          NaN   NaN   178.0    NaN   \n",
              "       tennis         NaN   NaN         20.0   NaN     NaN    NaN   \n",
              "\n",
              "                                       weight                           \n",
              "status            professional        amateur       professional        \n",
              "level                     high    low    high   low         high   low  \n",
              "gender sport                                                            \n",
              "female tennis            172.0  175.0     NaN   NaN         58.0  62.0  \n",
              "       voleyball           NaN    NaN     NaN  65.0          NaN   NaN  \n",
              "male   basketball          NaN    NaN     NaN  90.0          NaN   NaN  \n",
              "       football            NaN    NaN    80.0   NaN          NaN   NaN  \n",
              "       tennis            185.0    NaN     NaN   NaN         83.0   NaN  "
            ]
          },
          "execution_count": 138,
          "metadata": {},
          "output_type": "execute_result"
        }
      ],
      "source": [
        "df8"
      ]
    },
    {
      "cell_type": "code",
      "execution_count": null,
      "metadata": {
        "id": "h1JvP5g1YOQc",
        "outputId": "3640a6e8-e45b-47f7-a53f-c8b3af80ba69"
      },
      "outputs": [
        {
          "data": {
            "text/html": [
              "<div>\n",
              "<style scoped>\n",
              "    .dataframe tbody tr th:only-of-type {\n",
              "        vertical-align: middle;\n",
              "    }\n",
              "\n",
              "    .dataframe tbody tr th {\n",
              "        vertical-align: top;\n",
              "    }\n",
              "\n",
              "    .dataframe thead tr th {\n",
              "        text-align: left;\n",
              "    }\n",
              "\n",
              "    .dataframe thead tr:last-of-type th {\n",
              "        text-align: right;\n",
              "    }\n",
              "</style>\n",
              "<table border=\"1\" class=\"dataframe\">\n",
              "  <thead>\n",
              "    <tr>\n",
              "      <th></th>\n",
              "      <th colspan=\"10\" halign=\"left\">age</th>\n",
              "      <th>...</th>\n",
              "      <th colspan=\"10\" halign=\"left\">weight</th>\n",
              "    </tr>\n",
              "    <tr>\n",
              "      <th>status</th>\n",
              "      <th colspan=\"8\" halign=\"left\">amateur</th>\n",
              "      <th colspan=\"2\" halign=\"left\">professional</th>\n",
              "      <th>...</th>\n",
              "      <th colspan=\"2\" halign=\"left\">amateur</th>\n",
              "      <th colspan=\"8\" halign=\"left\">professional</th>\n",
              "    </tr>\n",
              "    <tr>\n",
              "      <th>level</th>\n",
              "      <th colspan=\"4\" halign=\"left\">high</th>\n",
              "      <th colspan=\"4\" halign=\"left\">low</th>\n",
              "      <th colspan=\"2\" halign=\"left\">high</th>\n",
              "      <th>...</th>\n",
              "      <th colspan=\"2\" halign=\"left\">low</th>\n",
              "      <th colspan=\"4\" halign=\"left\">high</th>\n",
              "      <th colspan=\"4\" halign=\"left\">low</th>\n",
              "    </tr>\n",
              "    <tr>\n",
              "      <th>sport</th>\n",
              "      <th>basketball</th>\n",
              "      <th>football</th>\n",
              "      <th>tennis</th>\n",
              "      <th>voleyball</th>\n",
              "      <th>basketball</th>\n",
              "      <th>football</th>\n",
              "      <th>tennis</th>\n",
              "      <th>voleyball</th>\n",
              "      <th>basketball</th>\n",
              "      <th>football</th>\n",
              "      <th>...</th>\n",
              "      <th>tennis</th>\n",
              "      <th>voleyball</th>\n",
              "      <th>basketball</th>\n",
              "      <th>football</th>\n",
              "      <th>tennis</th>\n",
              "      <th>voleyball</th>\n",
              "      <th>basketball</th>\n",
              "      <th>football</th>\n",
              "      <th>tennis</th>\n",
              "      <th>voleyball</th>\n",
              "    </tr>\n",
              "    <tr>\n",
              "      <th>gender</th>\n",
              "      <th></th>\n",
              "      <th></th>\n",
              "      <th></th>\n",
              "      <th></th>\n",
              "      <th></th>\n",
              "      <th></th>\n",
              "      <th></th>\n",
              "      <th></th>\n",
              "      <th></th>\n",
              "      <th></th>\n",
              "      <th></th>\n",
              "      <th></th>\n",
              "      <th></th>\n",
              "      <th></th>\n",
              "      <th></th>\n",
              "      <th></th>\n",
              "      <th></th>\n",
              "      <th></th>\n",
              "      <th></th>\n",
              "      <th></th>\n",
              "      <th></th>\n",
              "    </tr>\n",
              "  </thead>\n",
              "  <tbody>\n",
              "    <tr>\n",
              "      <th>female</th>\n",
              "      <td>NaN</td>\n",
              "      <td>NaN</td>\n",
              "      <td>NaN</td>\n",
              "      <td>NaN</td>\n",
              "      <td>NaN</td>\n",
              "      <td>NaN</td>\n",
              "      <td>NaN</td>\n",
              "      <td>22.0</td>\n",
              "      <td>NaN</td>\n",
              "      <td>NaN</td>\n",
              "      <td>...</td>\n",
              "      <td>NaN</td>\n",
              "      <td>65.0</td>\n",
              "      <td>NaN</td>\n",
              "      <td>NaN</td>\n",
              "      <td>58.0</td>\n",
              "      <td>NaN</td>\n",
              "      <td>NaN</td>\n",
              "      <td>NaN</td>\n",
              "      <td>62.0</td>\n",
              "      <td>NaN</td>\n",
              "    </tr>\n",
              "    <tr>\n",
              "      <th>male</th>\n",
              "      <td>NaN</td>\n",
              "      <td>23.0</td>\n",
              "      <td>NaN</td>\n",
              "      <td>NaN</td>\n",
              "      <td>21.0</td>\n",
              "      <td>NaN</td>\n",
              "      <td>NaN</td>\n",
              "      <td>NaN</td>\n",
              "      <td>NaN</td>\n",
              "      <td>NaN</td>\n",
              "      <td>...</td>\n",
              "      <td>NaN</td>\n",
              "      <td>NaN</td>\n",
              "      <td>NaN</td>\n",
              "      <td>NaN</td>\n",
              "      <td>83.0</td>\n",
              "      <td>NaN</td>\n",
              "      <td>NaN</td>\n",
              "      <td>NaN</td>\n",
              "      <td>NaN</td>\n",
              "      <td>NaN</td>\n",
              "    </tr>\n",
              "  </tbody>\n",
              "</table>\n",
              "<p>2 rows × 48 columns</p>\n",
              "</div>"
            ],
            "text/plain": [
              "              age                                                       \\\n",
              "status    amateur                                                        \n",
              "level        high                                  low                   \n",
              "sport  basketball football tennis voleyball basketball football tennis   \n",
              "gender                                                                   \n",
              "female        NaN      NaN    NaN       NaN        NaN      NaN    NaN   \n",
              "male          NaN     23.0    NaN       NaN       21.0      NaN    NaN   \n",
              "\n",
              "                                        ...  weight                         \\\n",
              "status           professional           ... amateur           professional   \n",
              "level                    high           ...     low                   high   \n",
              "sport  voleyball   basketball football  ...  tennis voleyball   basketball   \n",
              "gender                                  ...                                  \n",
              "female      22.0          NaN      NaN  ...     NaN      65.0          NaN   \n",
              "male         NaN          NaN      NaN  ...     NaN       NaN          NaN   \n",
              "\n",
              "                                                                       \n",
              "status                                                                 \n",
              "level                                   low                            \n",
              "sport  football tennis voleyball basketball football tennis voleyball  \n",
              "gender                                                                 \n",
              "female      NaN   58.0       NaN        NaN      NaN   62.0       NaN  \n",
              "male        NaN   83.0       NaN        NaN      NaN    NaN       NaN  \n",
              "\n",
              "[2 rows x 48 columns]"
            ]
          },
          "execution_count": 139,
          "metadata": {},
          "output_type": "execute_result"
        }
      ],
      "source": [
        "df8.unstack()"
      ]
    },
    {
      "cell_type": "code",
      "execution_count": null,
      "metadata": {
        "id": "Gb94MDBpYOQc",
        "outputId": "baf75ce9-07e5-4577-b6c1-a560caa0bceb"
      },
      "outputs": [
        {
          "data": {
            "text/html": [
              "<div>\n",
              "<style scoped>\n",
              "    .dataframe tbody tr th:only-of-type {\n",
              "        vertical-align: middle;\n",
              "    }\n",
              "\n",
              "    .dataframe tbody tr th {\n",
              "        vertical-align: top;\n",
              "    }\n",
              "\n",
              "    .dataframe thead tr th {\n",
              "        text-align: left;\n",
              "    }\n",
              "\n",
              "    .dataframe thead tr:last-of-type th {\n",
              "        text-align: right;\n",
              "    }\n",
              "</style>\n",
              "<table border=\"1\" class=\"dataframe\">\n",
              "  <thead>\n",
              "    <tr>\n",
              "      <th></th>\n",
              "      <th colspan=\"10\" halign=\"left\">age</th>\n",
              "      <th>...</th>\n",
              "      <th colspan=\"10\" halign=\"left\">weight</th>\n",
              "    </tr>\n",
              "    <tr>\n",
              "      <th>status</th>\n",
              "      <th colspan=\"8\" halign=\"left\">amateur</th>\n",
              "      <th colspan=\"2\" halign=\"left\">professional</th>\n",
              "      <th>...</th>\n",
              "      <th colspan=\"2\" halign=\"left\">amateur</th>\n",
              "      <th colspan=\"8\" halign=\"left\">professional</th>\n",
              "    </tr>\n",
              "    <tr>\n",
              "      <th>level</th>\n",
              "      <th colspan=\"4\" halign=\"left\">high</th>\n",
              "      <th colspan=\"4\" halign=\"left\">low</th>\n",
              "      <th colspan=\"2\" halign=\"left\">high</th>\n",
              "      <th>...</th>\n",
              "      <th colspan=\"2\" halign=\"left\">low</th>\n",
              "      <th colspan=\"4\" halign=\"left\">high</th>\n",
              "      <th colspan=\"4\" halign=\"left\">low</th>\n",
              "    </tr>\n",
              "    <tr>\n",
              "      <th>sport</th>\n",
              "      <th>basketball</th>\n",
              "      <th>football</th>\n",
              "      <th>tennis</th>\n",
              "      <th>voleyball</th>\n",
              "      <th>basketball</th>\n",
              "      <th>football</th>\n",
              "      <th>tennis</th>\n",
              "      <th>voleyball</th>\n",
              "      <th>basketball</th>\n",
              "      <th>football</th>\n",
              "      <th>...</th>\n",
              "      <th>tennis</th>\n",
              "      <th>voleyball</th>\n",
              "      <th>basketball</th>\n",
              "      <th>football</th>\n",
              "      <th>tennis</th>\n",
              "      <th>voleyball</th>\n",
              "      <th>basketball</th>\n",
              "      <th>football</th>\n",
              "      <th>tennis</th>\n",
              "      <th>voleyball</th>\n",
              "    </tr>\n",
              "    <tr>\n",
              "      <th>gender</th>\n",
              "      <th></th>\n",
              "      <th></th>\n",
              "      <th></th>\n",
              "      <th></th>\n",
              "      <th></th>\n",
              "      <th></th>\n",
              "      <th></th>\n",
              "      <th></th>\n",
              "      <th></th>\n",
              "      <th></th>\n",
              "      <th></th>\n",
              "      <th></th>\n",
              "      <th></th>\n",
              "      <th></th>\n",
              "      <th></th>\n",
              "      <th></th>\n",
              "      <th></th>\n",
              "      <th></th>\n",
              "      <th></th>\n",
              "      <th></th>\n",
              "      <th></th>\n",
              "    </tr>\n",
              "  </thead>\n",
              "  <tbody>\n",
              "    <tr>\n",
              "      <th>female</th>\n",
              "      <td>NaN</td>\n",
              "      <td>NaN</td>\n",
              "      <td>NaN</td>\n",
              "      <td>NaN</td>\n",
              "      <td>NaN</td>\n",
              "      <td>NaN</td>\n",
              "      <td>NaN</td>\n",
              "      <td>22.0</td>\n",
              "      <td>NaN</td>\n",
              "      <td>NaN</td>\n",
              "      <td>...</td>\n",
              "      <td>NaN</td>\n",
              "      <td>65.0</td>\n",
              "      <td>NaN</td>\n",
              "      <td>NaN</td>\n",
              "      <td>58.0</td>\n",
              "      <td>NaN</td>\n",
              "      <td>NaN</td>\n",
              "      <td>NaN</td>\n",
              "      <td>62.0</td>\n",
              "      <td>NaN</td>\n",
              "    </tr>\n",
              "    <tr>\n",
              "      <th>male</th>\n",
              "      <td>NaN</td>\n",
              "      <td>23.0</td>\n",
              "      <td>NaN</td>\n",
              "      <td>NaN</td>\n",
              "      <td>21.0</td>\n",
              "      <td>NaN</td>\n",
              "      <td>NaN</td>\n",
              "      <td>NaN</td>\n",
              "      <td>NaN</td>\n",
              "      <td>NaN</td>\n",
              "      <td>...</td>\n",
              "      <td>NaN</td>\n",
              "      <td>NaN</td>\n",
              "      <td>NaN</td>\n",
              "      <td>NaN</td>\n",
              "      <td>83.0</td>\n",
              "      <td>NaN</td>\n",
              "      <td>NaN</td>\n",
              "      <td>NaN</td>\n",
              "      <td>NaN</td>\n",
              "      <td>NaN</td>\n",
              "    </tr>\n",
              "  </tbody>\n",
              "</table>\n",
              "<p>2 rows × 48 columns</p>\n",
              "</div>"
            ],
            "text/plain": [
              "              age                                                       \\\n",
              "status    amateur                                                        \n",
              "level        high                                  low                   \n",
              "sport  basketball football tennis voleyball basketball football tennis   \n",
              "gender                                                                   \n",
              "female        NaN      NaN    NaN       NaN        NaN      NaN    NaN   \n",
              "male          NaN     23.0    NaN       NaN       21.0      NaN    NaN   \n",
              "\n",
              "                                        ...  weight                         \\\n",
              "status           professional           ... amateur           professional   \n",
              "level                    high           ...     low                   high   \n",
              "sport  voleyball   basketball football  ...  tennis voleyball   basketball   \n",
              "gender                                  ...                                  \n",
              "female      22.0          NaN      NaN  ...     NaN      65.0          NaN   \n",
              "male         NaN          NaN      NaN  ...     NaN       NaN          NaN   \n",
              "\n",
              "                                                                       \n",
              "status                                                                 \n",
              "level                                   low                            \n",
              "sport  football tennis voleyball basketball football tennis voleyball  \n",
              "gender                                                                 \n",
              "female      NaN   58.0       NaN        NaN      NaN   62.0       NaN  \n",
              "male        NaN   83.0       NaN        NaN      NaN    NaN       NaN  \n",
              "\n",
              "[2 rows x 48 columns]"
            ]
          },
          "execution_count": 140,
          "metadata": {},
          "output_type": "execute_result"
        }
      ],
      "source": [
        "# try \"-1,0,1\" as level parameter\n",
        "df8.unstack(level=-1)"
      ]
    },
    {
      "cell_type": "code",
      "execution_count": null,
      "metadata": {
        "scrolled": true,
        "id": "A8Q2G30OYOQc",
        "outputId": "562dbb29-199b-40a3-bee4-7e7b74129732"
      },
      "outputs": [
        {
          "data": {
            "text/html": [
              "<div>\n",
              "<style scoped>\n",
              "    .dataframe tbody tr th:only-of-type {\n",
              "        vertical-align: middle;\n",
              "    }\n",
              "\n",
              "    .dataframe tbody tr th {\n",
              "        vertical-align: top;\n",
              "    }\n",
              "\n",
              "    .dataframe thead tr th {\n",
              "        text-align: left;\n",
              "    }\n",
              "\n",
              "    .dataframe thead tr:last-of-type th {\n",
              "        text-align: right;\n",
              "    }\n",
              "</style>\n",
              "<table border=\"1\" class=\"dataframe\">\n",
              "  <thead>\n",
              "    <tr>\n",
              "      <th></th>\n",
              "      <th colspan=\"10\" halign=\"left\">age</th>\n",
              "      <th>...</th>\n",
              "      <th colspan=\"10\" halign=\"left\">weight</th>\n",
              "    </tr>\n",
              "    <tr>\n",
              "      <th>status</th>\n",
              "      <th colspan=\"8\" halign=\"left\">amateur</th>\n",
              "      <th colspan=\"2\" halign=\"left\">professional</th>\n",
              "      <th>...</th>\n",
              "      <th colspan=\"2\" halign=\"left\">amateur</th>\n",
              "      <th colspan=\"8\" halign=\"left\">professional</th>\n",
              "    </tr>\n",
              "    <tr>\n",
              "      <th>level</th>\n",
              "      <th colspan=\"4\" halign=\"left\">high</th>\n",
              "      <th colspan=\"4\" halign=\"left\">low</th>\n",
              "      <th colspan=\"2\" halign=\"left\">high</th>\n",
              "      <th>...</th>\n",
              "      <th colspan=\"2\" halign=\"left\">low</th>\n",
              "      <th colspan=\"4\" halign=\"left\">high</th>\n",
              "      <th colspan=\"4\" halign=\"left\">low</th>\n",
              "    </tr>\n",
              "    <tr>\n",
              "      <th>sport</th>\n",
              "      <th>basketball</th>\n",
              "      <th>football</th>\n",
              "      <th>tennis</th>\n",
              "      <th>voleyball</th>\n",
              "      <th>basketball</th>\n",
              "      <th>football</th>\n",
              "      <th>tennis</th>\n",
              "      <th>voleyball</th>\n",
              "      <th>basketball</th>\n",
              "      <th>football</th>\n",
              "      <th>...</th>\n",
              "      <th>tennis</th>\n",
              "      <th>voleyball</th>\n",
              "      <th>basketball</th>\n",
              "      <th>football</th>\n",
              "      <th>tennis</th>\n",
              "      <th>voleyball</th>\n",
              "      <th>basketball</th>\n",
              "      <th>football</th>\n",
              "      <th>tennis</th>\n",
              "      <th>voleyball</th>\n",
              "    </tr>\n",
              "    <tr>\n",
              "      <th>gender</th>\n",
              "      <th></th>\n",
              "      <th></th>\n",
              "      <th></th>\n",
              "      <th></th>\n",
              "      <th></th>\n",
              "      <th></th>\n",
              "      <th></th>\n",
              "      <th></th>\n",
              "      <th></th>\n",
              "      <th></th>\n",
              "      <th></th>\n",
              "      <th></th>\n",
              "      <th></th>\n",
              "      <th></th>\n",
              "      <th></th>\n",
              "      <th></th>\n",
              "      <th></th>\n",
              "      <th></th>\n",
              "      <th></th>\n",
              "      <th></th>\n",
              "      <th></th>\n",
              "    </tr>\n",
              "  </thead>\n",
              "  <tbody>\n",
              "    <tr>\n",
              "      <th>female</th>\n",
              "      <td>-</td>\n",
              "      <td>-</td>\n",
              "      <td>NaN</td>\n",
              "      <td>NaN</td>\n",
              "      <td>-</td>\n",
              "      <td>-</td>\n",
              "      <td>NaN</td>\n",
              "      <td>22.0</td>\n",
              "      <td>-</td>\n",
              "      <td>-</td>\n",
              "      <td>...</td>\n",
              "      <td>NaN</td>\n",
              "      <td>65.0</td>\n",
              "      <td>-</td>\n",
              "      <td>-</td>\n",
              "      <td>58.0</td>\n",
              "      <td>NaN</td>\n",
              "      <td>-</td>\n",
              "      <td>-</td>\n",
              "      <td>62.0</td>\n",
              "      <td>NaN</td>\n",
              "    </tr>\n",
              "    <tr>\n",
              "      <th>male</th>\n",
              "      <td>NaN</td>\n",
              "      <td>23.0</td>\n",
              "      <td>NaN</td>\n",
              "      <td>-</td>\n",
              "      <td>21.0</td>\n",
              "      <td>NaN</td>\n",
              "      <td>NaN</td>\n",
              "      <td>-</td>\n",
              "      <td>NaN</td>\n",
              "      <td>NaN</td>\n",
              "      <td>...</td>\n",
              "      <td>NaN</td>\n",
              "      <td>-</td>\n",
              "      <td>NaN</td>\n",
              "      <td>NaN</td>\n",
              "      <td>83.0</td>\n",
              "      <td>-</td>\n",
              "      <td>NaN</td>\n",
              "      <td>NaN</td>\n",
              "      <td>NaN</td>\n",
              "      <td>-</td>\n",
              "    </tr>\n",
              "  </tbody>\n",
              "</table>\n",
              "<p>2 rows × 48 columns</p>\n",
              "</div>"
            ],
            "text/plain": [
              "              age                                                       \\\n",
              "status    amateur                                                        \n",
              "level        high                                  low                   \n",
              "sport  basketball football tennis voleyball basketball football tennis   \n",
              "gender                                                                   \n",
              "female          -        -    NaN       NaN          -        -    NaN   \n",
              "male          NaN     23.0    NaN         -       21.0      NaN    NaN   \n",
              "\n",
              "                                        ...  weight                         \\\n",
              "status           professional           ... amateur           professional   \n",
              "level                    high           ...     low                   high   \n",
              "sport  voleyball   basketball football  ...  tennis voleyball   basketball   \n",
              "gender                                  ...                                  \n",
              "female      22.0            -        -  ...     NaN      65.0            -   \n",
              "male           -          NaN      NaN  ...     NaN         -          NaN   \n",
              "\n",
              "                                                                       \n",
              "status                                                                 \n",
              "level                                   low                            \n",
              "sport  football tennis voleyball basketball football tennis voleyball  \n",
              "gender                                                                 \n",
              "female        -   58.0       NaN          -        -   62.0       NaN  \n",
              "male        NaN   83.0         -        NaN      NaN    NaN         -  \n",
              "\n",
              "[2 rows x 48 columns]"
            ]
          },
          "execution_count": 141,
          "metadata": {},
          "output_type": "execute_result"
        }
      ],
      "source": [
        "df8.unstack(level=-1, fill_value=\"-\")"
      ]
    },
    {
      "cell_type": "code",
      "execution_count": null,
      "metadata": {
        "id": "1NmYvf2oYOQd",
        "outputId": "4d5b5dae-2a7f-4dbe-9296-d7e814fefd91"
      },
      "outputs": [
        {
          "data": {
            "text/plain": [
              "        status        level  sport       gender\n",
              "age     amateur       high   basketball  female     NaN\n",
              "                                         male       NaN\n",
              "                             football    female     NaN\n",
              "                                         male      23.0\n",
              "                             tennis      female     NaN\n",
              "                                                   ... \n",
              "weight  professional  low    football    male       NaN\n",
              "                             tennis      female    62.0\n",
              "                                         male       NaN\n",
              "                             voleyball   female     NaN\n",
              "                                         male       NaN\n",
              "Length: 96, dtype: float64"
            ]
          },
          "execution_count": 142,
          "metadata": {},
          "output_type": "execute_result"
        }
      ],
      "source": [
        "df8.unstack().unstack()"
      ]
    },
    {
      "cell_type": "code",
      "execution_count": null,
      "metadata": {
        "id": "PgFVuwrSYOQd",
        "outputId": "0933ad33-c5b4-4a52-f276-cc6755454c38"
      },
      "outputs": [
        {
          "data": {
            "text/html": [
              "<div>\n",
              "<style scoped>\n",
              "    .dataframe tbody tr th:only-of-type {\n",
              "        vertical-align: middle;\n",
              "    }\n",
              "\n",
              "    .dataframe tbody tr th {\n",
              "        vertical-align: top;\n",
              "    }\n",
              "\n",
              "    .dataframe thead th {\n",
              "        text-align: right;\n",
              "    }\n",
              "</style>\n",
              "<table border=\"1\" class=\"dataframe\">\n",
              "  <thead>\n",
              "    <tr style=\"text-align: right;\">\n",
              "      <th></th>\n",
              "      <th></th>\n",
              "      <th></th>\n",
              "      <th></th>\n",
              "      <th></th>\n",
              "      <th>0</th>\n",
              "    </tr>\n",
              "    <tr>\n",
              "      <th></th>\n",
              "      <th>status</th>\n",
              "      <th>level</th>\n",
              "      <th>sport</th>\n",
              "      <th>gender</th>\n",
              "      <th></th>\n",
              "    </tr>\n",
              "  </thead>\n",
              "  <tbody>\n",
              "    <tr>\n",
              "      <th rowspan=\"5\" valign=\"top\">age</th>\n",
              "      <th rowspan=\"5\" valign=\"top\">amateur</th>\n",
              "      <th rowspan=\"5\" valign=\"top\">high</th>\n",
              "      <th rowspan=\"2\" valign=\"top\">basketball</th>\n",
              "      <th>female</th>\n",
              "      <td>NaN</td>\n",
              "    </tr>\n",
              "    <tr>\n",
              "      <th>male</th>\n",
              "      <td>NaN</td>\n",
              "    </tr>\n",
              "    <tr>\n",
              "      <th rowspan=\"2\" valign=\"top\">football</th>\n",
              "      <th>female</th>\n",
              "      <td>NaN</td>\n",
              "    </tr>\n",
              "    <tr>\n",
              "      <th>male</th>\n",
              "      <td>23.0</td>\n",
              "    </tr>\n",
              "    <tr>\n",
              "      <th>tennis</th>\n",
              "      <th>female</th>\n",
              "      <td>NaN</td>\n",
              "    </tr>\n",
              "    <tr>\n",
              "      <th>...</th>\n",
              "      <th>...</th>\n",
              "      <th>...</th>\n",
              "      <th>...</th>\n",
              "      <th>...</th>\n",
              "      <td>...</td>\n",
              "    </tr>\n",
              "    <tr>\n",
              "      <th rowspan=\"5\" valign=\"top\">weight</th>\n",
              "      <th rowspan=\"5\" valign=\"top\">professional</th>\n",
              "      <th rowspan=\"5\" valign=\"top\">low</th>\n",
              "      <th>football</th>\n",
              "      <th>male</th>\n",
              "      <td>NaN</td>\n",
              "    </tr>\n",
              "    <tr>\n",
              "      <th rowspan=\"2\" valign=\"top\">tennis</th>\n",
              "      <th>female</th>\n",
              "      <td>62.0</td>\n",
              "    </tr>\n",
              "    <tr>\n",
              "      <th>male</th>\n",
              "      <td>NaN</td>\n",
              "    </tr>\n",
              "    <tr>\n",
              "      <th rowspan=\"2\" valign=\"top\">voleyball</th>\n",
              "      <th>female</th>\n",
              "      <td>NaN</td>\n",
              "    </tr>\n",
              "    <tr>\n",
              "      <th>male</th>\n",
              "      <td>NaN</td>\n",
              "    </tr>\n",
              "  </tbody>\n",
              "</table>\n",
              "<p>96 rows × 1 columns</p>\n",
              "</div>"
            ],
            "text/plain": [
              "                                                0\n",
              "       status       level sport      gender      \n",
              "age    amateur      high  basketball female   NaN\n",
              "                                     male     NaN\n",
              "                          football   female   NaN\n",
              "                                     male    23.0\n",
              "                          tennis     female   NaN\n",
              "...                                           ...\n",
              "weight professional low   football   male     NaN\n",
              "                          tennis     female  62.0\n",
              "                                     male     NaN\n",
              "                          voleyball  female   NaN\n",
              "                                     male     NaN\n",
              "\n",
              "[96 rows x 1 columns]"
            ]
          },
          "execution_count": 143,
          "metadata": {},
          "output_type": "execute_result"
        }
      ],
      "source": [
        "pd.DataFrame(df8.unstack().unstack())"
      ]
    },
    {
      "cell_type": "code",
      "execution_count": null,
      "metadata": {
        "id": "d2x3QwquYOQd"
      },
      "outputs": [],
      "source": [
        ""
      ]
    }
  ],
  "metadata": {
    "colab": {
      "name": "DAwPy-S5-6 (Groupby,Aggregation,DataFrame_Operations,Pivot_Tables,Stack).ipynb",
      "provenance": [],
      "include_colab_link": true
    },
    "kernelspec": {
      "display_name": "Python 3",
      "language": "python",
      "name": "python3"
    },
    "language_info": {
      "codemirror_mode": {
        "name": "ipython",
        "version": 3
      },
      "file_extension": ".py",
      "mimetype": "text/x-python",
      "name": "python",
      "nbconvert_exporter": "python",
      "pygments_lexer": "ipython3",
      "version": "3.7.6"
    }
  },
  "nbformat": 4,
  "nbformat_minor": 0
}