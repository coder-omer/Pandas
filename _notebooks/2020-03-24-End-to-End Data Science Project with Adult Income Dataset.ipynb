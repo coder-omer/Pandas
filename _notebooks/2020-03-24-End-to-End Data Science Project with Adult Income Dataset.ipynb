{
  "cells": [
    {
      "cell_type": "markdown",
      "metadata": {
        "id": "view-in-github",
        "colab_type": "text"
      },
      "source": [
        "<a href=\"https://colab.research.google.com/github/coder-omer/Pandas/blob/main/_notebooks/2020-03-24-End-to-End%20Data%20Science%20Project%20with%20Adult%20Income%20Dataset.ipynb\" target=\"_parent\"><img src=\"https://colab.research.google.com/assets/colab-badge.svg\" alt=\"Open In Colab\"/></a>"
      ]
    },
    {
      "cell_type": "markdown",
      "metadata": {
        "id": "IbjC0ms9XL__"
      },
      "source": [
        "# End-to-End Data Science Project with Adult Income Dataset\n",
        "> From understand the problem, to deliver the solution. \n",
        "\n",
        "- toc: true \n",
        "- badges: true\n",
        "- comments: true\n",
        "- categories: [Machine Learning]\n",
        "\n"
      ]
    },
    {
      "cell_type": "markdown",
      "metadata": {
        "id": "NsvrXkpmXMAH"
      },
      "source": [
        "# Overview\n",
        "\n",
        "Recently I got a freelance Data Science Job from a LinkedIn member. It's typical binary classification task with applicant basic information from an online commerical startup. The business onwer consult me about building a simpel Machine Learning model to provide an automated account opening checking system, and gave me a small dataset(around 60,000 instances). I would like to share some of my experiences of this Data Science project, of course I won't be able to share the excat dataset and it's detail , but I found out the U.S. Adult Income Dataset could be one candidate to share the similarity, so I pick it as a sharing sample.\n",
        "\n",
        "## About U.S. Adult Income Dataset\n",
        "\n",
        "**Abstract**: Based on every observation's attributes, predict whether a instance aka a person, income exceeds US$50,000 annually. Also known as \"Census Income\" dataset, it's originally donated by Ronny Kohavi and Barry Becker at 1996. It's _Classification_ Task, with categorical and numerical features, some of the instance have missing values, the missing value was denoted as `\"?\"`\n",
        "\n",
        "Total have 14 columns of features, the last column: `income` is the classification label: `>50k, <=50k`, other features as below: \n",
        "\n",
        "* `age`: numerical\n",
        "* `workclass`: categorical\n",
        "* `fnlwgt`: numerical\n",
        "* `education`: categorical\n",
        "* `education-num`: numerical\n",
        "* `marital-status`: categorical\n",
        "* `occupation`: categorical\n",
        "* `relationship`: categorical\n",
        "* `race`: categorical\n",
        "* `sex`: categorical\n",
        "* `capital-gain`: numerical\n",
        "* `capital-loss`: numerical\n",
        "* `hours-per-week`: numerical\n",
        "* `native-country`: categorical\n",
        "\n",
        "And one more things need to take note is the dataset is imbalanced, there are two classes values: `>50k` and `<=50k`.\n",
        "* `>50k`: miniority class, around `25%`\n",
        "* `<=50k`: majority class, around `75%`\n",
        "\n",
        "This dataset is openly accessable, either visit: [UCI(University of California, Irvine) Machine Learning Repository](https://archive.ics.uci.edu/ml/datasets/Adult), or [Kaggle Adult Dataset](https://www.kaggle.com/wenruliu/adult-income-dataset). \n",
        "\n",
        "# Typical Data Science workflow\n",
        "\n",
        "Before we get our hand dirty, let's understand our workflow so that we can follow the steps, normally when we receive a Data Science job, no matter is from which sector, it could be Financial, consumer, computer network, manufacturing, we need to have a proper understanding of the problem we are going to solve. An article from [Towardsdatascience](https://towardsdatascience.com/the-data-science-workflow-43859db0415) have a very good explaination: \n",
        "\n",
        "![](https://github.com/JL1829/johnny-ds-blog/blob/master/_notebooks/my_icons/datascienceworkflow.png?raw=true)\n",
        "\n",
        "For most of the project, it will fall into the flows: \n",
        "\n",
        "* **Understand the Business Problem**:\n",
        "    * In here, the problem is to predict whether a person's income is exceeded `US$50,000.00` based on the features, in commercial, it could be predict a person will place order on particular products based on his/her browsing behavior\n",
        "\n",
        "* **EDA(Exploratory Data Analysis)**:\n",
        "    * Not all the data science project dataset is perfectly clean like the professior gave you in academic, real word dataset that the customer gave you will be very \"dirty\", it contain lot's of outlier, missing value, or others intentionly wrong filling. We need to identify it and procss to next steps\n",
        "\n",
        "* **Data Cleaning**:\n",
        "    * Following previous step, once we have identified the outlier, missing values, we will \"clean\" it via statistical method or others method. \n",
        "    \n",
        "* **Feature Engineering**: \n",
        "    * Well, this is one of the most time and brain power consuming steps, it mean we need to figure out each feature's corrlation between the label, selecting, or extracting the most relevent feature to feed into the model, it's very important step that help us to fight with the Curse of Dimensionality and the under-fit/over-fit problem. \n",
        "\n",
        "* **Baseline Model Result**:\n",
        "    * Some of the Data Scientist will miss out this part, most of the time they will just simple feed the \"cleaned\" dataset into the model and get a simply `75%` accuracy, well, in Adult dataset, I can say I can throw any dummy classification model it will get `75%` accuracy, as it's imbalanced with `75%` majority class, in order to understand how well the model is working, we must have some baseline data, so this is the part we figure the baseline. \n",
        "\n",
        "* **Model Evaluate and Fine Turn**: \n",
        "    * How good is the model, can we improve more? here we fine turn the hyperparameter to make it closer to production level. \n",
        "\n",
        "* **Iteration**: \n",
        "    * Present the work to customer, put the model into production, get feedback, imporve. \n"
      ]
    },
    {
      "cell_type": "markdown",
      "metadata": {
        "id": "-zo-XZPiXMAP"
      },
      "source": [
        "# Exploratory Data Analysis (EDA)\n",
        "\n",
        "Let's get into Adult Dataset\n",
        "\n",
        "Move to Dataset [Kaggle Site](https://www.kaggle.com/wenruliu/adult-income-dataset) to download it.\n",
        "Or we can use scikit-learn `fetch_openml` to fetch it."
      ]
    },
    {
      "cell_type": "code",
      "execution_count": null,
      "metadata": {
        "id": "qGc3wIE4XMAQ",
        "outputId": "829a8d82-b855-4040-df5d-c77dc38d277d"
      },
      "outputs": [
        {
          "name": "stdout",
          "output_type": "stream",
          "text": [
            "<class 'pandas.core.frame.DataFrame'>\n",
            "RangeIndex: 48842 entries, 0 to 48841\n",
            "Data columns (total 15 columns):\n",
            " #   Column           Non-Null Count  Dtype \n",
            "---  ------           --------------  ----- \n",
            " 0   age              48842 non-null  int64 \n",
            " 1   workclass        46043 non-null  object\n",
            " 2   fnlwgt           48842 non-null  int64 \n",
            " 3   education        48842 non-null  object\n",
            " 4   educational-num  48842 non-null  int64 \n",
            " 5   marital-status   48842 non-null  object\n",
            " 6   occupation       46033 non-null  object\n",
            " 7   relationship     48842 non-null  object\n",
            " 8   race             48842 non-null  object\n",
            " 9   gender           48842 non-null  object\n",
            " 10  capital-gain     48842 non-null  int64 \n",
            " 11  capital-loss     48842 non-null  int64 \n",
            " 12  hours-per-week   48842 non-null  int64 \n",
            " 13  native-country   47985 non-null  object\n",
            " 14  income           48842 non-null  object\n",
            "dtypes: int64(6), object(9)\n",
            "memory usage: 5.6+ MB\n",
            "None\n",
            "\n",
            "\n",
            "   age  workclass  fnlwgt     education  educational-num      marital-status  \\\n",
            "0   25    Private  226802          11th                7       Never-married   \n",
            "1   38    Private   89814       HS-grad                9  Married-civ-spouse   \n",
            "2   28  Local-gov  336951    Assoc-acdm               12  Married-civ-spouse   \n",
            "3   44    Private  160323  Some-college               10  Married-civ-spouse   \n",
            "4   18        NaN  103497  Some-college               10       Never-married   \n",
            "\n",
            "          occupation relationship   race  gender  capital-gain  capital-loss  \\\n",
            "0  Machine-op-inspct    Own-child  Black    Male             0             0   \n",
            "1    Farming-fishing      Husband  White    Male             0             0   \n",
            "2    Protective-serv      Husband  White    Male             0             0   \n",
            "3  Machine-op-inspct      Husband  Black    Male          7688             0   \n",
            "4                NaN    Own-child  White  Female             0             0   \n",
            "\n",
            "   hours-per-week native-country income  \n",
            "0              40  United-States  <=50K  \n",
            "1              50  United-States  <=50K  \n",
            "2              40  United-States   >50K  \n",
            "3              40  United-States   >50K  \n",
            "4              30  United-States  <=50K  \n"
          ]
        }
      ],
      "source": [
        "# import\n",
        "import numpy as np\n",
        "import pandas as pd\n",
        "from collections import Counter\n",
        "\n",
        "# load dataset\n",
        "adult_df = pd.read_csv('/storage/adult.csv', na_values='?')\n",
        "\n",
        "# overview of the dataset\n",
        "print(adult_df.info())\n",
        "print(\"\\n\")\n",
        "print(adult_df.head())"
      ]
    },
    {
      "cell_type": "code",
      "execution_count": null,
      "metadata": {
        "id": "whm19azZXMAT",
        "outputId": "194ba38f-3e68-431e-fe41-ee22ed638c74"
      },
      "outputs": [
        {
          "name": "stdout",
          "output_type": "stream",
          "text": [
            "Checking dataframe missing values:\n",
            "\n",
            "The column: 'workclass' with Data Type: 'object' has missing value: 2799, percentage: 5.73%\n",
            "The column: 'occupation' with Data Type: 'object' has missing value: 2809, percentage: 5.75%\n",
            "The column: 'native-country' with Data Type: 'object' has missing value: 857, percentage: 1.75%\n"
          ]
        }
      ],
      "source": [
        "# check the missing value\n",
        "print(\"Checking dataframe missing values:\\n\")\n",
        "for column in adult_df.columns:\n",
        "    if adult_df[column].isnull().sum() != 0:\n",
        "        missingValue = adult_df[column].isnull().sum()\n",
        "        percentage = missingValue / len(adult_df[column]) * 100\n",
        "        dtype = adult_df[column].dtype\n",
        "        print(f\"The column: '{column}' with Data Type: '{dtype}' has missing value: {missingValue}, percentage: {percentage:.2f}%\")\n",
        "\n",
        "# memory cleaning\n",
        "del missingValue\n",
        "del percentage\n",
        "del dtype"
      ]
    },
    {
      "cell_type": "markdown",
      "metadata": {
        "id": "xIc9FhY5XMAU"
      },
      "source": [
        "Well, that not too much, about how to handle the missing value, is a balance game, either throw it away, if there's not too much impact to the model performance, or impute it with some strategy, such as `most-frquent` since they are all `categorical` value, or `mean`, `median` etc if they are `numerical` value. \n",
        "In this case, as the missing value fall into the `categorical` features, we will use the `pandas` DataFrame [mode()](https://pandas.pydata.org/pandas-docs/stable/reference/api/pandas.DataFrame.mode.html) method to fill the missing value "
      ]
    },
    {
      "cell_type": "code",
      "execution_count": null,
      "metadata": {
        "id": "Bzg5q6NBXMAU",
        "outputId": "36f4a436-03c8-451c-e847-26d09c615aef"
      },
      "outputs": [
        {
          "name": "stdout",
          "output_type": "stream",
          "text": [
            "Class: <=50K, Count = 37155, Percentage = 76.1%.\n",
            "Class: >50K, Count = 11687, Percentage = 23.9%.\n"
          ]
        }
      ],
      "source": [
        "# check the label class and it's distribution percentage\n",
        "label = adult_df.values[:, -1]\n",
        "counter = Counter(label)\n",
        "for key, value in counter.items():\n",
        "    percentage = value / len(label) * 100\n",
        "    print(f\"Class: {key}, Count = {value}, Percentage = {percentage:.1f}%.\")"
      ]
    },
    {
      "cell_type": "code",
      "execution_count": null,
      "metadata": {
        "id": "o9T1t7JPXMAV"
      },
      "outputs": [],
      "source": [
        "numerical_subset = adult_df.select_dtypes(include=['int64', 'float64'])"
      ]
    },
    {
      "cell_type": "code",
      "execution_count": null,
      "metadata": {
        "id": "IWg3hH_yXMAW",
        "outputId": "0b69dfcb-0c5e-44e7-b573-1318f9a5ebc6"
      },
      "outputs": [
        {
          "name": "stdout",
          "output_type": "stream",
          "text": [
            "       age  fnlwgt  educational-num  capital-gain  capital-loss  \\\n",
            "0       25  226802                7             0             0   \n",
            "1       38   89814                9             0             0   \n",
            "2       28  336951               12             0             0   \n",
            "3       44  160323               10          7688             0   \n",
            "4       18  103497               10             0             0   \n",
            "...    ...     ...              ...           ...           ...   \n",
            "48837   27  257302               12             0             0   \n",
            "48838   40  154374                9             0             0   \n",
            "48839   58  151910                9             0             0   \n",
            "48840   22  201490                9             0             0   \n",
            "48841   52  287927                9         15024             0   \n",
            "\n",
            "       hours-per-week  \n",
            "0                  40  \n",
            "1                  50  \n",
            "2                  40  \n",
            "3                  40  \n",
            "4                  30  \n",
            "...               ...  \n",
            "48837              38  \n",
            "48838              40  \n",
            "48839              40  \n",
            "48840              20  \n",
            "48841              40  \n",
            "\n",
            "[48842 rows x 6 columns]\n"
          ]
        }
      ],
      "source": [
        "print(numerical_subset)"
      ]
    },
    {
      "cell_type": "code",
      "execution_count": null,
      "metadata": {
        "id": "s2g9BN-KXMAX",
        "outputId": "bf6552c4-a35d-40f6-aa5c-002e0c8a13e0"
      },
      "outputs": [
        {
          "data": {
            "image/png": "[encoded data removed]",
            "text/plain": [
              "<Figure size 1440x1080 with 6 Axes>"
            ]
          },
          "metadata": {
            "needs_background": "light"
          },
          "output_type": "display_data"
        }
      ],
      "source": [
        "import matplotlib.pyplot as plt\n",
        "numerical_subset.hist(bins=20, figsize=(20, 15))\n",
        "plt.show()"
      ]
    },
    {
      "cell_type": "markdown",
      "metadata": {
        "id": "0AmpKYEmXMAY"
      },
      "source": [
        "# Data Cleaning\n",
        "\n",
        "After we have explored the overview of the dataset, we are going to dig out any anomaly in the dataset and clean it out. "
      ]
    },
    {
      "cell_type": "code",
      "execution_count": null,
      "metadata": {
        "id": "INe6cY21XMAY",
        "outputId": "2c4ad111-0da6-4b9c-9401-b3c14c08ba6b"
      },
      "outputs": [
        {
          "name": "stdout",
          "output_type": "stream",
          "text": [
            "<class 'pandas.core.frame.DataFrame'>\n",
            "RangeIndex: 48842 entries, 0 to 48841\n",
            "Data columns (total 15 columns):\n",
            " #   Column           Non-Null Count  Dtype \n",
            "---  ------           --------------  ----- \n",
            " 0   age              48842 non-null  int64 \n",
            " 1   workclass        48842 non-null  object\n",
            " 2   fnlwgt           48842 non-null  int64 \n",
            " 3   education        48842 non-null  object\n",
            " 4   educational-num  48842 non-null  int64 \n",
            " 5   marital-status   48842 non-null  object\n",
            " 6   occupation       48842 non-null  object\n",
            " 7   relationship     48842 non-null  object\n",
            " 8   race             48842 non-null  object\n",
            " 9   gender           48842 non-null  object\n",
            " 10  capital-gain     48842 non-null  int64 \n",
            " 11  capital-loss     48842 non-null  int64 \n",
            " 12  hours-per-week   48842 non-null  int64 \n",
            " 13  native-country   48842 non-null  object\n",
            " 14  income           48842 non-null  object\n",
            "dtypes: int64(6), object(9)\n",
            "memory usage: 5.6+ MB\n",
            "None\n"
          ]
        }
      ],
      "source": [
        "# use DataFrame `mode()` method\n",
        "adult_df = adult_df.fillna(adult_df.mode().iloc[0])\n",
        "print(adult_df.info())"
      ]
    },
    {
      "cell_type": "markdown",
      "metadata": {
        "id": "E2zydpMFXMAZ"
      },
      "source": [
        "The `Non-Null Count` shows there's no more missing value from the dataset, it filled by the `most_frequent` value"
      ]
    },
    {
      "cell_type": "code",
      "execution_count": null,
      "metadata": {
        "id": "RnuM5fz0XMAa",
        "outputId": "7756568b-d091-42db-ff46-d373cfda8467"
      },
      "outputs": [
        {
          "name": "stdout",
          "output_type": "stream",
          "text": [
            "                age        fnlwgt  educational-num  capital-gain  \\\n",
            "count  48842.000000  4.884200e+04     48842.000000  48842.000000   \n",
            "mean      38.643585  1.896641e+05        10.078089   1079.067626   \n",
            "std       13.710510  1.056040e+05         2.570973   7452.019058   \n",
            "min       17.000000  1.228500e+04         1.000000      0.000000   \n",
            "25%       28.000000  1.175505e+05         9.000000      0.000000   \n",
            "50%       37.000000  1.781445e+05        10.000000      0.000000   \n",
            "75%       48.000000  2.376420e+05        12.000000      0.000000   \n",
            "max       90.000000  1.490400e+06        16.000000  99999.000000   \n",
            "\n",
            "       capital-loss  hours-per-week  \n",
            "count  48842.000000    48842.000000  \n",
            "mean      87.502314       40.422382  \n",
            "std      403.004552       12.391444  \n",
            "min        0.000000        1.000000  \n",
            "25%        0.000000       40.000000  \n",
            "50%        0.000000       40.000000  \n",
            "75%        0.000000       45.000000  \n",
            "max     4356.000000       99.000000  \n"
          ]
        }
      ],
      "source": [
        "# checking the outliers\n",
        "print(numerical_subset.describe())"
      ]
    },
    {
      "cell_type": "markdown",
      "metadata": {
        "id": "55rZY5ItXMAb"
      },
      "source": [
        "Well, from the column `capital-gain`, the maximum value is `99999` which seems like little bit werid, we can check the dataset description, the `capital-gain` means the additional income from capital market, such as stocks, securities, `99999` indicated somebody wrongly imput or it repersented as `None` additional income, here we can try to replace it with the mean value, and we will replace the `99` hours in the `hours-per-week` column also"
      ]
    },
    {
      "cell_type": "code",
      "execution_count": null,
      "metadata": {
        "id": "nFnyhbi5XMAb",
        "outputId": "5428d2fa-1e03-4e80-9191-f0bfd2ee90bc"
      },
      "outputs": [
        {
          "name": "stdout",
          "output_type": "stream",
          "text": [
            "There's 244 outlier in the capital-gain column\n",
            "There's 137 outlier in the hours-per-week column\n"
          ]
        }
      ],
      "source": [
        "# check the quantity of this outlier\n",
        "print(f\"There's {adult_df[adult_df['capital-gain'] == 99999].shape[0]} outlier in the capital-gain column\")\n",
        "print(f\"There's {adult_df[adult_df['hours-per-week'] == 99].shape[0]} outlier in the hours-per-week column\")"
      ]
    },
    {
      "cell_type": "code",
      "execution_count": null,
      "metadata": {
        "id": "bGEh6fvqXMAc",
        "outputId": "b9f655d5-4a37-492d-c57e-b6a284ba6f65"
      },
      "outputs": [
        {
          "name": "stdout",
          "output_type": "stream",
          "text": [
            "                age        fnlwgt  educational-num  capital-gain  \\\n",
            "count  48842.000000  4.884200e+04     48842.000000  48842.000000   \n",
            "mean      38.643585  1.896641e+05        10.078089    584.893278   \n",
            "std       13.710510  1.056040e+05         2.570973   2530.549506   \n",
            "min       17.000000  1.228500e+04         1.000000      0.000000   \n",
            "25%       28.000000  1.175505e+05         9.000000      0.000000   \n",
            "50%       37.000000  1.781445e+05        10.000000      0.000000   \n",
            "75%       48.000000  2.376420e+05        12.000000      0.000000   \n",
            "max       90.000000  1.490400e+06        16.000000  41310.000000   \n",
            "\n",
            "       capital-loss  hours-per-week  \n",
            "count  48842.000000    48842.000000  \n",
            "mean      87.502314       40.258074  \n",
            "std      403.004552       11.995662  \n",
            "min        0.000000        1.000000  \n",
            "25%        0.000000       40.000000  \n",
            "50%        0.000000       40.000000  \n",
            "75%        0.000000       45.000000  \n",
            "max     4356.000000       98.000000  \n"
          ]
        }
      ],
      "source": [
        "# replace it with mean value\n",
        "adult_df['capital-gain'].replace(99999, np.mean(adult_df['capital-gain'].values), inplace=True)\n",
        "adult_df['hours-per-week'].replace(99, np.mean(adult_df['hours-per-week'].values), inplace=True)\n",
        "print(adult_df.describe())"
      ]
    },
    {
      "cell_type": "markdown",
      "metadata": {
        "id": "UhXxCW7zXMAd"
      },
      "source": [
        "After the data exploration and cleaning, we save the cleaned DataFrame to `adult_cleaned.csv` file"
      ]
    },
    {
      "cell_type": "code",
      "execution_count": null,
      "metadata": {
        "id": "tGN2eajXXMAd"
      },
      "outputs": [],
      "source": [
        "adult_df.to_csv('/storage/adult_cleaned.csv', index=False)"
      ]
    },
    {
      "cell_type": "markdown",
      "metadata": {
        "id": "qpy-wmHhXMAd"
      },
      "source": [
        "# Baseline Model Result\n",
        "\n",
        "We will evaluate candidate models using repeated stratified k-fold cross-validation \n",
        "\n",
        "The [k-fold cross-validation procedure](https://machinelearningmastery.com/k-fold-cross-validation/) provides a good general estimate of model performance that is not too optimistically biased, at least compared to a single train-test split. We will use `k=10`, meaning each fold will contain about `45,222/10`, or about `4,522 examples`.\n",
        "\n",
        "`Stratified` means that each fold will contain the same mixture of examples by class, that is about `75%` to `25%` for the majority and minority classes respectively. Repeated means that the evaluation process will be performed multiple times to help avoid fluke results and better capture the variance of the chosen model. We will use three repeats.\n",
        "\n",
        "This means a single model will be `fit` and evaluated `10 * 3` or `30` times and the mean and standard deviation of these runs will be reported.\n",
        "\n",
        "This can be achieved using the [RepeatedStratifiedKFold](https://scikit-learn.org/stable/modules/generated/sklearn.model_selection.RepeatedStratifiedKFold.html) scikit-learn class. \n",
        "\n",
        "We will predict a class label for each example and measure model performance using classification accuracy.\n",
        "\n",
        "The `evaluate_model()` function below will take the loaded dataset and a defined model and will evaluate it using repeated stratified k-fold cross-validation, then return a list of accuracy scores that can later be summarized.\n"
      ]
    },
    {
      "cell_type": "code",
      "execution_count": null,
      "metadata": {
        "id": "0bV9goQ4XMAe"
      },
      "outputs": [],
      "source": [
        "import pandas as pd\n",
        "import numpy as np\n",
        "from sklearn.preprocessing import LabelEncoder\n",
        "from sklearn.preprocessing import OneHotEncoder\n",
        "from sklearn.preprocessing import MinMaxScaler\n",
        "from sklearn.pipeline import Pipeline\n",
        "from sklearn.compose import ColumnTransformer\n",
        "from sklearn.model_selection import cross_val_score\n",
        "from sklearn.model_selection import RepeatedStratifiedKFold\n",
        "\n",
        "\n",
        "def load_dataset(filename):\n",
        "    df = pd.read_csv(filename)\n",
        "    X, y = df.iloc[:, :-1], df.iloc[:, -1]\n",
        "    cate_index = X.select_dtypes(include=['object']).columns\n",
        "    num_index = X.select_dtypes(include=['int64', 'float64']).columns\n",
        "    y = LabelEncoder().fit_transform(y)\n",
        "    \n",
        "    return X, y, cate_index, num_index\n",
        "\n",
        "def evaluate_model(X, y, model):\n",
        "    cv = RepeatedStratifiedKFold(n_splits=10, n_repeats=3, random_state=42)\n",
        "    scores = cross_val_score(model, X, y, scoring='accuracy', cv=cv, n_jobs=-1)\n",
        "\n",
        "    return scores"
      ]
    },
    {
      "cell_type": "code",
      "execution_count": null,
      "metadata": {
        "id": "t3HzJ-GyXMAf"
      },
      "outputs": [],
      "source": [
        "from sklearn.dummy import DummyClassifier\n",
        "\n",
        "X, y, cate_index, num_index = load_dataset('storage/adult_cleaned.csv')\n",
        "model = DummyClassifier(strategy='most_frequent')"
      ]
    },
    {
      "cell_type": "code",
      "execution_count": null,
      "metadata": {
        "id": "XmRW9RsbXMAf",
        "outputId": "fab3ec3f-b5d2-40a1-d388-7d4d6e89be41"
      },
      "outputs": [
        {
          "name": "stdout",
          "output_type": "stream",
          "text": [
            "[0.76069601 0.76069601 0.76085176 0.76085176 0.76085176 0.76064701\n",
            " 0.76064701 0.76064701 0.76064701 0.76064701 0.76069601 0.76069601\n",
            " 0.76085176 0.76085176 0.76085176 0.76064701 0.76064701 0.76064701\n",
            " 0.76064701 0.76064701 0.76069601 0.76069601 0.76085176 0.76085176\n",
            " 0.76085176 0.76064701 0.76064701 0.76064701 0.76064701 0.76064701]\n"
          ]
        }
      ],
      "source": [
        "scores = evaluate_model(X, y, model)\n",
        "print(scores)"
      ]
    },
    {
      "cell_type": "code",
      "execution_count": null,
      "metadata": {
        "id": "DU2j_AznXMAg",
        "outputId": "c4122a2b-f211-4cca-c990-9526f035e6f2"
      },
      "outputs": [
        {
          "name": "stdout",
          "output_type": "stream",
          "text": [
            "The Dummy Classifier mean accuracy: 76.07%, with Standard Deviation: 0.00\n"
          ]
        }
      ],
      "source": [
        "print(f\"The Dummy Classifier mean accuracy: {(np.mean(scores)*100):.2f}%, with Standard Deviation: {np.std(scores):.2f}\")"
      ]
    },
    {
      "cell_type": "code",
      "execution_count": null,
      "metadata": {
        "id": "qvfVUwA2XMAh",
        "outputId": "94fc3dd8-b7de-4326-f8ed-e051c070b0d6"
      },
      "outputs": [
        {
          "name": "stdout",
          "output_type": "stream",
          "text": [
            "The type of dataset: <class 'pandas.core.frame.DataFrame'>.\n",
            "The shape of the dataset: Row: 48842, with 14 fetures\n",
            "The type of the target label: <class 'numpy.ndarray'>\n",
            "The shape of the target label is: 48842 dimensional vector.\n"
          ]
        }
      ],
      "source": [
        "print(f\"The type of dataset: {type(X)}.\")\n",
        "print(f\"The shape of the dataset: Row: {X.shape[0]}, with {X.shape[1]} fetures\")\n",
        "print(f\"The type of the target label: {type(y)}\")\n",
        "print(f\"The shape of the target label is: {y.shape[0]} dimensional vector.\")"
      ]
    },
    {
      "cell_type": "markdown",
      "metadata": {
        "id": "iAKTZbsXXMAh"
      },
      "source": [
        "Now that we have a test harness and a baseline in performance. In this case, we can see that the baseline algorithm achieves an accuracy of about `76.07%`. This score provides a lower limit on model skill; any model that achieves an average accuracy above about `76.07%` has skill, whereas models that achieve a score below this value do not have skill on this dataset. Now we can begin to evaluate some models on this dataset"
      ]
    },
    {
      "cell_type": "markdown",
      "metadata": {
        "id": "sSVDVyIjXMAh"
      },
      "source": [
        "# Model Evaluate and Fine Turn\n",
        "\n",
        "\n",
        "## Evaluate Machine Learning Algorithms\n",
        "\n",
        "Let’s start by evaluating a mixture of machine learning models on the dataset.\n",
        "\n",
        "It can be a good idea to spot check a suite of different nonlinear algorithms on a dataset to quickly flush out what works well and deserves further attention, and what doesn’t.\n",
        "\n",
        "We will evaluate the following machine learning models on the adult dataset:\n",
        "\n",
        "* Decision Tree (CART)\n",
        "* Support Vector Machine (SVM)\n",
        "* Bagged Decision Trees (BAG)\n",
        "* Random Forest (RF)\n",
        "* Gradient Boosting Machine (GBM)\n",
        "\n",
        "We will use mostly default model hyperparameters, with the exception of the number of trees in the ensemble algorithms, which we will set to a reasonable default of `100`.\n",
        "\n",
        "We will define each model in turn and add them to a list so that we can evaluate them sequentially. The `generate_models()` function below defines the list of models for evaluation, as well as a list of model short names for plotting the results later."
      ]
    },
    {
      "cell_type": "code",
      "execution_count": null,
      "metadata": {
        "id": "TRmbZOJdXMAi",
        "outputId": "a1173ff8-1062-4323-a160-be32cacd47c7"
      },
      "outputs": [
        {
          "name": "stdout",
          "output_type": "stream",
          "text": [
            "<class 'pandas.core.frame.DataFrame'>\n",
            "(48842, 14)\n",
            "<class 'numpy.ndarray'>\n",
            "(48842,)\n"
          ]
        }
      ],
      "source": [
        "import numpy as np\n",
        "import pandas as pd\n",
        "from sklearn.preprocessing import LabelEncoder\n",
        "from sklearn.preprocessing import OneHotEncoder\n",
        "from sklearn.preprocessing import MinMaxScaler\n",
        "from sklearn.pipeline import Pipeline\n",
        "from sklearn.model_selection import cross_val_score\n",
        "from sklearn.model_selection import train_test_split\n",
        "from sklearn.model_selection import RepeatedStratifiedKFold\n",
        "from sklearn.ensemble import GradientBoostingClassifier\n",
        "from sklearn.tree import DecisionTreeClassifier\n",
        "from sklearn.ensemble import RandomForestClassifier\n",
        "from sklearn.neural_network import MLPClassifier\n",
        "from sklearn.svm import SVC\n",
        "from sklearn.ensemble import BaggingClassifier\n",
        "\n",
        "def load_dataset(filename):\n",
        "    df = pd.read_csv(filename)\n",
        "    X, y = df.iloc[:, :-1], df.iloc[:, -1]\n",
        "    cate_index = X.select_dtypes(include=['object']).columns\n",
        "    num_index = X.select_dtypes(include=['int64', 'float64']).columns\n",
        "    y = LabelEncoder().fit_transform(y)\n",
        "    return X, y, cate_index, num_index\n",
        "\n",
        "X, y, cate_index, num_index = load_dataset('/storage/adult_cleaned.csv')\n",
        "print(type(X))\n",
        "print(X.shape)\n",
        "print(type(y))\n",
        "print(y.shape)"
      ]
    },
    {
      "cell_type": "code",
      "execution_count": null,
      "metadata": {
        "id": "jbAO41v_XMAj"
      },
      "outputs": [],
      "source": [
        "def generate_models():\n",
        "    models, names = [], []\n",
        "    names.append('CART')\n",
        "    models.append(DecisionTreeClassifier())\n",
        "    names.append('SVM')\n",
        "    models.append(SVC(gamma='scale'))\n",
        "    names.append('BAG')\n",
        "    models.append(BaggingClassifier(n_estimators=100))\n",
        "    names.append('RF')\n",
        "    models.append(RandomForestClassifier(n_estimators=100))\n",
        "    names.append('GBM')\n",
        "    models.append(GradientBoostingClassifier(n_estimators=100))\n",
        "    names.append('Neural Network')\n",
        "    models.append(MLPClassifier(early_stopping=True))\n",
        "    return models, names\n",
        "\n",
        "models, names = generate_models()"
      ]
    },
    {
      "cell_type": "markdown",
      "metadata": {
        "id": "g87AkHAuXMAj"
      },
      "source": [
        "As now the X array still in pandas `DataFrame` with categorical values, here we need to \"encoding\" the categorical values into numerical values, [OneHotEncoder](https://scikit-learn.org/stable/modules/generated/sklearn.preprocessing.OneHotEncoder.html) with Scikit-Learn [Pipeline](https://scikit-learn.org/stable/modules/generated/sklearn.pipeline.Pipeline.html) are quite handy"
      ]
    },
    {
      "cell_type": "code",
      "execution_count": null,
      "metadata": {
        "id": "_6lev_r0XMAj",
        "outputId": "ccf4cbb8-3103-4021-d99b-bc709a577c0b"
      },
      "outputs": [
        {
          "name": "stdout",
          "output_type": "stream",
          "text": [
            "[ColumnTransformer] ... (1 of 2) Processing Categorical, total=   0.1s\n",
            "[ColumnTransformer] ..... (2 of 2) Processing Numerical, total=   0.0s\n",
            "<class 'scipy.sparse.csr.csr_matrix'>\n",
            "(48842, 105)\n"
          ]
        }
      ],
      "source": [
        "steps = [('Categorical', OneHotEncoder(handle_unknown='ignore'), cate_index), ('Numerical', MinMaxScaler(), num_index)]\n",
        "\n",
        "from sklearn.compose import ColumnTransformer\n",
        "transformer = ColumnTransformer(steps, verbose=True)\n",
        "X = transformer.fit_transform(X)\n",
        "\n",
        "print(type(X))\n",
        "print(X.shape)"
      ]
    },
    {
      "cell_type": "code",
      "execution_count": null,
      "metadata": {
        "id": "BMpdewY7XMAk",
        "outputId": "304804eb-5922-40b3-8584-841781bd6aa4"
      },
      "outputs": [
        {
          "name": "stdout",
          "output_type": "stream",
          "text": [
            "(34189, 105)\n",
            "(14653, 105)\n",
            "(34189,)\n",
            "(14653,)\n"
          ]
        }
      ],
      "source": [
        "from sklearn.model_selection import train_test_split\n",
        "\n",
        "X_train, X_test, y_train, y_test = train_test_split(X, y, test_size=0.3, random_state=42, stratify=y)\n",
        "print(X_train.shape)\n",
        "print(X_test.shape)\n",
        "print(y_train.shape)\n",
        "print(y_test.shape)"
      ]
    },
    {
      "cell_type": "code",
      "execution_count": null,
      "metadata": {
        "id": "H5HdvZhPXMAk"
      },
      "outputs": [],
      "source": [
        "# filter unwanted warning\n",
        "import warnings\n",
        "warnings.filterwarnings('ignore')"
      ]
    },
    {
      "cell_type": "code",
      "execution_count": null,
      "metadata": {
        "id": "Tphj7mgXXMAk",
        "outputId": "8301d4c8-1224-463d-b488-d863c058231f"
      },
      "outputs": [
        {
          "name": "stdout",
          "output_type": "stream",
          "text": [
            "\n",
            "    ********************************\n",
            "     Now evaluating CART model\n",
            "    ********************************\n",
            "\n",
            "The CART model average accuracy is: 81.20%, with Standard Deviation: 0.70.\n",
            "\n",
            "    ********************************\n",
            "     Now evaluating SVM model\n",
            "    ********************************\n",
            "\n",
            "The SVM model average accuracy is: 84.61%, with Standard Deviation: 0.61.\n",
            "\n",
            "    ********************************\n",
            "     Now evaluating BAG model\n",
            "    ********************************\n",
            "\n",
            "The BAG model average accuracy is: 85.24%, with Standard Deviation: 0.54.\n",
            "\n",
            "    ********************************\n",
            "     Now evaluating RF model\n",
            "    ********************************\n",
            "\n",
            "The RF model average accuracy is: 84.99%, with Standard Deviation: 0.58.\n",
            "\n",
            "    ********************************\n",
            "     Now evaluating GBM model\n",
            "    ********************************\n",
            "\n",
            "The GBM model average accuracy is: 86.31%, with Standard Deviation: 0.47.\n",
            "\n",
            "    ********************************\n",
            "     Now evaluating Neural Network model\n",
            "    ********************************\n",
            "\n",
            "The Neural Network model average accuracy is: 85.00%, with Standard Deviation: 0.58.\n"
          ]
        }
      ],
      "source": [
        "# evaluate each model in default parameters\n",
        "for i in range(len(models)):\n",
        "    print(f\"\"\"\n",
        "    ********************************\n",
        "     Now evaluating {names[i]} model\n",
        "    ********************************\\n\"\"\")\n",
        "    \n",
        "    scores = evaluate_model(X_train, y_train, models[i])\n",
        "    print(f\"The {names[i]} model average accuracy is: {(np.mean(scores)*100):.2f}%, with Standard Deviation: {(np.std(scores)*100):.2f}.\")"
      ]
    },
    {
      "cell_type": "markdown",
      "metadata": {
        "id": "XFJNOXkMXMAl"
      },
      "source": [
        "In this case, we can see that all of the chosen algorithms are skillful, achieving a classification accuracy above `76.07%`. We can see that the ensemble decision tree algorithms perform the best with perhaps stochastic gradient boosting performing the best with a classification accuracy of about `86.3%`.\n",
        "\n",
        "This accuracy is using the default Hyperperameter, we can pick two top performance algorithms to use scikit-learn `GridSearch()` to fine turn the Hyperperameter to see whether it can get better performance. \n",
        "\n",
        "The best two performance algorithms: \n",
        "\n",
        "* BaggingClassfier(n_estimators=100)\n",
        "* GradientBoostingClassfier(n_estimators=100)\n",
        "\n",
        "We can try to fine turn this two model."
      ]
    },
    {
      "cell_type": "code",
      "execution_count": null,
      "metadata": {
        "id": "5vgIszkWXMAl"
      },
      "outputs": [],
      "source": [
        "# fine turn BaggingClassifier\n",
        "\n",
        "from sklearn.model_selection import GridSearchCV\n",
        "\n",
        "BAGgrid = {'n_estimators': [100, 200]}\n",
        "cv = RepeatedStratifiedKFold(n_splits=5, n_repeats=2, random_state=42)\n",
        "BAGclf = BaggingClassifier()\n",
        "BAGgrid_search = GridSearchCV(estimator=BAGclf, param_grid=BAGgrid, n_jobs=-1, cv=cv, \n",
        "                              scoring='accuracy', error_score=0)\n",
        "BAGgrid_result = BAGgrid_search.fit(X_train, y_train)"
      ]
    },
    {
      "cell_type": "code",
      "execution_count": null,
      "metadata": {
        "id": "WZDSTM7wXMAl",
        "outputId": "913aefd1-94b2-47c7-ee9a-57e34752f99a"
      },
      "outputs": [
        {
          "name": "stdout",
          "output_type": "stream",
          "text": [
            "0.8518822471349845\n",
            "{'n_estimators': 200}\n"
          ]
        }
      ],
      "source": [
        "print(BAGgrid_result.best_score_)\n",
        "print(BAGgrid_result.best_params_)"
      ]
    },
    {
      "cell_type": "code",
      "execution_count": null,
      "metadata": {
        "id": "8y71JtmSXMAm"
      },
      "outputs": [],
      "source": [
        "# fine turn GradientBoostingClassifier\n",
        "\n",
        "GBMgrid = {'n_estimators': [100, 200]}\n",
        "GBMclf = GradientBoostingClassifier(learning_rate=0.1, min_samples_split=500, min_samples_leaf=50, \n",
        "                                    max_depth=8, max_features='sqrt', subsample=0.8, random_state=42)\n",
        "GBMgrid_search = GridSearchCV(estimator=GBMclf, param_grid=GBMgrid, n_jobs=-1, cv=cv,\n",
        "                              scoring='accuracy', error_score=0)\n",
        "GBMgrid_result = GBMgrid_search.fit(X_train, y_train)"
      ]
    },
    {
      "cell_type": "code",
      "execution_count": null,
      "metadata": {
        "id": "Jf1vKwdJXMAm",
        "outputId": "f23c50db-a7ca-460f-f19a-9b77c244fa23"
      },
      "outputs": [
        {
          "name": "stdout",
          "output_type": "stream",
          "text": [
            "0.8669747643525415\n",
            "{'n_estimators': 200}\n"
          ]
        }
      ],
      "source": [
        "print(GBMgrid_result.best_score_)\n",
        "print(GBMgrid_result.best_params_)"
      ]
    },
    {
      "cell_type": "markdown",
      "metadata": {
        "id": "_cM1e5qVXMAm"
      },
      "source": [
        "Well, seems like if the `n_estimators` is equal to 200, the GradientBoostingClassifier performance incrase to `86.69%`, then we can update our hyperparameter for GradientBoostingClassfier and train it according to our Training Subset, now we have the winner, is GradientBoostingClassifier algorithm. \n",
        "\n",
        "Actually using `GridSearchCV` is quite computational expensive, I would suggest to use Cloud Notebook Envirnoment, such Google Colab, AWS, or Google Cloud or Gradient, or Kaggle, both of them provide quite power CPU and tons of memory, and most important, they provide free GPU in certain amount of time"
      ]
    },
    {
      "cell_type": "markdown",
      "metadata": {
        "id": "MDSeu-5MXMAn"
      },
      "source": [
        "# Final: Train the best model, save it, and deliver to customer. \n",
        "We pick GradientBoostingClassifier as our final model, we will train it with Training Subset, and see how it goes in Testing Subset, then finally we will save it and deliver to our customer. "
      ]
    },
    {
      "cell_type": "code",
      "execution_count": null,
      "metadata": {
        "id": "lfIZwmP8XMAn",
        "outputId": "39b6b50c-1612-4a37-d298-2dfac7248223"
      },
      "outputs": [
        {
          "data": {
            "text/plain": [
              "GradientBoostingClassifier(ccp_alpha=0.0, criterion='friedman_mse', init=None,\n",
              "                           learning_rate=0.1, loss='deviance', max_depth=8,\n",
              "                           max_features='sqrt', max_leaf_nodes=None,\n",
              "                           min_impurity_decrease=0.0, min_impurity_split=None,\n",
              "                           min_samples_leaf=50, min_samples_split=500,\n",
              "                           min_weight_fraction_leaf=0.0, n_estimators=200,\n",
              "                           n_iter_no_change=None, presort='deprecated',\n",
              "                           random_state=42, subsample=0.8, tol=0.0001,\n",
              "                           validation_fraction=0.1, verbose=0,\n",
              "                           warm_start=False)"
            ]
          },
          "execution_count": 23,
          "metadata": {},
          "output_type": "execute_result"
        }
      ],
      "source": [
        "model = GradientBoostingClassifier(n_estimators=200, learning_rate=0.1, min_samples_split=500, min_samples_leaf=50, \n",
        "                                   max_depth=8, max_features='sqrt', subsample=0.8, random_state=42)\n",
        "\n",
        "model.fit(X_train, y_train)"
      ]
    },
    {
      "cell_type": "code",
      "execution_count": null,
      "metadata": {
        "id": "fvQ0GFgnXMAn",
        "outputId": "0b91e3d9-6e45-450f-af20-a9f9dde14793"
      },
      "outputs": [
        {
          "name": "stdout",
          "output_type": "stream",
          "text": [
            "The model test set accuracy is: 87.4%.\n"
          ]
        }
      ],
      "source": [
        "# evaluate the testing subset\n",
        "TestScore = model.score(X_test, y_test)\n",
        "print(f\"The model test set accuracy is: {(TestScore*100):.1f}%.\")"
      ]
    },
    {
      "cell_type": "code",
      "execution_count": null,
      "metadata": {
        "id": "AowTfi_cXMAo",
        "outputId": "df75a3f5-b31e-4570-888e-9340b34a5b93"
      },
      "outputs": [
        {
          "name": "stdout",
          "output_type": "stream",
          "text": [
            "              precision    recall  f1-score   support\n",
            "\n",
            "           0       0.90      0.94      0.92     11147\n",
            "           1       0.79      0.65      0.71      3506\n",
            "\n",
            "    accuracy                           0.87     14653\n",
            "   macro avg       0.84      0.80      0.82     14653\n",
            "weighted avg       0.87      0.87      0.87     14653\n",
            "\n"
          ]
        }
      ],
      "source": [
        "# perform the Classification Report\n",
        "from sklearn.metrics import classification_report\n",
        "\n",
        "predicted = model.predict(X_test)\n",
        "print(classification_report(y_test, predicted))\n"
      ]
    },
    {
      "cell_type": "code",
      "execution_count": null,
      "metadata": {
        "id": "wwmB2SrYXMAo",
        "outputId": "f6dfe7e8-9fda-4402-955c-c288f23625f0"
      },
      "outputs": [
        {
          "data": {
            "text/plain": [
              "['storage/final_model.sav']"
            ]
          },
          "execution_count": 31,
          "metadata": {},
          "output_type": "execute_result"
        }
      ],
      "source": [
        "# to save the model\n",
        "import joblib\n",
        "joblib.dump(model, 'storage/final_model.sav')"
      ]
    },
    {
      "cell_type": "markdown",
      "metadata": {
        "id": "x_emZciKXMAo"
      },
      "source": [
        "# Further Reading\n",
        "\n",
        "## Paper\n",
        "\n",
        "* [Scaling Up The Accuracy of Naive-bayes Classifiers: A Decision-tree Hybrid](https://dl.acm.org/citation.cfm?id=3001502), 1996\n",
        "\n",
        "## APIs\n",
        "\n",
        "* [pandas.DataFrame.select_dtypes API](https://pandas.pydata.org/pandas-docs/stable/reference/api/pandas.DataFrame.select_dtypes.html)\n",
        "* [sklearn.model_selection.RepeatedStratifiedKFold API](https://scikit-learn.org/stable/modules/generated/sklearn.model_selection.RepeatedStratifiedKFold.html)\n",
        "* [sklearn.dummy.DummyClassifier API](https://scikit-learn.org/stable/modules/generated/sklearn.dummy.DummyClassifier.html)\n",
        "* [pandas.DataFrame.mode() API](https://pandas.pydata.org/pandas-docs/stable/reference/api/pandas.DataFrame.mode.html)\n"
      ]
    },
    {
      "cell_type": "code",
      "execution_count": null,
      "metadata": {
        "id": "m3MwkwC5XMAo"
      },
      "outputs": [],
      "source": [
        ""
      ]
    }
  ],
  "metadata": {
    "file_extension": ".py",
    "kernelspec": {
      "display_name": "Python 3",
      "language": "python",
      "name": "python3"
    },
    "language_info": {
      "codemirror_mode": {
        "name": "ipython",
        "version": 3
      },
      "file_extension": ".py",
      "mimetype": "text/x-python",
      "name": "python",
      "nbconvert_exporter": "python",
      "pygments_lexer": "ipython3",
      "version": "3.7.6"
    },
    "mimetype": "text/x-python",
    "name": "python",
    "npconvert_exporter": "python",
    "pygments_lexer": "ipython3",
    "version": 3,
    "colab": {
      "name": "2020-03-24-End-to-End Data Science Project with Adult Income Dataset.ipynb",
      "provenance": [],
      "include_colab_link": true
    }
  },
  "nbformat": 4,
  "nbformat_minor": 0
}